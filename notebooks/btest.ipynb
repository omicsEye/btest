{
 "cells": [
  {
   "cell_type": "markdown",
   "metadata": {
    "colab_type": "text",
    "id": "AmPqBsydh5J-"
   },
   "source": [
    "# *btest* initial steps\n",
    "\n",
    "step-by-step"
   ]
  },
  {
   "cell_type": "code",
   "execution_count": 1,
   "metadata": {},
   "outputs": [],
   "source": [
    "import argparse\n",
    "import csv\n",
    "import itertools\n",
    "import logging\n",
    "import os\n",
    "import sys\n",
    "import shutil\n",
    "import time\n",
    "import math\n",
    "import random\n",
    "from scipy.stats import pearsonr\n",
    "import numpy as np\n",
    "import pandas as pd\n",
    "import math\n",
    "from scipy.stats import spearmanr\n",
    "from btest import config\n",
    "from btest import utils\n",
    "from btest import blockplot\n",
    "from scipy.stats import t"
   ]
  },
  {
   "cell_type": "code",
   "execution_count": 2,
   "metadata": {},
   "outputs": [],
   "source": [
    "method = 'spearman'\n",
    "min_var = 0.0\n",
    "fdr =0.1"
   ]
  },
  {
   "cell_type": "code",
   "execution_count": 3,
   "metadata": {},
   "outputs": [
    {
     "name": "stdout",
     "output_type": "stream",
     "text": [
      "Dataset X dimension  after cleaning:  (100, 50)\n",
      "Dataset Y dimension  after cleaning:  (100, 50)\n"
     ]
    }
   ],
   "source": [
    "dataX , dataY, featuresX, featuresY  = utils.readData('../demo/X_dataset.txt', '../demo/Y_dataset.txt', min_var=min_var)"
   ]
  },
  {
   "cell_type": "code",
   "execution_count": 4,
   "metadata": {},
   "outputs": [
    {
     "name": "stdout",
     "output_type": "stream",
     "text": [
      "CPU times: user 7.8 s, sys: 47.1 ms, total: 7.85 s\n",
      "Wall time: 7.98 s\n"
     ]
    }
   ],
   "source": [
    "%%time\n",
    "within_X = utils.btest_corr(dataX, featuresX, method=method, fdr=fdr, Type='withinX')\n",
    "within_Y  = utils.btest_corr(dataY, featuresY, method=method, fdr=fdr, Type='withinY')\n",
    "dataAll = np.concatenate((dataX, dataY), axis=0)\n",
    "X_Y = utils.btest_corr(dataAll, featuresX, featuresY, method=method, fdr=fdr, Type='X_Y')"
   ]
  },
  {
   "cell_type": "code",
   "execution_count": 5,
   "outputs": [
    {
     "data": {
      "text/plain": "     Feature_1 Feature_2      pval  Correlation  Not_NAs   P_adusted  \\\n165         X1       Y66  0.021416     0.327972       49  212.013466   \n174         X1       Y75  0.033062     0.305052       49  163.658486   \n2747       X27       Y74  0.036443     0.296654       50  120.262541   \n173         X1       Y74  0.040235     0.294122       49   99.582635   \n1526       X15       Y41  0.042550     0.287992       50   84.249800   \n\n      bh_fdr_threshold Type  \n165            0.65493  X_Y  \n174            0.65493  X_Y  \n2747           0.65493  X_Y  \n173            0.65493  X_Y  \n1526           0.65493  X_Y  ",
      "text/html": "<div>\n<style scoped>\n    .dataframe tbody tr th:only-of-type {\n        vertical-align: middle;\n    }\n\n    .dataframe tbody tr th {\n        vertical-align: top;\n    }\n\n    .dataframe thead th {\n        text-align: right;\n    }\n</style>\n<table border=\"1\" class=\"dataframe\">\n  <thead>\n    <tr style=\"text-align: right;\">\n      <th></th>\n      <th>Feature_1</th>\n      <th>Feature_2</th>\n      <th>pval</th>\n      <th>Correlation</th>\n      <th>Not_NAs</th>\n      <th>P_adusted</th>\n      <th>bh_fdr_threshold</th>\n      <th>Type</th>\n    </tr>\n  </thead>\n  <tbody>\n    <tr>\n      <th>165</th>\n      <td>X1</td>\n      <td>Y66</td>\n      <td>0.021416</td>\n      <td>0.327972</td>\n      <td>49</td>\n      <td>212.013466</td>\n      <td>0.65493</td>\n      <td>X_Y</td>\n    </tr>\n    <tr>\n      <th>174</th>\n      <td>X1</td>\n      <td>Y75</td>\n      <td>0.033062</td>\n      <td>0.305052</td>\n      <td>49</td>\n      <td>163.658486</td>\n      <td>0.65493</td>\n      <td>X_Y</td>\n    </tr>\n    <tr>\n      <th>2747</th>\n      <td>X27</td>\n      <td>Y74</td>\n      <td>0.036443</td>\n      <td>0.296654</td>\n      <td>50</td>\n      <td>120.262541</td>\n      <td>0.65493</td>\n      <td>X_Y</td>\n    </tr>\n    <tr>\n      <th>173</th>\n      <td>X1</td>\n      <td>Y74</td>\n      <td>0.040235</td>\n      <td>0.294122</td>\n      <td>49</td>\n      <td>99.582635</td>\n      <td>0.65493</td>\n      <td>X_Y</td>\n    </tr>\n    <tr>\n      <th>1526</th>\n      <td>X15</td>\n      <td>Y41</td>\n      <td>0.042550</td>\n      <td>0.287992</td>\n      <td>50</td>\n      <td>84.249800</td>\n      <td>0.65493</td>\n      <td>X_Y</td>\n    </tr>\n  </tbody>\n</table>\n</div>"
     },
     "execution_count": 5,
     "metadata": {},
     "output_type": "execute_result"
    }
   ],
   "source": [
    "X_Y.head()"
   ],
   "metadata": {
    "collapsed": false
   }
  },
  {
   "cell_type": "code",
   "execution_count": 6,
   "outputs": [
    {
     "data": {
      "text/plain": "   Feature_1 Feature_2      pval  Correlation  Not_NAs  P_adusted  \\\n66        X0       Y66  0.119186     0.223218       50   5.021027   \n\n    bh_fdr_threshold Type  \n66           0.65493  X_Y  ",
      "text/html": "<div>\n<style scoped>\n    .dataframe tbody tr th:only-of-type {\n        vertical-align: middle;\n    }\n\n    .dataframe tbody tr th {\n        vertical-align: top;\n    }\n\n    .dataframe thead th {\n        text-align: right;\n    }\n</style>\n<table border=\"1\" class=\"dataframe\">\n  <thead>\n    <tr style=\"text-align: right;\">\n      <th></th>\n      <th>Feature_1</th>\n      <th>Feature_2</th>\n      <th>pval</th>\n      <th>Correlation</th>\n      <th>Not_NAs</th>\n      <th>P_adusted</th>\n      <th>bh_fdr_threshold</th>\n      <th>Type</th>\n    </tr>\n  </thead>\n  <tbody>\n    <tr>\n      <th>66</th>\n      <td>X0</td>\n      <td>Y66</td>\n      <td>0.119186</td>\n      <td>0.223218</td>\n      <td>50</td>\n      <td>5.021027</td>\n      <td>0.65493</td>\n      <td>X_Y</td>\n    </tr>\n  </tbody>\n</table>\n</div>"
     },
     "execution_count": 6,
     "metadata": {},
     "output_type": "execute_result"
    }
   ],
   "source": [
    "X_Y[(X_Y['Feature_1']=='X0')&(X_Y['Feature_2']=='Y66')]"
   ],
   "metadata": {
    "collapsed": false
   }
  },
  {
   "cell_type": "code",
   "execution_count": 7,
   "metadata": {},
   "outputs": [
    {
     "name": "stdout",
     "output_type": "stream",
     "text": [
      "CPU times: user 115 ms, sys: 4.26 ms, total: 120 ms\n",
      "Wall time: 120 ms\n"
     ]
    }
   ],
   "source": [
    "%%time\n",
    "X_Y_3 = utils.btest_corr_3(dataAll, featuresX, featuresY, method=method, fdr=fdr, Type='X_Y')"
   ]
  },
  {
   "cell_type": "code",
   "execution_count": 8,
   "outputs": [
    {
     "data": {
      "text/plain": "  Feature_1 Feature_2  complete_obs  Correlation  t_statistic  pval  \\\n0        X0        X1            49     0.909559    15.004829   0.0   \n1        X0        X2            50     0.909350    15.143494   0.0   \n2        X0        X3            50     0.932087    17.827314   0.0   \n3        X0        X4            49     0.931758    17.593340   0.0   \n4        X0        X5            50     0.934547    18.195678   0.0   \n\n   P_adusted  bh_fdr_threshold Type  \n0        0.0          0.016883  X_X  \n1        0.0          0.016883  X_X  \n2        0.0          0.016883  X_X  \n3        0.0          0.016883  X_X  \n4        0.0          0.016883  X_X  ",
      "text/html": "<div>\n<style scoped>\n    .dataframe tbody tr th:only-of-type {\n        vertical-align: middle;\n    }\n\n    .dataframe tbody tr th {\n        vertical-align: top;\n    }\n\n    .dataframe thead th {\n        text-align: right;\n    }\n</style>\n<table border=\"1\" class=\"dataframe\">\n  <thead>\n    <tr style=\"text-align: right;\">\n      <th></th>\n      <th>Feature_1</th>\n      <th>Feature_2</th>\n      <th>complete_obs</th>\n      <th>Correlation</th>\n      <th>t_statistic</th>\n      <th>pval</th>\n      <th>P_adusted</th>\n      <th>bh_fdr_threshold</th>\n      <th>Type</th>\n    </tr>\n  </thead>\n  <tbody>\n    <tr>\n      <th>0</th>\n      <td>X0</td>\n      <td>X1</td>\n      <td>49</td>\n      <td>0.909559</td>\n      <td>15.004829</td>\n      <td>0.0</td>\n      <td>0.0</td>\n      <td>0.016883</td>\n      <td>X_X</td>\n    </tr>\n    <tr>\n      <th>1</th>\n      <td>X0</td>\n      <td>X2</td>\n      <td>50</td>\n      <td>0.909350</td>\n      <td>15.143494</td>\n      <td>0.0</td>\n      <td>0.0</td>\n      <td>0.016883</td>\n      <td>X_X</td>\n    </tr>\n    <tr>\n      <th>2</th>\n      <td>X0</td>\n      <td>X3</td>\n      <td>50</td>\n      <td>0.932087</td>\n      <td>17.827314</td>\n      <td>0.0</td>\n      <td>0.0</td>\n      <td>0.016883</td>\n      <td>X_X</td>\n    </tr>\n    <tr>\n      <th>3</th>\n      <td>X0</td>\n      <td>X4</td>\n      <td>49</td>\n      <td>0.931758</td>\n      <td>17.593340</td>\n      <td>0.0</td>\n      <td>0.0</td>\n      <td>0.016883</td>\n      <td>X_X</td>\n    </tr>\n    <tr>\n      <th>4</th>\n      <td>X0</td>\n      <td>X5</td>\n      <td>50</td>\n      <td>0.934547</td>\n      <td>18.195678</td>\n      <td>0.0</td>\n      <td>0.0</td>\n      <td>0.016883</td>\n      <td>X_X</td>\n    </tr>\n  </tbody>\n</table>\n</div>"
     },
     "execution_count": 8,
     "metadata": {},
     "output_type": "execute_result"
    }
   ],
   "source": [
    "X_Y_3.head()"
   ],
   "metadata": {
    "collapsed": false
   }
  },
  {
   "cell_type": "code",
   "execution_count": 9,
   "outputs": [
    {
     "data": {
      "text/plain": "    Feature_1 Feature_2  complete_obs  Correlation  t_statistic      pval  \\\n165        X0       Y66            50     0.223218     1.586529  0.119186   \n\n     P_adusted  bh_fdr_threshold Type  \n165   0.588975          0.016883  X_Y  ",
      "text/html": "<div>\n<style scoped>\n    .dataframe tbody tr th:only-of-type {\n        vertical-align: middle;\n    }\n\n    .dataframe tbody tr th {\n        vertical-align: top;\n    }\n\n    .dataframe thead th {\n        text-align: right;\n    }\n</style>\n<table border=\"1\" class=\"dataframe\">\n  <thead>\n    <tr style=\"text-align: right;\">\n      <th></th>\n      <th>Feature_1</th>\n      <th>Feature_2</th>\n      <th>complete_obs</th>\n      <th>Correlation</th>\n      <th>t_statistic</th>\n      <th>pval</th>\n      <th>P_adusted</th>\n      <th>bh_fdr_threshold</th>\n      <th>Type</th>\n    </tr>\n  </thead>\n  <tbody>\n    <tr>\n      <th>165</th>\n      <td>X0</td>\n      <td>Y66</td>\n      <td>50</td>\n      <td>0.223218</td>\n      <td>1.586529</td>\n      <td>0.119186</td>\n      <td>0.588975</td>\n      <td>0.016883</td>\n      <td>X_Y</td>\n    </tr>\n  </tbody>\n</table>\n</div>"
     },
     "execution_count": 9,
     "metadata": {},
     "output_type": "execute_result"
    }
   ],
   "source": [
    "X_Y_3[(X_Y_3['Feature_1']=='X0')&(X_Y_3['Feature_2']=='Y66')]"
   ],
   "metadata": {
    "collapsed": false
   }
  },
  {
   "cell_type": "code",
   "execution_count": 11,
   "outputs": [
    {
     "data": {
      "text/plain": "X_Y    10000\nX_X     4950\nY_Y     4950\nName: Type, dtype: int64"
     },
     "execution_count": 11,
     "metadata": {},
     "output_type": "execute_result"
    }
   ],
   "source": [
    "X_Y_3.loc[:,'Type'].value_counts()"
   ],
   "metadata": {
    "collapsed": false
   }
  },
  {
   "cell_type": "code",
   "execution_count": null,
   "outputs": [],
   "source": [
    "X_Y[(X_Y['Feature_1']=='X0')&(X_Y['Feature_2']=='Y66')]"
   ],
   "metadata": {
    "collapsed": false
   }
  },
  {
   "cell_type": "code",
   "execution_count": null,
   "outputs": [],
   "source": [
    "X_Y_3.loc[:,'Type'] = X_Y_3.Feature_1.str[-1]+X_Y_3.Feature_2.str[-2:]"
   ],
   "metadata": {
    "collapsed": false
   }
  },
  {
   "cell_type": "code",
   "execution_count": null,
   "outputs": [],
   "source": [
    "X_Y_3.head()"
   ],
   "metadata": {
    "collapsed": false
   }
  },
  {
   "cell_type": "code",
   "execution_count": null,
   "metadata": {},
   "outputs": [],
   "source": [
    "dataAll = dataX\n",
    "features = featuresX\n",
    "features_y = None\n",
    "Type = 'withinX'\n",
    "iRow = list(range(0, len(features)))\n",
    "if Type == 'X_Y':\n",
    "    iCol = list(range(len(features), len(features)+len(features_y)-1))\n",
    "    features_y = features + features_y\n",
    "else:\n",
    "    features_y = features\n",
    "    iCol = list(range(len(features)))\n",
    "tests = []\n",
    "\n",
    "# creating the complete dataset\n",
    "dataAll2 = pd.DataFrame(dataAll.T, columns=features_y)\n",
    "cr = dataAll2.corr(method=method)\n",
    "\n",
    "# calculating t-statistics, based on the correlations\n",
    "t_stat = (cr*(dataAll2.shape[0]-2)**.5)/(1-cr**2)**.5\n",
    "\n",
    "# calculating p-values based on the t-statistics\n",
    "pv = 2 * (1 - t.cdf(abs(t_stat), df=dataAll2.shape[0]-2))\n",
    "#rho_long_format = cr.stack().reset_index().rename(columns={'level_0':'Feature_1','level_1':'Feature_2', 0:'Correlation'})\n",
    "#pval_long_format = pv.stack().reset_index().rename(columns={'level_0':'Feature_1','level_1':'Feature_2', 0:'pval'})\n",
    "#results = pd.concat([pval_long_format, rho_long_format[\"Correlation\"]], axis=1)\n"
   ]
  },
  {
   "cell_type": "code",
   "execution_count": null,
   "metadata": {},
   "outputs": [],
   "source": [
    "cr = cr.to_numpy()\n",
    "#pv = pv.to_numpy()"
   ]
  },
  {
   "cell_type": "code",
   "execution_count": null,
   "metadata": {},
   "outputs": [],
   "source": [
    "for i in iRow:\n",
    "    for j in iCol:\n",
    "        if i<=j:\n",
    "            #print(i, j)\n",
    "            #print(dataAll[i])\n",
    "            X = dataAll[i]\n",
    "            Y = dataAll[j]\n",
    "            nas = np.logical_or(X != X, Y != Y)\n",
    "            not_na = sum(~nas)\n",
    "            #X = Y[~nas]\n",
    "            #Y = Y[~nas]\n",
    "            #new_X, new_Y = remove_pairs_with_a_missing(X, Y)\n",
    "            correlation = cr[i, j]\n",
    "            pval =  pv[i, j]\n",
    "            tests.append([features[i], features_y[j], pval, correlation, not_na])\n",
    "results = pd.DataFrame(tests, columns=['Feature_1','Feature_2','pval', 'Correlation', 'Not_NAs'])\n",
    "\n",
    "p_adust, p_threshold = bh(results[\"pval\"].values, fdr)\n",
    "\n",
    "results[\"P_adusted\"] = p_adust\n",
    "results[\"bh_fdr_threshold\"] = p_threshold\n",
    "results['Type'] = Type\n",
    "results = results.sort_values(['pval', 'Correlation'],\n",
    "                              ascending=[True, False])"
   ]
  },
  {
   "cell_type": "code",
   "execution_count": null,
   "metadata": {},
   "outputs": [],
   "source": [
    "# feature names for the complete dataset\n",
    "featuresAll = featuresX.copy()\n",
    "featuresAll.extend(featuresY)"
   ]
  },
  {
   "cell_type": "code",
   "execution_count": null,
   "metadata": {},
   "outputs": [],
   "source": [
    "results"
   ]
  },
  {
   "cell_type": "code",
   "execution_count": null,
   "metadata": {},
   "outputs": [],
   "source": [
    "# creating the complete dataset\n",
    "dataAll_df = pd.DataFrame(dataAll.T, columns=featuresAll)"
   ]
  },
  {
   "cell_type": "code",
   "execution_count": null,
   "metadata": {},
   "outputs": [],
   "source": [
    "%%time\n",
    "# correlation\n",
    "cr = dataAll_df.corr(method='pearson')\n",
    "\n",
    "# calculaing t-statistics, based on the correlations\n",
    "t_stat = (cr*(dataAll_df.shape[0]-2)**.5)/(1-cr**2)**.5\n",
    "\n",
    "# calculating p-values based on the t-statistics\n",
    "pv = 2 * (1 - t.cdf(abs(t_stat), df=dataAll_df.shape[0]-2))"
   ]
  },
  {
   "cell_type": "code",
   "execution_count": null,
   "metadata": {},
   "outputs": [],
   "source": [
    "cr"
   ]
  },
  {
   "cell_type": "code",
   "execution_count": null,
   "metadata": {},
   "outputs": [],
   "source": [
    "%%time\n",
    "# correlation\n",
    "cr = dataAll_df.corr(method='pearson')\n",
    "\n",
    "# calculaing t-statistics, based on the correlations\n",
    "t_stat = (cr*(dataAll_df.shape[0]-2)**.5)/(1-cr**2)**.5\n",
    "\n",
    "# calculating p-values based on the t-statistics\n",
    "pv = 2 * (1 - t.cdf(abs(t_stat), df=dataAll_df.shape[0]-2))"
   ]
  },
  {
   "cell_type": "code",
   "execution_count": null,
   "metadata": {},
   "outputs": [],
   "source": [
    "X_Y"
   ]
  },
  {
   "cell_type": "code",
   "execution_count": null,
   "metadata": {},
   "outputs": [],
   "source": [
    "within_X"
   ]
  },
  {
   "cell_type": "code",
   "execution_count": null,
   "metadata": {},
   "outputs": [],
   "source": [
    "within_Y"
   ]
  },
  {
   "cell_type": "code",
   "execution_count": null,
   "metadata": {},
   "outputs": [],
   "source": [
    "X_Y.pval"
   ]
  },
  {
   "cell_type": "code",
   "execution_count": null,
   "metadata": {},
   "outputs": [],
   "source": [
    "outputpath = \"/Users/rah/Documents/omicsEye/btest/demo/btest_output\"\n",
    "os.makedirs(outputpath, exist_ok=True)\n",
    "X_Y.to_csv(outputpath + '/X_Y.tsv', sep=\"\\t\")\n",
    "#rho_X = rho.iloc[0:500, 0:500]\n",
    "#rho_X.to_csv(outputpath + '/simtable_X.tsv', sep=\"\\t\")\n",
    "#rho_X_Y.to_csv(outputpath + '/simtable.tsv', sep=\"\\t\")\n",
    "within_X.to_csv(outputpath + '/within_X.tsv', sep=\"\\t\")\n",
    "within_Y.to_csv(outputpath + '/within_Y.tsv', sep=\"\\t\")"
   ]
  },
  {
   "cell_type": "code",
   "execution_count": null,
   "metadata": {},
   "outputs": [],
   "source": [
    "#associations = blockplot.load_associations(path = outputpath + '/X_Y.tsv')\n",
    "associations = blockplot.load_associations('/Users/rah/Dropbox/Ali-Docs/Research_docs/Projects/VastBiome/analysis/btest_bgc_mgx_replaceNA_FALSE_cov_25_measure_rpkg_mbx_pair_spearman_new/X_Y.tsv')"
   ]
  },
  {
   "cell_type": "code",
   "execution_count": null,
   "metadata": {},
   "outputs": [],
   "source": [
    "outputpath"
   ]
  },
  {
   "cell_type": "code",
   "execution_count": null,
   "metadata": {},
   "outputs": [],
   "source": [
    "associations"
   ]
  },
  {
   "cell_type": "code",
   "execution_count": null,
   "metadata": {},
   "outputs": [],
   "source": [
    "#simtable = blockplot.load_order_table(outputpath + '/simtable.tsv', associations)\n",
    "simtable = blockplot.load_order_table('/Users/rah/Dropbox/Ali-Docs/Research_docs/Projects/VastBiome/analysis/btest_bgc_mgx_replaceNA_FALSE_cov_25_measure_rpkg_mbx_pair_spearman_new//simtable.tsv', associations)"
   ]
  },
  {
   "cell_type": "code",
   "execution_count": null,
   "metadata": {},
   "outputs": [],
   "source": [
    "X_Y"
   ]
  },
  {
   "cell_type": "code",
   "execution_count": null,
   "metadata": {},
   "outputs": [],
   "source": [
    "blockplot.plot(\n",
    "    simtable,\n",
    "    associations,\n",
    "    cmap=\"RdBu_r\",\n",
    "    mask=False,\n",
    "    axlabels=[\"\",\"\"],\n",
    "    outfile=\"/Users/rah/Documents/omicsEye/btest/demo/btest_output/blockplot.pdf\",\n",
    "    similarity=\"Spearman\"\n",
    ")"
   ]
  },
  {
   "cell_type": "code",
   "execution_count": null,
   "metadata": {},
   "outputs": [],
   "source": []
  }
 ],
 "metadata": {
  "accelerator": "TPU",
  "colab": {
   "collapsed_sections": [
    "yfILUg1HmAkM"
   ],
   "machine_shape": "hm",
   "name": "15-Ensemble-Evaluation.ipynb",
   "provenance": []
  },
  "kernelspec": {
   "display_name": "Python 3 (ipykernel)",
   "language": "python",
   "name": "python3"
  },
  "language_info": {
   "codemirror_mode": {
    "name": "ipython",
    "version": 3
   },
   "file_extension": ".py",
   "mimetype": "text/x-python",
   "name": "python",
   "nbconvert_exporter": "python",
   "pygments_lexer": "ipython3",
   "version": "3.8.13"
  }
 },
 "nbformat": 4,
 "nbformat_minor": 1
}
