{
 "cells": [
  {
   "cell_type": "markdown",
   "metadata": {
    "colab_type": "text",
    "id": "AmPqBsydh5J-",
    "pycharm": {
     "name": "#%% md\n"
    }
   },
   "source": [
    "# 15 Ensemble Evaluation\n",
    "\n",
    "Here I take the results from the hyperparameter search in step 14, create an ensemble, and evaluate the results."
   ]
  },
  {
   "cell_type": "code",
   "execution_count": 133,
   "outputs": [],
   "source": [
    "import argparse\n",
    "import csv\n",
    "import itertools\n",
    "import logging\n",
    "import os\n",
    "import shutil\n",
    "import time\n",
    "import math\n",
    "import random\n",
    "from scipy.stats import pearsonr\n",
    "import numpy as np\n",
    "import pandas as pd\n"
   ],
   "metadata": {
    "collapsed": false,
    "pycharm": {
     "name": "#%%\n"
    }
   }
  },
  {
   "cell_type": "code",
   "execution_count": 134,
   "outputs": [],
   "source": [
    "dataX = pd.read_table('/Users/rah/Documents/omicsEye/btest/demo/X_dataset.txt', index_col=0, header=0)"
   ],
   "metadata": {
    "collapsed": false,
    "pycharm": {
     "name": "#%%\n"
    }
   }
  },
  {
   "cell_type": "code",
   "execution_count": 135,
   "outputs": [],
   "source": [
    "dataY = pd.read_table('/Users/rah/Documents/omicsEye/btest/demo/Y_dataset.txt', index_col=0, header=0)"
   ],
   "metadata": {
    "collapsed": false,
    "pycharm": {
     "name": "#%%\n"
    }
   }
  },
  {
   "cell_type": "code",
   "execution_count": 136,
   "outputs": [
    {
     "data": {
      "text/plain": "     S0  S1  S2  S3  S4  S5  S6  S7  S8  S9  ...  S40  S41  S42  S43  S44  \\\n0     4   5   2   3   1   3   4   5   6   4  ...    3    5    6    4    1   \n1     4   5   3   2   1   4   3   5   6   4  ...    2    5    6    2    1   \n2     4   5   3   2   1   4   3   5   6   4  ...    3    5    6    3    1   \n3     4   5   2   3   1   4   3   5   6   4  ...    3    5    6    3    1   \n4     4   5   2   2   1   4   3   5   6   4  ...    3    5    6    3    1   \n..   ..  ..  ..  ..  ..  ..  ..  ..  ..  ..  ...  ...  ...  ...  ...  ...   \n495   4   5   6   1   6   1   3   2   4   5  ...    1    3    1    3    1   \n496   4   5   6   3   6   3   1   1   2   5  ...    2    1    4    2    3   \n497   1   3   6   4   5   4   1   2   3   6  ...    2    3    4    3    1   \n498   3   4   6   2   6   2   4   1   5   5  ...    2    4    1    3    3   \n499   4   5   6   4   6   4   1   3   3   4  ...    2    2    3    3    3   \n\n     S45  S46  S47  S48  S49  \n0      4    4    6    1    2  \n1      4    3    6    2    2  \n2      4    3    6    1    1  \n3      4    3    6    1    2  \n4      4    3    6    2    1  \n..   ...  ...  ...  ...  ...  \n495    2    3    3    4    6  \n496    4    1    1    4    6  \n497    4    1    3    5    5  \n498    2    4    1    4    6  \n499    2    1    1    4    6  \n\n[500 rows x 50 columns]",
      "text/html": "<div>\n<style scoped>\n    .dataframe tbody tr th:only-of-type {\n        vertical-align: middle;\n    }\n\n    .dataframe tbody tr th {\n        vertical-align: top;\n    }\n\n    .dataframe thead th {\n        text-align: right;\n    }\n</style>\n<table border=\"1\" class=\"dataframe\">\n  <thead>\n    <tr style=\"text-align: right;\">\n      <th></th>\n      <th>S0</th>\n      <th>S1</th>\n      <th>S2</th>\n      <th>S3</th>\n      <th>S4</th>\n      <th>S5</th>\n      <th>S6</th>\n      <th>S7</th>\n      <th>S8</th>\n      <th>S9</th>\n      <th>...</th>\n      <th>S40</th>\n      <th>S41</th>\n      <th>S42</th>\n      <th>S43</th>\n      <th>S44</th>\n      <th>S45</th>\n      <th>S46</th>\n      <th>S47</th>\n      <th>S48</th>\n      <th>S49</th>\n    </tr>\n  </thead>\n  <tbody>\n    <tr>\n      <th>0</th>\n      <td>4</td>\n      <td>5</td>\n      <td>2</td>\n      <td>3</td>\n      <td>1</td>\n      <td>3</td>\n      <td>4</td>\n      <td>5</td>\n      <td>6</td>\n      <td>4</td>\n      <td>...</td>\n      <td>3</td>\n      <td>5</td>\n      <td>6</td>\n      <td>4</td>\n      <td>1</td>\n      <td>4</td>\n      <td>4</td>\n      <td>6</td>\n      <td>1</td>\n      <td>2</td>\n    </tr>\n    <tr>\n      <th>1</th>\n      <td>4</td>\n      <td>5</td>\n      <td>3</td>\n      <td>2</td>\n      <td>1</td>\n      <td>4</td>\n      <td>3</td>\n      <td>5</td>\n      <td>6</td>\n      <td>4</td>\n      <td>...</td>\n      <td>2</td>\n      <td>5</td>\n      <td>6</td>\n      <td>2</td>\n      <td>1</td>\n      <td>4</td>\n      <td>3</td>\n      <td>6</td>\n      <td>2</td>\n      <td>2</td>\n    </tr>\n    <tr>\n      <th>2</th>\n      <td>4</td>\n      <td>5</td>\n      <td>3</td>\n      <td>2</td>\n      <td>1</td>\n      <td>4</td>\n      <td>3</td>\n      <td>5</td>\n      <td>6</td>\n      <td>4</td>\n      <td>...</td>\n      <td>3</td>\n      <td>5</td>\n      <td>6</td>\n      <td>3</td>\n      <td>1</td>\n      <td>4</td>\n      <td>3</td>\n      <td>6</td>\n      <td>1</td>\n      <td>1</td>\n    </tr>\n    <tr>\n      <th>3</th>\n      <td>4</td>\n      <td>5</td>\n      <td>2</td>\n      <td>3</td>\n      <td>1</td>\n      <td>4</td>\n      <td>3</td>\n      <td>5</td>\n      <td>6</td>\n      <td>4</td>\n      <td>...</td>\n      <td>3</td>\n      <td>5</td>\n      <td>6</td>\n      <td>3</td>\n      <td>1</td>\n      <td>4</td>\n      <td>3</td>\n      <td>6</td>\n      <td>1</td>\n      <td>2</td>\n    </tr>\n    <tr>\n      <th>4</th>\n      <td>4</td>\n      <td>5</td>\n      <td>2</td>\n      <td>2</td>\n      <td>1</td>\n      <td>4</td>\n      <td>3</td>\n      <td>5</td>\n      <td>6</td>\n      <td>4</td>\n      <td>...</td>\n      <td>3</td>\n      <td>5</td>\n      <td>6</td>\n      <td>3</td>\n      <td>1</td>\n      <td>4</td>\n      <td>3</td>\n      <td>6</td>\n      <td>2</td>\n      <td>1</td>\n    </tr>\n    <tr>\n      <th>...</th>\n      <td>...</td>\n      <td>...</td>\n      <td>...</td>\n      <td>...</td>\n      <td>...</td>\n      <td>...</td>\n      <td>...</td>\n      <td>...</td>\n      <td>...</td>\n      <td>...</td>\n      <td>...</td>\n      <td>...</td>\n      <td>...</td>\n      <td>...</td>\n      <td>...</td>\n      <td>...</td>\n      <td>...</td>\n      <td>...</td>\n      <td>...</td>\n      <td>...</td>\n      <td>...</td>\n    </tr>\n    <tr>\n      <th>495</th>\n      <td>4</td>\n      <td>5</td>\n      <td>6</td>\n      <td>1</td>\n      <td>6</td>\n      <td>1</td>\n      <td>3</td>\n      <td>2</td>\n      <td>4</td>\n      <td>5</td>\n      <td>...</td>\n      <td>1</td>\n      <td>3</td>\n      <td>1</td>\n      <td>3</td>\n      <td>1</td>\n      <td>2</td>\n      <td>3</td>\n      <td>3</td>\n      <td>4</td>\n      <td>6</td>\n    </tr>\n    <tr>\n      <th>496</th>\n      <td>4</td>\n      <td>5</td>\n      <td>6</td>\n      <td>3</td>\n      <td>6</td>\n      <td>3</td>\n      <td>1</td>\n      <td>1</td>\n      <td>2</td>\n      <td>5</td>\n      <td>...</td>\n      <td>2</td>\n      <td>1</td>\n      <td>4</td>\n      <td>2</td>\n      <td>3</td>\n      <td>4</td>\n      <td>1</td>\n      <td>1</td>\n      <td>4</td>\n      <td>6</td>\n    </tr>\n    <tr>\n      <th>497</th>\n      <td>1</td>\n      <td>3</td>\n      <td>6</td>\n      <td>4</td>\n      <td>5</td>\n      <td>4</td>\n      <td>1</td>\n      <td>2</td>\n      <td>3</td>\n      <td>6</td>\n      <td>...</td>\n      <td>2</td>\n      <td>3</td>\n      <td>4</td>\n      <td>3</td>\n      <td>1</td>\n      <td>4</td>\n      <td>1</td>\n      <td>3</td>\n      <td>5</td>\n      <td>5</td>\n    </tr>\n    <tr>\n      <th>498</th>\n      <td>3</td>\n      <td>4</td>\n      <td>6</td>\n      <td>2</td>\n      <td>6</td>\n      <td>2</td>\n      <td>4</td>\n      <td>1</td>\n      <td>5</td>\n      <td>5</td>\n      <td>...</td>\n      <td>2</td>\n      <td>4</td>\n      <td>1</td>\n      <td>3</td>\n      <td>3</td>\n      <td>2</td>\n      <td>4</td>\n      <td>1</td>\n      <td>4</td>\n      <td>6</td>\n    </tr>\n    <tr>\n      <th>499</th>\n      <td>4</td>\n      <td>5</td>\n      <td>6</td>\n      <td>4</td>\n      <td>6</td>\n      <td>4</td>\n      <td>1</td>\n      <td>3</td>\n      <td>3</td>\n      <td>4</td>\n      <td>...</td>\n      <td>2</td>\n      <td>2</td>\n      <td>3</td>\n      <td>3</td>\n      <td>3</td>\n      <td>2</td>\n      <td>1</td>\n      <td>1</td>\n      <td>4</td>\n      <td>6</td>\n    </tr>\n  </tbody>\n</table>\n<p>500 rows × 50 columns</p>\n</div>"
     },
     "execution_count": 136,
     "metadata": {},
     "output_type": "execute_result"
    }
   ],
   "source": [
    "dataY"
   ],
   "metadata": {
    "collapsed": false,
    "pycharm": {
     "name": "#%%\n"
    }
   }
  },
  {
   "cell_type": "code",
   "execution_count": 137,
   "outputs": [],
   "source": [
    "ind = dataY.index.intersection(dataX.index)"
   ],
   "metadata": {
    "collapsed": false,
    "pycharm": {
     "name": "#%%\n"
    }
   }
  },
  {
   "cell_type": "code",
   "execution_count": 138,
   "outputs": [],
   "source": [
    "dataX = dataY.loc[ind, :]\n",
    "dataY = dataY.loc[ind, :]"
   ],
   "metadata": {
    "collapsed": false,
    "pycharm": {
     "name": "#%%\n"
    }
   }
  },
  {
   "cell_type": "code",
   "execution_count": 139,
   "outputs": [],
   "source": [
    "df = pd.concat([dataX, dataY])\n",
    "df = df.T\n",
    "rho = df.corr()\n",
    "pval = df.corr(method=lambda x, y: pearsonr(x, y)[1]) - np.eye(*rho.shape)\n"
   ],
   "metadata": {
    "collapsed": false,
    "pycharm": {
     "name": "#%%\n"
    }
   }
  },
  {
   "cell_type": "code",
   "execution_count": 140,
   "outputs": [
    {
     "data": {
      "text/plain": "          0         1         2         3         4         5         6    \\\n0    1.000000  0.908986  0.934062  0.954532  0.927615  0.899869  0.886093   \n1    0.908986  1.000000  0.957845  0.948121  0.945399  0.923679  0.897520   \n2    0.934062  0.957845  1.000000  0.954863  0.946054  0.900527  0.898677   \n3    0.954532  0.948121  0.954863  1.000000  0.966679  0.908268  0.882415   \n4    0.927615  0.945399  0.946054  0.966679  1.000000  0.930238  0.904081   \n..        ...       ...       ...       ...       ...       ...       ...   \n495 -0.193384 -0.084571 -0.137892 -0.192515 -0.144795 -0.094667 -0.059407   \n496 -0.193384 -0.072350 -0.119781 -0.168053 -0.181237 -0.149706 -0.143930   \n497 -0.084059  0.013199 -0.017146 -0.045744 -0.065838 -0.051859 -0.029221   \n498 -0.272342 -0.212893 -0.246564 -0.265900 -0.284489 -0.290362 -0.198266   \n499 -0.047617  0.019310  0.000966 -0.027397 -0.035470 -0.021282  0.031153   \n\n          7         8         9    ...       490       491       492  \\\n0    0.908986  0.916074  0.895895  ... -0.062405 -0.031874 -0.219311   \n1    0.883991  0.933715  0.913335  ...  0.053939  0.109229 -0.100074   \n2    0.897520  0.958279  0.949751  ...  0.004734  0.071501 -0.188219   \n3    0.911458  0.918639  0.916460  ... -0.017461  0.000984 -0.200308   \n4    0.896849  0.928066  0.925679  ... -0.007450  0.035294 -0.171374   \n..        ...       ...       ...  ...       ...       ...       ...   \n495 -0.145677 -0.143930 -0.079171  ...  0.775664  0.757220  0.771065   \n496 -0.176230 -0.125818 -0.043184  ...  0.837147  0.775664  0.752965   \n497 -0.060128 -0.017146  0.034787  ...  0.628106  0.597365  0.602130   \n498 -0.249557 -0.270714 -0.241111  ...  0.701885  0.646551  0.758998   \n499  0.025420 -0.059407  0.058778  ...  0.757220  0.677292  0.692631   \n\n          493       494       495       496       497       498       499  \n0   -0.217679 -0.223753 -0.193384 -0.193384 -0.084059 -0.272342 -0.047617  \n1   -0.060128 -0.139566 -0.084571 -0.072350  0.013199 -0.212893  0.019310  \n2   -0.113743 -0.192228 -0.137892 -0.119781 -0.017146 -0.246564  0.000966  \n3   -0.149706 -0.204746 -0.192515 -0.168053 -0.045744 -0.265900 -0.027397  \n4   -0.138722 -0.199458 -0.144795 -0.181237 -0.065838 -0.284489 -0.035470  \n..        ...       ...       ...       ...       ...       ...       ...  \n495  0.724804  0.657534  1.000000  0.712573  0.584149  0.840998  0.694227  \n496  0.761497  0.608611  0.712573  1.000000  0.700342  0.706458  0.785959  \n497  0.565802  0.620841  0.584149  0.700342  1.000000  0.626957  0.724804  \n498  0.626957  0.700342  0.840998  0.706458  0.626957  1.000000  0.718689  \n499  0.706458  0.620841  0.694227  0.785959  0.724804  0.718689  1.000000  \n\n[1000 rows x 1000 columns]",
      "text/html": "<div>\n<style scoped>\n    .dataframe tbody tr th:only-of-type {\n        vertical-align: middle;\n    }\n\n    .dataframe tbody tr th {\n        vertical-align: top;\n    }\n\n    .dataframe thead th {\n        text-align: right;\n    }\n</style>\n<table border=\"1\" class=\"dataframe\">\n  <thead>\n    <tr style=\"text-align: right;\">\n      <th></th>\n      <th>0</th>\n      <th>1</th>\n      <th>2</th>\n      <th>3</th>\n      <th>4</th>\n      <th>5</th>\n      <th>6</th>\n      <th>7</th>\n      <th>8</th>\n      <th>9</th>\n      <th>...</th>\n      <th>490</th>\n      <th>491</th>\n      <th>492</th>\n      <th>493</th>\n      <th>494</th>\n      <th>495</th>\n      <th>496</th>\n      <th>497</th>\n      <th>498</th>\n      <th>499</th>\n    </tr>\n  </thead>\n  <tbody>\n    <tr>\n      <th>0</th>\n      <td>1.000000</td>\n      <td>0.908986</td>\n      <td>0.934062</td>\n      <td>0.954532</td>\n      <td>0.927615</td>\n      <td>0.899869</td>\n      <td>0.886093</td>\n      <td>0.908986</td>\n      <td>0.916074</td>\n      <td>0.895895</td>\n      <td>...</td>\n      <td>-0.062405</td>\n      <td>-0.031874</td>\n      <td>-0.219311</td>\n      <td>-0.217679</td>\n      <td>-0.223753</td>\n      <td>-0.193384</td>\n      <td>-0.193384</td>\n      <td>-0.084059</td>\n      <td>-0.272342</td>\n      <td>-0.047617</td>\n    </tr>\n    <tr>\n      <th>1</th>\n      <td>0.908986</td>\n      <td>1.000000</td>\n      <td>0.957845</td>\n      <td>0.948121</td>\n      <td>0.945399</td>\n      <td>0.923679</td>\n      <td>0.897520</td>\n      <td>0.883991</td>\n      <td>0.933715</td>\n      <td>0.913335</td>\n      <td>...</td>\n      <td>0.053939</td>\n      <td>0.109229</td>\n      <td>-0.100074</td>\n      <td>-0.060128</td>\n      <td>-0.139566</td>\n      <td>-0.084571</td>\n      <td>-0.072350</td>\n      <td>0.013199</td>\n      <td>-0.212893</td>\n      <td>0.019310</td>\n    </tr>\n    <tr>\n      <th>2</th>\n      <td>0.934062</td>\n      <td>0.957845</td>\n      <td>1.000000</td>\n      <td>0.954863</td>\n      <td>0.946054</td>\n      <td>0.900527</td>\n      <td>0.898677</td>\n      <td>0.897520</td>\n      <td>0.958279</td>\n      <td>0.949751</td>\n      <td>...</td>\n      <td>0.004734</td>\n      <td>0.071501</td>\n      <td>-0.188219</td>\n      <td>-0.113743</td>\n      <td>-0.192228</td>\n      <td>-0.137892</td>\n      <td>-0.119781</td>\n      <td>-0.017146</td>\n      <td>-0.246564</td>\n      <td>0.000966</td>\n    </tr>\n    <tr>\n      <th>3</th>\n      <td>0.954532</td>\n      <td>0.948121</td>\n      <td>0.954863</td>\n      <td>1.000000</td>\n      <td>0.966679</td>\n      <td>0.908268</td>\n      <td>0.882415</td>\n      <td>0.911458</td>\n      <td>0.918639</td>\n      <td>0.916460</td>\n      <td>...</td>\n      <td>-0.017461</td>\n      <td>0.000984</td>\n      <td>-0.200308</td>\n      <td>-0.149706</td>\n      <td>-0.204746</td>\n      <td>-0.192515</td>\n      <td>-0.168053</td>\n      <td>-0.045744</td>\n      <td>-0.265900</td>\n      <td>-0.027397</td>\n    </tr>\n    <tr>\n      <th>4</th>\n      <td>0.927615</td>\n      <td>0.945399</td>\n      <td>0.946054</td>\n      <td>0.966679</td>\n      <td>1.000000</td>\n      <td>0.930238</td>\n      <td>0.904081</td>\n      <td>0.896849</td>\n      <td>0.928066</td>\n      <td>0.925679</td>\n      <td>...</td>\n      <td>-0.007450</td>\n      <td>0.035294</td>\n      <td>-0.171374</td>\n      <td>-0.138722</td>\n      <td>-0.199458</td>\n      <td>-0.144795</td>\n      <td>-0.181237</td>\n      <td>-0.065838</td>\n      <td>-0.284489</td>\n      <td>-0.035470</td>\n    </tr>\n    <tr>\n      <th>...</th>\n      <td>...</td>\n      <td>...</td>\n      <td>...</td>\n      <td>...</td>\n      <td>...</td>\n      <td>...</td>\n      <td>...</td>\n      <td>...</td>\n      <td>...</td>\n      <td>...</td>\n      <td>...</td>\n      <td>...</td>\n      <td>...</td>\n      <td>...</td>\n      <td>...</td>\n      <td>...</td>\n      <td>...</td>\n      <td>...</td>\n      <td>...</td>\n      <td>...</td>\n      <td>...</td>\n    </tr>\n    <tr>\n      <th>495</th>\n      <td>-0.193384</td>\n      <td>-0.084571</td>\n      <td>-0.137892</td>\n      <td>-0.192515</td>\n      <td>-0.144795</td>\n      <td>-0.094667</td>\n      <td>-0.059407</td>\n      <td>-0.145677</td>\n      <td>-0.143930</td>\n      <td>-0.079171</td>\n      <td>...</td>\n      <td>0.775664</td>\n      <td>0.757220</td>\n      <td>0.771065</td>\n      <td>0.724804</td>\n      <td>0.657534</td>\n      <td>1.000000</td>\n      <td>0.712573</td>\n      <td>0.584149</td>\n      <td>0.840998</td>\n      <td>0.694227</td>\n    </tr>\n    <tr>\n      <th>496</th>\n      <td>-0.193384</td>\n      <td>-0.072350</td>\n      <td>-0.119781</td>\n      <td>-0.168053</td>\n      <td>-0.181237</td>\n      <td>-0.149706</td>\n      <td>-0.143930</td>\n      <td>-0.176230</td>\n      <td>-0.125818</td>\n      <td>-0.043184</td>\n      <td>...</td>\n      <td>0.837147</td>\n      <td>0.775664</td>\n      <td>0.752965</td>\n      <td>0.761497</td>\n      <td>0.608611</td>\n      <td>0.712573</td>\n      <td>1.000000</td>\n      <td>0.700342</td>\n      <td>0.706458</td>\n      <td>0.785959</td>\n    </tr>\n    <tr>\n      <th>497</th>\n      <td>-0.084059</td>\n      <td>0.013199</td>\n      <td>-0.017146</td>\n      <td>-0.045744</td>\n      <td>-0.065838</td>\n      <td>-0.051859</td>\n      <td>-0.029221</td>\n      <td>-0.060128</td>\n      <td>-0.017146</td>\n      <td>0.034787</td>\n      <td>...</td>\n      <td>0.628106</td>\n      <td>0.597365</td>\n      <td>0.602130</td>\n      <td>0.565802</td>\n      <td>0.620841</td>\n      <td>0.584149</td>\n      <td>0.700342</td>\n      <td>1.000000</td>\n      <td>0.626957</td>\n      <td>0.724804</td>\n    </tr>\n    <tr>\n      <th>498</th>\n      <td>-0.272342</td>\n      <td>-0.212893</td>\n      <td>-0.246564</td>\n      <td>-0.265900</td>\n      <td>-0.284489</td>\n      <td>-0.290362</td>\n      <td>-0.198266</td>\n      <td>-0.249557</td>\n      <td>-0.270714</td>\n      <td>-0.241111</td>\n      <td>...</td>\n      <td>0.701885</td>\n      <td>0.646551</td>\n      <td>0.758998</td>\n      <td>0.626957</td>\n      <td>0.700342</td>\n      <td>0.840998</td>\n      <td>0.706458</td>\n      <td>0.626957</td>\n      <td>1.000000</td>\n      <td>0.718689</td>\n    </tr>\n    <tr>\n      <th>499</th>\n      <td>-0.047617</td>\n      <td>0.019310</td>\n      <td>0.000966</td>\n      <td>-0.027397</td>\n      <td>-0.035470</td>\n      <td>-0.021282</td>\n      <td>0.031153</td>\n      <td>0.025420</td>\n      <td>-0.059407</td>\n      <td>0.058778</td>\n      <td>...</td>\n      <td>0.757220</td>\n      <td>0.677292</td>\n      <td>0.692631</td>\n      <td>0.706458</td>\n      <td>0.620841</td>\n      <td>0.694227</td>\n      <td>0.785959</td>\n      <td>0.724804</td>\n      <td>0.718689</td>\n      <td>1.000000</td>\n    </tr>\n  </tbody>\n</table>\n<p>1000 rows × 1000 columns</p>\n</div>"
     },
     "execution_count": 140,
     "metadata": {},
     "output_type": "execute_result"
    }
   ],
   "source": [
    "rho"
   ],
   "metadata": {
    "collapsed": false,
    "pycharm": {
     "name": "#%%\n"
    }
   }
  },
  {
   "cell_type": "code",
   "execution_count": 141,
   "outputs": [],
   "source": [
    "rho_long_format = rho.stack().reset_index().rename(columns={'level_0':'Feature_1','level_1':'Feature_2', 0:'Correlation'})"
   ],
   "metadata": {
    "collapsed": false,
    "pycharm": {
     "name": "#%%\n"
    }
   }
  },
  {
   "cell_type": "code",
   "execution_count": 142,
   "outputs": [
    {
     "data": {
      "text/plain": "        Feature_1  Feature_2  Correlation\n0               0          0     1.000000\n1               0          1     0.908986\n2               0          2     0.934062\n3               0          3     0.954532\n4               0          4     0.927615\n...           ...        ...          ...\n999995        499        495     0.694227\n999996        499        496     0.785959\n999997        499        497     0.724804\n999998        499        498     0.718689\n999999        499        499     1.000000\n\n[1000000 rows x 3 columns]",
      "text/html": "<div>\n<style scoped>\n    .dataframe tbody tr th:only-of-type {\n        vertical-align: middle;\n    }\n\n    .dataframe tbody tr th {\n        vertical-align: top;\n    }\n\n    .dataframe thead th {\n        text-align: right;\n    }\n</style>\n<table border=\"1\" class=\"dataframe\">\n  <thead>\n    <tr style=\"text-align: right;\">\n      <th></th>\n      <th>Feature_1</th>\n      <th>Feature_2</th>\n      <th>Correlation</th>\n    </tr>\n  </thead>\n  <tbody>\n    <tr>\n      <th>0</th>\n      <td>0</td>\n      <td>0</td>\n      <td>1.000000</td>\n    </tr>\n    <tr>\n      <th>1</th>\n      <td>0</td>\n      <td>1</td>\n      <td>0.908986</td>\n    </tr>\n    <tr>\n      <th>2</th>\n      <td>0</td>\n      <td>2</td>\n      <td>0.934062</td>\n    </tr>\n    <tr>\n      <th>3</th>\n      <td>0</td>\n      <td>3</td>\n      <td>0.954532</td>\n    </tr>\n    <tr>\n      <th>4</th>\n      <td>0</td>\n      <td>4</td>\n      <td>0.927615</td>\n    </tr>\n    <tr>\n      <th>...</th>\n      <td>...</td>\n      <td>...</td>\n      <td>...</td>\n    </tr>\n    <tr>\n      <th>999995</th>\n      <td>499</td>\n      <td>495</td>\n      <td>0.694227</td>\n    </tr>\n    <tr>\n      <th>999996</th>\n      <td>499</td>\n      <td>496</td>\n      <td>0.785959</td>\n    </tr>\n    <tr>\n      <th>999997</th>\n      <td>499</td>\n      <td>497</td>\n      <td>0.724804</td>\n    </tr>\n    <tr>\n      <th>999998</th>\n      <td>499</td>\n      <td>498</td>\n      <td>0.718689</td>\n    </tr>\n    <tr>\n      <th>999999</th>\n      <td>499</td>\n      <td>499</td>\n      <td>1.000000</td>\n    </tr>\n  </tbody>\n</table>\n<p>1000000 rows × 3 columns</p>\n</div>"
     },
     "execution_count": 142,
     "metadata": {},
     "output_type": "execute_result"
    }
   ],
   "source": [
    "rho_long_format"
   ],
   "metadata": {
    "collapsed": false,
    "pycharm": {
     "name": "#%%\n"
    }
   }
  },
  {
   "cell_type": "code",
   "execution_count": 143,
   "outputs": [
    {
     "data": {
      "text/plain": "        Feature_1  Feature_2       P_value\n0               0          0  0.000000e+00\n1               0          1  7.186620e-20\n2               0          2  4.188168e-23\n3               0          3  7.053113e-27\n4               0          4  3.650543e-22\n...           ...        ...           ...\n999995        499        495  2.257120e-08\n999996        499        496  1.365464e-11\n999997        499        497  2.657403e-09\n999998        499        498  4.168144e-09\n999999        499        499  0.000000e+00\n\n[1000000 rows x 3 columns]",
      "text/html": "<div>\n<style scoped>\n    .dataframe tbody tr th:only-of-type {\n        vertical-align: middle;\n    }\n\n    .dataframe tbody tr th {\n        vertical-align: top;\n    }\n\n    .dataframe thead th {\n        text-align: right;\n    }\n</style>\n<table border=\"1\" class=\"dataframe\">\n  <thead>\n    <tr style=\"text-align: right;\">\n      <th></th>\n      <th>Feature_1</th>\n      <th>Feature_2</th>\n      <th>P_value</th>\n    </tr>\n  </thead>\n  <tbody>\n    <tr>\n      <th>0</th>\n      <td>0</td>\n      <td>0</td>\n      <td>0.000000e+00</td>\n    </tr>\n    <tr>\n      <th>1</th>\n      <td>0</td>\n      <td>1</td>\n      <td>7.186620e-20</td>\n    </tr>\n    <tr>\n      <th>2</th>\n      <td>0</td>\n      <td>2</td>\n      <td>4.188168e-23</td>\n    </tr>\n    <tr>\n      <th>3</th>\n      <td>0</td>\n      <td>3</td>\n      <td>7.053113e-27</td>\n    </tr>\n    <tr>\n      <th>4</th>\n      <td>0</td>\n      <td>4</td>\n      <td>3.650543e-22</td>\n    </tr>\n    <tr>\n      <th>...</th>\n      <td>...</td>\n      <td>...</td>\n      <td>...</td>\n    </tr>\n    <tr>\n      <th>999995</th>\n      <td>499</td>\n      <td>495</td>\n      <td>2.257120e-08</td>\n    </tr>\n    <tr>\n      <th>999996</th>\n      <td>499</td>\n      <td>496</td>\n      <td>1.365464e-11</td>\n    </tr>\n    <tr>\n      <th>999997</th>\n      <td>499</td>\n      <td>497</td>\n      <td>2.657403e-09</td>\n    </tr>\n    <tr>\n      <th>999998</th>\n      <td>499</td>\n      <td>498</td>\n      <td>4.168144e-09</td>\n    </tr>\n    <tr>\n      <th>999999</th>\n      <td>499</td>\n      <td>499</td>\n      <td>0.000000e+00</td>\n    </tr>\n  </tbody>\n</table>\n<p>1000000 rows × 3 columns</p>\n</div>"
     },
     "execution_count": 143,
     "metadata": {},
     "output_type": "execute_result"
    }
   ],
   "source": [
    "pval_long_format = pval.stack().reset_index().rename(columns={'level_0':'Feature_1','level_1':'Feature_2', 0:'P_value'})\n",
    "pval_long_format"
   ],
   "metadata": {
    "collapsed": false,
    "pycharm": {
     "name": "#%%\n"
    }
   }
  },
  {
   "cell_type": "code",
   "execution_count": 144,
   "outputs": [],
   "source": [
    "result = pd.concat([rho_long_format, pval_long_format[\"P_value\"]], axis=1)"
   ],
   "metadata": {
    "collapsed": false,
    "pycharm": {
     "name": "#%%\n"
    }
   }
  },
  {
   "cell_type": "code",
   "execution_count": 145,
   "outputs": [
    {
     "data": {
      "text/plain": "        Feature_1  Feature_2  Correlation       P_value\n0               0          0     1.000000  0.000000e+00\n1               0          1     0.908986  7.186620e-20\n2               0          2     0.934062  4.188168e-23\n3               0          3     0.954532  7.053113e-27\n4               0          4     0.927615  3.650543e-22\n...           ...        ...          ...           ...\n999995        499        495     0.694227  2.257120e-08\n999996        499        496     0.785959  1.365464e-11\n999997        499        497     0.724804  2.657403e-09\n999998        499        498     0.718689  4.168144e-09\n999999        499        499     1.000000  0.000000e+00\n\n[1000000 rows x 4 columns]",
      "text/html": "<div>\n<style scoped>\n    .dataframe tbody tr th:only-of-type {\n        vertical-align: middle;\n    }\n\n    .dataframe tbody tr th {\n        vertical-align: top;\n    }\n\n    .dataframe thead th {\n        text-align: right;\n    }\n</style>\n<table border=\"1\" class=\"dataframe\">\n  <thead>\n    <tr style=\"text-align: right;\">\n      <th></th>\n      <th>Feature_1</th>\n      <th>Feature_2</th>\n      <th>Correlation</th>\n      <th>P_value</th>\n    </tr>\n  </thead>\n  <tbody>\n    <tr>\n      <th>0</th>\n      <td>0</td>\n      <td>0</td>\n      <td>1.000000</td>\n      <td>0.000000e+00</td>\n    </tr>\n    <tr>\n      <th>1</th>\n      <td>0</td>\n      <td>1</td>\n      <td>0.908986</td>\n      <td>7.186620e-20</td>\n    </tr>\n    <tr>\n      <th>2</th>\n      <td>0</td>\n      <td>2</td>\n      <td>0.934062</td>\n      <td>4.188168e-23</td>\n    </tr>\n    <tr>\n      <th>3</th>\n      <td>0</td>\n      <td>3</td>\n      <td>0.954532</td>\n      <td>7.053113e-27</td>\n    </tr>\n    <tr>\n      <th>4</th>\n      <td>0</td>\n      <td>4</td>\n      <td>0.927615</td>\n      <td>3.650543e-22</td>\n    </tr>\n    <tr>\n      <th>...</th>\n      <td>...</td>\n      <td>...</td>\n      <td>...</td>\n      <td>...</td>\n    </tr>\n    <tr>\n      <th>999995</th>\n      <td>499</td>\n      <td>495</td>\n      <td>0.694227</td>\n      <td>2.257120e-08</td>\n    </tr>\n    <tr>\n      <th>999996</th>\n      <td>499</td>\n      <td>496</td>\n      <td>0.785959</td>\n      <td>1.365464e-11</td>\n    </tr>\n    <tr>\n      <th>999997</th>\n      <td>499</td>\n      <td>497</td>\n      <td>0.724804</td>\n      <td>2.657403e-09</td>\n    </tr>\n    <tr>\n      <th>999998</th>\n      <td>499</td>\n      <td>498</td>\n      <td>0.718689</td>\n      <td>4.168144e-09</td>\n    </tr>\n    <tr>\n      <th>999999</th>\n      <td>499</td>\n      <td>499</td>\n      <td>1.000000</td>\n      <td>0.000000e+00</td>\n    </tr>\n  </tbody>\n</table>\n<p>1000000 rows × 4 columns</p>\n</div>"
     },
     "execution_count": 145,
     "metadata": {},
     "output_type": "execute_result"
    }
   ],
   "source": [
    "result"
   ],
   "metadata": {
    "collapsed": false,
    "pycharm": {
     "name": "#%%\n"
    }
   }
  },
  {
   "cell_type": "code",
   "execution_count": 146,
   "outputs": [],
   "source": [
    "within_X = result[result[\"Feature_1\"].isin(dataX.index) ]\n",
    "within_X = within_X[within_X[\"Feature_2\"].isin(dataX.index) ]\n"
   ],
   "metadata": {
    "collapsed": false,
    "pycharm": {
     "name": "#%%\n"
    }
   }
  },
  {
   "cell_type": "code",
   "execution_count": 147,
   "outputs": [
    {
     "data": {
      "text/plain": "        Feature_1  Feature_2  Correlation       P_value\n0               0          0     1.000000  0.000000e+00\n1               0          1     0.908986  7.186620e-20\n2               0          2     0.934062  4.188168e-23\n3               0          3     0.954532  7.053113e-27\n4               0          4     0.927615  3.650543e-22\n...           ...        ...          ...           ...\n999995        499        495     0.694227  2.257120e-08\n999996        499        496     0.785959  1.365464e-11\n999997        499        497     0.724804  2.657403e-09\n999998        499        498     0.718689  4.168144e-09\n999999        499        499     1.000000  0.000000e+00\n\n[1000000 rows x 4 columns]",
      "text/html": "<div>\n<style scoped>\n    .dataframe tbody tr th:only-of-type {\n        vertical-align: middle;\n    }\n\n    .dataframe tbody tr th {\n        vertical-align: top;\n    }\n\n    .dataframe thead th {\n        text-align: right;\n    }\n</style>\n<table border=\"1\" class=\"dataframe\">\n  <thead>\n    <tr style=\"text-align: right;\">\n      <th></th>\n      <th>Feature_1</th>\n      <th>Feature_2</th>\n      <th>Correlation</th>\n      <th>P_value</th>\n    </tr>\n  </thead>\n  <tbody>\n    <tr>\n      <th>0</th>\n      <td>0</td>\n      <td>0</td>\n      <td>1.000000</td>\n      <td>0.000000e+00</td>\n    </tr>\n    <tr>\n      <th>1</th>\n      <td>0</td>\n      <td>1</td>\n      <td>0.908986</td>\n      <td>7.186620e-20</td>\n    </tr>\n    <tr>\n      <th>2</th>\n      <td>0</td>\n      <td>2</td>\n      <td>0.934062</td>\n      <td>4.188168e-23</td>\n    </tr>\n    <tr>\n      <th>3</th>\n      <td>0</td>\n      <td>3</td>\n      <td>0.954532</td>\n      <td>7.053113e-27</td>\n    </tr>\n    <tr>\n      <th>4</th>\n      <td>0</td>\n      <td>4</td>\n      <td>0.927615</td>\n      <td>3.650543e-22</td>\n    </tr>\n    <tr>\n      <th>...</th>\n      <td>...</td>\n      <td>...</td>\n      <td>...</td>\n      <td>...</td>\n    </tr>\n    <tr>\n      <th>999995</th>\n      <td>499</td>\n      <td>495</td>\n      <td>0.694227</td>\n      <td>2.257120e-08</td>\n    </tr>\n    <tr>\n      <th>999996</th>\n      <td>499</td>\n      <td>496</td>\n      <td>0.785959</td>\n      <td>1.365464e-11</td>\n    </tr>\n    <tr>\n      <th>999997</th>\n      <td>499</td>\n      <td>497</td>\n      <td>0.724804</td>\n      <td>2.657403e-09</td>\n    </tr>\n    <tr>\n      <th>999998</th>\n      <td>499</td>\n      <td>498</td>\n      <td>0.718689</td>\n      <td>4.168144e-09</td>\n    </tr>\n    <tr>\n      <th>999999</th>\n      <td>499</td>\n      <td>499</td>\n      <td>1.000000</td>\n      <td>0.000000e+00</td>\n    </tr>\n  </tbody>\n</table>\n<p>1000000 rows × 4 columns</p>\n</div>"
     },
     "execution_count": 147,
     "metadata": {},
     "output_type": "execute_result"
    }
   ],
   "source": [
    "within_X"
   ],
   "metadata": {
    "collapsed": false,
    "pycharm": {
     "name": "#%%\n"
    }
   }
  },
  {
   "cell_type": "code",
   "execution_count": 148,
   "outputs": [],
   "source": [
    "within_Y = result[result[\"Feature_1\"].isin(dataY.index)]\n",
    "within_Y = within_Y[within_Y[\"Feature_2\"].isin(dataY.index)]"
   ],
   "metadata": {
    "collapsed": false,
    "pycharm": {
     "name": "#%%\n"
    }
   }
  },
  {
   "cell_type": "code",
   "execution_count": 149,
   "outputs": [],
   "source": [
    "X_Y = result[result[\"Feature_1\"].isin(dataX.index) ]\n",
    "X_Y = X_Y[X_Y[\"Feature_2\"].isin(dataY.index) ]"
   ],
   "metadata": {
    "collapsed": false,
    "pycharm": {
     "name": "#%%\n"
    }
   }
  },
  {
   "cell_type": "code",
   "execution_count": 152,
   "outputs": [],
   "source": [
    "def fdr(p_vals):\n",
    "    from scipy.stats import rankdata\n",
    "    ranked_p_values = rankdata(p_vals, method='ordinal')\n",
    "    fdr = p_vals * len(p_vals) / ranked_p_values\n",
    "    fdr[fdr > 1] = 1\n",
    "    return fdr"
   ],
   "metadata": {
    "collapsed": false,
    "pycharm": {
     "name": "#%%\n"
    }
   }
  },
  {
   "cell_type": "code",
   "execution_count": 153,
   "outputs": [],
   "source": [
    "def bh(p, q):\n",
    "    from scipy.stats import rankdata\n",
    "    pRank = rankdata(p, method='ordinal')\n",
    "    m = len(p)\n",
    "    p_adust = p *  len(p) / pRank\n",
    "    max_i = 0\n",
    "    for i in range(len(p)):\n",
    "        if p_adust[i] <= q and max_i <= pRank[i]:\n",
    "            max_i = pRank[i]\n",
    "            p_threshold = p[i]\n",
    "    return p_adust, p_threshold"
   ],
   "metadata": {
    "collapsed": false,
    "pycharm": {
     "name": "#%%\n"
    }
   }
  },
  {
   "cell_type": "code",
   "execution_count": 154,
   "outputs": [
    {
     "data": {
      "text/plain": "0         0.000000e+00\n1         3.348064e-18\n2         4.842373e-21\n3         2.434627e-24\n4         3.186300e-20\n              ...     \n999995    3.102144e-07\n999996    2.332372e-10\n999997    3.827787e-08\n999998    5.933470e-08\n999999    0.000000e+00\nName: P_value, Length: 1000000, dtype: float64"
     },
     "execution_count": 154,
     "metadata": {},
     "output_type": "execute_result"
    }
   ],
   "source": [
    "fdr(X_Y[\"P_value\"])"
   ],
   "metadata": {
    "collapsed": false,
    "pycharm": {
     "name": "#%%\n"
    }
   }
  },
  {
   "cell_type": "code",
   "execution_count": 156,
   "outputs": [],
   "source": [
    "X_Y_p_adust, X_Y_p_threshold = bh(X_Y[\"P_value\"], .1)\n",
    "within_X_p_adust, within_X_p_threshold = bh(within_X[\"P_value\"], .1)\n",
    "within_Y_p_adust, within_Y_p_threshold = bh(within_Y[\"P_value\"], .1)\n"
   ],
   "metadata": {
    "collapsed": false,
    "pycharm": {
     "name": "#%%\n"
    }
   }
  },
  {
   "cell_type": "code",
   "execution_count": 158,
   "outputs": [
    {
     "data": {
      "text/plain": "0.008015711735235301"
     },
     "execution_count": 158,
     "metadata": {},
     "output_type": "execute_result"
    }
   ],
   "source": [
    "X_Y_p_threshold\n"
   ],
   "metadata": {
    "collapsed": false,
    "pycharm": {
     "name": "#%%\n"
    }
   }
  },
  {
   "cell_type": "code",
   "execution_count": 159,
   "outputs": [
    {
     "data": {
      "text/plain": "0.008015711735235301"
     },
     "execution_count": 159,
     "metadata": {},
     "output_type": "execute_result"
    }
   ],
   "source": [
    "within_X_p_threshold"
   ],
   "metadata": {
    "collapsed": false,
    "pycharm": {
     "name": "#%%\n"
    }
   }
  },
  {
   "cell_type": "code",
   "execution_count": 160,
   "outputs": [
    {
     "data": {
      "text/plain": "0.008015711735235301"
     },
     "execution_count": 160,
     "metadata": {},
     "output_type": "execute_result"
    }
   ],
   "source": [
    "within_Y_p_threshold"
   ],
   "metadata": {
    "collapsed": false,
    "pycharm": {
     "name": "#%%\n"
    }
   }
  },
  {
   "cell_type": "code",
   "execution_count": 161,
   "outputs": [
    {
     "data": {
      "text/plain": "0         0.000000e+00\n1         3.348064e-18\n2         4.842373e-21\n3         2.434627e-24\n4         3.186300e-20\n              ...     \n999995    3.102144e-07\n999996    2.332372e-10\n999997    3.827787e-08\n999998    5.933470e-08\n999999    0.000000e+00\nName: P_value, Length: 1000000, dtype: float64"
     },
     "execution_count": 161,
     "metadata": {},
     "output_type": "execute_result"
    }
   ],
   "source": [
    "X_Y_p_adust\n",
    "within_X_p_adust\n",
    "within_Y_p_adust"
   ],
   "metadata": {
    "collapsed": false,
    "pycharm": {
     "name": "#%%\n"
    }
   }
  },
  {
   "cell_type": "code",
   "execution_count": 162,
   "outputs": [],
   "source": [
    "X_Y[\"P_adusted\"] = p_adust\n",
    "within_X[\"P_adusted\"] = within_X_p_adust\n",
    "within_Y[\"P_adusted\"] = within_Y_p_adust"
   ],
   "metadata": {
    "collapsed": false,
    "pycharm": {
     "name": "#%%\n"
    }
   }
  },
  {
   "cell_type": "code",
   "execution_count": 163,
   "outputs": [
    {
     "data": {
      "text/plain": "        Feature_1  Feature_2  Correlation       P_value     P_adusted\n0               0          0     1.000000  0.000000e+00  0.000000e+00\n1               0          1     0.908986  7.186620e-20  3.348064e-18\n2               0          2     0.934062  4.188168e-23  4.842373e-21\n3               0          3     0.954532  7.053113e-27  2.434627e-24\n4               0          4     0.927615  3.650543e-22  3.186300e-20\n...           ...        ...          ...           ...           ...\n999995        499        495     0.694227  2.257120e-08  3.102144e-07\n999996        499        496     0.785959  1.365464e-11  2.332372e-10\n999997        499        497     0.724804  2.657403e-09  3.827787e-08\n999998        499        498     0.718689  4.168144e-09  5.933470e-08\n999999        499        499     1.000000  0.000000e+00  0.000000e+00\n\n[1000000 rows x 5 columns]",
      "text/html": "<div>\n<style scoped>\n    .dataframe tbody tr th:only-of-type {\n        vertical-align: middle;\n    }\n\n    .dataframe tbody tr th {\n        vertical-align: top;\n    }\n\n    .dataframe thead th {\n        text-align: right;\n    }\n</style>\n<table border=\"1\" class=\"dataframe\">\n  <thead>\n    <tr style=\"text-align: right;\">\n      <th></th>\n      <th>Feature_1</th>\n      <th>Feature_2</th>\n      <th>Correlation</th>\n      <th>P_value</th>\n      <th>P_adusted</th>\n    </tr>\n  </thead>\n  <tbody>\n    <tr>\n      <th>0</th>\n      <td>0</td>\n      <td>0</td>\n      <td>1.000000</td>\n      <td>0.000000e+00</td>\n      <td>0.000000e+00</td>\n    </tr>\n    <tr>\n      <th>1</th>\n      <td>0</td>\n      <td>1</td>\n      <td>0.908986</td>\n      <td>7.186620e-20</td>\n      <td>3.348064e-18</td>\n    </tr>\n    <tr>\n      <th>2</th>\n      <td>0</td>\n      <td>2</td>\n      <td>0.934062</td>\n      <td>4.188168e-23</td>\n      <td>4.842373e-21</td>\n    </tr>\n    <tr>\n      <th>3</th>\n      <td>0</td>\n      <td>3</td>\n      <td>0.954532</td>\n      <td>7.053113e-27</td>\n      <td>2.434627e-24</td>\n    </tr>\n    <tr>\n      <th>4</th>\n      <td>0</td>\n      <td>4</td>\n      <td>0.927615</td>\n      <td>3.650543e-22</td>\n      <td>3.186300e-20</td>\n    </tr>\n    <tr>\n      <th>...</th>\n      <td>...</td>\n      <td>...</td>\n      <td>...</td>\n      <td>...</td>\n      <td>...</td>\n    </tr>\n    <tr>\n      <th>999995</th>\n      <td>499</td>\n      <td>495</td>\n      <td>0.694227</td>\n      <td>2.257120e-08</td>\n      <td>3.102144e-07</td>\n    </tr>\n    <tr>\n      <th>999996</th>\n      <td>499</td>\n      <td>496</td>\n      <td>0.785959</td>\n      <td>1.365464e-11</td>\n      <td>2.332372e-10</td>\n    </tr>\n    <tr>\n      <th>999997</th>\n      <td>499</td>\n      <td>497</td>\n      <td>0.724804</td>\n      <td>2.657403e-09</td>\n      <td>3.827787e-08</td>\n    </tr>\n    <tr>\n      <th>999998</th>\n      <td>499</td>\n      <td>498</td>\n      <td>0.718689</td>\n      <td>4.168144e-09</td>\n      <td>5.933470e-08</td>\n    </tr>\n    <tr>\n      <th>999999</th>\n      <td>499</td>\n      <td>499</td>\n      <td>1.000000</td>\n      <td>0.000000e+00</td>\n      <td>0.000000e+00</td>\n    </tr>\n  </tbody>\n</table>\n<p>1000000 rows × 5 columns</p>\n</div>"
     },
     "execution_count": 163,
     "metadata": {},
     "output_type": "execute_result"
    }
   ],
   "source": [
    "X_Y\n",
    "within_X\n",
    "within_Y"
   ],
   "metadata": {
    "collapsed": false,
    "pycharm": {
     "name": "#%%\n"
    }
   }
  },
  {
   "cell_type": "code",
   "execution_count": 164,
   "outputs": [],
   "source": [
    "X_Y[\"bh_fdr_threshold\"] = X_Y_p_threshold\n",
    "within_X[\"bh_fdr_threshold\"] = within_X_p_threshold\n",
    "within_Y[\"bh_fdr_threshold\"] = within_Y_p_threshold\n",
    "\n"
   ],
   "metadata": {
    "collapsed": false,
    "pycharm": {
     "name": "#%%\n"
    }
   }
  },
  {
   "cell_type": "code",
   "execution_count": 165,
   "outputs": [
    {
     "data": {
      "text/plain": "        Feature_1  Feature_2  Correlation       P_value     P_adusted  \\\n0               0          0     1.000000  0.000000e+00  0.000000e+00   \n1               0          1     0.908986  7.186620e-20  3.348064e-18   \n2               0          2     0.934062  4.188168e-23  4.842373e-21   \n3               0          3     0.954532  7.053113e-27  2.434627e-24   \n4               0          4     0.927615  3.650543e-22  3.186300e-20   \n...           ...        ...          ...           ...           ...   \n999995        499        495     0.694227  2.257120e-08  3.102144e-07   \n999996        499        496     0.785959  1.365464e-11  2.332372e-10   \n999997        499        497     0.724804  2.657403e-09  3.827787e-08   \n999998        499        498     0.718689  4.168144e-09  5.933470e-08   \n999999        499        499     1.000000  0.000000e+00  0.000000e+00   \n\n        bh_fdr_threshold  \n0               0.008016  \n1               0.008016  \n2               0.008016  \n3               0.008016  \n4               0.008016  \n...                  ...  \n999995          0.008016  \n999996          0.008016  \n999997          0.008016  \n999998          0.008016  \n999999          0.008016  \n\n[1000000 rows x 6 columns]",
      "text/html": "<div>\n<style scoped>\n    .dataframe tbody tr th:only-of-type {\n        vertical-align: middle;\n    }\n\n    .dataframe tbody tr th {\n        vertical-align: top;\n    }\n\n    .dataframe thead th {\n        text-align: right;\n    }\n</style>\n<table border=\"1\" class=\"dataframe\">\n  <thead>\n    <tr style=\"text-align: right;\">\n      <th></th>\n      <th>Feature_1</th>\n      <th>Feature_2</th>\n      <th>Correlation</th>\n      <th>P_value</th>\n      <th>P_adusted</th>\n      <th>bh_fdr_threshold</th>\n    </tr>\n  </thead>\n  <tbody>\n    <tr>\n      <th>0</th>\n      <td>0</td>\n      <td>0</td>\n      <td>1.000000</td>\n      <td>0.000000e+00</td>\n      <td>0.000000e+00</td>\n      <td>0.008016</td>\n    </tr>\n    <tr>\n      <th>1</th>\n      <td>0</td>\n      <td>1</td>\n      <td>0.908986</td>\n      <td>7.186620e-20</td>\n      <td>3.348064e-18</td>\n      <td>0.008016</td>\n    </tr>\n    <tr>\n      <th>2</th>\n      <td>0</td>\n      <td>2</td>\n      <td>0.934062</td>\n      <td>4.188168e-23</td>\n      <td>4.842373e-21</td>\n      <td>0.008016</td>\n    </tr>\n    <tr>\n      <th>3</th>\n      <td>0</td>\n      <td>3</td>\n      <td>0.954532</td>\n      <td>7.053113e-27</td>\n      <td>2.434627e-24</td>\n      <td>0.008016</td>\n    </tr>\n    <tr>\n      <th>4</th>\n      <td>0</td>\n      <td>4</td>\n      <td>0.927615</td>\n      <td>3.650543e-22</td>\n      <td>3.186300e-20</td>\n      <td>0.008016</td>\n    </tr>\n    <tr>\n      <th>...</th>\n      <td>...</td>\n      <td>...</td>\n      <td>...</td>\n      <td>...</td>\n      <td>...</td>\n      <td>...</td>\n    </tr>\n    <tr>\n      <th>999995</th>\n      <td>499</td>\n      <td>495</td>\n      <td>0.694227</td>\n      <td>2.257120e-08</td>\n      <td>3.102144e-07</td>\n      <td>0.008016</td>\n    </tr>\n    <tr>\n      <th>999996</th>\n      <td>499</td>\n      <td>496</td>\n      <td>0.785959</td>\n      <td>1.365464e-11</td>\n      <td>2.332372e-10</td>\n      <td>0.008016</td>\n    </tr>\n    <tr>\n      <th>999997</th>\n      <td>499</td>\n      <td>497</td>\n      <td>0.724804</td>\n      <td>2.657403e-09</td>\n      <td>3.827787e-08</td>\n      <td>0.008016</td>\n    </tr>\n    <tr>\n      <th>999998</th>\n      <td>499</td>\n      <td>498</td>\n      <td>0.718689</td>\n      <td>4.168144e-09</td>\n      <td>5.933470e-08</td>\n      <td>0.008016</td>\n    </tr>\n    <tr>\n      <th>999999</th>\n      <td>499</td>\n      <td>499</td>\n      <td>1.000000</td>\n      <td>0.000000e+00</td>\n      <td>0.000000e+00</td>\n      <td>0.008016</td>\n    </tr>\n  </tbody>\n</table>\n<p>1000000 rows × 6 columns</p>\n</div>"
     },
     "execution_count": 165,
     "metadata": {},
     "output_type": "execute_result"
    }
   ],
   "source": [
    "X_Y"
   ],
   "metadata": {
    "collapsed": false,
    "pycharm": {
     "name": "#%%\n"
    }
   }
  },
  {
   "cell_type": "code",
   "execution_count": 166,
   "outputs": [],
   "source": [
    "outputpath = \"/Users/rah/Documents/omicsEye/btest/demo/btest_output\"\n",
    "os.makedirs(outputpath, exist_ok=True)\n",
    "X_Y.to_csv(outputpath + '/X_Y.tsv', sep=\"\\t\")\n",
    "within_X.to_csv(outputpath + '/within_X.tsv', sep=\"\\t\")\n",
    "within_Y.to_csv(outputpath + '/within_Y.tsv', sep=\"\\t\")"
   ],
   "metadata": {
    "collapsed": false,
    "pycharm": {
     "name": "#%%\n"
    }
   }
  },
  {
   "cell_type": "code",
   "execution_count": null,
   "outputs": [],
   "source": [],
   "metadata": {
    "collapsed": false,
    "pycharm": {
     "name": "#%%\n"
    }
   }
  }
 ],
 "metadata": {
  "accelerator": "TPU",
  "colab": {
   "collapsed_sections": [
    "yfILUg1HmAkM"
   ],
   "machine_shape": "hm",
   "name": "15-Ensemble-Evaluation.ipynb",
   "provenance": []
  },
  "kernelspec": {
   "display_name": "Python 3",
   "language": "python",
   "name": "python3"
  },
  "language_info": {
   "codemirror_mode": {
    "name": "ipython",
    "version": 3
   },
   "file_extension": ".py",
   "mimetype": "text/x-python",
   "name": "python",
   "nbconvert_exporter": "python",
   "pygments_lexer": "ipython3",
   "version": "3.7.6"
  }
 },
 "nbformat": 4,
 "nbformat_minor": 1
}