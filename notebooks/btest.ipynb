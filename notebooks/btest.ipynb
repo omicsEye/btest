{
 "cells": [
  {
   "cell_type": "markdown",
   "metadata": {
    "colab_type": "text",
    "id": "AmPqBsydh5J-",
    "pycharm": {
     "name": "#%% md\n"
    }
   },
   "source": [
    "# *btest* initial steps\n",
    "\n",
    "step-by-step"
   ]
  },
  {
   "cell_type": "code",
   "execution_count": 1,
   "outputs": [],
   "source": [
    "import argparse\n",
    "import csv\n",
    "import itertools\n",
    "import logging\n",
    "import os\n",
    "import sys\n",
    "import shutil\n",
    "import time\n",
    "import math\n",
    "import random\n",
    "from scipy.stats import pearsonr\n",
    "import numpy as np\n",
    "import pandas as pd\n",
    "import math\n",
    "from scipy.stats import spearmanr\n",
    "from btest import config\n",
    "from btest import utils\n",
    "from btest import blockplot\n"
   ],
   "metadata": {
    "collapsed": false,
    "pycharm": {
     "name": "#%%\n"
    }
   }
  },
  {
   "cell_type": "code",
   "execution_count": 4,
   "outputs": [],
   "source": [
    "dataX, dataY = utils.readData('~/Documents/omicsEye/btest/demo/X_dataset.txt', '~/Documents/omicsEye/btest/demo/Y_dataset.txt')"
   ],
   "metadata": {
    "collapsed": false,
    "pycharm": {
     "name": "#%%\n"
    }
   }
  },
  {
   "cell_type": "code",
   "execution_count": 5,
   "outputs": [],
   "source": [
    "dataAll, featuresX, featuresY = utils.dataProcess(dataX, dataY)"
   ],
   "metadata": {
    "collapsed": false,
    "pycharm": {
     "name": "#%%\n"
    }
   }
  },
  {
   "cell_type": "code",
   "execution_count": 6,
   "outputs": [
    {
     "data": {
      "text/plain": "array([[ 5.,  6.,  5., ...,  1.,  4.,  3.],\n       [ 5., nan,  4., ...,  1.,  4.,  3.],\n       [ 5.,  5.,  5., ...,  2.,  4.,  4.],\n       ...,\n       [ 4.,  1.,  1., ...,  4.,  5.,  6.],\n       [ 4.,  1.,  1., ...,  4.,  5.,  6.],\n       [ 4.,  1.,  1., ...,  4.,  6.,  5.]])"
     },
     "execution_count": 6,
     "metadata": {},
     "output_type": "execute_result"
    }
   ],
   "source": [
    "dataAll"
   ],
   "metadata": {
    "collapsed": false,
    "pycharm": {
     "name": "#%%\n"
    }
   }
  },
  {
   "cell_type": "code",
   "execution_count": 7,
   "outputs": [],
   "source": [
    "def btest_corr(dataAll, featuresX, featuresY, method='spearman', fdr=0.1):\n",
    "    iRow = len(dataAll)\n",
    "    iCol = len(dataAll)\n",
    "    tests = []\n",
    "    features = featuresX + featuresY\n",
    "    for i in list(range(iRow)):\n",
    "        for j in list(range(iCol)):\n",
    "            if i<=j:\n",
    "                X = dataAll[i]\n",
    "                Y=  dataAll[j]\n",
    "                nas = np.logical_or(X != X, Y != Y)\n",
    "                not_na = sum(~nas)\n",
    "                #X = Y[~nas]\n",
    "                #Y = Y[~nas]\n",
    "                #new_X, new_Y = remove_pairs_with_a_missing(X, Y)\n",
    "                correlation, pval = spearman(X, Y)\n",
    "                tests.append([features[i],features[j],pval, correlation, not_na])\n",
    "    results = pd.DataFrame(tests, columns = ['Feature_1','Feature_2','pval', 'Correlation', 'Not_NAs'])\n",
    "    return results"
   ],
   "metadata": {
    "collapsed": false,
    "pycharm": {
     "name": "#%%\n"
    }
   }
  },
  {
   "cell_type": "code",
   "execution_count": 8,
   "outputs": [],
   "source": [
    "start_time = time.time()\n",
    "results = btest_corr(dataAll, featuresX, featuresY)\n",
    "rho_excution_time = time.time() - start_time"
   ],
   "metadata": {
    "collapsed": false,
    "pycharm": {
     "name": "#%%\n"
    }
   }
  },
  {
   "cell_type": "code",
   "execution_count": 9,
   "outputs": [
    {
     "data": {
      "text/plain": "10.688559770584106"
     },
     "execution_count": 9,
     "metadata": {},
     "output_type": "execute_result"
    }
   ],
   "source": [
    "rho_excution_time"
   ],
   "metadata": {
    "collapsed": false,
    "pycharm": {
     "name": "#%%\n"
    }
   }
  },
  {
   "cell_type": "code",
   "execution_count": 10,
   "outputs": [
    {
     "data": {
      "text/plain": "      Feature_1 Feature_2          pval  Correlation  Not_NAs\n0            X0        X0  0.000000e+00     1.000000       50\n1            X0        X1  1.511519e-19     0.909559       49\n2            X0        X2  6.554862e-20     0.909350       50\n3            X0        X3  8.315076e-23     0.932087       50\n4            X0        X4  2.588865e-22     0.931758       49\n...         ...       ...           ...          ...      ...\n20095       Y97       Y98  1.445902e-23     0.937008       50\n20096       Y97       Y99  5.556863e-23     0.933255       50\n20097       Y98       Y98  0.000000e+00     1.000000       50\n20098       Y98       Y99  4.070674e-24     0.940343       50\n20099       Y99       Y99  0.000000e+00     1.000000       50\n\n[20100 rows x 5 columns]",
      "text/html": "<div>\n<style scoped>\n    .dataframe tbody tr th:only-of-type {\n        vertical-align: middle;\n    }\n\n    .dataframe tbody tr th {\n        vertical-align: top;\n    }\n\n    .dataframe thead th {\n        text-align: right;\n    }\n</style>\n<table border=\"1\" class=\"dataframe\">\n  <thead>\n    <tr style=\"text-align: right;\">\n      <th></th>\n      <th>Feature_1</th>\n      <th>Feature_2</th>\n      <th>pval</th>\n      <th>Correlation</th>\n      <th>Not_NAs</th>\n    </tr>\n  </thead>\n  <tbody>\n    <tr>\n      <th>0</th>\n      <td>X0</td>\n      <td>X0</td>\n      <td>0.000000e+00</td>\n      <td>1.000000</td>\n      <td>50</td>\n    </tr>\n    <tr>\n      <th>1</th>\n      <td>X0</td>\n      <td>X1</td>\n      <td>1.511519e-19</td>\n      <td>0.909559</td>\n      <td>49</td>\n    </tr>\n    <tr>\n      <th>2</th>\n      <td>X0</td>\n      <td>X2</td>\n      <td>6.554862e-20</td>\n      <td>0.909350</td>\n      <td>50</td>\n    </tr>\n    <tr>\n      <th>3</th>\n      <td>X0</td>\n      <td>X3</td>\n      <td>8.315076e-23</td>\n      <td>0.932087</td>\n      <td>50</td>\n    </tr>\n    <tr>\n      <th>4</th>\n      <td>X0</td>\n      <td>X4</td>\n      <td>2.588865e-22</td>\n      <td>0.931758</td>\n      <td>49</td>\n    </tr>\n    <tr>\n      <th>...</th>\n      <td>...</td>\n      <td>...</td>\n      <td>...</td>\n      <td>...</td>\n      <td>...</td>\n    </tr>\n    <tr>\n      <th>20095</th>\n      <td>Y97</td>\n      <td>Y98</td>\n      <td>1.445902e-23</td>\n      <td>0.937008</td>\n      <td>50</td>\n    </tr>\n    <tr>\n      <th>20096</th>\n      <td>Y97</td>\n      <td>Y99</td>\n      <td>5.556863e-23</td>\n      <td>0.933255</td>\n      <td>50</td>\n    </tr>\n    <tr>\n      <th>20097</th>\n      <td>Y98</td>\n      <td>Y98</td>\n      <td>0.000000e+00</td>\n      <td>1.000000</td>\n      <td>50</td>\n    </tr>\n    <tr>\n      <th>20098</th>\n      <td>Y98</td>\n      <td>Y99</td>\n      <td>4.070674e-24</td>\n      <td>0.940343</td>\n      <td>50</td>\n    </tr>\n    <tr>\n      <th>20099</th>\n      <td>Y99</td>\n      <td>Y99</td>\n      <td>0.000000e+00</td>\n      <td>1.000000</td>\n      <td>50</td>\n    </tr>\n  </tbody>\n</table>\n<p>20100 rows × 5 columns</p>\n</div>"
     },
     "execution_count": 10,
     "metadata": {},
     "output_type": "execute_result"
    }
   ],
   "source": [
    "results"
   ],
   "metadata": {
    "collapsed": false,
    "pycharm": {
     "name": "#%%\n"
    }
   }
  },
  {
   "cell_type": "code",
   "execution_count": 11,
   "outputs": [
    {
     "data": {
      "text/plain": "10.688559770584106"
     },
     "execution_count": 11,
     "metadata": {},
     "output_type": "execute_result"
    }
   ],
   "source": [
    "rho_excution_time"
   ],
   "metadata": {
    "collapsed": false,
    "pycharm": {
     "name": "#%%\n"
    }
   }
  },
  {
   "cell_type": "code",
   "execution_count": 12,
   "outputs": [],
   "source": [
    "within_X = results[results[\"Feature_1\"].isin(featuresX) ]\n",
    "within_X = within_X[within_X[\"Feature_2\"].isin(featuresX) ]\n",
    "within_X = within_X[within_X[\"Feature_1\"] != within_X[\"Feature_2\"]]"
   ],
   "metadata": {
    "collapsed": false,
    "pycharm": {
     "name": "#%%\n"
    }
   }
  },
  {
   "cell_type": "code",
   "execution_count": 13,
   "outputs": [
    {
     "data": {
      "text/plain": "      Feature_1 Feature_2          pval  Correlation  Not_NAs\n1            X0        X1  1.511519e-19     0.909559       49\n2            X0        X2  6.554862e-20     0.909350       50\n3            X0        X3  8.315076e-23     0.932087       50\n4            X0        X4  2.588865e-22     0.931758       49\n5            X0        X5  3.526796e-23     0.934547       50\n...         ...       ...           ...          ...      ...\n14642       X96       X98  1.325589e-22     0.930709       50\n14643       X96       X99  6.324625e-21     0.918110       50\n14745       X97       X98  1.696742e-19     0.905512       50\n14746       X97       X99  6.324625e-21     0.918110       50\n14848       X98       X99  1.696742e-19     0.905512       50\n\n[4950 rows x 5 columns]",
      "text/html": "<div>\n<style scoped>\n    .dataframe tbody tr th:only-of-type {\n        vertical-align: middle;\n    }\n\n    .dataframe tbody tr th {\n        vertical-align: top;\n    }\n\n    .dataframe thead th {\n        text-align: right;\n    }\n</style>\n<table border=\"1\" class=\"dataframe\">\n  <thead>\n    <tr style=\"text-align: right;\">\n      <th></th>\n      <th>Feature_1</th>\n      <th>Feature_2</th>\n      <th>pval</th>\n      <th>Correlation</th>\n      <th>Not_NAs</th>\n    </tr>\n  </thead>\n  <tbody>\n    <tr>\n      <th>1</th>\n      <td>X0</td>\n      <td>X1</td>\n      <td>1.511519e-19</td>\n      <td>0.909559</td>\n      <td>49</td>\n    </tr>\n    <tr>\n      <th>2</th>\n      <td>X0</td>\n      <td>X2</td>\n      <td>6.554862e-20</td>\n      <td>0.909350</td>\n      <td>50</td>\n    </tr>\n    <tr>\n      <th>3</th>\n      <td>X0</td>\n      <td>X3</td>\n      <td>8.315076e-23</td>\n      <td>0.932087</td>\n      <td>50</td>\n    </tr>\n    <tr>\n      <th>4</th>\n      <td>X0</td>\n      <td>X4</td>\n      <td>2.588865e-22</td>\n      <td>0.931758</td>\n      <td>49</td>\n    </tr>\n    <tr>\n      <th>5</th>\n      <td>X0</td>\n      <td>X5</td>\n      <td>3.526796e-23</td>\n      <td>0.934547</td>\n      <td>50</td>\n    </tr>\n    <tr>\n      <th>...</th>\n      <td>...</td>\n      <td>...</td>\n      <td>...</td>\n      <td>...</td>\n      <td>...</td>\n    </tr>\n    <tr>\n      <th>14642</th>\n      <td>X96</td>\n      <td>X98</td>\n      <td>1.325589e-22</td>\n      <td>0.930709</td>\n      <td>50</td>\n    </tr>\n    <tr>\n      <th>14643</th>\n      <td>X96</td>\n      <td>X99</td>\n      <td>6.324625e-21</td>\n      <td>0.918110</td>\n      <td>50</td>\n    </tr>\n    <tr>\n      <th>14745</th>\n      <td>X97</td>\n      <td>X98</td>\n      <td>1.696742e-19</td>\n      <td>0.905512</td>\n      <td>50</td>\n    </tr>\n    <tr>\n      <th>14746</th>\n      <td>X97</td>\n      <td>X99</td>\n      <td>6.324625e-21</td>\n      <td>0.918110</td>\n      <td>50</td>\n    </tr>\n    <tr>\n      <th>14848</th>\n      <td>X98</td>\n      <td>X99</td>\n      <td>1.696742e-19</td>\n      <td>0.905512</td>\n      <td>50</td>\n    </tr>\n  </tbody>\n</table>\n<p>4950 rows × 5 columns</p>\n</div>"
     },
     "execution_count": 13,
     "metadata": {},
     "output_type": "execute_result"
    }
   ],
   "source": [
    "within_X"
   ],
   "metadata": {
    "collapsed": false,
    "pycharm": {
     "name": "#%%\n"
    }
   }
  },
  {
   "cell_type": "code",
   "execution_count": 14,
   "outputs": [],
   "source": [
    "within_Y = results[results[\"Feature_1\"].isin(featuresY)]\n",
    "within_Y = within_Y[within_Y[\"Feature_2\"].isin(featuresY)]\n",
    "within_Y = within_Y[within_Y[\"Feature_1\"] != within_Y[\"Feature_2\"]]"
   ],
   "metadata": {
    "collapsed": false,
    "pycharm": {
     "name": "#%%\n"
    }
   }
  },
  {
   "cell_type": "code",
   "execution_count": 15,
   "outputs": [
    {
     "data": {
      "text/plain": "      Feature_1 Feature_2          pval  Correlation  Not_NAs\n15051        Y0        Y1  2.876300e-19     0.903308       50\n15052        Y0        Y2  8.391473e-23     0.932060       50\n15053        Y0        Y3  1.296812e-26     0.953337       50\n15054        Y0        Y4  9.458936e-22     0.924577       50\n15055        Y0        Y5  1.211416e-18     0.897027       50\n...         ...       ...           ...          ...      ...\n20092       Y96       Y98  1.445902e-23     0.937008       50\n20093       Y96       Y99  5.526886e-24     0.939555       50\n20095       Y97       Y98  1.445902e-23     0.937008       50\n20096       Y97       Y99  5.556863e-23     0.933255       50\n20098       Y98       Y99  4.070674e-24     0.940343       50\n\n[4950 rows x 5 columns]",
      "text/html": "<div>\n<style scoped>\n    .dataframe tbody tr th:only-of-type {\n        vertical-align: middle;\n    }\n\n    .dataframe tbody tr th {\n        vertical-align: top;\n    }\n\n    .dataframe thead th {\n        text-align: right;\n    }\n</style>\n<table border=\"1\" class=\"dataframe\">\n  <thead>\n    <tr style=\"text-align: right;\">\n      <th></th>\n      <th>Feature_1</th>\n      <th>Feature_2</th>\n      <th>pval</th>\n      <th>Correlation</th>\n      <th>Not_NAs</th>\n    </tr>\n  </thead>\n  <tbody>\n    <tr>\n      <th>15051</th>\n      <td>Y0</td>\n      <td>Y1</td>\n      <td>2.876300e-19</td>\n      <td>0.903308</td>\n      <td>50</td>\n    </tr>\n    <tr>\n      <th>15052</th>\n      <td>Y0</td>\n      <td>Y2</td>\n      <td>8.391473e-23</td>\n      <td>0.932060</td>\n      <td>50</td>\n    </tr>\n    <tr>\n      <th>15053</th>\n      <td>Y0</td>\n      <td>Y3</td>\n      <td>1.296812e-26</td>\n      <td>0.953337</td>\n      <td>50</td>\n    </tr>\n    <tr>\n      <th>15054</th>\n      <td>Y0</td>\n      <td>Y4</td>\n      <td>9.458936e-22</td>\n      <td>0.924577</td>\n      <td>50</td>\n    </tr>\n    <tr>\n      <th>15055</th>\n      <td>Y0</td>\n      <td>Y5</td>\n      <td>1.211416e-18</td>\n      <td>0.897027</td>\n      <td>50</td>\n    </tr>\n    <tr>\n      <th>...</th>\n      <td>...</td>\n      <td>...</td>\n      <td>...</td>\n      <td>...</td>\n      <td>...</td>\n    </tr>\n    <tr>\n      <th>20092</th>\n      <td>Y96</td>\n      <td>Y98</td>\n      <td>1.445902e-23</td>\n      <td>0.937008</td>\n      <td>50</td>\n    </tr>\n    <tr>\n      <th>20093</th>\n      <td>Y96</td>\n      <td>Y99</td>\n      <td>5.526886e-24</td>\n      <td>0.939555</td>\n      <td>50</td>\n    </tr>\n    <tr>\n      <th>20095</th>\n      <td>Y97</td>\n      <td>Y98</td>\n      <td>1.445902e-23</td>\n      <td>0.937008</td>\n      <td>50</td>\n    </tr>\n    <tr>\n      <th>20096</th>\n      <td>Y97</td>\n      <td>Y99</td>\n      <td>5.556863e-23</td>\n      <td>0.933255</td>\n      <td>50</td>\n    </tr>\n    <tr>\n      <th>20098</th>\n      <td>Y98</td>\n      <td>Y99</td>\n      <td>4.070674e-24</td>\n      <td>0.940343</td>\n      <td>50</td>\n    </tr>\n  </tbody>\n</table>\n<p>4950 rows × 5 columns</p>\n</div>"
     },
     "execution_count": 15,
     "metadata": {},
     "output_type": "execute_result"
    }
   ],
   "source": [
    "within_Y"
   ],
   "metadata": {
    "collapsed": false,
    "pycharm": {
     "name": "#%%\n"
    }
   }
  },
  {
   "cell_type": "code",
   "execution_count": 16,
   "outputs": [],
   "source": [
    "X_Y = results[~np.logical_or(results[\"Feature_1\"].isin(dataY.index), results[\"Feature_2\"].isin(dataX.index))]\n",
    "#X_Y = X_Y[X_Y[\"Feature_2\"].isin(dataY.index) ]"
   ],
   "metadata": {
    "collapsed": false,
    "pycharm": {
     "name": "#%%\n"
    }
   }
  },
  {
   "cell_type": "code",
   "execution_count": 17,
   "outputs": [
    {
     "data": {
      "text/plain": "      Feature_1 Feature_2      pval  Correlation  Not_NAs\n100          X0        Y0  0.654930    -0.064777       50\n101          X0        Y1  0.846105    -0.028155       50\n102          X0        Y2  0.835488    -0.030124       50\n103          X0        Y3  0.719011    -0.052165       50\n104          X0        Y4  0.931868    -0.012404       50\n...         ...       ...       ...          ...      ...\n15045       X99       Y95  0.358257     0.132703       50\n15046       X99       Y96  0.150612     0.206299       50\n15047       X99       Y97  0.320788     0.143307       50\n15048       X99       Y98  0.163753     0.200000       50\n15049       X99       Y99  0.285720     0.153967       50\n\n[10000 rows x 5 columns]",
      "text/html": "<div>\n<style scoped>\n    .dataframe tbody tr th:only-of-type {\n        vertical-align: middle;\n    }\n\n    .dataframe tbody tr th {\n        vertical-align: top;\n    }\n\n    .dataframe thead th {\n        text-align: right;\n    }\n</style>\n<table border=\"1\" class=\"dataframe\">\n  <thead>\n    <tr style=\"text-align: right;\">\n      <th></th>\n      <th>Feature_1</th>\n      <th>Feature_2</th>\n      <th>pval</th>\n      <th>Correlation</th>\n      <th>Not_NAs</th>\n    </tr>\n  </thead>\n  <tbody>\n    <tr>\n      <th>100</th>\n      <td>X0</td>\n      <td>Y0</td>\n      <td>0.654930</td>\n      <td>-0.064777</td>\n      <td>50</td>\n    </tr>\n    <tr>\n      <th>101</th>\n      <td>X0</td>\n      <td>Y1</td>\n      <td>0.846105</td>\n      <td>-0.028155</td>\n      <td>50</td>\n    </tr>\n    <tr>\n      <th>102</th>\n      <td>X0</td>\n      <td>Y2</td>\n      <td>0.835488</td>\n      <td>-0.030124</td>\n      <td>50</td>\n    </tr>\n    <tr>\n      <th>103</th>\n      <td>X0</td>\n      <td>Y3</td>\n      <td>0.719011</td>\n      <td>-0.052165</td>\n      <td>50</td>\n    </tr>\n    <tr>\n      <th>104</th>\n      <td>X0</td>\n      <td>Y4</td>\n      <td>0.931868</td>\n      <td>-0.012404</td>\n      <td>50</td>\n    </tr>\n    <tr>\n      <th>...</th>\n      <td>...</td>\n      <td>...</td>\n      <td>...</td>\n      <td>...</td>\n      <td>...</td>\n    </tr>\n    <tr>\n      <th>15045</th>\n      <td>X99</td>\n      <td>Y95</td>\n      <td>0.358257</td>\n      <td>0.132703</td>\n      <td>50</td>\n    </tr>\n    <tr>\n      <th>15046</th>\n      <td>X99</td>\n      <td>Y96</td>\n      <td>0.150612</td>\n      <td>0.206299</td>\n      <td>50</td>\n    </tr>\n    <tr>\n      <th>15047</th>\n      <td>X99</td>\n      <td>Y97</td>\n      <td>0.320788</td>\n      <td>0.143307</td>\n      <td>50</td>\n    </tr>\n    <tr>\n      <th>15048</th>\n      <td>X99</td>\n      <td>Y98</td>\n      <td>0.163753</td>\n      <td>0.200000</td>\n      <td>50</td>\n    </tr>\n    <tr>\n      <th>15049</th>\n      <td>X99</td>\n      <td>Y99</td>\n      <td>0.285720</td>\n      <td>0.153967</td>\n      <td>50</td>\n    </tr>\n  </tbody>\n</table>\n<p>10000 rows × 5 columns</p>\n</div>"
     },
     "execution_count": 17,
     "metadata": {},
     "output_type": "execute_result"
    }
   ],
   "source": [
    "X_Y\n"
   ],
   "metadata": {
    "collapsed": false,
    "pycharm": {
     "name": "#%%\n"
    }
   }
  },
  {
   "cell_type": "code",
   "execution_count": 18,
   "outputs": [],
   "source": [
    "rho_X_Y = pd.pivot(X_Y, index=\"Feature_1\", columns = \"Feature_2\",values = 'Correlation') #Reshape from long to wide\n",
    "rho_X = pd.pivot(within_X, index=\"Feature_1\", columns = \"Feature_2\",values = 'Correlation') #Reshape from long to wide\n",
    "rho_Y = pd.pivot(within_Y, index=\"Feature_1\", columns = \"Feature_2\",values = 'Correlation') #Reshape from long to wide"
   ],
   "metadata": {
    "collapsed": false,
    "pycharm": {
     "name": "#%%\n"
    }
   }
  },
  {
   "cell_type": "code",
   "execution_count": 19,
   "outputs": [
    {
     "data": {
      "text/plain": "Feature_2        Y0        Y1       Y10       Y11       Y12       Y13  \\\nFeature_1                                                               \nX0        -0.064777 -0.028155 -0.032880  0.028549 -0.008071 -0.045866   \nX1        -0.166641 -0.132381 -0.074402  0.001543 -0.091251 -0.115725   \nX10       -0.093670 -0.071618 -0.065859 -0.001920 -0.071850 -0.086811   \nX11       -0.140136 -0.079888 -0.078559 -0.010189 -0.053740 -0.104134   \nX12       -0.089048 -0.067877 -0.021654  0.049724 -0.054123 -0.058359   \n...             ...       ...       ...       ...       ...       ...   \nX95       -0.082004 -0.055867 -0.035145 -0.088551 -0.134843  0.049409   \nX96        0.004627  0.018557  0.032979 -0.033816 -0.034055  0.112402   \nX97       -0.010730 -0.033422  0.025103 -0.060199 -0.080512  0.097441   \nX98        0.015259  0.048484  0.060543 -0.003889 -0.017520  0.135236   \nX99        0.017622  0.019344  0.019984 -0.007039 -0.027756  0.118701   \n\nFeature_2       Y14       Y15       Y16       Y17  ...       Y90       Y91  \\\nFeature_1                                          ...                       \nX0        -0.010041  0.013192  0.002166  0.034849  ...  0.005956 -0.081299   \nX1        -0.077985 -0.059914 -0.071081 -0.019379  ...  0.127439  0.014537   \nX10       -0.020427  0.004922 -0.028303 -0.002313  ...  0.104007  0.000591   \nX11       -0.060986 -0.038000 -0.068862  0.015407  ...  0.022642 -0.068701   \nX12       -0.035259  0.002249 -0.028186  0.035913  ...  0.007453 -0.107201   \n...             ...       ...       ...       ...  ...       ...       ...   \nX95       -0.119659 -0.095245 -0.055621 -0.171097  ...  0.240992  0.174803   \nX96       -0.051536  0.010681  0.031404 -0.096673  ...  0.208703  0.162205   \nX97       -0.084613 -0.035785 -0.007580 -0.142351  ...  0.214609  0.118110   \nX98       -0.015308  0.026432  0.035735 -0.079740  ...  0.222485  0.155906   \nX99       -0.031453  0.003987  0.019590 -0.095885  ...  0.208703  0.155906   \n\nFeature_2       Y92       Y93       Y94       Y95       Y96       Y97  \\\nFeature_1                                                               \nX0        -0.072638 -0.075015 -0.124385 -0.060199 -0.068701 -0.081299   \nX1         0.040030  0.042889 -0.020316  0.069628 -0.008864  0.035455   \nX10        0.004528  0.008712 -0.042331  0.028155 -0.024606 -0.009646   \nX11       -0.056102 -0.057836 -0.101792 -0.042479 -0.068701 -0.077362   \nX12       -0.089578 -0.096815 -0.148073 -0.073749 -0.113476 -0.104534   \n...             ...       ...       ...       ...       ...       ...   \nX95        0.262992  0.215397  0.207915  0.164206  0.237795  0.181102   \nX96        0.237795  0.185470  0.201614  0.109077  0.218898  0.155906   \nX97        0.218898  0.183894  0.189407  0.151998  0.187402  0.137008   \nX98        0.231496  0.173656  0.195314  0.114589  0.212598  0.149606   \nX99        0.218898  0.165781  0.164599  0.132703  0.206299  0.143307   \n\nFeature_2       Y98       Y99  \nFeature_1                      \nX0        -0.072638 -0.101004  \nX1         0.033337  0.002354  \nX10        0.010827 -0.020033  \nX11       -0.062402 -0.102185  \nX12       -0.108037 -0.137505  \n...             ...       ...  \nX95        0.225197  0.154361  \nX96        0.231496  0.140973  \nX97        0.193701  0.109470  \nX98        0.200000  0.128372  \nX99        0.200000  0.153967  \n\n[100 rows x 100 columns]",
      "text/html": "<div>\n<style scoped>\n    .dataframe tbody tr th:only-of-type {\n        vertical-align: middle;\n    }\n\n    .dataframe tbody tr th {\n        vertical-align: top;\n    }\n\n    .dataframe thead th {\n        text-align: right;\n    }\n</style>\n<table border=\"1\" class=\"dataframe\">\n  <thead>\n    <tr style=\"text-align: right;\">\n      <th>Feature_2</th>\n      <th>Y0</th>\n      <th>Y1</th>\n      <th>Y10</th>\n      <th>Y11</th>\n      <th>Y12</th>\n      <th>Y13</th>\n      <th>Y14</th>\n      <th>Y15</th>\n      <th>Y16</th>\n      <th>Y17</th>\n      <th>...</th>\n      <th>Y90</th>\n      <th>Y91</th>\n      <th>Y92</th>\n      <th>Y93</th>\n      <th>Y94</th>\n      <th>Y95</th>\n      <th>Y96</th>\n      <th>Y97</th>\n      <th>Y98</th>\n      <th>Y99</th>\n    </tr>\n    <tr>\n      <th>Feature_1</th>\n      <th></th>\n      <th></th>\n      <th></th>\n      <th></th>\n      <th></th>\n      <th></th>\n      <th></th>\n      <th></th>\n      <th></th>\n      <th></th>\n      <th></th>\n      <th></th>\n      <th></th>\n      <th></th>\n      <th></th>\n      <th></th>\n      <th></th>\n      <th></th>\n      <th></th>\n      <th></th>\n      <th></th>\n    </tr>\n  </thead>\n  <tbody>\n    <tr>\n      <th>X0</th>\n      <td>-0.064777</td>\n      <td>-0.028155</td>\n      <td>-0.032880</td>\n      <td>0.028549</td>\n      <td>-0.008071</td>\n      <td>-0.045866</td>\n      <td>-0.010041</td>\n      <td>0.013192</td>\n      <td>0.002166</td>\n      <td>0.034849</td>\n      <td>...</td>\n      <td>0.005956</td>\n      <td>-0.081299</td>\n      <td>-0.072638</td>\n      <td>-0.075015</td>\n      <td>-0.124385</td>\n      <td>-0.060199</td>\n      <td>-0.068701</td>\n      <td>-0.081299</td>\n      <td>-0.072638</td>\n      <td>-0.101004</td>\n    </tr>\n    <tr>\n      <th>X1</th>\n      <td>-0.166641</td>\n      <td>-0.132381</td>\n      <td>-0.074402</td>\n      <td>0.001543</td>\n      <td>-0.091251</td>\n      <td>-0.115725</td>\n      <td>-0.077985</td>\n      <td>-0.059914</td>\n      <td>-0.071081</td>\n      <td>-0.019379</td>\n      <td>...</td>\n      <td>0.127439</td>\n      <td>0.014537</td>\n      <td>0.040030</td>\n      <td>0.042889</td>\n      <td>-0.020316</td>\n      <td>0.069628</td>\n      <td>-0.008864</td>\n      <td>0.035455</td>\n      <td>0.033337</td>\n      <td>0.002354</td>\n    </tr>\n    <tr>\n      <th>X10</th>\n      <td>-0.093670</td>\n      <td>-0.071618</td>\n      <td>-0.065859</td>\n      <td>-0.001920</td>\n      <td>-0.071850</td>\n      <td>-0.086811</td>\n      <td>-0.020427</td>\n      <td>0.004922</td>\n      <td>-0.028303</td>\n      <td>-0.002313</td>\n      <td>...</td>\n      <td>0.104007</td>\n      <td>0.000591</td>\n      <td>0.004528</td>\n      <td>0.008712</td>\n      <td>-0.042331</td>\n      <td>0.028155</td>\n      <td>-0.024606</td>\n      <td>-0.009646</td>\n      <td>0.010827</td>\n      <td>-0.020033</td>\n    </tr>\n    <tr>\n      <th>X11</th>\n      <td>-0.140136</td>\n      <td>-0.079888</td>\n      <td>-0.078559</td>\n      <td>-0.010189</td>\n      <td>-0.053740</td>\n      <td>-0.104134</td>\n      <td>-0.060986</td>\n      <td>-0.038000</td>\n      <td>-0.068862</td>\n      <td>0.015407</td>\n      <td>...</td>\n      <td>0.022642</td>\n      <td>-0.068701</td>\n      <td>-0.056102</td>\n      <td>-0.057836</td>\n      <td>-0.101792</td>\n      <td>-0.042479</td>\n      <td>-0.068701</td>\n      <td>-0.077362</td>\n      <td>-0.062402</td>\n      <td>-0.102185</td>\n    </tr>\n    <tr>\n      <th>X12</th>\n      <td>-0.089048</td>\n      <td>-0.067877</td>\n      <td>-0.021654</td>\n      <td>0.049724</td>\n      <td>-0.054123</td>\n      <td>-0.058359</td>\n      <td>-0.035259</td>\n      <td>0.002249</td>\n      <td>-0.028186</td>\n      <td>0.035913</td>\n      <td>...</td>\n      <td>0.007453</td>\n      <td>-0.107201</td>\n      <td>-0.089578</td>\n      <td>-0.096815</td>\n      <td>-0.148073</td>\n      <td>-0.073749</td>\n      <td>-0.113476</td>\n      <td>-0.104534</td>\n      <td>-0.108037</td>\n      <td>-0.137505</td>\n    </tr>\n    <tr>\n      <th>...</th>\n      <td>...</td>\n      <td>...</td>\n      <td>...</td>\n      <td>...</td>\n      <td>...</td>\n      <td>...</td>\n      <td>...</td>\n      <td>...</td>\n      <td>...</td>\n      <td>...</td>\n      <td>...</td>\n      <td>...</td>\n      <td>...</td>\n      <td>...</td>\n      <td>...</td>\n      <td>...</td>\n      <td>...</td>\n      <td>...</td>\n      <td>...</td>\n      <td>...</td>\n      <td>...</td>\n    </tr>\n    <tr>\n      <th>X95</th>\n      <td>-0.082004</td>\n      <td>-0.055867</td>\n      <td>-0.035145</td>\n      <td>-0.088551</td>\n      <td>-0.134843</td>\n      <td>0.049409</td>\n      <td>-0.119659</td>\n      <td>-0.095245</td>\n      <td>-0.055621</td>\n      <td>-0.171097</td>\n      <td>...</td>\n      <td>0.240992</td>\n      <td>0.174803</td>\n      <td>0.262992</td>\n      <td>0.215397</td>\n      <td>0.207915</td>\n      <td>0.164206</td>\n      <td>0.237795</td>\n      <td>0.181102</td>\n      <td>0.225197</td>\n      <td>0.154361</td>\n    </tr>\n    <tr>\n      <th>X96</th>\n      <td>0.004627</td>\n      <td>0.018557</td>\n      <td>0.032979</td>\n      <td>-0.033816</td>\n      <td>-0.034055</td>\n      <td>0.112402</td>\n      <td>-0.051536</td>\n      <td>0.010681</td>\n      <td>0.031404</td>\n      <td>-0.096673</td>\n      <td>...</td>\n      <td>0.208703</td>\n      <td>0.162205</td>\n      <td>0.237795</td>\n      <td>0.185470</td>\n      <td>0.201614</td>\n      <td>0.109077</td>\n      <td>0.218898</td>\n      <td>0.155906</td>\n      <td>0.231496</td>\n      <td>0.140973</td>\n    </tr>\n    <tr>\n      <th>X97</th>\n      <td>-0.010730</td>\n      <td>-0.033422</td>\n      <td>0.025103</td>\n      <td>-0.060199</td>\n      <td>-0.080512</td>\n      <td>0.097441</td>\n      <td>-0.084613</td>\n      <td>-0.035785</td>\n      <td>-0.007580</td>\n      <td>-0.142351</td>\n      <td>...</td>\n      <td>0.214609</td>\n      <td>0.118110</td>\n      <td>0.218898</td>\n      <td>0.183894</td>\n      <td>0.189407</td>\n      <td>0.151998</td>\n      <td>0.187402</td>\n      <td>0.137008</td>\n      <td>0.193701</td>\n      <td>0.109470</td>\n    </tr>\n    <tr>\n      <th>X98</th>\n      <td>0.015259</td>\n      <td>0.048484</td>\n      <td>0.060543</td>\n      <td>-0.003889</td>\n      <td>-0.017520</td>\n      <td>0.135236</td>\n      <td>-0.015308</td>\n      <td>0.026432</td>\n      <td>0.035735</td>\n      <td>-0.079740</td>\n      <td>...</td>\n      <td>0.222485</td>\n      <td>0.155906</td>\n      <td>0.231496</td>\n      <td>0.173656</td>\n      <td>0.195314</td>\n      <td>0.114589</td>\n      <td>0.212598</td>\n      <td>0.149606</td>\n      <td>0.200000</td>\n      <td>0.128372</td>\n    </tr>\n    <tr>\n      <th>X99</th>\n      <td>0.017622</td>\n      <td>0.019344</td>\n      <td>0.019984</td>\n      <td>-0.007039</td>\n      <td>-0.027756</td>\n      <td>0.118701</td>\n      <td>-0.031453</td>\n      <td>0.003987</td>\n      <td>0.019590</td>\n      <td>-0.095885</td>\n      <td>...</td>\n      <td>0.208703</td>\n      <td>0.155906</td>\n      <td>0.218898</td>\n      <td>0.165781</td>\n      <td>0.164599</td>\n      <td>0.132703</td>\n      <td>0.206299</td>\n      <td>0.143307</td>\n      <td>0.200000</td>\n      <td>0.153967</td>\n    </tr>\n  </tbody>\n</table>\n<p>100 rows × 100 columns</p>\n</div>"
     },
     "execution_count": 19,
     "metadata": {},
     "output_type": "execute_result"
    }
   ],
   "source": [
    "rho_X_Y"
   ],
   "metadata": {
    "collapsed": false,
    "pycharm": {
     "name": "#%%\n"
    }
   }
  },
  {
   "cell_type": "code",
   "execution_count": 20,
   "outputs": [
    {
     "data": {
      "text/plain": "Feature_2        X1       X10       X11       X12       X13       X14  \\\nFeature_1                                                               \nX0         0.909559  0.909252  0.940846  0.905297  0.926685  0.925787   \nX1              NaN  0.916645  0.926868  0.921808  0.930450  0.899101   \nX10             NaN       NaN  0.906890  0.917037  0.932725  0.928248   \nX11             NaN       NaN       NaN  0.909533  0.963473  0.934547   \nX12             NaN       NaN       NaN       NaN  0.933478  0.919495   \n...             ...       ...       ...       ...       ...       ...   \nX94             NaN       NaN       NaN       NaN       NaN       NaN   \nX95             NaN       NaN       NaN       NaN       NaN       NaN   \nX96             NaN       NaN       NaN       NaN       NaN       NaN   \nX97             NaN       NaN       NaN       NaN       NaN       NaN   \nX98             NaN       NaN       NaN       NaN       NaN       NaN   \n\nFeature_2       X15       X16       X17       X18  ...       X90       X91  \\\nFeature_1                                          ...                       \nX0         0.925787  0.906890  0.915650  0.940846  ... -0.008858 -0.021457   \nX1         0.936307  0.932568  0.938451  0.919181  ...  0.063405  0.062150   \nX10        0.928248  0.911713  0.909350  0.918012  ...  0.098228  0.060433   \nX11        0.947146  0.921949  0.932087  0.919488  ...  0.051772  0.013976   \nX12        0.929195  0.939575  0.903912  0.929875  ...  0.043142  0.049025   \n...             ...       ...       ...       ...  ...       ...       ...   \nX94             NaN       NaN       NaN       NaN  ...       NaN       NaN   \nX95             NaN       NaN       NaN       NaN  ...       NaN       NaN   \nX96             NaN       NaN       NaN       NaN  ...       NaN       NaN   \nX97             NaN       NaN       NaN       NaN  ...       NaN       NaN   \nX98             NaN       NaN       NaN       NaN  ...       NaN       NaN   \n\nFeature_2       X92       X93       X94       X95       X96       X97  \\\nFeature_1                                                               \nX0         0.020276 -0.034055  0.032874 -0.002559 -0.008858 -0.046654   \nX1         0.075485  0.022695  0.104795  0.078047  0.051613  0.045286   \nX10        0.085630  0.043898  0.134449  0.075394  0.085630  0.043898   \nX11        0.041535 -0.002559  0.079331  0.041535  0.032874 -0.006496   \nX12        0.031376  0.043848  0.095461  0.065575  0.028526  0.013413   \n...             ...       ...       ...       ...       ...       ...   \nX94             NaN       NaN       NaN  0.930709  0.905512  0.918110   \nX95             NaN       NaN       NaN       NaN  0.911811  0.930709   \nX96             NaN       NaN       NaN       NaN       NaN  0.911811   \nX97             NaN       NaN       NaN       NaN       NaN       NaN   \nX98             NaN       NaN       NaN       NaN       NaN       NaN   \n\nFeature_2       X98       X99  \nFeature_1                      \nX0        -0.021457  0.010039  \nX1         0.047221  0.091016  \nX10        0.081693  0.117126  \nX11        0.058071  0.047835  \nX12        0.052371  0.042750  \n...             ...       ...  \nX94        0.918110  0.930709  \nX95        0.911811  0.943307  \nX96        0.930709  0.918110  \nX97        0.905512  0.918110  \nX98             NaN  0.905512  \n\n[99 rows x 99 columns]",
      "text/html": "<div>\n<style scoped>\n    .dataframe tbody tr th:only-of-type {\n        vertical-align: middle;\n    }\n\n    .dataframe tbody tr th {\n        vertical-align: top;\n    }\n\n    .dataframe thead th {\n        text-align: right;\n    }\n</style>\n<table border=\"1\" class=\"dataframe\">\n  <thead>\n    <tr style=\"text-align: right;\">\n      <th>Feature_2</th>\n      <th>X1</th>\n      <th>X10</th>\n      <th>X11</th>\n      <th>X12</th>\n      <th>X13</th>\n      <th>X14</th>\n      <th>X15</th>\n      <th>X16</th>\n      <th>X17</th>\n      <th>X18</th>\n      <th>...</th>\n      <th>X90</th>\n      <th>X91</th>\n      <th>X92</th>\n      <th>X93</th>\n      <th>X94</th>\n      <th>X95</th>\n      <th>X96</th>\n      <th>X97</th>\n      <th>X98</th>\n      <th>X99</th>\n    </tr>\n    <tr>\n      <th>Feature_1</th>\n      <th></th>\n      <th></th>\n      <th></th>\n      <th></th>\n      <th></th>\n      <th></th>\n      <th></th>\n      <th></th>\n      <th></th>\n      <th></th>\n      <th></th>\n      <th></th>\n      <th></th>\n      <th></th>\n      <th></th>\n      <th></th>\n      <th></th>\n      <th></th>\n      <th></th>\n      <th></th>\n      <th></th>\n    </tr>\n  </thead>\n  <tbody>\n    <tr>\n      <th>X0</th>\n      <td>0.909559</td>\n      <td>0.909252</td>\n      <td>0.940846</td>\n      <td>0.905297</td>\n      <td>0.926685</td>\n      <td>0.925787</td>\n      <td>0.925787</td>\n      <td>0.906890</td>\n      <td>0.915650</td>\n      <td>0.940846</td>\n      <td>...</td>\n      <td>-0.008858</td>\n      <td>-0.021457</td>\n      <td>0.020276</td>\n      <td>-0.034055</td>\n      <td>0.032874</td>\n      <td>-0.002559</td>\n      <td>-0.008858</td>\n      <td>-0.046654</td>\n      <td>-0.021457</td>\n      <td>0.010039</td>\n    </tr>\n    <tr>\n      <th>X1</th>\n      <td>NaN</td>\n      <td>0.916645</td>\n      <td>0.926868</td>\n      <td>0.921808</td>\n      <td>0.930450</td>\n      <td>0.899101</td>\n      <td>0.936307</td>\n      <td>0.932568</td>\n      <td>0.938451</td>\n      <td>0.919181</td>\n      <td>...</td>\n      <td>0.063405</td>\n      <td>0.062150</td>\n      <td>0.075485</td>\n      <td>0.022695</td>\n      <td>0.104795</td>\n      <td>0.078047</td>\n      <td>0.051613</td>\n      <td>0.045286</td>\n      <td>0.047221</td>\n      <td>0.091016</td>\n    </tr>\n    <tr>\n      <th>X10</th>\n      <td>NaN</td>\n      <td>NaN</td>\n      <td>0.906890</td>\n      <td>0.917037</td>\n      <td>0.932725</td>\n      <td>0.928248</td>\n      <td>0.928248</td>\n      <td>0.911713</td>\n      <td>0.909350</td>\n      <td>0.918012</td>\n      <td>...</td>\n      <td>0.098228</td>\n      <td>0.060433</td>\n      <td>0.085630</td>\n      <td>0.043898</td>\n      <td>0.134449</td>\n      <td>0.075394</td>\n      <td>0.085630</td>\n      <td>0.043898</td>\n      <td>0.081693</td>\n      <td>0.117126</td>\n    </tr>\n    <tr>\n      <th>X11</th>\n      <td>NaN</td>\n      <td>NaN</td>\n      <td>NaN</td>\n      <td>0.909533</td>\n      <td>0.963473</td>\n      <td>0.934547</td>\n      <td>0.947146</td>\n      <td>0.921949</td>\n      <td>0.932087</td>\n      <td>0.919488</td>\n      <td>...</td>\n      <td>0.051772</td>\n      <td>0.013976</td>\n      <td>0.041535</td>\n      <td>-0.002559</td>\n      <td>0.079331</td>\n      <td>0.041535</td>\n      <td>0.032874</td>\n      <td>-0.006496</td>\n      <td>0.058071</td>\n      <td>0.047835</td>\n    </tr>\n    <tr>\n      <th>X12</th>\n      <td>NaN</td>\n      <td>NaN</td>\n      <td>NaN</td>\n      <td>NaN</td>\n      <td>0.933478</td>\n      <td>0.919495</td>\n      <td>0.929195</td>\n      <td>0.939575</td>\n      <td>0.903912</td>\n      <td>0.929875</td>\n      <td>...</td>\n      <td>0.043142</td>\n      <td>0.049025</td>\n      <td>0.031376</td>\n      <td>0.043848</td>\n      <td>0.095461</td>\n      <td>0.065575</td>\n      <td>0.028526</td>\n      <td>0.013413</td>\n      <td>0.052371</td>\n      <td>0.042750</td>\n    </tr>\n    <tr>\n      <th>...</th>\n      <td>...</td>\n      <td>...</td>\n      <td>...</td>\n      <td>...</td>\n      <td>...</td>\n      <td>...</td>\n      <td>...</td>\n      <td>...</td>\n      <td>...</td>\n      <td>...</td>\n      <td>...</td>\n      <td>...</td>\n      <td>...</td>\n      <td>...</td>\n      <td>...</td>\n      <td>...</td>\n      <td>...</td>\n      <td>...</td>\n      <td>...</td>\n      <td>...</td>\n      <td>...</td>\n    </tr>\n    <tr>\n      <th>X94</th>\n      <td>NaN</td>\n      <td>NaN</td>\n      <td>NaN</td>\n      <td>NaN</td>\n      <td>NaN</td>\n      <td>NaN</td>\n      <td>NaN</td>\n      <td>NaN</td>\n      <td>NaN</td>\n      <td>NaN</td>\n      <td>...</td>\n      <td>NaN</td>\n      <td>NaN</td>\n      <td>NaN</td>\n      <td>NaN</td>\n      <td>NaN</td>\n      <td>0.930709</td>\n      <td>0.905512</td>\n      <td>0.918110</td>\n      <td>0.918110</td>\n      <td>0.930709</td>\n    </tr>\n    <tr>\n      <th>X95</th>\n      <td>NaN</td>\n      <td>NaN</td>\n      <td>NaN</td>\n      <td>NaN</td>\n      <td>NaN</td>\n      <td>NaN</td>\n      <td>NaN</td>\n      <td>NaN</td>\n      <td>NaN</td>\n      <td>NaN</td>\n      <td>...</td>\n      <td>NaN</td>\n      <td>NaN</td>\n      <td>NaN</td>\n      <td>NaN</td>\n      <td>NaN</td>\n      <td>NaN</td>\n      <td>0.911811</td>\n      <td>0.930709</td>\n      <td>0.911811</td>\n      <td>0.943307</td>\n    </tr>\n    <tr>\n      <th>X96</th>\n      <td>NaN</td>\n      <td>NaN</td>\n      <td>NaN</td>\n      <td>NaN</td>\n      <td>NaN</td>\n      <td>NaN</td>\n      <td>NaN</td>\n      <td>NaN</td>\n      <td>NaN</td>\n      <td>NaN</td>\n      <td>...</td>\n      <td>NaN</td>\n      <td>NaN</td>\n      <td>NaN</td>\n      <td>NaN</td>\n      <td>NaN</td>\n      <td>NaN</td>\n      <td>NaN</td>\n      <td>0.911811</td>\n      <td>0.930709</td>\n      <td>0.918110</td>\n    </tr>\n    <tr>\n      <th>X97</th>\n      <td>NaN</td>\n      <td>NaN</td>\n      <td>NaN</td>\n      <td>NaN</td>\n      <td>NaN</td>\n      <td>NaN</td>\n      <td>NaN</td>\n      <td>NaN</td>\n      <td>NaN</td>\n      <td>NaN</td>\n      <td>...</td>\n      <td>NaN</td>\n      <td>NaN</td>\n      <td>NaN</td>\n      <td>NaN</td>\n      <td>NaN</td>\n      <td>NaN</td>\n      <td>NaN</td>\n      <td>NaN</td>\n      <td>0.905512</td>\n      <td>0.918110</td>\n    </tr>\n    <tr>\n      <th>X98</th>\n      <td>NaN</td>\n      <td>NaN</td>\n      <td>NaN</td>\n      <td>NaN</td>\n      <td>NaN</td>\n      <td>NaN</td>\n      <td>NaN</td>\n      <td>NaN</td>\n      <td>NaN</td>\n      <td>NaN</td>\n      <td>...</td>\n      <td>NaN</td>\n      <td>NaN</td>\n      <td>NaN</td>\n      <td>NaN</td>\n      <td>NaN</td>\n      <td>NaN</td>\n      <td>NaN</td>\n      <td>NaN</td>\n      <td>NaN</td>\n      <td>0.905512</td>\n    </tr>\n  </tbody>\n</table>\n<p>99 rows × 99 columns</p>\n</div>"
     },
     "execution_count": 20,
     "metadata": {},
     "output_type": "execute_result"
    }
   ],
   "source": [
    "rho_X"
   ],
   "metadata": {
    "collapsed": false,
    "pycharm": {
     "name": "#%%\n"
    }
   }
  },
  {
   "cell_type": "code",
   "execution_count": 21,
   "outputs": [
    {
     "data": {
      "text/plain": "100      0.654930\n101      0.846105\n102      0.835488\n103      0.719011\n104      0.931868\n           ...   \n15045    0.358257\n15046    0.150612\n15047    0.320788\n15048    0.163753\n15049    0.285720\nName: pval, Length: 10000, dtype: float64"
     },
     "execution_count": 21,
     "metadata": {},
     "output_type": "execute_result"
    }
   ],
   "source": [
    "X_Y.pval"
   ],
   "metadata": {
    "collapsed": false,
    "pycharm": {
     "name": "#%%\n"
    }
   }
  },
  {
   "cell_type": "code",
   "execution_count": 23,
   "outputs": [
    {
     "data": {
      "text/plain": "array([1., 1., 1., ..., 1., 1., 1.])"
     },
     "execution_count": 23,
     "metadata": {},
     "output_type": "execute_result"
    }
   ],
   "source": [
    "utils.fdr(X_Y[\"pval\"].values)"
   ],
   "metadata": {
    "collapsed": false,
    "pycharm": {
     "name": "#%%\n"
    }
   }
  },
  {
   "cell_type": "code",
   "execution_count": 28,
   "outputs": [],
   "source": [
    "X_Y_p_adust, X_Y_p_threshold = utils.bh(X_Y[\"pval\"].values, .1)\n",
    "within_X_p_adust, within_X_p_threshold = utils.bh(within_X[\"pval\"].values, .1)\n",
    "within_Y_p_adust, within_Y_p_threshold = utils.bh(within_Y[\"pval\"].values, .1)\n"
   ],
   "metadata": {
    "collapsed": false,
    "pycharm": {
     "name": "#%%\n"
    }
   }
  },
  {
   "cell_type": "code",
   "execution_count": 29,
   "outputs": [
    {
     "data": {
      "text/plain": "0.6549299181254638"
     },
     "execution_count": 29,
     "metadata": {},
     "output_type": "execute_result"
    }
   ],
   "source": [
    "X_Y_p_threshold\n"
   ],
   "metadata": {
    "collapsed": false,
    "pycharm": {
     "name": "#%%\n"
    }
   }
  },
  {
   "cell_type": "code",
   "execution_count": 30,
   "outputs": [
    {
     "data": {
      "text/plain": "array([0.65492992, 0.8461055 , 0.83548775, ..., 0.32078763, 0.16375308,\n       0.28571983])"
     },
     "execution_count": 30,
     "metadata": {},
     "output_type": "execute_result"
    }
   ],
   "source": [
    "X_Y[\"pval\"].values"
   ],
   "metadata": {
    "collapsed": false,
    "pycharm": {
     "name": "#%%\n"
    }
   }
  },
  {
   "cell_type": "code",
   "execution_count": 31,
   "outputs": [
    {
     "data": {
      "text/plain": "9.957213702277227e-16"
     },
     "execution_count": 31,
     "metadata": {},
     "output_type": "execute_result"
    }
   ],
   "source": [
    "within_X_p_threshold"
   ],
   "metadata": {
    "collapsed": false,
    "pycharm": {
     "name": "#%%\n"
    }
   }
  },
  {
   "cell_type": "code",
   "execution_count": 32,
   "outputs": [
    {
     "data": {
      "text/plain": "0.03441006979659323"
     },
     "execution_count": 32,
     "metadata": {},
     "output_type": "execute_result"
    }
   ],
   "source": [
    "within_Y_p_threshold"
   ],
   "metadata": {
    "collapsed": false,
    "pycharm": {
     "name": "#%%\n"
    }
   }
  },
  {
   "cell_type": "code",
   "execution_count": 33,
   "outputs": [
    {
     "data": {
      "text/plain": "array([1.31644205, 1.09443215, 1.10382845, ..., 2.1244214 , 3.28162487,\n       2.27302965])"
     },
     "execution_count": 33,
     "metadata": {},
     "output_type": "execute_result"
    }
   ],
   "source": [
    "X_Y_p_adust\n"
   ],
   "metadata": {
    "collapsed": false,
    "pycharm": {
     "name": "#%%\n"
    }
   }
  },
  {
   "cell_type": "code",
   "execution_count": 34,
   "outputs": [
    {
     "data": {
      "text/plain": "array([4.82399577e-19, 2.20724942e-19, 6.59609428e-22, ...,\n       5.33600704e-19, 2.48664757e-20, 5.33261910e-19])"
     },
     "execution_count": 34,
     "metadata": {},
     "output_type": "execute_result"
    }
   ],
   "source": [
    "within_X_p_adust"
   ],
   "metadata": {
    "collapsed": false,
    "pycharm": {
     "name": "#%%\n"
    }
   }
  },
  {
   "cell_type": "code",
   "execution_count": 35,
   "outputs": [
    {
     "data": {
      "text/plain": "array([1.54757459e-18, 1.34426515e-21, 1.33733717e-24, ...,\n       3.09836146e-22, 9.65139400e-22, 1.19229812e-22])"
     },
     "execution_count": 35,
     "metadata": {},
     "output_type": "execute_result"
    }
   ],
   "source": [
    "within_Y_p_adust"
   ],
   "metadata": {
    "collapsed": false,
    "pycharm": {
     "name": "#%%\n"
    }
   }
  },
  {
   "cell_type": "code",
   "execution_count": 36,
   "outputs": [
    {
     "name": "stderr",
     "output_type": "stream",
     "text": [
      "/var/folders/ry/39y8fffn25q2jpw0b96hq5fh0000gn/T/ipykernel_50114/3638538245.py:1: SettingWithCopyWarning: \n",
      "A value is trying to be set on a copy of a slice from a DataFrame.\n",
      "Try using .loc[row_indexer,col_indexer] = value instead\n",
      "\n",
      "See the caveats in the documentation: https://pandas.pydata.org/pandas-docs/stable/user_guide/indexing.html#returning-a-view-versus-a-copy\n",
      "  X_Y[\"P_adusted\"] = X_Y_p_adust\n"
     ]
    }
   ],
   "source": [
    "X_Y[\"P_adusted\"] = X_Y_p_adust\n",
    "within_X[\"P_adusted\"] = within_X_p_adust\n",
    "within_Y[\"P_adusted\"] = within_Y_p_adust"
   ],
   "metadata": {
    "collapsed": false,
    "pycharm": {
     "name": "#%%\n"
    }
   }
  },
  {
   "cell_type": "code",
   "execution_count": 37,
   "outputs": [
    {
     "data": {
      "text/plain": "      Feature_1 Feature_2          pval  Correlation  Not_NAs     P_adusted\n15051        Y0        Y1  2.876300e-19     0.903308       50  1.547575e-18\n15052        Y0        Y2  8.391473e-23     0.932060       50  1.344265e-21\n15053        Y0        Y3  1.296812e-26     0.953337       50  1.337337e-24\n15054        Y0        Y4  9.458936e-22     0.924577       50  1.054544e-20\n15055        Y0        Y5  1.211416e-18     0.897027       50  5.788136e-18\n...         ...       ...           ...          ...      ...           ...\n20092       Y96       Y98  1.445902e-23     0.937008       50  3.111833e-22\n20093       Y96       Y99  5.526886e-24     0.939555       50  1.455217e-22\n20095       Y97       Y98  1.445902e-23     0.937008       50  3.098361e-22\n20096       Y97       Y99  5.556863e-23     0.933255       50  9.651394e-22\n20098       Y98       Y99  4.070674e-24     0.940343       50  1.192298e-22\n\n[4950 rows x 6 columns]",
      "text/html": "<div>\n<style scoped>\n    .dataframe tbody tr th:only-of-type {\n        vertical-align: middle;\n    }\n\n    .dataframe tbody tr th {\n        vertical-align: top;\n    }\n\n    .dataframe thead th {\n        text-align: right;\n    }\n</style>\n<table border=\"1\" class=\"dataframe\">\n  <thead>\n    <tr style=\"text-align: right;\">\n      <th></th>\n      <th>Feature_1</th>\n      <th>Feature_2</th>\n      <th>pval</th>\n      <th>Correlation</th>\n      <th>Not_NAs</th>\n      <th>P_adusted</th>\n    </tr>\n  </thead>\n  <tbody>\n    <tr>\n      <th>15051</th>\n      <td>Y0</td>\n      <td>Y1</td>\n      <td>2.876300e-19</td>\n      <td>0.903308</td>\n      <td>50</td>\n      <td>1.547575e-18</td>\n    </tr>\n    <tr>\n      <th>15052</th>\n      <td>Y0</td>\n      <td>Y2</td>\n      <td>8.391473e-23</td>\n      <td>0.932060</td>\n      <td>50</td>\n      <td>1.344265e-21</td>\n    </tr>\n    <tr>\n      <th>15053</th>\n      <td>Y0</td>\n      <td>Y3</td>\n      <td>1.296812e-26</td>\n      <td>0.953337</td>\n      <td>50</td>\n      <td>1.337337e-24</td>\n    </tr>\n    <tr>\n      <th>15054</th>\n      <td>Y0</td>\n      <td>Y4</td>\n      <td>9.458936e-22</td>\n      <td>0.924577</td>\n      <td>50</td>\n      <td>1.054544e-20</td>\n    </tr>\n    <tr>\n      <th>15055</th>\n      <td>Y0</td>\n      <td>Y5</td>\n      <td>1.211416e-18</td>\n      <td>0.897027</td>\n      <td>50</td>\n      <td>5.788136e-18</td>\n    </tr>\n    <tr>\n      <th>...</th>\n      <td>...</td>\n      <td>...</td>\n      <td>...</td>\n      <td>...</td>\n      <td>...</td>\n      <td>...</td>\n    </tr>\n    <tr>\n      <th>20092</th>\n      <td>Y96</td>\n      <td>Y98</td>\n      <td>1.445902e-23</td>\n      <td>0.937008</td>\n      <td>50</td>\n      <td>3.111833e-22</td>\n    </tr>\n    <tr>\n      <th>20093</th>\n      <td>Y96</td>\n      <td>Y99</td>\n      <td>5.526886e-24</td>\n      <td>0.939555</td>\n      <td>50</td>\n      <td>1.455217e-22</td>\n    </tr>\n    <tr>\n      <th>20095</th>\n      <td>Y97</td>\n      <td>Y98</td>\n      <td>1.445902e-23</td>\n      <td>0.937008</td>\n      <td>50</td>\n      <td>3.098361e-22</td>\n    </tr>\n    <tr>\n      <th>20096</th>\n      <td>Y97</td>\n      <td>Y99</td>\n      <td>5.556863e-23</td>\n      <td>0.933255</td>\n      <td>50</td>\n      <td>9.651394e-22</td>\n    </tr>\n    <tr>\n      <th>20098</th>\n      <td>Y98</td>\n      <td>Y99</td>\n      <td>4.070674e-24</td>\n      <td>0.940343</td>\n      <td>50</td>\n      <td>1.192298e-22</td>\n    </tr>\n  </tbody>\n</table>\n<p>4950 rows × 6 columns</p>\n</div>"
     },
     "execution_count": 37,
     "metadata": {},
     "output_type": "execute_result"
    }
   ],
   "source": [
    "X_Y\n",
    "within_X\n",
    "within_Y"
   ],
   "metadata": {
    "collapsed": false,
    "pycharm": {
     "name": "#%%\n"
    }
   }
  },
  {
   "cell_type": "code",
   "execution_count": 38,
   "outputs": [
    {
     "name": "stderr",
     "output_type": "stream",
     "text": [
      "/var/folders/ry/39y8fffn25q2jpw0b96hq5fh0000gn/T/ipykernel_50114/2076899948.py:1: SettingWithCopyWarning: \n",
      "A value is trying to be set on a copy of a slice from a DataFrame.\n",
      "Try using .loc[row_indexer,col_indexer] = value instead\n",
      "\n",
      "See the caveats in the documentation: https://pandas.pydata.org/pandas-docs/stable/user_guide/indexing.html#returning-a-view-versus-a-copy\n",
      "  X_Y[\"bh_fdr_threshold\"] = X_Y_p_threshold\n"
     ]
    }
   ],
   "source": [
    "X_Y[\"bh_fdr_threshold\"] = X_Y_p_threshold\n",
    "within_X[\"bh_fdr_threshold\"] = within_X_p_threshold\n",
    "within_Y[\"bh_fdr_threshold\"] = within_Y_p_threshold\n",
    "\n"
   ],
   "metadata": {
    "collapsed": false,
    "pycharm": {
     "name": "#%%\n"
    }
   }
  },
  {
   "cell_type": "code",
   "execution_count": 39,
   "outputs": [],
   "source": [
    "X_Y = X_Y.sort_values(['pval', 'Correlation'],\n",
    "                     ascending = [True, False])\n",
    "within_X = within_X.sort_values(['pval', 'Correlation'],\n",
    "                      ascending = [True, False])\n",
    "within_Y = within_Y.sort_values(['pval', 'Correlation'],\n",
    "                                ascending = [True, False])"
   ],
   "metadata": {
    "collapsed": false,
    "pycharm": {
     "name": "#%%\n"
    }
   }
  },
  {
   "cell_type": "code",
   "execution_count": 40,
   "outputs": [
    {
     "data": {
      "text/plain": "      Feature_1 Feature_2      pval  Correlation  Not_NAs   P_adusted  \\\n365          X1       Y66  0.021416     0.327972       49  214.155016   \n374          X1       Y75  0.033062     0.305052       49  165.311602   \n5196        X27       Y74  0.036443     0.296654       50  121.477314   \n373          X1       Y74  0.040235     0.294122       49  100.588520   \n3021        X15       Y41  0.042550     0.287992       50   85.100808   \n...         ...       ...       ...          ...      ...         ...   \n12544       X77       Y47  0.999459    -0.000098       50    0.999859   \n4340        X22       Y93  0.999729     0.000049       50    1.000029   \n9277        X53        Y8  0.999729     0.000049       50    0.999929   \n13706       X87       Y34  0.999729     0.000049       50    0.999829   \n14116       X91        Y2  0.999729     0.000049       50    0.999729   \n\n       bh_fdr_threshold  \n365             0.65493  \n374             0.65493  \n5196            0.65493  \n373             0.65493  \n3021            0.65493  \n...                 ...  \n12544           0.65493  \n4340            0.65493  \n9277            0.65493  \n13706           0.65493  \n14116           0.65493  \n\n[10000 rows x 7 columns]",
      "text/html": "<div>\n<style scoped>\n    .dataframe tbody tr th:only-of-type {\n        vertical-align: middle;\n    }\n\n    .dataframe tbody tr th {\n        vertical-align: top;\n    }\n\n    .dataframe thead th {\n        text-align: right;\n    }\n</style>\n<table border=\"1\" class=\"dataframe\">\n  <thead>\n    <tr style=\"text-align: right;\">\n      <th></th>\n      <th>Feature_1</th>\n      <th>Feature_2</th>\n      <th>pval</th>\n      <th>Correlation</th>\n      <th>Not_NAs</th>\n      <th>P_adusted</th>\n      <th>bh_fdr_threshold</th>\n    </tr>\n  </thead>\n  <tbody>\n    <tr>\n      <th>365</th>\n      <td>X1</td>\n      <td>Y66</td>\n      <td>0.021416</td>\n      <td>0.327972</td>\n      <td>49</td>\n      <td>214.155016</td>\n      <td>0.65493</td>\n    </tr>\n    <tr>\n      <th>374</th>\n      <td>X1</td>\n      <td>Y75</td>\n      <td>0.033062</td>\n      <td>0.305052</td>\n      <td>49</td>\n      <td>165.311602</td>\n      <td>0.65493</td>\n    </tr>\n    <tr>\n      <th>5196</th>\n      <td>X27</td>\n      <td>Y74</td>\n      <td>0.036443</td>\n      <td>0.296654</td>\n      <td>50</td>\n      <td>121.477314</td>\n      <td>0.65493</td>\n    </tr>\n    <tr>\n      <th>373</th>\n      <td>X1</td>\n      <td>Y74</td>\n      <td>0.040235</td>\n      <td>0.294122</td>\n      <td>49</td>\n      <td>100.588520</td>\n      <td>0.65493</td>\n    </tr>\n    <tr>\n      <th>3021</th>\n      <td>X15</td>\n      <td>Y41</td>\n      <td>0.042550</td>\n      <td>0.287992</td>\n      <td>50</td>\n      <td>85.100808</td>\n      <td>0.65493</td>\n    </tr>\n    <tr>\n      <th>...</th>\n      <td>...</td>\n      <td>...</td>\n      <td>...</td>\n      <td>...</td>\n      <td>...</td>\n      <td>...</td>\n      <td>...</td>\n    </tr>\n    <tr>\n      <th>12544</th>\n      <td>X77</td>\n      <td>Y47</td>\n      <td>0.999459</td>\n      <td>-0.000098</td>\n      <td>50</td>\n      <td>0.999859</td>\n      <td>0.65493</td>\n    </tr>\n    <tr>\n      <th>4340</th>\n      <td>X22</td>\n      <td>Y93</td>\n      <td>0.999729</td>\n      <td>0.000049</td>\n      <td>50</td>\n      <td>1.000029</td>\n      <td>0.65493</td>\n    </tr>\n    <tr>\n      <th>9277</th>\n      <td>X53</td>\n      <td>Y8</td>\n      <td>0.999729</td>\n      <td>0.000049</td>\n      <td>50</td>\n      <td>0.999929</td>\n      <td>0.65493</td>\n    </tr>\n    <tr>\n      <th>13706</th>\n      <td>X87</td>\n      <td>Y34</td>\n      <td>0.999729</td>\n      <td>0.000049</td>\n      <td>50</td>\n      <td>0.999829</td>\n      <td>0.65493</td>\n    </tr>\n    <tr>\n      <th>14116</th>\n      <td>X91</td>\n      <td>Y2</td>\n      <td>0.999729</td>\n      <td>0.000049</td>\n      <td>50</td>\n      <td>0.999729</td>\n      <td>0.65493</td>\n    </tr>\n  </tbody>\n</table>\n<p>10000 rows × 7 columns</p>\n</div>"
     },
     "execution_count": 40,
     "metadata": {},
     "output_type": "execute_result"
    }
   ],
   "source": [
    "X_Y"
   ],
   "metadata": {
    "collapsed": false,
    "pycharm": {
     "name": "#%%\n"
    }
   }
  },
  {
   "cell_type": "code",
   "execution_count": 41,
   "outputs": [],
   "source": [
    "outputpath = \"/Users/rah/Documents/omicsEye/btest/demo/btest_output\"\n",
    "os.makedirs(outputpath, exist_ok=True)\n",
    "X_Y.to_csv(outputpath + '/X_Y.tsv', sep=\"\\t\")\n",
    "#rho_X = rho.iloc[0:500, 0:500]\n",
    "#rho_X.to_csv(outputpath + '/simtable_X.tsv', sep=\"\\t\")\n",
    "rho_X_Y.to_csv(outputpath + '/simtable.tsv', sep=\"\\t\")\n",
    "within_X.to_csv(outputpath + '/within_X.tsv', sep=\"\\t\")\n",
    "within_Y.to_csv(outputpath + '/within_Y.tsv', sep=\"\\t\")"
   ],
   "metadata": {
    "collapsed": false,
    "pycharm": {
     "name": "#%%\n"
    }
   }
  },
  {
   "cell_type": "code",
   "execution_count": 2,
   "outputs": [],
   "source": [
    "#associations = blockplot.load_associations(path = outputpath + '/X_Y.tsv')\n",
    "associations = blockplot.load_associations('/Users/rah/Dropbox/Ali-Docs/Research_docs/Projects/VastBiome/analysis/btest_bgc_mgx_replaceNA_FALSE_cov_25_measure_rpkg_mbx_pair_spearman_new/X_Y.tsv')"
   ],
   "metadata": {
    "collapsed": false,
    "pycharm": {
     "name": "#%%\n"
    }
   }
  },
  {
   "cell_type": "code",
   "execution_count": 3,
   "outputs": [
    {
     "ename": "NameError",
     "evalue": "name 'outputpath' is not defined",
     "output_type": "error",
     "traceback": [
      "\u001B[0;31m---------------------------------------------------------------------------\u001B[0m",
      "\u001B[0;31mNameError\u001B[0m                                 Traceback (most recent call last)",
      "\u001B[0;32m/var/folders/ry/39y8fffn25q2jpw0b96hq5fh0000gn/T/ipykernel_57853/1473219631.py\u001B[0m in \u001B[0;36m<module>\u001B[0;34m\u001B[0m\n\u001B[0;32m----> 1\u001B[0;31m \u001B[0moutputpath\u001B[0m\u001B[0;34m\u001B[0m\u001B[0;34m\u001B[0m\u001B[0m\n\u001B[0m",
      "\u001B[0;31mNameError\u001B[0m: name 'outputpath' is not defined"
     ]
    }
   ],
   "source": [
    "outputpath"
   ],
   "metadata": {
    "collapsed": false,
    "pycharm": {
     "name": "#%%\n"
    }
   }
  },
  {
   "cell_type": "code",
   "execution_count": 4,
   "outputs": [
    {
     "data": {
      "text/plain": "[['616', ['GCF00020'], ['cystine'], '0.0', '1.0', '0.0'],\n ['623', ['GCF00020'], ['dihydroorotate'], '0.0', '1.0', '0.0'],\n ['673',\n  ['GCF00020'],\n  ['hydrochlorothiazide_C18-neg_v2'],\n  '0.0',\n  '1.0',\n  '0.0'],\n ['3031', ['GCF00023'], ['C34:2 DAG'], '0.0', '1.0', '0.0'],\n ['3091', ['GCF00023'], ['C52:7 TAG'], '0.0', '1.0', '0.0'],\n ['3327', ['GCF00023'], ['tartarate'], '0.0', '1.0', '0.0'],\n ['5361', ['GCF00099'], ['2-aminoheptanoic acid'], '0.0', '1.0', '0.0'],\n ['5366', ['GCF00099'], ['2-hydroxyglutarate'], '0.0', '1.0', '0.0'],\n ['5388', ['GCF00099'], ['4-pyridoxate'], '0.0', '1.0', '0.0'],\n ['5414', ['GCF00099'], ['alanylalanine'], '0.0', '1.0', '0.0'],\n ['5420', ['GCF00099'], ['alpha-ketoglutarate'], '0.0', '1.0', '0.0'],\n ['5429', ['GCF00099'], ['arginine_HILIC-pos_v3'], '0.0', '1.0', '0.0'],\n ['5450', ['GCF00099'], ['C14 carnitine'], '0.0', '1.0', '0.0'],\n ['5455', ['GCF00099'], ['C14:1 carnitine'], '0.0', '1.0', '0.0'],\n ['5461', ['GCF00099'], ['C16:0 LPC_C8-pos_v2'], '0.0', '1.0', '0.0'],\n ['5462', ['GCF00099'], ['C16:0 LPC_HILIC-pos_v3'], '0.0', '1.0', '0.0'],\n ['5464', ['GCF00099'], ['C16:0 LPE_HILIC-pos_v3'], '0.0', '1.0', '0.0'],\n ['5466', ['GCF00099'], ['C16:0 SM_HILIC-pos_v3'], '0.0', '1.0', '0.0'],\n ['5477', ['GCF00099'], ['C18:0 LPC_HILIC-pos_v3'], '0.0', '1.0', '0.0'],\n ['5479', ['GCF00099'], ['C18:0 LPE-A'], '0.0', '1.0', '0.0'],\n ['5480', ['GCF00099'], ['C18:0 LPE-B'], '0.0', '1.0', '0.0'],\n ['5488', ['GCF00099'], ['C18:1 LPE'], '0.0', '1.0', '0.0'],\n ['5495', ['GCF00099'], ['C18:2 LPE'], '0.0', '1.0', '0.0'],\n ['5504', ['GCF00099'], ['C20:3 CE'], '0.0', '1.0', '0.0'],\n ['5505', ['GCF00099'], ['C20:3 LPC'], '0.0', '1.0', '0.0'],\n ['5513', ['GCF00099'], ['C22:0 LPE'], '0.0', '1.0', '0.0'],\n ['5532', ['GCF00099'], ['C32:0 PE'], '0.0', '1.0', '0.0'],\n ['5567', ['GCF00099'], ['C38:5 DAG'], '0.0', '1.0', '0.0'],\n ['5581', ['GCF00099'], ['C48:2 TAG'], '0.0', '1.0', '0.0'],\n ['5593', ['GCF00099'], ['C51:2 TAG'], '0.0', '1.0', '0.0'],\n ['5628', ['GCF00099'], ['carnitine'], '0.0', '1.0', '0.0'],\n ['5636', ['GCF00099'], ['choline'], '0.0', '1.0', '0.0'],\n ['5640', ['GCF00099'], ['citrulline_HILIC-pos_v3'], '0.0', '1.0', '0.0'],\n ['5672', ['GCF00099'], ['fructose/glucose/galactose'], '0.0', '1.0', '0.0'],\n ['5684', ['GCF00099'], ['glycine'], '0.0', '1.0', '0.0'],\n ['5686', ['GCF00099'], ['glycocholate_C18-neg_v2'], '0.0', '1.0', '0.0'],\n ['5737', ['GCF00099'], ['malonate'], '0.0', '1.0', '0.0'],\n ['5745', ['GCF00099'], ['metronidazole'], '0.0', '1.0', '0.0'],\n ['5753', ['GCF00099'], ['N-acetylhistidine'], '0.0', '1.0', '0.0'],\n ['5761',\n  ['GCF00099'],\n  ['N1-methyl-2-pyridone-5-carboxamide'],\n  '0.0',\n  '1.0',\n  '0.0'],\n ['5769', ['GCF00099'], ['niacinamide'], '0.0', '1.0', '0.0'],\n ['5778', ['GCF00099'], ['ornithine'], '0.0', '1.0', '0.0'],\n ['5780', ['GCF00099'], ['oxalate'], '0.0', '1.0', '0.0'],\n ['5783', ['GCF00099'], ['p-hydroxyphenylacetate'], '0.0', '1.0', '0.0'],\n ['5806', ['GCF00099'], ['propionate'], '0.0', '1.0', '0.0'],\n ['5815', ['GCF00099'], ['S-adenosylmethionine'], '0.0', '1.0', '0.0'],\n ['5819', ['GCF00099'], ['salicylate_C18-neg_v2'], '0.0', '1.0', '0.0'],\n ['5820', ['GCF00099'], ['salicylate_HILIC-neg_v3'], '0.0', '1.0', '0.0'],\n ['5836', ['GCF00099'], ['succinate'], '0.0', '1.0', '0.0'],\n ['5854', ['GCF00099'], ['trimethylamine-N-oxide'], '0.0', '1.0', '0.0'],\n ['8171', ['GCF00117'], ['epiandrosterone'], '0.0', '1.0', '0.0'],\n ['8351', ['GCF00117'], ['theophylline'], '0.0', '1.0', '0.0'],\n ['10395', ['GCF00161'], ['acesulfame_HILIC-neg_v3'], '0.0', '1.0', '0.0'],\n ['10613', ['GCF00161'], ['C58:10 TAG'], '0.0', '1.0', '0.0'],\n ['11543', ['GCF00162'], ['indoxyl sulfate'], '0.0', '1.0', '0.0'],\n ['12826', ['GCF00181'], ['1-3-7-trimethylurate'], '0.0', '1.0', '0.0'],\n ['12830', ['GCF00181'], ['1-methylnicotinamide'], '0.0', '1.0', '0.0'],\n ['12832', ['GCF00181'], ['10-heptadecenoate'], '0.0', '1.0', '0.0'],\n ['12833', ['GCF00181'], ['10-nonadecenoate'], '0.0', '1.0', '0.0'],\n ['12840', ['GCF00181'], ['2-aminoheptanoic acid'], '0.0', '1.0', '0.0'],\n ['12844',\n  ['GCF00181'],\n  ['2-hydroxy-3-methylpentanoate'],\n  '0.0',\n  '1.0',\n  '0.0'],\n ['12849', ['GCF00181'], [\"2'-O-methyladenosine\"], '0.0', '1.0', '0.0'],\n ['12851', ['GCF00181'], ['3-hydroxydecanoate'], '0.0', '1.0', '0.0'],\n ['12866', ['GCF00181'], ['4-nitrophenol'], '0.0', '1.0', '0.0'],\n ['12867', ['GCF00181'], ['4-pyridoxate'], '0.0', '1.0', '0.0'],\n ['12880', ['GCF00181'], ['acetaminophen'], '0.0', '1.0', '0.0'],\n ['12884', ['GCF00181'], ['acetytyrosine'], '0.0', '1.0', '0.0'],\n ['12899', ['GCF00181'], ['alpha-ketoglutarate'], '0.0', '1.0', '0.0'],\n ['12902', ['GCF00181'], ['alpha-muricholate'], '0.0', '1.0', '0.0'],\n ['12907', ['GCF00181'], ['arginine_HILIC-neg_v2'], '0.0', '1.0', '0.0'],\n ['12913', ['GCF00181'], ['atenolol'], '0.0', '1.0', '0.0'],\n ['12930', ['GCF00181'], ['C14:0 CE'], '0.0', '1.0', '0.0'],\n ['12951', ['GCF00181'], ['C16:1 MAG'], '0.0', '1.0', '0.0'],\n ['12960', ['GCF00181'], ['C18:0 MAG'], '0.0', '1.0', '0.0'],\n ['12966', ['GCF00181'], ['C18:1 LPC plasmalogen'], '0.0', '1.0', '0.0'],\n ['12980', ['GCF00181'], ['C20:0 LPE'], '0.0', '1.0', '0.0'],\n ['12981', ['GCF00181'], ['C20:0 SM'], '0.0', '1.0', '0.0'],\n ['12991', ['GCF00181'], ['C22:0 Ceramide (d18:1)'], '0.0', '1.0', '0.0'],\n ['13001', ['GCF00181'], ['C24:0 Ceramide (d18:1)'], '0.0', '1.0', '0.0'],\n ['13007', ['GCF00181'], ['C30:0 DAG'], '0.0', '1.0', '0.0'],\n ['13009', ['GCF00181'], ['C32:0 DAG'], '0.0', '1.0', '0.0'],\n ['13012', ['GCF00181'], ['C32:1 DAG'], '0.0', '1.0', '0.0'],\n ['13014', ['GCF00181'], ['C32:2 DAG'], '0.0', '1.0', '0.0'],\n ['13027', ['GCF00181'], ['C36:0 DAG'], '0.0', '1.0', '0.0'],\n ['13041', ['GCF00181'], ['C36:5 PC plasmalogen'], '0.0', '1.0', '0.0'],\n ['13049', ['GCF00181'], ['C42:0 TAG'], '0.0', '1.0', '0.0'],\n ['13053', ['GCF00181'], ['C45:0 TAG'], '0.0', '1.0', '0.0'],\n ['13054', ['GCF00181'], ['C46:0 TAG'], '0.0', '1.0', '0.0'],\n ['13055', ['GCF00181'], ['C46:1 TAG'], '0.0', '1.0', '0.0'],\n ['13105', ['GCF00181'], ['caprylate'], '0.0', '1.0', '0.0'],\n ['13116', ['GCF00181'], ['cinnamoylglycine'], '0.0', '1.0', '0.0'],\n ['13118', ['GCF00181'], ['citrulline_HILIC-neg_v2'], '0.0', '1.0', '0.0'],\n ['13130', ['GCF00181'], ['deoxycholate'], '0.0', '1.0', '0.0'],\n ['13138', ['GCF00181'], ['dodecanedioate'], '0.0', '1.0', '0.0'],\n ['13143', ['GCF00181'], ['eicosanedioate'], '0.0', '1.0', '0.0'],\n ['13173', ['GCF00181'], ['heptadecanoate'], '0.0', '1.0', '0.0'],\n ['13177', ['GCF00181'], ['histamine'], '0.0', '1.0', '0.0'],\n ['13192', ['GCF00181'], ['hypoxanthine_HILIC-pos_v3'], '0.0', '1.0', '0.0'],\n ['13193', ['GCF00181'], ['imidazole propionate'], '0.0', '1.0', '0.0'],\n ['13194', ['GCF00181'], ['imidazoleacetic acid'], '0.0', '1.0', '0.0']]"
     },
     "execution_count": 4,
     "metadata": {},
     "output_type": "execute_result"
    }
   ],
   "source": [
    "associations"
   ],
   "metadata": {
    "collapsed": false,
    "pycharm": {
     "name": "#%%\n"
    }
   }
  },
  {
   "cell_type": "code",
   "execution_count": 5,
   "outputs": [],
   "source": [
    "#simtable = blockplot.load_order_table(outputpath + '/simtable.tsv', associations)\n",
    "simtable = blockplot.load_order_table('/Users/rah/Dropbox/Ali-Docs/Research_docs/Projects/VastBiome/analysis/btest_bgc_mgx_replaceNA_FALSE_cov_25_measure_rpkg_mbx_pair_spearman_new//simtable.tsv', associations)"
   ],
   "metadata": {
    "collapsed": false,
    "pycharm": {
     "name": "#%%\n"
    }
   }
  },
  {
   "cell_type": "code",
   "execution_count": 46,
   "outputs": [
    {
     "data": {
      "text/plain": "      Feature_1 Feature_2      pval  Correlation  Not_NAs   P_adusted  \\\n365          X1       Y66  0.021416     0.327972       49  214.155016   \n374          X1       Y75  0.033062     0.305052       49  165.311602   \n5196        X27       Y74  0.036443     0.296654       50  121.477314   \n373          X1       Y74  0.040235     0.294122       49  100.588520   \n3021        X15       Y41  0.042550     0.287992       50   85.100808   \n...         ...       ...       ...          ...      ...         ...   \n12544       X77       Y47  0.999459    -0.000098       50    0.999859   \n4340        X22       Y93  0.999729     0.000049       50    1.000029   \n9277        X53        Y8  0.999729     0.000049       50    0.999929   \n13706       X87       Y34  0.999729     0.000049       50    0.999829   \n14116       X91        Y2  0.999729     0.000049       50    0.999729   \n\n       bh_fdr_threshold  \n365             0.65493  \n374             0.65493  \n5196            0.65493  \n373             0.65493  \n3021            0.65493  \n...                 ...  \n12544           0.65493  \n4340            0.65493  \n9277            0.65493  \n13706           0.65493  \n14116           0.65493  \n\n[10000 rows x 7 columns]",
      "text/html": "<div>\n<style scoped>\n    .dataframe tbody tr th:only-of-type {\n        vertical-align: middle;\n    }\n\n    .dataframe tbody tr th {\n        vertical-align: top;\n    }\n\n    .dataframe thead th {\n        text-align: right;\n    }\n</style>\n<table border=\"1\" class=\"dataframe\">\n  <thead>\n    <tr style=\"text-align: right;\">\n      <th></th>\n      <th>Feature_1</th>\n      <th>Feature_2</th>\n      <th>pval</th>\n      <th>Correlation</th>\n      <th>Not_NAs</th>\n      <th>P_adusted</th>\n      <th>bh_fdr_threshold</th>\n    </tr>\n  </thead>\n  <tbody>\n    <tr>\n      <th>365</th>\n      <td>X1</td>\n      <td>Y66</td>\n      <td>0.021416</td>\n      <td>0.327972</td>\n      <td>49</td>\n      <td>214.155016</td>\n      <td>0.65493</td>\n    </tr>\n    <tr>\n      <th>374</th>\n      <td>X1</td>\n      <td>Y75</td>\n      <td>0.033062</td>\n      <td>0.305052</td>\n      <td>49</td>\n      <td>165.311602</td>\n      <td>0.65493</td>\n    </tr>\n    <tr>\n      <th>5196</th>\n      <td>X27</td>\n      <td>Y74</td>\n      <td>0.036443</td>\n      <td>0.296654</td>\n      <td>50</td>\n      <td>121.477314</td>\n      <td>0.65493</td>\n    </tr>\n    <tr>\n      <th>373</th>\n      <td>X1</td>\n      <td>Y74</td>\n      <td>0.040235</td>\n      <td>0.294122</td>\n      <td>49</td>\n      <td>100.588520</td>\n      <td>0.65493</td>\n    </tr>\n    <tr>\n      <th>3021</th>\n      <td>X15</td>\n      <td>Y41</td>\n      <td>0.042550</td>\n      <td>0.287992</td>\n      <td>50</td>\n      <td>85.100808</td>\n      <td>0.65493</td>\n    </tr>\n    <tr>\n      <th>...</th>\n      <td>...</td>\n      <td>...</td>\n      <td>...</td>\n      <td>...</td>\n      <td>...</td>\n      <td>...</td>\n      <td>...</td>\n    </tr>\n    <tr>\n      <th>12544</th>\n      <td>X77</td>\n      <td>Y47</td>\n      <td>0.999459</td>\n      <td>-0.000098</td>\n      <td>50</td>\n      <td>0.999859</td>\n      <td>0.65493</td>\n    </tr>\n    <tr>\n      <th>4340</th>\n      <td>X22</td>\n      <td>Y93</td>\n      <td>0.999729</td>\n      <td>0.000049</td>\n      <td>50</td>\n      <td>1.000029</td>\n      <td>0.65493</td>\n    </tr>\n    <tr>\n      <th>9277</th>\n      <td>X53</td>\n      <td>Y8</td>\n      <td>0.999729</td>\n      <td>0.000049</td>\n      <td>50</td>\n      <td>0.999929</td>\n      <td>0.65493</td>\n    </tr>\n    <tr>\n      <th>13706</th>\n      <td>X87</td>\n      <td>Y34</td>\n      <td>0.999729</td>\n      <td>0.000049</td>\n      <td>50</td>\n      <td>0.999829</td>\n      <td>0.65493</td>\n    </tr>\n    <tr>\n      <th>14116</th>\n      <td>X91</td>\n      <td>Y2</td>\n      <td>0.999729</td>\n      <td>0.000049</td>\n      <td>50</td>\n      <td>0.999729</td>\n      <td>0.65493</td>\n    </tr>\n  </tbody>\n</table>\n<p>10000 rows × 7 columns</p>\n</div>"
     },
     "execution_count": 46,
     "metadata": {},
     "output_type": "execute_result"
    }
   ],
   "source": [
    "X_Y"
   ],
   "metadata": {
    "collapsed": false,
    "pycharm": {
     "name": "#%%\n"
    }
   }
  },
  {
   "cell_type": "code",
   "execution_count": 47,
   "outputs": [],
   "source": [
    "blockplot.plot(\n",
    "    simtable,\n",
    "    associations,\n",
    "    cmap=\"RdBu_r\",\n",
    "    mask=False,\n",
    "    axlabels=[\"\",\"\"],\n",
    "    outfile=\"/Users/rah/Documents/omicsEye/btest/demo/btest_output/blockplot.pdf\",\n",
    "    similarity=\"Spearman\"\n",
    ")"
   ],
   "metadata": {
    "collapsed": false,
    "pycharm": {
     "name": "#%%\n"
    }
   }
  },
  {
   "cell_type": "code",
   "execution_count": null,
   "outputs": [],
   "source": [],
   "metadata": {
    "collapsed": false,
    "pycharm": {
     "name": "#%%\n"
    }
   }
  }
 ],
 "metadata": {
  "accelerator": "TPU",
  "colab": {
   "collapsed_sections": [
    "yfILUg1HmAkM"
   ],
   "machine_shape": "hm",
   "name": "15-Ensemble-Evaluation.ipynb",
   "provenance": []
  },
  "kernelspec": {
   "display_name": "Python 3",
   "language": "python",
   "name": "python3"
  },
  "language_info": {
   "codemirror_mode": {
    "name": "ipython",
    "version": 3
   },
   "file_extension": ".py",
   "mimetype": "text/x-python",
   "name": "python",
   "nbconvert_exporter": "python",
   "pygments_lexer": "ipython3",
   "version": "3.7.6"
  }
 },
 "nbformat": 4,
 "nbformat_minor": 1
}