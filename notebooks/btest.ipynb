{
 "cells": [
  {
   "cell_type": "markdown",
   "metadata": {
    "colab_type": "text",
    "id": "AmPqBsydh5J-",
    "pycharm": {
     "name": "#%% md\n"
    }
   },
   "source": [
    "# *btest* initial steps\n",
    "\n",
    "step-by-step"
   ]
  },
  {
   "cell_type": "code",
   "execution_count": 1,
   "outputs": [],
   "source": [
    "import argparse\n",
    "import csv\n",
    "import itertools\n",
    "import logging\n",
    "import os\n",
    "import sys\n",
    "import shutil\n",
    "import time\n",
    "import math\n",
    "import random\n",
    "from scipy.stats import pearsonr\n",
    "import numpy as np\n",
    "import pandas as pd\n",
    "import math\n",
    "from scipy.stats import spearmanr\n",
    "from btest import config\n",
    "from btest import utils\n",
    "from btest import blockplot\n"
   ],
   "metadata": {
    "collapsed": false,
    "pycharm": {
     "name": "#%%\n"
    }
   }
  },
  {
   "cell_type": "code",
   "execution_count": 2,
   "outputs": [],
   "source": [
    "method = 'spearman'\n",
    "min_var = 0.0\n",
    "fdr =0.1"
   ],
   "metadata": {
    "collapsed": false,
    "pycharm": {
     "name": "#%%\n"
    }
   }
  },
  {
   "cell_type": "code",
   "execution_count": 3,
   "outputs": [],
   "source": [
    "dataX , dataY, featuresX, featuresY  = utils.readData('~/Documents/omicsEye/btest/demo/X_dataset.txt', '~/Documents/omicsEye/btest/demo/Y_dataset.txt', min_var=min_var)"
   ],
   "metadata": {
    "collapsed": false,
    "pycharm": {
     "name": "#%%\n"
    }
   }
  },
  {
   "cell_type": "code",
   "execution_count": 4,
   "outputs": [],
   "source": [
    "start_time = time.time()\n",
    "within_X = utils.btest_corr(dataX, featuresX, method=method, fdr=fdr, Type='withinX')\n",
    "within_Y  = utils.btest_corr(dataY, featuresY, method=method, fdr=fdr, Type='withinY')\n",
    "dataAll = np.concatenate((dataX, dataY), axis=0)\n",
    "X_Y = utils.btest_corr(dataAll, featuresX, featuresY, method=method, fdr=fdr, Type='X_Y')\n",
    "rho_excution_time = time.time() - start_time"
   ],
   "metadata": {
    "collapsed": false,
    "pycharm": {
     "name": "#%%\n"
    }
   }
  },
  {
   "cell_type": "code",
   "execution_count": 5,
   "outputs": [
    {
     "data": {
      "text/plain": "10.708202123641968"
     },
     "execution_count": 5,
     "metadata": {},
     "output_type": "execute_result"
    }
   ],
   "source": [
    "rho_excution_time"
   ],
   "metadata": {
    "collapsed": false,
    "pycharm": {
     "name": "#%%\n"
    }
   }
  },
  {
   "cell_type": "code",
   "execution_count": 6,
   "outputs": [
    {
     "data": {
      "text/plain": "     Feature_1 Feature_2      pval  Correlation  Not_NAs   P_adusted  \\\n165         X1       Y66  0.021416     0.327972       49  212.013466   \n174         X1       Y75  0.033062     0.305052       49  163.658486   \n2747       X27       Y74  0.036443     0.296654       50  120.262541   \n173         X1       Y74  0.040235     0.294122       49   99.582635   \n1526       X15       Y41  0.042550     0.287992       50   84.249800   \n...        ...       ...       ...          ...      ...         ...   \n7670       X77       Y47  0.999459    -0.000098       50    0.999863   \n2271       X22       Y93  0.999729     0.000049       50    1.000032   \n5255       X53        Y8  0.999729     0.000049       50    0.999931   \n8647       X87       Y34  0.999729     0.000049       50    0.999830   \n9011       X91        Y2  0.999729     0.000049       50    0.999729   \n\n      bh_fdr_threshold Type  \n165            0.65493  X_Y  \n174            0.65493  X_Y  \n2747           0.65493  X_Y  \n173            0.65493  X_Y  \n1526           0.65493  X_Y  \n...                ...  ...  \n7670           0.65493  X_Y  \n2271           0.65493  X_Y  \n5255           0.65493  X_Y  \n8647           0.65493  X_Y  \n9011           0.65493  X_Y  \n\n[9900 rows x 8 columns]",
      "text/html": "<div>\n<style scoped>\n    .dataframe tbody tr th:only-of-type {\n        vertical-align: middle;\n    }\n\n    .dataframe tbody tr th {\n        vertical-align: top;\n    }\n\n    .dataframe thead th {\n        text-align: right;\n    }\n</style>\n<table border=\"1\" class=\"dataframe\">\n  <thead>\n    <tr style=\"text-align: right;\">\n      <th></th>\n      <th>Feature_1</th>\n      <th>Feature_2</th>\n      <th>pval</th>\n      <th>Correlation</th>\n      <th>Not_NAs</th>\n      <th>P_adusted</th>\n      <th>bh_fdr_threshold</th>\n      <th>Type</th>\n    </tr>\n  </thead>\n  <tbody>\n    <tr>\n      <th>165</th>\n      <td>X1</td>\n      <td>Y66</td>\n      <td>0.021416</td>\n      <td>0.327972</td>\n      <td>49</td>\n      <td>212.013466</td>\n      <td>0.65493</td>\n      <td>X_Y</td>\n    </tr>\n    <tr>\n      <th>174</th>\n      <td>X1</td>\n      <td>Y75</td>\n      <td>0.033062</td>\n      <td>0.305052</td>\n      <td>49</td>\n      <td>163.658486</td>\n      <td>0.65493</td>\n      <td>X_Y</td>\n    </tr>\n    <tr>\n      <th>2747</th>\n      <td>X27</td>\n      <td>Y74</td>\n      <td>0.036443</td>\n      <td>0.296654</td>\n      <td>50</td>\n      <td>120.262541</td>\n      <td>0.65493</td>\n      <td>X_Y</td>\n    </tr>\n    <tr>\n      <th>173</th>\n      <td>X1</td>\n      <td>Y74</td>\n      <td>0.040235</td>\n      <td>0.294122</td>\n      <td>49</td>\n      <td>99.582635</td>\n      <td>0.65493</td>\n      <td>X_Y</td>\n    </tr>\n    <tr>\n      <th>1526</th>\n      <td>X15</td>\n      <td>Y41</td>\n      <td>0.042550</td>\n      <td>0.287992</td>\n      <td>50</td>\n      <td>84.249800</td>\n      <td>0.65493</td>\n      <td>X_Y</td>\n    </tr>\n    <tr>\n      <th>...</th>\n      <td>...</td>\n      <td>...</td>\n      <td>...</td>\n      <td>...</td>\n      <td>...</td>\n      <td>...</td>\n      <td>...</td>\n      <td>...</td>\n    </tr>\n    <tr>\n      <th>7670</th>\n      <td>X77</td>\n      <td>Y47</td>\n      <td>0.999459</td>\n      <td>-0.000098</td>\n      <td>50</td>\n      <td>0.999863</td>\n      <td>0.65493</td>\n      <td>X_Y</td>\n    </tr>\n    <tr>\n      <th>2271</th>\n      <td>X22</td>\n      <td>Y93</td>\n      <td>0.999729</td>\n      <td>0.000049</td>\n      <td>50</td>\n      <td>1.000032</td>\n      <td>0.65493</td>\n      <td>X_Y</td>\n    </tr>\n    <tr>\n      <th>5255</th>\n      <td>X53</td>\n      <td>Y8</td>\n      <td>0.999729</td>\n      <td>0.000049</td>\n      <td>50</td>\n      <td>0.999931</td>\n      <td>0.65493</td>\n      <td>X_Y</td>\n    </tr>\n    <tr>\n      <th>8647</th>\n      <td>X87</td>\n      <td>Y34</td>\n      <td>0.999729</td>\n      <td>0.000049</td>\n      <td>50</td>\n      <td>0.999830</td>\n      <td>0.65493</td>\n      <td>X_Y</td>\n    </tr>\n    <tr>\n      <th>9011</th>\n      <td>X91</td>\n      <td>Y2</td>\n      <td>0.999729</td>\n      <td>0.000049</td>\n      <td>50</td>\n      <td>0.999729</td>\n      <td>0.65493</td>\n      <td>X_Y</td>\n    </tr>\n  </tbody>\n</table>\n<p>9900 rows × 8 columns</p>\n</div>"
     },
     "execution_count": 6,
     "metadata": {},
     "output_type": "execute_result"
    }
   ],
   "source": [
    "X_Y"
   ],
   "metadata": {
    "collapsed": false,
    "pycharm": {
     "name": "#%%\n"
    }
   }
  },
  {
   "cell_type": "code",
   "execution_count": 7,
   "outputs": [
    {
     "data": {
      "text/plain": "     Feature_1 Feature_2      pval  Correlation  Not_NAs  P_adusted  \\\n100         X1        X1  0.000000     1.000000       49   0.000000   \n394         X4        X4  0.000000     1.000000       49   0.000000   \n585         X6        X6  0.000000     1.000000       49   0.000000   \n1134       X12       X12  0.000000     1.000000       49   0.000000   \n1222       X13       X13  0.000000     1.000000       49   0.000000   \n...        ...       ...       ...          ...      ...        ...   \n3137       X38       X78  0.998917    -0.000197       50   0.999709   \n3149       X38       X90  0.998917    -0.000197       50   0.999511   \n3206       X39       X86  0.998917    -0.000197       50   0.999313   \n4435       X65       X80  0.998917    -0.000197       50   0.999115   \n458         X4       X68  0.999858    -0.000026       49   0.999858   \n\n      bh_fdr_threshold     Type  \n100       9.957214e-16  withinX  \n394       9.957214e-16  withinX  \n585       9.957214e-16  withinX  \n1134      9.957214e-16  withinX  \n1222      9.957214e-16  withinX  \n...                ...      ...  \n3137      9.957214e-16  withinX  \n3149      9.957214e-16  withinX  \n3206      9.957214e-16  withinX  \n4435      9.957214e-16  withinX  \n458       9.957214e-16  withinX  \n\n[5050 rows x 8 columns]",
      "text/html": "<div>\n<style scoped>\n    .dataframe tbody tr th:only-of-type {\n        vertical-align: middle;\n    }\n\n    .dataframe tbody tr th {\n        vertical-align: top;\n    }\n\n    .dataframe thead th {\n        text-align: right;\n    }\n</style>\n<table border=\"1\" class=\"dataframe\">\n  <thead>\n    <tr style=\"text-align: right;\">\n      <th></th>\n      <th>Feature_1</th>\n      <th>Feature_2</th>\n      <th>pval</th>\n      <th>Correlation</th>\n      <th>Not_NAs</th>\n      <th>P_adusted</th>\n      <th>bh_fdr_threshold</th>\n      <th>Type</th>\n    </tr>\n  </thead>\n  <tbody>\n    <tr>\n      <th>100</th>\n      <td>X1</td>\n      <td>X1</td>\n      <td>0.000000</td>\n      <td>1.000000</td>\n      <td>49</td>\n      <td>0.000000</td>\n      <td>9.957214e-16</td>\n      <td>withinX</td>\n    </tr>\n    <tr>\n      <th>394</th>\n      <td>X4</td>\n      <td>X4</td>\n      <td>0.000000</td>\n      <td>1.000000</td>\n      <td>49</td>\n      <td>0.000000</td>\n      <td>9.957214e-16</td>\n      <td>withinX</td>\n    </tr>\n    <tr>\n      <th>585</th>\n      <td>X6</td>\n      <td>X6</td>\n      <td>0.000000</td>\n      <td>1.000000</td>\n      <td>49</td>\n      <td>0.000000</td>\n      <td>9.957214e-16</td>\n      <td>withinX</td>\n    </tr>\n    <tr>\n      <th>1134</th>\n      <td>X12</td>\n      <td>X12</td>\n      <td>0.000000</td>\n      <td>1.000000</td>\n      <td>49</td>\n      <td>0.000000</td>\n      <td>9.957214e-16</td>\n      <td>withinX</td>\n    </tr>\n    <tr>\n      <th>1222</th>\n      <td>X13</td>\n      <td>X13</td>\n      <td>0.000000</td>\n      <td>1.000000</td>\n      <td>49</td>\n      <td>0.000000</td>\n      <td>9.957214e-16</td>\n      <td>withinX</td>\n    </tr>\n    <tr>\n      <th>...</th>\n      <td>...</td>\n      <td>...</td>\n      <td>...</td>\n      <td>...</td>\n      <td>...</td>\n      <td>...</td>\n      <td>...</td>\n      <td>...</td>\n    </tr>\n    <tr>\n      <th>3137</th>\n      <td>X38</td>\n      <td>X78</td>\n      <td>0.998917</td>\n      <td>-0.000197</td>\n      <td>50</td>\n      <td>0.999709</td>\n      <td>9.957214e-16</td>\n      <td>withinX</td>\n    </tr>\n    <tr>\n      <th>3149</th>\n      <td>X38</td>\n      <td>X90</td>\n      <td>0.998917</td>\n      <td>-0.000197</td>\n      <td>50</td>\n      <td>0.999511</td>\n      <td>9.957214e-16</td>\n      <td>withinX</td>\n    </tr>\n    <tr>\n      <th>3206</th>\n      <td>X39</td>\n      <td>X86</td>\n      <td>0.998917</td>\n      <td>-0.000197</td>\n      <td>50</td>\n      <td>0.999313</td>\n      <td>9.957214e-16</td>\n      <td>withinX</td>\n    </tr>\n    <tr>\n      <th>4435</th>\n      <td>X65</td>\n      <td>X80</td>\n      <td>0.998917</td>\n      <td>-0.000197</td>\n      <td>50</td>\n      <td>0.999115</td>\n      <td>9.957214e-16</td>\n      <td>withinX</td>\n    </tr>\n    <tr>\n      <th>458</th>\n      <td>X4</td>\n      <td>X68</td>\n      <td>0.999858</td>\n      <td>-0.000026</td>\n      <td>49</td>\n      <td>0.999858</td>\n      <td>9.957214e-16</td>\n      <td>withinX</td>\n    </tr>\n  </tbody>\n</table>\n<p>5050 rows × 8 columns</p>\n</div>"
     },
     "execution_count": 7,
     "metadata": {},
     "output_type": "execute_result"
    }
   ],
   "source": [
    "within_X"
   ],
   "metadata": {
    "collapsed": false,
    "pycharm": {
     "name": "#%%\n"
    }
   }
  },
  {
   "cell_type": "code",
   "execution_count": 8,
   "outputs": [
    {
     "data": {
      "text/plain": "     Feature_1 Feature_2      pval  Correlation  Not_NAs  P_adusted  \\\n0           Y0        Y0  0.000000     1.000000       50   0.000000   \n100         Y1        Y1  0.000000     1.000000       50   0.000000   \n199         Y2        Y2  0.000000     1.000000       50   0.000000   \n394         Y4        Y4  0.000000     1.000000       50   0.000000   \n585         Y6        Y6  0.000000     1.000000       50   0.000000   \n...        ...       ...       ...          ...      ...        ...   \n4002       Y54       Y87  0.993502    -0.001182       50   0.994290   \n2553       Y29       Y88  0.994587    -0.000984       50   0.995179   \n487         Y4       Y97  0.995128    -0.000886       50   0.995522   \n2836       Y33       Y97  0.995128    -0.000886       50   0.995325   \n2871       Y34       Y66  0.996615    -0.000616       50   0.996615   \n\n      bh_fdr_threshold     Type  \n0             0.035926  withinY  \n100           0.035926  withinY  \n199           0.035926  withinY  \n394           0.035926  withinY  \n585           0.035926  withinY  \n...                ...      ...  \n4002          0.035926  withinY  \n2553          0.035926  withinY  \n487           0.035926  withinY  \n2836          0.035926  withinY  \n2871          0.035926  withinY  \n\n[5050 rows x 8 columns]",
      "text/html": "<div>\n<style scoped>\n    .dataframe tbody tr th:only-of-type {\n        vertical-align: middle;\n    }\n\n    .dataframe tbody tr th {\n        vertical-align: top;\n    }\n\n    .dataframe thead th {\n        text-align: right;\n    }\n</style>\n<table border=\"1\" class=\"dataframe\">\n  <thead>\n    <tr style=\"text-align: right;\">\n      <th></th>\n      <th>Feature_1</th>\n      <th>Feature_2</th>\n      <th>pval</th>\n      <th>Correlation</th>\n      <th>Not_NAs</th>\n      <th>P_adusted</th>\n      <th>bh_fdr_threshold</th>\n      <th>Type</th>\n    </tr>\n  </thead>\n  <tbody>\n    <tr>\n      <th>0</th>\n      <td>Y0</td>\n      <td>Y0</td>\n      <td>0.000000</td>\n      <td>1.000000</td>\n      <td>50</td>\n      <td>0.000000</td>\n      <td>0.035926</td>\n      <td>withinY</td>\n    </tr>\n    <tr>\n      <th>100</th>\n      <td>Y1</td>\n      <td>Y1</td>\n      <td>0.000000</td>\n      <td>1.000000</td>\n      <td>50</td>\n      <td>0.000000</td>\n      <td>0.035926</td>\n      <td>withinY</td>\n    </tr>\n    <tr>\n      <th>199</th>\n      <td>Y2</td>\n      <td>Y2</td>\n      <td>0.000000</td>\n      <td>1.000000</td>\n      <td>50</td>\n      <td>0.000000</td>\n      <td>0.035926</td>\n      <td>withinY</td>\n    </tr>\n    <tr>\n      <th>394</th>\n      <td>Y4</td>\n      <td>Y4</td>\n      <td>0.000000</td>\n      <td>1.000000</td>\n      <td>50</td>\n      <td>0.000000</td>\n      <td>0.035926</td>\n      <td>withinY</td>\n    </tr>\n    <tr>\n      <th>585</th>\n      <td>Y6</td>\n      <td>Y6</td>\n      <td>0.000000</td>\n      <td>1.000000</td>\n      <td>50</td>\n      <td>0.000000</td>\n      <td>0.035926</td>\n      <td>withinY</td>\n    </tr>\n    <tr>\n      <th>...</th>\n      <td>...</td>\n      <td>...</td>\n      <td>...</td>\n      <td>...</td>\n      <td>...</td>\n      <td>...</td>\n      <td>...</td>\n      <td>...</td>\n    </tr>\n    <tr>\n      <th>4002</th>\n      <td>Y54</td>\n      <td>Y87</td>\n      <td>0.993502</td>\n      <td>-0.001182</td>\n      <td>50</td>\n      <td>0.994290</td>\n      <td>0.035926</td>\n      <td>withinY</td>\n    </tr>\n    <tr>\n      <th>2553</th>\n      <td>Y29</td>\n      <td>Y88</td>\n      <td>0.994587</td>\n      <td>-0.000984</td>\n      <td>50</td>\n      <td>0.995179</td>\n      <td>0.035926</td>\n      <td>withinY</td>\n    </tr>\n    <tr>\n      <th>487</th>\n      <td>Y4</td>\n      <td>Y97</td>\n      <td>0.995128</td>\n      <td>-0.000886</td>\n      <td>50</td>\n      <td>0.995522</td>\n      <td>0.035926</td>\n      <td>withinY</td>\n    </tr>\n    <tr>\n      <th>2836</th>\n      <td>Y33</td>\n      <td>Y97</td>\n      <td>0.995128</td>\n      <td>-0.000886</td>\n      <td>50</td>\n      <td>0.995325</td>\n      <td>0.035926</td>\n      <td>withinY</td>\n    </tr>\n    <tr>\n      <th>2871</th>\n      <td>Y34</td>\n      <td>Y66</td>\n      <td>0.996615</td>\n      <td>-0.000616</td>\n      <td>50</td>\n      <td>0.996615</td>\n      <td>0.035926</td>\n      <td>withinY</td>\n    </tr>\n  </tbody>\n</table>\n<p>5050 rows × 8 columns</p>\n</div>"
     },
     "execution_count": 8,
     "metadata": {},
     "output_type": "execute_result"
    }
   ],
   "source": [
    "within_Y"
   ],
   "metadata": {
    "collapsed": false,
    "pycharm": {
     "name": "#%%\n"
    }
   }
  },
  {
   "cell_type": "code",
   "execution_count": 9,
   "outputs": [
    {
     "data": {
      "text/plain": "165     0.021416\n174     0.033062\n2747    0.036443\n173     0.040235\n1526    0.042550\n          ...   \n7670    0.999459\n2271    0.999729\n5255    0.999729\n8647    0.999729\n9011    0.999729\nName: pval, Length: 9900, dtype: float64"
     },
     "execution_count": 9,
     "metadata": {},
     "output_type": "execute_result"
    }
   ],
   "source": [
    "X_Y.pval"
   ],
   "metadata": {
    "collapsed": false,
    "pycharm": {
     "name": "#%%\n"
    }
   }
  },
  {
   "cell_type": "code",
   "execution_count": 41,
   "outputs": [],
   "source": [
    "outputpath = \"/Users/rah/Documents/omicsEye/btest/demo/btest_output\"\n",
    "os.makedirs(outputpath, exist_ok=True)\n",
    "X_Y.to_csv(outputpath + '/X_Y.tsv', sep=\"\\t\")\n",
    "#rho_X = rho.iloc[0:500, 0:500]\n",
    "#rho_X.to_csv(outputpath + '/simtable_X.tsv', sep=\"\\t\")\n",
    "#rho_X_Y.to_csv(outputpath + '/simtable.tsv', sep=\"\\t\")\n",
    "within_X.to_csv(outputpath + '/within_X.tsv', sep=\"\\t\")\n",
    "within_Y.to_csv(outputpath + '/within_Y.tsv', sep=\"\\t\")"
   ],
   "metadata": {
    "collapsed": false,
    "pycharm": {
     "name": "#%%\n"
    }
   }
  },
  {
   "cell_type": "code",
   "execution_count": 2,
   "outputs": [],
   "source": [
    "#associations = blockplot.load_associations(path = outputpath + '/X_Y.tsv')\n",
    "associations = blockplot.load_associations('/Users/rah/Dropbox/Ali-Docs/Research_docs/Projects/VastBiome/analysis/btest_bgc_mgx_replaceNA_FALSE_cov_25_measure_rpkg_mbx_pair_spearman_new/X_Y.tsv')"
   ],
   "metadata": {
    "collapsed": false,
    "pycharm": {
     "name": "#%%\n"
    }
   }
  },
  {
   "cell_type": "code",
   "execution_count": 3,
   "outputs": [
    {
     "ename": "NameError",
     "evalue": "name 'outputpath' is not defined",
     "output_type": "error",
     "traceback": [
      "\u001B[0;31m---------------------------------------------------------------------------\u001B[0m",
      "\u001B[0;31mNameError\u001B[0m                                 Traceback (most recent call last)",
      "\u001B[0;32m/var/folders/ry/39y8fffn25q2jpw0b96hq5fh0000gn/T/ipykernel_57853/1473219631.py\u001B[0m in \u001B[0;36m<module>\u001B[0;34m\u001B[0m\n\u001B[0;32m----> 1\u001B[0;31m \u001B[0moutputpath\u001B[0m\u001B[0;34m\u001B[0m\u001B[0;34m\u001B[0m\u001B[0m\n\u001B[0m",
      "\u001B[0;31mNameError\u001B[0m: name 'outputpath' is not defined"
     ]
    }
   ],
   "source": [
    "outputpath"
   ],
   "metadata": {
    "collapsed": false,
    "pycharm": {
     "name": "#%%\n"
    }
   }
  },
  {
   "cell_type": "code",
   "execution_count": 4,
   "outputs": [
    {
     "data": {
      "text/plain": "[['616', ['GCF00020'], ['cystine'], '0.0', '1.0', '0.0'],\n ['623', ['GCF00020'], ['dihydroorotate'], '0.0', '1.0', '0.0'],\n ['673',\n  ['GCF00020'],\n  ['hydrochlorothiazide_C18-neg_v2'],\n  '0.0',\n  '1.0',\n  '0.0'],\n ['3031', ['GCF00023'], ['C34:2 DAG'], '0.0', '1.0', '0.0'],\n ['3091', ['GCF00023'], ['C52:7 TAG'], '0.0', '1.0', '0.0'],\n ['3327', ['GCF00023'], ['tartarate'], '0.0', '1.0', '0.0'],\n ['5361', ['GCF00099'], ['2-aminoheptanoic acid'], '0.0', '1.0', '0.0'],\n ['5366', ['GCF00099'], ['2-hydroxyglutarate'], '0.0', '1.0', '0.0'],\n ['5388', ['GCF00099'], ['4-pyridoxate'], '0.0', '1.0', '0.0'],\n ['5414', ['GCF00099'], ['alanylalanine'], '0.0', '1.0', '0.0'],\n ['5420', ['GCF00099'], ['alpha-ketoglutarate'], '0.0', '1.0', '0.0'],\n ['5429', ['GCF00099'], ['arginine_HILIC-pos_v3'], '0.0', '1.0', '0.0'],\n ['5450', ['GCF00099'], ['C14 carnitine'], '0.0', '1.0', '0.0'],\n ['5455', ['GCF00099'], ['C14:1 carnitine'], '0.0', '1.0', '0.0'],\n ['5461', ['GCF00099'], ['C16:0 LPC_C8-pos_v2'], '0.0', '1.0', '0.0'],\n ['5462', ['GCF00099'], ['C16:0 LPC_HILIC-pos_v3'], '0.0', '1.0', '0.0'],\n ['5464', ['GCF00099'], ['C16:0 LPE_HILIC-pos_v3'], '0.0', '1.0', '0.0'],\n ['5466', ['GCF00099'], ['C16:0 SM_HILIC-pos_v3'], '0.0', '1.0', '0.0'],\n ['5477', ['GCF00099'], ['C18:0 LPC_HILIC-pos_v3'], '0.0', '1.0', '0.0'],\n ['5479', ['GCF00099'], ['C18:0 LPE-A'], '0.0', '1.0', '0.0'],\n ['5480', ['GCF00099'], ['C18:0 LPE-B'], '0.0', '1.0', '0.0'],\n ['5488', ['GCF00099'], ['C18:1 LPE'], '0.0', '1.0', '0.0'],\n ['5495', ['GCF00099'], ['C18:2 LPE'], '0.0', '1.0', '0.0'],\n ['5504', ['GCF00099'], ['C20:3 CE'], '0.0', '1.0', '0.0'],\n ['5505', ['GCF00099'], ['C20:3 LPC'], '0.0', '1.0', '0.0'],\n ['5513', ['GCF00099'], ['C22:0 LPE'], '0.0', '1.0', '0.0'],\n ['5532', ['GCF00099'], ['C32:0 PE'], '0.0', '1.0', '0.0'],\n ['5567', ['GCF00099'], ['C38:5 DAG'], '0.0', '1.0', '0.0'],\n ['5581', ['GCF00099'], ['C48:2 TAG'], '0.0', '1.0', '0.0'],\n ['5593', ['GCF00099'], ['C51:2 TAG'], '0.0', '1.0', '0.0'],\n ['5628', ['GCF00099'], ['carnitine'], '0.0', '1.0', '0.0'],\n ['5636', ['GCF00099'], ['choline'], '0.0', '1.0', '0.0'],\n ['5640', ['GCF00099'], ['citrulline_HILIC-pos_v3'], '0.0', '1.0', '0.0'],\n ['5672', ['GCF00099'], ['fructose/glucose/galactose'], '0.0', '1.0', '0.0'],\n ['5684', ['GCF00099'], ['glycine'], '0.0', '1.0', '0.0'],\n ['5686', ['GCF00099'], ['glycocholate_C18-neg_v2'], '0.0', '1.0', '0.0'],\n ['5737', ['GCF00099'], ['malonate'], '0.0', '1.0', '0.0'],\n ['5745', ['GCF00099'], ['metronidazole'], '0.0', '1.0', '0.0'],\n ['5753', ['GCF00099'], ['N-acetylhistidine'], '0.0', '1.0', '0.0'],\n ['5761',\n  ['GCF00099'],\n  ['N1-methyl-2-pyridone-5-carboxamide'],\n  '0.0',\n  '1.0',\n  '0.0'],\n ['5769', ['GCF00099'], ['niacinamide'], '0.0', '1.0', '0.0'],\n ['5778', ['GCF00099'], ['ornithine'], '0.0', '1.0', '0.0'],\n ['5780', ['GCF00099'], ['oxalate'], '0.0', '1.0', '0.0'],\n ['5783', ['GCF00099'], ['p-hydroxyphenylacetate'], '0.0', '1.0', '0.0'],\n ['5806', ['GCF00099'], ['propionate'], '0.0', '1.0', '0.0'],\n ['5815', ['GCF00099'], ['S-adenosylmethionine'], '0.0', '1.0', '0.0'],\n ['5819', ['GCF00099'], ['salicylate_C18-neg_v2'], '0.0', '1.0', '0.0'],\n ['5820', ['GCF00099'], ['salicylate_HILIC-neg_v3'], '0.0', '1.0', '0.0'],\n ['5836', ['GCF00099'], ['succinate'], '0.0', '1.0', '0.0'],\n ['5854', ['GCF00099'], ['trimethylamine-N-oxide'], '0.0', '1.0', '0.0'],\n ['8171', ['GCF00117'], ['epiandrosterone'], '0.0', '1.0', '0.0'],\n ['8351', ['GCF00117'], ['theophylline'], '0.0', '1.0', '0.0'],\n ['10395', ['GCF00161'], ['acesulfame_HILIC-neg_v3'], '0.0', '1.0', '0.0'],\n ['10613', ['GCF00161'], ['C58:10 TAG'], '0.0', '1.0', '0.0'],\n ['11543', ['GCF00162'], ['indoxyl sulfate'], '0.0', '1.0', '0.0'],\n ['12826', ['GCF00181'], ['1-3-7-trimethylurate'], '0.0', '1.0', '0.0'],\n ['12830', ['GCF00181'], ['1-methylnicotinamide'], '0.0', '1.0', '0.0'],\n ['12832', ['GCF00181'], ['10-heptadecenoate'], '0.0', '1.0', '0.0'],\n ['12833', ['GCF00181'], ['10-nonadecenoate'], '0.0', '1.0', '0.0'],\n ['12840', ['GCF00181'], ['2-aminoheptanoic acid'], '0.0', '1.0', '0.0'],\n ['12844',\n  ['GCF00181'],\n  ['2-hydroxy-3-methylpentanoate'],\n  '0.0',\n  '1.0',\n  '0.0'],\n ['12849', ['GCF00181'], [\"2'-O-methyladenosine\"], '0.0', '1.0', '0.0'],\n ['12851', ['GCF00181'], ['3-hydroxydecanoate'], '0.0', '1.0', '0.0'],\n ['12866', ['GCF00181'], ['4-nitrophenol'], '0.0', '1.0', '0.0'],\n ['12867', ['GCF00181'], ['4-pyridoxate'], '0.0', '1.0', '0.0'],\n ['12880', ['GCF00181'], ['acetaminophen'], '0.0', '1.0', '0.0'],\n ['12884', ['GCF00181'], ['acetytyrosine'], '0.0', '1.0', '0.0'],\n ['12899', ['GCF00181'], ['alpha-ketoglutarate'], '0.0', '1.0', '0.0'],\n ['12902', ['GCF00181'], ['alpha-muricholate'], '0.0', '1.0', '0.0'],\n ['12907', ['GCF00181'], ['arginine_HILIC-neg_v2'], '0.0', '1.0', '0.0'],\n ['12913', ['GCF00181'], ['atenolol'], '0.0', '1.0', '0.0'],\n ['12930', ['GCF00181'], ['C14:0 CE'], '0.0', '1.0', '0.0'],\n ['12951', ['GCF00181'], ['C16:1 MAG'], '0.0', '1.0', '0.0'],\n ['12960', ['GCF00181'], ['C18:0 MAG'], '0.0', '1.0', '0.0'],\n ['12966', ['GCF00181'], ['C18:1 LPC plasmalogen'], '0.0', '1.0', '0.0'],\n ['12980', ['GCF00181'], ['C20:0 LPE'], '0.0', '1.0', '0.0'],\n ['12981', ['GCF00181'], ['C20:0 SM'], '0.0', '1.0', '0.0'],\n ['12991', ['GCF00181'], ['C22:0 Ceramide (d18:1)'], '0.0', '1.0', '0.0'],\n ['13001', ['GCF00181'], ['C24:0 Ceramide (d18:1)'], '0.0', '1.0', '0.0'],\n ['13007', ['GCF00181'], ['C30:0 DAG'], '0.0', '1.0', '0.0'],\n ['13009', ['GCF00181'], ['C32:0 DAG'], '0.0', '1.0', '0.0'],\n ['13012', ['GCF00181'], ['C32:1 DAG'], '0.0', '1.0', '0.0'],\n ['13014', ['GCF00181'], ['C32:2 DAG'], '0.0', '1.0', '0.0'],\n ['13027', ['GCF00181'], ['C36:0 DAG'], '0.0', '1.0', '0.0'],\n ['13041', ['GCF00181'], ['C36:5 PC plasmalogen'], '0.0', '1.0', '0.0'],\n ['13049', ['GCF00181'], ['C42:0 TAG'], '0.0', '1.0', '0.0'],\n ['13053', ['GCF00181'], ['C45:0 TAG'], '0.0', '1.0', '0.0'],\n ['13054', ['GCF00181'], ['C46:0 TAG'], '0.0', '1.0', '0.0'],\n ['13055', ['GCF00181'], ['C46:1 TAG'], '0.0', '1.0', '0.0'],\n ['13105', ['GCF00181'], ['caprylate'], '0.0', '1.0', '0.0'],\n ['13116', ['GCF00181'], ['cinnamoylglycine'], '0.0', '1.0', '0.0'],\n ['13118', ['GCF00181'], ['citrulline_HILIC-neg_v2'], '0.0', '1.0', '0.0'],\n ['13130', ['GCF00181'], ['deoxycholate'], '0.0', '1.0', '0.0'],\n ['13138', ['GCF00181'], ['dodecanedioate'], '0.0', '1.0', '0.0'],\n ['13143', ['GCF00181'], ['eicosanedioate'], '0.0', '1.0', '0.0'],\n ['13173', ['GCF00181'], ['heptadecanoate'], '0.0', '1.0', '0.0'],\n ['13177', ['GCF00181'], ['histamine'], '0.0', '1.0', '0.0'],\n ['13192', ['GCF00181'], ['hypoxanthine_HILIC-pos_v3'], '0.0', '1.0', '0.0'],\n ['13193', ['GCF00181'], ['imidazole propionate'], '0.0', '1.0', '0.0'],\n ['13194', ['GCF00181'], ['imidazoleacetic acid'], '0.0', '1.0', '0.0']]"
     },
     "execution_count": 4,
     "metadata": {},
     "output_type": "execute_result"
    }
   ],
   "source": [
    "associations"
   ],
   "metadata": {
    "collapsed": false,
    "pycharm": {
     "name": "#%%\n"
    }
   }
  },
  {
   "cell_type": "code",
   "execution_count": 5,
   "outputs": [],
   "source": [
    "#simtable = blockplot.load_order_table(outputpath + '/simtable.tsv', associations)\n",
    "simtable = blockplot.load_order_table('/Users/rah/Dropbox/Ali-Docs/Research_docs/Projects/VastBiome/analysis/btest_bgc_mgx_replaceNA_FALSE_cov_25_measure_rpkg_mbx_pair_spearman_new//simtable.tsv', associations)"
   ],
   "metadata": {
    "collapsed": false,
    "pycharm": {
     "name": "#%%\n"
    }
   }
  },
  {
   "cell_type": "code",
   "execution_count": 46,
   "outputs": [
    {
     "data": {
      "text/plain": "      Feature_1 Feature_2      pval  Correlation  Not_NAs   P_adusted  \\\n365          X1       Y66  0.021416     0.327972       49  214.155016   \n374          X1       Y75  0.033062     0.305052       49  165.311602   \n5196        X27       Y74  0.036443     0.296654       50  121.477314   \n373          X1       Y74  0.040235     0.294122       49  100.588520   \n3021        X15       Y41  0.042550     0.287992       50   85.100808   \n...         ...       ...       ...          ...      ...         ...   \n12544       X77       Y47  0.999459    -0.000098       50    0.999859   \n4340        X22       Y93  0.999729     0.000049       50    1.000029   \n9277        X53        Y8  0.999729     0.000049       50    0.999929   \n13706       X87       Y34  0.999729     0.000049       50    0.999829   \n14116       X91        Y2  0.999729     0.000049       50    0.999729   \n\n       bh_fdr_threshold  \n365             0.65493  \n374             0.65493  \n5196            0.65493  \n373             0.65493  \n3021            0.65493  \n...                 ...  \n12544           0.65493  \n4340            0.65493  \n9277            0.65493  \n13706           0.65493  \n14116           0.65493  \n\n[10000 rows x 7 columns]",
      "text/html": "<div>\n<style scoped>\n    .dataframe tbody tr th:only-of-type {\n        vertical-align: middle;\n    }\n\n    .dataframe tbody tr th {\n        vertical-align: top;\n    }\n\n    .dataframe thead th {\n        text-align: right;\n    }\n</style>\n<table border=\"1\" class=\"dataframe\">\n  <thead>\n    <tr style=\"text-align: right;\">\n      <th></th>\n      <th>Feature_1</th>\n      <th>Feature_2</th>\n      <th>pval</th>\n      <th>Correlation</th>\n      <th>Not_NAs</th>\n      <th>P_adusted</th>\n      <th>bh_fdr_threshold</th>\n    </tr>\n  </thead>\n  <tbody>\n    <tr>\n      <th>365</th>\n      <td>X1</td>\n      <td>Y66</td>\n      <td>0.021416</td>\n      <td>0.327972</td>\n      <td>49</td>\n      <td>214.155016</td>\n      <td>0.65493</td>\n    </tr>\n    <tr>\n      <th>374</th>\n      <td>X1</td>\n      <td>Y75</td>\n      <td>0.033062</td>\n      <td>0.305052</td>\n      <td>49</td>\n      <td>165.311602</td>\n      <td>0.65493</td>\n    </tr>\n    <tr>\n      <th>5196</th>\n      <td>X27</td>\n      <td>Y74</td>\n      <td>0.036443</td>\n      <td>0.296654</td>\n      <td>50</td>\n      <td>121.477314</td>\n      <td>0.65493</td>\n    </tr>\n    <tr>\n      <th>373</th>\n      <td>X1</td>\n      <td>Y74</td>\n      <td>0.040235</td>\n      <td>0.294122</td>\n      <td>49</td>\n      <td>100.588520</td>\n      <td>0.65493</td>\n    </tr>\n    <tr>\n      <th>3021</th>\n      <td>X15</td>\n      <td>Y41</td>\n      <td>0.042550</td>\n      <td>0.287992</td>\n      <td>50</td>\n      <td>85.100808</td>\n      <td>0.65493</td>\n    </tr>\n    <tr>\n      <th>...</th>\n      <td>...</td>\n      <td>...</td>\n      <td>...</td>\n      <td>...</td>\n      <td>...</td>\n      <td>...</td>\n      <td>...</td>\n    </tr>\n    <tr>\n      <th>12544</th>\n      <td>X77</td>\n      <td>Y47</td>\n      <td>0.999459</td>\n      <td>-0.000098</td>\n      <td>50</td>\n      <td>0.999859</td>\n      <td>0.65493</td>\n    </tr>\n    <tr>\n      <th>4340</th>\n      <td>X22</td>\n      <td>Y93</td>\n      <td>0.999729</td>\n      <td>0.000049</td>\n      <td>50</td>\n      <td>1.000029</td>\n      <td>0.65493</td>\n    </tr>\n    <tr>\n      <th>9277</th>\n      <td>X53</td>\n      <td>Y8</td>\n      <td>0.999729</td>\n      <td>0.000049</td>\n      <td>50</td>\n      <td>0.999929</td>\n      <td>0.65493</td>\n    </tr>\n    <tr>\n      <th>13706</th>\n      <td>X87</td>\n      <td>Y34</td>\n      <td>0.999729</td>\n      <td>0.000049</td>\n      <td>50</td>\n      <td>0.999829</td>\n      <td>0.65493</td>\n    </tr>\n    <tr>\n      <th>14116</th>\n      <td>X91</td>\n      <td>Y2</td>\n      <td>0.999729</td>\n      <td>0.000049</td>\n      <td>50</td>\n      <td>0.999729</td>\n      <td>0.65493</td>\n    </tr>\n  </tbody>\n</table>\n<p>10000 rows × 7 columns</p>\n</div>"
     },
     "execution_count": 46,
     "metadata": {},
     "output_type": "execute_result"
    }
   ],
   "source": [
    "X_Y"
   ],
   "metadata": {
    "collapsed": false,
    "pycharm": {
     "name": "#%%\n"
    }
   }
  },
  {
   "cell_type": "code",
   "execution_count": 47,
   "outputs": [],
   "source": [
    "blockplot.plot(\n",
    "    simtable,\n",
    "    associations,\n",
    "    cmap=\"RdBu_r\",\n",
    "    mask=False,\n",
    "    axlabels=[\"\",\"\"],\n",
    "    outfile=\"/Users/rah/Documents/omicsEye/btest/demo/btest_output/blockplot.pdf\",\n",
    "    similarity=\"Spearman\"\n",
    ")"
   ],
   "metadata": {
    "collapsed": false,
    "pycharm": {
     "name": "#%%\n"
    }
   }
  },
  {
   "cell_type": "code",
   "execution_count": null,
   "outputs": [],
   "source": [],
   "metadata": {
    "collapsed": false,
    "pycharm": {
     "name": "#%%\n"
    }
   }
  }
 ],
 "metadata": {
  "accelerator": "TPU",
  "colab": {
   "collapsed_sections": [
    "yfILUg1HmAkM"
   ],
   "machine_shape": "hm",
   "name": "15-Ensemble-Evaluation.ipynb",
   "provenance": []
  },
  "kernelspec": {
   "display_name": "Python 3",
   "language": "python",
   "name": "python3"
  },
  "language_info": {
   "codemirror_mode": {
    "name": "ipython",
    "version": 3
   },
   "file_extension": ".py",
   "mimetype": "text/x-python",
   "name": "python",
   "nbconvert_exporter": "python",
   "pygments_lexer": "ipython3",
   "version": "3.7.6"
  }
 },
 "nbformat": 4,
 "nbformat_minor": 1
}