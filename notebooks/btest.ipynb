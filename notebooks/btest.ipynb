{
 "cells": [
  {
   "cell_type": "markdown",
   "metadata": {
    "colab_type": "text",
    "id": "AmPqBsydh5J-",
    "pycharm": {
     "name": "#%% md\n"
    }
   },
   "source": [
    "# *btest* initial steps\n",
    "\n",
    "step-by-step"
   ]
  },
  {
   "cell_type": "code",
   "execution_count": 4,
   "outputs": [],
   "source": [
    "import argparse\n",
    "import csv\n",
    "import itertools\n",
    "import logging\n",
    "import os\n",
    "import sys\n",
    "import shutil\n",
    "import time\n",
    "import math\n",
    "import random\n",
    "from scipy.stats import pearsonr\n",
    "import numpy as np\n",
    "import pandas as pd\n"
   ],
   "metadata": {
    "collapsed": false,
    "pycharm": {
     "name": "#%%\n"
    }
   }
  },
  {
   "cell_type": "code",
   "execution_count": 5,
   "outputs": [],
   "source": [
    "dataX = pd.read_table('/Users/rah/Documents/omicsEye/btest/demo/X_dataset.txt', index_col=0, header=0)"
   ],
   "metadata": {
    "collapsed": false,
    "pycharm": {
     "name": "#%%\n"
    }
   }
  },
  {
   "cell_type": "code",
   "execution_count": 6,
   "outputs": [],
   "source": [
    "dataY = pd.read_table('/Users/rah/Documents/omicsEye/btest/demo/Y_dataset.txt', index_col=0, header=0)"
   ],
   "metadata": {
    "collapsed": false,
    "pycharm": {
     "name": "#%%\n"
    }
   }
  },
  {
   "cell_type": "code",
   "execution_count": 7,
   "outputs": [
    {
     "data": {
      "text/plain": "     S0  S1  S2  S3  S4  S5  S6  S7  S8  S9  ...  S40  S41  S42  S43  S44  \\\n0     4   5   2   3   1   3   4   5   6   4  ...    3    5    6    4    1   \n1     4   5   3   2   1   4   3   5   6   4  ...    2    5    6    2    1   \n2     4   5   3   2   1   4   3   5   6   4  ...    3    5    6    3    1   \n3     4   5   2   3   1   4   3   5   6   4  ...    3    5    6    3    1   \n4     4   5   2   2   1   4   3   5   6   4  ...    3    5    6    3    1   \n..   ..  ..  ..  ..  ..  ..  ..  ..  ..  ..  ...  ...  ...  ...  ...  ...   \n495   4   5   6   1   6   1   3   2   4   5  ...    1    3    1    3    1   \n496   4   5   6   3   6   3   1   1   2   5  ...    2    1    4    2    3   \n497   1   3   6   4   5   4   1   2   3   6  ...    2    3    4    3    1   \n498   3   4   6   2   6   2   4   1   5   5  ...    2    4    1    3    3   \n499   4   5   6   4   6   4   1   3   3   4  ...    2    2    3    3    3   \n\n     S45  S46  S47  S48  S49  \n0      4    4    6    1    2  \n1      4    3    6    2    2  \n2      4    3    6    1    1  \n3      4    3    6    1    2  \n4      4    3    6    2    1  \n..   ...  ...  ...  ...  ...  \n495    2    3    3    4    6  \n496    4    1    1    4    6  \n497    4    1    3    5    5  \n498    2    4    1    4    6  \n499    2    1    1    4    6  \n\n[500 rows x 50 columns]",
      "text/html": "<div>\n<style scoped>\n    .dataframe tbody tr th:only-of-type {\n        vertical-align: middle;\n    }\n\n    .dataframe tbody tr th {\n        vertical-align: top;\n    }\n\n    .dataframe thead th {\n        text-align: right;\n    }\n</style>\n<table border=\"1\" class=\"dataframe\">\n  <thead>\n    <tr style=\"text-align: right;\">\n      <th></th>\n      <th>S0</th>\n      <th>S1</th>\n      <th>S2</th>\n      <th>S3</th>\n      <th>S4</th>\n      <th>S5</th>\n      <th>S6</th>\n      <th>S7</th>\n      <th>S8</th>\n      <th>S9</th>\n      <th>...</th>\n      <th>S40</th>\n      <th>S41</th>\n      <th>S42</th>\n      <th>S43</th>\n      <th>S44</th>\n      <th>S45</th>\n      <th>S46</th>\n      <th>S47</th>\n      <th>S48</th>\n      <th>S49</th>\n    </tr>\n  </thead>\n  <tbody>\n    <tr>\n      <th>0</th>\n      <td>4</td>\n      <td>5</td>\n      <td>2</td>\n      <td>3</td>\n      <td>1</td>\n      <td>3</td>\n      <td>4</td>\n      <td>5</td>\n      <td>6</td>\n      <td>4</td>\n      <td>...</td>\n      <td>3</td>\n      <td>5</td>\n      <td>6</td>\n      <td>4</td>\n      <td>1</td>\n      <td>4</td>\n      <td>4</td>\n      <td>6</td>\n      <td>1</td>\n      <td>2</td>\n    </tr>\n    <tr>\n      <th>1</th>\n      <td>4</td>\n      <td>5</td>\n      <td>3</td>\n      <td>2</td>\n      <td>1</td>\n      <td>4</td>\n      <td>3</td>\n      <td>5</td>\n      <td>6</td>\n      <td>4</td>\n      <td>...</td>\n      <td>2</td>\n      <td>5</td>\n      <td>6</td>\n      <td>2</td>\n      <td>1</td>\n      <td>4</td>\n      <td>3</td>\n      <td>6</td>\n      <td>2</td>\n      <td>2</td>\n    </tr>\n    <tr>\n      <th>2</th>\n      <td>4</td>\n      <td>5</td>\n      <td>3</td>\n      <td>2</td>\n      <td>1</td>\n      <td>4</td>\n      <td>3</td>\n      <td>5</td>\n      <td>6</td>\n      <td>4</td>\n      <td>...</td>\n      <td>3</td>\n      <td>5</td>\n      <td>6</td>\n      <td>3</td>\n      <td>1</td>\n      <td>4</td>\n      <td>3</td>\n      <td>6</td>\n      <td>1</td>\n      <td>1</td>\n    </tr>\n    <tr>\n      <th>3</th>\n      <td>4</td>\n      <td>5</td>\n      <td>2</td>\n      <td>3</td>\n      <td>1</td>\n      <td>4</td>\n      <td>3</td>\n      <td>5</td>\n      <td>6</td>\n      <td>4</td>\n      <td>...</td>\n      <td>3</td>\n      <td>5</td>\n      <td>6</td>\n      <td>3</td>\n      <td>1</td>\n      <td>4</td>\n      <td>3</td>\n      <td>6</td>\n      <td>1</td>\n      <td>2</td>\n    </tr>\n    <tr>\n      <th>4</th>\n      <td>4</td>\n      <td>5</td>\n      <td>2</td>\n      <td>2</td>\n      <td>1</td>\n      <td>4</td>\n      <td>3</td>\n      <td>5</td>\n      <td>6</td>\n      <td>4</td>\n      <td>...</td>\n      <td>3</td>\n      <td>5</td>\n      <td>6</td>\n      <td>3</td>\n      <td>1</td>\n      <td>4</td>\n      <td>3</td>\n      <td>6</td>\n      <td>2</td>\n      <td>1</td>\n    </tr>\n    <tr>\n      <th>...</th>\n      <td>...</td>\n      <td>...</td>\n      <td>...</td>\n      <td>...</td>\n      <td>...</td>\n      <td>...</td>\n      <td>...</td>\n      <td>...</td>\n      <td>...</td>\n      <td>...</td>\n      <td>...</td>\n      <td>...</td>\n      <td>...</td>\n      <td>...</td>\n      <td>...</td>\n      <td>...</td>\n      <td>...</td>\n      <td>...</td>\n      <td>...</td>\n      <td>...</td>\n      <td>...</td>\n    </tr>\n    <tr>\n      <th>495</th>\n      <td>4</td>\n      <td>5</td>\n      <td>6</td>\n      <td>1</td>\n      <td>6</td>\n      <td>1</td>\n      <td>3</td>\n      <td>2</td>\n      <td>4</td>\n      <td>5</td>\n      <td>...</td>\n      <td>1</td>\n      <td>3</td>\n      <td>1</td>\n      <td>3</td>\n      <td>1</td>\n      <td>2</td>\n      <td>3</td>\n      <td>3</td>\n      <td>4</td>\n      <td>6</td>\n    </tr>\n    <tr>\n      <th>496</th>\n      <td>4</td>\n      <td>5</td>\n      <td>6</td>\n      <td>3</td>\n      <td>6</td>\n      <td>3</td>\n      <td>1</td>\n      <td>1</td>\n      <td>2</td>\n      <td>5</td>\n      <td>...</td>\n      <td>2</td>\n      <td>1</td>\n      <td>4</td>\n      <td>2</td>\n      <td>3</td>\n      <td>4</td>\n      <td>1</td>\n      <td>1</td>\n      <td>4</td>\n      <td>6</td>\n    </tr>\n    <tr>\n      <th>497</th>\n      <td>1</td>\n      <td>3</td>\n      <td>6</td>\n      <td>4</td>\n      <td>5</td>\n      <td>4</td>\n      <td>1</td>\n      <td>2</td>\n      <td>3</td>\n      <td>6</td>\n      <td>...</td>\n      <td>2</td>\n      <td>3</td>\n      <td>4</td>\n      <td>3</td>\n      <td>1</td>\n      <td>4</td>\n      <td>1</td>\n      <td>3</td>\n      <td>5</td>\n      <td>5</td>\n    </tr>\n    <tr>\n      <th>498</th>\n      <td>3</td>\n      <td>4</td>\n      <td>6</td>\n      <td>2</td>\n      <td>6</td>\n      <td>2</td>\n      <td>4</td>\n      <td>1</td>\n      <td>5</td>\n      <td>5</td>\n      <td>...</td>\n      <td>2</td>\n      <td>4</td>\n      <td>1</td>\n      <td>3</td>\n      <td>3</td>\n      <td>2</td>\n      <td>4</td>\n      <td>1</td>\n      <td>4</td>\n      <td>6</td>\n    </tr>\n    <tr>\n      <th>499</th>\n      <td>4</td>\n      <td>5</td>\n      <td>6</td>\n      <td>4</td>\n      <td>6</td>\n      <td>4</td>\n      <td>1</td>\n      <td>3</td>\n      <td>3</td>\n      <td>4</td>\n      <td>...</td>\n      <td>2</td>\n      <td>2</td>\n      <td>3</td>\n      <td>3</td>\n      <td>3</td>\n      <td>2</td>\n      <td>1</td>\n      <td>1</td>\n      <td>4</td>\n      <td>6</td>\n    </tr>\n  </tbody>\n</table>\n<p>500 rows × 50 columns</p>\n</div>"
     },
     "execution_count": 7,
     "metadata": {},
     "output_type": "execute_result"
    }
   ],
   "source": [
    "dataY"
   ],
   "metadata": {
    "collapsed": false,
    "pycharm": {
     "name": "#%%\n"
    }
   }
  },
  {
   "cell_type": "code",
   "execution_count": 8,
   "outputs": [],
   "source": [
    "ind = dataY.index.intersection(dataX.index)"
   ],
   "metadata": {
    "collapsed": false,
    "pycharm": {
     "name": "#%%\n"
    }
   }
  },
  {
   "cell_type": "code",
   "execution_count": 9,
   "outputs": [],
   "source": [
    "dataX = dataY.loc[ind, :]\n",
    "dataY = dataY.loc[ind, :]"
   ],
   "metadata": {
    "collapsed": false,
    "pycharm": {
     "name": "#%%\n"
    }
   }
  },
  {
   "cell_type": "code",
   "execution_count": 10,
   "outputs": [],
   "source": [
    "results = dataX.corrwith(dataY, axis=1, drop=False, method='pearson')"
   ],
   "metadata": {
    "collapsed": false,
    "pycharm": {
     "name": "#%%\n"
    }
   }
  },
  {
   "cell_type": "code",
   "execution_count": 11,
   "outputs": [
    {
     "data": {
      "text/plain": "0      1.0\n1      1.0\n2      1.0\n3      1.0\n4      1.0\n      ... \n495    1.0\n496    1.0\n497    1.0\n498    1.0\n499    1.0\nLength: 500, dtype: float64"
     },
     "execution_count": 11,
     "metadata": {},
     "output_type": "execute_result"
    }
   ],
   "source": [
    "results"
   ],
   "metadata": {
    "collapsed": false,
    "pycharm": {
     "name": "#%%\n"
    }
   }
  },
  {
   "cell_type": "code",
   "execution_count": 12,
   "outputs": [],
   "source": [
    "df = pd.concat([dataX, dataY])\n",
    "df = df.T\n",
    "rho = df.corr()\n",
    "pval = df.corr(method=lambda x, y: pearsonr(x, y)[1]) - np.eye(*rho.shape)\n"
   ],
   "metadata": {
    "collapsed": false,
    "pycharm": {
     "name": "#%%\n"
    }
   }
  },
  {
   "cell_type": "code",
   "execution_count": 13,
   "outputs": [
    {
     "data": {
      "text/plain": "          0         1         2         3         4         5         6    \\\n0    1.000000  0.908986  0.934062  0.954532  0.927615  0.899869  0.886093   \n1    0.908986  1.000000  0.957845  0.948121  0.945399  0.923679  0.897520   \n2    0.934062  0.957845  1.000000  0.954863  0.946054  0.900527  0.898677   \n3    0.954532  0.948121  0.954863  1.000000  0.966679  0.908268  0.882415   \n4    0.927615  0.945399  0.946054  0.966679  1.000000  0.930238  0.904081   \n..        ...       ...       ...       ...       ...       ...       ...   \n495 -0.193384 -0.084571 -0.137892 -0.192515 -0.144795 -0.094667 -0.059407   \n496 -0.193384 -0.072350 -0.119781 -0.168053 -0.181237 -0.149706 -0.143930   \n497 -0.084059  0.013199 -0.017146 -0.045744 -0.065838 -0.051859 -0.029221   \n498 -0.272342 -0.212893 -0.246564 -0.265900 -0.284489 -0.290362 -0.198266   \n499 -0.047617  0.019310  0.000966 -0.027397 -0.035470 -0.021282  0.031153   \n\n          7         8         9    ...       490       491       492  \\\n0    0.908986  0.916074  0.895895  ... -0.062405 -0.031874 -0.219311   \n1    0.883991  0.933715  0.913335  ...  0.053939  0.109229 -0.100074   \n2    0.897520  0.958279  0.949751  ...  0.004734  0.071501 -0.188219   \n3    0.911458  0.918639  0.916460  ... -0.017461  0.000984 -0.200308   \n4    0.896849  0.928066  0.925679  ... -0.007450  0.035294 -0.171374   \n..        ...       ...       ...  ...       ...       ...       ...   \n495 -0.145677 -0.143930 -0.079171  ...  0.775664  0.757220  0.771065   \n496 -0.176230 -0.125818 -0.043184  ...  0.837147  0.775664  0.752965   \n497 -0.060128 -0.017146  0.034787  ...  0.628106  0.597365  0.602130   \n498 -0.249557 -0.270714 -0.241111  ...  0.701885  0.646551  0.758998   \n499  0.025420 -0.059407  0.058778  ...  0.757220  0.677292  0.692631   \n\n          493       494       495       496       497       498       499  \n0   -0.217679 -0.223753 -0.193384 -0.193384 -0.084059 -0.272342 -0.047617  \n1   -0.060128 -0.139566 -0.084571 -0.072350  0.013199 -0.212893  0.019310  \n2   -0.113743 -0.192228 -0.137892 -0.119781 -0.017146 -0.246564  0.000966  \n3   -0.149706 -0.204746 -0.192515 -0.168053 -0.045744 -0.265900 -0.027397  \n4   -0.138722 -0.199458 -0.144795 -0.181237 -0.065838 -0.284489 -0.035470  \n..        ...       ...       ...       ...       ...       ...       ...  \n495  0.724804  0.657534  1.000000  0.712573  0.584149  0.840998  0.694227  \n496  0.761497  0.608611  0.712573  1.000000  0.700342  0.706458  0.785959  \n497  0.565802  0.620841  0.584149  0.700342  1.000000  0.626957  0.724804  \n498  0.626957  0.700342  0.840998  0.706458  0.626957  1.000000  0.718689  \n499  0.706458  0.620841  0.694227  0.785959  0.724804  0.718689  1.000000  \n\n[1000 rows x 1000 columns]",
      "text/html": "<div>\n<style scoped>\n    .dataframe tbody tr th:only-of-type {\n        vertical-align: middle;\n    }\n\n    .dataframe tbody tr th {\n        vertical-align: top;\n    }\n\n    .dataframe thead th {\n        text-align: right;\n    }\n</style>\n<table border=\"1\" class=\"dataframe\">\n  <thead>\n    <tr style=\"text-align: right;\">\n      <th></th>\n      <th>0</th>\n      <th>1</th>\n      <th>2</th>\n      <th>3</th>\n      <th>4</th>\n      <th>5</th>\n      <th>6</th>\n      <th>7</th>\n      <th>8</th>\n      <th>9</th>\n      <th>...</th>\n      <th>490</th>\n      <th>491</th>\n      <th>492</th>\n      <th>493</th>\n      <th>494</th>\n      <th>495</th>\n      <th>496</th>\n      <th>497</th>\n      <th>498</th>\n      <th>499</th>\n    </tr>\n  </thead>\n  <tbody>\n    <tr>\n      <th>0</th>\n      <td>1.000000</td>\n      <td>0.908986</td>\n      <td>0.934062</td>\n      <td>0.954532</td>\n      <td>0.927615</td>\n      <td>0.899869</td>\n      <td>0.886093</td>\n      <td>0.908986</td>\n      <td>0.916074</td>\n      <td>0.895895</td>\n      <td>...</td>\n      <td>-0.062405</td>\n      <td>-0.031874</td>\n      <td>-0.219311</td>\n      <td>-0.217679</td>\n      <td>-0.223753</td>\n      <td>-0.193384</td>\n      <td>-0.193384</td>\n      <td>-0.084059</td>\n      <td>-0.272342</td>\n      <td>-0.047617</td>\n    </tr>\n    <tr>\n      <th>1</th>\n      <td>0.908986</td>\n      <td>1.000000</td>\n      <td>0.957845</td>\n      <td>0.948121</td>\n      <td>0.945399</td>\n      <td>0.923679</td>\n      <td>0.897520</td>\n      <td>0.883991</td>\n      <td>0.933715</td>\n      <td>0.913335</td>\n      <td>...</td>\n      <td>0.053939</td>\n      <td>0.109229</td>\n      <td>-0.100074</td>\n      <td>-0.060128</td>\n      <td>-0.139566</td>\n      <td>-0.084571</td>\n      <td>-0.072350</td>\n      <td>0.013199</td>\n      <td>-0.212893</td>\n      <td>0.019310</td>\n    </tr>\n    <tr>\n      <th>2</th>\n      <td>0.934062</td>\n      <td>0.957845</td>\n      <td>1.000000</td>\n      <td>0.954863</td>\n      <td>0.946054</td>\n      <td>0.900527</td>\n      <td>0.898677</td>\n      <td>0.897520</td>\n      <td>0.958279</td>\n      <td>0.949751</td>\n      <td>...</td>\n      <td>0.004734</td>\n      <td>0.071501</td>\n      <td>-0.188219</td>\n      <td>-0.113743</td>\n      <td>-0.192228</td>\n      <td>-0.137892</td>\n      <td>-0.119781</td>\n      <td>-0.017146</td>\n      <td>-0.246564</td>\n      <td>0.000966</td>\n    </tr>\n    <tr>\n      <th>3</th>\n      <td>0.954532</td>\n      <td>0.948121</td>\n      <td>0.954863</td>\n      <td>1.000000</td>\n      <td>0.966679</td>\n      <td>0.908268</td>\n      <td>0.882415</td>\n      <td>0.911458</td>\n      <td>0.918639</td>\n      <td>0.916460</td>\n      <td>...</td>\n      <td>-0.017461</td>\n      <td>0.000984</td>\n      <td>-0.200308</td>\n      <td>-0.149706</td>\n      <td>-0.204746</td>\n      <td>-0.192515</td>\n      <td>-0.168053</td>\n      <td>-0.045744</td>\n      <td>-0.265900</td>\n      <td>-0.027397</td>\n    </tr>\n    <tr>\n      <th>4</th>\n      <td>0.927615</td>\n      <td>0.945399</td>\n      <td>0.946054</td>\n      <td>0.966679</td>\n      <td>1.000000</td>\n      <td>0.930238</td>\n      <td>0.904081</td>\n      <td>0.896849</td>\n      <td>0.928066</td>\n      <td>0.925679</td>\n      <td>...</td>\n      <td>-0.007450</td>\n      <td>0.035294</td>\n      <td>-0.171374</td>\n      <td>-0.138722</td>\n      <td>-0.199458</td>\n      <td>-0.144795</td>\n      <td>-0.181237</td>\n      <td>-0.065838</td>\n      <td>-0.284489</td>\n      <td>-0.035470</td>\n    </tr>\n    <tr>\n      <th>...</th>\n      <td>...</td>\n      <td>...</td>\n      <td>...</td>\n      <td>...</td>\n      <td>...</td>\n      <td>...</td>\n      <td>...</td>\n      <td>...</td>\n      <td>...</td>\n      <td>...</td>\n      <td>...</td>\n      <td>...</td>\n      <td>...</td>\n      <td>...</td>\n      <td>...</td>\n      <td>...</td>\n      <td>...</td>\n      <td>...</td>\n      <td>...</td>\n      <td>...</td>\n      <td>...</td>\n    </tr>\n    <tr>\n      <th>495</th>\n      <td>-0.193384</td>\n      <td>-0.084571</td>\n      <td>-0.137892</td>\n      <td>-0.192515</td>\n      <td>-0.144795</td>\n      <td>-0.094667</td>\n      <td>-0.059407</td>\n      <td>-0.145677</td>\n      <td>-0.143930</td>\n      <td>-0.079171</td>\n      <td>...</td>\n      <td>0.775664</td>\n      <td>0.757220</td>\n      <td>0.771065</td>\n      <td>0.724804</td>\n      <td>0.657534</td>\n      <td>1.000000</td>\n      <td>0.712573</td>\n      <td>0.584149</td>\n      <td>0.840998</td>\n      <td>0.694227</td>\n    </tr>\n    <tr>\n      <th>496</th>\n      <td>-0.193384</td>\n      <td>-0.072350</td>\n      <td>-0.119781</td>\n      <td>-0.168053</td>\n      <td>-0.181237</td>\n      <td>-0.149706</td>\n      <td>-0.143930</td>\n      <td>-0.176230</td>\n      <td>-0.125818</td>\n      <td>-0.043184</td>\n      <td>...</td>\n      <td>0.837147</td>\n      <td>0.775664</td>\n      <td>0.752965</td>\n      <td>0.761497</td>\n      <td>0.608611</td>\n      <td>0.712573</td>\n      <td>1.000000</td>\n      <td>0.700342</td>\n      <td>0.706458</td>\n      <td>0.785959</td>\n    </tr>\n    <tr>\n      <th>497</th>\n      <td>-0.084059</td>\n      <td>0.013199</td>\n      <td>-0.017146</td>\n      <td>-0.045744</td>\n      <td>-0.065838</td>\n      <td>-0.051859</td>\n      <td>-0.029221</td>\n      <td>-0.060128</td>\n      <td>-0.017146</td>\n      <td>0.034787</td>\n      <td>...</td>\n      <td>0.628106</td>\n      <td>0.597365</td>\n      <td>0.602130</td>\n      <td>0.565802</td>\n      <td>0.620841</td>\n      <td>0.584149</td>\n      <td>0.700342</td>\n      <td>1.000000</td>\n      <td>0.626957</td>\n      <td>0.724804</td>\n    </tr>\n    <tr>\n      <th>498</th>\n      <td>-0.272342</td>\n      <td>-0.212893</td>\n      <td>-0.246564</td>\n      <td>-0.265900</td>\n      <td>-0.284489</td>\n      <td>-0.290362</td>\n      <td>-0.198266</td>\n      <td>-0.249557</td>\n      <td>-0.270714</td>\n      <td>-0.241111</td>\n      <td>...</td>\n      <td>0.701885</td>\n      <td>0.646551</td>\n      <td>0.758998</td>\n      <td>0.626957</td>\n      <td>0.700342</td>\n      <td>0.840998</td>\n      <td>0.706458</td>\n      <td>0.626957</td>\n      <td>1.000000</td>\n      <td>0.718689</td>\n    </tr>\n    <tr>\n      <th>499</th>\n      <td>-0.047617</td>\n      <td>0.019310</td>\n      <td>0.000966</td>\n      <td>-0.027397</td>\n      <td>-0.035470</td>\n      <td>-0.021282</td>\n      <td>0.031153</td>\n      <td>0.025420</td>\n      <td>-0.059407</td>\n      <td>0.058778</td>\n      <td>...</td>\n      <td>0.757220</td>\n      <td>0.677292</td>\n      <td>0.692631</td>\n      <td>0.706458</td>\n      <td>0.620841</td>\n      <td>0.694227</td>\n      <td>0.785959</td>\n      <td>0.724804</td>\n      <td>0.718689</td>\n      <td>1.000000</td>\n    </tr>\n  </tbody>\n</table>\n<p>1000 rows × 1000 columns</p>\n</div>"
     },
     "execution_count": 13,
     "metadata": {},
     "output_type": "execute_result"
    }
   ],
   "source": [
    "rho"
   ],
   "metadata": {
    "collapsed": false,
    "pycharm": {
     "name": "#%%\n"
    }
   }
  },
  {
   "cell_type": "code",
   "execution_count": 14,
   "outputs": [],
   "source": [
    "rho_long_format = rho.stack().reset_index().rename(columns={'level_0':'Feature_1','level_1':'Feature_2', 0:'Correlation'})"
   ],
   "metadata": {
    "collapsed": false,
    "pycharm": {
     "name": "#%%\n"
    }
   }
  },
  {
   "cell_type": "code",
   "execution_count": 15,
   "outputs": [
    {
     "data": {
      "text/plain": "        Feature_1  Feature_2  Correlation\n0               0          0     1.000000\n1               0          1     0.908986\n2               0          2     0.934062\n3               0          3     0.954532\n4               0          4     0.927615\n...           ...        ...          ...\n999995        499        495     0.694227\n999996        499        496     0.785959\n999997        499        497     0.724804\n999998        499        498     0.718689\n999999        499        499     1.000000\n\n[1000000 rows x 3 columns]",
      "text/html": "<div>\n<style scoped>\n    .dataframe tbody tr th:only-of-type {\n        vertical-align: middle;\n    }\n\n    .dataframe tbody tr th {\n        vertical-align: top;\n    }\n\n    .dataframe thead th {\n        text-align: right;\n    }\n</style>\n<table border=\"1\" class=\"dataframe\">\n  <thead>\n    <tr style=\"text-align: right;\">\n      <th></th>\n      <th>Feature_1</th>\n      <th>Feature_2</th>\n      <th>Correlation</th>\n    </tr>\n  </thead>\n  <tbody>\n    <tr>\n      <th>0</th>\n      <td>0</td>\n      <td>0</td>\n      <td>1.000000</td>\n    </tr>\n    <tr>\n      <th>1</th>\n      <td>0</td>\n      <td>1</td>\n      <td>0.908986</td>\n    </tr>\n    <tr>\n      <th>2</th>\n      <td>0</td>\n      <td>2</td>\n      <td>0.934062</td>\n    </tr>\n    <tr>\n      <th>3</th>\n      <td>0</td>\n      <td>3</td>\n      <td>0.954532</td>\n    </tr>\n    <tr>\n      <th>4</th>\n      <td>0</td>\n      <td>4</td>\n      <td>0.927615</td>\n    </tr>\n    <tr>\n      <th>...</th>\n      <td>...</td>\n      <td>...</td>\n      <td>...</td>\n    </tr>\n    <tr>\n      <th>999995</th>\n      <td>499</td>\n      <td>495</td>\n      <td>0.694227</td>\n    </tr>\n    <tr>\n      <th>999996</th>\n      <td>499</td>\n      <td>496</td>\n      <td>0.785959</td>\n    </tr>\n    <tr>\n      <th>999997</th>\n      <td>499</td>\n      <td>497</td>\n      <td>0.724804</td>\n    </tr>\n    <tr>\n      <th>999998</th>\n      <td>499</td>\n      <td>498</td>\n      <td>0.718689</td>\n    </tr>\n    <tr>\n      <th>999999</th>\n      <td>499</td>\n      <td>499</td>\n      <td>1.000000</td>\n    </tr>\n  </tbody>\n</table>\n<p>1000000 rows × 3 columns</p>\n</div>"
     },
     "execution_count": 15,
     "metadata": {},
     "output_type": "execute_result"
    }
   ],
   "source": [
    "rho_long_format"
   ],
   "metadata": {
    "collapsed": false,
    "pycharm": {
     "name": "#%%\n"
    }
   }
  },
  {
   "cell_type": "code",
   "execution_count": 16,
   "outputs": [
    {
     "data": {
      "text/plain": "        Feature_1  Feature_2       P_value\n0               0          0  0.000000e+00\n1               0          1  7.186620e-20\n2               0          2  4.188168e-23\n3               0          3  7.053113e-27\n4               0          4  3.650543e-22\n...           ...        ...           ...\n999995        499        495  2.257120e-08\n999996        499        496  1.365464e-11\n999997        499        497  2.657403e-09\n999998        499        498  4.168144e-09\n999999        499        499  0.000000e+00\n\n[1000000 rows x 3 columns]",
      "text/html": "<div>\n<style scoped>\n    .dataframe tbody tr th:only-of-type {\n        vertical-align: middle;\n    }\n\n    .dataframe tbody tr th {\n        vertical-align: top;\n    }\n\n    .dataframe thead th {\n        text-align: right;\n    }\n</style>\n<table border=\"1\" class=\"dataframe\">\n  <thead>\n    <tr style=\"text-align: right;\">\n      <th></th>\n      <th>Feature_1</th>\n      <th>Feature_2</th>\n      <th>P_value</th>\n    </tr>\n  </thead>\n  <tbody>\n    <tr>\n      <th>0</th>\n      <td>0</td>\n      <td>0</td>\n      <td>0.000000e+00</td>\n    </tr>\n    <tr>\n      <th>1</th>\n      <td>0</td>\n      <td>1</td>\n      <td>7.186620e-20</td>\n    </tr>\n    <tr>\n      <th>2</th>\n      <td>0</td>\n      <td>2</td>\n      <td>4.188168e-23</td>\n    </tr>\n    <tr>\n      <th>3</th>\n      <td>0</td>\n      <td>3</td>\n      <td>7.053113e-27</td>\n    </tr>\n    <tr>\n      <th>4</th>\n      <td>0</td>\n      <td>4</td>\n      <td>3.650543e-22</td>\n    </tr>\n    <tr>\n      <th>...</th>\n      <td>...</td>\n      <td>...</td>\n      <td>...</td>\n    </tr>\n    <tr>\n      <th>999995</th>\n      <td>499</td>\n      <td>495</td>\n      <td>2.257120e-08</td>\n    </tr>\n    <tr>\n      <th>999996</th>\n      <td>499</td>\n      <td>496</td>\n      <td>1.365464e-11</td>\n    </tr>\n    <tr>\n      <th>999997</th>\n      <td>499</td>\n      <td>497</td>\n      <td>2.657403e-09</td>\n    </tr>\n    <tr>\n      <th>999998</th>\n      <td>499</td>\n      <td>498</td>\n      <td>4.168144e-09</td>\n    </tr>\n    <tr>\n      <th>999999</th>\n      <td>499</td>\n      <td>499</td>\n      <td>0.000000e+00</td>\n    </tr>\n  </tbody>\n</table>\n<p>1000000 rows × 3 columns</p>\n</div>"
     },
     "execution_count": 16,
     "metadata": {},
     "output_type": "execute_result"
    }
   ],
   "source": [
    "pval_long_format = pval.stack().reset_index().rename(columns={'level_0':'Feature_1','level_1':'Feature_2', 0:'P_value'})\n",
    "pval_long_format"
   ],
   "metadata": {
    "collapsed": false,
    "pycharm": {
     "name": "#%%\n"
    }
   }
  },
  {
   "cell_type": "code",
   "execution_count": 17,
   "outputs": [],
   "source": [
    "result = pd.concat([pval_long_format, rho_long_format[\"Correlation\"]], axis=1)"
   ],
   "metadata": {
    "collapsed": false,
    "pycharm": {
     "name": "#%%\n"
    }
   }
  },
  {
   "cell_type": "code",
   "execution_count": 18,
   "outputs": [
    {
     "data": {
      "text/plain": "        Feature_1  Feature_2       P_value  Correlation\n0               0          0  0.000000e+00     1.000000\n1               0          1  7.186620e-20     0.908986\n2               0          2  4.188168e-23     0.934062\n3               0          3  7.053113e-27     0.954532\n4               0          4  3.650543e-22     0.927615\n...           ...        ...           ...          ...\n999995        499        495  2.257120e-08     0.694227\n999996        499        496  1.365464e-11     0.785959\n999997        499        497  2.657403e-09     0.724804\n999998        499        498  4.168144e-09     0.718689\n999999        499        499  0.000000e+00     1.000000\n\n[1000000 rows x 4 columns]",
      "text/html": "<div>\n<style scoped>\n    .dataframe tbody tr th:only-of-type {\n        vertical-align: middle;\n    }\n\n    .dataframe tbody tr th {\n        vertical-align: top;\n    }\n\n    .dataframe thead th {\n        text-align: right;\n    }\n</style>\n<table border=\"1\" class=\"dataframe\">\n  <thead>\n    <tr style=\"text-align: right;\">\n      <th></th>\n      <th>Feature_1</th>\n      <th>Feature_2</th>\n      <th>P_value</th>\n      <th>Correlation</th>\n    </tr>\n  </thead>\n  <tbody>\n    <tr>\n      <th>0</th>\n      <td>0</td>\n      <td>0</td>\n      <td>0.000000e+00</td>\n      <td>1.000000</td>\n    </tr>\n    <tr>\n      <th>1</th>\n      <td>0</td>\n      <td>1</td>\n      <td>7.186620e-20</td>\n      <td>0.908986</td>\n    </tr>\n    <tr>\n      <th>2</th>\n      <td>0</td>\n      <td>2</td>\n      <td>4.188168e-23</td>\n      <td>0.934062</td>\n    </tr>\n    <tr>\n      <th>3</th>\n      <td>0</td>\n      <td>3</td>\n      <td>7.053113e-27</td>\n      <td>0.954532</td>\n    </tr>\n    <tr>\n      <th>4</th>\n      <td>0</td>\n      <td>4</td>\n      <td>3.650543e-22</td>\n      <td>0.927615</td>\n    </tr>\n    <tr>\n      <th>...</th>\n      <td>...</td>\n      <td>...</td>\n      <td>...</td>\n      <td>...</td>\n    </tr>\n    <tr>\n      <th>999995</th>\n      <td>499</td>\n      <td>495</td>\n      <td>2.257120e-08</td>\n      <td>0.694227</td>\n    </tr>\n    <tr>\n      <th>999996</th>\n      <td>499</td>\n      <td>496</td>\n      <td>1.365464e-11</td>\n      <td>0.785959</td>\n    </tr>\n    <tr>\n      <th>999997</th>\n      <td>499</td>\n      <td>497</td>\n      <td>2.657403e-09</td>\n      <td>0.724804</td>\n    </tr>\n    <tr>\n      <th>999998</th>\n      <td>499</td>\n      <td>498</td>\n      <td>4.168144e-09</td>\n      <td>0.718689</td>\n    </tr>\n    <tr>\n      <th>999999</th>\n      <td>499</td>\n      <td>499</td>\n      <td>0.000000e+00</td>\n      <td>1.000000</td>\n    </tr>\n  </tbody>\n</table>\n<p>1000000 rows × 4 columns</p>\n</div>"
     },
     "execution_count": 18,
     "metadata": {},
     "output_type": "execute_result"
    }
   ],
   "source": [
    "result"
   ],
   "metadata": {
    "collapsed": false,
    "pycharm": {
     "name": "#%%\n"
    }
   }
  },
  {
   "cell_type": "code",
   "execution_count": 19,
   "outputs": [],
   "source": [
    "within_X = result[result[\"Feature_1\"].isin(dataX.index) ]\n",
    "within_X = within_X[within_X[\"Feature_2\"].isin(dataX.index) ]\n"
   ],
   "metadata": {
    "collapsed": false,
    "pycharm": {
     "name": "#%%\n"
    }
   }
  },
  {
   "cell_type": "code",
   "execution_count": 20,
   "outputs": [
    {
     "data": {
      "text/plain": "        Feature_1  Feature_2       P_value  Correlation\n0               0          0  0.000000e+00     1.000000\n1               0          1  7.186620e-20     0.908986\n2               0          2  4.188168e-23     0.934062\n3               0          3  7.053113e-27     0.954532\n4               0          4  3.650543e-22     0.927615\n...           ...        ...           ...          ...\n999995        499        495  2.257120e-08     0.694227\n999996        499        496  1.365464e-11     0.785959\n999997        499        497  2.657403e-09     0.724804\n999998        499        498  4.168144e-09     0.718689\n999999        499        499  0.000000e+00     1.000000\n\n[1000000 rows x 4 columns]",
      "text/html": "<div>\n<style scoped>\n    .dataframe tbody tr th:only-of-type {\n        vertical-align: middle;\n    }\n\n    .dataframe tbody tr th {\n        vertical-align: top;\n    }\n\n    .dataframe thead th {\n        text-align: right;\n    }\n</style>\n<table border=\"1\" class=\"dataframe\">\n  <thead>\n    <tr style=\"text-align: right;\">\n      <th></th>\n      <th>Feature_1</th>\n      <th>Feature_2</th>\n      <th>P_value</th>\n      <th>Correlation</th>\n    </tr>\n  </thead>\n  <tbody>\n    <tr>\n      <th>0</th>\n      <td>0</td>\n      <td>0</td>\n      <td>0.000000e+00</td>\n      <td>1.000000</td>\n    </tr>\n    <tr>\n      <th>1</th>\n      <td>0</td>\n      <td>1</td>\n      <td>7.186620e-20</td>\n      <td>0.908986</td>\n    </tr>\n    <tr>\n      <th>2</th>\n      <td>0</td>\n      <td>2</td>\n      <td>4.188168e-23</td>\n      <td>0.934062</td>\n    </tr>\n    <tr>\n      <th>3</th>\n      <td>0</td>\n      <td>3</td>\n      <td>7.053113e-27</td>\n      <td>0.954532</td>\n    </tr>\n    <tr>\n      <th>4</th>\n      <td>0</td>\n      <td>4</td>\n      <td>3.650543e-22</td>\n      <td>0.927615</td>\n    </tr>\n    <tr>\n      <th>...</th>\n      <td>...</td>\n      <td>...</td>\n      <td>...</td>\n      <td>...</td>\n    </tr>\n    <tr>\n      <th>999995</th>\n      <td>499</td>\n      <td>495</td>\n      <td>2.257120e-08</td>\n      <td>0.694227</td>\n    </tr>\n    <tr>\n      <th>999996</th>\n      <td>499</td>\n      <td>496</td>\n      <td>1.365464e-11</td>\n      <td>0.785959</td>\n    </tr>\n    <tr>\n      <th>999997</th>\n      <td>499</td>\n      <td>497</td>\n      <td>2.657403e-09</td>\n      <td>0.724804</td>\n    </tr>\n    <tr>\n      <th>999998</th>\n      <td>499</td>\n      <td>498</td>\n      <td>4.168144e-09</td>\n      <td>0.718689</td>\n    </tr>\n    <tr>\n      <th>999999</th>\n      <td>499</td>\n      <td>499</td>\n      <td>0.000000e+00</td>\n      <td>1.000000</td>\n    </tr>\n  </tbody>\n</table>\n<p>1000000 rows × 4 columns</p>\n</div>"
     },
     "execution_count": 20,
     "metadata": {},
     "output_type": "execute_result"
    }
   ],
   "source": [
    "within_X"
   ],
   "metadata": {
    "collapsed": false,
    "pycharm": {
     "name": "#%%\n"
    }
   }
  },
  {
   "cell_type": "code",
   "execution_count": 21,
   "outputs": [],
   "source": [
    "within_Y = result[result[\"Feature_1\"].isin(dataY.index)]\n",
    "within_Y = within_Y[within_Y[\"Feature_2\"].isin(dataY.index)]"
   ],
   "metadata": {
    "collapsed": false,
    "pycharm": {
     "name": "#%%\n"
    }
   }
  },
  {
   "cell_type": "code",
   "execution_count": 22,
   "outputs": [],
   "source": [
    "X_Y = result[result[\"Feature_1\"].isin(dataX.index) ]\n",
    "X_Y = X_Y[X_Y[\"Feature_2\"].isin(dataY.index) ]"
   ],
   "metadata": {
    "collapsed": false,
    "pycharm": {
     "name": "#%%\n"
    }
   }
  },
  {
   "cell_type": "code",
   "execution_count": 23,
   "outputs": [],
   "source": [
    "def fdr(p_vals):\n",
    "    from scipy.stats import rankdata\n",
    "    ranked_p_values = rankdata(p_vals, method='ordinal')\n",
    "    fdr = p_vals * len(p_vals) / ranked_p_values\n",
    "    fdr[fdr > 1] = 1\n",
    "    return fdr"
   ],
   "metadata": {
    "collapsed": false,
    "pycharm": {
     "name": "#%%\n"
    }
   }
  },
  {
   "cell_type": "code",
   "execution_count": 24,
   "outputs": [],
   "source": [
    "def bh(p, q):\n",
    "    from scipy.stats import rankdata\n",
    "    pRank = rankdata(p, method='ordinal')\n",
    "    m = len(p)\n",
    "    p_adust = p *  len(p) / pRank\n",
    "    max_i = 0\n",
    "    for i in range(len(p)):\n",
    "        if p_adust[i] <= q and max_i <= pRank[i]:\n",
    "            max_i = pRank[i]\n",
    "            p_threshold = p[i]\n",
    "    return p_adust, p_threshold"
   ],
   "metadata": {
    "collapsed": false,
    "pycharm": {
     "name": "#%%\n"
    }
   }
  },
  {
   "cell_type": "code",
   "execution_count": 25,
   "outputs": [
    {
     "data": {
      "text/plain": "0         0.000000e+00\n1         3.348064e-18\n2         4.842373e-21\n3         2.434627e-24\n4         3.186300e-20\n              ...     \n999995    3.102144e-07\n999996    2.332372e-10\n999997    3.827787e-08\n999998    5.933470e-08\n999999    0.000000e+00\nName: P_value, Length: 1000000, dtype: float64"
     },
     "execution_count": 25,
     "metadata": {},
     "output_type": "execute_result"
    }
   ],
   "source": [
    "fdr(X_Y[\"P_value\"])"
   ],
   "metadata": {
    "collapsed": false,
    "pycharm": {
     "name": "#%%\n"
    }
   }
  },
  {
   "cell_type": "code",
   "execution_count": 26,
   "outputs": [],
   "source": [
    "X_Y_p_adust, X_Y_p_threshold = bh(X_Y[\"P_value\"], .1)\n",
    "within_X_p_adust, within_X_p_threshold = bh(within_X[\"P_value\"], .1)\n",
    "within_Y_p_adust, within_Y_p_threshold = bh(within_Y[\"P_value\"], .1)\n"
   ],
   "metadata": {
    "collapsed": false,
    "pycharm": {
     "name": "#%%\n"
    }
   }
  },
  {
   "cell_type": "code",
   "execution_count": 27,
   "outputs": [
    {
     "data": {
      "text/plain": "0.008015711735235301"
     },
     "execution_count": 27,
     "metadata": {},
     "output_type": "execute_result"
    }
   ],
   "source": [
    "X_Y_p_threshold\n"
   ],
   "metadata": {
    "collapsed": false,
    "pycharm": {
     "name": "#%%\n"
    }
   }
  },
  {
   "cell_type": "code",
   "execution_count": 28,
   "outputs": [
    {
     "data": {
      "text/plain": "0.008015711735235301"
     },
     "execution_count": 28,
     "metadata": {},
     "output_type": "execute_result"
    }
   ],
   "source": [
    "within_X_p_threshold"
   ],
   "metadata": {
    "collapsed": false,
    "pycharm": {
     "name": "#%%\n"
    }
   }
  },
  {
   "cell_type": "code",
   "execution_count": 29,
   "outputs": [
    {
     "data": {
      "text/plain": "0.008015711735235301"
     },
     "execution_count": 29,
     "metadata": {},
     "output_type": "execute_result"
    }
   ],
   "source": [
    "within_Y_p_threshold"
   ],
   "metadata": {
    "collapsed": false,
    "pycharm": {
     "name": "#%%\n"
    }
   }
  },
  {
   "cell_type": "code",
   "execution_count": 30,
   "outputs": [
    {
     "data": {
      "text/plain": "0         0.000000e+00\n1         3.348064e-18\n2         4.842373e-21\n3         2.434627e-24\n4         3.186300e-20\n              ...     \n999995    3.102144e-07\n999996    2.332372e-10\n999997    3.827787e-08\n999998    5.933470e-08\n999999    0.000000e+00\nName: P_value, Length: 1000000, dtype: float64"
     },
     "execution_count": 30,
     "metadata": {},
     "output_type": "execute_result"
    }
   ],
   "source": [
    "X_Y_p_adust\n",
    "within_X_p_adust\n",
    "within_Y_p_adust"
   ],
   "metadata": {
    "collapsed": false,
    "pycharm": {
     "name": "#%%\n"
    }
   }
  },
  {
   "cell_type": "code",
   "execution_count": 31,
   "outputs": [],
   "source": [
    "X_Y[\"P_adusted\"] = X_Y_p_adust\n",
    "within_X[\"P_adusted\"] = within_X_p_adust\n",
    "within_Y[\"P_adusted\"] = within_Y_p_adust"
   ],
   "metadata": {
    "collapsed": false,
    "pycharm": {
     "name": "#%%\n"
    }
   }
  },
  {
   "cell_type": "code",
   "execution_count": 32,
   "outputs": [
    {
     "data": {
      "text/plain": "        Feature_1  Feature_2       P_value  Correlation     P_adusted\n0               0          0  0.000000e+00     1.000000  0.000000e+00\n1               0          1  7.186620e-20     0.908986  3.348064e-18\n2               0          2  4.188168e-23     0.934062  4.842373e-21\n3               0          3  7.053113e-27     0.954532  2.434627e-24\n4               0          4  3.650543e-22     0.927615  3.186300e-20\n...           ...        ...           ...          ...           ...\n999995        499        495  2.257120e-08     0.694227  3.102144e-07\n999996        499        496  1.365464e-11     0.785959  2.332372e-10\n999997        499        497  2.657403e-09     0.724804  3.827787e-08\n999998        499        498  4.168144e-09     0.718689  5.933470e-08\n999999        499        499  0.000000e+00     1.000000  0.000000e+00\n\n[1000000 rows x 5 columns]",
      "text/html": "<div>\n<style scoped>\n    .dataframe tbody tr th:only-of-type {\n        vertical-align: middle;\n    }\n\n    .dataframe tbody tr th {\n        vertical-align: top;\n    }\n\n    .dataframe thead th {\n        text-align: right;\n    }\n</style>\n<table border=\"1\" class=\"dataframe\">\n  <thead>\n    <tr style=\"text-align: right;\">\n      <th></th>\n      <th>Feature_1</th>\n      <th>Feature_2</th>\n      <th>P_value</th>\n      <th>Correlation</th>\n      <th>P_adusted</th>\n    </tr>\n  </thead>\n  <tbody>\n    <tr>\n      <th>0</th>\n      <td>0</td>\n      <td>0</td>\n      <td>0.000000e+00</td>\n      <td>1.000000</td>\n      <td>0.000000e+00</td>\n    </tr>\n    <tr>\n      <th>1</th>\n      <td>0</td>\n      <td>1</td>\n      <td>7.186620e-20</td>\n      <td>0.908986</td>\n      <td>3.348064e-18</td>\n    </tr>\n    <tr>\n      <th>2</th>\n      <td>0</td>\n      <td>2</td>\n      <td>4.188168e-23</td>\n      <td>0.934062</td>\n      <td>4.842373e-21</td>\n    </tr>\n    <tr>\n      <th>3</th>\n      <td>0</td>\n      <td>3</td>\n      <td>7.053113e-27</td>\n      <td>0.954532</td>\n      <td>2.434627e-24</td>\n    </tr>\n    <tr>\n      <th>4</th>\n      <td>0</td>\n      <td>4</td>\n      <td>3.650543e-22</td>\n      <td>0.927615</td>\n      <td>3.186300e-20</td>\n    </tr>\n    <tr>\n      <th>...</th>\n      <td>...</td>\n      <td>...</td>\n      <td>...</td>\n      <td>...</td>\n      <td>...</td>\n    </tr>\n    <tr>\n      <th>999995</th>\n      <td>499</td>\n      <td>495</td>\n      <td>2.257120e-08</td>\n      <td>0.694227</td>\n      <td>3.102144e-07</td>\n    </tr>\n    <tr>\n      <th>999996</th>\n      <td>499</td>\n      <td>496</td>\n      <td>1.365464e-11</td>\n      <td>0.785959</td>\n      <td>2.332372e-10</td>\n    </tr>\n    <tr>\n      <th>999997</th>\n      <td>499</td>\n      <td>497</td>\n      <td>2.657403e-09</td>\n      <td>0.724804</td>\n      <td>3.827787e-08</td>\n    </tr>\n    <tr>\n      <th>999998</th>\n      <td>499</td>\n      <td>498</td>\n      <td>4.168144e-09</td>\n      <td>0.718689</td>\n      <td>5.933470e-08</td>\n    </tr>\n    <tr>\n      <th>999999</th>\n      <td>499</td>\n      <td>499</td>\n      <td>0.000000e+00</td>\n      <td>1.000000</td>\n      <td>0.000000e+00</td>\n    </tr>\n  </tbody>\n</table>\n<p>1000000 rows × 5 columns</p>\n</div>"
     },
     "execution_count": 32,
     "metadata": {},
     "output_type": "execute_result"
    }
   ],
   "source": [
    "X_Y\n",
    "within_X\n",
    "within_Y"
   ],
   "metadata": {
    "collapsed": false,
    "pycharm": {
     "name": "#%%\n"
    }
   }
  },
  {
   "cell_type": "code",
   "execution_count": 33,
   "outputs": [],
   "source": [
    "X_Y[\"bh_fdr_threshold\"] = X_Y_p_threshold\n",
    "within_X[\"bh_fdr_threshold\"] = within_X_p_threshold\n",
    "within_Y[\"bh_fdr_threshold\"] = within_Y_p_threshold\n",
    "\n"
   ],
   "metadata": {
    "collapsed": false,
    "pycharm": {
     "name": "#%%\n"
    }
   }
  },
  {
   "cell_type": "code",
   "execution_count": 34,
   "outputs": [],
   "source": [
    "X_Y = X_Y.sort_values(['P_value', 'Correlation'],\n",
    "                     ascending = [True, False])\n",
    "within_X = within_X.sort_values(['P_value', 'Correlation'],\n",
    "                      ascending = [True, False])\n",
    "within_Y = within_Y.sort_values(['P_value', 'Correlation'],\n",
    "                                ascending = [True, False])"
   ],
   "metadata": {
    "collapsed": false,
    "pycharm": {
     "name": "#%%\n"
    }
   }
  },
  {
   "cell_type": "code",
   "execution_count": 35,
   "outputs": [
    {
     "data": {
      "text/plain": "        Feature_1  Feature_2  P_value   Correlation  P_adusted  \\\n0               0          0      0.0  1.000000e+00   0.000000   \n500             0          0      0.0  1.000000e+00   0.000000   \n1001            1          1      0.0  1.000000e+00   0.000000   \n1501            1          1      0.0  1.000000e+00   0.000000   \n2002            2          2      0.0  1.000000e+00   0.000000   \n...           ...        ...      ...           ...        ...   \n48736          48        236      1.0 -1.325329e-16   1.000355   \n236048        236         48      1.0 -1.325329e-16   1.000275   \n548736         48        236      1.0 -1.325329e-16   1.000167   \n736048        236         48      1.0 -1.325329e-16   1.000087   \n736548        236         48      1.0 -1.325329e-16   1.000084   \n\n        bh_fdr_threshold  \n0               0.008016  \n500             0.008016  \n1001            0.008016  \n1501            0.008016  \n2002            0.008016  \n...                  ...  \n48736           0.008016  \n236048          0.008016  \n548736          0.008016  \n736048          0.008016  \n736548          0.008016  \n\n[1000000 rows x 6 columns]",
      "text/html": "<div>\n<style scoped>\n    .dataframe tbody tr th:only-of-type {\n        vertical-align: middle;\n    }\n\n    .dataframe tbody tr th {\n        vertical-align: top;\n    }\n\n    .dataframe thead th {\n        text-align: right;\n    }\n</style>\n<table border=\"1\" class=\"dataframe\">\n  <thead>\n    <tr style=\"text-align: right;\">\n      <th></th>\n      <th>Feature_1</th>\n      <th>Feature_2</th>\n      <th>P_value</th>\n      <th>Correlation</th>\n      <th>P_adusted</th>\n      <th>bh_fdr_threshold</th>\n    </tr>\n  </thead>\n  <tbody>\n    <tr>\n      <th>0</th>\n      <td>0</td>\n      <td>0</td>\n      <td>0.0</td>\n      <td>1.000000e+00</td>\n      <td>0.000000</td>\n      <td>0.008016</td>\n    </tr>\n    <tr>\n      <th>500</th>\n      <td>0</td>\n      <td>0</td>\n      <td>0.0</td>\n      <td>1.000000e+00</td>\n      <td>0.000000</td>\n      <td>0.008016</td>\n    </tr>\n    <tr>\n      <th>1001</th>\n      <td>1</td>\n      <td>1</td>\n      <td>0.0</td>\n      <td>1.000000e+00</td>\n      <td>0.000000</td>\n      <td>0.008016</td>\n    </tr>\n    <tr>\n      <th>1501</th>\n      <td>1</td>\n      <td>1</td>\n      <td>0.0</td>\n      <td>1.000000e+00</td>\n      <td>0.000000</td>\n      <td>0.008016</td>\n    </tr>\n    <tr>\n      <th>2002</th>\n      <td>2</td>\n      <td>2</td>\n      <td>0.0</td>\n      <td>1.000000e+00</td>\n      <td>0.000000</td>\n      <td>0.008016</td>\n    </tr>\n    <tr>\n      <th>...</th>\n      <td>...</td>\n      <td>...</td>\n      <td>...</td>\n      <td>...</td>\n      <td>...</td>\n      <td>...</td>\n    </tr>\n    <tr>\n      <th>48736</th>\n      <td>48</td>\n      <td>236</td>\n      <td>1.0</td>\n      <td>-1.325329e-16</td>\n      <td>1.000355</td>\n      <td>0.008016</td>\n    </tr>\n    <tr>\n      <th>236048</th>\n      <td>236</td>\n      <td>48</td>\n      <td>1.0</td>\n      <td>-1.325329e-16</td>\n      <td>1.000275</td>\n      <td>0.008016</td>\n    </tr>\n    <tr>\n      <th>548736</th>\n      <td>48</td>\n      <td>236</td>\n      <td>1.0</td>\n      <td>-1.325329e-16</td>\n      <td>1.000167</td>\n      <td>0.008016</td>\n    </tr>\n    <tr>\n      <th>736048</th>\n      <td>236</td>\n      <td>48</td>\n      <td>1.0</td>\n      <td>-1.325329e-16</td>\n      <td>1.000087</td>\n      <td>0.008016</td>\n    </tr>\n    <tr>\n      <th>736548</th>\n      <td>236</td>\n      <td>48</td>\n      <td>1.0</td>\n      <td>-1.325329e-16</td>\n      <td>1.000084</td>\n      <td>0.008016</td>\n    </tr>\n  </tbody>\n</table>\n<p>1000000 rows × 6 columns</p>\n</div>"
     },
     "execution_count": 35,
     "metadata": {},
     "output_type": "execute_result"
    }
   ],
   "source": [
    "X_Y"
   ],
   "metadata": {
    "collapsed": false,
    "pycharm": {
     "name": "#%%\n"
    }
   }
  },
  {
   "cell_type": "code",
   "execution_count": 36,
   "outputs": [],
   "source": [
    "outputpath = \"/Users/rah/Documents/omicsEye/btest/demo/btest_output\"\n",
    "os.makedirs(outputpath, exist_ok=True)\n",
    "X_Y.to_csv(outputpath + '/X_Y.tsv', sep=\"\\t\")\n",
    "rho_X = rho.iloc[0:500, 0:500]\n",
    "rho_X.to_csv(outputpath + '/simtable_X.tsv', sep=\"\\t\")\n",
    "rho.to_csv(outputpath + '/simtable.tsv', sep=\"\\t\")\n",
    "within_X.to_csv(outputpath + '/within_X.tsv', sep=\"\\t\")\n",
    "within_Y.to_csv(outputpath + '/within_Y.tsv', sep=\"\\t\")"
   ],
   "metadata": {
    "collapsed": false,
    "pycharm": {
     "name": "#%%\n"
    }
   }
  },
  {
   "cell_type": "code",
   "execution_count": 36,
   "outputs": [],
   "source": [],
   "metadata": {
    "collapsed": false,
    "pycharm": {
     "name": "#%%\n"
    }
   }
  },
  {
   "cell_type": "code",
   "execution_count": 37,
   "outputs": [],
   "source": [
    "# import matbtestlib.pyplot as plt\n",
    "import matplotlib\n",
    "\n",
    "# matplotlib.style.use('ggplot')\n",
    "matplotlib.use(\"Agg\")\n",
    "import matplotlib.pyplot as plt\n",
    "# import matplotlib as matplotlib\n",
    "# matplotlib.use( \"Agg\" )\n",
    "# plt.style.use('ggplot')\n",
    "import matplotlib.patches as patches\n",
    "import matplotlib.patheffects as path_effects\n",
    "import numpy as np\n",
    "from matplotlib import font_manager\n",
    "import warnings\n",
    "\n",
    "with warnings.catch_warnings():\n",
    "    warnings.simplefilter(\"error\")\n",
    "    try:\n",
    "        font_file = font_manager.findfont(font_manager.FontProperties(family='Arial'))\n",
    "        matplotlib.rcParams[\"font.family\"] = \"Arial\"\n",
    "    except UserWarning:\n",
    "        pass\n",
    "# ---------------------------------------------------------------\n",
    "# constants / config\n",
    "# ---------------------------------------------------------------\n",
    "\n",
    "c_unit_h = 0.3\n",
    "c_unit_w = 0.3\n",
    "c_min_height = 1 * c_unit_h + 3\n",
    "c_min_width = 1 * c_unit_w + 5\n",
    "c_label_scale = 8\n",
    "c_label_shift = -0.005\n",
    "c_line_width = 1.5\n",
    "c_char_pad = 0.1\n",
    "c_label_aspect = 0.7\n",
    "c_small_text = 12\n",
    "c_large_text = 16\n",
    "c_giant_text = 20\n",
    "c_outline_width = 3\n",
    "c_grid_color = \"0.9\"\n",
    "c_cbarspan = 1\n",
    "c_simstep = 0.2\n",
    "paper_dpi = 350\n",
    "\n",
    "matplotlib.rcParams['xtick.major.pad'] = '.1'  # '10'\n",
    "matplotlib.rcParams['ytick.major.pad'] = '.1'  # '10'\n",
    "def reorder(array, order):\n",
    "    return [array[i] for i in order]\n",
    "def mask_table(simtable, associations):\n",
    "    allowed = {}\n",
    "    for number, row_items, col_items, sig, _, _ in associations:\n",
    "        for r in row_items:\n",
    "            for c in col_items:\n",
    "                ri = simtable.rowmap[r]\n",
    "                ci = simtable.colmap[c]\n",
    "                allowed[(ri, ci)] = 1\n",
    "    for ri in range(simtable.nrows):\n",
    "        for ci in range(simtable.ncols):\n",
    "            if (ri, ci) not in allowed:\n",
    "                simtable.data[ri][ci] = np.nan\n",
    "    simtable.data = np.ma.masked_where(np.isnan(simtable.data), simtable.data)\n",
    "\n",
    "class Table:\n",
    "    \"\"\" \"\"\"\n",
    "\n",
    "    def __init__(self, path):\n",
    "        self.colheads = None\n",
    "        self.rowheads = []\n",
    "        self.data = []\n",
    "        with open(path) as fh:\n",
    "            for row in csv.reader(fh, dialect=\"excel-tab\"):\n",
    "                rowhead, values = row[0], row[1:]\n",
    "                if self.colheads is None:\n",
    "                    self.colheads = values\n",
    "                else:\n",
    "                    self.rowheads.append(rowhead)\n",
    "                    self.data.append(list(map(float, values)))\n",
    "        self.data = np.array(self.data)\n",
    "        self.update()\n",
    "\n",
    "    def update(self):\n",
    "        self.nrows, self.ncols = self.data.shape\n",
    "        self.rowmap = {}\n",
    "        self.colmap = {}\n",
    "        for i, h in zip(range(self.nrows), self.rowheads):\n",
    "            self.rowmap[h] = i\n",
    "        for i, h in zip(range(self.ncols), self.colheads):\n",
    "            self.colmap[h] = i\n",
    "        print(self.nrows, len(self.rowheads), len(self.rowmap))\n",
    "        assert self.nrows == len(self.rowheads) == len(self.rowmap), \"row dim failure\"\n",
    "        assert self.ncols == len(self.colheads) == len(self.colmap), \"col dim failure\"\n",
    "\n"
   ],
   "metadata": {
    "collapsed": false,
    "pycharm": {
     "name": "#%%\n"
    }
   }
  },
  {
   "cell_type": "code",
   "execution_count": 38,
   "outputs": [],
   "source": [
    "def load_order_table(p_table, associations, p_tree = None):\n",
    "    allowed_rowheads = {k for items in associations for k in items[1]}\n",
    "    allowed_colheads = {k for items in associations for k in items[2]}\n",
    "    simtable = Table(p_table)\n",
    "    row_order, col_order = simtable.rowheads, simtable.colheads # get_order(p_tree)\n",
    "\n",
    "    # reorder the rows\n",
    "    row_order = [simtable.rowmap[k] for k in row_order if k in simtable.rowmap and k in allowed_rowheads]\n",
    "    simtable.rowheads = reorder(simtable.rowheads, row_order)\n",
    "    simtable.data = simtable.data[row_order, :]\n",
    "    simtable.update()\n",
    "    # reorder the cols\n",
    "    col_order = [simtable.colmap[k] for k in col_order if k in simtable.colmap and k in allowed_colheads]\n",
    "    simtable.colheads = reorder(simtable.colheads, col_order)\n",
    "    simtable.data = simtable.data[:, col_order]\n",
    "    simtable.update()\n",
    "    return simtable"
   ],
   "metadata": {
    "collapsed": false,
    "pycharm": {
     "name": "#%%\n"
    }
   }
  },
  {
   "cell_type": "code",
   "execution_count": 39,
   "outputs": [],
   "source": [
    "def load_associations(path, largest=None, strongest=100, orderby='similarity'):\n",
    "    pairs = []\n",
    "    dic_order = {'pvalue': 3, 'similarity': 4, 'qvalue': 5, }\n",
    "    with open(path) as fh:\n",
    "        for row in csv.reader(fh, dialect=\"excel-tab\"):\n",
    "            if row[0] !='':\n",
    "                pairs.append([row[0], row[1].split(\";\"), row[2].split(\";\"), row[3], row[4], row[5]])\n",
    "    if largest is not None and strongest is not None:\n",
    "        sys.exit(\"Can only specify one of LARGEST and STRONGEST\")\n",
    "    elif largest is not None:\n",
    "        pairs = sorted(pairs, key=lambda row: len(row[1]) * len(row[2]), reverse=True)\n",
    "        pairs = pairs[0:min(len(pairs), largest)]\n",
    "    elif strongest is not None:\n",
    "        # not reversed, smaller p = stronger assoc\n",
    "        pairs = sorted(pairs, key=lambda row: abs(float(row[dic_order[orderby]])), reverse=True)\n",
    "        pairs = pairs[0:min(len(pairs), strongest)]\n",
    "    return pairs"
   ],
   "metadata": {
    "collapsed": false,
    "pycharm": {
     "name": "#%%\n"
    }
   }
  },
  {
   "cell_type": "code",
   "execution_count": 40,
   "outputs": [],
   "source": [
    "associations = load_associations(path = outputpath + '/within_X.tsv')"
   ],
   "metadata": {
    "collapsed": false,
    "pycharm": {
     "name": "#%%\n"
    }
   }
  },
  {
   "cell_type": "code",
   "execution_count": 41,
   "outputs": [
    {
     "data": {
      "text/plain": "[['0', ['0'], ['0'], '0.0', '1.0', '0.0'],\n ['500', ['0'], ['0'], '0.0', '1.0', '0.0'],\n ['1001', ['1'], ['1'], '0.0', '1.0', '0.0'],\n ['1501', ['1'], ['1'], '0.0', '1.0', '0.0'],\n ['2002', ['2'], ['2'], '0.0', '1.0', '0.0'],\n ['2502', ['2'], ['2'], '0.0', '1.0', '0.0'],\n ['3003', ['3'], ['3'], '0.0', '1.0', '0.0'],\n ['3503', ['3'], ['3'], '0.0', '1.0', '0.0'],\n ['4004', ['4'], ['4'], '0.0', '1.0', '0.0'],\n ['4504', ['4'], ['4'], '0.0', '1.0', '0.0'],\n ['5005', ['5'], ['5'], '0.0', '1.0', '0.0'],\n ['5505', ['5'], ['5'], '0.0', '1.0', '0.0'],\n ['6006', ['6'], ['6'], '0.0', '1.0', '0.0'],\n ['6506', ['6'], ['6'], '0.0', '1.0', '0.0'],\n ['7007', ['7'], ['7'], '0.0', '1.0', '0.0'],\n ['7507', ['7'], ['7'], '0.0', '1.0', '0.0'],\n ['8008', ['8'], ['8'], '0.0', '1.0', '0.0'],\n ['8508', ['8'], ['8'], '0.0', '1.0', '0.0'],\n ['9009', ['9'], ['9'], '0.0', '1.0', '0.0'],\n ['9509', ['9'], ['9'], '0.0', '1.0', '0.0'],\n ['10010', ['10'], ['10'], '0.0', '1.0', '0.0'],\n ['10510', ['10'], ['10'], '0.0', '1.0', '0.0'],\n ['11011', ['11'], ['11'], '0.0', '1.0', '0.0'],\n ['11511', ['11'], ['11'], '0.0', '1.0', '0.0'],\n ['12012', ['12'], ['12'], '0.0', '1.0', '0.0'],\n ['12512', ['12'], ['12'], '0.0', '1.0', '0.0'],\n ['13013', ['13'], ['13'], '0.0', '1.0', '0.0'],\n ['13513', ['13'], ['13'], '0.0', '1.0', '0.0'],\n ['14014', ['14'], ['14'], '0.0', '1.0', '0.0'],\n ['14514', ['14'], ['14'], '0.0', '1.0', '0.0'],\n ['15015', ['15'], ['15'], '0.0', '1.0', '0.0'],\n ['15515', ['15'], ['15'], '0.0', '1.0', '0.0'],\n ['16016', ['16'], ['16'], '0.0', '1.0', '0.0'],\n ['16516', ['16'], ['16'], '0.0', '1.0', '0.0'],\n ['17017', ['17'], ['17'], '0.0', '1.0', '0.0'],\n ['17517', ['17'], ['17'], '0.0', '1.0', '0.0'],\n ['18018', ['18'], ['18'], '0.0', '1.0', '0.0'],\n ['18518', ['18'], ['18'], '0.0', '1.0', '0.0'],\n ['19019', ['19'], ['19'], '0.0', '1.0', '0.0'],\n ['19519', ['19'], ['19'], '0.0', '1.0', '0.0'],\n ['20020', ['20'], ['20'], '0.0', '1.0', '0.0'],\n ['20520', ['20'], ['20'], '0.0', '1.0', '0.0'],\n ['21021', ['21'], ['21'], '0.0', '1.0', '0.0'],\n ['21521', ['21'], ['21'], '0.0', '1.0', '0.0'],\n ['22022', ['22'], ['22'], '0.0', '1.0', '0.0'],\n ['22522', ['22'], ['22'], '0.0', '1.0', '0.0'],\n ['23023', ['23'], ['23'], '0.0', '1.0', '0.0'],\n ['23523', ['23'], ['23'], '0.0', '1.0', '0.0'],\n ['24024', ['24'], ['24'], '0.0', '1.0', '0.0'],\n ['24524', ['24'], ['24'], '0.0', '1.0', '0.0'],\n ['25025', ['25'], ['25'], '0.0', '1.0', '0.0'],\n ['25525', ['25'], ['25'], '0.0', '1.0', '0.0'],\n ['26026', ['26'], ['26'], '0.0', '1.0', '0.0'],\n ['26526', ['26'], ['26'], '0.0', '1.0', '0.0'],\n ['27027', ['27'], ['27'], '0.0', '1.0', '0.0'],\n ['27527', ['27'], ['27'], '0.0', '1.0', '0.0'],\n ['28028', ['28'], ['28'], '0.0', '1.0', '0.0'],\n ['28528', ['28'], ['28'], '0.0', '1.0', '0.0'],\n ['29029', ['29'], ['29'], '0.0', '1.0', '0.0'],\n ['29529', ['29'], ['29'], '0.0', '1.0', '0.0'],\n ['30030', ['30'], ['30'], '0.0', '1.0', '0.0'],\n ['30530', ['30'], ['30'], '0.0', '1.0', '0.0'],\n ['31031', ['31'], ['31'], '0.0', '1.0', '0.0'],\n ['31531', ['31'], ['31'], '0.0', '1.0', '0.0'],\n ['32032', ['32'], ['32'], '0.0', '1.0', '0.0'],\n ['32532', ['32'], ['32'], '0.0', '1.0', '0.0'],\n ['33033', ['33'], ['33'], '0.0', '1.0', '0.0'],\n ['33533', ['33'], ['33'], '0.0', '1.0', '0.0'],\n ['34034', ['34'], ['34'], '0.0', '1.0', '0.0'],\n ['34534', ['34'], ['34'], '0.0', '1.0', '0.0'],\n ['35035', ['35'], ['35'], '0.0', '1.0', '0.0'],\n ['35535', ['35'], ['35'], '0.0', '1.0', '0.0'],\n ['36036', ['36'], ['36'], '0.0', '1.0', '0.0'],\n ['36536', ['36'], ['36'], '0.0', '1.0', '0.0'],\n ['37037', ['37'], ['37'], '0.0', '1.0', '0.0'],\n ['37537', ['37'], ['37'], '0.0', '1.0', '0.0'],\n ['38038', ['38'], ['38'], '0.0', '1.0', '0.0'],\n ['38538', ['38'], ['38'], '0.0', '1.0', '0.0'],\n ['39039', ['39'], ['39'], '0.0', '1.0', '0.0'],\n ['39539', ['39'], ['39'], '0.0', '1.0', '0.0'],\n ['40040', ['40'], ['40'], '0.0', '1.0', '0.0'],\n ['40540', ['40'], ['40'], '0.0', '1.0', '0.0'],\n ['41041', ['41'], ['41'], '0.0', '1.0', '0.0'],\n ['41541', ['41'], ['41'], '0.0', '1.0', '0.0'],\n ['42042', ['42'], ['42'], '0.0', '1.0', '0.0'],\n ['42542', ['42'], ['42'], '0.0', '1.0', '0.0'],\n ['43043', ['43'], ['43'], '0.0', '1.0', '0.0'],\n ['43543', ['43'], ['43'], '0.0', '1.0', '0.0'],\n ['44044', ['44'], ['44'], '0.0', '1.0', '0.0'],\n ['44544', ['44'], ['44'], '0.0', '1.0', '0.0'],\n ['45045', ['45'], ['45'], '0.0', '1.0', '0.0'],\n ['45545', ['45'], ['45'], '0.0', '1.0', '0.0'],\n ['46046', ['46'], ['46'], '0.0', '1.0', '0.0'],\n ['46546', ['46'], ['46'], '0.0', '1.0', '0.0'],\n ['47047', ['47'], ['47'], '0.0', '1.0', '0.0'],\n ['47547', ['47'], ['47'], '0.0', '1.0', '0.0'],\n ['48048', ['48'], ['48'], '0.0', '1.0', '0.0'],\n ['48548', ['48'], ['48'], '0.0', '1.0', '0.0'],\n ['49049', ['49'], ['49'], '0.0', '1.0', '0.0'],\n ['49549', ['49'], ['49'], '0.0', '1.0', '0.0']]"
     },
     "execution_count": 41,
     "metadata": {},
     "output_type": "execute_result"
    }
   ],
   "source": [
    "associations"
   ],
   "metadata": {
    "collapsed": false,
    "pycharm": {
     "name": "#%%\n"
    }
   }
  },
  {
   "cell_type": "code",
   "execution_count": 42,
   "outputs": [],
   "source": [
    "def plot(simtable, associations, cmap, mask, axlabels, outfile, similarity):\n",
    "    # reverse roworder of simtable to match plotting\n",
    "    order = range(simtable.nrows)[::-1]\n",
    "    simtable.rowheads = reorder(simtable.rowheads, order)\n",
    "    simtable.data = simtable.data[order, :]\n",
    "    simtable.update()\n",
    "    # scale of the data\n",
    "    tmin = -1 # if we want to use the min in the study #np.min(simtable.data,)\n",
    "    tmax = 1 # if we want to use the max in the study np.max(simtable.data)\n",
    "    crit = 0\n",
    "    while crit < max(abs(tmin), tmax):\n",
    "        crit += c_simstep\n",
    "    vmin = 0 if tmin >= 0 else -crit\n",
    "    vmax = crit\n",
    "    # masking\n",
    "    if mask:\n",
    "        mask_table(simtable, associations)\n",
    "    # begin plotting\n",
    "    fig = plt.figure()\n",
    "    width = max(c_unit_w * simtable.ncols, c_min_width)\n",
    "    width += c_char_pad * max(list(map(len, simtable.rowheads)))\n",
    "    height = max(c_unit_h * simtable.nrows, c_min_height)\n",
    "    height += c_char_pad * max(list(map(len, simtable.colheads)))\n",
    "    fig.set_size_inches(width, height)\n",
    "    span = simtable.ncols\n",
    "    cbarspan = c_cbarspan\n",
    "    ax = plt.subplot2grid((1, span), (0, cbarspan), rowspan=1, colspan=span - cbarspan)\n",
    "    ax_cbar = plt.subplot2grid((2, span), (0, 0), rowspan=2, colspan=cbarspan)\n",
    "    ax.yaxis.tick_right()\n",
    "    ax.yaxis.set_label_position(\"right\")\n",
    "    ax.set_yticks([0.5 + i for i in range(simtable.nrows)])\n",
    "    ax.set_xticks([0.5 + i for i in range(simtable.ncols)])\n",
    "    ax.set_yticklabels(simtable.rowheads, size=c_large_text)\n",
    "    ax.set_xticklabels(simtable.colheads, rotation=90, rotation_mode=\"anchor\", ha=\"right\", va=\"center\",\n",
    "                       size=c_large_text)\n",
    "    ax.xaxis.set_ticks_position('none')\n",
    "    ax.yaxis.set_ticks_position('none')\n",
    "    ax.set_ylim(0, len(simtable.rowheads))\n",
    "    ax.set_xlim(0, len(simtable.colheads))\n",
    "    ax.set_ylabel(axlabels[0], size=c_giant_text, fontweight='bold')\n",
    "    ax.set_xlabel(axlabels[1], size=c_giant_text, fontweight='bold')\n",
    "    # if masking, draw a light grid to help with orientation\n",
    "    if mask:\n",
    "        kwargs = {\"zorder\": 0, \"color\": c_grid_color}\n",
    "        xmin, xmax = ax.get_xlim()\n",
    "        ymin, ymax = ax.get_ylim()\n",
    "        for y in ax.get_yticks():\n",
    "            ax.add_line(plt.Line2D([xmin, xmax], [y, y], **kwargs))\n",
    "        for x in ax.get_xticks():\n",
    "            ax.add_line(plt.Line2D([x, x], [ymin, ymax], **kwargs))\n",
    "    # main heatmap\n",
    "    heatmap = ax.pcolormesh(simtable.data, cmap=cmap, vmin=vmin, vmax=vmax)\n",
    "    # craziness for getting cbar on the left with left-facing ticks\n",
    "    norm = matplotlib.colors.Normalize(vmin=vmin, vmax=vmax)\n",
    "    cbar = matplotlib.colorbar.ColorbarBase(\n",
    "        ax_cbar,\n",
    "        norm=norm,\n",
    "        cmap=plt.get_cmap(cmap),\n",
    "        orientation=\"vertical\",\n",
    "    )\n",
    "    cbar.set_ticks([])\n",
    "    twin_ax = plt.twinx(ax=cbar.ax)\n",
    "    twin_ax.yaxis.set_label_position(\"left\")\n",
    "    twin_ax.yaxis.tick_left()\n",
    "    [tick.set_size(c_large_text) for tick in twin_ax.get_yticklabels()]\n",
    "    twin_ax.set_ylim(vmin, vmax)\n",
    "    if similarity != \"Pairwise Similarity\":\n",
    "        similarity = \"Pairwise \" + similarity\n",
    "    twin_ax.set_ylabel(similarity, size=c_giant_text)  # , fontsize=c_large_text )\n",
    "    ticks = [vmin]\n",
    "    while ticks[-1] < vmax:\n",
    "        ticks.append(ticks[-1] + c_simstep)\n",
    "    twin_ax.set_yticks(ticks)\n",
    "    #\n",
    "    # number is used as rank of the association based on the order\n",
    "    number = 0\n",
    "    # add associations\n",
    "    for sim_rank, row_items, col_items, sig, _, _ in associations:\n",
    "        number += 1\n",
    "        row_items = row_items[::-1]\n",
    "        y1 = simtable.rowmap[row_items[0]]\n",
    "        y2 = simtable.rowmap[row_items[-1]]\n",
    "        x1 = simtable.colmap[col_items[0]]\n",
    "        x2 = simtable.colmap[col_items[-1]]\n",
    "        delx = abs(x2 - x1) + 1\n",
    "        dely = abs(y2 - y1) + 1\n",
    "        # box\n",
    "        ax.add_patch(\n",
    "            patches.Rectangle(\n",
    "                (x1, y1),\n",
    "                x2 - x1 + 1,\n",
    "                y2 - y1 + 1,\n",
    "                facecolor=\"none\",\n",
    "                edgecolor=\"black\",\n",
    "                linewidth=c_line_width,\n",
    "                clip_on=False,\n",
    "            )\n",
    "        )\n",
    "        # label\n",
    "        text = str(number)\n",
    "        size = c_label_scale * min(delx, dely)\n",
    "        size /= 1 if len(text) == 1 else c_label_aspect * len(text)\n",
    "        size = int(size)\n",
    "        text = ax.text(  # np.mean( [x1, x2] )+0.5+c_label_shift*size,\n",
    "            np.mean([x1, x2]) + .75 + c_label_shift * size if (\n",
    "                    len(row_items) % 2 != 0 and len(row_items) > 1 and len(col_items) > 1) else \\\n",
    "                np.mean([x1, x2]) + .5 + c_label_shift * size if len(row_items) == 1 else np.mean(\n",
    "                [x1, x2]) + 0.5 + c_label_shift * size,\n",
    "            np.mean([y1, y2]) + 0.5 + c_label_shift * size,\n",
    "            text,\n",
    "            size=size,\n",
    "            color=\"white\",\n",
    "            ha=\"center\",\n",
    "            va=\"center\",\n",
    "            weight=\"bold\",\n",
    "        )\n",
    "        text.set_path_effects([\n",
    "            path_effects.Stroke(linewidth=c_outline_width, foreground='black'),\n",
    "            path_effects.Normal(),\n",
    "        ])\n",
    "    # craziness for hiding the border\n",
    "    plt.setp([child for child in ax.get_children() if isinstance(child, matplotlib.spines.Spine)], visible=False)\n",
    "    # warnings.filterwarnings(\"ignore\")\n",
    "    try:\n",
    "        plt.tight_layout()\n",
    "    except:\n",
    "        pass\n",
    "    plt.savefig(outfile, dpi=paper_dpi, bbox_inches='tight')\n",
    "\n"
   ],
   "metadata": {
    "collapsed": false,
    "pycharm": {
     "name": "#%%\n"
    }
   }
  },
  {
   "cell_type": "code",
   "execution_count": 43,
   "outputs": [
    {
     "name": "stdout",
     "output_type": "stream",
     "text": [
      "500 500 500\n",
      "50 50 50\n",
      "50 50 50\n"
     ]
    }
   ],
   "source": [
    "simtable = load_order_table(outputpath + '/simtable_X.tsv', associations)"
   ],
   "metadata": {
    "collapsed": false,
    "pycharm": {
     "name": "#%%\n"
    }
   }
  },
  {
   "cell_type": "code",
   "execution_count": 44,
   "outputs": [
    {
     "data": {
      "text/plain": "<__main__.Table at 0x7fb02ac4cd00>"
     },
     "execution_count": 44,
     "metadata": {},
     "output_type": "execute_result"
    }
   ],
   "source": [
    "simtable\n"
   ],
   "metadata": {
    "collapsed": false,
    "pycharm": {
     "name": "#%%\n"
    }
   }
  },
  {
   "cell_type": "code",
   "execution_count": 45,
   "outputs": [
    {
     "name": "stdout",
     "output_type": "stream",
     "text": [
      "50 50 50\n"
     ]
    }
   ],
   "source": [
    "plot(\n",
    "    simtable,\n",
    "    associations,\n",
    "    cmap=\"RdBu_r\",\n",
    "    mask=False,\n",
    "    axlabels=[\"\",\"\"],\n",
    "    outfile=\"/Users/rah/Documents/omicsEye/btest/demo/btest_output/blockplot.pdf\",\n",
    "    similarity=\"Spearman\"\n",
    ")"
   ],
   "metadata": {
    "collapsed": false,
    "pycharm": {
     "name": "#%%\n"
    }
   }
  },
  {
   "cell_type": "code",
   "execution_count": null,
   "outputs": [],
   "source": [],
   "metadata": {
    "collapsed": false,
    "pycharm": {
     "name": "#%%\n"
    }
   }
  }
 ],
 "metadata": {
  "accelerator": "TPU",
  "colab": {
   "collapsed_sections": [
    "yfILUg1HmAkM"
   ],
   "machine_shape": "hm",
   "name": "15-Ensemble-Evaluation.ipynb",
   "provenance": []
  },
  "kernelspec": {
   "display_name": "Python 3",
   "language": "python",
   "name": "python3"
  },
  "language_info": {
   "codemirror_mode": {
    "name": "ipython",
    "version": 3
   },
   "file_extension": ".py",
   "mimetype": "text/x-python",
   "name": "python",
   "nbconvert_exporter": "python",
   "pygments_lexer": "ipython3",
   "version": "3.7.6"
  }
 },
 "nbformat": 4,
 "nbformat_minor": 1
}