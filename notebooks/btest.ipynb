{
 "cells": [
  {
   "cell_type": "markdown",
   "metadata": {
    "colab_type": "text",
    "id": "AmPqBsydh5J-",
    "pycharm": {
     "name": "#%% md\n"
    }
   },
   "source": [
    "# *btest* initial steps\n",
    "\n",
    "step-by-step"
   ]
  },
  {
   "cell_type": "code",
   "execution_count": 1,
   "metadata": {
    "pycharm": {
     "name": "#%%\n"
    }
   },
   "outputs": [],
   "source": [
    "import argparse\n",
    "import csv\n",
    "import itertools\n",
    "import logging\n",
    "import os\n",
    "import sys\n",
    "import shutil\n",
    "import time\n",
    "import math\n",
    "import random\n",
    "from scipy.stats import pearsonr\n",
    "import numpy as np\n",
    "import pandas as pd\n",
    "import math\n",
    "from scipy.stats import spearmanr\n",
    "from btest import config\n",
    "from btest import utils\n",
    "from btest import blockplot\n",
    "from scipy.stats import t"
   ]
  },
  {
   "cell_type": "code",
   "execution_count": 2,
   "metadata": {
    "pycharm": {
     "name": "#%%\n"
    }
   },
   "outputs": [],
   "source": [
    "method = 'spearman'\n",
    "min_var = 0.0\n",
    "fdr =0.1"
   ]
  },
  {
   "cell_type": "code",
   "execution_count": 11,
   "metadata": {
    "pycharm": {
     "name": "#%%\n"
    }
   },
   "outputs": [
    {
     "name": "stdout",
     "output_type": "stream",
     "text": [
      "Dataset X dimension  after cleaning:  (100, 50)\n",
      "Dataset Y dimension  after cleaning:  (100, 50)\n"
     ]
    },
    {
     "name": "stderr",
     "output_type": "stream",
     "text": [
      "/Users/rah/miniconda3/lib/python3.8/site-packages/pandas-1.1.2-py3.8-macosx-10.9-x86_64.egg/pandas/core/computation/expressions.py:68: FutureWarning: elementwise comparison failed; returning scalar instead, but in the future will perform elementwise comparison\n",
      "  return op(a, b)\n",
      "/Users/rah/miniconda3/lib/python3.8/site-packages/pandas-1.1.2-py3.8-macosx-10.9-x86_64.egg/pandas/core/computation/expressions.py:68: FutureWarning: elementwise comparison failed; returning scalar instead, but in the future will perform elementwise comparison\n",
      "  return op(a, b)\n"
     ]
    }
   ],
   "source": [
    "dataX , dataY, featuresX, featuresY  = utils.readData('../demo/X_dataset.txt', '../demo/X_dataset.txt', min_var=min_var)"
   ]
  },
  {
   "cell_type": "code",
   "execution_count": 12,
   "metadata": {
    "pycharm": {
     "name": "#%%\n"
    }
   },
   "outputs": [
    {
     "name": "stdout",
     "output_type": "stream",
     "text": [
      "CPU times: user 11.8 s, sys: 39.1 ms, total: 11.9 s\n",
      "Wall time: 12 s\n"
     ]
    }
   ],
   "source": [
    "%%time\n",
    "within_X = utils.btest_corr(dataX, featuresX, method=method, fdr=fdr, Type='X_X')\n",
    "within_Y  = utils.btest_corr(dataY, featuresY, method=method, fdr=fdr, Type='Y_Y')\n",
    "dataAll = np.concatenate((dataX, dataY), axis=0)\n",
    "X_Y = utils.btest_corr(dataAll, featuresX, featuresY, method=method, fdr=fdr, Type='X_Y')"
   ]
  },
  {
   "cell_type": "code",
   "execution_count": 13,
   "outputs": [
    {
     "data": {
      "text/plain": "     Feature_1 Feature_2  pval  Correlation  Not_NAs  P_adusted  \\\n100         X1        X1   0.0          1.0       49        0.0   \n400         X4        X4   0.0          1.0       49        0.0   \n600         X6        X6   0.0          1.0       49        0.0   \n1200       X12       X12   0.0          1.0       49        0.0   \n1300       X13       X13   0.0          1.0       49        0.0   \n\n      bh_fdr_threshold Type  \n100       9.957214e-16  X_Y  \n400       9.957214e-16  X_Y  \n600       9.957214e-16  X_Y  \n1200      9.957214e-16  X_Y  \n1300      9.957214e-16  X_Y  ",
      "text/html": "<div>\n<style scoped>\n    .dataframe tbody tr th:only-of-type {\n        vertical-align: middle;\n    }\n\n    .dataframe tbody tr th {\n        vertical-align: top;\n    }\n\n    .dataframe thead th {\n        text-align: right;\n    }\n</style>\n<table border=\"1\" class=\"dataframe\">\n  <thead>\n    <tr style=\"text-align: right;\">\n      <th></th>\n      <th>Feature_1</th>\n      <th>Feature_2</th>\n      <th>pval</th>\n      <th>Correlation</th>\n      <th>Not_NAs</th>\n      <th>P_adusted</th>\n      <th>bh_fdr_threshold</th>\n      <th>Type</th>\n    </tr>\n  </thead>\n  <tbody>\n    <tr>\n      <th>100</th>\n      <td>X1</td>\n      <td>X1</td>\n      <td>0.0</td>\n      <td>1.0</td>\n      <td>49</td>\n      <td>0.0</td>\n      <td>9.957214e-16</td>\n      <td>X_Y</td>\n    </tr>\n    <tr>\n      <th>400</th>\n      <td>X4</td>\n      <td>X4</td>\n      <td>0.0</td>\n      <td>1.0</td>\n      <td>49</td>\n      <td>0.0</td>\n      <td>9.957214e-16</td>\n      <td>X_Y</td>\n    </tr>\n    <tr>\n      <th>600</th>\n      <td>X6</td>\n      <td>X6</td>\n      <td>0.0</td>\n      <td>1.0</td>\n      <td>49</td>\n      <td>0.0</td>\n      <td>9.957214e-16</td>\n      <td>X_Y</td>\n    </tr>\n    <tr>\n      <th>1200</th>\n      <td>X12</td>\n      <td>X12</td>\n      <td>0.0</td>\n      <td>1.0</td>\n      <td>49</td>\n      <td>0.0</td>\n      <td>9.957214e-16</td>\n      <td>X_Y</td>\n    </tr>\n    <tr>\n      <th>1300</th>\n      <td>X13</td>\n      <td>X13</td>\n      <td>0.0</td>\n      <td>1.0</td>\n      <td>49</td>\n      <td>0.0</td>\n      <td>9.957214e-16</td>\n      <td>X_Y</td>\n    </tr>\n  </tbody>\n</table>\n</div>"
     },
     "execution_count": 13,
     "metadata": {},
     "output_type": "execute_result"
    }
   ],
   "source": [
    "X_Y.head()"
   ],
   "metadata": {
    "collapsed": false,
    "pycharm": {
     "name": "#%%\n"
    }
   }
  },
  {
   "cell_type": "code",
   "execution_count": 14,
   "outputs": [
    {
     "data": {
      "text/plain": "Empty DataFrame\nColumns: [Feature_1, Feature_2, pval, Correlation, Not_NAs, P_adusted, bh_fdr_threshold, Type]\nIndex: []",
      "text/html": "<div>\n<style scoped>\n    .dataframe tbody tr th:only-of-type {\n        vertical-align: middle;\n    }\n\n    .dataframe tbody tr th {\n        vertical-align: top;\n    }\n\n    .dataframe thead th {\n        text-align: right;\n    }\n</style>\n<table border=\"1\" class=\"dataframe\">\n  <thead>\n    <tr style=\"text-align: right;\">\n      <th></th>\n      <th>Feature_1</th>\n      <th>Feature_2</th>\n      <th>pval</th>\n      <th>Correlation</th>\n      <th>Not_NAs</th>\n      <th>P_adusted</th>\n      <th>bh_fdr_threshold</th>\n      <th>Type</th>\n    </tr>\n  </thead>\n  <tbody>\n  </tbody>\n</table>\n</div>"
     },
     "execution_count": 14,
     "metadata": {},
     "output_type": "execute_result"
    }
   ],
   "source": [
    "X_Y[(X_Y['Feature_1']=='X0')&(X_Y['Feature_2']=='Y66')]"
   ],
   "metadata": {
    "collapsed": false,
    "pycharm": {
     "name": "#%%\n"
    }
   }
  },
  {
   "cell_type": "code",
   "execution_count": 15,
   "metadata": {
    "pycharm": {
     "name": "#%%\n"
    }
   },
   "outputs": [
    {
     "name": "stdout",
     "output_type": "stream",
     "text": [
      "correlation time:  0.19823980331420898\n",
      "obs count time:  0.004379749298095703\n",
      "long transform time:  0.008685111999511719\n",
      "p-value time:  0.007539272308349609\n",
      "bh time:  0.009865045547485352\n",
      "names time:  0.026274919509887695\n",
      "sort time:  0.0035490989685058594\n",
      "CPU times: user 261 ms, sys: 6.8 ms, total: 268 ms\n",
      "Wall time: 268 ms\n"
     ]
    }
   ],
   "source": [
    "%%time\n",
    "X_Y_3 = utils.btest_corr_3(dataAll, featuresX, featuresY, method=method, fdr=fdr, Type='X_Y')"
   ]
  },
  {
   "cell_type": "code",
   "execution_count": 16,
   "outputs": [
    {
     "name": "stdout",
     "output_type": "stream",
     "text": [
      "CPU times: user 1.26 s, sys: 7.61 ms, total: 1.26 s\n",
      "Wall time: 1.3 s\n"
     ]
    }
   ],
   "source": [
    "%%time\n",
    "X_Y_2 = utils.btest_corr_2(dataAll, featuresX, featuresY, method=method, fdr=fdr, Type='X_Y')"
   ],
   "metadata": {
    "collapsed": false,
    "pycharm": {
     "name": "#%%\n"
    }
   }
  },
  {
   "cell_type": "code",
   "execution_count": 17,
   "outputs": [
    {
     "data": {
      "text/plain": "    Feature_1 Feature_2  Correlation  complete_obs  t_statistic  pval  \\\n99         X0        X0          1.0          50.0          inf   0.0   \n298        X1        X1          1.0          49.0          inf   0.0   \n496        X2        X2          1.0          50.0          inf   0.0   \n693        X3        X3          1.0          50.0          inf   0.0   \n889        X4        X4          1.0          49.0          inf   0.0   \n\n     P_adjusted  bh_fdr_threshold Type  \n99          0.0      1.110223e-15  X_Y  \n298         0.0      1.110223e-15  X_Y  \n496         0.0      1.110223e-15  X_Y  \n693         0.0      1.110223e-15  X_Y  \n889         0.0      1.110223e-15  X_Y  ",
      "text/html": "<div>\n<style scoped>\n    .dataframe tbody tr th:only-of-type {\n        vertical-align: middle;\n    }\n\n    .dataframe tbody tr th {\n        vertical-align: top;\n    }\n\n    .dataframe thead th {\n        text-align: right;\n    }\n</style>\n<table border=\"1\" class=\"dataframe\">\n  <thead>\n    <tr style=\"text-align: right;\">\n      <th></th>\n      <th>Feature_1</th>\n      <th>Feature_2</th>\n      <th>Correlation</th>\n      <th>complete_obs</th>\n      <th>t_statistic</th>\n      <th>pval</th>\n      <th>P_adjusted</th>\n      <th>bh_fdr_threshold</th>\n      <th>Type</th>\n    </tr>\n  </thead>\n  <tbody>\n    <tr>\n      <th>99</th>\n      <td>X0</td>\n      <td>X0</td>\n      <td>1.0</td>\n      <td>50.0</td>\n      <td>inf</td>\n      <td>0.0</td>\n      <td>0.0</td>\n      <td>1.110223e-15</td>\n      <td>X_Y</td>\n    </tr>\n    <tr>\n      <th>298</th>\n      <td>X1</td>\n      <td>X1</td>\n      <td>1.0</td>\n      <td>49.0</td>\n      <td>inf</td>\n      <td>0.0</td>\n      <td>0.0</td>\n      <td>1.110223e-15</td>\n      <td>X_Y</td>\n    </tr>\n    <tr>\n      <th>496</th>\n      <td>X2</td>\n      <td>X2</td>\n      <td>1.0</td>\n      <td>50.0</td>\n      <td>inf</td>\n      <td>0.0</td>\n      <td>0.0</td>\n      <td>1.110223e-15</td>\n      <td>X_Y</td>\n    </tr>\n    <tr>\n      <th>693</th>\n      <td>X3</td>\n      <td>X3</td>\n      <td>1.0</td>\n      <td>50.0</td>\n      <td>inf</td>\n      <td>0.0</td>\n      <td>0.0</td>\n      <td>1.110223e-15</td>\n      <td>X_Y</td>\n    </tr>\n    <tr>\n      <th>889</th>\n      <td>X4</td>\n      <td>X4</td>\n      <td>1.0</td>\n      <td>49.0</td>\n      <td>inf</td>\n      <td>0.0</td>\n      <td>0.0</td>\n      <td>1.110223e-15</td>\n      <td>X_Y</td>\n    </tr>\n  </tbody>\n</table>\n</div>"
     },
     "execution_count": 17,
     "metadata": {},
     "output_type": "execute_result"
    }
   ],
   "source": [
    "X_Y_3.head()"
   ],
   "metadata": {
    "collapsed": false,
    "pycharm": {
     "name": "#%%\n"
    }
   }
  },
  {
   "cell_type": "code",
   "execution_count": 18,
   "outputs": [
    {
     "ename": "AttributeError",
     "evalue": "'NoneType' object has no attribute 'head'",
     "output_type": "error",
     "traceback": [
      "\u001B[0;31m---------------------------------------------------------------------------\u001B[0m",
      "\u001B[0;31mAttributeError\u001B[0m                            Traceback (most recent call last)",
      "Input \u001B[0;32mIn [18]\u001B[0m, in \u001B[0;36m<cell line: 1>\u001B[0;34m()\u001B[0m\n\u001B[0;32m----> 1\u001B[0m \u001B[43mX_Y_2\u001B[49m\u001B[38;5;241;43m.\u001B[39;49m\u001B[43mhead\u001B[49m()\n",
      "\u001B[0;31mAttributeError\u001B[0m: 'NoneType' object has no attribute 'head'"
     ]
    }
   ],
   "source": [
    "X_Y_2.head()"
   ],
   "metadata": {
    "collapsed": false,
    "pycharm": {
     "name": "#%%\n"
    }
   }
  },
  {
   "cell_type": "code",
   "execution_count": 19,
   "outputs": [
    {
     "data": {
      "text/plain": "Empty DataFrame\nColumns: [Feature_1, Feature_2, Correlation, complete_obs, t_statistic, pval, P_adjusted, bh_fdr_threshold, Type]\nIndex: []",
      "text/html": "<div>\n<style scoped>\n    .dataframe tbody tr th:only-of-type {\n        vertical-align: middle;\n    }\n\n    .dataframe tbody tr th {\n        vertical-align: top;\n    }\n\n    .dataframe thead th {\n        text-align: right;\n    }\n</style>\n<table border=\"1\" class=\"dataframe\">\n  <thead>\n    <tr style=\"text-align: right;\">\n      <th></th>\n      <th>Feature_1</th>\n      <th>Feature_2</th>\n      <th>Correlation</th>\n      <th>complete_obs</th>\n      <th>t_statistic</th>\n      <th>pval</th>\n      <th>P_adjusted</th>\n      <th>bh_fdr_threshold</th>\n      <th>Type</th>\n    </tr>\n  </thead>\n  <tbody>\n  </tbody>\n</table>\n</div>"
     },
     "execution_count": 19,
     "metadata": {},
     "output_type": "execute_result"
    }
   ],
   "source": [
    "X_Y_3[(X_Y_3['Feature_1']=='X0')&(X_Y_3['Feature_2']=='Y66')]"
   ],
   "metadata": {
    "collapsed": false,
    "pycharm": {
     "name": "#%%\n"
    }
   }
  },
  {
   "cell_type": "code",
   "execution_count": 20,
   "outputs": [
    {
     "data": {
      "text/plain": "X_Y    10000\nX_X     4950\nY_Y     4950\nName: Type, dtype: int64"
     },
     "execution_count": 20,
     "metadata": {},
     "output_type": "execute_result"
    }
   ],
   "source": [
    "X_Y_3.loc[:,'Type'].value_counts()"
   ],
   "metadata": {
    "collapsed": false,
    "pycharm": {
     "name": "#%%\n"
    }
   }
  },
  {
   "cell_type": "code",
   "execution_count": 21,
   "outputs": [
    {
     "data": {
      "text/plain": "Empty DataFrame\nColumns: [Feature_1, Feature_2, pval, Correlation, Not_NAs, P_adusted, bh_fdr_threshold, Type]\nIndex: []",
      "text/html": "<div>\n<style scoped>\n    .dataframe tbody tr th:only-of-type {\n        vertical-align: middle;\n    }\n\n    .dataframe tbody tr th {\n        vertical-align: top;\n    }\n\n    .dataframe thead th {\n        text-align: right;\n    }\n</style>\n<table border=\"1\" class=\"dataframe\">\n  <thead>\n    <tr style=\"text-align: right;\">\n      <th></th>\n      <th>Feature_1</th>\n      <th>Feature_2</th>\n      <th>pval</th>\n      <th>Correlation</th>\n      <th>Not_NAs</th>\n      <th>P_adusted</th>\n      <th>bh_fdr_threshold</th>\n      <th>Type</th>\n    </tr>\n  </thead>\n  <tbody>\n  </tbody>\n</table>\n</div>"
     },
     "execution_count": 21,
     "metadata": {},
     "output_type": "execute_result"
    }
   ],
   "source": [
    "X_Y[(X_Y['Feature_1']=='X0')&(X_Y['Feature_2']=='Y66')]"
   ],
   "metadata": {
    "collapsed": false,
    "pycharm": {
     "name": "#%%\n"
    }
   }
  },
  {
   "cell_type": "code",
   "execution_count": 22,
   "outputs": [
    {
     "name": "stdout",
     "output_type": "stream",
     "text": [
      "9.608268737792969e-05\n"
     ]
    }
   ],
   "source": [
    "t1 = time.time()\n",
    "for i in range(1000):\n",
    "    i\n",
    "t2 = time.time()\n",
    "print(t2-t1)"
   ],
   "metadata": {
    "collapsed": false,
    "pycharm": {
     "name": "#%%\n"
    }
   }
  },
  {
   "cell_type": "code",
   "execution_count": 13,
   "outputs": [],
   "source": [
    "nrow = 5000\n",
    "ncol = 100\n",
    "aa = np.array(np.random.random(size=nrow*ncol), dtype=np.float32)\n",
    "aa[np.random.randint(0, nrow*ncol, size = int(nrow*ncol/20))]=np.nan\n",
    "aa = aa.reshape((nrow,ncol))\n",
    "feature_names = ['P'+str(i) for i in range(nrow)]"
   ],
   "metadata": {
    "collapsed": false,
    "pycharm": {
     "name": "#%%\n"
    }
   }
  },
  {
   "cell_type": "code",
   "execution_count": 14,
   "outputs": [
    {
     "ename": "KeyboardInterrupt",
     "evalue": "",
     "output_type": "error",
     "traceback": [
      "\u001B[0;31m---------------------------------------------------------------------------\u001B[0m",
      "\u001B[0;31mKeyboardInterrupt\u001B[0m                         Traceback (most recent call last)",
      "File \u001B[0;32m<timed exec>:1\u001B[0m, in \u001B[0;36m<module>\u001B[0;34m\u001B[0m\n",
      "File \u001B[0;32m~/Dcouments/omicsEye/btest/btest/utils.py:272\u001B[0m, in \u001B[0;36mbtest_corr_3\u001B[0;34m(dataAll, features, features_y, method, fdr, Type)\u001B[0m\n\u001B[1;32m    269\u001B[0m dataAll2 \u001B[38;5;241m=\u001B[39m pd\u001B[38;5;241m.\u001B[39mDataFrame(dataAll\u001B[38;5;241m.\u001B[39mT, columns\u001B[38;5;241m=\u001B[39mfeatures_y)\n\u001B[1;32m    271\u001B[0m t_cr \u001B[38;5;241m=\u001B[39m time\u001B[38;5;241m.\u001B[39mtime()\n\u001B[0;32m--> 272\u001B[0m cr \u001B[38;5;241m=\u001B[39m \u001B[43mdataAll2\u001B[49m\u001B[38;5;241;43m.\u001B[39;49m\u001B[43mcorr\u001B[49m\u001B[43m(\u001B[49m\u001B[43mmethod\u001B[49m\u001B[38;5;241;43m=\u001B[39;49m\u001B[43mmethod\u001B[49m\u001B[43m)\u001B[49m\n\u001B[1;32m    273\u001B[0m \u001B[38;5;28mprint\u001B[39m(\u001B[38;5;124m\"\u001B[39m\u001B[38;5;124mcorrelation time: \u001B[39m\u001B[38;5;124m\"\u001B[39m, time\u001B[38;5;241m.\u001B[39mtime()\u001B[38;5;241m-\u001B[39mt_cr)\n\u001B[1;32m    275\u001B[0m t_mask \u001B[38;5;241m=\u001B[39m time\u001B[38;5;241m.\u001B[39mtime()\n",
      "File \u001B[0;32m~/miniconda3/lib/python3.8/site-packages/pandas-1.1.2-py3.8-macosx-10.9-x86_64.egg/pandas/core/frame.py:8130\u001B[0m, in \u001B[0;36mDataFrame.corr\u001B[0;34m(self, method, min_periods)\u001B[0m\n\u001B[1;32m   8128\u001B[0m     correl \u001B[38;5;241m=\u001B[39m libalgos\u001B[38;5;241m.\u001B[39mnancorr(mat, minp\u001B[38;5;241m=\u001B[39mmin_periods)\n\u001B[1;32m   8129\u001B[0m \u001B[38;5;28;01melif\u001B[39;00m method \u001B[38;5;241m==\u001B[39m \u001B[38;5;124m\"\u001B[39m\u001B[38;5;124mspearman\u001B[39m\u001B[38;5;124m\"\u001B[39m:\n\u001B[0;32m-> 8130\u001B[0m     correl \u001B[38;5;241m=\u001B[39m \u001B[43mlibalgos\u001B[49m\u001B[38;5;241;43m.\u001B[39;49m\u001B[43mnancorr_spearman\u001B[49m\u001B[43m(\u001B[49m\u001B[43mmat\u001B[49m\u001B[43m,\u001B[49m\u001B[43m \u001B[49m\u001B[43mminp\u001B[49m\u001B[38;5;241;43m=\u001B[39;49m\u001B[43mmin_periods\u001B[49m\u001B[43m)\u001B[49m\n\u001B[1;32m   8131\u001B[0m \u001B[38;5;28;01melif\u001B[39;00m method \u001B[38;5;241m==\u001B[39m \u001B[38;5;124m\"\u001B[39m\u001B[38;5;124mkendall\u001B[39m\u001B[38;5;124m\"\u001B[39m \u001B[38;5;129;01mor\u001B[39;00m callable(method):\n\u001B[1;32m   8132\u001B[0m     \u001B[38;5;28;01mif\u001B[39;00m min_periods \u001B[38;5;129;01mis\u001B[39;00m \u001B[38;5;28;01mNone\u001B[39;00m:\n",
      "File \u001B[0;32mpandas/_libs/algos.pyx:373\u001B[0m, in \u001B[0;36mpandas._libs.algos.nancorr_spearman\u001B[0;34m()\u001B[0m\n",
      "File \u001B[0;32mpandas/_libs/algos.pyx:827\u001B[0m, in \u001B[0;36mpandas._libs.algos.rank_1d\u001B[0;34m()\u001B[0m\n",
      "File \u001B[0;32m~/miniconda3/lib/python3.8/site-packages/numpy-1.19.2-py3.8-macosx-10.9-x86_64.egg/numpy/core/_asarray.py:14\u001B[0m, in \u001B[0;36masarray\u001B[0;34m(a, dtype, order)\u001B[0m\n\u001B[1;32m      7\u001B[0m \u001B[38;5;28;01mfrom\u001B[39;00m \u001B[38;5;21;01m.\u001B[39;00m\u001B[38;5;21;01mmultiarray\u001B[39;00m \u001B[38;5;28;01mimport\u001B[39;00m array\n\u001B[1;32m     10\u001B[0m __all__ \u001B[38;5;241m=\u001B[39m [\n\u001B[1;32m     11\u001B[0m     \u001B[38;5;124m\"\u001B[39m\u001B[38;5;124masarray\u001B[39m\u001B[38;5;124m\"\u001B[39m, \u001B[38;5;124m\"\u001B[39m\u001B[38;5;124masanyarray\u001B[39m\u001B[38;5;124m\"\u001B[39m, \u001B[38;5;124m\"\u001B[39m\u001B[38;5;124mascontiguousarray\u001B[39m\u001B[38;5;124m\"\u001B[39m, \u001B[38;5;124m\"\u001B[39m\u001B[38;5;124masfortranarray\u001B[39m\u001B[38;5;124m\"\u001B[39m, \u001B[38;5;124m\"\u001B[39m\u001B[38;5;124mrequire\u001B[39m\u001B[38;5;124m\"\u001B[39m,\n\u001B[1;32m     12\u001B[0m ]\n\u001B[0;32m---> 14\u001B[0m \u001B[38;5;129m@set_module\u001B[39m(\u001B[38;5;124m'\u001B[39m\u001B[38;5;124mnumpy\u001B[39m\u001B[38;5;124m'\u001B[39m)\n\u001B[1;32m     15\u001B[0m \u001B[38;5;28;01mdef\u001B[39;00m \u001B[38;5;21masarray\u001B[39m(a, dtype\u001B[38;5;241m=\u001B[39m\u001B[38;5;28;01mNone\u001B[39;00m, order\u001B[38;5;241m=\u001B[39m\u001B[38;5;28;01mNone\u001B[39;00m):\n\u001B[1;32m     16\u001B[0m     \u001B[38;5;124;03m\"\"\"Convert the input to an array.\u001B[39;00m\n\u001B[1;32m     17\u001B[0m \n\u001B[1;32m     18\u001B[0m \u001B[38;5;124;03m    Parameters\u001B[39;00m\n\u001B[0;32m   (...)\u001B[0m\n\u001B[1;32m     81\u001B[0m \n\u001B[1;32m     82\u001B[0m \u001B[38;5;124;03m    \"\"\"\u001B[39;00m\n\u001B[1;32m     83\u001B[0m     \u001B[38;5;28;01mreturn\u001B[39;00m array(a, dtype, copy\u001B[38;5;241m=\u001B[39m\u001B[38;5;28;01mFalse\u001B[39;00m, order\u001B[38;5;241m=\u001B[39morder)\n",
      "\u001B[0;31mKeyboardInterrupt\u001B[0m: "
     ]
    }
   ],
   "source": [
    "%%time\n",
    "test_X_X = utils.btest_corr_3(aa, features=feature_names, method=method, fdr=fdr, Type='X_X')"
   ],
   "metadata": {
    "collapsed": false,
    "pycharm": {
     "name": "#%%\n"
    }
   }
  },
  {
   "cell_type": "code",
   "execution_count": 15,
   "outputs": [
    {
     "name": "stdout",
     "output_type": "stream",
     "text": [
      "correlation time:  3.5690929889678955\n",
      "obs count time:  1.1708710193634033\n",
      "long transform time:  2.392249822616577\n",
      "p-value time:  2.8019051551818848\n",
      "bh time:  4.636229991912842\n",
      "names time:  0.03536796569824219\n",
      "sort time:  20.614816904067993\n",
      "CPU times: user 33.7 s, sys: 3.51 s, total: 37.2 s\n",
      "Wall time: 35.8 s\n"
     ]
    }
   ],
   "source": [
    "%%time\n",
    "test_X_X = utils.btest_corr_3(aa, features=feature_names, method='pearson', fdr=fdr, Type='X_X')"
   ],
   "metadata": {
    "collapsed": false,
    "pycharm": {
     "name": "#%%\n"
    }
   }
  },
  {
   "cell_type": "code",
   "execution_count": 16,
   "outputs": [
    {
     "data": {
      "text/plain": "         Feature_1 Feature_2  Correlation  complete_obs  t_statistic  \\\n9012470      P2359     P3450    -0.562520          87.0    -6.272721   \n10149744     P2832     P4105    -0.534854          91.0    -5.971757   \n8195124      P2066     P2402     0.532171          92.0     5.963147   \n1114307       P228      P642     0.528063          91.0     5.866354   \n5770945      P1331     P3723     0.518548          93.0     5.785201   \n\n                  pval  P_adjusted  bh_fdr_threshold     Type  \n9012470   1.425335e-08    0.178131          0.876291  X_X  \n10149744  4.723838e-08    0.295181          0.876291  X_X  \n8195124   4.776023e-08    0.198961          0.876291  X_X  \n1114307   7.479566e-08    0.233690          0.876291  X_X  \n5770945   1.013234e-07    0.253258          0.876291  X_X  ",
      "text/html": "<div>\n<style scoped>\n    .dataframe tbody tr th:only-of-type {\n        vertical-align: middle;\n    }\n\n    .dataframe tbody tr th {\n        vertical-align: top;\n    }\n\n    .dataframe thead th {\n        text-align: right;\n    }\n</style>\n<table border=\"1\" class=\"dataframe\">\n  <thead>\n    <tr style=\"text-align: right;\">\n      <th></th>\n      <th>Feature_1</th>\n      <th>Feature_2</th>\n      <th>Correlation</th>\n      <th>complete_obs</th>\n      <th>t_statistic</th>\n      <th>pval</th>\n      <th>P_adjusted</th>\n      <th>bh_fdr_threshold</th>\n      <th>Type</th>\n    </tr>\n  </thead>\n  <tbody>\n    <tr>\n      <th>9012470</th>\n      <td>P2359</td>\n      <td>P3450</td>\n      <td>-0.562520</td>\n      <td>87.0</td>\n      <td>-6.272721</td>\n      <td>1.425335e-08</td>\n      <td>0.178131</td>\n      <td>0.876291</td>\n      <td>X_X</td>\n    </tr>\n    <tr>\n      <th>10149744</th>\n      <td>P2832</td>\n      <td>P4105</td>\n      <td>-0.534854</td>\n      <td>91.0</td>\n      <td>-5.971757</td>\n      <td>4.723838e-08</td>\n      <td>0.295181</td>\n      <td>0.876291</td>\n      <td>X_X</td>\n    </tr>\n    <tr>\n      <th>8195124</th>\n      <td>P2066</td>\n      <td>P2402</td>\n      <td>0.532171</td>\n      <td>92.0</td>\n      <td>5.963147</td>\n      <td>4.776023e-08</td>\n      <td>0.198961</td>\n      <td>0.876291</td>\n      <td>X_X</td>\n    </tr>\n    <tr>\n      <th>1114307</th>\n      <td>P228</td>\n      <td>P642</td>\n      <td>0.528063</td>\n      <td>91.0</td>\n      <td>5.866354</td>\n      <td>7.479566e-08</td>\n      <td>0.233690</td>\n      <td>0.876291</td>\n      <td>X_X</td>\n    </tr>\n    <tr>\n      <th>5770945</th>\n      <td>P1331</td>\n      <td>P3723</td>\n      <td>0.518548</td>\n      <td>93.0</td>\n      <td>5.785201</td>\n      <td>1.013234e-07</td>\n      <td>0.253258</td>\n      <td>0.876291</td>\n      <td>X_X</td>\n    </tr>\n  </tbody>\n</table>\n</div>"
     },
     "execution_count": 16,
     "metadata": {},
     "output_type": "execute_result"
    }
   ],
   "source": [
    "test_X_X.head()"
   ],
   "metadata": {
    "collapsed": false,
    "pycharm": {
     "name": "#%%\n"
    }
   }
  },
  {
   "cell_type": "code",
   "execution_count": 10,
   "outputs": [],
   "source": [
    "df_test = pd.DataFrame(aa.T)"
   ],
   "metadata": {
    "collapsed": false,
    "pycharm": {
     "name": "#%%\n"
    }
   }
  },
  {
   "cell_type": "code",
   "execution_count": 12,
   "outputs": [
    {
     "name": "stdout",
     "output_type": "stream",
     "text": [
      "CPU times: user 19 s, sys: 40.1 ms, total: 19.1 s\n",
      "Wall time: 19.2 s\n"
     ]
    }
   ],
   "source": [
    "%%time\n",
    "cr_test = df_test.corr(method = 'spearman')"
   ],
   "metadata": {
    "collapsed": false,
    "pycharm": {
     "name": "#%%\n"
    }
   }
  },
  {
   "cell_type": "code",
   "execution_count": null,
   "metadata": {
    "pycharm": {
     "name": "#%%\n"
    }
   },
   "outputs": [],
   "source": [
    "dataAll = dataX\n",
    "features = featuresX\n",
    "features_y = None\n",
    "Type = 'X_X'\n",
    "iRow = list(range(0, len(features)))\n",
    "if Type == 'X_Y':\n",
    "    iCol = list(range(len(features), len(features)+len(features_y)-1))\n",
    "    features_y = features + features_y\n",
    "else:\n",
    "    features_y = features\n",
    "    iCol = list(range(len(features)))\n",
    "tests = []\n",
    "\n",
    "# creating the complete dataset\n",
    "dataAll2 = pd.DataFrame(dataAll.T, columns=features_y)\n",
    "cr = dataAll2.corr(method=method)\n",
    "\n",
    "# calculating t-statistics, based on the correlations\n",
    "t_stat = (cr*(dataAll2.shape[0]-2)**.5)/(1-cr**2)**.5\n",
    "\n",
    "# calculating p-values based on the t-statistics\n",
    "pv = 2 * (1 - t.cdf(abs(t_stat), df=dataAll2.shape[0]-2))\n",
    "#rho_long_format = cr.stack().reset_index().rename(columns={'level_0':'Feature_1','level_1':'Feature_2', 0:'Correlation'})\n",
    "#pval_long_format = pv.stack().reset_index().rename(columns={'level_0':'Feature_1','level_1':'Feature_2', 0:'pval'})\n",
    "#results = pd.concat([pval_long_format, rho_long_format[\"Correlation\"]], axis=1)\n"
   ]
  },
  {
   "cell_type": "code",
   "execution_count": null,
   "metadata": {
    "pycharm": {
     "name": "#%%\n"
    }
   },
   "outputs": [],
   "source": [
    "cr = cr.to_numpy()\n",
    "#pv = pv.to_numpy()"
   ]
  },
  {
   "cell_type": "code",
   "execution_count": null,
   "metadata": {
    "pycharm": {
     "name": "#%%\n"
    }
   },
   "outputs": [],
   "source": [
    "for i in iRow:\n",
    "    for j in iCol:\n",
    "        if i<=j:\n",
    "            #print(i, j)\n",
    "            #print(dataAll[i])\n",
    "            X = dataAll[i]\n",
    "            Y = dataAll[j]\n",
    "            nas = np.logical_or(X != X, Y != Y)\n",
    "            not_na = sum(~nas)\n",
    "            #X = Y[~nas]\n",
    "            #Y = Y[~nas]\n",
    "            #new_X, new_Y = remove_pairs_with_a_missing(X, Y)\n",
    "            correlation = cr[i, j]\n",
    "            pval =  pv[i, j]\n",
    "            tests.append([features[i], features_y[j], pval, correlation, not_na])\n",
    "results = pd.DataFrame(tests, columns=['Feature_1','Feature_2','pval', 'Correlation', 'Not_NAs'])\n",
    "\n",
    "p_adust, p_threshold = bh(results[\"pval\"].values, fdr)\n",
    "\n",
    "results[\"P_adusted\"] = p_adust\n",
    "results[\"bh_fdr_threshold\"] = p_threshold\n",
    "results['Type'] = Type\n",
    "results = results.sort_values(['pval', 'Correlation'],\n",
    "                              ascending=[True, False])"
   ]
  },
  {
   "cell_type": "code",
   "execution_count": null,
   "metadata": {
    "pycharm": {
     "name": "#%%\n"
    }
   },
   "outputs": [],
   "source": [
    "# feature names for the complete dataset\n",
    "featuresAll = featuresX.copy()\n",
    "featuresAll.extend(featuresY)"
   ]
  },
  {
   "cell_type": "code",
   "execution_count": null,
   "metadata": {
    "pycharm": {
     "name": "#%%\n"
    }
   },
   "outputs": [],
   "source": [
    "results"
   ]
  },
  {
   "cell_type": "code",
   "execution_count": null,
   "metadata": {
    "pycharm": {
     "name": "#%%\n"
    }
   },
   "outputs": [],
   "source": [
    "# creating the complete dataset\n",
    "dataAll_df = pd.DataFrame(dataAll.T, columns=featuresAll)"
   ]
  },
  {
   "cell_type": "code",
   "execution_count": null,
   "metadata": {
    "pycharm": {
     "name": "#%%\n"
    }
   },
   "outputs": [],
   "source": [
    "%%time\n",
    "# correlation\n",
    "cr = dataAll_df.corr(method='pearson')\n",
    "\n",
    "# calculaing t-statistics, based on the correlations\n",
    "t_stat = (cr*(dataAll_df.shape[0]-2)**.5)/(1-cr**2)**.5\n",
    "\n",
    "# calculating p-values based on the t-statistics\n",
    "pv = 2 * (1 - t.cdf(abs(t_stat), df=dataAll_df.shape[0]-2))"
   ]
  },
  {
   "cell_type": "code",
   "execution_count": null,
   "metadata": {
    "pycharm": {
     "name": "#%%\n"
    }
   },
   "outputs": [],
   "source": [
    "cr"
   ]
  },
  {
   "cell_type": "code",
   "execution_count": null,
   "metadata": {
    "pycharm": {
     "name": "#%%\n"
    }
   },
   "outputs": [],
   "source": [
    "%%time\n",
    "# correlation\n",
    "cr = dataAll_df.corr(method='pearson')\n",
    "\n",
    "# calculaing t-statistics, based on the correlations\n",
    "t_stat = (cr*(dataAll_df.shape[0]-2)**.5)/(1-cr**2)**.5\n",
    "\n",
    "# calculating p-values based on the t-statistics\n",
    "pv = 2 * (1 - t.cdf(abs(t_stat), df=dataAll_df.shape[0]-2))"
   ]
  },
  {
   "cell_type": "code",
   "execution_count": null,
   "metadata": {
    "pycharm": {
     "name": "#%%\n"
    }
   },
   "outputs": [],
   "source": [
    "X_Y"
   ]
  },
  {
   "cell_type": "code",
   "execution_count": null,
   "metadata": {
    "pycharm": {
     "name": "#%%\n"
    }
   },
   "outputs": [],
   "source": [
    "within_X"
   ]
  },
  {
   "cell_type": "code",
   "execution_count": null,
   "metadata": {
    "pycharm": {
     "name": "#%%\n"
    }
   },
   "outputs": [],
   "source": [
    "within_Y"
   ]
  },
  {
   "cell_type": "code",
   "execution_count": null,
   "metadata": {
    "pycharm": {
     "name": "#%%\n"
    }
   },
   "outputs": [],
   "source": [
    "X_Y.pval"
   ]
  },
  {
   "cell_type": "code",
   "execution_count": null,
   "metadata": {
    "pycharm": {
     "name": "#%%\n"
    }
   },
   "outputs": [],
   "source": [
    "outputpath = \"/Users/rah/Documents/omicsEye/btest/demo/btest_output\"\n",
    "os.makedirs(outputpath, exist_ok=True)\n",
    "X_Y.to_csv(outputpath + '/X_Y.tsv', sep=\"\\t\")\n",
    "#rho_X = rho.iloc[0:500, 0:500]\n",
    "#rho_X.to_csv(outputpath + '/simtable_X.tsv', sep=\"\\t\")\n",
    "#rho_X_Y.to_csv(outputpath + '/simtable.tsv', sep=\"\\t\")\n",
    "within_X.to_csv(outputpath + '/within_X.tsv', sep=\"\\t\")\n",
    "within_Y.to_csv(outputpath + '/within_Y.tsv', sep=\"\\t\")"
   ]
  },
  {
   "cell_type": "code",
   "execution_count": null,
   "metadata": {
    "pycharm": {
     "name": "#%%\n"
    }
   },
   "outputs": [],
   "source": [
    "#associations = blockplot.load_associations(path = outputpath + '/X_Y.tsv')\n",
    "associations = blockplot.load_associations('/Users/rah/Dropbox/Ali-Docs/Research_docs/Projects/VastBiome/analysis/btest_bgc_mgx_replaceNA_FALSE_cov_25_measure_rpkg_mbx_pair_spearman_new/X_Y.tsv')"
   ]
  },
  {
   "cell_type": "code",
   "execution_count": null,
   "metadata": {
    "pycharm": {
     "name": "#%%\n"
    }
   },
   "outputs": [],
   "source": [
    "outputpath"
   ]
  },
  {
   "cell_type": "code",
   "execution_count": null,
   "metadata": {
    "pycharm": {
     "name": "#%%\n"
    }
   },
   "outputs": [],
   "source": [
    "associations"
   ]
  },
  {
   "cell_type": "code",
   "execution_count": null,
   "metadata": {
    "pycharm": {
     "name": "#%%\n"
    }
   },
   "outputs": [],
   "source": [
    "#simtable = blockplot.load_order_table(outputpath + '/simtable.tsv', associations)\n",
    "simtable = blockplot.load_order_table('/Users/rah/Dropbox/Ali-Docs/Research_docs/Projects/VastBiome/analysis/btest_bgc_mgx_replaceNA_FALSE_cov_25_measure_rpkg_mbx_pair_spearman_new//simtable.tsv', associations)"
   ]
  },
  {
   "cell_type": "code",
   "execution_count": null,
   "metadata": {
    "pycharm": {
     "name": "#%%\n"
    }
   },
   "outputs": [],
   "source": [
    "X_Y"
   ]
  },
  {
   "cell_type": "code",
   "execution_count": null,
   "metadata": {
    "pycharm": {
     "name": "#%%\n"
    }
   },
   "outputs": [],
   "source": [
    "blockplot.plot(\n",
    "    simtable,\n",
    "    associations,\n",
    "    cmap=\"RdBu_r\",\n",
    "    mask=False,\n",
    "    axlabels=[\"\",\"\"],\n",
    "    outfile=\"/Users/rah/Documents/omicsEye/btest/demo/btest_output/blockplot.pdf\",\n",
    "    similarity=\"Spearman\"\n",
    ")"
   ]
  },
  {
   "cell_type": "code",
   "execution_count": null,
   "metadata": {
    "pycharm": {
     "name": "#%%\n"
    }
   },
   "outputs": [],
   "source": []
  }
 ],
 "metadata": {
  "accelerator": "TPU",
  "colab": {
   "collapsed_sections": [
    "yfILUg1HmAkM"
   ],
   "machine_shape": "hm",
   "name": "15-Ensemble-Evaluation.ipynb",
   "provenance": []
  },
  "kernelspec": {
   "display_name": "Python 3 (ipykernel)",
   "language": "python",
   "name": "python3"
  },
  "language_info": {
   "codemirror_mode": {
    "name": "ipython",
    "version": 3
   },
   "file_extension": ".py",
   "mimetype": "text/x-python",
   "name": "python",
   "nbconvert_exporter": "python",
   "pygments_lexer": "ipython3",
   "version": "3.8.13"
  }
 },
 "nbformat": 4,
 "nbformat_minor": 1
}