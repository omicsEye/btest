{
 "cells": [
  {
   "cell_type": "markdown",
   "metadata": {
    "colab_type": "text",
    "id": "AmPqBsydh5J-",
    "pycharm": {
     "name": "#%% md\n"
    }
   },
   "source": [
    "# *btest* initial steps\n",
    "\n",
    "step-by-step"
   ]
  },
  {
   "cell_type": "code",
   "execution_count": 3,
   "outputs": [],
   "source": [
    "import argparse\n",
    "import csv\n",
    "import itertools\n",
    "import logging\n",
    "import os\n",
    "import sys\n",
    "import shutil\n",
    "import time\n",
    "import math\n",
    "import random\n",
    "from scipy.stats import pearsonr\n",
    "import numpy as np\n",
    "import pandas as pd\n",
    "import math\n",
    "from scipy.stats import spearmanr\n",
    "from btest import config\n",
    "from btest import utils\n",
    "from btest import blockplot\n"
   ],
   "metadata": {
    "collapsed": false,
    "pycharm": {
     "name": "#%%\n"
    }
   }
  },
  {
   "cell_type": "code",
   "execution_count": 4,
   "outputs": [],
   "source": [
    "dataX, dataY = utils.readData('~/Documents/omicsEye/btest/demo/X_dataset.txt', '~/Documents/omicsEye/btest/demo/Y_dataset.txt')"
   ],
   "metadata": {
    "collapsed": false,
    "pycharm": {
     "name": "#%%\n"
    }
   }
  },
  {
   "cell_type": "code",
   "execution_count": 5,
   "outputs": [],
   "source": [
    "dataAll, featuresX, featuresY = utils.dataProcess(dataX, dataY)"
   ],
   "metadata": {
    "collapsed": false,
    "pycharm": {
     "name": "#%%\n"
    }
   }
  },
  {
   "cell_type": "code",
   "execution_count": 6,
   "outputs": [
    {
     "data": {
      "text/plain": "array([[ 5.,  6.,  5., ...,  1.,  4.,  3.],\n       [ 5., nan,  4., ...,  1.,  4.,  3.],\n       [ 5.,  5.,  5., ...,  2.,  4.,  4.],\n       ...,\n       [ 4.,  1.,  1., ...,  4.,  5.,  6.],\n       [ 4.,  1.,  1., ...,  4.,  5.,  6.],\n       [ 4.,  1.,  1., ...,  4.,  6.,  5.]])"
     },
     "execution_count": 6,
     "metadata": {},
     "output_type": "execute_result"
    }
   ],
   "source": [
    "dataAll"
   ],
   "metadata": {
    "collapsed": false,
    "pycharm": {
     "name": "#%%\n"
    }
   }
  },
  {
   "cell_type": "code",
   "execution_count": 7,
   "outputs": [],
   "source": [
    "def btest_corr(dataAll, featuresX, featuresY, method='spearman', fdr=0.1):\n",
    "    iRow = len(dataAll)\n",
    "    iCol = len(dataAll)\n",
    "    tests = []\n",
    "    features = featuresX + featuresY\n",
    "    for i in list(range(iRow)):\n",
    "        for j in list(range(iCol)):\n",
    "            if i<=j:\n",
    "                X = dataAll[i]\n",
    "                Y=  dataAll[j]\n",
    "                nas = np.logical_or(X != X, Y != Y)\n",
    "                not_na = sum(~nas)\n",
    "                #X = Y[~nas]\n",
    "                #Y = Y[~nas]\n",
    "                #new_X, new_Y = remove_pairs_with_a_missing(X, Y)\n",
    "                correlation, pval = spearman(X, Y)\n",
    "                tests.append([features[i],features[j],pval, correlation, not_na])\n",
    "    results = pd.DataFrame(tests, columns = ['Feature_1','Feature_2','pval', 'Correlation', 'Not_NAs'])\n",
    "    return results"
   ],
   "metadata": {
    "collapsed": false,
    "pycharm": {
     "name": "#%%\n"
    }
   }
  },
  {
   "cell_type": "code",
   "execution_count": 8,
   "outputs": [],
   "source": [
    "start_time = time.time()\n",
    "results = btest_corr(dataAll, featuresX, featuresY)\n",
    "rho_excution_time = time.time() - start_time"
   ],
   "metadata": {
    "collapsed": false,
    "pycharm": {
     "name": "#%%\n"
    }
   }
  },
  {
   "cell_type": "code",
   "execution_count": 9,
   "outputs": [
    {
     "data": {
      "text/plain": "10.688559770584106"
     },
     "execution_count": 9,
     "metadata": {},
     "output_type": "execute_result"
    }
   ],
   "source": [
    "rho_excution_time"
   ],
   "metadata": {
    "collapsed": false,
    "pycharm": {
     "name": "#%%\n"
    }
   }
  },
  {
   "cell_type": "code",
   "execution_count": 10,
   "outputs": [
    {
     "data": {
      "text/plain": "      Feature_1 Feature_2          pval  Correlation  Not_NAs\n0            X0        X0  0.000000e+00     1.000000       50\n1            X0        X1  1.511519e-19     0.909559       49\n2            X0        X2  6.554862e-20     0.909350       50\n3            X0        X3  8.315076e-23     0.932087       50\n4            X0        X4  2.588865e-22     0.931758       49\n...         ...       ...           ...          ...      ...\n20095       Y97       Y98  1.445902e-23     0.937008       50\n20096       Y97       Y99  5.556863e-23     0.933255       50\n20097       Y98       Y98  0.000000e+00     1.000000       50\n20098       Y98       Y99  4.070674e-24     0.940343       50\n20099       Y99       Y99  0.000000e+00     1.000000       50\n\n[20100 rows x 5 columns]",
      "text/html": "<div>\n<style scoped>\n    .dataframe tbody tr th:only-of-type {\n        vertical-align: middle;\n    }\n\n    .dataframe tbody tr th {\n        vertical-align: top;\n    }\n\n    .dataframe thead th {\n        text-align: right;\n    }\n</style>\n<table border=\"1\" class=\"dataframe\">\n  <thead>\n    <tr style=\"text-align: right;\">\n      <th></th>\n      <th>Feature_1</th>\n      <th>Feature_2</th>\n      <th>pval</th>\n      <th>Correlation</th>\n      <th>Not_NAs</th>\n    </tr>\n  </thead>\n  <tbody>\n    <tr>\n      <th>0</th>\n      <td>X0</td>\n      <td>X0</td>\n      <td>0.000000e+00</td>\n      <td>1.000000</td>\n      <td>50</td>\n    </tr>\n    <tr>\n      <th>1</th>\n      <td>X0</td>\n      <td>X1</td>\n      <td>1.511519e-19</td>\n      <td>0.909559</td>\n      <td>49</td>\n    </tr>\n    <tr>\n      <th>2</th>\n      <td>X0</td>\n      <td>X2</td>\n      <td>6.554862e-20</td>\n      <td>0.909350</td>\n      <td>50</td>\n    </tr>\n    <tr>\n      <th>3</th>\n      <td>X0</td>\n      <td>X3</td>\n      <td>8.315076e-23</td>\n      <td>0.932087</td>\n      <td>50</td>\n    </tr>\n    <tr>\n      <th>4</th>\n      <td>X0</td>\n      <td>X4</td>\n      <td>2.588865e-22</td>\n      <td>0.931758</td>\n      <td>49</td>\n    </tr>\n    <tr>\n      <th>...</th>\n      <td>...</td>\n      <td>...</td>\n      <td>...</td>\n      <td>...</td>\n      <td>...</td>\n    </tr>\n    <tr>\n      <th>20095</th>\n      <td>Y97</td>\n      <td>Y98</td>\n      <td>1.445902e-23</td>\n      <td>0.937008</td>\n      <td>50</td>\n    </tr>\n    <tr>\n      <th>20096</th>\n      <td>Y97</td>\n      <td>Y99</td>\n      <td>5.556863e-23</td>\n      <td>0.933255</td>\n      <td>50</td>\n    </tr>\n    <tr>\n      <th>20097</th>\n      <td>Y98</td>\n      <td>Y98</td>\n      <td>0.000000e+00</td>\n      <td>1.000000</td>\n      <td>50</td>\n    </tr>\n    <tr>\n      <th>20098</th>\n      <td>Y98</td>\n      <td>Y99</td>\n      <td>4.070674e-24</td>\n      <td>0.940343</td>\n      <td>50</td>\n    </tr>\n    <tr>\n      <th>20099</th>\n      <td>Y99</td>\n      <td>Y99</td>\n      <td>0.000000e+00</td>\n      <td>1.000000</td>\n      <td>50</td>\n    </tr>\n  </tbody>\n</table>\n<p>20100 rows × 5 columns</p>\n</div>"
     },
     "execution_count": 10,
     "metadata": {},
     "output_type": "execute_result"
    }
   ],
   "source": [
    "results"
   ],
   "metadata": {
    "collapsed": false,
    "pycharm": {
     "name": "#%%\n"
    }
   }
  },
  {
   "cell_type": "code",
   "execution_count": 11,
   "outputs": [
    {
     "data": {
      "text/plain": "10.688559770584106"
     },
     "execution_count": 11,
     "metadata": {},
     "output_type": "execute_result"
    }
   ],
   "source": [
    "rho_excution_time"
   ],
   "metadata": {
    "collapsed": false,
    "pycharm": {
     "name": "#%%\n"
    }
   }
  },
  {
   "cell_type": "code",
   "execution_count": 12,
   "outputs": [],
   "source": [
    "within_X = results[results[\"Feature_1\"].isin(featuresX) ]\n",
    "within_X = within_X[within_X[\"Feature_2\"].isin(featuresX) ]\n",
    "within_X = within_X[within_X[\"Feature_1\"] != within_X[\"Feature_2\"]]"
   ],
   "metadata": {
    "collapsed": false,
    "pycharm": {
     "name": "#%%\n"
    }
   }
  },
  {
   "cell_type": "code",
   "execution_count": 13,
   "outputs": [
    {
     "data": {
      "text/plain": "      Feature_1 Feature_2          pval  Correlation  Not_NAs\n1            X0        X1  1.511519e-19     0.909559       49\n2            X0        X2  6.554862e-20     0.909350       50\n3            X0        X3  8.315076e-23     0.932087       50\n4            X0        X4  2.588865e-22     0.931758       49\n5            X0        X5  3.526796e-23     0.934547       50\n...         ...       ...           ...          ...      ...\n14642       X96       X98  1.325589e-22     0.930709       50\n14643       X96       X99  6.324625e-21     0.918110       50\n14745       X97       X98  1.696742e-19     0.905512       50\n14746       X97       X99  6.324625e-21     0.918110       50\n14848       X98       X99  1.696742e-19     0.905512       50\n\n[4950 rows x 5 columns]",
      "text/html": "<div>\n<style scoped>\n    .dataframe tbody tr th:only-of-type {\n        vertical-align: middle;\n    }\n\n    .dataframe tbody tr th {\n        vertical-align: top;\n    }\n\n    .dataframe thead th {\n        text-align: right;\n    }\n</style>\n<table border=\"1\" class=\"dataframe\">\n  <thead>\n    <tr style=\"text-align: right;\">\n      <th></th>\n      <th>Feature_1</th>\n      <th>Feature_2</th>\n      <th>pval</th>\n      <th>Correlation</th>\n      <th>Not_NAs</th>\n    </tr>\n  </thead>\n  <tbody>\n    <tr>\n      <th>1</th>\n      <td>X0</td>\n      <td>X1</td>\n      <td>1.511519e-19</td>\n      <td>0.909559</td>\n      <td>49</td>\n    </tr>\n    <tr>\n      <th>2</th>\n      <td>X0</td>\n      <td>X2</td>\n      <td>6.554862e-20</td>\n      <td>0.909350</td>\n      <td>50</td>\n    </tr>\n    <tr>\n      <th>3</th>\n      <td>X0</td>\n      <td>X3</td>\n      <td>8.315076e-23</td>\n      <td>0.932087</td>\n      <td>50</td>\n    </tr>\n    <tr>\n      <th>4</th>\n      <td>X0</td>\n      <td>X4</td>\n      <td>2.588865e-22</td>\n      <td>0.931758</td>\n      <td>49</td>\n    </tr>\n    <tr>\n      <th>5</th>\n      <td>X0</td>\n      <td>X5</td>\n      <td>3.526796e-23</td>\n      <td>0.934547</td>\n      <td>50</td>\n    </tr>\n    <tr>\n      <th>...</th>\n      <td>...</td>\n      <td>...</td>\n      <td>...</td>\n      <td>...</td>\n      <td>...</td>\n    </tr>\n    <tr>\n      <th>14642</th>\n      <td>X96</td>\n      <td>X98</td>\n      <td>1.325589e-22</td>\n      <td>0.930709</td>\n      <td>50</td>\n    </tr>\n    <tr>\n      <th>14643</th>\n      <td>X96</td>\n      <td>X99</td>\n      <td>6.324625e-21</td>\n      <td>0.918110</td>\n      <td>50</td>\n    </tr>\n    <tr>\n      <th>14745</th>\n      <td>X97</td>\n      <td>X98</td>\n      <td>1.696742e-19</td>\n      <td>0.905512</td>\n      <td>50</td>\n    </tr>\n    <tr>\n      <th>14746</th>\n      <td>X97</td>\n      <td>X99</td>\n      <td>6.324625e-21</td>\n      <td>0.918110</td>\n      <td>50</td>\n    </tr>\n    <tr>\n      <th>14848</th>\n      <td>X98</td>\n      <td>X99</td>\n      <td>1.696742e-19</td>\n      <td>0.905512</td>\n      <td>50</td>\n    </tr>\n  </tbody>\n</table>\n<p>4950 rows × 5 columns</p>\n</div>"
     },
     "execution_count": 13,
     "metadata": {},
     "output_type": "execute_result"
    }
   ],
   "source": [
    "within_X"
   ],
   "metadata": {
    "collapsed": false,
    "pycharm": {
     "name": "#%%\n"
    }
   }
  },
  {
   "cell_type": "code",
   "execution_count": 14,
   "outputs": [],
   "source": [
    "within_Y = results[results[\"Feature_1\"].isin(featuresY)]\n",
    "within_Y = within_Y[within_Y[\"Feature_2\"].isin(featuresY)]\n",
    "within_Y = within_Y[within_Y[\"Feature_1\"] != within_Y[\"Feature_2\"]]"
   ],
   "metadata": {
    "collapsed": false,
    "pycharm": {
     "name": "#%%\n"
    }
   }
  },
  {
   "cell_type": "code",
   "execution_count": 15,
   "outputs": [
    {
     "data": {
      "text/plain": "      Feature_1 Feature_2          pval  Correlation  Not_NAs\n15051        Y0        Y1  2.876300e-19     0.903308       50\n15052        Y0        Y2  8.391473e-23     0.932060       50\n15053        Y0        Y3  1.296812e-26     0.953337       50\n15054        Y0        Y4  9.458936e-22     0.924577       50\n15055        Y0        Y5  1.211416e-18     0.897027       50\n...         ...       ...           ...          ...      ...\n20092       Y96       Y98  1.445902e-23     0.937008       50\n20093       Y96       Y99  5.526886e-24     0.939555       50\n20095       Y97       Y98  1.445902e-23     0.937008       50\n20096       Y97       Y99  5.556863e-23     0.933255       50\n20098       Y98       Y99  4.070674e-24     0.940343       50\n\n[4950 rows x 5 columns]",
      "text/html": "<div>\n<style scoped>\n    .dataframe tbody tr th:only-of-type {\n        vertical-align: middle;\n    }\n\n    .dataframe tbody tr th {\n        vertical-align: top;\n    }\n\n    .dataframe thead th {\n        text-align: right;\n    }\n</style>\n<table border=\"1\" class=\"dataframe\">\n  <thead>\n    <tr style=\"text-align: right;\">\n      <th></th>\n      <th>Feature_1</th>\n      <th>Feature_2</th>\n      <th>pval</th>\n      <th>Correlation</th>\n      <th>Not_NAs</th>\n    </tr>\n  </thead>\n  <tbody>\n    <tr>\n      <th>15051</th>\n      <td>Y0</td>\n      <td>Y1</td>\n      <td>2.876300e-19</td>\n      <td>0.903308</td>\n      <td>50</td>\n    </tr>\n    <tr>\n      <th>15052</th>\n      <td>Y0</td>\n      <td>Y2</td>\n      <td>8.391473e-23</td>\n      <td>0.932060</td>\n      <td>50</td>\n    </tr>\n    <tr>\n      <th>15053</th>\n      <td>Y0</td>\n      <td>Y3</td>\n      <td>1.296812e-26</td>\n      <td>0.953337</td>\n      <td>50</td>\n    </tr>\n    <tr>\n      <th>15054</th>\n      <td>Y0</td>\n      <td>Y4</td>\n      <td>9.458936e-22</td>\n      <td>0.924577</td>\n      <td>50</td>\n    </tr>\n    <tr>\n      <th>15055</th>\n      <td>Y0</td>\n      <td>Y5</td>\n      <td>1.211416e-18</td>\n      <td>0.897027</td>\n      <td>50</td>\n    </tr>\n    <tr>\n      <th>...</th>\n      <td>...</td>\n      <td>...</td>\n      <td>...</td>\n      <td>...</td>\n      <td>...</td>\n    </tr>\n    <tr>\n      <th>20092</th>\n      <td>Y96</td>\n      <td>Y98</td>\n      <td>1.445902e-23</td>\n      <td>0.937008</td>\n      <td>50</td>\n    </tr>\n    <tr>\n      <th>20093</th>\n      <td>Y96</td>\n      <td>Y99</td>\n      <td>5.526886e-24</td>\n      <td>0.939555</td>\n      <td>50</td>\n    </tr>\n    <tr>\n      <th>20095</th>\n      <td>Y97</td>\n      <td>Y98</td>\n      <td>1.445902e-23</td>\n      <td>0.937008</td>\n      <td>50</td>\n    </tr>\n    <tr>\n      <th>20096</th>\n      <td>Y97</td>\n      <td>Y99</td>\n      <td>5.556863e-23</td>\n      <td>0.933255</td>\n      <td>50</td>\n    </tr>\n    <tr>\n      <th>20098</th>\n      <td>Y98</td>\n      <td>Y99</td>\n      <td>4.070674e-24</td>\n      <td>0.940343</td>\n      <td>50</td>\n    </tr>\n  </tbody>\n</table>\n<p>4950 rows × 5 columns</p>\n</div>"
     },
     "execution_count": 15,
     "metadata": {},
     "output_type": "execute_result"
    }
   ],
   "source": [
    "within_Y"
   ],
   "metadata": {
    "collapsed": false,
    "pycharm": {
     "name": "#%%\n"
    }
   }
  },
  {
   "cell_type": "code",
   "execution_count": 16,
   "outputs": [],
   "source": [
    "X_Y = results[~np.logical_or(results[\"Feature_1\"].isin(dataY.index), results[\"Feature_2\"].isin(dataX.index))]\n",
    "#X_Y = X_Y[X_Y[\"Feature_2\"].isin(dataY.index) ]"
   ],
   "metadata": {
    "collapsed": false,
    "pycharm": {
     "name": "#%%\n"
    }
   }
  },
  {
   "cell_type": "code",
   "execution_count": 17,
   "outputs": [
    {
     "data": {
      "text/plain": "      Feature_1 Feature_2      pval  Correlation  Not_NAs\n100          X0        Y0  0.654930    -0.064777       50\n101          X0        Y1  0.846105    -0.028155       50\n102          X0        Y2  0.835488    -0.030124       50\n103          X0        Y3  0.719011    -0.052165       50\n104          X0        Y4  0.931868    -0.012404       50\n...         ...       ...       ...          ...      ...\n15045       X99       Y95  0.358257     0.132703       50\n15046       X99       Y96  0.150612     0.206299       50\n15047       X99       Y97  0.320788     0.143307       50\n15048       X99       Y98  0.163753     0.200000       50\n15049       X99       Y99  0.285720     0.153967       50\n\n[10000 rows x 5 columns]",
      "text/html": "<div>\n<style scoped>\n    .dataframe tbody tr th:only-of-type {\n        vertical-align: middle;\n    }\n\n    .dataframe tbody tr th {\n        vertical-align: top;\n    }\n\n    .dataframe thead th {\n        text-align: right;\n    }\n</style>\n<table border=\"1\" class=\"dataframe\">\n  <thead>\n    <tr style=\"text-align: right;\">\n      <th></th>\n      <th>Feature_1</th>\n      <th>Feature_2</th>\n      <th>pval</th>\n      <th>Correlation</th>\n      <th>Not_NAs</th>\n    </tr>\n  </thead>\n  <tbody>\n    <tr>\n      <th>100</th>\n      <td>X0</td>\n      <td>Y0</td>\n      <td>0.654930</td>\n      <td>-0.064777</td>\n      <td>50</td>\n    </tr>\n    <tr>\n      <th>101</th>\n      <td>X0</td>\n      <td>Y1</td>\n      <td>0.846105</td>\n      <td>-0.028155</td>\n      <td>50</td>\n    </tr>\n    <tr>\n      <th>102</th>\n      <td>X0</td>\n      <td>Y2</td>\n      <td>0.835488</td>\n      <td>-0.030124</td>\n      <td>50</td>\n    </tr>\n    <tr>\n      <th>103</th>\n      <td>X0</td>\n      <td>Y3</td>\n      <td>0.719011</td>\n      <td>-0.052165</td>\n      <td>50</td>\n    </tr>\n    <tr>\n      <th>104</th>\n      <td>X0</td>\n      <td>Y4</td>\n      <td>0.931868</td>\n      <td>-0.012404</td>\n      <td>50</td>\n    </tr>\n    <tr>\n      <th>...</th>\n      <td>...</td>\n      <td>...</td>\n      <td>...</td>\n      <td>...</td>\n      <td>...</td>\n    </tr>\n    <tr>\n      <th>15045</th>\n      <td>X99</td>\n      <td>Y95</td>\n      <td>0.358257</td>\n      <td>0.132703</td>\n      <td>50</td>\n    </tr>\n    <tr>\n      <th>15046</th>\n      <td>X99</td>\n      <td>Y96</td>\n      <td>0.150612</td>\n      <td>0.206299</td>\n      <td>50</td>\n    </tr>\n    <tr>\n      <th>15047</th>\n      <td>X99</td>\n      <td>Y97</td>\n      <td>0.320788</td>\n      <td>0.143307</td>\n      <td>50</td>\n    </tr>\n    <tr>\n      <th>15048</th>\n      <td>X99</td>\n      <td>Y98</td>\n      <td>0.163753</td>\n      <td>0.200000</td>\n      <td>50</td>\n    </tr>\n    <tr>\n      <th>15049</th>\n      <td>X99</td>\n      <td>Y99</td>\n      <td>0.285720</td>\n      <td>0.153967</td>\n      <td>50</td>\n    </tr>\n  </tbody>\n</table>\n<p>10000 rows × 5 columns</p>\n</div>"
     },
     "execution_count": 17,
     "metadata": {},
     "output_type": "execute_result"
    }
   ],
   "source": [
    "X_Y\n"
   ],
   "metadata": {
    "collapsed": false,
    "pycharm": {
     "name": "#%%\n"
    }
   }
  },
  {
   "cell_type": "code",
   "execution_count": 18,
   "outputs": [],
   "source": [
    "rho_X_Y = pd.pivot(X_Y, index=\"Feature_1\", columns = \"Feature_2\",values = 'Correlation') #Reshape from long to wide\n",
    "rho_X = pd.pivot(within_X, index=\"Feature_1\", columns = \"Feature_2\",values = 'Correlation') #Reshape from long to wide\n",
    "rho_Y = pd.pivot(within_Y, index=\"Feature_1\", columns = \"Feature_2\",values = 'Correlation') #Reshape from long to wide"
   ],
   "metadata": {
    "collapsed": false,
    "pycharm": {
     "name": "#%%\n"
    }
   }
  },
  {
   "cell_type": "code",
   "execution_count": 19,
   "outputs": [
    {
     "data": {
      "text/plain": "Feature_2        Y0        Y1       Y10       Y11       Y12       Y13  \\\nFeature_1                                                               \nX0        -0.064777 -0.028155 -0.032880  0.028549 -0.008071 -0.045866   \nX1        -0.166641 -0.132381 -0.074402  0.001543 -0.091251 -0.115725   \nX10       -0.093670 -0.071618 -0.065859 -0.001920 -0.071850 -0.086811   \nX11       -0.140136 -0.079888 -0.078559 -0.010189 -0.053740 -0.104134   \nX12       -0.089048 -0.067877 -0.021654  0.049724 -0.054123 -0.058359   \n...             ...       ...       ...       ...       ...       ...   \nX95       -0.082004 -0.055867 -0.035145 -0.088551 -0.134843  0.049409   \nX96        0.004627  0.018557  0.032979 -0.033816 -0.034055  0.112402   \nX97       -0.010730 -0.033422  0.025103 -0.060199 -0.080512  0.097441   \nX98        0.015259  0.048484  0.060543 -0.003889 -0.017520  0.135236   \nX99        0.017622  0.019344  0.019984 -0.007039 -0.027756  0.118701   \n\nFeature_2       Y14       Y15       Y16       Y17  ...       Y90       Y91  \\\nFeature_1                                          ...                       \nX0        -0.010041  0.013192  0.002166  0.034849  ...  0.005956 -0.081299   \nX1        -0.077985 -0.059914 -0.071081 -0.019379  ...  0.127439  0.014537   \nX10       -0.020427  0.004922 -0.028303 -0.002313  ...  0.104007  0.000591   \nX11       -0.060986 -0.038000 -0.068862  0.015407  ...  0.022642 -0.068701   \nX12       -0.035259  0.002249 -0.028186  0.035913  ...  0.007453 -0.107201   \n...             ...       ...       ...       ...  ...       ...       ...   \nX95       -0.119659 -0.095245 -0.055621 -0.171097  ...  0.240992  0.174803   \nX96       -0.051536  0.010681  0.031404 -0.096673  ...  0.208703  0.162205   \nX97       -0.084613 -0.035785 -0.007580 -0.142351  ...  0.214609  0.118110   \nX98       -0.015308  0.026432  0.035735 -0.079740  ...  0.222485  0.155906   \nX99       -0.031453  0.003987  0.019590 -0.095885  ...  0.208703  0.155906   \n\nFeature_2       Y92       Y93       Y94       Y95       Y96       Y97  \\\nFeature_1                                                               \nX0        -0.072638 -0.075015 -0.124385 -0.060199 -0.068701 -0.081299   \nX1         0.040030  0.042889 -0.020316  0.069628 -0.008864  0.035455   \nX10        0.004528  0.008712 -0.042331  0.028155 -0.024606 -0.009646   \nX11       -0.056102 -0.057836 -0.101792 -0.042479 -0.068701 -0.077362   \nX12       -0.089578 -0.096815 -0.148073 -0.073749 -0.113476 -0.104534   \n...             ...       ...       ...       ...       ...       ...   \nX95        0.262992  0.215397  0.207915  0.164206  0.237795  0.181102   \nX96        0.237795  0.185470  0.201614  0.109077  0.218898  0.155906   \nX97        0.218898  0.183894  0.189407  0.151998  0.187402  0.137008   \nX98        0.231496  0.173656  0.195314  0.114589  0.212598  0.149606   \nX99        0.218898  0.165781  0.164599  0.132703  0.206299  0.143307   \n\nFeature_2       Y98       Y99  \nFeature_1                      \nX0        -0.072638 -0.101004  \nX1         0.033337  0.002354  \nX10        0.010827 -0.020033  \nX11       -0.062402 -0.102185  \nX12       -0.108037 -0.137505  \n...             ...       ...  \nX95        0.225197  0.154361  \nX96        0.231496  0.140973  \nX97        0.193701  0.109470  \nX98        0.200000  0.128372  \nX99        0.200000  0.153967  \n\n[100 rows x 100 columns]",
      "text/html": "<div>\n<style scoped>\n    .dataframe tbody tr th:only-of-type {\n        vertical-align: middle;\n    }\n\n    .dataframe tbody tr th {\n        vertical-align: top;\n    }\n\n    .dataframe thead th {\n        text-align: right;\n    }\n</style>\n<table border=\"1\" class=\"dataframe\">\n  <thead>\n    <tr style=\"text-align: right;\">\n      <th>Feature_2</th>\n      <th>Y0</th>\n      <th>Y1</th>\n      <th>Y10</th>\n      <th>Y11</th>\n      <th>Y12</th>\n      <th>Y13</th>\n      <th>Y14</th>\n      <th>Y15</th>\n      <th>Y16</th>\n      <th>Y17</th>\n      <th>...</th>\n      <th>Y90</th>\n      <th>Y91</th>\n      <th>Y92</th>\n      <th>Y93</th>\n      <th>Y94</th>\n      <th>Y95</th>\n      <th>Y96</th>\n      <th>Y97</th>\n      <th>Y98</th>\n      <th>Y99</th>\n    </tr>\n    <tr>\n      <th>Feature_1</th>\n      <th></th>\n      <th></th>\n      <th></th>\n      <th></th>\n      <th></th>\n      <th></th>\n      <th></th>\n      <th></th>\n      <th></th>\n      <th></th>\n      <th></th>\n      <th></th>\n      <th></th>\n      <th></th>\n      <th></th>\n      <th></th>\n      <th></th>\n      <th></th>\n      <th></th>\n      <th></th>\n      <th></th>\n    </tr>\n  </thead>\n  <tbody>\n    <tr>\n      <th>X0</th>\n      <td>-0.064777</td>\n      <td>-0.028155</td>\n      <td>-0.032880</td>\n      <td>0.028549</td>\n      <td>-0.008071</td>\n      <td>-0.045866</td>\n      <td>-0.010041</td>\n      <td>0.013192</td>\n      <td>0.002166</td>\n      <td>0.034849</td>\n      <td>...</td>\n      <td>0.005956</td>\n      <td>-0.081299</td>\n      <td>-0.072638</td>\n      <td>-0.075015</td>\n      <td>-0.124385</td>\n      <td>-0.060199</td>\n      <td>-0.068701</td>\n      <td>-0.081299</td>\n      <td>-0.072638</td>\n      <td>-0.101004</td>\n    </tr>\n    <tr>\n      <th>X1</th>\n      <td>-0.166641</td>\n      <td>-0.132381</td>\n      <td>-0.074402</td>\n      <td>0.001543</td>\n      <td>-0.091251</td>\n      <td>-0.115725</td>\n      <td>-0.077985</td>\n      <td>-0.059914</td>\n      <td>-0.071081</td>\n      <td>-0.019379</td>\n      <td>...</td>\n      <td>0.127439</td>\n      <td>0.014537</td>\n      <td>0.040030</td>\n      <td>0.042889</td>\n      <td>-0.020316</td>\n      <td>0.069628</td>\n      <td>-0.008864</td>\n      <td>0.035455</td>\n      <td>0.033337</td>\n      <td>0.002354</td>\n    </tr>\n    <tr>\n      <th>X10</th>\n      <td>-0.093670</td>\n      <td>-0.071618</td>\n      <td>-0.065859</td>\n      <td>-0.001920</td>\n      <td>-0.071850</td>\n      <td>-0.086811</td>\n      <td>-0.020427</td>\n      <td>0.004922</td>\n      <td>-0.028303</td>\n      <td>-0.002313</td>\n      <td>...</td>\n      <td>0.104007</td>\n      <td>0.000591</td>\n      <td>0.004528</td>\n      <td>0.008712</td>\n      <td>-0.042331</td>\n      <td>0.028155</td>\n      <td>-0.024606</td>\n      <td>-0.009646</td>\n      <td>0.010827</td>\n      <td>-0.020033</td>\n    </tr>\n    <tr>\n      <th>X11</th>\n      <td>-0.140136</td>\n      <td>-0.079888</td>\n      <td>-0.078559</td>\n      <td>-0.010189</td>\n      <td>-0.053740</td>\n      <td>-0.104134</td>\n      <td>-0.060986</td>\n      <td>-0.038000</td>\n      <td>-0.068862</td>\n      <td>0.015407</td>\n      <td>...</td>\n      <td>0.022642</td>\n      <td>-0.068701</td>\n      <td>-0.056102</td>\n      <td>-0.057836</td>\n      <td>-0.101792</td>\n      <td>-0.042479</td>\n      <td>-0.068701</td>\n      <td>-0.077362</td>\n      <td>-0.062402</td>\n      <td>-0.102185</td>\n    </tr>\n    <tr>\n      <th>X12</th>\n      <td>-0.089048</td>\n      <td>-0.067877</td>\n      <td>-0.021654</td>\n      <td>0.049724</td>\n      <td>-0.054123</td>\n      <td>-0.058359</td>\n      <td>-0.035259</td>\n      <td>0.002249</td>\n      <td>-0.028186</td>\n      <td>0.035913</td>\n      <td>...</td>\n      <td>0.007453</td>\n      <td>-0.107201</td>\n      <td>-0.089578</td>\n      <td>-0.096815</td>\n      <td>-0.148073</td>\n      <td>-0.073749</td>\n      <td>-0.113476</td>\n      <td>-0.104534</td>\n      <td>-0.108037</td>\n      <td>-0.137505</td>\n    </tr>\n    <tr>\n      <th>...</th>\n      <td>...</td>\n      <td>...</td>\n      <td>...</td>\n      <td>...</td>\n      <td>...</td>\n      <td>...</td>\n      <td>...</td>\n      <td>...</td>\n      <td>...</td>\n      <td>...</td>\n      <td>...</td>\n      <td>...</td>\n      <td>...</td>\n      <td>...</td>\n      <td>...</td>\n      <td>...</td>\n      <td>...</td>\n      <td>...</td>\n      <td>...</td>\n      <td>...</td>\n      <td>...</td>\n    </tr>\n    <tr>\n      <th>X95</th>\n      <td>-0.082004</td>\n      <td>-0.055867</td>\n      <td>-0.035145</td>\n      <td>-0.088551</td>\n      <td>-0.134843</td>\n      <td>0.049409</td>\n      <td>-0.119659</td>\n      <td>-0.095245</td>\n      <td>-0.055621</td>\n      <td>-0.171097</td>\n      <td>...</td>\n      <td>0.240992</td>\n      <td>0.174803</td>\n      <td>0.262992</td>\n      <td>0.215397</td>\n      <td>0.207915</td>\n      <td>0.164206</td>\n      <td>0.237795</td>\n      <td>0.181102</td>\n      <td>0.225197</td>\n      <td>0.154361</td>\n    </tr>\n    <tr>\n      <th>X96</th>\n      <td>0.004627</td>\n      <td>0.018557</td>\n      <td>0.032979</td>\n      <td>-0.033816</td>\n      <td>-0.034055</td>\n      <td>0.112402</td>\n      <td>-0.051536</td>\n      <td>0.010681</td>\n      <td>0.031404</td>\n      <td>-0.096673</td>\n      <td>...</td>\n      <td>0.208703</td>\n      <td>0.162205</td>\n      <td>0.237795</td>\n      <td>0.185470</td>\n      <td>0.201614</td>\n      <td>0.109077</td>\n      <td>0.218898</td>\n      <td>0.155906</td>\n      <td>0.231496</td>\n      <td>0.140973</td>\n    </tr>\n    <tr>\n      <th>X97</th>\n      <td>-0.010730</td>\n      <td>-0.033422</td>\n      <td>0.025103</td>\n      <td>-0.060199</td>\n      <td>-0.080512</td>\n      <td>0.097441</td>\n      <td>-0.084613</td>\n      <td>-0.035785</td>\n      <td>-0.007580</td>\n      <td>-0.142351</td>\n      <td>...</td>\n      <td>0.214609</td>\n      <td>0.118110</td>\n      <td>0.218898</td>\n      <td>0.183894</td>\n      <td>0.189407</td>\n      <td>0.151998</td>\n      <td>0.187402</td>\n      <td>0.137008</td>\n      <td>0.193701</td>\n      <td>0.109470</td>\n    </tr>\n    <tr>\n      <th>X98</th>\n      <td>0.015259</td>\n      <td>0.048484</td>\n      <td>0.060543</td>\n      <td>-0.003889</td>\n      <td>-0.017520</td>\n      <td>0.135236</td>\n      <td>-0.015308</td>\n      <td>0.026432</td>\n      <td>0.035735</td>\n      <td>-0.079740</td>\n      <td>...</td>\n      <td>0.222485</td>\n      <td>0.155906</td>\n      <td>0.231496</td>\n      <td>0.173656</td>\n      <td>0.195314</td>\n      <td>0.114589</td>\n      <td>0.212598</td>\n      <td>0.149606</td>\n      <td>0.200000</td>\n      <td>0.128372</td>\n    </tr>\n    <tr>\n      <th>X99</th>\n      <td>0.017622</td>\n      <td>0.019344</td>\n      <td>0.019984</td>\n      <td>-0.007039</td>\n      <td>-0.027756</td>\n      <td>0.118701</td>\n      <td>-0.031453</td>\n      <td>0.003987</td>\n      <td>0.019590</td>\n      <td>-0.095885</td>\n      <td>...</td>\n      <td>0.208703</td>\n      <td>0.155906</td>\n      <td>0.218898</td>\n      <td>0.165781</td>\n      <td>0.164599</td>\n      <td>0.132703</td>\n      <td>0.206299</td>\n      <td>0.143307</td>\n      <td>0.200000</td>\n      <td>0.153967</td>\n    </tr>\n  </tbody>\n</table>\n<p>100 rows × 100 columns</p>\n</div>"
     },
     "execution_count": 19,
     "metadata": {},
     "output_type": "execute_result"
    }
   ],
   "source": [
    "rho_X_Y"
   ],
   "metadata": {
    "collapsed": false,
    "pycharm": {
     "name": "#%%\n"
    }
   }
  },
  {
   "cell_type": "code",
   "execution_count": 20,
   "outputs": [
    {
     "data": {
      "text/plain": "Feature_2        X1       X10       X11       X12       X13       X14  \\\nFeature_1                                                               \nX0         0.909559  0.909252  0.940846  0.905297  0.926685  0.925787   \nX1              NaN  0.916645  0.926868  0.921808  0.930450  0.899101   \nX10             NaN       NaN  0.906890  0.917037  0.932725  0.928248   \nX11             NaN       NaN       NaN  0.909533  0.963473  0.934547   \nX12             NaN       NaN       NaN       NaN  0.933478  0.919495   \n...             ...       ...       ...       ...       ...       ...   \nX94             NaN       NaN       NaN       NaN       NaN       NaN   \nX95             NaN       NaN       NaN       NaN       NaN       NaN   \nX96             NaN       NaN       NaN       NaN       NaN       NaN   \nX97             NaN       NaN       NaN       NaN       NaN       NaN   \nX98             NaN       NaN       NaN       NaN       NaN       NaN   \n\nFeature_2       X15       X16       X17       X18  ...       X90       X91  \\\nFeature_1                                          ...                       \nX0         0.925787  0.906890  0.915650  0.940846  ... -0.008858 -0.021457   \nX1         0.936307  0.932568  0.938451  0.919181  ...  0.063405  0.062150   \nX10        0.928248  0.911713  0.909350  0.918012  ...  0.098228  0.060433   \nX11        0.947146  0.921949  0.932087  0.919488  ...  0.051772  0.013976   \nX12        0.929195  0.939575  0.903912  0.929875  ...  0.043142  0.049025   \n...             ...       ...       ...       ...  ...       ...       ...   \nX94             NaN       NaN       NaN       NaN  ...       NaN       NaN   \nX95             NaN       NaN       NaN       NaN  ...       NaN       NaN   \nX96             NaN       NaN       NaN       NaN  ...       NaN       NaN   \nX97             NaN       NaN       NaN       NaN  ...       NaN       NaN   \nX98             NaN       NaN       NaN       NaN  ...       NaN       NaN   \n\nFeature_2       X92       X93       X94       X95       X96       X97  \\\nFeature_1                                                               \nX0         0.020276 -0.034055  0.032874 -0.002559 -0.008858 -0.046654   \nX1         0.075485  0.022695  0.104795  0.078047  0.051613  0.045286   \nX10        0.085630  0.043898  0.134449  0.075394  0.085630  0.043898   \nX11        0.041535 -0.002559  0.079331  0.041535  0.032874 -0.006496   \nX12        0.031376  0.043848  0.095461  0.065575  0.028526  0.013413   \n...             ...       ...       ...       ...       ...       ...   \nX94             NaN       NaN       NaN  0.930709  0.905512  0.918110   \nX95             NaN       NaN       NaN       NaN  0.911811  0.930709   \nX96             NaN       NaN       NaN       NaN       NaN  0.911811   \nX97             NaN       NaN       NaN       NaN       NaN       NaN   \nX98             NaN       NaN       NaN       NaN       NaN       NaN   \n\nFeature_2       X98       X99  \nFeature_1                      \nX0        -0.021457  0.010039  \nX1         0.047221  0.091016  \nX10        0.081693  0.117126  \nX11        0.058071  0.047835  \nX12        0.052371  0.042750  \n...             ...       ...  \nX94        0.918110  0.930709  \nX95        0.911811  0.943307  \nX96        0.930709  0.918110  \nX97        0.905512  0.918110  \nX98             NaN  0.905512  \n\n[99 rows x 99 columns]",
      "text/html": "<div>\n<style scoped>\n    .dataframe tbody tr th:only-of-type {\n        vertical-align: middle;\n    }\n\n    .dataframe tbody tr th {\n        vertical-align: top;\n    }\n\n    .dataframe thead th {\n        text-align: right;\n    }\n</style>\n<table border=\"1\" class=\"dataframe\">\n  <thead>\n    <tr style=\"text-align: right;\">\n      <th>Feature_2</th>\n      <th>X1</th>\n      <th>X10</th>\n      <th>X11</th>\n      <th>X12</th>\n      <th>X13</th>\n      <th>X14</th>\n      <th>X15</th>\n      <th>X16</th>\n      <th>X17</th>\n      <th>X18</th>\n      <th>...</th>\n      <th>X90</th>\n      <th>X91</th>\n      <th>X92</th>\n      <th>X93</th>\n      <th>X94</th>\n      <th>X95</th>\n      <th>X96</th>\n      <th>X97</th>\n      <th>X98</th>\n      <th>X99</th>\n    </tr>\n    <tr>\n      <th>Feature_1</th>\n      <th></th>\n      <th></th>\n      <th></th>\n      <th></th>\n      <th></th>\n      <th></th>\n      <th></th>\n      <th></th>\n      <th></th>\n      <th></th>\n      <th></th>\n      <th></th>\n      <th></th>\n      <th></th>\n      <th></th>\n      <th></th>\n      <th></th>\n      <th></th>\n      <th></th>\n      <th></th>\n      <th></th>\n    </tr>\n  </thead>\n  <tbody>\n    <tr>\n      <th>X0</th>\n      <td>0.909559</td>\n      <td>0.909252</td>\n      <td>0.940846</td>\n      <td>0.905297</td>\n      <td>0.926685</td>\n      <td>0.925787</td>\n      <td>0.925787</td>\n      <td>0.906890</td>\n      <td>0.915650</td>\n      <td>0.940846</td>\n      <td>...</td>\n      <td>-0.008858</td>\n      <td>-0.021457</td>\n      <td>0.020276</td>\n      <td>-0.034055</td>\n      <td>0.032874</td>\n      <td>-0.002559</td>\n      <td>-0.008858</td>\n      <td>-0.046654</td>\n      <td>-0.021457</td>\n      <td>0.010039</td>\n    </tr>\n    <tr>\n      <th>X1</th>\n      <td>NaN</td>\n      <td>0.916645</td>\n      <td>0.926868</td>\n      <td>0.921808</td>\n      <td>0.930450</td>\n      <td>0.899101</td>\n      <td>0.936307</td>\n      <td>0.932568</td>\n      <td>0.938451</td>\n      <td>0.919181</td>\n      <td>...</td>\n      <td>0.063405</td>\n      <td>0.062150</td>\n      <td>0.075485</td>\n      <td>0.022695</td>\n      <td>0.104795</td>\n      <td>0.078047</td>\n      <td>0.051613</td>\n      <td>0.045286</td>\n      <td>0.047221</td>\n      <td>0.091016</td>\n    </tr>\n    <tr>\n      <th>X10</th>\n      <td>NaN</td>\n      <td>NaN</td>\n      <td>0.906890</td>\n      <td>0.917037</td>\n      <td>0.932725</td>\n      <td>0.928248</td>\n      <td>0.928248</td>\n      <td>0.911713</td>\n      <td>0.909350</td>\n      <td>0.918012</td>\n      <td>...</td>\n      <td>0.098228</td>\n      <td>0.060433</td>\n      <td>0.085630</td>\n      <td>0.043898</td>\n      <td>0.134449</td>\n      <td>0.075394</td>\n      <td>0.085630</td>\n      <td>0.043898</td>\n      <td>0.081693</td>\n      <td>0.117126</td>\n    </tr>\n    <tr>\n      <th>X11</th>\n      <td>NaN</td>\n      <td>NaN</td>\n      <td>NaN</td>\n      <td>0.909533</td>\n      <td>0.963473</td>\n      <td>0.934547</td>\n      <td>0.947146</td>\n      <td>0.921949</td>\n      <td>0.932087</td>\n      <td>0.919488</td>\n      <td>...</td>\n      <td>0.051772</td>\n      <td>0.013976</td>\n      <td>0.041535</td>\n      <td>-0.002559</td>\n      <td>0.079331</td>\n      <td>0.041535</td>\n      <td>0.032874</td>\n      <td>-0.006496</td>\n      <td>0.058071</td>\n      <td>0.047835</td>\n    </tr>\n    <tr>\n      <th>X12</th>\n      <td>NaN</td>\n      <td>NaN</td>\n      <td>NaN</td>\n      <td>NaN</td>\n      <td>0.933478</td>\n      <td>0.919495</td>\n      <td>0.929195</td>\n      <td>0.939575</td>\n      <td>0.903912</td>\n      <td>0.929875</td>\n      <td>...</td>\n      <td>0.043142</td>\n      <td>0.049025</td>\n      <td>0.031376</td>\n      <td>0.043848</td>\n      <td>0.095461</td>\n      <td>0.065575</td>\n      <td>0.028526</td>\n      <td>0.013413</td>\n      <td>0.052371</td>\n      <td>0.042750</td>\n    </tr>\n    <tr>\n      <th>...</th>\n      <td>...</td>\n      <td>...</td>\n      <td>...</td>\n      <td>...</td>\n      <td>...</td>\n      <td>...</td>\n      <td>...</td>\n      <td>...</td>\n      <td>...</td>\n      <td>...</td>\n      <td>...</td>\n      <td>...</td>\n      <td>...</td>\n      <td>...</td>\n      <td>...</td>\n      <td>...</td>\n      <td>...</td>\n      <td>...</td>\n      <td>...</td>\n      <td>...</td>\n      <td>...</td>\n    </tr>\n    <tr>\n      <th>X94</th>\n      <td>NaN</td>\n      <td>NaN</td>\n      <td>NaN</td>\n      <td>NaN</td>\n      <td>NaN</td>\n      <td>NaN</td>\n      <td>NaN</td>\n      <td>NaN</td>\n      <td>NaN</td>\n      <td>NaN</td>\n      <td>...</td>\n      <td>NaN</td>\n      <td>NaN</td>\n      <td>NaN</td>\n      <td>NaN</td>\n      <td>NaN</td>\n      <td>0.930709</td>\n      <td>0.905512</td>\n      <td>0.918110</td>\n      <td>0.918110</td>\n      <td>0.930709</td>\n    </tr>\n    <tr>\n      <th>X95</th>\n      <td>NaN</td>\n      <td>NaN</td>\n      <td>NaN</td>\n      <td>NaN</td>\n      <td>NaN</td>\n      <td>NaN</td>\n      <td>NaN</td>\n      <td>NaN</td>\n      <td>NaN</td>\n      <td>NaN</td>\n      <td>...</td>\n      <td>NaN</td>\n      <td>NaN</td>\n      <td>NaN</td>\n      <td>NaN</td>\n      <td>NaN</td>\n      <td>NaN</td>\n      <td>0.911811</td>\n      <td>0.930709</td>\n      <td>0.911811</td>\n      <td>0.943307</td>\n    </tr>\n    <tr>\n      <th>X96</th>\n      <td>NaN</td>\n      <td>NaN</td>\n      <td>NaN</td>\n      <td>NaN</td>\n      <td>NaN</td>\n      <td>NaN</td>\n      <td>NaN</td>\n      <td>NaN</td>\n      <td>NaN</td>\n      <td>NaN</td>\n      <td>...</td>\n      <td>NaN</td>\n      <td>NaN</td>\n      <td>NaN</td>\n      <td>NaN</td>\n      <td>NaN</td>\n      <td>NaN</td>\n      <td>NaN</td>\n      <td>0.911811</td>\n      <td>0.930709</td>\n      <td>0.918110</td>\n    </tr>\n    <tr>\n      <th>X97</th>\n      <td>NaN</td>\n      <td>NaN</td>\n      <td>NaN</td>\n      <td>NaN</td>\n      <td>NaN</td>\n      <td>NaN</td>\n      <td>NaN</td>\n      <td>NaN</td>\n      <td>NaN</td>\n      <td>NaN</td>\n      <td>...</td>\n      <td>NaN</td>\n      <td>NaN</td>\n      <td>NaN</td>\n      <td>NaN</td>\n      <td>NaN</td>\n      <td>NaN</td>\n      <td>NaN</td>\n      <td>NaN</td>\n      <td>0.905512</td>\n      <td>0.918110</td>\n    </tr>\n    <tr>\n      <th>X98</th>\n      <td>NaN</td>\n      <td>NaN</td>\n      <td>NaN</td>\n      <td>NaN</td>\n      <td>NaN</td>\n      <td>NaN</td>\n      <td>NaN</td>\n      <td>NaN</td>\n      <td>NaN</td>\n      <td>NaN</td>\n      <td>...</td>\n      <td>NaN</td>\n      <td>NaN</td>\n      <td>NaN</td>\n      <td>NaN</td>\n      <td>NaN</td>\n      <td>NaN</td>\n      <td>NaN</td>\n      <td>NaN</td>\n      <td>NaN</td>\n      <td>0.905512</td>\n    </tr>\n  </tbody>\n</table>\n<p>99 rows × 99 columns</p>\n</div>"
     },
     "execution_count": 20,
     "metadata": {},
     "output_type": "execute_result"
    }
   ],
   "source": [
    "rho_X"
   ],
   "metadata": {
    "collapsed": false,
    "pycharm": {
     "name": "#%%\n"
    }
   }
  },
  {
   "cell_type": "code",
   "execution_count": 21,
   "outputs": [
    {
     "data": {
      "text/plain": "100      0.654930\n101      0.846105\n102      0.835488\n103      0.719011\n104      0.931868\n           ...   \n15045    0.358257\n15046    0.150612\n15047    0.320788\n15048    0.163753\n15049    0.285720\nName: pval, Length: 10000, dtype: float64"
     },
     "execution_count": 21,
     "metadata": {},
     "output_type": "execute_result"
    }
   ],
   "source": [
    "X_Y.pval"
   ],
   "metadata": {
    "collapsed": false,
    "pycharm": {
     "name": "#%%\n"
    }
   }
  },
  {
   "cell_type": "code",
   "execution_count": 23,
   "outputs": [
    {
     "data": {
      "text/plain": "array([1., 1., 1., ..., 1., 1., 1.])"
     },
     "execution_count": 23,
     "metadata": {},
     "output_type": "execute_result"
    }
   ],
   "source": [
    "utils.fdr(X_Y[\"pval\"].values)"
   ],
   "metadata": {
    "collapsed": false,
    "pycharm": {
     "name": "#%%\n"
    }
   }
  },
  {
   "cell_type": "code",
   "execution_count": 28,
   "outputs": [],
   "source": [
    "X_Y_p_adust, X_Y_p_threshold = utils.bh(X_Y[\"pval\"].values, .1)\n",
    "within_X_p_adust, within_X_p_threshold = utils.bh(within_X[\"pval\"].values, .1)\n",
    "within_Y_p_adust, within_Y_p_threshold = utils.bh(within_Y[\"pval\"].values, .1)\n"
   ],
   "metadata": {
    "collapsed": false,
    "pycharm": {
     "name": "#%%\n"
    }
   }
  },
  {
   "cell_type": "code",
   "execution_count": 29,
   "outputs": [
    {
     "data": {
      "text/plain": "0.6549299181254638"
     },
     "execution_count": 29,
     "metadata": {},
     "output_type": "execute_result"
    }
   ],
   "source": [
    "X_Y_p_threshold\n"
   ],
   "metadata": {
    "collapsed": false,
    "pycharm": {
     "name": "#%%\n"
    }
   }
  },
  {
   "cell_type": "code",
   "execution_count": 30,
   "outputs": [
    {
     "data": {
      "text/plain": "array([0.65492992, 0.8461055 , 0.83548775, ..., 0.32078763, 0.16375308,\n       0.28571983])"
     },
     "execution_count": 30,
     "metadata": {},
     "output_type": "execute_result"
    }
   ],
   "source": [
    "X_Y[\"pval\"].values"
   ],
   "metadata": {
    "collapsed": false,
    "pycharm": {
     "name": "#%%\n"
    }
   }
  },
  {
   "cell_type": "code",
   "execution_count": 31,
   "outputs": [
    {
     "data": {
      "text/plain": "9.957213702277227e-16"
     },
     "execution_count": 31,
     "metadata": {},
     "output_type": "execute_result"
    }
   ],
   "source": [
    "within_X_p_threshold"
   ],
   "metadata": {
    "collapsed": false,
    "pycharm": {
     "name": "#%%\n"
    }
   }
  },
  {
   "cell_type": "code",
   "execution_count": 32,
   "outputs": [
    {
     "data": {
      "text/plain": "0.03441006979659323"
     },
     "execution_count": 32,
     "metadata": {},
     "output_type": "execute_result"
    }
   ],
   "source": [
    "within_Y_p_threshold"
   ],
   "metadata": {
    "collapsed": false,
    "pycharm": {
     "name": "#%%\n"
    }
   }
  },
  {
   "cell_type": "code",
   "execution_count": 33,
   "outputs": [
    {
     "data": {
      "text/plain": "array([1.31644205, 1.09443215, 1.10382845, ..., 2.1244214 , 3.28162487,\n       2.27302965])"
     },
     "execution_count": 33,
     "metadata": {},
     "output_type": "execute_result"
    }
   ],
   "source": [
    "X_Y_p_adust\n"
   ],
   "metadata": {
    "collapsed": false,
    "pycharm": {
     "name": "#%%\n"
    }
   }
  },
  {
   "cell_type": "code",
   "execution_count": 34,
   "outputs": [
    {
     "data": {
      "text/plain": "array([4.82399577e-19, 2.20724942e-19, 6.59609428e-22, ...,\n       5.33600704e-19, 2.48664757e-20, 5.33261910e-19])"
     },
     "execution_count": 34,
     "metadata": {},
     "output_type": "execute_result"
    }
   ],
   "source": [
    "within_X_p_adust"
   ],
   "metadata": {
    "collapsed": false,
    "pycharm": {
     "name": "#%%\n"
    }
   }
  },
  {
   "cell_type": "code",
   "execution_count": 35,
   "outputs": [
    {
     "data": {
      "text/plain": "array([1.54757459e-18, 1.34426515e-21, 1.33733717e-24, ...,\n       3.09836146e-22, 9.65139400e-22, 1.19229812e-22])"
     },
     "execution_count": 35,
     "metadata": {},
     "output_type": "execute_result"
    }
   ],
   "source": [
    "within_Y_p_adust"
   ],
   "metadata": {
    "collapsed": false,
    "pycharm": {
     "name": "#%%\n"
    }
   }
  },
  {
   "cell_type": "code",
   "execution_count": 36,
   "outputs": [
    {
     "name": "stderr",
     "output_type": "stream",
     "text": [
      "/var/folders/ry/39y8fffn25q2jpw0b96hq5fh0000gn/T/ipykernel_50114/3638538245.py:1: SettingWithCopyWarning: \n",
      "A value is trying to be set on a copy of a slice from a DataFrame.\n",
      "Try using .loc[row_indexer,col_indexer] = value instead\n",
      "\n",
      "See the caveats in the documentation: https://pandas.pydata.org/pandas-docs/stable/user_guide/indexing.html#returning-a-view-versus-a-copy\n",
      "  X_Y[\"P_adusted\"] = X_Y_p_adust\n"
     ]
    }
   ],
   "source": [
    "X_Y[\"P_adusted\"] = X_Y_p_adust\n",
    "within_X[\"P_adusted\"] = within_X_p_adust\n",
    "within_Y[\"P_adusted\"] = within_Y_p_adust"
   ],
   "metadata": {
    "collapsed": false,
    "pycharm": {
     "name": "#%%\n"
    }
   }
  },
  {
   "cell_type": "code",
   "execution_count": 37,
   "outputs": [
    {
     "data": {
      "text/plain": "      Feature_1 Feature_2          pval  Correlation  Not_NAs     P_adusted\n15051        Y0        Y1  2.876300e-19     0.903308       50  1.547575e-18\n15052        Y0        Y2  8.391473e-23     0.932060       50  1.344265e-21\n15053        Y0        Y3  1.296812e-26     0.953337       50  1.337337e-24\n15054        Y0        Y4  9.458936e-22     0.924577       50  1.054544e-20\n15055        Y0        Y5  1.211416e-18     0.897027       50  5.788136e-18\n...         ...       ...           ...          ...      ...           ...\n20092       Y96       Y98  1.445902e-23     0.937008       50  3.111833e-22\n20093       Y96       Y99  5.526886e-24     0.939555       50  1.455217e-22\n20095       Y97       Y98  1.445902e-23     0.937008       50  3.098361e-22\n20096       Y97       Y99  5.556863e-23     0.933255       50  9.651394e-22\n20098       Y98       Y99  4.070674e-24     0.940343       50  1.192298e-22\n\n[4950 rows x 6 columns]",
      "text/html": "<div>\n<style scoped>\n    .dataframe tbody tr th:only-of-type {\n        vertical-align: middle;\n    }\n\n    .dataframe tbody tr th {\n        vertical-align: top;\n    }\n\n    .dataframe thead th {\n        text-align: right;\n    }\n</style>\n<table border=\"1\" class=\"dataframe\">\n  <thead>\n    <tr style=\"text-align: right;\">\n      <th></th>\n      <th>Feature_1</th>\n      <th>Feature_2</th>\n      <th>pval</th>\n      <th>Correlation</th>\n      <th>Not_NAs</th>\n      <th>P_adusted</th>\n    </tr>\n  </thead>\n  <tbody>\n    <tr>\n      <th>15051</th>\n      <td>Y0</td>\n      <td>Y1</td>\n      <td>2.876300e-19</td>\n      <td>0.903308</td>\n      <td>50</td>\n      <td>1.547575e-18</td>\n    </tr>\n    <tr>\n      <th>15052</th>\n      <td>Y0</td>\n      <td>Y2</td>\n      <td>8.391473e-23</td>\n      <td>0.932060</td>\n      <td>50</td>\n      <td>1.344265e-21</td>\n    </tr>\n    <tr>\n      <th>15053</th>\n      <td>Y0</td>\n      <td>Y3</td>\n      <td>1.296812e-26</td>\n      <td>0.953337</td>\n      <td>50</td>\n      <td>1.337337e-24</td>\n    </tr>\n    <tr>\n      <th>15054</th>\n      <td>Y0</td>\n      <td>Y4</td>\n      <td>9.458936e-22</td>\n      <td>0.924577</td>\n      <td>50</td>\n      <td>1.054544e-20</td>\n    </tr>\n    <tr>\n      <th>15055</th>\n      <td>Y0</td>\n      <td>Y5</td>\n      <td>1.211416e-18</td>\n      <td>0.897027</td>\n      <td>50</td>\n      <td>5.788136e-18</td>\n    </tr>\n    <tr>\n      <th>...</th>\n      <td>...</td>\n      <td>...</td>\n      <td>...</td>\n      <td>...</td>\n      <td>...</td>\n      <td>...</td>\n    </tr>\n    <tr>\n      <th>20092</th>\n      <td>Y96</td>\n      <td>Y98</td>\n      <td>1.445902e-23</td>\n      <td>0.937008</td>\n      <td>50</td>\n      <td>3.111833e-22</td>\n    </tr>\n    <tr>\n      <th>20093</th>\n      <td>Y96</td>\n      <td>Y99</td>\n      <td>5.526886e-24</td>\n      <td>0.939555</td>\n      <td>50</td>\n      <td>1.455217e-22</td>\n    </tr>\n    <tr>\n      <th>20095</th>\n      <td>Y97</td>\n      <td>Y98</td>\n      <td>1.445902e-23</td>\n      <td>0.937008</td>\n      <td>50</td>\n      <td>3.098361e-22</td>\n    </tr>\n    <tr>\n      <th>20096</th>\n      <td>Y97</td>\n      <td>Y99</td>\n      <td>5.556863e-23</td>\n      <td>0.933255</td>\n      <td>50</td>\n      <td>9.651394e-22</td>\n    </tr>\n    <tr>\n      <th>20098</th>\n      <td>Y98</td>\n      <td>Y99</td>\n      <td>4.070674e-24</td>\n      <td>0.940343</td>\n      <td>50</td>\n      <td>1.192298e-22</td>\n    </tr>\n  </tbody>\n</table>\n<p>4950 rows × 6 columns</p>\n</div>"
     },
     "execution_count": 37,
     "metadata": {},
     "output_type": "execute_result"
    }
   ],
   "source": [
    "X_Y\n",
    "within_X\n",
    "within_Y"
   ],
   "metadata": {
    "collapsed": false,
    "pycharm": {
     "name": "#%%\n"
    }
   }
  },
  {
   "cell_type": "code",
   "execution_count": 38,
   "outputs": [
    {
     "name": "stderr",
     "output_type": "stream",
     "text": [
      "/var/folders/ry/39y8fffn25q2jpw0b96hq5fh0000gn/T/ipykernel_50114/2076899948.py:1: SettingWithCopyWarning: \n",
      "A value is trying to be set on a copy of a slice from a DataFrame.\n",
      "Try using .loc[row_indexer,col_indexer] = value instead\n",
      "\n",
      "See the caveats in the documentation: https://pandas.pydata.org/pandas-docs/stable/user_guide/indexing.html#returning-a-view-versus-a-copy\n",
      "  X_Y[\"bh_fdr_threshold\"] = X_Y_p_threshold\n"
     ]
    }
   ],
   "source": [
    "X_Y[\"bh_fdr_threshold\"] = X_Y_p_threshold\n",
    "within_X[\"bh_fdr_threshold\"] = within_X_p_threshold\n",
    "within_Y[\"bh_fdr_threshold\"] = within_Y_p_threshold\n",
    "\n"
   ],
   "metadata": {
    "collapsed": false,
    "pycharm": {
     "name": "#%%\n"
    }
   }
  },
  {
   "cell_type": "code",
   "execution_count": 39,
   "outputs": [],
   "source": [
    "X_Y = X_Y.sort_values(['pval', 'Correlation'],\n",
    "                     ascending = [True, False])\n",
    "within_X = within_X.sort_values(['pval', 'Correlation'],\n",
    "                      ascending = [True, False])\n",
    "within_Y = within_Y.sort_values(['pval', 'Correlation'],\n",
    "                                ascending = [True, False])"
   ],
   "metadata": {
    "collapsed": false,
    "pycharm": {
     "name": "#%%\n"
    }
   }
  },
  {
   "cell_type": "code",
   "execution_count": 40,
   "outputs": [
    {
     "data": {
      "text/plain": "      Feature_1 Feature_2      pval  Correlation  Not_NAs   P_adusted  \\\n365          X1       Y66  0.021416     0.327972       49  214.155016   \n374          X1       Y75  0.033062     0.305052       49  165.311602   \n5196        X27       Y74  0.036443     0.296654       50  121.477314   \n373          X1       Y74  0.040235     0.294122       49  100.588520   \n3021        X15       Y41  0.042550     0.287992       50   85.100808   \n...         ...       ...       ...          ...      ...         ...   \n12544       X77       Y47  0.999459    -0.000098       50    0.999859   \n4340        X22       Y93  0.999729     0.000049       50    1.000029   \n9277        X53        Y8  0.999729     0.000049       50    0.999929   \n13706       X87       Y34  0.999729     0.000049       50    0.999829   \n14116       X91        Y2  0.999729     0.000049       50    0.999729   \n\n       bh_fdr_threshold  \n365             0.65493  \n374             0.65493  \n5196            0.65493  \n373             0.65493  \n3021            0.65493  \n...                 ...  \n12544           0.65493  \n4340            0.65493  \n9277            0.65493  \n13706           0.65493  \n14116           0.65493  \n\n[10000 rows x 7 columns]",
      "text/html": "<div>\n<style scoped>\n    .dataframe tbody tr th:only-of-type {\n        vertical-align: middle;\n    }\n\n    .dataframe tbody tr th {\n        vertical-align: top;\n    }\n\n    .dataframe thead th {\n        text-align: right;\n    }\n</style>\n<table border=\"1\" class=\"dataframe\">\n  <thead>\n    <tr style=\"text-align: right;\">\n      <th></th>\n      <th>Feature_1</th>\n      <th>Feature_2</th>\n      <th>pval</th>\n      <th>Correlation</th>\n      <th>Not_NAs</th>\n      <th>P_adusted</th>\n      <th>bh_fdr_threshold</th>\n    </tr>\n  </thead>\n  <tbody>\n    <tr>\n      <th>365</th>\n      <td>X1</td>\n      <td>Y66</td>\n      <td>0.021416</td>\n      <td>0.327972</td>\n      <td>49</td>\n      <td>214.155016</td>\n      <td>0.65493</td>\n    </tr>\n    <tr>\n      <th>374</th>\n      <td>X1</td>\n      <td>Y75</td>\n      <td>0.033062</td>\n      <td>0.305052</td>\n      <td>49</td>\n      <td>165.311602</td>\n      <td>0.65493</td>\n    </tr>\n    <tr>\n      <th>5196</th>\n      <td>X27</td>\n      <td>Y74</td>\n      <td>0.036443</td>\n      <td>0.296654</td>\n      <td>50</td>\n      <td>121.477314</td>\n      <td>0.65493</td>\n    </tr>\n    <tr>\n      <th>373</th>\n      <td>X1</td>\n      <td>Y74</td>\n      <td>0.040235</td>\n      <td>0.294122</td>\n      <td>49</td>\n      <td>100.588520</td>\n      <td>0.65493</td>\n    </tr>\n    <tr>\n      <th>3021</th>\n      <td>X15</td>\n      <td>Y41</td>\n      <td>0.042550</td>\n      <td>0.287992</td>\n      <td>50</td>\n      <td>85.100808</td>\n      <td>0.65493</td>\n    </tr>\n    <tr>\n      <th>...</th>\n      <td>...</td>\n      <td>...</td>\n      <td>...</td>\n      <td>...</td>\n      <td>...</td>\n      <td>...</td>\n      <td>...</td>\n    </tr>\n    <tr>\n      <th>12544</th>\n      <td>X77</td>\n      <td>Y47</td>\n      <td>0.999459</td>\n      <td>-0.000098</td>\n      <td>50</td>\n      <td>0.999859</td>\n      <td>0.65493</td>\n    </tr>\n    <tr>\n      <th>4340</th>\n      <td>X22</td>\n      <td>Y93</td>\n      <td>0.999729</td>\n      <td>0.000049</td>\n      <td>50</td>\n      <td>1.000029</td>\n      <td>0.65493</td>\n    </tr>\n    <tr>\n      <th>9277</th>\n      <td>X53</td>\n      <td>Y8</td>\n      <td>0.999729</td>\n      <td>0.000049</td>\n      <td>50</td>\n      <td>0.999929</td>\n      <td>0.65493</td>\n    </tr>\n    <tr>\n      <th>13706</th>\n      <td>X87</td>\n      <td>Y34</td>\n      <td>0.999729</td>\n      <td>0.000049</td>\n      <td>50</td>\n      <td>0.999829</td>\n      <td>0.65493</td>\n    </tr>\n    <tr>\n      <th>14116</th>\n      <td>X91</td>\n      <td>Y2</td>\n      <td>0.999729</td>\n      <td>0.000049</td>\n      <td>50</td>\n      <td>0.999729</td>\n      <td>0.65493</td>\n    </tr>\n  </tbody>\n</table>\n<p>10000 rows × 7 columns</p>\n</div>"
     },
     "execution_count": 40,
     "metadata": {},
     "output_type": "execute_result"
    }
   ],
   "source": [
    "X_Y"
   ],
   "metadata": {
    "collapsed": false,
    "pycharm": {
     "name": "#%%\n"
    }
   }
  },
  {
   "cell_type": "code",
   "execution_count": 41,
   "outputs": [],
   "source": [
    "outputpath = \"/Users/rah/Documents/omicsEye/btest/demo/btest_output\"\n",
    "os.makedirs(outputpath, exist_ok=True)\n",
    "X_Y.to_csv(outputpath + '/X_Y.tsv', sep=\"\\t\")\n",
    "#rho_X = rho.iloc[0:500, 0:500]\n",
    "#rho_X.to_csv(outputpath + '/simtable_X.tsv', sep=\"\\t\")\n",
    "rho_X_Y.to_csv(outputpath + '/simtable.tsv', sep=\"\\t\")\n",
    "within_X.to_csv(outputpath + '/within_X.tsv', sep=\"\\t\")\n",
    "within_Y.to_csv(outputpath + '/within_Y.tsv', sep=\"\\t\")"
   ],
   "metadata": {
    "collapsed": false,
    "pycharm": {
     "name": "#%%\n"
    }
   }
  },
  {
   "cell_type": "code",
   "execution_count": 42,
   "outputs": [],
   "source": [
    "associations = blockplot.load_associations(path = outputpath + '/X_Y.tsv')"
   ],
   "metadata": {
    "collapsed": false,
    "pycharm": {
     "name": "#%%\n"
    }
   }
  },
  {
   "cell_type": "code",
   "execution_count": 43,
   "outputs": [
    {
     "data": {
      "text/plain": "'/Users/rah/Documents/omicsEye/btest/demo/btest_output'"
     },
     "execution_count": 43,
     "metadata": {},
     "output_type": "execute_result"
    }
   ],
   "source": [
    "outputpath"
   ],
   "metadata": {
    "collapsed": false,
    "pycharm": {
     "name": "#%%\n"
    }
   }
  },
  {
   "cell_type": "code",
   "execution_count": 44,
   "outputs": [
    {
     "data": {
      "text/plain": "[['365',\n  ['X1'],\n  ['Y66'],\n  '0.02141550157442774',\n  '0.3279721814547849',\n  '214.15501574427742'],\n ['374',\n  ['X1'],\n  ['Y75'],\n  '0.033062320494592866',\n  '0.30505150865449987',\n  '165.31160247296432'],\n ['5196',\n  ['X27'],\n  ['Y74'],\n  '0.036443194179371946',\n  '0.29665354330708665',\n  '121.47731393123983'],\n ['373',\n  ['X1'],\n  ['Y74'],\n  '0.04023540815912691',\n  '0.294122261151493',\n  '100.58852039781728'],\n ['3021',\n  ['X15'],\n  ['Y41'],\n  '0.042550403987361936',\n  '0.28799212598425195',\n  '85.10080797472388'],\n ['3042',\n  ['X15'],\n  ['Y62'],\n  '0.042550403987361936',\n  '0.28799212598425195',\n  '70.91733997893657'],\n ['3046',\n  ['X15'],\n  ['Y66'],\n  '0.04377287255220005',\n  '0.28638245624131736',\n  '62.53267507457149'],\n ['5197',\n  ['X27'],\n  ['Y75'],\n  '0.045591011480972846',\n  '0.2840551181102362',\n  '56.988764351216055'],\n ['361',\n  ['X1'],\n  ['Y62'],\n  '0.0503542686720587',\n  '0.2811535846885949',\n  '45.77660788368973'],\n ['5188',\n  ['X27'],\n  ['Y66'],\n  '0.048837969047051434',\n  '0.2800807621724007',\n  '54.26441005227937'],\n ['4135',\n  ['X21'],\n  ['Y66'],\n  '0.04983872907905812',\n  '0.2788991945344788',\n  '49.83872907905812'],\n ['340',\n  ['X1'],\n  ['Y41'],\n  '0.05248676172878938',\n  '0.27869581132667476',\n  '37.49054409199242'],\n ['3054',\n  ['X15'],\n  ['Y74'],\n  '0.0508228544586897',\n  '0.277755905511811',\n  '42.35237871557475'],\n ['5163',\n  ['X27'],\n  ['Y41'],\n  '0.0508228544586897',\n  '0.277755905511811',\n  '39.0945034297613'],\n ['4837',\n  ['X25'],\n  ['Y62'],\n  '0.05533869783262412',\n  '0.2755320817863306',\n  '36.89246522174941'],\n ['6700',\n  ['X36'],\n  ['Y66'],\n  '0.05633742208480043',\n  '0.2716620927522072',\n  '35.210888803000266'],\n ['3055',\n  ['X15'],\n  ['Y75'],\n  '0.05653137997008717',\n  '0.2714566929133858',\n  '33.25375292358069'],\n ['3238',\n  ['X16'],\n  ['Y74'],\n  '0.05653137997008717',\n  '0.2714566929133858',\n  '31.406322205603985'],\n ['13071',\n  ['X81'],\n  ['Y92'],\n  '0.05860902732599511',\n  '0.2692913385826771',\n  '30.846856487365848'],\n ['13651',\n  ['X86'],\n  ['Y92'],\n  '0.05860902732599511',\n  '0.2692913385826771',\n  '29.304513662997557'],\n ['14206',\n  ['X91'],\n  ['Y92'],\n  '0.05860902732599511',\n  '0.2692913385826771',\n  '27.909060631426243'],\n ['6708',\n  ['X36'],\n  ['Y74'],\n  '0.05870490528504488',\n  '0.26919291338582674',\n  '26.684047856838582'],\n ['1534',\n  ['X7'],\n  ['Y62'],\n  '0.05880090931111398',\n  '0.26909448818897636',\n  '25.5656127439626'],\n ['4309',\n  ['X22'],\n  ['Y62'],\n  '0.05880090931111398',\n  '0.26909448818897636',\n  '24.500378879630826'],\n ['1538',\n  ['X7'],\n  ['Y66'],\n  '0.06000464138095432',\n  '0.26787122991387446',\n  '24.001856552381728'],\n ['3776',\n  ['X19'],\n  ['Y66'],\n  '0.06000464138095432',\n  '0.26787122991387446',\n  '23.078708223443968'],\n ['5015',\n  ['X26'],\n  ['Y66'],\n  '0.06000464138095432',\n  '0.26787122991387446',\n  '22.223941252205304'],\n ['5360',\n  ['X28'],\n  ['Y66'],\n  '0.06000464138095432',\n  '0.26787122991387446',\n  '21.43022906462654'],\n ['4110',\n  ['X21'],\n  ['Y41'],\n  '0.06035421058070553',\n  '0.26751968503937007',\n  '20.811796751967425'],\n ['13985',\n  ['X89'],\n  ['Y90'],\n  '0.06208748783534324',\n  '0.26580035955239295',\n  '20.69582927844775'],\n ['3057',\n  ['X15'],\n  ['Y77'],\n  '0.062745736947937',\n  '0.2651574803149606',\n  '20.240560305786133'],\n ['3772',\n  ['X19'],\n  ['Y62'],\n  '0.062745736947937',\n  '0.2651574803149606',\n  '19.608042796230315'],\n ['5023',\n  ['X26'],\n  ['Y74'],\n  '0.062745736947937',\n  '0.2651574803149606',\n  '19.013859681193033'],\n ['5184',\n  ['X27'],\n  ['Y62'],\n  '0.062745736947937',\n  '0.2651574803149606',\n  '18.45462851409912'],\n ['367',\n  ['X1'],\n  ['Y68'],\n  '0.06586001021671602',\n  '0.26489044605971873',\n  '14.63555782593689'],\n ['2296',\n  ['X11'],\n  ['Y62'],\n  '0.06438181108176685',\n  '0.2635826771653543',\n  '18.394803166219102'],\n ['13422',\n  ['X84'],\n  ['Y92'],\n  '0.06500405859153362',\n  '0.2629921259842519',\n  '18.05668294209267'],\n ['13537',\n  ['X85'],\n  ['Y92'],\n  '0.06500405859153362',\n  '0.2629921259842519',\n  '17.568664484198273'],\n ['13987',\n  ['X89'],\n  ['Y92'],\n  '0.06500405859153362',\n  '0.2629921259842519',\n  '17.106331208298318'],\n ['14212',\n  ['X91'],\n  ['Y98'],\n  '0.06500405859153362',\n  '0.2629921259842519',\n  '16.667707331162465'],\n ['14527',\n  ['X94'],\n  ['Y92'],\n  '0.06500405859153362',\n  '0.2629921259842519',\n  '16.2510146478834'],\n ['14533',\n  ['X94'],\n  ['Y98'],\n  '0.06500405859153362',\n  '0.2629921259842519',\n  '15.854648436959417'],\n ['14632',\n  ['X95'],\n  ['Y92'],\n  '0.06500405859153362',\n  '0.2629921259842519',\n  '15.477156807508003'],\n ['3205',\n  ['X16'],\n  ['Y41'],\n  '0.06521253859802476',\n  '0.26279527559055116',\n  '15.16570665070343'],\n ['12796',\n  ['X79'],\n  ['Y56'],\n  '0.06557604651719223',\n  '0.26245324391358504',\n  '14.903646935725506'],\n ['5182',\n  ['X27'],\n  ['Y60'],\n  '0.06657825547320405',\n  '0.2615180204262711',\n  '14.473533798522618'],\n ['357',\n  ['X1'],\n  ['Y58'],\n  '0.06950899135870736',\n  '0.2615175443183601',\n  '12.412319885483457'],\n ['5180',\n  ['X27'],\n  ['Y58'],\n  '0.06689966403305957',\n  '0.2612204724409449',\n  '14.233971070863738'],\n ['5199',\n  ['X27'],\n  ['Y77'],\n  '0.06689966403305957',\n  '0.2612204724409449',\n  '13.93743000688741'],\n ['10213',\n  ['X59'],\n  ['Y83'],\n  '0.0673268356401875',\n  '-0.2608267716535433',\n  '13.740170538813777'],\n ['13535',\n  ['X85'],\n  ['Y90'],\n  '0.06834793120353967',\n  '0.2598936848956731',\n  '13.669586240707934'],\n ['13420',\n  ['X84'],\n  ['Y90'],\n  '0.06878253250644986',\n  '0.25949990658522515',\n  '13.486771079696052'],\n ['14204',\n  ['X91'],\n  ['Y90'],\n  '0.06921932969228575',\n  '0.25910612827477714',\n  '13.311409556208798'],\n ['4641',\n  ['X24'],\n  ['Y41'],\n  '0.06949539748413289',\n  '0.2588582677165354',\n  '13.112339147949601'],\n ['4662',\n  ['X24'],\n  ['Y62'],\n  '0.06949539748413289',\n  '0.2588582677165354',\n  '12.869518052617202'],\n ['5193',\n  ['X27'],\n  ['Y71'],\n  '0.06949539748413289',\n  '0.2588582677165354',\n  '12.635526815296888'],\n ['12793',\n  ['X79'],\n  ['Y53'],\n  '0.07065417353598132',\n  '0.25782634876582117',\n  '12.395469041400231'],\n ['12807',\n  ['X79'],\n  ['Y67'],\n  '0.07110038415471931',\n  '0.25743257045537316',\n  '12.258686923227469'],\n ['3591',\n  ['X18'],\n  ['Y62'],\n  '0.07126992647827432',\n  '0.25728346456692913',\n  '12.079648555639714'],\n ['13077',\n  ['X81'],\n  ['Y98'],\n  '0.07194457274671139',\n  '0.2566929133858268',\n  '11.990762124451898'],\n ['13306',\n  ['X83'],\n  ['Y92'],\n  '0.07194457274671139',\n  '0.2566929133858268',\n  '11.794192253559244'],\n ['14097',\n  ['X90'],\n  ['Y92'],\n  '0.07194457274671139',\n  '0.2566929133858268',\n  '11.603963346243772'],\n ['6696',\n  ['X36'],\n  ['Y62'],\n  '0.07205750459830805',\n  '0.25659448818897634',\n  '11.43769914258858'],\n ['3230',\n  ['X16'],\n  ['Y66'],\n  '0.07313476978037256',\n  '0.25566169765534835',\n  '11.427307778183213'],\n ['5164',\n  ['X27'],\n  ['Y42'],\n  '0.07336509184931006',\n  '0.2554636789031332',\n  '11.286937207586163'],\n ['4144',\n  ['X21'],\n  ['Y75'],\n  '0.07399893997478706',\n  '0.2549212598425197',\n  '11.211960602240463'],\n ['2671',\n  ['X13'],\n  ['Y62'],\n  '0.07820348682450125',\n  '0.25401349160696546',\n  '10.026088054423237'],\n ['14525',\n  ['X94'],\n  ['Y90'],\n  '0.07510081903237778',\n  '0.25398701023895326',\n  '11.209077467519073'],\n ['563',\n  ['X2'],\n  ['Y66'],\n  '0.07545094591607177',\n  '0.25369241825881184',\n  '11.09572734059879'],\n ['12709',\n  ['X78'],\n  ['Y90'],\n  '0.07556912019474944',\n  '0.2535932319285053',\n  '10.952046405036151'],\n ['14095',\n  ['X90'],\n  ['Y90'],\n  '0.07603972601519168',\n  '0.2531994536180573',\n  '10.86281800217024'],\n ['14312',\n  ['X92'],\n  ['Y90'],\n  '0.07603972601519168',\n  '0.2531994536180573',\n  '10.709820565519955'],\n ['5189',\n  ['X27'],\n  ['Y67'],\n  '0.0767499718222892',\n  '0.2526087861523853',\n  '10.659718308651277'],\n ['571',\n  ['X2'],\n  ['Y74'],\n  '0.07681000890461309',\n  '0.2525590551181102',\n  '10.521919028029192'],\n ['3048',\n  ['X15'],\n  ['Y68'],\n  '0.07681000890461309',\n  '0.2525590551181102',\n  '10.379730933055823'],\n ['3421',\n  ['X17'],\n  ['Y74'],\n  '0.07681000890461309',\n  '0.2525590551181102',\n  '10.24133452061508'],\n ['4143',\n  ['X21'],\n  ['Y74'],\n  '0.07681000890461309',\n  '0.2525590551181102',\n  '10.106580119028038'],\n ['3020',\n  ['X15'],\n  ['Y40'],\n  '0.07740562096366194',\n  '0.25206734097551936',\n  '10.052678047228822'],\n ['359',\n  ['X1'],\n  ['Y60'],\n  '0.0825125962580557',\n  '0.25053612138879194',\n  '9.707364265653611'],\n ['14210',\n  ['X91'],\n  ['Y96'],\n  '0.07946024104606851',\n  '0.2503937007874016',\n  '10.058258360261837'],\n ['4990',\n  ['X26'],\n  ['Y41'],\n  '0.07970469694232273',\n  '0.25019685039370076',\n  '9.96308711779034'],\n ['5011',\n  ['X26'],\n  ['Y62'],\n  '0.07970469694232273',\n  '0.25019685039370076',\n  '9.840086042262064'],\n ['4313',\n  ['X22'],\n  ['Y66'],\n  '0.0807505368644499',\n  '0.2493600035864316',\n  '9.847626446884133'],\n ['3388',\n  ['X17'],\n  ['Y41'],\n  '0.08168171487544854',\n  '0.24862204724409445',\n  '9.841170466921511'],\n ['6205',\n  ['X33'],\n  ['Y66'],\n  '0.08224552486287864',\n  '0.2481784359485097',\n  '9.791133912247457'],\n ['12789',\n  ['X79'],\n  ['Y49'],\n  '0.08268456472147612',\n  '0.24783464566929134',\n  '9.614484269939084'],\n ['3413',\n  ['X17'],\n  ['Y66'],\n  '0.0832541962945141',\n  '0.2473907241898951',\n  '9.569447849944149'],\n ['3047',\n  ['X15'],\n  ['Y67'],\n  '0.08331690363646338',\n  '0.24734200125014344',\n  '9.467829958689022'],\n ['372',\n  ['X1'],\n  ['Y73'],\n  '0.08669685289967007',\n  '0.24729327388856123',\n  '9.030922177048966'],\n ['1726',\n  ['X8'],\n  ['Y62'],\n  '0.08356996203511732',\n  '0.24714566929133855',\n  '9.389883374732284'],\n ['13979',\n  ['X89'],\n  ['Y84'],\n  '0.08388875478706083',\n  '0.24689900065088946',\n  '9.32097275411787'],\n ['3751',\n  ['X19'],\n  ['Y41'],\n  '0.08471923406884507',\n  '0.246259842519685',\n  '9.309805941631327'],\n ['4321',\n  ['X22'],\n  ['Y74'],\n  '0.08471923406884507',\n  '0.246259842519685',\n  '9.208612398787508'],\n ['13069',\n  ['X81'],\n  ['Y90'],\n  '0.08542873840755222',\n  '0.24571766571954548',\n  '9.185885850274431'],\n ['13073',\n  ['X81'],\n  ['Y94'],\n  '0.08646762679827115',\n  '0.2449301090986495',\n  '9.19868370194374'],\n ['12809',\n  ['X79'],\n  ['Y69'],\n  '0.0865981794620969',\n  '0.24483166452103752',\n  '9.115597838115464'],\n ['344',\n  ['X1'],\n  ['Y45'],\n  '0.09015353349264983',\n  '0.24470532866182088',\n  '7.640129957004223'],\n ['3409',\n  ['X17'],\n  ['Y62'],\n  '0.08679291263700464',\n  '0.24468503937007874',\n  '8.94772295226852'],\n ['4131',\n  ['X21'],\n  ['Y62'],\n  '0.08679291263700464',\n  '0.24468503937007874',\n  '8.85641965683721'],\n ['4666',\n  ['X24'],\n  ['Y66'],\n  '0.08686113347769195',\n  '0.24463373303474406',\n  '8.77385186643353']]"
     },
     "execution_count": 44,
     "metadata": {},
     "output_type": "execute_result"
    }
   ],
   "source": [
    "associations"
   ],
   "metadata": {
    "collapsed": false,
    "pycharm": {
     "name": "#%%\n"
    }
   }
  },
  {
   "cell_type": "code",
   "execution_count": 45,
   "outputs": [],
   "source": [
    "simtable = blockplot.load_order_table(outputpath + '/simtable.tsv', associations)"
   ],
   "metadata": {
    "collapsed": false,
    "pycharm": {
     "name": "#%%\n"
    }
   }
  },
  {
   "cell_type": "code",
   "execution_count": 46,
   "outputs": [
    {
     "data": {
      "text/plain": "      Feature_1 Feature_2      pval  Correlation  Not_NAs   P_adusted  \\\n365          X1       Y66  0.021416     0.327972       49  214.155016   \n374          X1       Y75  0.033062     0.305052       49  165.311602   \n5196        X27       Y74  0.036443     0.296654       50  121.477314   \n373          X1       Y74  0.040235     0.294122       49  100.588520   \n3021        X15       Y41  0.042550     0.287992       50   85.100808   \n...         ...       ...       ...          ...      ...         ...   \n12544       X77       Y47  0.999459    -0.000098       50    0.999859   \n4340        X22       Y93  0.999729     0.000049       50    1.000029   \n9277        X53        Y8  0.999729     0.000049       50    0.999929   \n13706       X87       Y34  0.999729     0.000049       50    0.999829   \n14116       X91        Y2  0.999729     0.000049       50    0.999729   \n\n       bh_fdr_threshold  \n365             0.65493  \n374             0.65493  \n5196            0.65493  \n373             0.65493  \n3021            0.65493  \n...                 ...  \n12544           0.65493  \n4340            0.65493  \n9277            0.65493  \n13706           0.65493  \n14116           0.65493  \n\n[10000 rows x 7 columns]",
      "text/html": "<div>\n<style scoped>\n    .dataframe tbody tr th:only-of-type {\n        vertical-align: middle;\n    }\n\n    .dataframe tbody tr th {\n        vertical-align: top;\n    }\n\n    .dataframe thead th {\n        text-align: right;\n    }\n</style>\n<table border=\"1\" class=\"dataframe\">\n  <thead>\n    <tr style=\"text-align: right;\">\n      <th></th>\n      <th>Feature_1</th>\n      <th>Feature_2</th>\n      <th>pval</th>\n      <th>Correlation</th>\n      <th>Not_NAs</th>\n      <th>P_adusted</th>\n      <th>bh_fdr_threshold</th>\n    </tr>\n  </thead>\n  <tbody>\n    <tr>\n      <th>365</th>\n      <td>X1</td>\n      <td>Y66</td>\n      <td>0.021416</td>\n      <td>0.327972</td>\n      <td>49</td>\n      <td>214.155016</td>\n      <td>0.65493</td>\n    </tr>\n    <tr>\n      <th>374</th>\n      <td>X1</td>\n      <td>Y75</td>\n      <td>0.033062</td>\n      <td>0.305052</td>\n      <td>49</td>\n      <td>165.311602</td>\n      <td>0.65493</td>\n    </tr>\n    <tr>\n      <th>5196</th>\n      <td>X27</td>\n      <td>Y74</td>\n      <td>0.036443</td>\n      <td>0.296654</td>\n      <td>50</td>\n      <td>121.477314</td>\n      <td>0.65493</td>\n    </tr>\n    <tr>\n      <th>373</th>\n      <td>X1</td>\n      <td>Y74</td>\n      <td>0.040235</td>\n      <td>0.294122</td>\n      <td>49</td>\n      <td>100.588520</td>\n      <td>0.65493</td>\n    </tr>\n    <tr>\n      <th>3021</th>\n      <td>X15</td>\n      <td>Y41</td>\n      <td>0.042550</td>\n      <td>0.287992</td>\n      <td>50</td>\n      <td>85.100808</td>\n      <td>0.65493</td>\n    </tr>\n    <tr>\n      <th>...</th>\n      <td>...</td>\n      <td>...</td>\n      <td>...</td>\n      <td>...</td>\n      <td>...</td>\n      <td>...</td>\n      <td>...</td>\n    </tr>\n    <tr>\n      <th>12544</th>\n      <td>X77</td>\n      <td>Y47</td>\n      <td>0.999459</td>\n      <td>-0.000098</td>\n      <td>50</td>\n      <td>0.999859</td>\n      <td>0.65493</td>\n    </tr>\n    <tr>\n      <th>4340</th>\n      <td>X22</td>\n      <td>Y93</td>\n      <td>0.999729</td>\n      <td>0.000049</td>\n      <td>50</td>\n      <td>1.000029</td>\n      <td>0.65493</td>\n    </tr>\n    <tr>\n      <th>9277</th>\n      <td>X53</td>\n      <td>Y8</td>\n      <td>0.999729</td>\n      <td>0.000049</td>\n      <td>50</td>\n      <td>0.999929</td>\n      <td>0.65493</td>\n    </tr>\n    <tr>\n      <th>13706</th>\n      <td>X87</td>\n      <td>Y34</td>\n      <td>0.999729</td>\n      <td>0.000049</td>\n      <td>50</td>\n      <td>0.999829</td>\n      <td>0.65493</td>\n    </tr>\n    <tr>\n      <th>14116</th>\n      <td>X91</td>\n      <td>Y2</td>\n      <td>0.999729</td>\n      <td>0.000049</td>\n      <td>50</td>\n      <td>0.999729</td>\n      <td>0.65493</td>\n    </tr>\n  </tbody>\n</table>\n<p>10000 rows × 7 columns</p>\n</div>"
     },
     "execution_count": 46,
     "metadata": {},
     "output_type": "execute_result"
    }
   ],
   "source": [
    "X_Y"
   ],
   "metadata": {
    "collapsed": false,
    "pycharm": {
     "name": "#%%\n"
    }
   }
  },
  {
   "cell_type": "code",
   "execution_count": 47,
   "outputs": [],
   "source": [
    "blockplot.plot(\n",
    "    simtable,\n",
    "    associations,\n",
    "    cmap=\"RdBu_r\",\n",
    "    mask=False,\n",
    "    axlabels=[\"\",\"\"],\n",
    "    outfile=\"/Users/rah/Documents/omicsEye/btest/demo/btest_output/blockplot.pdf\",\n",
    "    similarity=\"Spearman\"\n",
    ")"
   ],
   "metadata": {
    "collapsed": false,
    "pycharm": {
     "name": "#%%\n"
    }
   }
  },
  {
   "cell_type": "code",
   "execution_count": null,
   "outputs": [],
   "source": [],
   "metadata": {
    "collapsed": false,
    "pycharm": {
     "name": "#%%\n"
    }
   }
  }
 ],
 "metadata": {
  "accelerator": "TPU",
  "colab": {
   "collapsed_sections": [
    "yfILUg1HmAkM"
   ],
   "machine_shape": "hm",
   "name": "15-Ensemble-Evaluation.ipynb",
   "provenance": []
  },
  "kernelspec": {
   "display_name": "Python 3",
   "language": "python",
   "name": "python3"
  },
  "language_info": {
   "codemirror_mode": {
    "name": "ipython",
    "version": 3
   },
   "file_extension": ".py",
   "mimetype": "text/x-python",
   "name": "python",
   "nbconvert_exporter": "python",
   "pygments_lexer": "ipython3",
   "version": "3.7.6"
  }
 },
 "nbformat": 4,
 "nbformat_minor": 1
}