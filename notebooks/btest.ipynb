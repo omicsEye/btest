{
 "cells": [
  {
   "cell_type": "markdown",
   "metadata": {
    "colab_type": "text",
    "id": "AmPqBsydh5J-",
    "pycharm": {
     "name": "#%% md\n"
    }
   },
   "source": [
    "# *btest* initial steps\n",
    "\n",
    "step-by-step"
   ]
  },
  {
   "cell_type": "code",
   "execution_count": 1,
   "outputs": [],
   "source": [
    "import argparse\n",
    "import csv\n",
    "import itertools\n",
    "import logging\n",
    "import os\n",
    "import sys\n",
    "import shutil\n",
    "import time\n",
    "import math\n",
    "import random\n",
    "from scipy.stats import pearsonr\n",
    "import numpy as np\n",
    "import pandas as pd\n",
    "import math\n",
    "from scipy.stats import spearmanr\n"
   ],
   "metadata": {
    "collapsed": false,
    "pycharm": {
     "name": "#%%\n"
    }
   }
  },
  {
   "cell_type": "code",
   "execution_count": 2,
   "outputs": [],
   "source": [
    "dataX = pd.read_table('~/Documents/omicsEye/btest/demo/X_dataset.txt', index_col=0, header=0)"
   ],
   "metadata": {
    "collapsed": false,
    "pycharm": {
     "name": "#%%\n"
    }
   }
  },
  {
   "cell_type": "code",
   "execution_count": 3,
   "outputs": [
    {
     "data": {
      "text/plain": "      S0   S1  S2  S3  S4  S5  S6  S7  S8  S9  ...  S40  S41  S42  S43  S44  \\\nX0   5.0  6.0   5   3   3   5   2   2   7   1  ...    2    5    7    2    5   \nX1   5.0  NaN   4   3   3   5   2   2   6   2  ...    4    5    6    3    5   \nX2   5.0  5.0   5   3   3   5   2   2   6   1  ...    4    6    7    2    5   \nX3   5.0  6.0   4   3   4   5   2   1   6   2  ...    3    5    6    2    5   \nX4   5.0  NaN   5   3   4   5   3   1   6   2  ...    3    5    7    2    5   \n..   ...  ...  ..  ..  ..  ..  ..  ..  ..  ..  ...  ...  ...  ...  ...  ...   \nX95  5.0  3.0   4   6   5   5   4   1   1   6  ...    7    2    3    3    4   \nX96  5.0  4.0   4   6   5   3   3   1   1   6  ...    7    2    3    2    4   \nX97  6.0  4.0   3   5   5   4   5   1   1   6  ...    7    3    3    3    3   \nX98  6.0  4.0   3   6   5   4   4   1   1   6  ...    7    2    3    2    3   \nX99  6.0  3.0   4   5   5   5   3   1   1   6  ...    7    2    3    3    4   \n\n     S45  S46  S47  S48  S49  \nX0     3    1    1    4    3  \nX1     2    1    1    4    3  \nX2     3    1    2    4    4  \nX3     4    1    1    4    3  \nX4     2    1    1    4    3  \n..   ...  ...  ...  ...  ...  \nX95    6    3    6    6    1  \nX96    6    4    5    6    1  \nX97    6    4    5    6    2  \nX98    5    3    5    6    1  \nX99    6    3    6    6    1  \n\n[100 rows x 50 columns]",
      "text/html": "<div>\n<style scoped>\n    .dataframe tbody tr th:only-of-type {\n        vertical-align: middle;\n    }\n\n    .dataframe tbody tr th {\n        vertical-align: top;\n    }\n\n    .dataframe thead th {\n        text-align: right;\n    }\n</style>\n<table border=\"1\" class=\"dataframe\">\n  <thead>\n    <tr style=\"text-align: right;\">\n      <th></th>\n      <th>S0</th>\n      <th>S1</th>\n      <th>S2</th>\n      <th>S3</th>\n      <th>S4</th>\n      <th>S5</th>\n      <th>S6</th>\n      <th>S7</th>\n      <th>S8</th>\n      <th>S9</th>\n      <th>...</th>\n      <th>S40</th>\n      <th>S41</th>\n      <th>S42</th>\n      <th>S43</th>\n      <th>S44</th>\n      <th>S45</th>\n      <th>S46</th>\n      <th>S47</th>\n      <th>S48</th>\n      <th>S49</th>\n    </tr>\n  </thead>\n  <tbody>\n    <tr>\n      <th>X0</th>\n      <td>5.0</td>\n      <td>6.0</td>\n      <td>5</td>\n      <td>3</td>\n      <td>3</td>\n      <td>5</td>\n      <td>2</td>\n      <td>2</td>\n      <td>7</td>\n      <td>1</td>\n      <td>...</td>\n      <td>2</td>\n      <td>5</td>\n      <td>7</td>\n      <td>2</td>\n      <td>5</td>\n      <td>3</td>\n      <td>1</td>\n      <td>1</td>\n      <td>4</td>\n      <td>3</td>\n    </tr>\n    <tr>\n      <th>X1</th>\n      <td>5.0</td>\n      <td>NaN</td>\n      <td>4</td>\n      <td>3</td>\n      <td>3</td>\n      <td>5</td>\n      <td>2</td>\n      <td>2</td>\n      <td>6</td>\n      <td>2</td>\n      <td>...</td>\n      <td>4</td>\n      <td>5</td>\n      <td>6</td>\n      <td>3</td>\n      <td>5</td>\n      <td>2</td>\n      <td>1</td>\n      <td>1</td>\n      <td>4</td>\n      <td>3</td>\n    </tr>\n    <tr>\n      <th>X2</th>\n      <td>5.0</td>\n      <td>5.0</td>\n      <td>5</td>\n      <td>3</td>\n      <td>3</td>\n      <td>5</td>\n      <td>2</td>\n      <td>2</td>\n      <td>6</td>\n      <td>1</td>\n      <td>...</td>\n      <td>4</td>\n      <td>6</td>\n      <td>7</td>\n      <td>2</td>\n      <td>5</td>\n      <td>3</td>\n      <td>1</td>\n      <td>2</td>\n      <td>4</td>\n      <td>4</td>\n    </tr>\n    <tr>\n      <th>X3</th>\n      <td>5.0</td>\n      <td>6.0</td>\n      <td>4</td>\n      <td>3</td>\n      <td>4</td>\n      <td>5</td>\n      <td>2</td>\n      <td>1</td>\n      <td>6</td>\n      <td>2</td>\n      <td>...</td>\n      <td>3</td>\n      <td>5</td>\n      <td>6</td>\n      <td>2</td>\n      <td>5</td>\n      <td>4</td>\n      <td>1</td>\n      <td>1</td>\n      <td>4</td>\n      <td>3</td>\n    </tr>\n    <tr>\n      <th>X4</th>\n      <td>5.0</td>\n      <td>NaN</td>\n      <td>5</td>\n      <td>3</td>\n      <td>4</td>\n      <td>5</td>\n      <td>3</td>\n      <td>1</td>\n      <td>6</td>\n      <td>2</td>\n      <td>...</td>\n      <td>3</td>\n      <td>5</td>\n      <td>7</td>\n      <td>2</td>\n      <td>5</td>\n      <td>2</td>\n      <td>1</td>\n      <td>1</td>\n      <td>4</td>\n      <td>3</td>\n    </tr>\n    <tr>\n      <th>...</th>\n      <td>...</td>\n      <td>...</td>\n      <td>...</td>\n      <td>...</td>\n      <td>...</td>\n      <td>...</td>\n      <td>...</td>\n      <td>...</td>\n      <td>...</td>\n      <td>...</td>\n      <td>...</td>\n      <td>...</td>\n      <td>...</td>\n      <td>...</td>\n      <td>...</td>\n      <td>...</td>\n      <td>...</td>\n      <td>...</td>\n      <td>...</td>\n      <td>...</td>\n      <td>...</td>\n    </tr>\n    <tr>\n      <th>X95</th>\n      <td>5.0</td>\n      <td>3.0</td>\n      <td>4</td>\n      <td>6</td>\n      <td>5</td>\n      <td>5</td>\n      <td>4</td>\n      <td>1</td>\n      <td>1</td>\n      <td>6</td>\n      <td>...</td>\n      <td>7</td>\n      <td>2</td>\n      <td>3</td>\n      <td>3</td>\n      <td>4</td>\n      <td>6</td>\n      <td>3</td>\n      <td>6</td>\n      <td>6</td>\n      <td>1</td>\n    </tr>\n    <tr>\n      <th>X96</th>\n      <td>5.0</td>\n      <td>4.0</td>\n      <td>4</td>\n      <td>6</td>\n      <td>5</td>\n      <td>3</td>\n      <td>3</td>\n      <td>1</td>\n      <td>1</td>\n      <td>6</td>\n      <td>...</td>\n      <td>7</td>\n      <td>2</td>\n      <td>3</td>\n      <td>2</td>\n      <td>4</td>\n      <td>6</td>\n      <td>4</td>\n      <td>5</td>\n      <td>6</td>\n      <td>1</td>\n    </tr>\n    <tr>\n      <th>X97</th>\n      <td>6.0</td>\n      <td>4.0</td>\n      <td>3</td>\n      <td>5</td>\n      <td>5</td>\n      <td>4</td>\n      <td>5</td>\n      <td>1</td>\n      <td>1</td>\n      <td>6</td>\n      <td>...</td>\n      <td>7</td>\n      <td>3</td>\n      <td>3</td>\n      <td>3</td>\n      <td>3</td>\n      <td>6</td>\n      <td>4</td>\n      <td>5</td>\n      <td>6</td>\n      <td>2</td>\n    </tr>\n    <tr>\n      <th>X98</th>\n      <td>6.0</td>\n      <td>4.0</td>\n      <td>3</td>\n      <td>6</td>\n      <td>5</td>\n      <td>4</td>\n      <td>4</td>\n      <td>1</td>\n      <td>1</td>\n      <td>6</td>\n      <td>...</td>\n      <td>7</td>\n      <td>2</td>\n      <td>3</td>\n      <td>2</td>\n      <td>3</td>\n      <td>5</td>\n      <td>3</td>\n      <td>5</td>\n      <td>6</td>\n      <td>1</td>\n    </tr>\n    <tr>\n      <th>X99</th>\n      <td>6.0</td>\n      <td>3.0</td>\n      <td>4</td>\n      <td>5</td>\n      <td>5</td>\n      <td>5</td>\n      <td>3</td>\n      <td>1</td>\n      <td>1</td>\n      <td>6</td>\n      <td>...</td>\n      <td>7</td>\n      <td>2</td>\n      <td>3</td>\n      <td>3</td>\n      <td>4</td>\n      <td>6</td>\n      <td>3</td>\n      <td>6</td>\n      <td>6</td>\n      <td>1</td>\n    </tr>\n  </tbody>\n</table>\n<p>100 rows × 50 columns</p>\n</div>"
     },
     "execution_count": 3,
     "metadata": {},
     "output_type": "execute_result"
    }
   ],
   "source": [
    "dataX"
   ],
   "metadata": {
    "collapsed": false,
    "pycharm": {
     "name": "#%%\n"
    }
   }
  },
  {
   "cell_type": "code",
   "execution_count": 4,
   "outputs": [],
   "source": [
    "dataY = pd.read_table('~/Documents/omicsEye/btest/demo/Y_dataset.txt', index_col=0, header=0)"
   ],
   "metadata": {
    "collapsed": false,
    "pycharm": {
     "name": "#%%\n"
    }
   }
  },
  {
   "cell_type": "code",
   "execution_count": 5,
   "outputs": [],
   "source": [
    "ind = dataY.columns.intersection(dataX.columns)"
   ],
   "metadata": {
    "collapsed": false,
    "pycharm": {
     "name": "#%%\n"
    }
   }
  },
  {
   "cell_type": "code",
   "execution_count": 6,
   "outputs": [
    {
     "data": {
      "text/plain": "Index(['S0', 'S1', 'S2', 'S3', 'S4', 'S5', 'S6', 'S7', 'S8', 'S9', 'S10',\n       'S11', 'S12', 'S13', 'S14', 'S15', 'S16', 'S17', 'S18', 'S19', 'S20',\n       'S21', 'S22', 'S23', 'S24', 'S25', 'S26', 'S27', 'S28', 'S29', 'S30',\n       'S31', 'S32', 'S33', 'S34', 'S35', 'S36', 'S37', 'S38', 'S39', 'S40',\n       'S41', 'S42', 'S43', 'S44', 'S45', 'S46', 'S47', 'S48', 'S49'],\n      dtype='object')"
     },
     "execution_count": 6,
     "metadata": {},
     "output_type": "execute_result"
    }
   ],
   "source": [
    "ind"
   ],
   "metadata": {
    "collapsed": false,
    "pycharm": {
     "name": "#%%\n"
    }
   }
  },
  {
   "cell_type": "code",
   "execution_count": 7,
   "outputs": [],
   "source": [
    "dataX = dataX.loc[:, ind]\n",
    "dataY = dataY.loc[:, ind]"
   ],
   "metadata": {
    "collapsed": false,
    "pycharm": {
     "name": "#%%\n"
    }
   }
  },
  {
   "cell_type": "code",
   "execution_count": 8,
   "outputs": [
    {
     "data": {
      "text/plain": "      S0   S1  S2  S3  S4  S5  S6  S7  S8  S9  ...  S40  S41  S42  S43  S44  \\\nX0   5.0  6.0   5   3   3   5   2   2   7   1  ...    2    5    7    2    5   \nX1   5.0  NaN   4   3   3   5   2   2   6   2  ...    4    5    6    3    5   \nX2   5.0  5.0   5   3   3   5   2   2   6   1  ...    4    6    7    2    5   \nX3   5.0  6.0   4   3   4   5   2   1   6   2  ...    3    5    6    2    5   \nX4   5.0  NaN   5   3   4   5   3   1   6   2  ...    3    5    7    2    5   \n..   ...  ...  ..  ..  ..  ..  ..  ..  ..  ..  ...  ...  ...  ...  ...  ...   \nX95  5.0  3.0   4   6   5   5   4   1   1   6  ...    7    2    3    3    4   \nX96  5.0  4.0   4   6   5   3   3   1   1   6  ...    7    2    3    2    4   \nX97  6.0  4.0   3   5   5   4   5   1   1   6  ...    7    3    3    3    3   \nX98  6.0  4.0   3   6   5   4   4   1   1   6  ...    7    2    3    2    3   \nX99  6.0  3.0   4   5   5   5   3   1   1   6  ...    7    2    3    3    4   \n\n     S45  S46  S47  S48  S49  \nX0     3    1    1    4    3  \nX1     2    1    1    4    3  \nX2     3    1    2    4    4  \nX3     4    1    1    4    3  \nX4     2    1    1    4    3  \n..   ...  ...  ...  ...  ...  \nX95    6    3    6    6    1  \nX96    6    4    5    6    1  \nX97    6    4    5    6    2  \nX98    5    3    5    6    1  \nX99    6    3    6    6    1  \n\n[100 rows x 50 columns]",
      "text/html": "<div>\n<style scoped>\n    .dataframe tbody tr th:only-of-type {\n        vertical-align: middle;\n    }\n\n    .dataframe tbody tr th {\n        vertical-align: top;\n    }\n\n    .dataframe thead th {\n        text-align: right;\n    }\n</style>\n<table border=\"1\" class=\"dataframe\">\n  <thead>\n    <tr style=\"text-align: right;\">\n      <th></th>\n      <th>S0</th>\n      <th>S1</th>\n      <th>S2</th>\n      <th>S3</th>\n      <th>S4</th>\n      <th>S5</th>\n      <th>S6</th>\n      <th>S7</th>\n      <th>S8</th>\n      <th>S9</th>\n      <th>...</th>\n      <th>S40</th>\n      <th>S41</th>\n      <th>S42</th>\n      <th>S43</th>\n      <th>S44</th>\n      <th>S45</th>\n      <th>S46</th>\n      <th>S47</th>\n      <th>S48</th>\n      <th>S49</th>\n    </tr>\n  </thead>\n  <tbody>\n    <tr>\n      <th>X0</th>\n      <td>5.0</td>\n      <td>6.0</td>\n      <td>5</td>\n      <td>3</td>\n      <td>3</td>\n      <td>5</td>\n      <td>2</td>\n      <td>2</td>\n      <td>7</td>\n      <td>1</td>\n      <td>...</td>\n      <td>2</td>\n      <td>5</td>\n      <td>7</td>\n      <td>2</td>\n      <td>5</td>\n      <td>3</td>\n      <td>1</td>\n      <td>1</td>\n      <td>4</td>\n      <td>3</td>\n    </tr>\n    <tr>\n      <th>X1</th>\n      <td>5.0</td>\n      <td>NaN</td>\n      <td>4</td>\n      <td>3</td>\n      <td>3</td>\n      <td>5</td>\n      <td>2</td>\n      <td>2</td>\n      <td>6</td>\n      <td>2</td>\n      <td>...</td>\n      <td>4</td>\n      <td>5</td>\n      <td>6</td>\n      <td>3</td>\n      <td>5</td>\n      <td>2</td>\n      <td>1</td>\n      <td>1</td>\n      <td>4</td>\n      <td>3</td>\n    </tr>\n    <tr>\n      <th>X2</th>\n      <td>5.0</td>\n      <td>5.0</td>\n      <td>5</td>\n      <td>3</td>\n      <td>3</td>\n      <td>5</td>\n      <td>2</td>\n      <td>2</td>\n      <td>6</td>\n      <td>1</td>\n      <td>...</td>\n      <td>4</td>\n      <td>6</td>\n      <td>7</td>\n      <td>2</td>\n      <td>5</td>\n      <td>3</td>\n      <td>1</td>\n      <td>2</td>\n      <td>4</td>\n      <td>4</td>\n    </tr>\n    <tr>\n      <th>X3</th>\n      <td>5.0</td>\n      <td>6.0</td>\n      <td>4</td>\n      <td>3</td>\n      <td>4</td>\n      <td>5</td>\n      <td>2</td>\n      <td>1</td>\n      <td>6</td>\n      <td>2</td>\n      <td>...</td>\n      <td>3</td>\n      <td>5</td>\n      <td>6</td>\n      <td>2</td>\n      <td>5</td>\n      <td>4</td>\n      <td>1</td>\n      <td>1</td>\n      <td>4</td>\n      <td>3</td>\n    </tr>\n    <tr>\n      <th>X4</th>\n      <td>5.0</td>\n      <td>NaN</td>\n      <td>5</td>\n      <td>3</td>\n      <td>4</td>\n      <td>5</td>\n      <td>3</td>\n      <td>1</td>\n      <td>6</td>\n      <td>2</td>\n      <td>...</td>\n      <td>3</td>\n      <td>5</td>\n      <td>7</td>\n      <td>2</td>\n      <td>5</td>\n      <td>2</td>\n      <td>1</td>\n      <td>1</td>\n      <td>4</td>\n      <td>3</td>\n    </tr>\n    <tr>\n      <th>...</th>\n      <td>...</td>\n      <td>...</td>\n      <td>...</td>\n      <td>...</td>\n      <td>...</td>\n      <td>...</td>\n      <td>...</td>\n      <td>...</td>\n      <td>...</td>\n      <td>...</td>\n      <td>...</td>\n      <td>...</td>\n      <td>...</td>\n      <td>...</td>\n      <td>...</td>\n      <td>...</td>\n      <td>...</td>\n      <td>...</td>\n      <td>...</td>\n      <td>...</td>\n      <td>...</td>\n    </tr>\n    <tr>\n      <th>X95</th>\n      <td>5.0</td>\n      <td>3.0</td>\n      <td>4</td>\n      <td>6</td>\n      <td>5</td>\n      <td>5</td>\n      <td>4</td>\n      <td>1</td>\n      <td>1</td>\n      <td>6</td>\n      <td>...</td>\n      <td>7</td>\n      <td>2</td>\n      <td>3</td>\n      <td>3</td>\n      <td>4</td>\n      <td>6</td>\n      <td>3</td>\n      <td>6</td>\n      <td>6</td>\n      <td>1</td>\n    </tr>\n    <tr>\n      <th>X96</th>\n      <td>5.0</td>\n      <td>4.0</td>\n      <td>4</td>\n      <td>6</td>\n      <td>5</td>\n      <td>3</td>\n      <td>3</td>\n      <td>1</td>\n      <td>1</td>\n      <td>6</td>\n      <td>...</td>\n      <td>7</td>\n      <td>2</td>\n      <td>3</td>\n      <td>2</td>\n      <td>4</td>\n      <td>6</td>\n      <td>4</td>\n      <td>5</td>\n      <td>6</td>\n      <td>1</td>\n    </tr>\n    <tr>\n      <th>X97</th>\n      <td>6.0</td>\n      <td>4.0</td>\n      <td>3</td>\n      <td>5</td>\n      <td>5</td>\n      <td>4</td>\n      <td>5</td>\n      <td>1</td>\n      <td>1</td>\n      <td>6</td>\n      <td>...</td>\n      <td>7</td>\n      <td>3</td>\n      <td>3</td>\n      <td>3</td>\n      <td>3</td>\n      <td>6</td>\n      <td>4</td>\n      <td>5</td>\n      <td>6</td>\n      <td>2</td>\n    </tr>\n    <tr>\n      <th>X98</th>\n      <td>6.0</td>\n      <td>4.0</td>\n      <td>3</td>\n      <td>6</td>\n      <td>5</td>\n      <td>4</td>\n      <td>4</td>\n      <td>1</td>\n      <td>1</td>\n      <td>6</td>\n      <td>...</td>\n      <td>7</td>\n      <td>2</td>\n      <td>3</td>\n      <td>2</td>\n      <td>3</td>\n      <td>5</td>\n      <td>3</td>\n      <td>5</td>\n      <td>6</td>\n      <td>1</td>\n    </tr>\n    <tr>\n      <th>X99</th>\n      <td>6.0</td>\n      <td>3.0</td>\n      <td>4</td>\n      <td>5</td>\n      <td>5</td>\n      <td>5</td>\n      <td>3</td>\n      <td>1</td>\n      <td>1</td>\n      <td>6</td>\n      <td>...</td>\n      <td>7</td>\n      <td>2</td>\n      <td>3</td>\n      <td>3</td>\n      <td>4</td>\n      <td>6</td>\n      <td>3</td>\n      <td>6</td>\n      <td>6</td>\n      <td>1</td>\n    </tr>\n  </tbody>\n</table>\n<p>100 rows × 50 columns</p>\n</div>"
     },
     "execution_count": 8,
     "metadata": {},
     "output_type": "execute_result"
    }
   ],
   "source": [
    "dataX"
   ],
   "metadata": {
    "collapsed": false,
    "pycharm": {
     "name": "#%%\n"
    }
   }
  },
  {
   "cell_type": "code",
   "execution_count": 9,
   "outputs": [
    {
     "data": {
      "text/plain": "      S0   S1  S2  S3  S4  S5  S6  S7  S8  S9  ...  S40  S41  S42  S43  S44  \\\nX0   5.0  6.0   5   3   3   5   2   2   7   1  ...    2    5    7    2    5   \nX1   5.0  NaN   4   3   3   5   2   2   6   2  ...    4    5    6    3    5   \nX2   5.0  5.0   5   3   3   5   2   2   6   1  ...    4    6    7    2    5   \nX3   5.0  6.0   4   3   4   5   2   1   6   2  ...    3    5    6    2    5   \nX4   5.0  NaN   5   3   4   5   3   1   6   2  ...    3    5    7    2    5   \n..   ...  ...  ..  ..  ..  ..  ..  ..  ..  ..  ...  ...  ...  ...  ...  ...   \nY95  4.0  1.0   1   4   3   3   2   6   6   6  ...    7    4    1    1    2   \nY96  4.0  1.0   1   5   3   3   2   6   6   6  ...    7    2    2    1    1   \nY97  4.0  1.0   1   5   2   3   1   6   6   6  ...    7    3    2    1    2   \nY98  4.0  1.0   1   5   3   3   1   6   6   6  ...    7    2    1    1    2   \nY99  4.0  1.0   1   4   3   4   1   6   6   6  ...    7    2    2    1    2   \n\n     S45  S46  S47  S48  S49  \nX0     3    1    1    4    3  \nX1     2    1    1    4    3  \nX2     3    1    2    4    4  \nX3     4    1    1    4    3  \nX4     2    1    1    4    3  \n..   ...  ...  ...  ...  ...  \nY95    6    1    4    5    6  \nY96    6    2    4    6    5  \nY97    6    1    4    5    6  \nY98    6    2    4    5    6  \nY99    6    2    4    6    5  \n\n[200 rows x 50 columns]",
      "text/html": "<div>\n<style scoped>\n    .dataframe tbody tr th:only-of-type {\n        vertical-align: middle;\n    }\n\n    .dataframe tbody tr th {\n        vertical-align: top;\n    }\n\n    .dataframe thead th {\n        text-align: right;\n    }\n</style>\n<table border=\"1\" class=\"dataframe\">\n  <thead>\n    <tr style=\"text-align: right;\">\n      <th></th>\n      <th>S0</th>\n      <th>S1</th>\n      <th>S2</th>\n      <th>S3</th>\n      <th>S4</th>\n      <th>S5</th>\n      <th>S6</th>\n      <th>S7</th>\n      <th>S8</th>\n      <th>S9</th>\n      <th>...</th>\n      <th>S40</th>\n      <th>S41</th>\n      <th>S42</th>\n      <th>S43</th>\n      <th>S44</th>\n      <th>S45</th>\n      <th>S46</th>\n      <th>S47</th>\n      <th>S48</th>\n      <th>S49</th>\n    </tr>\n  </thead>\n  <tbody>\n    <tr>\n      <th>X0</th>\n      <td>5.0</td>\n      <td>6.0</td>\n      <td>5</td>\n      <td>3</td>\n      <td>3</td>\n      <td>5</td>\n      <td>2</td>\n      <td>2</td>\n      <td>7</td>\n      <td>1</td>\n      <td>...</td>\n      <td>2</td>\n      <td>5</td>\n      <td>7</td>\n      <td>2</td>\n      <td>5</td>\n      <td>3</td>\n      <td>1</td>\n      <td>1</td>\n      <td>4</td>\n      <td>3</td>\n    </tr>\n    <tr>\n      <th>X1</th>\n      <td>5.0</td>\n      <td>NaN</td>\n      <td>4</td>\n      <td>3</td>\n      <td>3</td>\n      <td>5</td>\n      <td>2</td>\n      <td>2</td>\n      <td>6</td>\n      <td>2</td>\n      <td>...</td>\n      <td>4</td>\n      <td>5</td>\n      <td>6</td>\n      <td>3</td>\n      <td>5</td>\n      <td>2</td>\n      <td>1</td>\n      <td>1</td>\n      <td>4</td>\n      <td>3</td>\n    </tr>\n    <tr>\n      <th>X2</th>\n      <td>5.0</td>\n      <td>5.0</td>\n      <td>5</td>\n      <td>3</td>\n      <td>3</td>\n      <td>5</td>\n      <td>2</td>\n      <td>2</td>\n      <td>6</td>\n      <td>1</td>\n      <td>...</td>\n      <td>4</td>\n      <td>6</td>\n      <td>7</td>\n      <td>2</td>\n      <td>5</td>\n      <td>3</td>\n      <td>1</td>\n      <td>2</td>\n      <td>4</td>\n      <td>4</td>\n    </tr>\n    <tr>\n      <th>X3</th>\n      <td>5.0</td>\n      <td>6.0</td>\n      <td>4</td>\n      <td>3</td>\n      <td>4</td>\n      <td>5</td>\n      <td>2</td>\n      <td>1</td>\n      <td>6</td>\n      <td>2</td>\n      <td>...</td>\n      <td>3</td>\n      <td>5</td>\n      <td>6</td>\n      <td>2</td>\n      <td>5</td>\n      <td>4</td>\n      <td>1</td>\n      <td>1</td>\n      <td>4</td>\n      <td>3</td>\n    </tr>\n    <tr>\n      <th>X4</th>\n      <td>5.0</td>\n      <td>NaN</td>\n      <td>5</td>\n      <td>3</td>\n      <td>4</td>\n      <td>5</td>\n      <td>3</td>\n      <td>1</td>\n      <td>6</td>\n      <td>2</td>\n      <td>...</td>\n      <td>3</td>\n      <td>5</td>\n      <td>7</td>\n      <td>2</td>\n      <td>5</td>\n      <td>2</td>\n      <td>1</td>\n      <td>1</td>\n      <td>4</td>\n      <td>3</td>\n    </tr>\n    <tr>\n      <th>...</th>\n      <td>...</td>\n      <td>...</td>\n      <td>...</td>\n      <td>...</td>\n      <td>...</td>\n      <td>...</td>\n      <td>...</td>\n      <td>...</td>\n      <td>...</td>\n      <td>...</td>\n      <td>...</td>\n      <td>...</td>\n      <td>...</td>\n      <td>...</td>\n      <td>...</td>\n      <td>...</td>\n      <td>...</td>\n      <td>...</td>\n      <td>...</td>\n      <td>...</td>\n      <td>...</td>\n    </tr>\n    <tr>\n      <th>Y95</th>\n      <td>4.0</td>\n      <td>1.0</td>\n      <td>1</td>\n      <td>4</td>\n      <td>3</td>\n      <td>3</td>\n      <td>2</td>\n      <td>6</td>\n      <td>6</td>\n      <td>6</td>\n      <td>...</td>\n      <td>7</td>\n      <td>4</td>\n      <td>1</td>\n      <td>1</td>\n      <td>2</td>\n      <td>6</td>\n      <td>1</td>\n      <td>4</td>\n      <td>5</td>\n      <td>6</td>\n    </tr>\n    <tr>\n      <th>Y96</th>\n      <td>4.0</td>\n      <td>1.0</td>\n      <td>1</td>\n      <td>5</td>\n      <td>3</td>\n      <td>3</td>\n      <td>2</td>\n      <td>6</td>\n      <td>6</td>\n      <td>6</td>\n      <td>...</td>\n      <td>7</td>\n      <td>2</td>\n      <td>2</td>\n      <td>1</td>\n      <td>1</td>\n      <td>6</td>\n      <td>2</td>\n      <td>4</td>\n      <td>6</td>\n      <td>5</td>\n    </tr>\n    <tr>\n      <th>Y97</th>\n      <td>4.0</td>\n      <td>1.0</td>\n      <td>1</td>\n      <td>5</td>\n      <td>2</td>\n      <td>3</td>\n      <td>1</td>\n      <td>6</td>\n      <td>6</td>\n      <td>6</td>\n      <td>...</td>\n      <td>7</td>\n      <td>3</td>\n      <td>2</td>\n      <td>1</td>\n      <td>2</td>\n      <td>6</td>\n      <td>1</td>\n      <td>4</td>\n      <td>5</td>\n      <td>6</td>\n    </tr>\n    <tr>\n      <th>Y98</th>\n      <td>4.0</td>\n      <td>1.0</td>\n      <td>1</td>\n      <td>5</td>\n      <td>3</td>\n      <td>3</td>\n      <td>1</td>\n      <td>6</td>\n      <td>6</td>\n      <td>6</td>\n      <td>...</td>\n      <td>7</td>\n      <td>2</td>\n      <td>1</td>\n      <td>1</td>\n      <td>2</td>\n      <td>6</td>\n      <td>2</td>\n      <td>4</td>\n      <td>5</td>\n      <td>6</td>\n    </tr>\n    <tr>\n      <th>Y99</th>\n      <td>4.0</td>\n      <td>1.0</td>\n      <td>1</td>\n      <td>4</td>\n      <td>3</td>\n      <td>4</td>\n      <td>1</td>\n      <td>6</td>\n      <td>6</td>\n      <td>6</td>\n      <td>...</td>\n      <td>7</td>\n      <td>2</td>\n      <td>2</td>\n      <td>1</td>\n      <td>2</td>\n      <td>6</td>\n      <td>2</td>\n      <td>4</td>\n      <td>6</td>\n      <td>5</td>\n    </tr>\n  </tbody>\n</table>\n<p>200 rows × 50 columns</p>\n</div>"
     },
     "execution_count": 9,
     "metadata": {},
     "output_type": "execute_result"
    }
   ],
   "source": [
    "df = pd.concat([dataX, dataY])\n",
    "df"
   ],
   "metadata": {
    "collapsed": false,
    "pycharm": {
     "name": "#%%\n"
    }
   }
  },
  {
   "cell_type": "code",
   "execution_count": 10,
   "outputs": [],
   "source": [
    "def btest_corr(df, method='spearman'):\n",
    "    results = pd.DataFrame()\n",
    "    Feature_1 = []\n",
    "    Feature_2 = []\n",
    "    corrs = []\n",
    "    p_values = []\n",
    "    not_nas = []\n",
    "\n",
    "    if False:\n",
    "        for i in df.columns:\n",
    "            for j in df.columns:\n",
    "                if i != j:\n",
    "                    try:\n",
    "                        not_na = sum(df[[i, j]].count(axis=1)==2)\n",
    "                        #corr = spearmanr(df[i].to_numpy(), df[j].to_numpy(), nan_policy=\"omit\")\n",
    "                        #corr = stats.kendalltau(ac, bc)\n",
    "                    except ValueError:\n",
    "                        corr = ('nan', 'nan')\n",
    "                        not_na = 'nan'\n",
    "                    Feature_1.append(i)\n",
    "                    Feature_2.append(j)\n",
    "                    corrs.append(corr[0])\n",
    "                    p_values.append(corr[1])\n",
    "                    not_nas.append(not_na)\n",
    "        results['Feature_1'] = Feature_1\n",
    "        results['Feature_2'] = Feature_2\n",
    "        results['pval'] = p_values\n",
    "        results['Correlation'] = corrs\n",
    "        results['Not_NAs'] = not_nas\n",
    "    else:\n",
    "        # for i in df.columns:\n",
    "        #     for j in df.columns:\n",
    "        #         try:\n",
    "        #             not_na = sum(df[[i, j]].count(axis=1)==2)\n",
    "        #         except ValueError:\n",
    "        #             not_na = 'nan'\n",
    "        #         not_nas.append(not_na)\n",
    "        rho = df.corr(method='spearman')\n",
    "        pval = df.corr(method=lambda x, y: spearmanr(x, y, nan_policy='omit')[1]) - np.eye(*rho.shape)\n",
    "        pval_long_format = pval.stack().reset_index().rename(columns={'level_0':'Feature_1','level_1':'Feature_2', 0:'pval'})\n",
    "        rho_long_format = rho.stack().reset_index().rename(columns={'level_0':'Feature_1','level_1':'Feature_2', 0:'Correlation'})\n",
    "        results = pd.concat([pval_long_format, rho_long_format[\"Correlation\"]], axis=1)\n",
    "        results['Not_NAs'] = 'nan'\n",
    "\n",
    "    return results"
   ],
   "metadata": {
    "collapsed": false,
    "pycharm": {
     "name": "#%%\n"
    }
   }
  },
  {
   "cell_type": "code",
   "execution_count": 11,
   "outputs": [],
   "source": [
    "df = pd.concat([dataX, dataY])\n",
    "df = df.T\n",
    "start_time = time.time()\n",
    "#rho = df.corr(method='spearman')\n",
    "#pval = df.corr(method=lambda x, y: pearsonr(x, y)[1]) - np.eye(*rho.shape)\n",
    "#rho = df.corr(method='spearman') # rho = df.corr(method=lambda x, y: spearmanr(x, y, nan_policy= 'omit')[1])#\n",
    "#pval = df.corr(method=lambda x, y: spearmanr(x, y, nan_policy='omit')[1]) - np.eye(*rho.shape)\n",
    "\n",
    "results = btest_corr(df)\n",
    "rho_excution_time = time.time() - start_time"
   ],
   "metadata": {
    "collapsed": false,
    "pycharm": {
     "name": "#%%\n"
    }
   }
  },
  {
   "cell_type": "code",
   "execution_count": 12,
   "outputs": [
    {
     "data": {
      "text/plain": "9.519651174545288"
     },
     "execution_count": 12,
     "metadata": {},
     "output_type": "execute_result"
    }
   ],
   "source": [
    "rho_excution_time"
   ],
   "metadata": {
    "collapsed": false,
    "pycharm": {
     "name": "#%%\n"
    }
   }
  },
  {
   "cell_type": "code",
   "execution_count": 13,
   "outputs": [
    {
     "data": {
      "text/plain": "      Feature_1 Feature_2          pval  Correlation Not_NAs\n0            X0        X0  0.000000e+00     1.000000     nan\n1            X0        X1  1.511519e-19     0.909559     nan\n2            X0        X2  6.554862e-20     0.909350     nan\n3            X0        X3  8.315076e-23     0.932087     nan\n4            X0        X4  2.588865e-22     0.931758     nan\n...         ...       ...           ...          ...     ...\n39995       Y99       Y95  4.532957e-21     0.919284     nan\n39996       Y99       Y96  5.526886e-24     0.939555     nan\n39997       Y99       Y97  5.556863e-23     0.933255     nan\n39998       Y99       Y98  4.070674e-24     0.940343     nan\n39999       Y99       Y99  0.000000e+00     1.000000     nan\n\n[40000 rows x 5 columns]",
      "text/html": "<div>\n<style scoped>\n    .dataframe tbody tr th:only-of-type {\n        vertical-align: middle;\n    }\n\n    .dataframe tbody tr th {\n        vertical-align: top;\n    }\n\n    .dataframe thead th {\n        text-align: right;\n    }\n</style>\n<table border=\"1\" class=\"dataframe\">\n  <thead>\n    <tr style=\"text-align: right;\">\n      <th></th>\n      <th>Feature_1</th>\n      <th>Feature_2</th>\n      <th>pval</th>\n      <th>Correlation</th>\n      <th>Not_NAs</th>\n    </tr>\n  </thead>\n  <tbody>\n    <tr>\n      <th>0</th>\n      <td>X0</td>\n      <td>X0</td>\n      <td>0.000000e+00</td>\n      <td>1.000000</td>\n      <td>nan</td>\n    </tr>\n    <tr>\n      <th>1</th>\n      <td>X0</td>\n      <td>X1</td>\n      <td>1.511519e-19</td>\n      <td>0.909559</td>\n      <td>nan</td>\n    </tr>\n    <tr>\n      <th>2</th>\n      <td>X0</td>\n      <td>X2</td>\n      <td>6.554862e-20</td>\n      <td>0.909350</td>\n      <td>nan</td>\n    </tr>\n    <tr>\n      <th>3</th>\n      <td>X0</td>\n      <td>X3</td>\n      <td>8.315076e-23</td>\n      <td>0.932087</td>\n      <td>nan</td>\n    </tr>\n    <tr>\n      <th>4</th>\n      <td>X0</td>\n      <td>X4</td>\n      <td>2.588865e-22</td>\n      <td>0.931758</td>\n      <td>nan</td>\n    </tr>\n    <tr>\n      <th>...</th>\n      <td>...</td>\n      <td>...</td>\n      <td>...</td>\n      <td>...</td>\n      <td>...</td>\n    </tr>\n    <tr>\n      <th>39995</th>\n      <td>Y99</td>\n      <td>Y95</td>\n      <td>4.532957e-21</td>\n      <td>0.919284</td>\n      <td>nan</td>\n    </tr>\n    <tr>\n      <th>39996</th>\n      <td>Y99</td>\n      <td>Y96</td>\n      <td>5.526886e-24</td>\n      <td>0.939555</td>\n      <td>nan</td>\n    </tr>\n    <tr>\n      <th>39997</th>\n      <td>Y99</td>\n      <td>Y97</td>\n      <td>5.556863e-23</td>\n      <td>0.933255</td>\n      <td>nan</td>\n    </tr>\n    <tr>\n      <th>39998</th>\n      <td>Y99</td>\n      <td>Y98</td>\n      <td>4.070674e-24</td>\n      <td>0.940343</td>\n      <td>nan</td>\n    </tr>\n    <tr>\n      <th>39999</th>\n      <td>Y99</td>\n      <td>Y99</td>\n      <td>0.000000e+00</td>\n      <td>1.000000</td>\n      <td>nan</td>\n    </tr>\n  </tbody>\n</table>\n<p>40000 rows × 5 columns</p>\n</div>"
     },
     "execution_count": 13,
     "metadata": {},
     "output_type": "execute_result"
    }
   ],
   "source": [
    "results"
   ],
   "metadata": {
    "collapsed": false,
    "pycharm": {
     "name": "#%%\n"
    }
   }
  },
  {
   "cell_type": "code",
   "execution_count": 14,
   "outputs": [],
   "source": [
    "start_time = time.time()\n",
    "rho = df.corr(method='spearman')\n",
    "only_rho_excution_time = time.time() - start_time"
   ],
   "metadata": {
    "collapsed": false,
    "pycharm": {
     "name": "#%%\n"
    }
   }
  },
  {
   "cell_type": "code",
   "execution_count": 15,
   "outputs": [
    {
     "data": {
      "text/plain": "0.10689115524291992"
     },
     "execution_count": 15,
     "metadata": {},
     "output_type": "execute_result"
    }
   ],
   "source": [
    "only_rho_excution_time"
   ],
   "metadata": {
    "collapsed": false,
    "pycharm": {
     "name": "#%%\n"
    }
   }
  },
  {
   "cell_type": "code",
   "execution_count": 16,
   "outputs": [],
   "source": [
    "start_time = time.time()\n",
    "df = df.T\n",
    "rho = df.corr(method='spearman')\n",
    "#pval = df.corr(method=lambda x, y: pearsonr(x, y)[1]) - np.eye(*rho.shape)\n",
    "#rho = df.corr(method='spearman') # rho = df.corr(method=lambda x, y: spearmanr(x, y, nan_policy= 'omit')[1])#\n",
    "pval = df.corr(method=lambda x, y: spearmanr(x, y, nan_policy='omit')[1]) - np.eye(*rho.shape)\n",
    "\n",
    "ind_excution_time = time.time() - start_time"
   ],
   "metadata": {
    "collapsed": false,
    "pycharm": {
     "name": "#%%\n"
    }
   }
  },
  {
   "cell_type": "code",
   "execution_count": 17,
   "outputs": [
    {
     "data": {
      "text/plain": "0.8485991954803467"
     },
     "execution_count": 17,
     "metadata": {},
     "output_type": "execute_result"
    }
   ],
   "source": [
    "ind_excution_time"
   ],
   "metadata": {
    "collapsed": false,
    "pycharm": {
     "name": "#%%\n"
    }
   }
  },
  {
   "cell_type": "code",
   "execution_count": 18,
   "outputs": [],
   "source": [
    "# rho_long_format = rho.stack().reset_index().rename(columns={'level_0':'Feature_1','level_1':'Feature_2', 0:'Correlation'})"
   ],
   "metadata": {
    "collapsed": false,
    "pycharm": {
     "name": "#%%\n"
    }
   }
  },
  {
   "cell_type": "code",
   "execution_count": 19,
   "outputs": [
    {
     "data": {
      "text/plain": "               S0            S1            S2            S3            S4  \\\nS0   0.000000e+00  3.084475e-01  9.380094e-13  4.013198e-01  1.314477e-01   \nS1   3.084475e-01  0.000000e+00  6.842516e-13  9.496314e-02  8.957027e-08   \nS2   9.380094e-13  6.842516e-13  0.000000e+00  3.281800e-01  6.062727e-01   \nS3   4.013198e-01  9.496314e-02  3.281800e-01  0.000000e+00  6.691532e-01   \nS4   1.314477e-01  8.957027e-08  6.062727e-01  6.691532e-01  0.000000e+00   \nS5   2.547555e-46  1.012438e-01  1.041666e-20  5.162323e-04  3.084042e-01   \nS6   2.601090e-09  2.764150e-02  7.483159e-01  1.509038e-01  1.226851e-09   \nS7   2.406291e-24  3.490311e-11  1.325160e-31  2.776927e-01  9.482026e-03   \nS8   5.768902e-01  4.829576e-14  5.717891e-01  6.549191e-02  1.816716e-33   \nS9   8.099749e-04  1.788307e-21  3.495019e-17  7.677003e-19  6.897932e-03   \nS10  1.150037e-06  2.270727e-08  3.873390e-03  2.498683e-01  5.495174e-57   \nS11  1.840168e-02  4.928098e-03  2.967501e-02  1.580448e-25  1.517671e-02   \nS12  1.961484e-03  2.855764e-02  5.708010e-05  4.872758e-05  5.006194e-29   \nS13  1.375756e-19  2.895888e-02  6.466496e-08  2.043827e-02  2.778868e-02   \nS14  1.237547e-01  7.157252e-05  6.839189e-01  5.111057e-04  2.057967e-07   \nS15  8.627087e-05  2.630836e-01  8.792997e-03  2.970629e-07  1.018063e-01   \nS16  5.935417e-01  5.159091e-05  1.722622e-01  5.689305e-45  2.704126e-02   \nS17  5.416797e-04  4.441783e-14  9.036478e-06  1.179979e-01  4.278526e-17   \nS18  9.923313e-08  1.632996e-03  5.993726e-21  8.221738e-07  1.431609e-08   \nS19  6.000508e-04  2.933041e-03  2.825625e-01  6.930946e-08  1.601641e-02   \nS20  1.020397e-04  9.485246e-08  2.890685e-05  9.493514e-01  1.986574e-08   \nS21  3.368161e-01  2.510194e-57  4.620045e-13  1.237388e-01  7.092823e-05   \nS22  5.168157e-31  8.449989e-01  9.177098e-15  3.629132e-09  6.049374e-01   \nS23  7.373911e-01  2.656876e-01  6.123075e-01  3.864498e-10  8.567764e-01   \nS24  4.600213e-02  7.115089e-27  1.481830e-22  4.296515e-08  6.614627e-01   \nS25  2.797269e-37  2.240284e-12  5.264787e-04  3.366196e-01  6.841619e-04   \nS26  5.642541e-26  1.130582e-01  1.599122e-07  3.069301e-09  9.549052e-01   \nS27  3.400882e-22  4.243092e-02  1.034284e-07  6.963783e-04  1.736924e-01   \nS28  2.628812e-06  6.672907e-05  9.910786e-01  3.270470e-01  4.043663e-01   \nS29  1.143440e-26  6.785594e-07  1.885723e-03  7.376797e-05  4.905169e-01   \nS30  1.077648e-05  4.282964e-21  3.467038e-11  2.511050e-01  9.005095e-13   \nS31  2.378245e-06  5.149032e-08  9.360399e-02  3.088939e-17  6.439837e-02   \nS32  2.258059e-01  9.504281e-03  1.257205e-09  5.005246e-02  7.241728e-26   \nS33  1.242059e-02  3.210897e-07  5.645290e-04  1.504075e-23  5.055821e-03   \nS34  1.663358e-02  2.249154e-16  6.882746e-02  4.709340e-01  8.375642e-66   \nS35  2.382647e-01  6.512593e-30  6.813783e-17  4.660360e-04  2.985293e-01   \nS36  5.502199e-05  5.712437e-01  1.350921e-01  1.200754e-09  8.248754e-41   \nS37  9.642661e-01  7.603096e-03  2.572100e-05  6.516571e-10  1.108373e-06   \nS38  7.491771e-14  8.768943e-18  1.490670e-01  2.276072e-01  4.233615e-01   \nS39  9.747586e-20  3.237833e-08  1.252279e-09  3.170496e-02  1.049892e-29   \nS40  6.326359e-05  3.166815e-09  1.095916e-03  1.401808e-13  4.030609e-02   \nS41  6.000231e-19  4.436443e-01  1.670505e-08  4.243211e-21  1.347481e-01   \nS42  4.844821e-01  4.887783e-72  2.231112e-10  7.252940e-02  2.820491e-13   \nS43  1.154155e-02  1.873542e-08  6.637734e-01  2.181771e-11  2.020219e-02   \nS44  5.802815e-28  8.682299e-01  7.746037e-21  4.448186e-02  1.197269e-04   \nS45  1.548490e-01  8.264852e-02  8.234854e-06  1.349309e-27  6.227429e-06   \nS46  7.176351e-06  7.426724e-02  8.562186e-04  6.064659e-01  9.302231e-02   \nS47  7.160585e-30  6.145045e-01  4.253203e-13  2.831510e-01  4.125794e-01   \nS48  3.877271e-03  4.756671e-02  6.134071e-01  1.965822e-50  7.818458e-01   \nS49  6.290137e-07  1.507302e-14  2.453163e-09  5.229912e-01  1.557150e-17   \n\n               S5            S6            S7            S8            S9  \\\nS0   2.547555e-46  2.601090e-09  2.406291e-24  5.768902e-01  8.099749e-04   \nS1   1.012438e-01  2.764150e-02  3.490311e-11  4.829576e-14  1.788307e-21   \nS2   1.041666e-20  7.483159e-01  1.325160e-31  5.717891e-01  3.495019e-17   \nS3   5.162323e-04  1.509038e-01  2.776927e-01  6.549191e-02  7.677003e-19   \nS4   3.084042e-01  1.226851e-09  9.482026e-03  1.816716e-33  6.897932e-03   \nS5   0.000000e+00  5.136707e-06  3.274231e-31  9.442552e-01  1.512175e-16   \nS6   5.136707e-06  0.000000e+00  8.060097e-01  5.821747e-12  5.355590e-03   \nS7   3.274231e-31  8.060097e-01  0.000000e+00  8.984121e-01  6.209345e-09   \nS8   9.442552e-01  5.821747e-12  8.984121e-01  0.000000e+00  6.011417e-13   \nS9   1.512175e-16  5.355590e-03  6.209345e-09  6.011417e-13  0.000000e+00   \nS10  4.258113e-06  8.454722e-10  2.445982e-10  9.478535e-20  3.054585e-05   \nS11  5.151387e-02  3.313346e-01  5.716285e-01  2.950416e-01  1.940780e-17   \nS12  6.640198e-01  4.499847e-08  3.557037e-01  5.098590e-04  1.339850e-07   \nS13  3.250794e-13  1.133431e-09  7.291726e-04  1.055799e-01  4.907212e-04   \nS14  2.709594e-03  3.337487e-06  2.233669e-02  6.886060e-30  1.937866e-02   \nS15  1.007698e-09  3.588441e-01  2.106644e-09  5.840538e-05  6.676448e-03   \nS16  1.883271e-05  2.062233e-01  6.480039e-01  1.378207e-03  3.205594e-26   \nS17  1.500197e-04  2.140485e-01  1.718672e-24  6.859078e-02  1.558811e-01   \nS18  3.682526e-07  2.483571e-02  2.929002e-11  5.737482e-02  9.423721e-04   \nS19  6.120825e-06  4.807821e-02  2.079896e-02  9.389344e-03  6.105561e-01   \nS20  8.652598e-03  8.199269e-06  2.602509e-01  8.444176e-02  4.657085e-06   \nS21  1.095743e-01  1.582163e-02  1.690780e-09  9.046069e-13  1.244377e-21   \nS22  1.503964e-16  5.162506e-06  1.030930e-14  2.933194e-01  2.434947e-02   \nS23  6.293259e-03  1.017513e-02  7.394577e-02  2.555878e-08  7.607005e-01   \nS24  6.353740e-09  5.199266e-01  6.811563e-11  2.833073e-05  4.096957e-51   \nS25  4.751820e-27  2.831480e-08  5.861135e-06  2.159505e-06  4.180011e-01   \nS26  1.994688e-11  1.019102e-09  3.337488e-06  2.584016e-02  2.241151e-01   \nS27  3.785840e-29  2.171639e-13  1.843980e-04  6.912292e-02  2.056963e-14   \nS28  4.192448e-03  2.067608e-14  3.135147e-02  1.494860e-04  7.993903e-02   \nS29  1.826894e-30  1.239780e-12  9.604320e-06  3.020534e-02  1.103943e-04   \nS30  6.800953e-07  5.068089e-04  1.672128e-13  2.723968e-17  1.542356e-16   \nS31  6.312449e-11  1.026181e-14  4.600788e-01  7.388987e-01  6.657755e-04   \nS32  7.208389e-01  4.438009e-10  3.421648e-01  5.057846e-04  1.022771e-02   \nS33  6.067773e-06  7.811752e-12  2.077310e-02  4.161142e-01  3.519092e-03   \nS34  1.437525e-02  2.336665e-07  5.454218e-06  4.810542e-35  1.510116e-07   \nS35  9.414085e-01  1.428589e-05  2.824509e-07  1.223322e-03  5.592512e-07   \nS36  4.921666e-01  3.327149e-08  9.349553e-04  1.532804e-08  1.340468e-04   \nS37  1.243143e-01  1.759043e-01  9.957503e-01  5.783304e-02  1.685045e-01   \nS38  4.740565e-08  3.590920e-07  5.875596e-03  1.942885e-07  2.933538e-06   \nS39  2.342740e-14  4.885727e-10  4.073424e-25  1.272256e-11  2.283354e-05   \nS40  7.894495e-01  1.740800e-03  2.162842e-01  2.714541e-02  1.099698e-14   \nS41  3.798242e-39  1.145998e-10  1.170013e-07  1.938683e-02  4.531251e-32   \nS42  7.002991e-02  1.052265e-01  3.187122e-11  1.982139e-16  5.650670e-21   \nS43  7.491864e-01  3.406830e-02  6.320957e-02  2.160212e-01  1.205700e-05   \nS44  1.485361e-40  9.040022e-04  1.830249e-16  2.515731e-02  1.119018e-11   \nS45  2.502140e-09  5.595544e-01  3.224547e-01  9.372844e-01  1.572470e-26   \nS46  1.429655e-04  1.097007e-12  4.915005e-01  9.162222e-12  1.285520e-06   \nS47  2.043155e-30  1.605638e-16  8.010781e-09  1.382733e-02  2.283642e-13   \nS48  1.233339e-01  9.153896e-01  3.552980e-02  3.078379e-01  1.514199e-13   \nS49  6.710220e-10  8.755331e-01  3.370424e-30  1.799468e-02  5.413937e-05   \n\n     ...           S40           S41           S42           S43  \\\nS0   ...  6.326359e-05  6.000231e-19  4.844821e-01  1.154155e-02   \nS1   ...  3.166815e-09  4.436443e-01  4.887783e-72  1.873542e-08   \nS2   ...  1.095916e-03  1.670505e-08  2.231112e-10  6.637734e-01   \nS3   ...  1.401808e-13  4.243211e-21  7.252940e-02  2.181771e-11   \nS4   ...  4.030609e-02  1.347481e-01  2.820491e-13  2.020219e-02   \nS5   ...  7.894495e-01  3.798242e-39  7.002991e-02  7.491864e-01   \nS6   ...  1.740800e-03  1.145998e-10  1.052265e-01  3.406830e-02   \nS7   ...  2.162842e-01  1.170013e-07  3.187122e-11  6.320957e-02   \nS8   ...  2.714541e-02  1.938683e-02  1.982139e-16  2.160212e-01   \nS9   ...  1.099698e-14  4.531251e-32  5.650670e-21  1.205700e-05   \nS10  ...  2.315884e-02  5.732591e-05  5.737370e-13  2.074266e-02   \nS11  ...  3.695845e-14  4.421869e-10  6.756323e-03  2.753894e-07   \nS12  ...  6.931948e-17  1.365003e-01  5.450360e-01  5.608974e-01   \nS13  ...  1.820136e-02  1.025004e-08  9.303181e-03  7.040398e-14   \nS14  ...  9.821111e-01  4.349899e-02  1.859626e-04  9.928481e-05   \nS15  ...  3.792353e-01  5.144959e-09  1.284012e-01  1.777092e-12   \nS16  ...  6.960627e-16  6.880686e-21  8.362612e-06  4.864900e-16   \nS17  ...  6.915551e-02  9.904866e-01  2.714325e-18  1.915698e-07   \nS18  ...  7.897817e-01  3.456478e-01  4.206892e-02  1.551114e-05   \nS19  ...  1.202121e-01  2.579597e-09  4.950923e-02  2.656882e-04   \nS20  ...  1.500316e-11  2.412445e-02  2.112080e-05  1.957966e-01   \nS21  ...  1.874116e-08  6.266723e-01  6.242839e-55  5.342122e-05   \nS22  ...  2.286607e-05  2.738208e-04  9.093611e-01  6.725204e-12   \nS23  ...  2.739332e-01  9.683429e-04  3.071000e-01  1.239053e-12   \nS24  ...  4.612188e-14  8.801233e-11  6.241168e-22  2.749868e-04   \nS25  ...  2.805186e-05  8.565427e-20  1.481318e-13  2.009340e-04   \nS26  ...  4.483913e-07  1.267674e-03  7.481771e-02  5.225099e-17   \nS27  ...  8.257286e-01  5.218786e-35  8.470060e-02  3.895854e-04   \nS28  ...  4.313934e-02  4.959353e-05  1.524659e-06  8.087039e-14   \nS29  ...  4.485392e-02  3.106575e-37  1.516647e-06  1.518823e-01   \nS30  ...  3.287847e-01  3.938443e-04  1.308712e-23  4.099296e-01   \nS31  ...  8.409160e-01  4.731843e-31  1.131645e-06  5.096116e-01   \nS32  ...  4.678533e-05  2.401822e-02  2.300649e-01  1.398595e-02   \nS33  ...  5.494449e-01  3.117922e-24  9.552063e-06  1.404770e-02   \nS34  ...  8.458696e-01  5.084655e-03  2.148930e-23  5.879615e-04   \nS35  ...  1.853454e-05  1.604207e-03  1.636851e-22  6.465249e-01   \nS36  ...  9.136585e-16  4.733367e-02  4.554095e-02  7.537010e-02   \nS37  ...  3.363604e-01  6.111397e-04  1.340457e-01  1.555549e-09   \nS38  ...  7.089798e-11  1.957460e-04  1.162478e-15  4.441770e-03   \nS39  ...  7.974061e-04  3.885706e-05  1.563331e-12  9.204971e-01   \nS40  ...  0.000000e+00  2.633614e-03  2.689289e-07  1.856472e-05   \nS41  ...  2.633614e-03  0.000000e+00  2.863229e-01  3.992451e-02   \nS42  ...  2.689289e-07  2.863229e-01  0.000000e+00  4.026513e-08   \nS43  ...  1.856472e-05  3.992451e-02  4.026513e-08  0.000000e+00   \nS44  ...  8.098025e-01  9.536993e-24  8.045156e-01  2.416752e-02   \nS45  ...  1.034925e-14  6.814614e-26  2.321224e-01  1.490777e-04   \nS46  ...  8.085450e-01  6.517140e-05  1.798055e-01  1.264971e-04   \nS47  ...  4.582343e-01  7.457251e-27  3.819350e-01  1.287039e-05   \nS48  ...  3.661972e-16  1.783079e-13  8.349948e-02  2.825371e-14   \nS49  ...  7.231426e-01  2.374032e-03  1.507128e-19  2.499009e-09   \n\n              S44           S45           S46           S47           S48  \\\nS0   5.802815e-28  1.548490e-01  7.176351e-06  7.160585e-30  3.877271e-03   \nS1   8.682299e-01  8.264852e-02  7.426724e-02  6.145045e-01  4.756671e-02   \nS2   7.746037e-21  8.234854e-06  8.562186e-04  4.253203e-13  6.134071e-01   \nS3   4.448186e-02  1.349309e-27  6.064659e-01  2.831510e-01  1.965822e-50   \nS4   1.197269e-04  6.227429e-06  9.302231e-02  4.125794e-01  7.818458e-01   \nS5   1.485361e-40  2.502140e-09  1.429655e-04  2.043155e-30  1.233339e-01   \nS6   9.040022e-04  5.595544e-01  1.097007e-12  1.605638e-16  9.153896e-01   \nS7   1.830249e-16  3.224547e-01  4.915005e-01  8.010781e-09  3.552980e-02   \nS8   2.515731e-02  9.372844e-01  9.162222e-12  1.382733e-02  3.078379e-01   \nS9   1.119018e-11  1.572470e-26  1.285520e-06  2.283642e-13  1.514199e-13   \nS10  5.132924e-01  7.341931e-03  2.152879e-02  2.368585e-02  6.738613e-01   \nS11  4.650774e-02  1.411982e-27  1.386242e-01  4.769876e-01  1.282894e-28   \nS12  1.996978e-04  9.125630e-19  3.584610e-01  3.624708e-02  3.770344e-05   \nS13  6.575663e-28  9.135506e-03  5.266054e-25  2.496013e-59  8.230177e-08   \nS14  3.389464e-02  9.164558e-03  3.425138e-19  8.825508e-04  6.371896e-06   \nS15  2.339799e-02  3.205608e-03  1.003981e-11  9.604087e-02  6.011389e-12   \nS16  1.603338e-01  2.902533e-24  1.636248e-01  8.092224e-01  1.694652e-58   \nS17  5.471508e-01  2.370704e-05  2.906795e-05  1.568590e-03  3.636144e-01   \nS18  1.135536e-17  1.139317e-01  3.304923e-08  2.597310e-15  7.376610e-11   \nS19  4.803391e-01  9.016998e-02  1.511597e-06  3.329127e-01  1.152979e-08   \nS20  2.905841e-01  8.814180e-05  2.042255e-03  2.315055e-01  5.862145e-01   \nS21  5.571336e-01  9.892281e-03  1.629480e-02  5.128708e-01  1.819603e-01   \nS22  4.579301e-25  6.060175e-01  2.943782e-17  6.921082e-43  1.244135e-20   \nS23  5.980560e-01  1.823964e-02  6.372764e-17  7.110312e-07  2.277813e-17   \nS24  7.234730e-10  4.396827e-17  3.954096e-04  5.299715e-08  1.118743e-05   \nS25  1.132050e-29  1.146955e-04  3.460636e-03  1.582230e-29  3.249512e-01   \nS26  4.391360e-19  2.910903e-01  2.156563e-23  2.262526e-42  2.871453e-21   \nS27  1.610823e-34  2.254607e-13  5.391003e-16  4.091653e-56  5.212813e-01   \nS28  7.107057e-07  1.095712e-01  4.433747e-24  9.446131e-28  9.211577e-04   \nS29  2.539969e-25  1.579434e-08  1.195135e-02  9.172430e-27  6.834690e-03   \nS30  9.606451e-04  4.507429e-01  1.600235e-07  7.155660e-08  7.548473e-02   \nS31  5.857273e-05  8.261747e-10  3.616822e-01  3.290098e-07  2.447455e-13   \nS32  7.943691e-05  9.966802e-05  1.727125e-02  7.265478e-03  8.993168e-03   \nS33  1.461830e-01  2.337480e-07  8.302502e-01  1.145396e-02  1.305159e-21   \nS34  4.349295e-02  1.105885e-02  1.758442e-02  6.528111e-01  6.145084e-01   \nS35  8.339834e-02  7.227157e-01  2.295467e-04  2.519762e-01  1.693600e-04   \nS36  3.353664e-03  1.054231e-25  2.196968e-01  7.211747e-01  2.384304e-11   \nS37  1.710602e-03  9.263277e-01  5.166590e-14  5.603624e-07  3.764565e-15   \nS38  7.362484e-04  2.605404e-02  7.856193e-02  7.735868e-04  1.313603e-01   \nS39  7.590578e-05  5.814010e-03  1.435716e-04  8.305982e-08  1.749392e-04   \nS40  8.098025e-01  1.034925e-14  8.085450e-01  4.582343e-01  3.661972e-16   \nS41  9.536993e-24  6.814614e-26  6.517140e-05  7.457251e-27  1.783079e-13   \nS42  8.045156e-01  2.321224e-01  1.798055e-01  3.819350e-01  8.349948e-02   \nS43  2.416752e-02  1.490777e-04  1.264971e-04  1.287039e-05  2.825371e-14   \nS44  0.000000e+00  6.999457e-12  4.664076e-07  4.269949e-40  8.978126e-01   \nS45  6.999457e-12  0.000000e+00  1.398256e-01  1.203281e-08  3.808486e-23   \nS46  4.664076e-07  1.398256e-01  0.000000e+00  1.576407e-21  3.100833e-03   \nS47  4.269949e-40  1.203281e-08  1.576407e-21  0.000000e+00  8.716641e-02   \nS48  8.978126e-01  3.808486e-23  3.100833e-03  8.716641e-02  0.000000e+00   \nS49  2.449062e-01  9.072620e-02  1.318211e-03  3.791176e-01  2.709999e-01   \n\n              S49  \nS0   6.290137e-07  \nS1   1.507302e-14  \nS2   2.453163e-09  \nS3   5.229912e-01  \nS4   1.557150e-17  \nS5   6.710220e-10  \nS6   8.755331e-01  \nS7   3.370424e-30  \nS8   1.799468e-02  \nS9   5.413937e-05  \nS10  1.760754e-23  \nS11  6.029687e-01  \nS12  6.926834e-08  \nS13  1.692814e-04  \nS14  1.683267e-03  \nS15  5.172766e-21  \nS16  7.803790e-04  \nS17  4.504455e-63  \nS18  2.806092e-01  \nS19  1.546130e-07  \nS20  6.786382e-06  \nS21  7.065623e-09  \nS22  7.242692e-01  \nS23  8.270319e-09  \nS24  1.388580e-03  \nS25  6.048219e-01  \nS26  8.687580e-02  \nS27  5.516566e-02  \nS28  5.366140e-12  \nS29  2.273396e-01  \nS30  1.826421e-09  \nS31  9.833680e-01  \nS32  2.844592e-07  \nS33  9.253276e-01  \nS34  5.140706e-21  \nS35  3.157869e-02  \nS36  9.888186e-12  \nS37  1.060678e-09  \nS38  1.875039e-02  \nS39  8.739305e-27  \nS40  7.231426e-01  \nS41  2.374032e-03  \nS42  1.507128e-19  \nS43  2.499009e-09  \nS44  2.449062e-01  \nS45  9.072620e-02  \nS46  1.318211e-03  \nS47  3.791176e-01  \nS48  2.709999e-01  \nS49  0.000000e+00  \n\n[50 rows x 50 columns]",
      "text/html": "<div>\n<style scoped>\n    .dataframe tbody tr th:only-of-type {\n        vertical-align: middle;\n    }\n\n    .dataframe tbody tr th {\n        vertical-align: top;\n    }\n\n    .dataframe thead th {\n        text-align: right;\n    }\n</style>\n<table border=\"1\" class=\"dataframe\">\n  <thead>\n    <tr style=\"text-align: right;\">\n      <th></th>\n      <th>S0</th>\n      <th>S1</th>\n      <th>S2</th>\n      <th>S3</th>\n      <th>S4</th>\n      <th>S5</th>\n      <th>S6</th>\n      <th>S7</th>\n      <th>S8</th>\n      <th>S9</th>\n      <th>...</th>\n      <th>S40</th>\n      <th>S41</th>\n      <th>S42</th>\n      <th>S43</th>\n      <th>S44</th>\n      <th>S45</th>\n      <th>S46</th>\n      <th>S47</th>\n      <th>S48</th>\n      <th>S49</th>\n    </tr>\n  </thead>\n  <tbody>\n    <tr>\n      <th>S0</th>\n      <td>0.000000e+00</td>\n      <td>3.084475e-01</td>\n      <td>9.380094e-13</td>\n      <td>4.013198e-01</td>\n      <td>1.314477e-01</td>\n      <td>2.547555e-46</td>\n      <td>2.601090e-09</td>\n      <td>2.406291e-24</td>\n      <td>5.768902e-01</td>\n      <td>8.099749e-04</td>\n      <td>...</td>\n      <td>6.326359e-05</td>\n      <td>6.000231e-19</td>\n      <td>4.844821e-01</td>\n      <td>1.154155e-02</td>\n      <td>5.802815e-28</td>\n      <td>1.548490e-01</td>\n      <td>7.176351e-06</td>\n      <td>7.160585e-30</td>\n      <td>3.877271e-03</td>\n      <td>6.290137e-07</td>\n    </tr>\n    <tr>\n      <th>S1</th>\n      <td>3.084475e-01</td>\n      <td>0.000000e+00</td>\n      <td>6.842516e-13</td>\n      <td>9.496314e-02</td>\n      <td>8.957027e-08</td>\n      <td>1.012438e-01</td>\n      <td>2.764150e-02</td>\n      <td>3.490311e-11</td>\n      <td>4.829576e-14</td>\n      <td>1.788307e-21</td>\n      <td>...</td>\n      <td>3.166815e-09</td>\n      <td>4.436443e-01</td>\n      <td>4.887783e-72</td>\n      <td>1.873542e-08</td>\n      <td>8.682299e-01</td>\n      <td>8.264852e-02</td>\n      <td>7.426724e-02</td>\n      <td>6.145045e-01</td>\n      <td>4.756671e-02</td>\n      <td>1.507302e-14</td>\n    </tr>\n    <tr>\n      <th>S2</th>\n      <td>9.380094e-13</td>\n      <td>6.842516e-13</td>\n      <td>0.000000e+00</td>\n      <td>3.281800e-01</td>\n      <td>6.062727e-01</td>\n      <td>1.041666e-20</td>\n      <td>7.483159e-01</td>\n      <td>1.325160e-31</td>\n      <td>5.717891e-01</td>\n      <td>3.495019e-17</td>\n      <td>...</td>\n      <td>1.095916e-03</td>\n      <td>1.670505e-08</td>\n      <td>2.231112e-10</td>\n      <td>6.637734e-01</td>\n      <td>7.746037e-21</td>\n      <td>8.234854e-06</td>\n      <td>8.562186e-04</td>\n      <td>4.253203e-13</td>\n      <td>6.134071e-01</td>\n      <td>2.453163e-09</td>\n    </tr>\n    <tr>\n      <th>S3</th>\n      <td>4.013198e-01</td>\n      <td>9.496314e-02</td>\n      <td>3.281800e-01</td>\n      <td>0.000000e+00</td>\n      <td>6.691532e-01</td>\n      <td>5.162323e-04</td>\n      <td>1.509038e-01</td>\n      <td>2.776927e-01</td>\n      <td>6.549191e-02</td>\n      <td>7.677003e-19</td>\n      <td>...</td>\n      <td>1.401808e-13</td>\n      <td>4.243211e-21</td>\n      <td>7.252940e-02</td>\n      <td>2.181771e-11</td>\n      <td>4.448186e-02</td>\n      <td>1.349309e-27</td>\n      <td>6.064659e-01</td>\n      <td>2.831510e-01</td>\n      <td>1.965822e-50</td>\n      <td>5.229912e-01</td>\n    </tr>\n    <tr>\n      <th>S4</th>\n      <td>1.314477e-01</td>\n      <td>8.957027e-08</td>\n      <td>6.062727e-01</td>\n      <td>6.691532e-01</td>\n      <td>0.000000e+00</td>\n      <td>3.084042e-01</td>\n      <td>1.226851e-09</td>\n      <td>9.482026e-03</td>\n      <td>1.816716e-33</td>\n      <td>6.897932e-03</td>\n      <td>...</td>\n      <td>4.030609e-02</td>\n      <td>1.347481e-01</td>\n      <td>2.820491e-13</td>\n      <td>2.020219e-02</td>\n      <td>1.197269e-04</td>\n      <td>6.227429e-06</td>\n      <td>9.302231e-02</td>\n      <td>4.125794e-01</td>\n      <td>7.818458e-01</td>\n      <td>1.557150e-17</td>\n    </tr>\n    <tr>\n      <th>S5</th>\n      <td>2.547555e-46</td>\n      <td>1.012438e-01</td>\n      <td>1.041666e-20</td>\n      <td>5.162323e-04</td>\n      <td>3.084042e-01</td>\n      <td>0.000000e+00</td>\n      <td>5.136707e-06</td>\n      <td>3.274231e-31</td>\n      <td>9.442552e-01</td>\n      <td>1.512175e-16</td>\n      <td>...</td>\n      <td>7.894495e-01</td>\n      <td>3.798242e-39</td>\n      <td>7.002991e-02</td>\n      <td>7.491864e-01</td>\n      <td>1.485361e-40</td>\n      <td>2.502140e-09</td>\n      <td>1.429655e-04</td>\n      <td>2.043155e-30</td>\n      <td>1.233339e-01</td>\n      <td>6.710220e-10</td>\n    </tr>\n    <tr>\n      <th>S6</th>\n      <td>2.601090e-09</td>\n      <td>2.764150e-02</td>\n      <td>7.483159e-01</td>\n      <td>1.509038e-01</td>\n      <td>1.226851e-09</td>\n      <td>5.136707e-06</td>\n      <td>0.000000e+00</td>\n      <td>8.060097e-01</td>\n      <td>5.821747e-12</td>\n      <td>5.355590e-03</td>\n      <td>...</td>\n      <td>1.740800e-03</td>\n      <td>1.145998e-10</td>\n      <td>1.052265e-01</td>\n      <td>3.406830e-02</td>\n      <td>9.040022e-04</td>\n      <td>5.595544e-01</td>\n      <td>1.097007e-12</td>\n      <td>1.605638e-16</td>\n      <td>9.153896e-01</td>\n      <td>8.755331e-01</td>\n    </tr>\n    <tr>\n      <th>S7</th>\n      <td>2.406291e-24</td>\n      <td>3.490311e-11</td>\n      <td>1.325160e-31</td>\n      <td>2.776927e-01</td>\n      <td>9.482026e-03</td>\n      <td>3.274231e-31</td>\n      <td>8.060097e-01</td>\n      <td>0.000000e+00</td>\n      <td>8.984121e-01</td>\n      <td>6.209345e-09</td>\n      <td>...</td>\n      <td>2.162842e-01</td>\n      <td>1.170013e-07</td>\n      <td>3.187122e-11</td>\n      <td>6.320957e-02</td>\n      <td>1.830249e-16</td>\n      <td>3.224547e-01</td>\n      <td>4.915005e-01</td>\n      <td>8.010781e-09</td>\n      <td>3.552980e-02</td>\n      <td>3.370424e-30</td>\n    </tr>\n    <tr>\n      <th>S8</th>\n      <td>5.768902e-01</td>\n      <td>4.829576e-14</td>\n      <td>5.717891e-01</td>\n      <td>6.549191e-02</td>\n      <td>1.816716e-33</td>\n      <td>9.442552e-01</td>\n      <td>5.821747e-12</td>\n      <td>8.984121e-01</td>\n      <td>0.000000e+00</td>\n      <td>6.011417e-13</td>\n      <td>...</td>\n      <td>2.714541e-02</td>\n      <td>1.938683e-02</td>\n      <td>1.982139e-16</td>\n      <td>2.160212e-01</td>\n      <td>2.515731e-02</td>\n      <td>9.372844e-01</td>\n      <td>9.162222e-12</td>\n      <td>1.382733e-02</td>\n      <td>3.078379e-01</td>\n      <td>1.799468e-02</td>\n    </tr>\n    <tr>\n      <th>S9</th>\n      <td>8.099749e-04</td>\n      <td>1.788307e-21</td>\n      <td>3.495019e-17</td>\n      <td>7.677003e-19</td>\n      <td>6.897932e-03</td>\n      <td>1.512175e-16</td>\n      <td>5.355590e-03</td>\n      <td>6.209345e-09</td>\n      <td>6.011417e-13</td>\n      <td>0.000000e+00</td>\n      <td>...</td>\n      <td>1.099698e-14</td>\n      <td>4.531251e-32</td>\n      <td>5.650670e-21</td>\n      <td>1.205700e-05</td>\n      <td>1.119018e-11</td>\n      <td>1.572470e-26</td>\n      <td>1.285520e-06</td>\n      <td>2.283642e-13</td>\n      <td>1.514199e-13</td>\n      <td>5.413937e-05</td>\n    </tr>\n    <tr>\n      <th>S10</th>\n      <td>1.150037e-06</td>\n      <td>2.270727e-08</td>\n      <td>3.873390e-03</td>\n      <td>2.498683e-01</td>\n      <td>5.495174e-57</td>\n      <td>4.258113e-06</td>\n      <td>8.454722e-10</td>\n      <td>2.445982e-10</td>\n      <td>9.478535e-20</td>\n      <td>3.054585e-05</td>\n      <td>...</td>\n      <td>2.315884e-02</td>\n      <td>5.732591e-05</td>\n      <td>5.737370e-13</td>\n      <td>2.074266e-02</td>\n      <td>5.132924e-01</td>\n      <td>7.341931e-03</td>\n      <td>2.152879e-02</td>\n      <td>2.368585e-02</td>\n      <td>6.738613e-01</td>\n      <td>1.760754e-23</td>\n    </tr>\n    <tr>\n      <th>S11</th>\n      <td>1.840168e-02</td>\n      <td>4.928098e-03</td>\n      <td>2.967501e-02</td>\n      <td>1.580448e-25</td>\n      <td>1.517671e-02</td>\n      <td>5.151387e-02</td>\n      <td>3.313346e-01</td>\n      <td>5.716285e-01</td>\n      <td>2.950416e-01</td>\n      <td>1.940780e-17</td>\n      <td>...</td>\n      <td>3.695845e-14</td>\n      <td>4.421869e-10</td>\n      <td>6.756323e-03</td>\n      <td>2.753894e-07</td>\n      <td>4.650774e-02</td>\n      <td>1.411982e-27</td>\n      <td>1.386242e-01</td>\n      <td>4.769876e-01</td>\n      <td>1.282894e-28</td>\n      <td>6.029687e-01</td>\n    </tr>\n    <tr>\n      <th>S12</th>\n      <td>1.961484e-03</td>\n      <td>2.855764e-02</td>\n      <td>5.708010e-05</td>\n      <td>4.872758e-05</td>\n      <td>5.006194e-29</td>\n      <td>6.640198e-01</td>\n      <td>4.499847e-08</td>\n      <td>3.557037e-01</td>\n      <td>5.098590e-04</td>\n      <td>1.339850e-07</td>\n      <td>...</td>\n      <td>6.931948e-17</td>\n      <td>1.365003e-01</td>\n      <td>5.450360e-01</td>\n      <td>5.608974e-01</td>\n      <td>1.996978e-04</td>\n      <td>9.125630e-19</td>\n      <td>3.584610e-01</td>\n      <td>3.624708e-02</td>\n      <td>3.770344e-05</td>\n      <td>6.926834e-08</td>\n    </tr>\n    <tr>\n      <th>S13</th>\n      <td>1.375756e-19</td>\n      <td>2.895888e-02</td>\n      <td>6.466496e-08</td>\n      <td>2.043827e-02</td>\n      <td>2.778868e-02</td>\n      <td>3.250794e-13</td>\n      <td>1.133431e-09</td>\n      <td>7.291726e-04</td>\n      <td>1.055799e-01</td>\n      <td>4.907212e-04</td>\n      <td>...</td>\n      <td>1.820136e-02</td>\n      <td>1.025004e-08</td>\n      <td>9.303181e-03</td>\n      <td>7.040398e-14</td>\n      <td>6.575663e-28</td>\n      <td>9.135506e-03</td>\n      <td>5.266054e-25</td>\n      <td>2.496013e-59</td>\n      <td>8.230177e-08</td>\n      <td>1.692814e-04</td>\n    </tr>\n    <tr>\n      <th>S14</th>\n      <td>1.237547e-01</td>\n      <td>7.157252e-05</td>\n      <td>6.839189e-01</td>\n      <td>5.111057e-04</td>\n      <td>2.057967e-07</td>\n      <td>2.709594e-03</td>\n      <td>3.337487e-06</td>\n      <td>2.233669e-02</td>\n      <td>6.886060e-30</td>\n      <td>1.937866e-02</td>\n      <td>...</td>\n      <td>9.821111e-01</td>\n      <td>4.349899e-02</td>\n      <td>1.859626e-04</td>\n      <td>9.928481e-05</td>\n      <td>3.389464e-02</td>\n      <td>9.164558e-03</td>\n      <td>3.425138e-19</td>\n      <td>8.825508e-04</td>\n      <td>6.371896e-06</td>\n      <td>1.683267e-03</td>\n    </tr>\n    <tr>\n      <th>S15</th>\n      <td>8.627087e-05</td>\n      <td>2.630836e-01</td>\n      <td>8.792997e-03</td>\n      <td>2.970629e-07</td>\n      <td>1.018063e-01</td>\n      <td>1.007698e-09</td>\n      <td>3.588441e-01</td>\n      <td>2.106644e-09</td>\n      <td>5.840538e-05</td>\n      <td>6.676448e-03</td>\n      <td>...</td>\n      <td>3.792353e-01</td>\n      <td>5.144959e-09</td>\n      <td>1.284012e-01</td>\n      <td>1.777092e-12</td>\n      <td>2.339799e-02</td>\n      <td>3.205608e-03</td>\n      <td>1.003981e-11</td>\n      <td>9.604087e-02</td>\n      <td>6.011389e-12</td>\n      <td>5.172766e-21</td>\n    </tr>\n    <tr>\n      <th>S16</th>\n      <td>5.935417e-01</td>\n      <td>5.159091e-05</td>\n      <td>1.722622e-01</td>\n      <td>5.689305e-45</td>\n      <td>2.704126e-02</td>\n      <td>1.883271e-05</td>\n      <td>2.062233e-01</td>\n      <td>6.480039e-01</td>\n      <td>1.378207e-03</td>\n      <td>3.205594e-26</td>\n      <td>...</td>\n      <td>6.960627e-16</td>\n      <td>6.880686e-21</td>\n      <td>8.362612e-06</td>\n      <td>4.864900e-16</td>\n      <td>1.603338e-01</td>\n      <td>2.902533e-24</td>\n      <td>1.636248e-01</td>\n      <td>8.092224e-01</td>\n      <td>1.694652e-58</td>\n      <td>7.803790e-04</td>\n    </tr>\n    <tr>\n      <th>S17</th>\n      <td>5.416797e-04</td>\n      <td>4.441783e-14</td>\n      <td>9.036478e-06</td>\n      <td>1.179979e-01</td>\n      <td>4.278526e-17</td>\n      <td>1.500197e-04</td>\n      <td>2.140485e-01</td>\n      <td>1.718672e-24</td>\n      <td>6.859078e-02</td>\n      <td>1.558811e-01</td>\n      <td>...</td>\n      <td>6.915551e-02</td>\n      <td>9.904866e-01</td>\n      <td>2.714325e-18</td>\n      <td>1.915698e-07</td>\n      <td>5.471508e-01</td>\n      <td>2.370704e-05</td>\n      <td>2.906795e-05</td>\n      <td>1.568590e-03</td>\n      <td>3.636144e-01</td>\n      <td>4.504455e-63</td>\n    </tr>\n    <tr>\n      <th>S18</th>\n      <td>9.923313e-08</td>\n      <td>1.632996e-03</td>\n      <td>5.993726e-21</td>\n      <td>8.221738e-07</td>\n      <td>1.431609e-08</td>\n      <td>3.682526e-07</td>\n      <td>2.483571e-02</td>\n      <td>2.929002e-11</td>\n      <td>5.737482e-02</td>\n      <td>9.423721e-04</td>\n      <td>...</td>\n      <td>7.897817e-01</td>\n      <td>3.456478e-01</td>\n      <td>4.206892e-02</td>\n      <td>1.551114e-05</td>\n      <td>1.135536e-17</td>\n      <td>1.139317e-01</td>\n      <td>3.304923e-08</td>\n      <td>2.597310e-15</td>\n      <td>7.376610e-11</td>\n      <td>2.806092e-01</td>\n    </tr>\n    <tr>\n      <th>S19</th>\n      <td>6.000508e-04</td>\n      <td>2.933041e-03</td>\n      <td>2.825625e-01</td>\n      <td>6.930946e-08</td>\n      <td>1.601641e-02</td>\n      <td>6.120825e-06</td>\n      <td>4.807821e-02</td>\n      <td>2.079896e-02</td>\n      <td>9.389344e-03</td>\n      <td>6.105561e-01</td>\n      <td>...</td>\n      <td>1.202121e-01</td>\n      <td>2.579597e-09</td>\n      <td>4.950923e-02</td>\n      <td>2.656882e-04</td>\n      <td>4.803391e-01</td>\n      <td>9.016998e-02</td>\n      <td>1.511597e-06</td>\n      <td>3.329127e-01</td>\n      <td>1.152979e-08</td>\n      <td>1.546130e-07</td>\n    </tr>\n    <tr>\n      <th>S20</th>\n      <td>1.020397e-04</td>\n      <td>9.485246e-08</td>\n      <td>2.890685e-05</td>\n      <td>9.493514e-01</td>\n      <td>1.986574e-08</td>\n      <td>8.652598e-03</td>\n      <td>8.199269e-06</td>\n      <td>2.602509e-01</td>\n      <td>8.444176e-02</td>\n      <td>4.657085e-06</td>\n      <td>...</td>\n      <td>1.500316e-11</td>\n      <td>2.412445e-02</td>\n      <td>2.112080e-05</td>\n      <td>1.957966e-01</td>\n      <td>2.905841e-01</td>\n      <td>8.814180e-05</td>\n      <td>2.042255e-03</td>\n      <td>2.315055e-01</td>\n      <td>5.862145e-01</td>\n      <td>6.786382e-06</td>\n    </tr>\n    <tr>\n      <th>S21</th>\n      <td>3.368161e-01</td>\n      <td>2.510194e-57</td>\n      <td>4.620045e-13</td>\n      <td>1.237388e-01</td>\n      <td>7.092823e-05</td>\n      <td>1.095743e-01</td>\n      <td>1.582163e-02</td>\n      <td>1.690780e-09</td>\n      <td>9.046069e-13</td>\n      <td>1.244377e-21</td>\n      <td>...</td>\n      <td>1.874116e-08</td>\n      <td>6.266723e-01</td>\n      <td>6.242839e-55</td>\n      <td>5.342122e-05</td>\n      <td>5.571336e-01</td>\n      <td>9.892281e-03</td>\n      <td>1.629480e-02</td>\n      <td>5.128708e-01</td>\n      <td>1.819603e-01</td>\n      <td>7.065623e-09</td>\n    </tr>\n    <tr>\n      <th>S22</th>\n      <td>5.168157e-31</td>\n      <td>8.449989e-01</td>\n      <td>9.177098e-15</td>\n      <td>3.629132e-09</td>\n      <td>6.049374e-01</td>\n      <td>1.503964e-16</td>\n      <td>5.162506e-06</td>\n      <td>1.030930e-14</td>\n      <td>2.933194e-01</td>\n      <td>2.434947e-02</td>\n      <td>...</td>\n      <td>2.286607e-05</td>\n      <td>2.738208e-04</td>\n      <td>9.093611e-01</td>\n      <td>6.725204e-12</td>\n      <td>4.579301e-25</td>\n      <td>6.060175e-01</td>\n      <td>2.943782e-17</td>\n      <td>6.921082e-43</td>\n      <td>1.244135e-20</td>\n      <td>7.242692e-01</td>\n    </tr>\n    <tr>\n      <th>S23</th>\n      <td>7.373911e-01</td>\n      <td>2.656876e-01</td>\n      <td>6.123075e-01</td>\n      <td>3.864498e-10</td>\n      <td>8.567764e-01</td>\n      <td>6.293259e-03</td>\n      <td>1.017513e-02</td>\n      <td>7.394577e-02</td>\n      <td>2.555878e-08</td>\n      <td>7.607005e-01</td>\n      <td>...</td>\n      <td>2.739332e-01</td>\n      <td>9.683429e-04</td>\n      <td>3.071000e-01</td>\n      <td>1.239053e-12</td>\n      <td>5.980560e-01</td>\n      <td>1.823964e-02</td>\n      <td>6.372764e-17</td>\n      <td>7.110312e-07</td>\n      <td>2.277813e-17</td>\n      <td>8.270319e-09</td>\n    </tr>\n    <tr>\n      <th>S24</th>\n      <td>4.600213e-02</td>\n      <td>7.115089e-27</td>\n      <td>1.481830e-22</td>\n      <td>4.296515e-08</td>\n      <td>6.614627e-01</td>\n      <td>6.353740e-09</td>\n      <td>5.199266e-01</td>\n      <td>6.811563e-11</td>\n      <td>2.833073e-05</td>\n      <td>4.096957e-51</td>\n      <td>...</td>\n      <td>4.612188e-14</td>\n      <td>8.801233e-11</td>\n      <td>6.241168e-22</td>\n      <td>2.749868e-04</td>\n      <td>7.234730e-10</td>\n      <td>4.396827e-17</td>\n      <td>3.954096e-04</td>\n      <td>5.299715e-08</td>\n      <td>1.118743e-05</td>\n      <td>1.388580e-03</td>\n    </tr>\n    <tr>\n      <th>S25</th>\n      <td>2.797269e-37</td>\n      <td>2.240284e-12</td>\n      <td>5.264787e-04</td>\n      <td>3.366196e-01</td>\n      <td>6.841619e-04</td>\n      <td>4.751820e-27</td>\n      <td>2.831480e-08</td>\n      <td>5.861135e-06</td>\n      <td>2.159505e-06</td>\n      <td>4.180011e-01</td>\n      <td>...</td>\n      <td>2.805186e-05</td>\n      <td>8.565427e-20</td>\n      <td>1.481318e-13</td>\n      <td>2.009340e-04</td>\n      <td>1.132050e-29</td>\n      <td>1.146955e-04</td>\n      <td>3.460636e-03</td>\n      <td>1.582230e-29</td>\n      <td>3.249512e-01</td>\n      <td>6.048219e-01</td>\n    </tr>\n    <tr>\n      <th>S26</th>\n      <td>5.642541e-26</td>\n      <td>1.130582e-01</td>\n      <td>1.599122e-07</td>\n      <td>3.069301e-09</td>\n      <td>9.549052e-01</td>\n      <td>1.994688e-11</td>\n      <td>1.019102e-09</td>\n      <td>3.337488e-06</td>\n      <td>2.584016e-02</td>\n      <td>2.241151e-01</td>\n      <td>...</td>\n      <td>4.483913e-07</td>\n      <td>1.267674e-03</td>\n      <td>7.481771e-02</td>\n      <td>5.225099e-17</td>\n      <td>4.391360e-19</td>\n      <td>2.910903e-01</td>\n      <td>2.156563e-23</td>\n      <td>2.262526e-42</td>\n      <td>2.871453e-21</td>\n      <td>8.687580e-02</td>\n    </tr>\n    <tr>\n      <th>S27</th>\n      <td>3.400882e-22</td>\n      <td>4.243092e-02</td>\n      <td>1.034284e-07</td>\n      <td>6.963783e-04</td>\n      <td>1.736924e-01</td>\n      <td>3.785840e-29</td>\n      <td>2.171639e-13</td>\n      <td>1.843980e-04</td>\n      <td>6.912292e-02</td>\n      <td>2.056963e-14</td>\n      <td>...</td>\n      <td>8.257286e-01</td>\n      <td>5.218786e-35</td>\n      <td>8.470060e-02</td>\n      <td>3.895854e-04</td>\n      <td>1.610823e-34</td>\n      <td>2.254607e-13</td>\n      <td>5.391003e-16</td>\n      <td>4.091653e-56</td>\n      <td>5.212813e-01</td>\n      <td>5.516566e-02</td>\n    </tr>\n    <tr>\n      <th>S28</th>\n      <td>2.628812e-06</td>\n      <td>6.672907e-05</td>\n      <td>9.910786e-01</td>\n      <td>3.270470e-01</td>\n      <td>4.043663e-01</td>\n      <td>4.192448e-03</td>\n      <td>2.067608e-14</td>\n      <td>3.135147e-02</td>\n      <td>1.494860e-04</td>\n      <td>7.993903e-02</td>\n      <td>...</td>\n      <td>4.313934e-02</td>\n      <td>4.959353e-05</td>\n      <td>1.524659e-06</td>\n      <td>8.087039e-14</td>\n      <td>7.107057e-07</td>\n      <td>1.095712e-01</td>\n      <td>4.433747e-24</td>\n      <td>9.446131e-28</td>\n      <td>9.211577e-04</td>\n      <td>5.366140e-12</td>\n    </tr>\n    <tr>\n      <th>S29</th>\n      <td>1.143440e-26</td>\n      <td>6.785594e-07</td>\n      <td>1.885723e-03</td>\n      <td>7.376797e-05</td>\n      <td>4.905169e-01</td>\n      <td>1.826894e-30</td>\n      <td>1.239780e-12</td>\n      <td>9.604320e-06</td>\n      <td>3.020534e-02</td>\n      <td>1.103943e-04</td>\n      <td>...</td>\n      <td>4.485392e-02</td>\n      <td>3.106575e-37</td>\n      <td>1.516647e-06</td>\n      <td>1.518823e-01</td>\n      <td>2.539969e-25</td>\n      <td>1.579434e-08</td>\n      <td>1.195135e-02</td>\n      <td>9.172430e-27</td>\n      <td>6.834690e-03</td>\n      <td>2.273396e-01</td>\n    </tr>\n    <tr>\n      <th>S30</th>\n      <td>1.077648e-05</td>\n      <td>4.282964e-21</td>\n      <td>3.467038e-11</td>\n      <td>2.511050e-01</td>\n      <td>9.005095e-13</td>\n      <td>6.800953e-07</td>\n      <td>5.068089e-04</td>\n      <td>1.672128e-13</td>\n      <td>2.723968e-17</td>\n      <td>1.542356e-16</td>\n      <td>...</td>\n      <td>3.287847e-01</td>\n      <td>3.938443e-04</td>\n      <td>1.308712e-23</td>\n      <td>4.099296e-01</td>\n      <td>9.606451e-04</td>\n      <td>4.507429e-01</td>\n      <td>1.600235e-07</td>\n      <td>7.155660e-08</td>\n      <td>7.548473e-02</td>\n      <td>1.826421e-09</td>\n    </tr>\n    <tr>\n      <th>S31</th>\n      <td>2.378245e-06</td>\n      <td>5.149032e-08</td>\n      <td>9.360399e-02</td>\n      <td>3.088939e-17</td>\n      <td>6.439837e-02</td>\n      <td>6.312449e-11</td>\n      <td>1.026181e-14</td>\n      <td>4.600788e-01</td>\n      <td>7.388987e-01</td>\n      <td>6.657755e-04</td>\n      <td>...</td>\n      <td>8.409160e-01</td>\n      <td>4.731843e-31</td>\n      <td>1.131645e-06</td>\n      <td>5.096116e-01</td>\n      <td>5.857273e-05</td>\n      <td>8.261747e-10</td>\n      <td>3.616822e-01</td>\n      <td>3.290098e-07</td>\n      <td>2.447455e-13</td>\n      <td>9.833680e-01</td>\n    </tr>\n    <tr>\n      <th>S32</th>\n      <td>2.258059e-01</td>\n      <td>9.504281e-03</td>\n      <td>1.257205e-09</td>\n      <td>5.005246e-02</td>\n      <td>7.241728e-26</td>\n      <td>7.208389e-01</td>\n      <td>4.438009e-10</td>\n      <td>3.421648e-01</td>\n      <td>5.057846e-04</td>\n      <td>1.022771e-02</td>\n      <td>...</td>\n      <td>4.678533e-05</td>\n      <td>2.401822e-02</td>\n      <td>2.300649e-01</td>\n      <td>1.398595e-02</td>\n      <td>7.943691e-05</td>\n      <td>9.966802e-05</td>\n      <td>1.727125e-02</td>\n      <td>7.265478e-03</td>\n      <td>8.993168e-03</td>\n      <td>2.844592e-07</td>\n    </tr>\n    <tr>\n      <th>S33</th>\n      <td>1.242059e-02</td>\n      <td>3.210897e-07</td>\n      <td>5.645290e-04</td>\n      <td>1.504075e-23</td>\n      <td>5.055821e-03</td>\n      <td>6.067773e-06</td>\n      <td>7.811752e-12</td>\n      <td>2.077310e-02</td>\n      <td>4.161142e-01</td>\n      <td>3.519092e-03</td>\n      <td>...</td>\n      <td>5.494449e-01</td>\n      <td>3.117922e-24</td>\n      <td>9.552063e-06</td>\n      <td>1.404770e-02</td>\n      <td>1.461830e-01</td>\n      <td>2.337480e-07</td>\n      <td>8.302502e-01</td>\n      <td>1.145396e-02</td>\n      <td>1.305159e-21</td>\n      <td>9.253276e-01</td>\n    </tr>\n    <tr>\n      <th>S34</th>\n      <td>1.663358e-02</td>\n      <td>2.249154e-16</td>\n      <td>6.882746e-02</td>\n      <td>4.709340e-01</td>\n      <td>8.375642e-66</td>\n      <td>1.437525e-02</td>\n      <td>2.336665e-07</td>\n      <td>5.454218e-06</td>\n      <td>4.810542e-35</td>\n      <td>1.510116e-07</td>\n      <td>...</td>\n      <td>8.458696e-01</td>\n      <td>5.084655e-03</td>\n      <td>2.148930e-23</td>\n      <td>5.879615e-04</td>\n      <td>4.349295e-02</td>\n      <td>1.105885e-02</td>\n      <td>1.758442e-02</td>\n      <td>6.528111e-01</td>\n      <td>6.145084e-01</td>\n      <td>5.140706e-21</td>\n    </tr>\n    <tr>\n      <th>S35</th>\n      <td>2.382647e-01</td>\n      <td>6.512593e-30</td>\n      <td>6.813783e-17</td>\n      <td>4.660360e-04</td>\n      <td>2.985293e-01</td>\n      <td>9.414085e-01</td>\n      <td>1.428589e-05</td>\n      <td>2.824509e-07</td>\n      <td>1.223322e-03</td>\n      <td>5.592512e-07</td>\n      <td>...</td>\n      <td>1.853454e-05</td>\n      <td>1.604207e-03</td>\n      <td>1.636851e-22</td>\n      <td>6.465249e-01</td>\n      <td>8.339834e-02</td>\n      <td>7.227157e-01</td>\n      <td>2.295467e-04</td>\n      <td>2.519762e-01</td>\n      <td>1.693600e-04</td>\n      <td>3.157869e-02</td>\n    </tr>\n    <tr>\n      <th>S36</th>\n      <td>5.502199e-05</td>\n      <td>5.712437e-01</td>\n      <td>1.350921e-01</td>\n      <td>1.200754e-09</td>\n      <td>8.248754e-41</td>\n      <td>4.921666e-01</td>\n      <td>3.327149e-08</td>\n      <td>9.349553e-04</td>\n      <td>1.532804e-08</td>\n      <td>1.340468e-04</td>\n      <td>...</td>\n      <td>9.136585e-16</td>\n      <td>4.733367e-02</td>\n      <td>4.554095e-02</td>\n      <td>7.537010e-02</td>\n      <td>3.353664e-03</td>\n      <td>1.054231e-25</td>\n      <td>2.196968e-01</td>\n      <td>7.211747e-01</td>\n      <td>2.384304e-11</td>\n      <td>9.888186e-12</td>\n    </tr>\n    <tr>\n      <th>S37</th>\n      <td>9.642661e-01</td>\n      <td>7.603096e-03</td>\n      <td>2.572100e-05</td>\n      <td>6.516571e-10</td>\n      <td>1.108373e-06</td>\n      <td>1.243143e-01</td>\n      <td>1.759043e-01</td>\n      <td>9.957503e-01</td>\n      <td>5.783304e-02</td>\n      <td>1.685045e-01</td>\n      <td>...</td>\n      <td>3.363604e-01</td>\n      <td>6.111397e-04</td>\n      <td>1.340457e-01</td>\n      <td>1.555549e-09</td>\n      <td>1.710602e-03</td>\n      <td>9.263277e-01</td>\n      <td>5.166590e-14</td>\n      <td>5.603624e-07</td>\n      <td>3.764565e-15</td>\n      <td>1.060678e-09</td>\n    </tr>\n    <tr>\n      <th>S38</th>\n      <td>7.491771e-14</td>\n      <td>8.768943e-18</td>\n      <td>1.490670e-01</td>\n      <td>2.276072e-01</td>\n      <td>4.233615e-01</td>\n      <td>4.740565e-08</td>\n      <td>3.590920e-07</td>\n      <td>5.875596e-03</td>\n      <td>1.942885e-07</td>\n      <td>2.933538e-06</td>\n      <td>...</td>\n      <td>7.089798e-11</td>\n      <td>1.957460e-04</td>\n      <td>1.162478e-15</td>\n      <td>4.441770e-03</td>\n      <td>7.362484e-04</td>\n      <td>2.605404e-02</td>\n      <td>7.856193e-02</td>\n      <td>7.735868e-04</td>\n      <td>1.313603e-01</td>\n      <td>1.875039e-02</td>\n    </tr>\n    <tr>\n      <th>S39</th>\n      <td>9.747586e-20</td>\n      <td>3.237833e-08</td>\n      <td>1.252279e-09</td>\n      <td>3.170496e-02</td>\n      <td>1.049892e-29</td>\n      <td>2.342740e-14</td>\n      <td>4.885727e-10</td>\n      <td>4.073424e-25</td>\n      <td>1.272256e-11</td>\n      <td>2.283354e-05</td>\n      <td>...</td>\n      <td>7.974061e-04</td>\n      <td>3.885706e-05</td>\n      <td>1.563331e-12</td>\n      <td>9.204971e-01</td>\n      <td>7.590578e-05</td>\n      <td>5.814010e-03</td>\n      <td>1.435716e-04</td>\n      <td>8.305982e-08</td>\n      <td>1.749392e-04</td>\n      <td>8.739305e-27</td>\n    </tr>\n    <tr>\n      <th>S40</th>\n      <td>6.326359e-05</td>\n      <td>3.166815e-09</td>\n      <td>1.095916e-03</td>\n      <td>1.401808e-13</td>\n      <td>4.030609e-02</td>\n      <td>7.894495e-01</td>\n      <td>1.740800e-03</td>\n      <td>2.162842e-01</td>\n      <td>2.714541e-02</td>\n      <td>1.099698e-14</td>\n      <td>...</td>\n      <td>0.000000e+00</td>\n      <td>2.633614e-03</td>\n      <td>2.689289e-07</td>\n      <td>1.856472e-05</td>\n      <td>8.098025e-01</td>\n      <td>1.034925e-14</td>\n      <td>8.085450e-01</td>\n      <td>4.582343e-01</td>\n      <td>3.661972e-16</td>\n      <td>7.231426e-01</td>\n    </tr>\n    <tr>\n      <th>S41</th>\n      <td>6.000231e-19</td>\n      <td>4.436443e-01</td>\n      <td>1.670505e-08</td>\n      <td>4.243211e-21</td>\n      <td>1.347481e-01</td>\n      <td>3.798242e-39</td>\n      <td>1.145998e-10</td>\n      <td>1.170013e-07</td>\n      <td>1.938683e-02</td>\n      <td>4.531251e-32</td>\n      <td>...</td>\n      <td>2.633614e-03</td>\n      <td>0.000000e+00</td>\n      <td>2.863229e-01</td>\n      <td>3.992451e-02</td>\n      <td>9.536993e-24</td>\n      <td>6.814614e-26</td>\n      <td>6.517140e-05</td>\n      <td>7.457251e-27</td>\n      <td>1.783079e-13</td>\n      <td>2.374032e-03</td>\n    </tr>\n    <tr>\n      <th>S42</th>\n      <td>4.844821e-01</td>\n      <td>4.887783e-72</td>\n      <td>2.231112e-10</td>\n      <td>7.252940e-02</td>\n      <td>2.820491e-13</td>\n      <td>7.002991e-02</td>\n      <td>1.052265e-01</td>\n      <td>3.187122e-11</td>\n      <td>1.982139e-16</td>\n      <td>5.650670e-21</td>\n      <td>...</td>\n      <td>2.689289e-07</td>\n      <td>2.863229e-01</td>\n      <td>0.000000e+00</td>\n      <td>4.026513e-08</td>\n      <td>8.045156e-01</td>\n      <td>2.321224e-01</td>\n      <td>1.798055e-01</td>\n      <td>3.819350e-01</td>\n      <td>8.349948e-02</td>\n      <td>1.507128e-19</td>\n    </tr>\n    <tr>\n      <th>S43</th>\n      <td>1.154155e-02</td>\n      <td>1.873542e-08</td>\n      <td>6.637734e-01</td>\n      <td>2.181771e-11</td>\n      <td>2.020219e-02</td>\n      <td>7.491864e-01</td>\n      <td>3.406830e-02</td>\n      <td>6.320957e-02</td>\n      <td>2.160212e-01</td>\n      <td>1.205700e-05</td>\n      <td>...</td>\n      <td>1.856472e-05</td>\n      <td>3.992451e-02</td>\n      <td>4.026513e-08</td>\n      <td>0.000000e+00</td>\n      <td>2.416752e-02</td>\n      <td>1.490777e-04</td>\n      <td>1.264971e-04</td>\n      <td>1.287039e-05</td>\n      <td>2.825371e-14</td>\n      <td>2.499009e-09</td>\n    </tr>\n    <tr>\n      <th>S44</th>\n      <td>5.802815e-28</td>\n      <td>8.682299e-01</td>\n      <td>7.746037e-21</td>\n      <td>4.448186e-02</td>\n      <td>1.197269e-04</td>\n      <td>1.485361e-40</td>\n      <td>9.040022e-04</td>\n      <td>1.830249e-16</td>\n      <td>2.515731e-02</td>\n      <td>1.119018e-11</td>\n      <td>...</td>\n      <td>8.098025e-01</td>\n      <td>9.536993e-24</td>\n      <td>8.045156e-01</td>\n      <td>2.416752e-02</td>\n      <td>0.000000e+00</td>\n      <td>6.999457e-12</td>\n      <td>4.664076e-07</td>\n      <td>4.269949e-40</td>\n      <td>8.978126e-01</td>\n      <td>2.449062e-01</td>\n    </tr>\n    <tr>\n      <th>S45</th>\n      <td>1.548490e-01</td>\n      <td>8.264852e-02</td>\n      <td>8.234854e-06</td>\n      <td>1.349309e-27</td>\n      <td>6.227429e-06</td>\n      <td>2.502140e-09</td>\n      <td>5.595544e-01</td>\n      <td>3.224547e-01</td>\n      <td>9.372844e-01</td>\n      <td>1.572470e-26</td>\n      <td>...</td>\n      <td>1.034925e-14</td>\n      <td>6.814614e-26</td>\n      <td>2.321224e-01</td>\n      <td>1.490777e-04</td>\n      <td>6.999457e-12</td>\n      <td>0.000000e+00</td>\n      <td>1.398256e-01</td>\n      <td>1.203281e-08</td>\n      <td>3.808486e-23</td>\n      <td>9.072620e-02</td>\n    </tr>\n    <tr>\n      <th>S46</th>\n      <td>7.176351e-06</td>\n      <td>7.426724e-02</td>\n      <td>8.562186e-04</td>\n      <td>6.064659e-01</td>\n      <td>9.302231e-02</td>\n      <td>1.429655e-04</td>\n      <td>1.097007e-12</td>\n      <td>4.915005e-01</td>\n      <td>9.162222e-12</td>\n      <td>1.285520e-06</td>\n      <td>...</td>\n      <td>8.085450e-01</td>\n      <td>6.517140e-05</td>\n      <td>1.798055e-01</td>\n      <td>1.264971e-04</td>\n      <td>4.664076e-07</td>\n      <td>1.398256e-01</td>\n      <td>0.000000e+00</td>\n      <td>1.576407e-21</td>\n      <td>3.100833e-03</td>\n      <td>1.318211e-03</td>\n    </tr>\n    <tr>\n      <th>S47</th>\n      <td>7.160585e-30</td>\n      <td>6.145045e-01</td>\n      <td>4.253203e-13</td>\n      <td>2.831510e-01</td>\n      <td>4.125794e-01</td>\n      <td>2.043155e-30</td>\n      <td>1.605638e-16</td>\n      <td>8.010781e-09</td>\n      <td>1.382733e-02</td>\n      <td>2.283642e-13</td>\n      <td>...</td>\n      <td>4.582343e-01</td>\n      <td>7.457251e-27</td>\n      <td>3.819350e-01</td>\n      <td>1.287039e-05</td>\n      <td>4.269949e-40</td>\n      <td>1.203281e-08</td>\n      <td>1.576407e-21</td>\n      <td>0.000000e+00</td>\n      <td>8.716641e-02</td>\n      <td>3.791176e-01</td>\n    </tr>\n    <tr>\n      <th>S48</th>\n      <td>3.877271e-03</td>\n      <td>4.756671e-02</td>\n      <td>6.134071e-01</td>\n      <td>1.965822e-50</td>\n      <td>7.818458e-01</td>\n      <td>1.233339e-01</td>\n      <td>9.153896e-01</td>\n      <td>3.552980e-02</td>\n      <td>3.078379e-01</td>\n      <td>1.514199e-13</td>\n      <td>...</td>\n      <td>3.661972e-16</td>\n      <td>1.783079e-13</td>\n      <td>8.349948e-02</td>\n      <td>2.825371e-14</td>\n      <td>8.978126e-01</td>\n      <td>3.808486e-23</td>\n      <td>3.100833e-03</td>\n      <td>8.716641e-02</td>\n      <td>0.000000e+00</td>\n      <td>2.709999e-01</td>\n    </tr>\n    <tr>\n      <th>S49</th>\n      <td>6.290137e-07</td>\n      <td>1.507302e-14</td>\n      <td>2.453163e-09</td>\n      <td>5.229912e-01</td>\n      <td>1.557150e-17</td>\n      <td>6.710220e-10</td>\n      <td>8.755331e-01</td>\n      <td>3.370424e-30</td>\n      <td>1.799468e-02</td>\n      <td>5.413937e-05</td>\n      <td>...</td>\n      <td>7.231426e-01</td>\n      <td>2.374032e-03</td>\n      <td>1.507128e-19</td>\n      <td>2.499009e-09</td>\n      <td>2.449062e-01</td>\n      <td>9.072620e-02</td>\n      <td>1.318211e-03</td>\n      <td>3.791176e-01</td>\n      <td>2.709999e-01</td>\n      <td>0.000000e+00</td>\n    </tr>\n  </tbody>\n</table>\n<p>50 rows × 50 columns</p>\n</div>"
     },
     "execution_count": 19,
     "metadata": {},
     "output_type": "execute_result"
    }
   ],
   "source": [
    "pval"
   ],
   "metadata": {
    "collapsed": false,
    "pycharm": {
     "name": "#%%\n"
    }
   }
  },
  {
   "cell_type": "code",
   "execution_count": 20,
   "outputs": [],
   "source": [
    "#pval_long_format = pval.stack().reset_index().rename(columns={'level_0':'Feature_1','level_1':'Feature_2', 0:'P_value'})\n",
    "#pval_long_format"
   ],
   "metadata": {
    "collapsed": false,
    "pycharm": {
     "name": "#%%\n"
    }
   }
  },
  {
   "cell_type": "code",
   "execution_count": 21,
   "outputs": [],
   "source": [
    "#result = pd.concat([pval_long_format, rho_long_format[\"Correlation\"]], axis=1)"
   ],
   "metadata": {
    "collapsed": false,
    "pycharm": {
     "name": "#%%\n"
    }
   }
  },
  {
   "cell_type": "code",
   "execution_count": 22,
   "outputs": [],
   "source": [
    "within_X = results[results[\"Feature_1\"].isin(dataX.index) ]\n",
    "within_X = within_X[within_X[\"Feature_2\"].isin(dataX.index) ]\n",
    "within_X = within_X[within_X[\"Feature_1\"] != within_X[\"Feature_2\"]]"
   ],
   "metadata": {
    "collapsed": false,
    "pycharm": {
     "name": "#%%\n"
    }
   }
  },
  {
   "cell_type": "code",
   "execution_count": 23,
   "outputs": [
    {
     "data": {
      "text/plain": "      Feature_1 Feature_2          pval  Correlation Not_NAs\n1            X0        X1  1.511519e-19     0.909559     nan\n2            X0        X2  6.554862e-20     0.909350     nan\n3            X0        X3  8.315076e-23     0.932087     nan\n4            X0        X4  2.588865e-22     0.931758     nan\n5            X0        X5  3.526796e-23     0.934547     nan\n...         ...       ...           ...          ...     ...\n19894       X99       X94  1.325589e-22     0.930709     nan\n19895       X99       X95  1.238855e-24     0.943307     nan\n19896       X99       X96  6.324625e-21     0.918110     nan\n19897       X99       X97  6.324625e-21     0.918110     nan\n19898       X99       X98  1.696742e-19     0.905512     nan\n\n[9900 rows x 5 columns]",
      "text/html": "<div>\n<style scoped>\n    .dataframe tbody tr th:only-of-type {\n        vertical-align: middle;\n    }\n\n    .dataframe tbody tr th {\n        vertical-align: top;\n    }\n\n    .dataframe thead th {\n        text-align: right;\n    }\n</style>\n<table border=\"1\" class=\"dataframe\">\n  <thead>\n    <tr style=\"text-align: right;\">\n      <th></th>\n      <th>Feature_1</th>\n      <th>Feature_2</th>\n      <th>pval</th>\n      <th>Correlation</th>\n      <th>Not_NAs</th>\n    </tr>\n  </thead>\n  <tbody>\n    <tr>\n      <th>1</th>\n      <td>X0</td>\n      <td>X1</td>\n      <td>1.511519e-19</td>\n      <td>0.909559</td>\n      <td>nan</td>\n    </tr>\n    <tr>\n      <th>2</th>\n      <td>X0</td>\n      <td>X2</td>\n      <td>6.554862e-20</td>\n      <td>0.909350</td>\n      <td>nan</td>\n    </tr>\n    <tr>\n      <th>3</th>\n      <td>X0</td>\n      <td>X3</td>\n      <td>8.315076e-23</td>\n      <td>0.932087</td>\n      <td>nan</td>\n    </tr>\n    <tr>\n      <th>4</th>\n      <td>X0</td>\n      <td>X4</td>\n      <td>2.588865e-22</td>\n      <td>0.931758</td>\n      <td>nan</td>\n    </tr>\n    <tr>\n      <th>5</th>\n      <td>X0</td>\n      <td>X5</td>\n      <td>3.526796e-23</td>\n      <td>0.934547</td>\n      <td>nan</td>\n    </tr>\n    <tr>\n      <th>...</th>\n      <td>...</td>\n      <td>...</td>\n      <td>...</td>\n      <td>...</td>\n      <td>...</td>\n    </tr>\n    <tr>\n      <th>19894</th>\n      <td>X99</td>\n      <td>X94</td>\n      <td>1.325589e-22</td>\n      <td>0.930709</td>\n      <td>nan</td>\n    </tr>\n    <tr>\n      <th>19895</th>\n      <td>X99</td>\n      <td>X95</td>\n      <td>1.238855e-24</td>\n      <td>0.943307</td>\n      <td>nan</td>\n    </tr>\n    <tr>\n      <th>19896</th>\n      <td>X99</td>\n      <td>X96</td>\n      <td>6.324625e-21</td>\n      <td>0.918110</td>\n      <td>nan</td>\n    </tr>\n    <tr>\n      <th>19897</th>\n      <td>X99</td>\n      <td>X97</td>\n      <td>6.324625e-21</td>\n      <td>0.918110</td>\n      <td>nan</td>\n    </tr>\n    <tr>\n      <th>19898</th>\n      <td>X99</td>\n      <td>X98</td>\n      <td>1.696742e-19</td>\n      <td>0.905512</td>\n      <td>nan</td>\n    </tr>\n  </tbody>\n</table>\n<p>9900 rows × 5 columns</p>\n</div>"
     },
     "execution_count": 23,
     "metadata": {},
     "output_type": "execute_result"
    }
   ],
   "source": [
    "within_X"
   ],
   "metadata": {
    "collapsed": false,
    "pycharm": {
     "name": "#%%\n"
    }
   }
  },
  {
   "cell_type": "code",
   "execution_count": 24,
   "outputs": [],
   "source": [
    "within_Y = results[results[\"Feature_1\"].isin(dataY.index)]\n",
    "within_Y = within_Y[within_Y[\"Feature_2\"].isin(dataY.index)]\n",
    "within_Y = within_Y[within_Y[\"Feature_1\"] != within_Y[\"Feature_2\"]]"
   ],
   "metadata": {
    "collapsed": false,
    "pycharm": {
     "name": "#%%\n"
    }
   }
  },
  {
   "cell_type": "code",
   "execution_count": 25,
   "outputs": [],
   "source": [
    "X_Y = results[results[\"Feature_1\"].isin(dataX.index) ]\n",
    "X_Y = X_Y[X_Y[\"Feature_2\"].isin(dataY.index) ]"
   ],
   "metadata": {
    "collapsed": false,
    "pycharm": {
     "name": "#%%\n"
    }
   }
  },
  {
   "cell_type": "code",
   "execution_count": 26,
   "outputs": [],
   "source": [
    "rho_X_Y = pd.pivot(X_Y, index=\"Feature_1\", columns = \"Feature_2\",values = 'Correlation') #Reshape from long to wide\n",
    "rho_X = pd.pivot(within_X, index=\"Feature_1\", columns = \"Feature_2\",values = 'Correlation') #Reshape from long to wide\n",
    "rho_Y = pd.pivot(within_Y, index=\"Feature_1\", columns = \"Feature_2\",values = 'Correlation') #Reshape from long to wide"
   ],
   "metadata": {
    "collapsed": false,
    "pycharm": {
     "name": "#%%\n"
    }
   }
  },
  {
   "cell_type": "code",
   "execution_count": 27,
   "outputs": [
    {
     "data": {
      "text/plain": "Feature_2        Y0        Y1       Y10       Y11       Y12       Y13  \\\nFeature_1                                                               \nX0        -0.064777 -0.028155 -0.032880  0.028549 -0.008071 -0.045866   \nX1        -0.166641 -0.132381 -0.074402  0.001543 -0.091251 -0.115725   \nX10       -0.093670 -0.071618 -0.065859 -0.001920 -0.071850 -0.086811   \nX11       -0.140136 -0.079888 -0.078559 -0.010189 -0.053740 -0.104134   \nX12       -0.089048 -0.067877 -0.021654  0.049724 -0.054123 -0.058359   \n...             ...       ...       ...       ...       ...       ...   \nX95       -0.082004 -0.055867 -0.035145 -0.088551 -0.134843  0.049409   \nX96        0.004627  0.018557  0.032979 -0.033816 -0.034055  0.112402   \nX97       -0.010730 -0.033422  0.025103 -0.060199 -0.080512  0.097441   \nX98        0.015259  0.048484  0.060543 -0.003889 -0.017520  0.135236   \nX99        0.017622  0.019344  0.019984 -0.007039 -0.027756  0.118701   \n\nFeature_2       Y14       Y15       Y16       Y17  ...       Y90       Y91  \\\nFeature_1                                          ...                       \nX0        -0.010041  0.013192  0.002166  0.034849  ...  0.005956 -0.081299   \nX1        -0.077985 -0.059914 -0.071081 -0.019379  ...  0.127439  0.014537   \nX10       -0.020427  0.004922 -0.028303 -0.002313  ...  0.104007  0.000591   \nX11       -0.060986 -0.038000 -0.068862  0.015407  ...  0.022642 -0.068701   \nX12       -0.035259  0.002249 -0.028186  0.035913  ...  0.007453 -0.107201   \n...             ...       ...       ...       ...  ...       ...       ...   \nX95       -0.119659 -0.095245 -0.055621 -0.171097  ...  0.240992  0.174803   \nX96       -0.051536  0.010681  0.031404 -0.096673  ...  0.208703  0.162205   \nX97       -0.084613 -0.035785 -0.007580 -0.142351  ...  0.214609  0.118110   \nX98       -0.015308  0.026432  0.035735 -0.079740  ...  0.222485  0.155906   \nX99       -0.031453  0.003987  0.019590 -0.095885  ...  0.208703  0.155906   \n\nFeature_2       Y92       Y93       Y94       Y95       Y96       Y97  \\\nFeature_1                                                               \nX0        -0.072638 -0.075015 -0.124385 -0.060199 -0.068701 -0.081299   \nX1         0.040030  0.042889 -0.020316  0.069628 -0.008864  0.035455   \nX10        0.004528  0.008712 -0.042331  0.028155 -0.024606 -0.009646   \nX11       -0.056102 -0.057836 -0.101792 -0.042479 -0.068701 -0.077362   \nX12       -0.089578 -0.096815 -0.148073 -0.073749 -0.113476 -0.104534   \n...             ...       ...       ...       ...       ...       ...   \nX95        0.262992  0.215397  0.207915  0.164206  0.237795  0.181102   \nX96        0.237795  0.185470  0.201614  0.109077  0.218898  0.155906   \nX97        0.218898  0.183894  0.189407  0.151998  0.187402  0.137008   \nX98        0.231496  0.173656  0.195314  0.114589  0.212598  0.149606   \nX99        0.218898  0.165781  0.164599  0.132703  0.206299  0.143307   \n\nFeature_2       Y98       Y99  \nFeature_1                      \nX0        -0.072638 -0.101004  \nX1         0.033337  0.002354  \nX10        0.010827 -0.020033  \nX11       -0.062402 -0.102185  \nX12       -0.108037 -0.137505  \n...             ...       ...  \nX95        0.225197  0.154361  \nX96        0.231496  0.140973  \nX97        0.193701  0.109470  \nX98        0.200000  0.128372  \nX99        0.200000  0.153967  \n\n[100 rows x 100 columns]",
      "text/html": "<div>\n<style scoped>\n    .dataframe tbody tr th:only-of-type {\n        vertical-align: middle;\n    }\n\n    .dataframe tbody tr th {\n        vertical-align: top;\n    }\n\n    .dataframe thead th {\n        text-align: right;\n    }\n</style>\n<table border=\"1\" class=\"dataframe\">\n  <thead>\n    <tr style=\"text-align: right;\">\n      <th>Feature_2</th>\n      <th>Y0</th>\n      <th>Y1</th>\n      <th>Y10</th>\n      <th>Y11</th>\n      <th>Y12</th>\n      <th>Y13</th>\n      <th>Y14</th>\n      <th>Y15</th>\n      <th>Y16</th>\n      <th>Y17</th>\n      <th>...</th>\n      <th>Y90</th>\n      <th>Y91</th>\n      <th>Y92</th>\n      <th>Y93</th>\n      <th>Y94</th>\n      <th>Y95</th>\n      <th>Y96</th>\n      <th>Y97</th>\n      <th>Y98</th>\n      <th>Y99</th>\n    </tr>\n    <tr>\n      <th>Feature_1</th>\n      <th></th>\n      <th></th>\n      <th></th>\n      <th></th>\n      <th></th>\n      <th></th>\n      <th></th>\n      <th></th>\n      <th></th>\n      <th></th>\n      <th></th>\n      <th></th>\n      <th></th>\n      <th></th>\n      <th></th>\n      <th></th>\n      <th></th>\n      <th></th>\n      <th></th>\n      <th></th>\n      <th></th>\n    </tr>\n  </thead>\n  <tbody>\n    <tr>\n      <th>X0</th>\n      <td>-0.064777</td>\n      <td>-0.028155</td>\n      <td>-0.032880</td>\n      <td>0.028549</td>\n      <td>-0.008071</td>\n      <td>-0.045866</td>\n      <td>-0.010041</td>\n      <td>0.013192</td>\n      <td>0.002166</td>\n      <td>0.034849</td>\n      <td>...</td>\n      <td>0.005956</td>\n      <td>-0.081299</td>\n      <td>-0.072638</td>\n      <td>-0.075015</td>\n      <td>-0.124385</td>\n      <td>-0.060199</td>\n      <td>-0.068701</td>\n      <td>-0.081299</td>\n      <td>-0.072638</td>\n      <td>-0.101004</td>\n    </tr>\n    <tr>\n      <th>X1</th>\n      <td>-0.166641</td>\n      <td>-0.132381</td>\n      <td>-0.074402</td>\n      <td>0.001543</td>\n      <td>-0.091251</td>\n      <td>-0.115725</td>\n      <td>-0.077985</td>\n      <td>-0.059914</td>\n      <td>-0.071081</td>\n      <td>-0.019379</td>\n      <td>...</td>\n      <td>0.127439</td>\n      <td>0.014537</td>\n      <td>0.040030</td>\n      <td>0.042889</td>\n      <td>-0.020316</td>\n      <td>0.069628</td>\n      <td>-0.008864</td>\n      <td>0.035455</td>\n      <td>0.033337</td>\n      <td>0.002354</td>\n    </tr>\n    <tr>\n      <th>X10</th>\n      <td>-0.093670</td>\n      <td>-0.071618</td>\n      <td>-0.065859</td>\n      <td>-0.001920</td>\n      <td>-0.071850</td>\n      <td>-0.086811</td>\n      <td>-0.020427</td>\n      <td>0.004922</td>\n      <td>-0.028303</td>\n      <td>-0.002313</td>\n      <td>...</td>\n      <td>0.104007</td>\n      <td>0.000591</td>\n      <td>0.004528</td>\n      <td>0.008712</td>\n      <td>-0.042331</td>\n      <td>0.028155</td>\n      <td>-0.024606</td>\n      <td>-0.009646</td>\n      <td>0.010827</td>\n      <td>-0.020033</td>\n    </tr>\n    <tr>\n      <th>X11</th>\n      <td>-0.140136</td>\n      <td>-0.079888</td>\n      <td>-0.078559</td>\n      <td>-0.010189</td>\n      <td>-0.053740</td>\n      <td>-0.104134</td>\n      <td>-0.060986</td>\n      <td>-0.038000</td>\n      <td>-0.068862</td>\n      <td>0.015407</td>\n      <td>...</td>\n      <td>0.022642</td>\n      <td>-0.068701</td>\n      <td>-0.056102</td>\n      <td>-0.057836</td>\n      <td>-0.101792</td>\n      <td>-0.042479</td>\n      <td>-0.068701</td>\n      <td>-0.077362</td>\n      <td>-0.062402</td>\n      <td>-0.102185</td>\n    </tr>\n    <tr>\n      <th>X12</th>\n      <td>-0.089048</td>\n      <td>-0.067877</td>\n      <td>-0.021654</td>\n      <td>0.049724</td>\n      <td>-0.054123</td>\n      <td>-0.058359</td>\n      <td>-0.035259</td>\n      <td>0.002249</td>\n      <td>-0.028186</td>\n      <td>0.035913</td>\n      <td>...</td>\n      <td>0.007453</td>\n      <td>-0.107201</td>\n      <td>-0.089578</td>\n      <td>-0.096815</td>\n      <td>-0.148073</td>\n      <td>-0.073749</td>\n      <td>-0.113476</td>\n      <td>-0.104534</td>\n      <td>-0.108037</td>\n      <td>-0.137505</td>\n    </tr>\n    <tr>\n      <th>...</th>\n      <td>...</td>\n      <td>...</td>\n      <td>...</td>\n      <td>...</td>\n      <td>...</td>\n      <td>...</td>\n      <td>...</td>\n      <td>...</td>\n      <td>...</td>\n      <td>...</td>\n      <td>...</td>\n      <td>...</td>\n      <td>...</td>\n      <td>...</td>\n      <td>...</td>\n      <td>...</td>\n      <td>...</td>\n      <td>...</td>\n      <td>...</td>\n      <td>...</td>\n      <td>...</td>\n    </tr>\n    <tr>\n      <th>X95</th>\n      <td>-0.082004</td>\n      <td>-0.055867</td>\n      <td>-0.035145</td>\n      <td>-0.088551</td>\n      <td>-0.134843</td>\n      <td>0.049409</td>\n      <td>-0.119659</td>\n      <td>-0.095245</td>\n      <td>-0.055621</td>\n      <td>-0.171097</td>\n      <td>...</td>\n      <td>0.240992</td>\n      <td>0.174803</td>\n      <td>0.262992</td>\n      <td>0.215397</td>\n      <td>0.207915</td>\n      <td>0.164206</td>\n      <td>0.237795</td>\n      <td>0.181102</td>\n      <td>0.225197</td>\n      <td>0.154361</td>\n    </tr>\n    <tr>\n      <th>X96</th>\n      <td>0.004627</td>\n      <td>0.018557</td>\n      <td>0.032979</td>\n      <td>-0.033816</td>\n      <td>-0.034055</td>\n      <td>0.112402</td>\n      <td>-0.051536</td>\n      <td>0.010681</td>\n      <td>0.031404</td>\n      <td>-0.096673</td>\n      <td>...</td>\n      <td>0.208703</td>\n      <td>0.162205</td>\n      <td>0.237795</td>\n      <td>0.185470</td>\n      <td>0.201614</td>\n      <td>0.109077</td>\n      <td>0.218898</td>\n      <td>0.155906</td>\n      <td>0.231496</td>\n      <td>0.140973</td>\n    </tr>\n    <tr>\n      <th>X97</th>\n      <td>-0.010730</td>\n      <td>-0.033422</td>\n      <td>0.025103</td>\n      <td>-0.060199</td>\n      <td>-0.080512</td>\n      <td>0.097441</td>\n      <td>-0.084613</td>\n      <td>-0.035785</td>\n      <td>-0.007580</td>\n      <td>-0.142351</td>\n      <td>...</td>\n      <td>0.214609</td>\n      <td>0.118110</td>\n      <td>0.218898</td>\n      <td>0.183894</td>\n      <td>0.189407</td>\n      <td>0.151998</td>\n      <td>0.187402</td>\n      <td>0.137008</td>\n      <td>0.193701</td>\n      <td>0.109470</td>\n    </tr>\n    <tr>\n      <th>X98</th>\n      <td>0.015259</td>\n      <td>0.048484</td>\n      <td>0.060543</td>\n      <td>-0.003889</td>\n      <td>-0.017520</td>\n      <td>0.135236</td>\n      <td>-0.015308</td>\n      <td>0.026432</td>\n      <td>0.035735</td>\n      <td>-0.079740</td>\n      <td>...</td>\n      <td>0.222485</td>\n      <td>0.155906</td>\n      <td>0.231496</td>\n      <td>0.173656</td>\n      <td>0.195314</td>\n      <td>0.114589</td>\n      <td>0.212598</td>\n      <td>0.149606</td>\n      <td>0.200000</td>\n      <td>0.128372</td>\n    </tr>\n    <tr>\n      <th>X99</th>\n      <td>0.017622</td>\n      <td>0.019344</td>\n      <td>0.019984</td>\n      <td>-0.007039</td>\n      <td>-0.027756</td>\n      <td>0.118701</td>\n      <td>-0.031453</td>\n      <td>0.003987</td>\n      <td>0.019590</td>\n      <td>-0.095885</td>\n      <td>...</td>\n      <td>0.208703</td>\n      <td>0.155906</td>\n      <td>0.218898</td>\n      <td>0.165781</td>\n      <td>0.164599</td>\n      <td>0.132703</td>\n      <td>0.206299</td>\n      <td>0.143307</td>\n      <td>0.200000</td>\n      <td>0.153967</td>\n    </tr>\n  </tbody>\n</table>\n<p>100 rows × 100 columns</p>\n</div>"
     },
     "execution_count": 27,
     "metadata": {},
     "output_type": "execute_result"
    }
   ],
   "source": [
    "rho_X_Y"
   ],
   "metadata": {
    "collapsed": false,
    "pycharm": {
     "name": "#%%\n"
    }
   }
  },
  {
   "cell_type": "code",
   "execution_count": 28,
   "outputs": [],
   "source": [
    "def fdr(p_vals):\n",
    "    from scipy.stats import rankdata\n",
    "    ranked_p_values = rankdata(p_vals, method='ordinal')\n",
    "    fdr = p_vals * len(p_vals) * 1.0 / (ranked_p_values * 1.0)\n",
    "    fdr[fdr > 1.0] = 1.0\n",
    "    return fdr"
   ],
   "metadata": {
    "collapsed": false,
    "pycharm": {
     "name": "#%%\n"
    }
   }
  },
  {
   "cell_type": "code",
   "execution_count": 29,
   "outputs": [],
   "source": [
    "def bh(p, q):\n",
    "    from scipy.stats import rankdata\n",
    "    pRank = rankdata(p, method='ordinal')\n",
    "    m = len(p)\n",
    "    p_adust = p *  len(p) * 1.0 / (pRank * 1.0)\n",
    "    max_i = 0\n",
    "    p_threshold = p[0]\n",
    "    for i in range(len(p)):\n",
    "        if p_adust[i] <= q and max_i <= pRank[i]:\n",
    "            max_i = pRank[i]\n",
    "            p_threshold = p[i]\n",
    "    return p_adust, p_threshold"
   ],
   "metadata": {
    "collapsed": false,
    "pycharm": {
     "name": "#%%\n"
    }
   }
  },
  {
   "cell_type": "code",
   "execution_count": 30,
   "outputs": [
    {
     "data": {
      "text/plain": "100      0.654930\n101      0.846105\n102      0.835488\n103      0.719011\n104      0.931868\n           ...   \n19995    0.358257\n19996    0.150612\n19997    0.320788\n19998    0.163753\n19999    0.285720\nName: pval, Length: 10000, dtype: float64"
     },
     "execution_count": 30,
     "metadata": {},
     "output_type": "execute_result"
    }
   ],
   "source": [
    "X_Y.pval"
   ],
   "metadata": {
    "collapsed": false,
    "pycharm": {
     "name": "#%%\n"
    }
   }
  },
  {
   "cell_type": "code",
   "execution_count": 31,
   "outputs": [
    {
     "data": {
      "text/plain": "array([1., 1., 1., ..., 1., 1., 1.])"
     },
     "execution_count": 31,
     "metadata": {},
     "output_type": "execute_result"
    }
   ],
   "source": [
    "fdr(X_Y[\"pval\"].values)"
   ],
   "metadata": {
    "collapsed": false,
    "pycharm": {
     "name": "#%%\n"
    }
   }
  },
  {
   "cell_type": "code",
   "execution_count": 32,
   "outputs": [],
   "source": [
    "X_Y_p_adust, X_Y_p_threshold = bh(X_Y[\"pval\"].values, .1)\n",
    "within_X_p_adust, within_X_p_threshold = bh(within_X[\"pval\"].values, .1)\n",
    "within_Y_p_adust, within_Y_p_threshold = bh(within_Y[\"pval\"].values, .1)\n"
   ],
   "metadata": {
    "collapsed": false,
    "pycharm": {
     "name": "#%%\n"
    }
   }
  },
  {
   "cell_type": "code",
   "execution_count": 33,
   "outputs": [
    {
     "data": {
      "text/plain": "0.6549299181254638"
     },
     "execution_count": 33,
     "metadata": {},
     "output_type": "execute_result"
    }
   ],
   "source": [
    "X_Y_p_threshold\n"
   ],
   "metadata": {
    "collapsed": false,
    "pycharm": {
     "name": "#%%\n"
    }
   }
  },
  {
   "cell_type": "code",
   "execution_count": 34,
   "outputs": [
    {
     "data": {
      "text/plain": "array([0.65492992, 0.8461055 , 0.83548775, ..., 0.32078763, 0.16375308,\n       0.28571983])"
     },
     "execution_count": 34,
     "metadata": {},
     "output_type": "execute_result"
    }
   ],
   "source": [
    "X_Y[\"pval\"].values"
   ],
   "metadata": {
    "collapsed": false,
    "pycharm": {
     "name": "#%%\n"
    }
   }
  },
  {
   "cell_type": "code",
   "execution_count": 35,
   "outputs": [
    {
     "data": {
      "text/plain": "9.957213702277227e-16"
     },
     "execution_count": 35,
     "metadata": {},
     "output_type": "execute_result"
    }
   ],
   "source": [
    "within_X_p_threshold"
   ],
   "metadata": {
    "collapsed": false,
    "pycharm": {
     "name": "#%%\n"
    }
   }
  },
  {
   "cell_type": "code",
   "execution_count": 36,
   "outputs": [
    {
     "data": {
      "text/plain": "0.03441006979659323"
     },
     "execution_count": 36,
     "metadata": {},
     "output_type": "execute_result"
    }
   ],
   "source": [
    "within_Y_p_threshold"
   ],
   "metadata": {
    "collapsed": false,
    "pycharm": {
     "name": "#%%\n"
    }
   }
  },
  {
   "cell_type": "code",
   "execution_count": 37,
   "outputs": [
    {
     "data": {
      "text/plain": "array([1.31644205, 1.09443215, 1.10382845, ..., 2.1244214 , 3.28162487,\n       2.27302965])"
     },
     "execution_count": 37,
     "metadata": {},
     "output_type": "execute_result"
    }
   ],
   "source": [
    "X_Y_p_adust\n"
   ],
   "metadata": {
    "collapsed": false,
    "pycharm": {
     "name": "#%%\n"
    }
   }
  },
  {
   "cell_type": "code",
   "execution_count": 38,
   "outputs": [
    {
     "data": {
      "text/plain": "array([4.82555140e-19, 2.20800044e-19, 6.60138385e-22, ...,\n       2.48763552e-20, 2.48664757e-20, 5.33261910e-19])"
     },
     "execution_count": 38,
     "metadata": {},
     "output_type": "execute_result"
    }
   ],
   "source": [
    "within_X_p_adust"
   ],
   "metadata": {
    "collapsed": false,
    "pycharm": {
     "name": "#%%\n"
    }
   }
  },
  {
   "cell_type": "code",
   "execution_count": 39,
   "outputs": [
    {
     "data": {
      "text/plain": "array([1.54841612e-18, 1.34644386e-21, 1.35141440e-24, ...,\n       1.45521736e-22, 9.65139400e-22, 1.19229812e-22])"
     },
     "execution_count": 39,
     "metadata": {},
     "output_type": "execute_result"
    }
   ],
   "source": [
    "within_Y_p_adust"
   ],
   "metadata": {
    "collapsed": false,
    "pycharm": {
     "name": "#%%\n"
    }
   }
  },
  {
   "cell_type": "code",
   "execution_count": 40,
   "outputs": [],
   "source": [
    "X_Y[\"P_adusted\"] = X_Y_p_adust\n",
    "within_X[\"P_adusted\"] = within_X_p_adust\n",
    "within_Y[\"P_adusted\"] = within_Y_p_adust"
   ],
   "metadata": {
    "collapsed": false,
    "pycharm": {
     "name": "#%%\n"
    }
   }
  },
  {
   "cell_type": "code",
   "execution_count": 41,
   "outputs": [
    {
     "data": {
      "text/plain": "      Feature_1 Feature_2          pval  Correlation Not_NAs     P_adusted\n20101        Y0        Y1  2.876300e-19     0.903308     nan  1.548416e-18\n20102        Y0        Y2  8.391473e-23     0.932060     nan  1.346444e-21\n20103        Y0        Y3  1.296812e-26     0.953337     nan  1.351414e-24\n20104        Y0        Y4  9.458936e-22     0.924577     nan  1.055732e-20\n20105        Y0        Y5  1.211416e-18     0.897027     nan  5.790931e-18\n...         ...       ...           ...          ...     ...           ...\n39994       Y99       Y94  5.169296e-19     0.900798     nan  2.662645e-18\n39995       Y99       Y95  4.532957e-21     0.919284     nan  3.902285e-20\n39996       Y99       Y96  5.526886e-24     0.939555     nan  1.455217e-22\n39997       Y99       Y97  5.556863e-23     0.933255     nan  9.651394e-22\n39998       Y99       Y98  4.070674e-24     0.940343     nan  1.192298e-22\n\n[9900 rows x 6 columns]",
      "text/html": "<div>\n<style scoped>\n    .dataframe tbody tr th:only-of-type {\n        vertical-align: middle;\n    }\n\n    .dataframe tbody tr th {\n        vertical-align: top;\n    }\n\n    .dataframe thead th {\n        text-align: right;\n    }\n</style>\n<table border=\"1\" class=\"dataframe\">\n  <thead>\n    <tr style=\"text-align: right;\">\n      <th></th>\n      <th>Feature_1</th>\n      <th>Feature_2</th>\n      <th>pval</th>\n      <th>Correlation</th>\n      <th>Not_NAs</th>\n      <th>P_adusted</th>\n    </tr>\n  </thead>\n  <tbody>\n    <tr>\n      <th>20101</th>\n      <td>Y0</td>\n      <td>Y1</td>\n      <td>2.876300e-19</td>\n      <td>0.903308</td>\n      <td>nan</td>\n      <td>1.548416e-18</td>\n    </tr>\n    <tr>\n      <th>20102</th>\n      <td>Y0</td>\n      <td>Y2</td>\n      <td>8.391473e-23</td>\n      <td>0.932060</td>\n      <td>nan</td>\n      <td>1.346444e-21</td>\n    </tr>\n    <tr>\n      <th>20103</th>\n      <td>Y0</td>\n      <td>Y3</td>\n      <td>1.296812e-26</td>\n      <td>0.953337</td>\n      <td>nan</td>\n      <td>1.351414e-24</td>\n    </tr>\n    <tr>\n      <th>20104</th>\n      <td>Y0</td>\n      <td>Y4</td>\n      <td>9.458936e-22</td>\n      <td>0.924577</td>\n      <td>nan</td>\n      <td>1.055732e-20</td>\n    </tr>\n    <tr>\n      <th>20105</th>\n      <td>Y0</td>\n      <td>Y5</td>\n      <td>1.211416e-18</td>\n      <td>0.897027</td>\n      <td>nan</td>\n      <td>5.790931e-18</td>\n    </tr>\n    <tr>\n      <th>...</th>\n      <td>...</td>\n      <td>...</td>\n      <td>...</td>\n      <td>...</td>\n      <td>...</td>\n      <td>...</td>\n    </tr>\n    <tr>\n      <th>39994</th>\n      <td>Y99</td>\n      <td>Y94</td>\n      <td>5.169296e-19</td>\n      <td>0.900798</td>\n      <td>nan</td>\n      <td>2.662645e-18</td>\n    </tr>\n    <tr>\n      <th>39995</th>\n      <td>Y99</td>\n      <td>Y95</td>\n      <td>4.532957e-21</td>\n      <td>0.919284</td>\n      <td>nan</td>\n      <td>3.902285e-20</td>\n    </tr>\n    <tr>\n      <th>39996</th>\n      <td>Y99</td>\n      <td>Y96</td>\n      <td>5.526886e-24</td>\n      <td>0.939555</td>\n      <td>nan</td>\n      <td>1.455217e-22</td>\n    </tr>\n    <tr>\n      <th>39997</th>\n      <td>Y99</td>\n      <td>Y97</td>\n      <td>5.556863e-23</td>\n      <td>0.933255</td>\n      <td>nan</td>\n      <td>9.651394e-22</td>\n    </tr>\n    <tr>\n      <th>39998</th>\n      <td>Y99</td>\n      <td>Y98</td>\n      <td>4.070674e-24</td>\n      <td>0.940343</td>\n      <td>nan</td>\n      <td>1.192298e-22</td>\n    </tr>\n  </tbody>\n</table>\n<p>9900 rows × 6 columns</p>\n</div>"
     },
     "execution_count": 41,
     "metadata": {},
     "output_type": "execute_result"
    }
   ],
   "source": [
    "X_Y\n",
    "within_X\n",
    "within_Y"
   ],
   "metadata": {
    "collapsed": false,
    "pycharm": {
     "name": "#%%\n"
    }
   }
  },
  {
   "cell_type": "code",
   "execution_count": 42,
   "outputs": [],
   "source": [
    "X_Y[\"bh_fdr_threshold\"] = X_Y_p_threshold\n",
    "within_X[\"bh_fdr_threshold\"] = within_X_p_threshold\n",
    "within_Y[\"bh_fdr_threshold\"] = within_Y_p_threshold\n",
    "\n"
   ],
   "metadata": {
    "collapsed": false,
    "pycharm": {
     "name": "#%%\n"
    }
   }
  },
  {
   "cell_type": "code",
   "execution_count": 43,
   "outputs": [],
   "source": [
    "X_Y = X_Y.sort_values(['pval', 'Correlation'],\n",
    "                     ascending = [True, False])\n",
    "within_X = within_X.sort_values(['pval', 'Correlation'],\n",
    "                      ascending = [True, False])\n",
    "within_Y = within_Y.sort_values(['pval', 'Correlation'],\n",
    "                                ascending = [True, False])"
   ],
   "metadata": {
    "collapsed": false,
    "pycharm": {
     "name": "#%%\n"
    }
   }
  },
  {
   "cell_type": "code",
   "execution_count": 44,
   "outputs": [
    {
     "data": {
      "text/plain": "      Feature_1 Feature_2      pval  Correlation Not_NAs   P_adusted  \\\n366          X1       Y66  0.021416     0.327972     nan  214.155016   \n375          X1       Y75  0.033062     0.305052     nan  165.311602   \n5574        X27       Y74  0.036443     0.296654     nan  121.477314   \n374          X1       Y74  0.040235     0.294122     nan  100.588520   \n3141        X15       Y41  0.042550     0.287992     nan   85.100808   \n...         ...       ...       ...          ...     ...         ...   \n15547       X77       Y47  0.999459    -0.000098     nan    0.999859   \n4593        X22       Y93  0.999729     0.000049     nan    1.000029   \n10708       X53        Y8  0.999729     0.000049     nan    0.999929   \n17534       X87       Y34  0.999729     0.000049     nan    0.999829   \n18302       X91        Y2  0.999729     0.000049     nan    0.999729   \n\n       bh_fdr_threshold  \n366             0.65493  \n375             0.65493  \n5574            0.65493  \n374             0.65493  \n3141            0.65493  \n...                 ...  \n15547           0.65493  \n4593            0.65493  \n10708           0.65493  \n17534           0.65493  \n18302           0.65493  \n\n[10000 rows x 7 columns]",
      "text/html": "<div>\n<style scoped>\n    .dataframe tbody tr th:only-of-type {\n        vertical-align: middle;\n    }\n\n    .dataframe tbody tr th {\n        vertical-align: top;\n    }\n\n    .dataframe thead th {\n        text-align: right;\n    }\n</style>\n<table border=\"1\" class=\"dataframe\">\n  <thead>\n    <tr style=\"text-align: right;\">\n      <th></th>\n      <th>Feature_1</th>\n      <th>Feature_2</th>\n      <th>pval</th>\n      <th>Correlation</th>\n      <th>Not_NAs</th>\n      <th>P_adusted</th>\n      <th>bh_fdr_threshold</th>\n    </tr>\n  </thead>\n  <tbody>\n    <tr>\n      <th>366</th>\n      <td>X1</td>\n      <td>Y66</td>\n      <td>0.021416</td>\n      <td>0.327972</td>\n      <td>nan</td>\n      <td>214.155016</td>\n      <td>0.65493</td>\n    </tr>\n    <tr>\n      <th>375</th>\n      <td>X1</td>\n      <td>Y75</td>\n      <td>0.033062</td>\n      <td>0.305052</td>\n      <td>nan</td>\n      <td>165.311602</td>\n      <td>0.65493</td>\n    </tr>\n    <tr>\n      <th>5574</th>\n      <td>X27</td>\n      <td>Y74</td>\n      <td>0.036443</td>\n      <td>0.296654</td>\n      <td>nan</td>\n      <td>121.477314</td>\n      <td>0.65493</td>\n    </tr>\n    <tr>\n      <th>374</th>\n      <td>X1</td>\n      <td>Y74</td>\n      <td>0.040235</td>\n      <td>0.294122</td>\n      <td>nan</td>\n      <td>100.588520</td>\n      <td>0.65493</td>\n    </tr>\n    <tr>\n      <th>3141</th>\n      <td>X15</td>\n      <td>Y41</td>\n      <td>0.042550</td>\n      <td>0.287992</td>\n      <td>nan</td>\n      <td>85.100808</td>\n      <td>0.65493</td>\n    </tr>\n    <tr>\n      <th>...</th>\n      <td>...</td>\n      <td>...</td>\n      <td>...</td>\n      <td>...</td>\n      <td>...</td>\n      <td>...</td>\n      <td>...</td>\n    </tr>\n    <tr>\n      <th>15547</th>\n      <td>X77</td>\n      <td>Y47</td>\n      <td>0.999459</td>\n      <td>-0.000098</td>\n      <td>nan</td>\n      <td>0.999859</td>\n      <td>0.65493</td>\n    </tr>\n    <tr>\n      <th>4593</th>\n      <td>X22</td>\n      <td>Y93</td>\n      <td>0.999729</td>\n      <td>0.000049</td>\n      <td>nan</td>\n      <td>1.000029</td>\n      <td>0.65493</td>\n    </tr>\n    <tr>\n      <th>10708</th>\n      <td>X53</td>\n      <td>Y8</td>\n      <td>0.999729</td>\n      <td>0.000049</td>\n      <td>nan</td>\n      <td>0.999929</td>\n      <td>0.65493</td>\n    </tr>\n    <tr>\n      <th>17534</th>\n      <td>X87</td>\n      <td>Y34</td>\n      <td>0.999729</td>\n      <td>0.000049</td>\n      <td>nan</td>\n      <td>0.999829</td>\n      <td>0.65493</td>\n    </tr>\n    <tr>\n      <th>18302</th>\n      <td>X91</td>\n      <td>Y2</td>\n      <td>0.999729</td>\n      <td>0.000049</td>\n      <td>nan</td>\n      <td>0.999729</td>\n      <td>0.65493</td>\n    </tr>\n  </tbody>\n</table>\n<p>10000 rows × 7 columns</p>\n</div>"
     },
     "execution_count": 44,
     "metadata": {},
     "output_type": "execute_result"
    }
   ],
   "source": [
    "X_Y"
   ],
   "metadata": {
    "collapsed": false,
    "pycharm": {
     "name": "#%%\n"
    }
   }
  },
  {
   "cell_type": "code",
   "execution_count": 45,
   "outputs": [],
   "source": [
    "outputpath = \"/Users/rah/Documents/omicsEye/btest/demo/btest_output\"\n",
    "os.makedirs(outputpath, exist_ok=True)\n",
    "X_Y.to_csv(outputpath + '/X_Y.tsv', sep=\"\\t\")\n",
    "#rho_X = rho.iloc[0:500, 0:500]\n",
    "#rho_X.to_csv(outputpath + '/simtable_X.tsv', sep=\"\\t\")\n",
    "rho_X_Y.to_csv(outputpath + '/simtable.tsv', sep=\"\\t\")\n",
    "within_X.to_csv(outputpath + '/within_X.tsv', sep=\"\\t\")\n",
    "within_Y.to_csv(outputpath + '/within_Y.tsv', sep=\"\\t\")"
   ],
   "metadata": {
    "collapsed": false,
    "pycharm": {
     "name": "#%%\n"
    }
   }
  },
  {
   "cell_type": "code",
   "execution_count": 46,
   "outputs": [],
   "source": [
    "# import matbtestlib.pyplot as plt\n",
    "import matplotlib\n",
    "\n",
    "# matplotlib.style.use('ggplot')\n",
    "matplotlib.use(\"Agg\")\n",
    "import matplotlib.pyplot as plt\n",
    "# import matplotlib as matplotlib\n",
    "# matplotlib.use( \"Agg\" )\n",
    "# plt.style.use('ggplot')\n",
    "import matplotlib.patches as patches\n",
    "import matplotlib.patheffects as path_effects\n",
    "import numpy as np\n",
    "from matplotlib import font_manager\n",
    "import warnings\n",
    "\n",
    "with warnings.catch_warnings():\n",
    "    warnings.simplefilter(\"error\")\n",
    "    try:\n",
    "        font_file = font_manager.findfont(font_manager.FontProperties(family='Arial'))\n",
    "        matplotlib.rcParams[\"font.family\"] = \"Arial\"\n",
    "    except UserWarning:\n",
    "        pass\n",
    "# ---------------------------------------------------------------\n",
    "# constants / config\n",
    "# ---------------------------------------------------------------\n",
    "\n",
    "c_unit_h = 0.3\n",
    "c_unit_w = 0.3\n",
    "c_min_height = 1 * c_unit_h + 3\n",
    "c_min_width = 1 * c_unit_w + 5\n",
    "c_label_scale = 8\n",
    "c_label_shift = -0.005\n",
    "c_line_width = 1.5\n",
    "c_char_pad = 0.1\n",
    "c_label_aspect = 0.7\n",
    "c_small_text = 12\n",
    "c_large_text = 16\n",
    "c_giant_text = 20\n",
    "c_outline_width = 3\n",
    "c_grid_color = \"0.9\"\n",
    "c_cbarspan = 1\n",
    "c_simstep = 0.2\n",
    "paper_dpi = 350\n",
    "\n",
    "matplotlib.rcParams['xtick.major.pad'] = '.1'  # '10'\n",
    "matplotlib.rcParams['ytick.major.pad'] = '.1'  # '10'\n",
    "def reorder(array, order):\n",
    "    return [array[i] for i in order]\n",
    "def mask_table(simtable, associations):\n",
    "    allowed = {}\n",
    "    for number, row_items, col_items, sig, _, _ in associations:\n",
    "        for r in row_items:\n",
    "            for c in col_items:\n",
    "                ri = simtable.rowmap[r]\n",
    "                ci = simtable.colmap[c]\n",
    "                allowed[(ri, ci)] = 1\n",
    "    for ri in range(simtable.nrows):\n",
    "        for ci in range(simtable.ncols):\n",
    "            if (ri, ci) not in allowed:\n",
    "                simtable.data[ri][ci] = np.nan\n",
    "    simtable.data = np.ma.masked_where(np.isnan(simtable.data), simtable.data)\n",
    "\n",
    "class Table:\n",
    "    \"\"\" \"\"\"\n",
    "\n",
    "    def __init__(self, path):\n",
    "        self.colheads = None\n",
    "        self.rowheads = []\n",
    "        self.data = []\n",
    "        with open(path) as fh:\n",
    "            for row in csv.reader(fh, dialect=\"excel-tab\"):\n",
    "                rowhead, values = row[0], row[1:]\n",
    "                if self.colheads is None:\n",
    "                    self.colheads = values\n",
    "                else:\n",
    "                    self.rowheads.append(rowhead)\n",
    "                    self.data.append(list(map(float, values)))\n",
    "        self.data = np.array(self.data)\n",
    "        self.update()\n",
    "\n",
    "    def update(self):\n",
    "        self.nrows, self.ncols = self.data.shape\n",
    "        self.rowmap = {}\n",
    "        self.colmap = {}\n",
    "        for i, h in zip(range(self.nrows), self.rowheads):\n",
    "            self.rowmap[h] = i\n",
    "        for i, h in zip(range(self.ncols), self.colheads):\n",
    "            self.colmap[h] = i\n",
    "        print(self.nrows, len(self.rowheads), len(self.rowmap))\n",
    "        assert self.nrows == len(self.rowheads) == len(self.rowmap), \"row dim failure\"\n",
    "        assert self.ncols == len(self.colheads) == len(self.colmap), \"col dim failure\"\n",
    "\n"
   ],
   "metadata": {
    "collapsed": false,
    "pycharm": {
     "name": "#%%\n"
    }
   }
  },
  {
   "cell_type": "code",
   "execution_count": 47,
   "outputs": [],
   "source": [
    "def load_order_table(p_table, associations, p_tree = None):\n",
    "    allowed_rowheads = {k for items in associations for k in items[1]}\n",
    "    allowed_colheads = {k for items in associations for k in items[2]}\n",
    "    simtable = Table(p_table)\n",
    "    row_order, col_order = simtable.rowheads, simtable.colheads # get_order(p_tree)\n",
    "\n",
    "    # reorder the rows\n",
    "    row_order = [simtable.rowmap[k] for k in row_order if k in simtable.rowmap and k in allowed_rowheads]\n",
    "    simtable.rowheads = reorder(simtable.rowheads, row_order)\n",
    "    simtable.data = simtable.data[row_order, :]\n",
    "    simtable.update()\n",
    "    # reorder the cols\n",
    "    col_order = [simtable.colmap[k] for k in col_order if k in simtable.colmap and k in allowed_colheads]\n",
    "    simtable.colheads = reorder(simtable.colheads, col_order)\n",
    "    simtable.data = simtable.data[:, col_order]\n",
    "    simtable.update()\n",
    "    return simtable"
   ],
   "metadata": {
    "collapsed": false,
    "pycharm": {
     "name": "#%%\n"
    }
   }
  },
  {
   "cell_type": "code",
   "execution_count": 48,
   "outputs": [],
   "source": [
    "def load_associations(path, largest=None, strongest=100, orderby='similarity'):\n",
    "    pairs = []\n",
    "    dic_order = {'pvalue': 3, 'similarity': 4, 'qvalue': 6, }\n",
    "    with open(path) as fh:\n",
    "        for row in csv.reader(fh, dialect=\"excel-tab\"):\n",
    "            if row[0] !='':\n",
    "                pairs.append([row[0], row[1].split(\";\"), row[2].split(\";\"), row[3], row[4], row[6]])\n",
    "    if largest is not None and strongest is not None:\n",
    "        sys.exit(\"Can only specify one of LARGEST and STRONGEST\")\n",
    "    elif largest is not None:\n",
    "        pairs = sorted(pairs, key=lambda row: len(row[1]) * len(row[2]), reverse=True)\n",
    "        pairs = pairs[0:min(len(pairs), largest)]\n",
    "    elif strongest is not None:\n",
    "        # not reversed, smaller p = stronger assoc\n",
    "        pairs = sorted(pairs, key=lambda row: abs(float(row[dic_order[orderby]])), reverse=True)\n",
    "        pairs = pairs[0:min(len(pairs), strongest)]\n",
    "    return pairs"
   ],
   "metadata": {
    "collapsed": false,
    "pycharm": {
     "name": "#%%\n"
    }
   }
  },
  {
   "cell_type": "code",
   "execution_count": 49,
   "outputs": [],
   "source": [
    "associations = load_associations(path = outputpath + '/X_Y.tsv')"
   ],
   "metadata": {
    "collapsed": false,
    "pycharm": {
     "name": "#%%\n"
    }
   }
  },
  {
   "cell_type": "code",
   "execution_count": 50,
   "outputs": [
    {
     "data": {
      "text/plain": "'/Users/rah/Documents/omicsEye/btest/demo/btest_output'"
     },
     "execution_count": 50,
     "metadata": {},
     "output_type": "execute_result"
    }
   ],
   "source": [
    "outputpath"
   ],
   "metadata": {
    "collapsed": false,
    "pycharm": {
     "name": "#%%\n"
    }
   }
  },
  {
   "cell_type": "code",
   "execution_count": 51,
   "outputs": [
    {
     "data": {
      "text/plain": "[['366',\n  ['X1'],\n  ['Y66'],\n  '0.02141550157442774',\n  '0.3279721814547849',\n  '214.15501574427742'],\n ['375',\n  ['X1'],\n  ['Y75'],\n  '0.033062320494592866',\n  '0.3050515086544998',\n  '165.31160247296432'],\n ['5574',\n  ['X27'],\n  ['Y74'],\n  '0.036443194179371946',\n  '0.2966535433070866',\n  '121.47731393123983'],\n ['374',\n  ['X1'],\n  ['Y74'],\n  '0.04023540815912691',\n  '0.294122261151493',\n  '100.58852039781728'],\n ['3141',\n  ['X15'],\n  ['Y41'],\n  '0.042550403987361936',\n  '0.28799212598425195',\n  '85.10080797472388'],\n ['3162',\n  ['X15'],\n  ['Y62'],\n  '0.042550403987361936',\n  '0.28799212598425195',\n  '70.91733997893657'],\n ['3166',\n  ['X15'],\n  ['Y66'],\n  '0.04377287255220005',\n  '0.28638245624131736',\n  '62.53267507457149'],\n ['5575',\n  ['X27'],\n  ['Y75'],\n  '0.045591011480972846',\n  '0.2840551181102362',\n  '56.988764351216055'],\n ['362',\n  ['X1'],\n  ['Y62'],\n  '0.0503542686720587',\n  '0.28115358468859486',\n  '45.77660788368973'],\n ['5566',\n  ['X27'],\n  ['Y66'],\n  '0.048837969047051434',\n  '0.28008076217240063',\n  '54.26441005227937'],\n ['4366',\n  ['X21'],\n  ['Y66'],\n  '0.04983872907905812',\n  '0.27889919453447876',\n  '49.83872907905812'],\n ['341',\n  ['X1'],\n  ['Y41'],\n  '0.05248676172878938',\n  '0.2786958113266747',\n  '37.49054409199242'],\n ['3174',\n  ['X15'],\n  ['Y74'],\n  '0.0508228544586897',\n  '0.277755905511811',\n  '42.35237871557475'],\n ['5541',\n  ['X27'],\n  ['Y41'],\n  '0.0508228544586897',\n  '0.277755905511811',\n  '39.0945034297613'],\n ['5162',\n  ['X25'],\n  ['Y62'],\n  '0.05533869783262412',\n  '0.2755320817863306',\n  '36.89246522174941'],\n ['7366',\n  ['X36'],\n  ['Y66'],\n  '0.05633742208480043',\n  '0.2716620927522072',\n  '35.210888803000266'],\n ['3175',\n  ['X15'],\n  ['Y75'],\n  '0.05653137997008717',\n  '0.2714566929133858',\n  '33.25375292358069'],\n ['3374',\n  ['X16'],\n  ['Y74'],\n  '0.05653137997008717',\n  '0.2714566929133858',\n  '31.406322205603985'],\n ['16392',\n  ['X81'],\n  ['Y92'],\n  '0.05860902732599511',\n  '0.2692913385826772',\n  '30.846856487365848'],\n ['17392',\n  ['X86'],\n  ['Y92'],\n  '0.05860902732599511',\n  '0.2692913385826772',\n  '29.304513662997557'],\n ['18392',\n  ['X91'],\n  ['Y92'],\n  '0.05860902732599511',\n  '0.2692913385826772',\n  '27.909060631426243'],\n ['7374',\n  ['X36'],\n  ['Y74'],\n  '0.05870490528504488',\n  '0.2691929133858268',\n  '26.684047856838582'],\n ['1562',\n  ['X7'],\n  ['Y62'],\n  '0.05880090931111398',\n  '0.26909448818897636',\n  '25.5656127439626'],\n ['4562',\n  ['X22'],\n  ['Y62'],\n  '0.05880090931111398',\n  '0.26909448818897636',\n  '24.500378879630826'],\n ['1566',\n  ['X7'],\n  ['Y66'],\n  '0.06000464138095432',\n  '0.26787122991387446',\n  '24.001856552381728'],\n ['3966',\n  ['X19'],\n  ['Y66'],\n  '0.06000464138095432',\n  '0.26787122991387446',\n  '23.078708223443968'],\n ['5366',\n  ['X26'],\n  ['Y66'],\n  '0.06000464138095432',\n  '0.26787122991387446',\n  '22.223941252205304'],\n ['5766',\n  ['X28'],\n  ['Y66'],\n  '0.06000464138095432',\n  '0.26787122991387446',\n  '21.43022906462654'],\n ['4341',\n  ['X21'],\n  ['Y41'],\n  '0.06035421058070553',\n  '0.26751968503937007',\n  '20.811796751967425'],\n ['17990',\n  ['X89'],\n  ['Y90'],\n  '0.06208748783534324',\n  '0.26580035955239295',\n  '20.69582927844775'],\n ['3177',\n  ['X15'],\n  ['Y77'],\n  '0.062745736947937',\n  '0.2651574803149606',\n  '20.240560305786133'],\n ['3962',\n  ['X19'],\n  ['Y62'],\n  '0.062745736947937',\n  '0.2651574803149606',\n  '19.608042796230315'],\n ['5374',\n  ['X26'],\n  ['Y74'],\n  '0.062745736947937',\n  '0.2651574803149606',\n  '19.013859681193033'],\n ['5562',\n  ['X27'],\n  ['Y62'],\n  '0.062745736947937',\n  '0.2651574803149606',\n  '18.45462851409912'],\n ['368',\n  ['X1'],\n  ['Y68'],\n  '0.06586001021671602',\n  '0.2648904460597187',\n  '14.63555782593689'],\n ['2362',\n  ['X11'],\n  ['Y62'],\n  '0.06438181108176685',\n  '0.26358267716535433',\n  '18.394803166219102'],\n ['16992',\n  ['X84'],\n  ['Y92'],\n  '0.06500405859153362',\n  '0.262992125984252',\n  '18.05668294209267'],\n ['17192',\n  ['X85'],\n  ['Y92'],\n  '0.06500405859153362',\n  '0.262992125984252',\n  '17.568664484198273'],\n ['17992',\n  ['X89'],\n  ['Y92'],\n  '0.06500405859153362',\n  '0.262992125984252',\n  '17.106331208298318'],\n ['18398',\n  ['X91'],\n  ['Y98'],\n  '0.06500405859153362',\n  '0.262992125984252',\n  '16.667707331162465'],\n ['18992',\n  ['X94'],\n  ['Y92'],\n  '0.06500405859153362',\n  '0.262992125984252',\n  '16.2510146478834'],\n ['18998',\n  ['X94'],\n  ['Y98'],\n  '0.06500405859153362',\n  '0.262992125984252',\n  '15.854648436959417'],\n ['19192',\n  ['X95'],\n  ['Y92'],\n  '0.06500405859153362',\n  '0.262992125984252',\n  '15.477156807508003'],\n ['3341',\n  ['X16'],\n  ['Y41'],\n  '0.06521253859802476',\n  '0.26279527559055116',\n  '15.16570665070343'],\n ['15956',\n  ['X79'],\n  ['Y56'],\n  '0.06557604651719223',\n  '0.26245324391358504',\n  '14.903646935725506'],\n ['5560',\n  ['X27'],\n  ['Y60'],\n  '0.06657825547320405',\n  '0.2615180204262711',\n  '14.473533798522618'],\n ['358',\n  ['X1'],\n  ['Y58'],\n  '0.06950899135870736',\n  '0.2615175443183601',\n  '12.412319885483457'],\n ['5558',\n  ['X27'],\n  ['Y58'],\n  '0.06689966403305957',\n  '0.2612204724409449',\n  '14.233971070863738'],\n ['5577',\n  ['X27'],\n  ['Y77'],\n  '0.06689966403305957',\n  '0.2612204724409449',\n  '13.93743000688741'],\n ['11983',\n  ['X59'],\n  ['Y83'],\n  '0.0673268356401875',\n  '-0.2608267716535433',\n  '13.740170538813777'],\n ['17190',\n  ['X85'],\n  ['Y90'],\n  '0.06834793120353967',\n  '0.25989368489567316',\n  '13.669586240707934'],\n ['16990',\n  ['X84'],\n  ['Y90'],\n  '0.06878253250644986',\n  '0.25949990658522515',\n  '13.486771079696052'],\n ['18390',\n  ['X91'],\n  ['Y90'],\n  '0.06921932969228575',\n  '0.25910612827477714',\n  '13.311409556208798'],\n ['4941',\n  ['X24'],\n  ['Y41'],\n  '0.06949539748413289',\n  '0.2588582677165354',\n  '13.112339147949601'],\n ['4962',\n  ['X24'],\n  ['Y62'],\n  '0.06949539748413289',\n  '0.2588582677165354',\n  '12.869518052617202'],\n ['5571',\n  ['X27'],\n  ['Y71'],\n  '0.06949539748413289',\n  '0.2588582677165354',\n  '12.635526815296888'],\n ['15953',\n  ['X79'],\n  ['Y53'],\n  '0.07065417353598132',\n  '0.25782634876582117',\n  '12.395469041400231'],\n ['15967',\n  ['X79'],\n  ['Y67'],\n  '0.07110038415471931',\n  '0.2574325704553732',\n  '12.258686923227469'],\n ['3762',\n  ['X18'],\n  ['Y62'],\n  '0.07126992647827432',\n  '0.25728346456692913',\n  '12.079648555639714'],\n ['16398',\n  ['X81'],\n  ['Y98'],\n  '0.07194457274671139',\n  '0.2566929133858268',\n  '11.990762124451898'],\n ['16792',\n  ['X83'],\n  ['Y92'],\n  '0.07194457274671139',\n  '0.2566929133858268',\n  '11.794192253559244'],\n ['18192',\n  ['X90'],\n  ['Y92'],\n  '0.07194457274671139',\n  '0.2566929133858268',\n  '11.603963346243772'],\n ['7362',\n  ['X36'],\n  ['Y62'],\n  '0.07205750459830805',\n  '0.2565944881889764',\n  '11.43769914258858'],\n ['3366',\n  ['X16'],\n  ['Y66'],\n  '0.07313476978037256',\n  '0.2556616976553483',\n  '11.427307778183213'],\n ['5542',\n  ['X27'],\n  ['Y42'],\n  '0.07336509184931006',\n  '0.25546367890313326',\n  '11.286937207586163'],\n ['4375',\n  ['X21'],\n  ['Y75'],\n  '0.07399893997478706',\n  '0.2549212598425197',\n  '11.211960602240463'],\n ['2762',\n  ['X13'],\n  ['Y62'],\n  '0.07820348682450125',\n  '0.25401349160696546',\n  '10.026088054423237'],\n ['18990',\n  ['X94'],\n  ['Y90'],\n  '0.07510081903237778',\n  '0.2539870102389533',\n  '11.209077467519073'],\n ['566',\n  ['X2'],\n  ['Y66'],\n  '0.07545094591607177',\n  '0.25369241825881184',\n  '11.09572734059879'],\n ['15790',\n  ['X78'],\n  ['Y90'],\n  '0.07556912019474944',\n  '0.2535932319285053',\n  '10.952046405036151'],\n ['18190',\n  ['X90'],\n  ['Y90'],\n  '0.07603972601519168',\n  '0.2531994536180573',\n  '10.86281800217024'],\n ['18590',\n  ['X92'],\n  ['Y90'],\n  '0.07603972601519168',\n  '0.2531994536180573',\n  '10.709820565519955'],\n ['5567',\n  ['X27'],\n  ['Y67'],\n  '0.0767499718222892',\n  '0.2526087861523853',\n  '10.659718308651277'],\n ['574',\n  ['X2'],\n  ['Y74'],\n  '0.07681000890461309',\n  '0.2525590551181102',\n  '10.521919028029192'],\n ['3168',\n  ['X15'],\n  ['Y68'],\n  '0.07681000890461309',\n  '0.2525590551181102',\n  '10.379730933055823'],\n ['3574',\n  ['X17'],\n  ['Y74'],\n  '0.07681000890461309',\n  '0.2525590551181102',\n  '10.24133452061508'],\n ['4374',\n  ['X21'],\n  ['Y74'],\n  '0.07681000890461309',\n  '0.2525590551181102',\n  '10.106580119028038'],\n ['3140',\n  ['X15'],\n  ['Y40'],\n  '0.07740562096366194',\n  '0.25206734097551936',\n  '10.052678047228822'],\n ['360',\n  ['X1'],\n  ['Y60'],\n  '0.0825125962580557',\n  '0.25053612138879194',\n  '9.707364265653611'],\n ['18396',\n  ['X91'],\n  ['Y96'],\n  '0.07946024104606851',\n  '0.2503937007874016',\n  '10.058258360261837'],\n ['5341',\n  ['X26'],\n  ['Y41'],\n  '0.07970469694232273',\n  '0.25019685039370076',\n  '9.96308711779034'],\n ['5362',\n  ['X26'],\n  ['Y62'],\n  '0.07970469694232273',\n  '0.25019685039370076',\n  '9.840086042262064'],\n ['4566',\n  ['X22'],\n  ['Y66'],\n  '0.0807505368644499',\n  '0.2493600035864316',\n  '9.847626446884133'],\n ['3541',\n  ['X17'],\n  ['Y41'],\n  '0.08168171487544854',\n  '0.24862204724409448',\n  '9.841170466921511'],\n ['6766',\n  ['X33'],\n  ['Y66'],\n  '0.08224552486287864',\n  '0.24817843594850972',\n  '9.791133912247457'],\n ['15949',\n  ['X79'],\n  ['Y49'],\n  '0.08268456472147612',\n  '0.24783464566929134',\n  '9.614484269939084'],\n ['3566',\n  ['X17'],\n  ['Y66'],\n  '0.0832541962945141',\n  '0.2473907241898951',\n  '9.569447849944149'],\n ['3167',\n  ['X15'],\n  ['Y67'],\n  '0.08331690363646338',\n  '0.24734200125014347',\n  '9.467829958689022'],\n ['373',\n  ['X1'],\n  ['Y73'],\n  '0.08669685289967007',\n  '0.2472932738885612',\n  '9.030922177048966'],\n ['1762',\n  ['X8'],\n  ['Y62'],\n  '0.08356996203511732',\n  '0.24714566929133858',\n  '9.389883374732284'],\n ['17984',\n  ['X89'],\n  ['Y84'],\n  '0.08388875478706083',\n  '0.2468990006508895',\n  '9.32097275411787'],\n ['3941',\n  ['X19'],\n  ['Y41'],\n  '0.08471923406884507',\n  '0.24625984251968505',\n  '9.309805941631327'],\n ['4574',\n  ['X22'],\n  ['Y74'],\n  '0.08471923406884507',\n  '0.24625984251968505',\n  '9.208612398787508'],\n ['16390',\n  ['X81'],\n  ['Y90'],\n  '0.08542873840755222',\n  '0.2457176657195455',\n  '9.185885850274431'],\n ['16394',\n  ['X81'],\n  ['Y94'],\n  '0.08646762679827115',\n  '0.24493010909864954',\n  '9.19868370194374'],\n ['15969',\n  ['X79'],\n  ['Y69'],\n  '0.0865981794620969',\n  '0.24483166452103752',\n  '9.115597838115464'],\n ['345',\n  ['X1'],\n  ['Y45'],\n  '0.09015353349264983',\n  '0.24470532866182085',\n  '7.640129957004223'],\n ['3562',\n  ['X17'],\n  ['Y62'],\n  '0.08679291263700464',\n  '0.24468503937007874',\n  '8.94772295226852'],\n ['4362',\n  ['X21'],\n  ['Y62'],\n  '0.08679291263700464',\n  '0.24468503937007874',\n  '8.85641965683721'],\n ['4966',\n  ['X24'],\n  ['Y66'],\n  '0.08686113347769195',\n  '0.24463373303474403',\n  '8.77385186643353']]"
     },
     "execution_count": 51,
     "metadata": {},
     "output_type": "execute_result"
    }
   ],
   "source": [
    "associations"
   ],
   "metadata": {
    "collapsed": false,
    "pycharm": {
     "name": "#%%\n"
    }
   }
  },
  {
   "cell_type": "code",
   "execution_count": 52,
   "outputs": [],
   "source": [
    "def plot(simtable, associations, cmap, mask, axlabels, outfile, similarity):\n",
    "    # reverse roworder of simtable to match plotting\n",
    "    order = range(simtable.nrows)[::-1]\n",
    "    simtable.rowheads = reorder(simtable.rowheads, order)\n",
    "    simtable.data = simtable.data[order, :]\n",
    "    simtable.update()\n",
    "    # scale of the data\n",
    "    tmin = -1 # if we want to use the min in the study #np.min(simtable.data,)\n",
    "    tmax = 1 # if we want to use the max in the study np.max(simtable.data)\n",
    "    crit = 0\n",
    "    while crit < max(abs(tmin), tmax):\n",
    "        crit += c_simstep\n",
    "    vmin = 0 if tmin >= 0 else -crit\n",
    "    vmax = crit\n",
    "    # masking\n",
    "    if mask:\n",
    "        mask_table(simtable, associations)\n",
    "    # begin plotting\n",
    "    fig = plt.figure()\n",
    "    width = max(c_unit_w * simtable.ncols, c_min_width)\n",
    "    width += c_char_pad * max(list(map(len, simtable.rowheads)))\n",
    "    height = max(c_unit_h * simtable.nrows, c_min_height)\n",
    "    height += c_char_pad * max(list(map(len, simtable.colheads)))\n",
    "    fig.set_size_inches(width, height)\n",
    "    span = simtable.ncols\n",
    "    cbarspan = c_cbarspan\n",
    "    ax = plt.subplot2grid((1, span), (0, cbarspan), rowspan=1, colspan=span - cbarspan)\n",
    "    ax_cbar = plt.subplot2grid((2, span), (0, 0), rowspan=2, colspan=cbarspan)\n",
    "    ax.yaxis.tick_right()\n",
    "    ax.yaxis.set_label_position(\"right\")\n",
    "    ax.set_yticks([0.5 + i for i in range(simtable.nrows)])\n",
    "    ax.set_xticks([0.5 + i for i in range(simtable.ncols)])\n",
    "    ax.set_yticklabels(simtable.rowheads, size=c_large_text)\n",
    "    ax.set_xticklabels(simtable.colheads, rotation=90, rotation_mode=\"anchor\", ha=\"right\", va=\"center\",\n",
    "                       size=c_large_text)\n",
    "    ax.xaxis.set_ticks_position('none')\n",
    "    ax.yaxis.set_ticks_position('none')\n",
    "    ax.set_ylim(0, len(simtable.rowheads))\n",
    "    ax.set_xlim(0, len(simtable.colheads))\n",
    "    ax.set_ylabel(axlabels[0], size=c_giant_text, fontweight='bold')\n",
    "    ax.set_xlabel(axlabels[1], size=c_giant_text, fontweight='bold')\n",
    "    # if masking, draw a light grid to help with orientation\n",
    "    if mask:\n",
    "        kwargs = {\"zorder\": 0, \"color\": c_grid_color}\n",
    "        xmin, xmax = ax.get_xlim()\n",
    "        ymin, ymax = ax.get_ylim()\n",
    "        for y in ax.get_yticks():\n",
    "            ax.add_line(plt.Line2D([xmin, xmax], [y, y], **kwargs))\n",
    "        for x in ax.get_xticks():\n",
    "            ax.add_line(plt.Line2D([x, x], [ymin, ymax], **kwargs))\n",
    "    # main heatmap\n",
    "    heatmap = ax.pcolormesh(simtable.data, cmap=cmap, vmin=vmin, vmax=vmax)\n",
    "    # craziness for getting cbar on the left with left-facing ticks\n",
    "    norm = matplotlib.colors.Normalize(vmin=vmin, vmax=vmax)\n",
    "    cbar = matplotlib.colorbar.ColorbarBase(\n",
    "        ax_cbar,\n",
    "        norm=norm,\n",
    "        cmap=plt.get_cmap(cmap),\n",
    "        orientation=\"vertical\",\n",
    "    )\n",
    "    cbar.set_ticks([])\n",
    "    twin_ax = plt.twinx(ax=cbar.ax)\n",
    "    twin_ax.yaxis.set_label_position(\"left\")\n",
    "    twin_ax.yaxis.tick_left()\n",
    "    [tick.set_size(c_large_text) for tick in twin_ax.get_yticklabels()]\n",
    "    twin_ax.set_ylim(vmin, vmax)\n",
    "    if similarity != \"Pairwise Similarity\":\n",
    "        similarity = \"Pairwise \" + similarity\n",
    "    twin_ax.set_ylabel(similarity, size=c_giant_text)  # , fontsize=c_large_text )\n",
    "    ticks = [vmin]\n",
    "    while ticks[-1] < vmax:\n",
    "        ticks.append(ticks[-1] + c_simstep)\n",
    "    twin_ax.set_yticks(ticks)\n",
    "    #\n",
    "    # number is used as rank of the association based on the order\n",
    "    number = 0\n",
    "    # add associations\n",
    "    for sim_rank, row_items, col_items, sig, _, _ in associations:\n",
    "        number += 1\n",
    "        row_items = row_items[::-1]\n",
    "        y1 = simtable.rowmap[row_items[0]]\n",
    "        y2 = simtable.rowmap[row_items[-1]]\n",
    "        x1 = simtable.colmap[col_items[0]]\n",
    "        x2 = simtable.colmap[col_items[-1]]\n",
    "        delx = abs(x2 - x1) + 1\n",
    "        dely = abs(y2 - y1) + 1\n",
    "        # box\n",
    "        ax.add_patch(\n",
    "            patches.Rectangle(\n",
    "                (x1, y1),\n",
    "                x2 - x1 + 1,\n",
    "                y2 - y1 + 1,\n",
    "                facecolor=\"none\",\n",
    "                edgecolor=\"black\",\n",
    "                linewidth=c_line_width,\n",
    "                clip_on=False,\n",
    "            )\n",
    "        )\n",
    "        # label\n",
    "        text = str(number)\n",
    "        size = c_label_scale * min(delx, dely)\n",
    "        size /= 1 if len(text) == 1 else c_label_aspect * len(text)\n",
    "        size = int(size)\n",
    "        text = ax.text(  # np.mean( [x1, x2] )+0.5+c_label_shift*size,\n",
    "            np.mean([x1, x2]) + .75 + c_label_shift * size if (\n",
    "                    len(row_items) % 2 != 0 and len(row_items) > 1 and len(col_items) > 1) else \\\n",
    "                np.mean([x1, x2]) + .5 + c_label_shift * size if len(row_items) == 1 else np.mean(\n",
    "                [x1, x2]) + 0.5 + c_label_shift * size,\n",
    "            np.mean([y1, y2]) + 0.5 + c_label_shift * size,\n",
    "            text,\n",
    "            size=size,\n",
    "            color=\"white\",\n",
    "            ha=\"center\",\n",
    "            va=\"center\",\n",
    "            weight=\"bold\",\n",
    "        )\n",
    "        text.set_path_effects([\n",
    "            path_effects.Stroke(linewidth=c_outline_width, foreground='black'),\n",
    "            path_effects.Normal(),\n",
    "        ])\n",
    "    # craziness for hiding the border\n",
    "    plt.setp([child for child in ax.get_children() if isinstance(child, matplotlib.spines.Spine)], visible=False)\n",
    "    # warnings.filterwarnings(\"ignore\")\n",
    "    try:\n",
    "        plt.tight_layout()\n",
    "    except:\n",
    "        pass\n",
    "    plt.savefig(outfile, dpi=paper_dpi, bbox_inches='tight')"
   ],
   "metadata": {
    "collapsed": false,
    "pycharm": {
     "name": "#%%\n"
    }
   }
  },
  {
   "cell_type": "code",
   "execution_count": 53,
   "outputs": [
    {
     "name": "stdout",
     "output_type": "stream",
     "text": [
      "100 100 100\n",
      "34 34 34\n",
      "34 34 34\n"
     ]
    }
   ],
   "source": [
    "simtable = load_order_table(outputpath + '/simtable.tsv', associations)"
   ],
   "metadata": {
    "collapsed": false,
    "pycharm": {
     "name": "#%%\n"
    }
   }
  },
  {
   "cell_type": "code",
   "execution_count": 54,
   "outputs": [
    {
     "data": {
      "text/plain": "'/Users/rah/Documents/omicsEye/btest/demo/btest_output'"
     },
     "execution_count": 54,
     "metadata": {},
     "output_type": "execute_result"
    }
   ],
   "source": [
    "outputpath"
   ],
   "metadata": {
    "collapsed": false,
    "pycharm": {
     "name": "#%%\n"
    }
   }
  },
  {
   "cell_type": "code",
   "execution_count": 55,
   "outputs": [
    {
     "data": {
      "text/plain": "      Feature_1 Feature_2      pval  Correlation Not_NAs   P_adusted  \\\n366          X1       Y66  0.021416     0.327972     nan  214.155016   \n375          X1       Y75  0.033062     0.305052     nan  165.311602   \n5574        X27       Y74  0.036443     0.296654     nan  121.477314   \n374          X1       Y74  0.040235     0.294122     nan  100.588520   \n3141        X15       Y41  0.042550     0.287992     nan   85.100808   \n...         ...       ...       ...          ...     ...         ...   \n15547       X77       Y47  0.999459    -0.000098     nan    0.999859   \n4593        X22       Y93  0.999729     0.000049     nan    1.000029   \n10708       X53        Y8  0.999729     0.000049     nan    0.999929   \n17534       X87       Y34  0.999729     0.000049     nan    0.999829   \n18302       X91        Y2  0.999729     0.000049     nan    0.999729   \n\n       bh_fdr_threshold  \n366             0.65493  \n375             0.65493  \n5574            0.65493  \n374             0.65493  \n3141            0.65493  \n...                 ...  \n15547           0.65493  \n4593            0.65493  \n10708           0.65493  \n17534           0.65493  \n18302           0.65493  \n\n[10000 rows x 7 columns]",
      "text/html": "<div>\n<style scoped>\n    .dataframe tbody tr th:only-of-type {\n        vertical-align: middle;\n    }\n\n    .dataframe tbody tr th {\n        vertical-align: top;\n    }\n\n    .dataframe thead th {\n        text-align: right;\n    }\n</style>\n<table border=\"1\" class=\"dataframe\">\n  <thead>\n    <tr style=\"text-align: right;\">\n      <th></th>\n      <th>Feature_1</th>\n      <th>Feature_2</th>\n      <th>pval</th>\n      <th>Correlation</th>\n      <th>Not_NAs</th>\n      <th>P_adusted</th>\n      <th>bh_fdr_threshold</th>\n    </tr>\n  </thead>\n  <tbody>\n    <tr>\n      <th>366</th>\n      <td>X1</td>\n      <td>Y66</td>\n      <td>0.021416</td>\n      <td>0.327972</td>\n      <td>nan</td>\n      <td>214.155016</td>\n      <td>0.65493</td>\n    </tr>\n    <tr>\n      <th>375</th>\n      <td>X1</td>\n      <td>Y75</td>\n      <td>0.033062</td>\n      <td>0.305052</td>\n      <td>nan</td>\n      <td>165.311602</td>\n      <td>0.65493</td>\n    </tr>\n    <tr>\n      <th>5574</th>\n      <td>X27</td>\n      <td>Y74</td>\n      <td>0.036443</td>\n      <td>0.296654</td>\n      <td>nan</td>\n      <td>121.477314</td>\n      <td>0.65493</td>\n    </tr>\n    <tr>\n      <th>374</th>\n      <td>X1</td>\n      <td>Y74</td>\n      <td>0.040235</td>\n      <td>0.294122</td>\n      <td>nan</td>\n      <td>100.588520</td>\n      <td>0.65493</td>\n    </tr>\n    <tr>\n      <th>3141</th>\n      <td>X15</td>\n      <td>Y41</td>\n      <td>0.042550</td>\n      <td>0.287992</td>\n      <td>nan</td>\n      <td>85.100808</td>\n      <td>0.65493</td>\n    </tr>\n    <tr>\n      <th>...</th>\n      <td>...</td>\n      <td>...</td>\n      <td>...</td>\n      <td>...</td>\n      <td>...</td>\n      <td>...</td>\n      <td>...</td>\n    </tr>\n    <tr>\n      <th>15547</th>\n      <td>X77</td>\n      <td>Y47</td>\n      <td>0.999459</td>\n      <td>-0.000098</td>\n      <td>nan</td>\n      <td>0.999859</td>\n      <td>0.65493</td>\n    </tr>\n    <tr>\n      <th>4593</th>\n      <td>X22</td>\n      <td>Y93</td>\n      <td>0.999729</td>\n      <td>0.000049</td>\n      <td>nan</td>\n      <td>1.000029</td>\n      <td>0.65493</td>\n    </tr>\n    <tr>\n      <th>10708</th>\n      <td>X53</td>\n      <td>Y8</td>\n      <td>0.999729</td>\n      <td>0.000049</td>\n      <td>nan</td>\n      <td>0.999929</td>\n      <td>0.65493</td>\n    </tr>\n    <tr>\n      <th>17534</th>\n      <td>X87</td>\n      <td>Y34</td>\n      <td>0.999729</td>\n      <td>0.000049</td>\n      <td>nan</td>\n      <td>0.999829</td>\n      <td>0.65493</td>\n    </tr>\n    <tr>\n      <th>18302</th>\n      <td>X91</td>\n      <td>Y2</td>\n      <td>0.999729</td>\n      <td>0.000049</td>\n      <td>nan</td>\n      <td>0.999729</td>\n      <td>0.65493</td>\n    </tr>\n  </tbody>\n</table>\n<p>10000 rows × 7 columns</p>\n</div>"
     },
     "execution_count": 55,
     "metadata": {},
     "output_type": "execute_result"
    }
   ],
   "source": [
    "X_Y"
   ],
   "metadata": {
    "collapsed": false,
    "pycharm": {
     "name": "#%%\n"
    }
   }
  },
  {
   "cell_type": "code",
   "execution_count": 56,
   "outputs": [],
   "source": [
    "outputpath = \"/Users/rah/Documents/omicsEye/btest/demo/btest_output\"\n",
    "os.makedirs(outputpath, exist_ok=True)\n",
    "X_Y.to_csv(outputpath + '/X_Y.tsv', sep=\"\\t\")\n",
    "#rho_X = rho.iloc[0:500, 0:500]\n",
    "#rho_X.to_csv(outputpath + '/simtable_X.tsv', sep=\"\\t\")\n",
    "rho_X_Y.to_csv(outputpath + '/simtable.tsv', sep=\"\\t\")\n",
    "within_X.to_csv(outputpath + '/within_X.tsv', sep=\"\\t\")\n",
    "within_Y.to_csv(outputpath + '/within_Y.tsv', sep=\"\\t\")"
   ],
   "metadata": {
    "collapsed": false,
    "pycharm": {
     "name": "#%%\n"
    }
   }
  },
  {
   "cell_type": "code",
   "execution_count": 57,
   "outputs": [],
   "source": [
    "# import matbtestlib.pyplot as plt\n",
    "import matplotlib\n",
    "\n",
    "# matplotlib.style.use('ggplot')\n",
    "matplotlib.use(\"Agg\")\n",
    "import matplotlib.pyplot as plt\n",
    "# import matplotlib as matplotlib\n",
    "# matplotlib.use( \"Agg\" )\n",
    "# plt.style.use('ggplot')\n",
    "import matplotlib.patches as patches\n",
    "import matplotlib.patheffects as path_effects\n",
    "import numpy as np\n",
    "from matplotlib import font_manager\n",
    "import warnings\n",
    "\n",
    "with warnings.catch_warnings():\n",
    "    warnings.simplefilter(\"error\")\n",
    "    try:\n",
    "        font_file = font_manager.findfont(font_manager.FontProperties(family='Arial'))\n",
    "        matplotlib.rcParams[\"font.family\"] = \"Arial\"\n",
    "    except UserWarning:\n",
    "        pass\n",
    "# ---------------------------------------------------------------\n",
    "# constants / config\n",
    "# ---------------------------------------------------------------\n",
    "\n",
    "c_unit_h = 0.3\n",
    "c_unit_w = 0.3\n",
    "c_min_height = 1 * c_unit_h + 3\n",
    "c_min_width = 1 * c_unit_w + 5\n",
    "c_label_scale = 8\n",
    "c_label_shift = -0.005\n",
    "c_line_width = 1.5\n",
    "c_char_pad = 0.1\n",
    "c_label_aspect = 0.7\n",
    "c_small_text = 12\n",
    "c_large_text = 16\n",
    "c_giant_text = 20\n",
    "c_outline_width = 3\n",
    "c_grid_color = \"0.9\"\n",
    "c_cbarspan = 1\n",
    "c_simstep = 0.2\n",
    "paper_dpi = 350\n",
    "\n",
    "matplotlib.rcParams['xtick.major.pad'] = '.1'  # '10'\n",
    "matplotlib.rcParams['ytick.major.pad'] = '.1'  # '10'\n",
    "def reorder(array, order):\n",
    "    return [array[i] for i in order]\n",
    "def mask_table(simtable, associations):\n",
    "    allowed = {}\n",
    "    for number, row_items, col_items, sig, _, _ in associations:\n",
    "        for r in row_items:\n",
    "            for c in col_items:\n",
    "                ri = simtable.rowmap[r]\n",
    "                ci = simtable.colmap[c]\n",
    "                allowed[(ri, ci)] = 1\n",
    "    for ri in range(simtable.nrows):\n",
    "        for ci in range(simtable.ncols):\n",
    "            if (ri, ci) not in allowed:\n",
    "                simtable.data[ri][ci] = np.nan\n",
    "    simtable.data = np.ma.masked_where(np.isnan(simtable.data), simtable.data)\n",
    "\n",
    "class Table:\n",
    "    \"\"\" \"\"\"\n",
    "\n",
    "    def __init__(self, path):\n",
    "        self.colheads = None\n",
    "        self.rowheads = []\n",
    "        self.data = []\n",
    "        with open(path) as fh:\n",
    "            for row in csv.reader(fh, dialect=\"excel-tab\"):\n",
    "                rowhead, values = row[0], row[1:]\n",
    "                if self.colheads is None:\n",
    "                    self.colheads = values\n",
    "                else:\n",
    "                    self.rowheads.append(rowhead)\n",
    "                    self.data.append(list(map(float, values)))\n",
    "        self.data = np.array(self.data)\n",
    "        self.update()\n",
    "\n",
    "    def update(self):\n",
    "        self.nrows, self.ncols = self.data.shape\n",
    "        self.rowmap = {}\n",
    "        self.colmap = {}\n",
    "        for i, h in zip(range(self.nrows), self.rowheads):\n",
    "            self.rowmap[h] = i\n",
    "        for i, h in zip(range(self.ncols), self.colheads):\n",
    "            self.colmap[h] = i\n",
    "        print(self.nrows, len(self.rowheads), len(self.rowmap))\n",
    "        assert self.nrows == len(self.rowheads) == len(self.rowmap), \"row dim failure\"\n",
    "        assert self.ncols == len(self.colheads) == len(self.colmap), \"col dim failure\"\n",
    "\n"
   ],
   "metadata": {
    "collapsed": false,
    "pycharm": {
     "name": "#%%\n"
    }
   }
  },
  {
   "cell_type": "code",
   "execution_count": 58,
   "outputs": [],
   "source": [
    "def load_order_table(p_table, associations, p_tree = None):\n",
    "    allowed_rowheads = {k for items in associations for k in items[1]}\n",
    "    allowed_colheads = {k for items in associations for k in items[2]}\n",
    "    simtable = Table(p_table)\n",
    "    row_order, col_order = simtable.rowheads, simtable.colheads # get_order(p_tree)\n",
    "\n",
    "    # reorder the rows\n",
    "    row_order = [simtable.rowmap[k] for k in row_order if k in simtable.rowmap and k in allowed_rowheads]\n",
    "    simtable.rowheads = reorder(simtable.rowheads, row_order)\n",
    "    simtable.data = simtable.data[row_order, :]\n",
    "    simtable.update()\n",
    "    # reorder the cols\n",
    "    col_order = [simtable.colmap[k] for k in col_order if k in simtable.colmap and k in allowed_colheads]\n",
    "    simtable.colheads = reorder(simtable.colheads, col_order)\n",
    "    simtable.data = simtable.data[:, col_order]\n",
    "    simtable.update()\n",
    "    return simtable"
   ],
   "metadata": {
    "collapsed": false,
    "pycharm": {
     "name": "#%%\n"
    }
   }
  },
  {
   "cell_type": "code",
   "execution_count": 59,
   "outputs": [],
   "source": [
    "def load_associations(path, largest=None, strongest=100, orderby='similarity'):\n",
    "    pairs = []\n",
    "    dic_order = {'pvalue': 3, 'similarity': 4, 'qvalue': 6, }\n",
    "    with open(path) as fh:\n",
    "        for row in csv.reader(fh, dialect=\"excel-tab\"):\n",
    "            if row[0] !='':\n",
    "                pairs.append([row[0], row[1].split(\";\"), row[2].split(\";\"), row[3], row[4], row[6]])\n",
    "    if largest is not None and strongest is not None:\n",
    "        sys.exit(\"Can only specify one of LARGEST and STRONGEST\")\n",
    "    elif largest is not None:\n",
    "        pairs = sorted(pairs, key=lambda row: len(row[1]) * len(row[2]), reverse=True)\n",
    "        pairs = pairs[0:min(len(pairs), largest)]\n",
    "    elif strongest is not None:\n",
    "        # not reversed, smaller p = stronger assoc\n",
    "        pairs = sorted(pairs, key=lambda row: abs(float(row[dic_order[orderby]])), reverse=True)\n",
    "        pairs = pairs[0:min(len(pairs), strongest)]\n",
    "    return pairs"
   ],
   "metadata": {
    "collapsed": false,
    "pycharm": {
     "name": "#%%\n"
    }
   }
  },
  {
   "cell_type": "code",
   "execution_count": 60,
   "outputs": [],
   "source": [
    "associations = load_associations(path = outputpath + '/X_Y.tsv')"
   ],
   "metadata": {
    "collapsed": false,
    "pycharm": {
     "name": "#%%\n"
    }
   }
  },
  {
   "cell_type": "code",
   "execution_count": 61,
   "outputs": [
    {
     "data": {
      "text/plain": "'/Users/rah/Documents/omicsEye/btest/demo/btest_output'"
     },
     "execution_count": 61,
     "metadata": {},
     "output_type": "execute_result"
    }
   ],
   "source": [
    "outputpath"
   ],
   "metadata": {
    "collapsed": false,
    "pycharm": {
     "name": "#%%\n"
    }
   }
  },
  {
   "cell_type": "code",
   "execution_count": 62,
   "outputs": [
    {
     "data": {
      "text/plain": "[['366',\n  ['X1'],\n  ['Y66'],\n  '0.02141550157442774',\n  '0.3279721814547849',\n  '214.15501574427742'],\n ['375',\n  ['X1'],\n  ['Y75'],\n  '0.033062320494592866',\n  '0.3050515086544998',\n  '165.31160247296432'],\n ['5574',\n  ['X27'],\n  ['Y74'],\n  '0.036443194179371946',\n  '0.2966535433070866',\n  '121.47731393123983'],\n ['374',\n  ['X1'],\n  ['Y74'],\n  '0.04023540815912691',\n  '0.294122261151493',\n  '100.58852039781728'],\n ['3141',\n  ['X15'],\n  ['Y41'],\n  '0.042550403987361936',\n  '0.28799212598425195',\n  '85.10080797472388'],\n ['3162',\n  ['X15'],\n  ['Y62'],\n  '0.042550403987361936',\n  '0.28799212598425195',\n  '70.91733997893657'],\n ['3166',\n  ['X15'],\n  ['Y66'],\n  '0.04377287255220005',\n  '0.28638245624131736',\n  '62.53267507457149'],\n ['5575',\n  ['X27'],\n  ['Y75'],\n  '0.045591011480972846',\n  '0.2840551181102362',\n  '56.988764351216055'],\n ['362',\n  ['X1'],\n  ['Y62'],\n  '0.0503542686720587',\n  '0.28115358468859486',\n  '45.77660788368973'],\n ['5566',\n  ['X27'],\n  ['Y66'],\n  '0.048837969047051434',\n  '0.28008076217240063',\n  '54.26441005227937'],\n ['4366',\n  ['X21'],\n  ['Y66'],\n  '0.04983872907905812',\n  '0.27889919453447876',\n  '49.83872907905812'],\n ['341',\n  ['X1'],\n  ['Y41'],\n  '0.05248676172878938',\n  '0.2786958113266747',\n  '37.49054409199242'],\n ['3174',\n  ['X15'],\n  ['Y74'],\n  '0.0508228544586897',\n  '0.277755905511811',\n  '42.35237871557475'],\n ['5541',\n  ['X27'],\n  ['Y41'],\n  '0.0508228544586897',\n  '0.277755905511811',\n  '39.0945034297613'],\n ['5162',\n  ['X25'],\n  ['Y62'],\n  '0.05533869783262412',\n  '0.2755320817863306',\n  '36.89246522174941'],\n ['7366',\n  ['X36'],\n  ['Y66'],\n  '0.05633742208480043',\n  '0.2716620927522072',\n  '35.210888803000266'],\n ['3175',\n  ['X15'],\n  ['Y75'],\n  '0.05653137997008717',\n  '0.2714566929133858',\n  '33.25375292358069'],\n ['3374',\n  ['X16'],\n  ['Y74'],\n  '0.05653137997008717',\n  '0.2714566929133858',\n  '31.406322205603985'],\n ['16392',\n  ['X81'],\n  ['Y92'],\n  '0.05860902732599511',\n  '0.2692913385826772',\n  '30.846856487365848'],\n ['17392',\n  ['X86'],\n  ['Y92'],\n  '0.05860902732599511',\n  '0.2692913385826772',\n  '29.304513662997557'],\n ['18392',\n  ['X91'],\n  ['Y92'],\n  '0.05860902732599511',\n  '0.2692913385826772',\n  '27.909060631426243'],\n ['7374',\n  ['X36'],\n  ['Y74'],\n  '0.05870490528504488',\n  '0.2691929133858268',\n  '26.684047856838582'],\n ['1562',\n  ['X7'],\n  ['Y62'],\n  '0.05880090931111398',\n  '0.26909448818897636',\n  '25.5656127439626'],\n ['4562',\n  ['X22'],\n  ['Y62'],\n  '0.05880090931111398',\n  '0.26909448818897636',\n  '24.500378879630826'],\n ['1566',\n  ['X7'],\n  ['Y66'],\n  '0.06000464138095432',\n  '0.26787122991387446',\n  '24.001856552381728'],\n ['3966',\n  ['X19'],\n  ['Y66'],\n  '0.06000464138095432',\n  '0.26787122991387446',\n  '23.078708223443968'],\n ['5366',\n  ['X26'],\n  ['Y66'],\n  '0.06000464138095432',\n  '0.26787122991387446',\n  '22.223941252205304'],\n ['5766',\n  ['X28'],\n  ['Y66'],\n  '0.06000464138095432',\n  '0.26787122991387446',\n  '21.43022906462654'],\n ['4341',\n  ['X21'],\n  ['Y41'],\n  '0.06035421058070553',\n  '0.26751968503937007',\n  '20.811796751967425'],\n ['17990',\n  ['X89'],\n  ['Y90'],\n  '0.06208748783534324',\n  '0.26580035955239295',\n  '20.69582927844775'],\n ['3177',\n  ['X15'],\n  ['Y77'],\n  '0.062745736947937',\n  '0.2651574803149606',\n  '20.240560305786133'],\n ['3962',\n  ['X19'],\n  ['Y62'],\n  '0.062745736947937',\n  '0.2651574803149606',\n  '19.608042796230315'],\n ['5374',\n  ['X26'],\n  ['Y74'],\n  '0.062745736947937',\n  '0.2651574803149606',\n  '19.013859681193033'],\n ['5562',\n  ['X27'],\n  ['Y62'],\n  '0.062745736947937',\n  '0.2651574803149606',\n  '18.45462851409912'],\n ['368',\n  ['X1'],\n  ['Y68'],\n  '0.06586001021671602',\n  '0.2648904460597187',\n  '14.63555782593689'],\n ['2362',\n  ['X11'],\n  ['Y62'],\n  '0.06438181108176685',\n  '0.26358267716535433',\n  '18.394803166219102'],\n ['16992',\n  ['X84'],\n  ['Y92'],\n  '0.06500405859153362',\n  '0.262992125984252',\n  '18.05668294209267'],\n ['17192',\n  ['X85'],\n  ['Y92'],\n  '0.06500405859153362',\n  '0.262992125984252',\n  '17.568664484198273'],\n ['17992',\n  ['X89'],\n  ['Y92'],\n  '0.06500405859153362',\n  '0.262992125984252',\n  '17.106331208298318'],\n ['18398',\n  ['X91'],\n  ['Y98'],\n  '0.06500405859153362',\n  '0.262992125984252',\n  '16.667707331162465'],\n ['18992',\n  ['X94'],\n  ['Y92'],\n  '0.06500405859153362',\n  '0.262992125984252',\n  '16.2510146478834'],\n ['18998',\n  ['X94'],\n  ['Y98'],\n  '0.06500405859153362',\n  '0.262992125984252',\n  '15.854648436959417'],\n ['19192',\n  ['X95'],\n  ['Y92'],\n  '0.06500405859153362',\n  '0.262992125984252',\n  '15.477156807508003'],\n ['3341',\n  ['X16'],\n  ['Y41'],\n  '0.06521253859802476',\n  '0.26279527559055116',\n  '15.16570665070343'],\n ['15956',\n  ['X79'],\n  ['Y56'],\n  '0.06557604651719223',\n  '0.26245324391358504',\n  '14.903646935725506'],\n ['5560',\n  ['X27'],\n  ['Y60'],\n  '0.06657825547320405',\n  '0.2615180204262711',\n  '14.473533798522618'],\n ['358',\n  ['X1'],\n  ['Y58'],\n  '0.06950899135870736',\n  '0.2615175443183601',\n  '12.412319885483457'],\n ['5558',\n  ['X27'],\n  ['Y58'],\n  '0.06689966403305957',\n  '0.2612204724409449',\n  '14.233971070863738'],\n ['5577',\n  ['X27'],\n  ['Y77'],\n  '0.06689966403305957',\n  '0.2612204724409449',\n  '13.93743000688741'],\n ['11983',\n  ['X59'],\n  ['Y83'],\n  '0.0673268356401875',\n  '-0.2608267716535433',\n  '13.740170538813777'],\n ['17190',\n  ['X85'],\n  ['Y90'],\n  '0.06834793120353967',\n  '0.25989368489567316',\n  '13.669586240707934'],\n ['16990',\n  ['X84'],\n  ['Y90'],\n  '0.06878253250644986',\n  '0.25949990658522515',\n  '13.486771079696052'],\n ['18390',\n  ['X91'],\n  ['Y90'],\n  '0.06921932969228575',\n  '0.25910612827477714',\n  '13.311409556208798'],\n ['4941',\n  ['X24'],\n  ['Y41'],\n  '0.06949539748413289',\n  '0.2588582677165354',\n  '13.112339147949601'],\n ['4962',\n  ['X24'],\n  ['Y62'],\n  '0.06949539748413289',\n  '0.2588582677165354',\n  '12.869518052617202'],\n ['5571',\n  ['X27'],\n  ['Y71'],\n  '0.06949539748413289',\n  '0.2588582677165354',\n  '12.635526815296888'],\n ['15953',\n  ['X79'],\n  ['Y53'],\n  '0.07065417353598132',\n  '0.25782634876582117',\n  '12.395469041400231'],\n ['15967',\n  ['X79'],\n  ['Y67'],\n  '0.07110038415471931',\n  '0.2574325704553732',\n  '12.258686923227469'],\n ['3762',\n  ['X18'],\n  ['Y62'],\n  '0.07126992647827432',\n  '0.25728346456692913',\n  '12.079648555639714'],\n ['16398',\n  ['X81'],\n  ['Y98'],\n  '0.07194457274671139',\n  '0.2566929133858268',\n  '11.990762124451898'],\n ['16792',\n  ['X83'],\n  ['Y92'],\n  '0.07194457274671139',\n  '0.2566929133858268',\n  '11.794192253559244'],\n ['18192',\n  ['X90'],\n  ['Y92'],\n  '0.07194457274671139',\n  '0.2566929133858268',\n  '11.603963346243772'],\n ['7362',\n  ['X36'],\n  ['Y62'],\n  '0.07205750459830805',\n  '0.2565944881889764',\n  '11.43769914258858'],\n ['3366',\n  ['X16'],\n  ['Y66'],\n  '0.07313476978037256',\n  '0.2556616976553483',\n  '11.427307778183213'],\n ['5542',\n  ['X27'],\n  ['Y42'],\n  '0.07336509184931006',\n  '0.25546367890313326',\n  '11.286937207586163'],\n ['4375',\n  ['X21'],\n  ['Y75'],\n  '0.07399893997478706',\n  '0.2549212598425197',\n  '11.211960602240463'],\n ['2762',\n  ['X13'],\n  ['Y62'],\n  '0.07820348682450125',\n  '0.25401349160696546',\n  '10.026088054423237'],\n ['18990',\n  ['X94'],\n  ['Y90'],\n  '0.07510081903237778',\n  '0.2539870102389533',\n  '11.209077467519073'],\n ['566',\n  ['X2'],\n  ['Y66'],\n  '0.07545094591607177',\n  '0.25369241825881184',\n  '11.09572734059879'],\n ['15790',\n  ['X78'],\n  ['Y90'],\n  '0.07556912019474944',\n  '0.2535932319285053',\n  '10.952046405036151'],\n ['18190',\n  ['X90'],\n  ['Y90'],\n  '0.07603972601519168',\n  '0.2531994536180573',\n  '10.86281800217024'],\n ['18590',\n  ['X92'],\n  ['Y90'],\n  '0.07603972601519168',\n  '0.2531994536180573',\n  '10.709820565519955'],\n ['5567',\n  ['X27'],\n  ['Y67'],\n  '0.0767499718222892',\n  '0.2526087861523853',\n  '10.659718308651277'],\n ['574',\n  ['X2'],\n  ['Y74'],\n  '0.07681000890461309',\n  '0.2525590551181102',\n  '10.521919028029192'],\n ['3168',\n  ['X15'],\n  ['Y68'],\n  '0.07681000890461309',\n  '0.2525590551181102',\n  '10.379730933055823'],\n ['3574',\n  ['X17'],\n  ['Y74'],\n  '0.07681000890461309',\n  '0.2525590551181102',\n  '10.24133452061508'],\n ['4374',\n  ['X21'],\n  ['Y74'],\n  '0.07681000890461309',\n  '0.2525590551181102',\n  '10.106580119028038'],\n ['3140',\n  ['X15'],\n  ['Y40'],\n  '0.07740562096366194',\n  '0.25206734097551936',\n  '10.052678047228822'],\n ['360',\n  ['X1'],\n  ['Y60'],\n  '0.0825125962580557',\n  '0.25053612138879194',\n  '9.707364265653611'],\n ['18396',\n  ['X91'],\n  ['Y96'],\n  '0.07946024104606851',\n  '0.2503937007874016',\n  '10.058258360261837'],\n ['5341',\n  ['X26'],\n  ['Y41'],\n  '0.07970469694232273',\n  '0.25019685039370076',\n  '9.96308711779034'],\n ['5362',\n  ['X26'],\n  ['Y62'],\n  '0.07970469694232273',\n  '0.25019685039370076',\n  '9.840086042262064'],\n ['4566',\n  ['X22'],\n  ['Y66'],\n  '0.0807505368644499',\n  '0.2493600035864316',\n  '9.847626446884133'],\n ['3541',\n  ['X17'],\n  ['Y41'],\n  '0.08168171487544854',\n  '0.24862204724409448',\n  '9.841170466921511'],\n ['6766',\n  ['X33'],\n  ['Y66'],\n  '0.08224552486287864',\n  '0.24817843594850972',\n  '9.791133912247457'],\n ['15949',\n  ['X79'],\n  ['Y49'],\n  '0.08268456472147612',\n  '0.24783464566929134',\n  '9.614484269939084'],\n ['3566',\n  ['X17'],\n  ['Y66'],\n  '0.0832541962945141',\n  '0.2473907241898951',\n  '9.569447849944149'],\n ['3167',\n  ['X15'],\n  ['Y67'],\n  '0.08331690363646338',\n  '0.24734200125014347',\n  '9.467829958689022'],\n ['373',\n  ['X1'],\n  ['Y73'],\n  '0.08669685289967007',\n  '0.2472932738885612',\n  '9.030922177048966'],\n ['1762',\n  ['X8'],\n  ['Y62'],\n  '0.08356996203511732',\n  '0.24714566929133858',\n  '9.389883374732284'],\n ['17984',\n  ['X89'],\n  ['Y84'],\n  '0.08388875478706083',\n  '0.2468990006508895',\n  '9.32097275411787'],\n ['3941',\n  ['X19'],\n  ['Y41'],\n  '0.08471923406884507',\n  '0.24625984251968505',\n  '9.309805941631327'],\n ['4574',\n  ['X22'],\n  ['Y74'],\n  '0.08471923406884507',\n  '0.24625984251968505',\n  '9.208612398787508'],\n ['16390',\n  ['X81'],\n  ['Y90'],\n  '0.08542873840755222',\n  '0.2457176657195455',\n  '9.185885850274431'],\n ['16394',\n  ['X81'],\n  ['Y94'],\n  '0.08646762679827115',\n  '0.24493010909864954',\n  '9.19868370194374'],\n ['15969',\n  ['X79'],\n  ['Y69'],\n  '0.0865981794620969',\n  '0.24483166452103752',\n  '9.115597838115464'],\n ['345',\n  ['X1'],\n  ['Y45'],\n  '0.09015353349264983',\n  '0.24470532866182085',\n  '7.640129957004223'],\n ['3562',\n  ['X17'],\n  ['Y62'],\n  '0.08679291263700464',\n  '0.24468503937007874',\n  '8.94772295226852'],\n ['4362',\n  ['X21'],\n  ['Y62'],\n  '0.08679291263700464',\n  '0.24468503937007874',\n  '8.85641965683721'],\n ['4966',\n  ['X24'],\n  ['Y66'],\n  '0.08686113347769195',\n  '0.24463373303474403',\n  '8.77385186643353']]"
     },
     "execution_count": 62,
     "metadata": {},
     "output_type": "execute_result"
    }
   ],
   "source": [
    "associations"
   ],
   "metadata": {
    "collapsed": false,
    "pycharm": {
     "name": "#%%\n"
    }
   }
  },
  {
   "cell_type": "code",
   "execution_count": 63,
   "outputs": [],
   "source": [
    "def plot(simtable, associations, cmap, mask, axlabels, outfile, similarity):\n",
    "    # reverse roworder of simtable to match plotting\n",
    "    order = range(simtable.nrows)[::-1]\n",
    "    simtable.rowheads = reorder(simtable.rowheads, order)\n",
    "    simtable.data = simtable.data[order, :]\n",
    "    simtable.update()\n",
    "    # scale of the data\n",
    "    tmin = -1 # if we want to use the min in the study #np.min(simtable.data,)\n",
    "    tmax = 1 # if we want to use the max in the study np.max(simtable.data)\n",
    "    crit = 0\n",
    "    while crit < max(abs(tmin), tmax):\n",
    "        crit += c_simstep\n",
    "    vmin = 0 if tmin >= 0 else -crit\n",
    "    vmax = crit\n",
    "    # masking\n",
    "    if mask:\n",
    "        mask_table(simtable, associations)\n",
    "    # begin plotting\n",
    "    fig = plt.figure()\n",
    "    width = max(c_unit_w * simtable.ncols, c_min_width)\n",
    "    width += c_char_pad * max(list(map(len, simtable.rowheads)))\n",
    "    height = max(c_unit_h * simtable.nrows, c_min_height)\n",
    "    height += c_char_pad * max(list(map(len, simtable.colheads)))\n",
    "    fig.set_size_inches(width, height)\n",
    "    span = simtable.ncols\n",
    "    cbarspan = c_cbarspan\n",
    "    ax = plt.subplot2grid((1, span), (0, cbarspan), rowspan=1, colspan=span - cbarspan)\n",
    "    ax_cbar = plt.subplot2grid((2, span), (0, 0), rowspan=2, colspan=cbarspan)\n",
    "    ax.yaxis.tick_right()\n",
    "    ax.yaxis.set_label_position(\"right\")\n",
    "    ax.set_yticks([0.5 + i for i in range(simtable.nrows)])\n",
    "    ax.set_xticks([0.5 + i for i in range(simtable.ncols)])\n",
    "    ax.set_yticklabels(simtable.rowheads, size=c_large_text)\n",
    "    ax.set_xticklabels(simtable.colheads, rotation=90, rotation_mode=\"anchor\", ha=\"right\", va=\"center\",\n",
    "                       size=c_large_text)\n",
    "    ax.xaxis.set_ticks_position('none')\n",
    "    ax.yaxis.set_ticks_position('none')\n",
    "    ax.set_ylim(0, len(simtable.rowheads))\n",
    "    ax.set_xlim(0, len(simtable.colheads))\n",
    "    ax.set_ylabel(axlabels[0], size=c_giant_text, fontweight='bold')\n",
    "    ax.set_xlabel(axlabels[1], size=c_giant_text, fontweight='bold')\n",
    "    # if masking, draw a light grid to help with orientation\n",
    "    if mask:\n",
    "        kwargs = {\"zorder\": 0, \"color\": c_grid_color}\n",
    "        xmin, xmax = ax.get_xlim()\n",
    "        ymin, ymax = ax.get_ylim()\n",
    "        for y in ax.get_yticks():\n",
    "            ax.add_line(plt.Line2D([xmin, xmax], [y, y], **kwargs))\n",
    "        for x in ax.get_xticks():\n",
    "            ax.add_line(plt.Line2D([x, x], [ymin, ymax], **kwargs))\n",
    "    # main heatmap\n",
    "    heatmap = ax.pcolormesh(simtable.data, cmap=cmap, vmin=vmin, vmax=vmax)\n",
    "    # craziness for getting cbar on the left with left-facing ticks\n",
    "    norm = matplotlib.colors.Normalize(vmin=vmin, vmax=vmax)\n",
    "    cbar = matplotlib.colorbar.ColorbarBase(\n",
    "        ax_cbar,\n",
    "        norm=norm,\n",
    "        cmap=plt.get_cmap(cmap),\n",
    "        orientation=\"vertical\",\n",
    "    )\n",
    "    cbar.set_ticks([])\n",
    "    twin_ax = plt.twinx(ax=cbar.ax)\n",
    "    twin_ax.yaxis.set_label_position(\"left\")\n",
    "    twin_ax.yaxis.tick_left()\n",
    "    [tick.set_size(c_large_text) for tick in twin_ax.get_yticklabels()]\n",
    "    twin_ax.set_ylim(vmin, vmax)\n",
    "    if similarity != \"Pairwise Similarity\":\n",
    "        similarity = \"Pairwise \" + similarity\n",
    "    twin_ax.set_ylabel(similarity, size=c_giant_text)  # , fontsize=c_large_text )\n",
    "    ticks = [vmin]\n",
    "    while ticks[-1] < vmax:\n",
    "        ticks.append(ticks[-1] + c_simstep)\n",
    "    twin_ax.set_yticks(ticks)\n",
    "    #\n",
    "    # number is used as rank of the association based on the order\n",
    "    number = 0\n",
    "    # add associations\n",
    "    for sim_rank, row_items, col_items, sig, _, _ in associations:\n",
    "        number += 1\n",
    "        row_items = row_items[::-1]\n",
    "        y1 = simtable.rowmap[row_items[0]]\n",
    "        y2 = simtable.rowmap[row_items[-1]]\n",
    "        x1 = simtable.colmap[col_items[0]]\n",
    "        x2 = simtable.colmap[col_items[-1]]\n",
    "        delx = abs(x2 - x1) + 1\n",
    "        dely = abs(y2 - y1) + 1\n",
    "        # box\n",
    "        ax.add_patch(\n",
    "            patches.Rectangle(\n",
    "                (x1, y1),\n",
    "                x2 - x1 + 1,\n",
    "                y2 - y1 + 1,\n",
    "                facecolor=\"none\",\n",
    "                edgecolor=\"black\",\n",
    "                linewidth=c_line_width,\n",
    "                clip_on=False,\n",
    "            )\n",
    "        )\n",
    "        # label\n",
    "        text = str(number)\n",
    "        size = c_label_scale * min(delx, dely)\n",
    "        size /= 1 if len(text) == 1 else c_label_aspect * len(text)\n",
    "        size = int(size)\n",
    "        text = ax.text(  # np.mean( [x1, x2] )+0.5+c_label_shift*size,\n",
    "            np.mean([x1, x2]) + .75 + c_label_shift * size if (\n",
    "                    len(row_items) % 2 != 0 and len(row_items) > 1 and len(col_items) > 1) else \\\n",
    "                np.mean([x1, x2]) + .5 + c_label_shift * size if len(row_items) == 1 else np.mean(\n",
    "                [x1, x2]) + 0.5 + c_label_shift * size,\n",
    "            np.mean([y1, y2]) + 0.5 + c_label_shift * size,\n",
    "            text,\n",
    "            size=size,\n",
    "            color=\"white\",\n",
    "            ha=\"center\",\n",
    "            va=\"center\",\n",
    "            weight=\"bold\",\n",
    "        )\n",
    "        text.set_path_effects([\n",
    "            path_effects.Stroke(linewidth=c_outline_width, foreground='black'),\n",
    "            path_effects.Normal(),\n",
    "        ])\n",
    "    # craziness for hiding the border\n",
    "    plt.setp([child for child in ax.get_children() if isinstance(child, matplotlib.spines.Spine)], visible=False)\n",
    "    # warnings.filterwarnings(\"ignore\")\n",
    "    try:\n",
    "        plt.tight_layout()\n",
    "    except:\n",
    "        pass\n",
    "    plt.savefig(outfile, dpi=paper_dpi, bbox_inches='tight')"
   ],
   "metadata": {
    "collapsed": false,
    "pycharm": {
     "name": "#%%\n"
    }
   }
  },
  {
   "cell_type": "code",
   "execution_count": 64,
   "outputs": [
    {
     "name": "stdout",
     "output_type": "stream",
     "text": [
      "100 100 100\n",
      "34 34 34\n",
      "34 34 34\n"
     ]
    }
   ],
   "source": [
    "simtable = load_order_table(outputpath + '/simtable.tsv', associations)"
   ],
   "metadata": {
    "collapsed": false,
    "pycharm": {
     "name": "#%%\n"
    }
   }
  },
  {
   "cell_type": "code",
   "execution_count": 65,
   "outputs": [
    {
     "data": {
      "text/plain": "'/Users/rah/Documents/omicsEye/btest/demo/btest_output'"
     },
     "execution_count": 65,
     "metadata": {},
     "output_type": "execute_result"
    }
   ],
   "source": [
    "outputpath"
   ],
   "metadata": {
    "collapsed": false,
    "pycharm": {
     "name": "#%%\n"
    }
   }
  },
  {
   "cell_type": "code",
   "execution_count": 66,
   "outputs": [
    {
     "data": {
      "text/plain": "<__main__.Table at 0x7f91b26c2070>"
     },
     "execution_count": 66,
     "metadata": {},
     "output_type": "execute_result"
    }
   ],
   "source": [
    "simtable\n"
   ],
   "metadata": {
    "collapsed": false,
    "pycharm": {
     "name": "#%%\n"
    }
   }
  },
  {
   "cell_type": "code",
   "execution_count": 67,
   "outputs": [
    {
     "name": "stdout",
     "output_type": "stream",
     "text": [
      "34 34 34\n"
     ]
    }
   ],
   "source": [
    "plot(\n",
    "    simtable,\n",
    "    associations,\n",
    "    cmap=\"RdBu_r\",\n",
    "    mask=False,\n",
    "    axlabels=[\"\",\"\"],\n",
    "    outfile=\"/Users/rah/Documents/omicsEye/btest/demo/btest_output/blockplot.pdf\",\n",
    "    similarity=\"Spearman\"\n",
    ")"
   ],
   "metadata": {
    "collapsed": false,
    "pycharm": {
     "name": "#%%\n"
    }
   }
  },
  {
   "cell_type": "code",
   "execution_count": null,
   "outputs": [],
   "source": [],
   "metadata": {
    "collapsed": false,
    "pycharm": {
     "name": "#%%\n"
    }
   }
  }
 ],
 "metadata": {
  "accelerator": "TPU",
  "colab": {
   "collapsed_sections": [
    "yfILUg1HmAkM"
   ],
   "machine_shape": "hm",
   "name": "15-Ensemble-Evaluation.ipynb",
   "provenance": []
  },
  "kernelspec": {
   "display_name": "Python 3",
   "language": "python",
   "name": "python3"
  },
  "language_info": {
   "codemirror_mode": {
    "name": "ipython",
    "version": 3
   },
   "file_extension": ".py",
   "mimetype": "text/x-python",
   "name": "python",
   "nbconvert_exporter": "python",
   "pygments_lexer": "ipython3",
   "version": "3.7.6"
  }
 },
 "nbformat": 4,
 "nbformat_minor": 1
}