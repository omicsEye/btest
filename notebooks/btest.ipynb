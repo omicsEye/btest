{
 "cells": [
  {
   "cell_type": "markdown",
   "metadata": {
    "colab_type": "text",
    "id": "AmPqBsydh5J-",
    "pycharm": {
     "name": "#%% md\n"
    }
   },
   "source": [
    "# *btest* initial steps\n",
    "\n",
    "step-by-step"
   ]
  },
  {
   "cell_type": "code",
   "execution_count": 1,
   "outputs": [],
   "source": [
    "import os\n",
    "import time\n",
    "import numpy as np\n",
    "import pandas as pd\n",
    "from btest import utils\n",
    "from btest import blockplot\n",
    "from scipy.stats import t\n",
    "from btest import btest"
   ],
   "metadata": {
    "collapsed": false,
    "pycharm": {
     "name": "#%%\n"
    }
   }
  },
  {
   "cell_type": "code",
   "execution_count": 8,
   "outputs": [],
   "source": [
    "method = 'spearman'\n",
    "min_var = 0.0\n",
    "fdr = 0.1"
   ],
   "metadata": {
    "collapsed": false,
    "pycharm": {
     "name": "#%%\n"
    }
   }
  },
  {
   "cell_type": "code",
   "execution_count": 9,
   "outputs": [
    {
     "name": "stdout",
     "output_type": "stream",
     "text": [
      "--- 38 samples/columns with all missing values have been removed from the second dataset \n",
      "--- 19 features with variation equal or less than 0.000 have been removed from the first dataset \n",
      "--- 1 features with variation equal or less than 0.000 have been removed from the second dataset \n",
      "Dataset X dimension  after cleaning:  (107, 49)\n",
      "Dataset Y dimension  after cleaning:  (249, 49)\n"
     ]
    }
   ],
   "source": [
    "# dataX, dataY, featuresX, featuresY = utils.readData('../demo/X_dataset.txt', '../demo/Y_dataset.txt', min_var=min_var)\n",
    "dataX, dataY, featuresX, featuresY = utils.readData('~/Downloads/microbe.txt', '~/Downloads/amino.txt', min_var=min_var)\n"
   ],
   "metadata": {
    "collapsed": false,
    "pycharm": {
     "name": "#%%\n"
    }
   }
  },
  {
   "cell_type": "code",
   "execution_count": 10,
   "outputs": [
    {
     "name": "stdout",
     "output_type": "stream",
     "text": [
      "CPU times: user 1.65 s, sys: 38.6 ms, total: 1.69 s\n",
      "Wall time: 2.22 s\n"
     ]
    }
   ],
   "source": [
    "%%time\n",
    "within_X = utils.btest_corr(dataX, featuresX, method=method, fdr=fdr, Type='withinX')\n",
    "within_Y = utils.btest_corr(dataY, featuresY, method=method, fdr=fdr, Type='withinY')\n",
    "dataAll = np.concatenate((dataX, dataY), axis=0)\n",
    "X_Y = utils.btest_corr(dataAll, featuresX, featuresY, method=method, fdr=fdr, Type='X_Y')"
   ],
   "metadata": {
    "collapsed": false,
    "pycharm": {
     "name": "#%%\n"
    }
   }
  },
  {
   "cell_type": "code",
   "execution_count": 11,
   "outputs": [
    {
     "data": {
      "text/plain": "                     Feature_1       Feature_2  Correlation  complete_obs  \\\n10908           Alloprevotella     Peptococcus          1.0          49.0   \n10917           Alloprevotella  Eisenbergiella          1.0          49.0   \n10920           Alloprevotella     Coprobacter          1.0          49.0   \n10931           Alloprevotella     Leuconostoc          1.0          49.0   \n21550  Candidatus Stoquefichus     Eubacterium          1.0          49.0   \n\n       t_statistic  pval  P_adjusted  bh_fdr_threshold Type  \n10908          inf   0.0         0.0          0.003422  X_X  \n10917          inf   0.0         0.0          0.003422  X_X  \n10920          inf   0.0         0.0          0.003422  X_X  \n10931          inf   0.0         0.0          0.003422  X_X  \n21550          inf   0.0         0.0          0.003422  X_X  ",
      "text/html": "<div>\n<style scoped>\n    .dataframe tbody tr th:only-of-type {\n        vertical-align: middle;\n    }\n\n    .dataframe tbody tr th {\n        vertical-align: top;\n    }\n\n    .dataframe thead th {\n        text-align: right;\n    }\n</style>\n<table border=\"1\" class=\"dataframe\">\n  <thead>\n    <tr style=\"text-align: right;\">\n      <th></th>\n      <th>Feature_1</th>\n      <th>Feature_2</th>\n      <th>Correlation</th>\n      <th>complete_obs</th>\n      <th>t_statistic</th>\n      <th>pval</th>\n      <th>P_adjusted</th>\n      <th>bh_fdr_threshold</th>\n      <th>Type</th>\n    </tr>\n  </thead>\n  <tbody>\n    <tr>\n      <th>10908</th>\n      <td>Alloprevotella</td>\n      <td>Peptococcus</td>\n      <td>1.0</td>\n      <td>49.0</td>\n      <td>inf</td>\n      <td>0.0</td>\n      <td>0.0</td>\n      <td>0.003422</td>\n      <td>X_X</td>\n    </tr>\n    <tr>\n      <th>10917</th>\n      <td>Alloprevotella</td>\n      <td>Eisenbergiella</td>\n      <td>1.0</td>\n      <td>49.0</td>\n      <td>inf</td>\n      <td>0.0</td>\n      <td>0.0</td>\n      <td>0.003422</td>\n      <td>X_X</td>\n    </tr>\n    <tr>\n      <th>10920</th>\n      <td>Alloprevotella</td>\n      <td>Coprobacter</td>\n      <td>1.0</td>\n      <td>49.0</td>\n      <td>inf</td>\n      <td>0.0</td>\n      <td>0.0</td>\n      <td>0.003422</td>\n      <td>X_X</td>\n    </tr>\n    <tr>\n      <th>10931</th>\n      <td>Alloprevotella</td>\n      <td>Leuconostoc</td>\n      <td>1.0</td>\n      <td>49.0</td>\n      <td>inf</td>\n      <td>0.0</td>\n      <td>0.0</td>\n      <td>0.003422</td>\n      <td>X_X</td>\n    </tr>\n    <tr>\n      <th>21550</th>\n      <td>Candidatus Stoquefichus</td>\n      <td>Eubacterium</td>\n      <td>1.0</td>\n      <td>49.0</td>\n      <td>inf</td>\n      <td>0.0</td>\n      <td>0.0</td>\n      <td>0.003422</td>\n      <td>X_X</td>\n    </tr>\n  </tbody>\n</table>\n</div>"
     },
     "execution_count": 11,
     "metadata": {},
     "output_type": "execute_result"
    }
   ],
   "source": [
    "X_Y.head()"
   ],
   "metadata": {
    "collapsed": false,
    "pycharm": {
     "name": "#%%\n"
    }
   }
  },
  {
   "cell_type": "code",
   "execution_count": 12,
   "outputs": [
    {
     "data": {
      "text/plain": "49"
     },
     "execution_count": 12,
     "metadata": {},
     "output_type": "execute_result"
    }
   ],
   "source": [
    "nas = np.isnan(dataAll[0] + dataAll[1])\n",
    "not_na = sum(~nas)\n",
    "not_na"
   ],
   "metadata": {
    "collapsed": false,
    "pycharm": {
     "name": "#%%\n"
    }
   }
  },
  {
   "cell_type": "code",
   "execution_count": 13,
   "outputs": [
    {
     "data": {
      "text/plain": "Empty DataFrame\nColumns: [Feature_1, Feature_2, Correlation, complete_obs, t_statistic, pval, P_adjusted, bh_fdr_threshold, Type]\nIndex: []",
      "text/html": "<div>\n<style scoped>\n    .dataframe tbody tr th:only-of-type {\n        vertical-align: middle;\n    }\n\n    .dataframe tbody tr th {\n        vertical-align: top;\n    }\n\n    .dataframe thead th {\n        text-align: right;\n    }\n</style>\n<table border=\"1\" class=\"dataframe\">\n  <thead>\n    <tr style=\"text-align: right;\">\n      <th></th>\n      <th>Feature_1</th>\n      <th>Feature_2</th>\n      <th>Correlation</th>\n      <th>complete_obs</th>\n      <th>t_statistic</th>\n      <th>pval</th>\n      <th>P_adjusted</th>\n      <th>bh_fdr_threshold</th>\n      <th>Type</th>\n    </tr>\n  </thead>\n  <tbody>\n  </tbody>\n</table>\n</div>"
     },
     "execution_count": 13,
     "metadata": {},
     "output_type": "execute_result"
    }
   ],
   "source": [
    "X_Y[(X_Y['Feature_1'] == 'X0') & (X_Y['Feature_2'] == 'Y66')]"
   ],
   "metadata": {
    "collapsed": false,
    "pycharm": {
     "name": "#%%\n"
    }
   }
  },
  {
   "cell_type": "code",
   "execution_count": 14,
   "outputs": [
    {
     "name": "stdout",
     "output_type": "stream",
     "text": [
      "CPU times: user 1 s, sys: 22.5 ms, total: 1.03 s\n",
      "Wall time: 1.43 s\n"
     ]
    }
   ],
   "source": [
    "%%time\n",
    "X_Y_3 = utils.btest_corr(dataAll, featuresX, featuresY, method=method, fdr=fdr, Type='X_Y')"
   ],
   "metadata": {
    "collapsed": false,
    "pycharm": {
     "name": "#%%\n"
    }
   }
  },
  {
   "cell_type": "code",
   "execution_count": 15,
   "outputs": [
    {
     "data": {
      "text/plain": "                     Feature_1       Feature_2  Correlation  complete_obs  \\\n10908           Alloprevotella     Peptococcus          1.0          49.0   \n10917           Alloprevotella  Eisenbergiella          1.0          49.0   \n10920           Alloprevotella     Coprobacter          1.0          49.0   \n10931           Alloprevotella     Leuconostoc          1.0          49.0   \n21550  Candidatus Stoquefichus     Eubacterium          1.0          49.0   \n\n       t_statistic  pval  P_adjusted  bh_fdr_threshold Type  \n10908          inf   0.0         0.0          0.003422  X_X  \n10917          inf   0.0         0.0          0.003422  X_X  \n10920          inf   0.0         0.0          0.003422  X_X  \n10931          inf   0.0         0.0          0.003422  X_X  \n21550          inf   0.0         0.0          0.003422  X_X  ",
      "text/html": "<div>\n<style scoped>\n    .dataframe tbody tr th:only-of-type {\n        vertical-align: middle;\n    }\n\n    .dataframe tbody tr th {\n        vertical-align: top;\n    }\n\n    .dataframe thead th {\n        text-align: right;\n    }\n</style>\n<table border=\"1\" class=\"dataframe\">\n  <thead>\n    <tr style=\"text-align: right;\">\n      <th></th>\n      <th>Feature_1</th>\n      <th>Feature_2</th>\n      <th>Correlation</th>\n      <th>complete_obs</th>\n      <th>t_statistic</th>\n      <th>pval</th>\n      <th>P_adjusted</th>\n      <th>bh_fdr_threshold</th>\n      <th>Type</th>\n    </tr>\n  </thead>\n  <tbody>\n    <tr>\n      <th>10908</th>\n      <td>Alloprevotella</td>\n      <td>Peptococcus</td>\n      <td>1.0</td>\n      <td>49.0</td>\n      <td>inf</td>\n      <td>0.0</td>\n      <td>0.0</td>\n      <td>0.003422</td>\n      <td>X_X</td>\n    </tr>\n    <tr>\n      <th>10917</th>\n      <td>Alloprevotella</td>\n      <td>Eisenbergiella</td>\n      <td>1.0</td>\n      <td>49.0</td>\n      <td>inf</td>\n      <td>0.0</td>\n      <td>0.0</td>\n      <td>0.003422</td>\n      <td>X_X</td>\n    </tr>\n    <tr>\n      <th>10920</th>\n      <td>Alloprevotella</td>\n      <td>Coprobacter</td>\n      <td>1.0</td>\n      <td>49.0</td>\n      <td>inf</td>\n      <td>0.0</td>\n      <td>0.0</td>\n      <td>0.003422</td>\n      <td>X_X</td>\n    </tr>\n    <tr>\n      <th>10931</th>\n      <td>Alloprevotella</td>\n      <td>Leuconostoc</td>\n      <td>1.0</td>\n      <td>49.0</td>\n      <td>inf</td>\n      <td>0.0</td>\n      <td>0.0</td>\n      <td>0.003422</td>\n      <td>X_X</td>\n    </tr>\n    <tr>\n      <th>21550</th>\n      <td>Candidatus Stoquefichus</td>\n      <td>Eubacterium</td>\n      <td>1.0</td>\n      <td>49.0</td>\n      <td>inf</td>\n      <td>0.0</td>\n      <td>0.0</td>\n      <td>0.003422</td>\n      <td>X_X</td>\n    </tr>\n  </tbody>\n</table>\n</div>"
     },
     "execution_count": 15,
     "metadata": {},
     "output_type": "execute_result"
    }
   ],
   "source": [
    "X_Y_3.head()"
   ],
   "metadata": {
    "collapsed": false,
    "pycharm": {
     "name": "#%%\n"
    }
   }
  },
  {
   "cell_type": "code",
   "execution_count": null,
   "outputs": [],
   "source": [
    "err = []\n",
    "for i in range(X_Y.shape[0]):\n",
    "    var1, var2 = X_Y.iloc[i, [0, 1]]\n",
    "    a = X_Y.loc[(X_Y.loc[:, 'Feature_1'] == var1) & (X_Y.loc[:, 'Feature_2'] == var2), 'complete_obs'].values[0]\n",
    "    b = X_Y_3.loc[(X_Y_3.loc[:, 'Feature_1'] == var1) & (X_Y_3.loc[:, 'Feature_2'] == var2), 'complete_obs'].values[0]\n",
    "    if a != b:\n",
    "        err.append([var1, var2])"
   ],
   "metadata": {
    "collapsed": false,
    "pycharm": {
     "name": "#%%\n"
    }
   }
  },
  {
   "cell_type": "code",
   "execution_count": null,
   "outputs": [],
   "source": [
    "err"
   ],
   "metadata": {
    "collapsed": false,
    "pycharm": {
     "name": "#%%\n"
    }
   }
  },
  {
   "cell_type": "code",
   "execution_count": null,
   "outputs": [],
   "source": [
    "err = []\n",
    "for i in range(X_Y_3.shape[0]):\n",
    "    if X_Y_3.iloc[i, 8] == 'X_Y':\n",
    "        var1, var2 = X_Y_3.iloc[i, [0, 1]]\n",
    "        var1 = int(var1.split('X')[-1])\n",
    "        var2 = int(var2.split('Y')[-1])\n",
    "        #     print(var1, var2)\n",
    "        a = sum(~np.isnan(dataX[var1] + dataY[var2]))\n",
    "        b = X_Y_3.iloc[i, 3]\n",
    "        #     print(a,b)\n",
    "        if a != b:\n",
    "            err.append([i, var1, var2])"
   ],
   "metadata": {
    "collapsed": false,
    "pycharm": {
     "name": "#%%\n"
    }
   }
  },
  {
   "cell_type": "code",
   "execution_count": null,
   "outputs": [],
   "source": [
    "err"
   ],
   "metadata": {
    "collapsed": false,
    "pycharm": {
     "name": "#%%\n"
    }
   }
  },
  {
   "cell_type": "code",
   "execution_count": null,
   "outputs": [],
   "source": [
    "X_Y_3[(X_Y_3['Feature_1'] == 'X0') & (X_Y_3['Feature_2'] == 'Y66')]"
   ],
   "metadata": {
    "collapsed": false,
    "pycharm": {
     "name": "#%%\n"
    }
   }
  },
  {
   "cell_type": "code",
   "execution_count": null,
   "outputs": [],
   "source": [
    "X_Y_3.loc[:, 'Type'].value_counts()"
   ],
   "metadata": {
    "collapsed": false,
    "pycharm": {
     "name": "#%%\n"
    }
   }
  },
  {
   "cell_type": "code",
   "execution_count": null,
   "outputs": [],
   "source": [
    "X_Y[(X_Y['Feature_1'] == 'X0') & (X_Y['Feature_2'] == 'Y66')]"
   ],
   "metadata": {
    "collapsed": false,
    "pycharm": {
     "name": "#%%\n"
    }
   }
  },
  {
   "cell_type": "code",
   "execution_count": null,
   "outputs": [],
   "source": [
    "X_Y_32 = X_Y_3[X_Y_3[\"Type\"] == \"X_Y\"]"
   ],
   "metadata": {
    "collapsed": false,
    "pycharm": {
     "name": "#%%\n"
    }
   }
  },
  {
   "cell_type": "code",
   "execution_count": null,
   "outputs": [],
   "source": [
    "X_Y_32"
   ],
   "metadata": {
    "collapsed": false,
    "pycharm": {
     "name": "#%%\n"
    }
   }
  },
  {
   "cell_type": "code",
   "execution_count": null,
   "outputs": [],
   "source": [
    "simtable = pd.pivot(X_Y_32, index=\"Feature_1\", columns=\"Feature_2\", values='Correlation')  #Reshape from long to wide"
   ],
   "metadata": {
    "collapsed": false,
    "pycharm": {
     "name": "#%%\n"
    }
   }
  },
  {
   "cell_type": "code",
   "execution_count": null,
   "outputs": [],
   "source": [
    "simtable"
   ],
   "metadata": {
    "collapsed": false,
    "pycharm": {
     "name": "#%%\n"
    }
   }
  },
  {
   "cell_type": "code",
   "execution_count": null,
   "outputs": [],
   "source": [
    "t1 = time.time()\n",
    "for i in range(1000):\n",
    "    i\n",
    "t2 = time.time()\n",
    "print(t2 - t1)"
   ],
   "metadata": {
    "collapsed": false,
    "pycharm": {
     "name": "#%%\n"
    }
   }
  },
  {
   "cell_type": "code",
   "execution_count": null,
   "outputs": [],
   "source": [
    "nrow = 5000\n",
    "ncol = 100\n",
    "aa = np.array(np.random.random(size=nrow * ncol), dtype=np.float32)\n",
    "aa[np.random.randint(0, nrow * ncol, size=int(nrow * ncol / 20))] = np.nan\n",
    "aa = aa.reshape((nrow, ncol))\n",
    "feature_names = ['P' + str(i) for i in range(nrow)]"
   ],
   "metadata": {
    "collapsed": false,
    "pycharm": {
     "name": "#%%\n"
    }
   }
  },
  {
   "cell_type": "code",
   "execution_count": null,
   "outputs": [],
   "source": [
    "% % time\n",
    "#test\n",
    "test_withinX = utils.btest_corr_3(aa, features=feature_names, method=method, fdr=fdr, Type='withinX')"
   ],
   "metadata": {
    "collapsed": false,
    "pycharm": {
     "name": "#%%\n"
    }
   }
  },
  {
   "cell_type": "code",
   "execution_count": null,
   "outputs": [],
   "source": [
    "% % time\n",
    "test_withinX = utils.btest_corr_3(aa, features=feature_names, method='pearson', fdr=fdr, Type='withinX')"
   ],
   "metadata": {
    "collapsed": false,
    "pycharm": {
     "name": "#%%\n"
    }
   }
  },
  {
   "cell_type": "code",
   "execution_count": null,
   "outputs": [],
   "source": [
    "test_withinX.head()"
   ],
   "metadata": {
    "collapsed": false,
    "pycharm": {
     "name": "#%%\n"
    }
   }
  },
  {
   "cell_type": "code",
   "execution_count": null,
   "outputs": [],
   "source": [
    "df_test = pd.DataFrame(aa.T)"
   ],
   "metadata": {
    "collapsed": false,
    "pycharm": {
     "name": "#%%\n"
    }
   }
  },
  {
   "cell_type": "code",
   "execution_count": null,
   "outputs": [],
   "source": [
    "% % time\n",
    "cr_test = df_test.corr(method='spearman')"
   ],
   "metadata": {
    "collapsed": false,
    "pycharm": {
     "name": "#%%\n"
    }
   }
  },
  {
   "cell_type": "code",
   "execution_count": null,
   "outputs": [],
   "source": [
    "X_Y[(X_Y['Feature_1'] == 'X0') & (X_Y['Feature_2'] == 'Y66')]"
   ],
   "metadata": {
    "collapsed": false,
    "pycharm": {
     "name": "#%%\n"
    }
   }
  },
  {
   "cell_type": "code",
   "execution_count": null,
   "outputs": [],
   "source": [
    "% % time\n",
    "X_Y_3 = utils.btest_corr_3(dataAll, featuresX, featuresY, method=method, fdr=fdr, Type='X_Y')"
   ],
   "metadata": {
    "collapsed": false,
    "pycharm": {
     "name": "#%%\n"
    }
   }
  },
  {
   "cell_type": "code",
   "execution_count": null,
   "outputs": [],
   "source": [
    "for i in iRow:\n",
    "    for j in iCol:\n",
    "        if i <= j:\n",
    "            #print(i, j)\n",
    "            #print(dataAll[i])\n",
    "            X = dataAll[i]\n",
    "            Y = dataAll[j]\n",
    "            nas = np.logical_or(X != X, Y != Y)\n",
    "            not_na = sum(~nas)\n",
    "            #X = Y[~nas]\n",
    "            #Y = Y[~nas]\n",
    "            #new_X, new_Y = remove_pairs_with_a_missing(X, Y)\n",
    "            correlation = cr[i, j]\n",
    "            pval = pv[i, j]\n",
    "            tests.append([features[i], features_y[j], pval, correlation, not_na])\n",
    "results = pd.DataFrame(tests, columns=['Feature_1', 'Feature_2', 'pval', 'Correlation', 'Not_NAs'])\n",
    "\n",
    "p_adust, p_threshold = utils.bh(results[\"pval\"].values, fdr)\n",
    "\n",
    "results[\"P_adusted\"] = p_adust\n",
    "results[\"bh_fdr_threshold\"] = p_threshold\n",
    "results['Type'] = Type\n",
    "results = results.sort_values(['pval', 'Correlation'],\n",
    "                              ascending=[True, False])"
   ],
   "metadata": {
    "collapsed": false,
    "pycharm": {
     "name": "#%%\n"
    }
   }
  },
  {
   "cell_type": "code",
   "execution_count": null,
   "outputs": [],
   "source": [
    "X_Y_3[(X_Y_3['Feature_1'] == 'X0') & (X_Y_3['Feature_2'] == 'Y66')]"
   ],
   "metadata": {
    "collapsed": false,
    "pycharm": {
     "name": "#%%\n"
    }
   }
  },
  {
   "cell_type": "code",
   "execution_count": null,
   "outputs": [],
   "source": [
    "X_Y_3.loc[:, 'Type'].value_counts()"
   ],
   "metadata": {
    "collapsed": false,
    "pycharm": {
     "name": "#%%\n"
    }
   }
  },
  {
   "cell_type": "code",
   "execution_count": null,
   "outputs": [],
   "source": [
    "# creating the complete dataset\n",
    "#dataAll_df = pd.DataFrame(dataAll.T, columns=featuresAll)"
   ],
   "metadata": {
    "collapsed": false,
    "pycharm": {
     "name": "#%%\n"
    }
   }
  },
  {
   "cell_type": "code",
   "execution_count": null,
   "outputs": [],
   "source": [
    "X_Y_3.loc[:, 'Type'] = X_Y_3.Feature_1.str[-1] + X_Y_3.Feature_2.str[-2:]"
   ],
   "metadata": {
    "collapsed": false,
    "pycharm": {
     "name": "#%%\n"
    }
   }
  },
  {
   "cell_type": "code",
   "execution_count": null,
   "outputs": [],
   "source": [
    "X_Y_3.head()"
   ],
   "metadata": {
    "collapsed": false,
    "pycharm": {
     "name": "#%%\n"
    }
   }
  },
  {
   "cell_type": "code",
   "execution_count": null,
   "outputs": [],
   "source": [
    "dataAll = dataX\n",
    "features = featuresX\n",
    "features_y = None\n",
    "Type = 'withinX'\n",
    "iRow = list(range(0, len(features)))\n",
    "if Type == 'X_Y':\n",
    "    iCol = list(range(len(features), len(features) + len(features_y) - 1))\n",
    "    features_y = features + features_y\n",
    "else:\n",
    "    features_y = features\n",
    "    iCol = list(range(len(features)))\n",
    "tests = []\n",
    "\n",
    "# creating the complete dataset\n",
    "dataAll2 = pd.DataFrame(dataAll.T, columns=features_y)\n",
    "cr = dataAll2.corr(method=method)\n",
    "\n",
    "# calculating t-statistics, based on the correlations\n",
    "t_stat = (cr * (dataAll2.shape[0] - 2) ** .5) / (1 - cr ** 2) ** .5\n",
    "\n",
    "# calculating p-values based on the t-statistics\n",
    "pv = 2 * (1 - t.cdf(abs(t_stat), df=dataAll2.shape[0] - 2))\n",
    "#rho_long_format = cr.stack().reset_index().rename(columns={'level_0':'Feature_1','level_1':'Feature_2', 0:'Correlation'})\n",
    "#pval_long_format = pv.stack().reset_index().rename(columns={'level_0':'Feature_1','level_1':'Feature_2', 0:'pval'})\n",
    "#results = pd.concat([pval_long_format, rho_long_format[\"Correlation\"]], axis=1)\n"
   ],
   "metadata": {
    "collapsed": false,
    "pycharm": {
     "name": "#%%\n"
    }
   }
  },
  {
   "cell_type": "code",
   "execution_count": null,
   "outputs": [],
   "source": [
    "cr = cr.to_numpy()\n",
    "#pv = pv.to_numpy()"
   ],
   "metadata": {
    "collapsed": false,
    "pycharm": {
     "name": "#%%\n"
    }
   }
  },
  {
   "cell_type": "code",
   "execution_count": null,
   "outputs": [],
   "source": [
    "for i in iRow:\n",
    "    for j in iCol:\n",
    "        if i <= j:\n",
    "            #print(i, j)\n",
    "            #print(dataAll[i])\n",
    "            X = dataAll[i]\n",
    "            Y = dataAll[j]\n",
    "            nas = np.logical_or(X != X, Y != Y)\n",
    "            not_na = sum(~nas)\n",
    "            #X = Y[~nas]\n",
    "            #Y = Y[~nas]\n",
    "            #new_X, new_Y = remove_pairs_with_a_missing(X, Y)\n",
    "            correlation = cr[i, j]\n",
    "            pval = pv[i, j]\n",
    "            tests.append([features[i], features_y[j], pval, correlation, not_na])\n",
    "results = pd.DataFrame(tests, columns=['Feature_1', 'Feature_2', 'pval', 'Correlation', 'Not_NAs'])\n",
    "\n",
    "p_adust, p_threshold = bh(results[\"pval\"].values, fdr)\n",
    "\n",
    "results[\"P_adusted\"] = p_adust\n",
    "results[\"bh_fdr_threshold\"] = p_threshold\n",
    "results['Type'] = Type\n",
    "results = results.sort_values(['pval', 'Correlation'],\n",
    "                              ascending=[True, False])"
   ],
   "metadata": {
    "collapsed": false,
    "pycharm": {
     "name": "#%%\n"
    }
   }
  },
  {
   "cell_type": "code",
   "execution_count": null,
   "outputs": [],
   "source": [
    "# feature names for the complete dataset\n",
    "featuresAll = featuresX.copy()\n",
    "featuresAll.extend(featuresY)"
   ],
   "metadata": {
    "collapsed": false,
    "pycharm": {
     "name": "#%%\n"
    }
   }
  },
  {
   "cell_type": "code",
   "execution_count": null,
   "outputs": [],
   "source": [
    "results"
   ],
   "metadata": {
    "collapsed": false,
    "pycharm": {
     "name": "#%%\n"
    }
   }
  },
  {
   "cell_type": "code",
   "execution_count": null,
   "outputs": [],
   "source": [
    "# creating the complete dataset\n",
    "dataAll_df = pd.DataFrame(dataAll.T, columns=featuresAll)"
   ],
   "metadata": {
    "collapsed": false,
    "pycharm": {
     "name": "#%%\n"
    }
   }
  },
  {
   "cell_type": "code",
   "execution_count": null,
   "outputs": [],
   "source": [
    "% % time\n",
    "# correlation\n",
    "cr = dataAll_df.corr(method='pearson')\n",
    "\n",
    "# calculaing t-statistics, based on the correlations\n",
    "t_stat = (cr * (dataAll_df.shape[0] - 2) ** .5) / (1 - cr ** 2) ** .5\n",
    "\n",
    "# calculating p-values based on the t-statistics\n",
    "pv = 2 * (1 - t.cdf(abs(t_stat), df=dataAll_df.shape[0] - 2))"
   ],
   "metadata": {
    "collapsed": false,
    "pycharm": {
     "name": "#%%\n"
    }
   }
  },
  {
   "cell_type": "code",
   "execution_count": null,
   "outputs": [],
   "source": [
    "cr"
   ],
   "metadata": {
    "collapsed": false,
    "pycharm": {
     "name": "#%%\n"
    }
   }
  },
  {
   "cell_type": "code",
   "execution_count": null,
   "outputs": [],
   "source": [
    "% % time\n",
    "# correlation\n",
    "cr = dataAll_df.corr(method='pearson')\n",
    "\n",
    "# calculaing t-statistics, based on the correlations\n",
    "t_stat = (cr * (dataAll_df.shape[0] - 2) ** .5) / (1 - cr ** 2) ** .5\n",
    "\n",
    "# calculating p-values based on the t-statistics\n",
    "pv = 2 * (1 - t.cdf(abs(t_stat), df=dataAll_df.shape[0] - 2))"
   ],
   "metadata": {
    "collapsed": false,
    "pycharm": {
     "name": "#%%\n"
    }
   }
  },
  {
   "cell_type": "code",
   "execution_count": null,
   "outputs": [],
   "source": [
    "X_Y"
   ],
   "metadata": {
    "collapsed": false,
    "pycharm": {
     "name": "#%%\n"
    }
   }
  },
  {
   "cell_type": "code",
   "execution_count": null,
   "outputs": [],
   "source": [
    "within_X"
   ],
   "metadata": {
    "collapsed": false,
    "pycharm": {
     "name": "#%%\n"
    }
   }
  },
  {
   "cell_type": "code",
   "execution_count": null,
   "outputs": [],
   "source": [
    "within_Y"
   ],
   "metadata": {
    "collapsed": false,
    "pycharm": {
     "name": "#%%\n"
    }
   }
  },
  {
   "cell_type": "code",
   "execution_count": null,
   "outputs": [],
   "source": [
    "X_Y.pval"
   ],
   "metadata": {
    "collapsed": false,
    "pycharm": {
     "name": "#%%\n"
    }
   }
  },
  {
   "cell_type": "code",
   "execution_count": null,
   "outputs": [],
   "source": [
    "outputpath = \"/Users/rah/Documents/omicsEye/btest/demo/btest_output\"\n",
    "os.makedirs(outputpath, exist_ok=True)\n",
    "X_Y.to_csv(outputpath + '/X_Y.tsv', sep=\"\\t\")\n",
    "#rho_X = rho.iloc[0:500, 0:500]\n",
    "#rho_X.to_csv(outputpath + '/simtable_X.tsv', sep=\"\\t\")\n",
    "#rho_X_Y.to_csv(outputpath + '/simtable.tsv', sep=\"\\t\")\n",
    "within_X.to_csv(outputpath + '/within_X.tsv', sep=\"\\t\")\n",
    "within_Y.to_csv(outputpath + '/within_Y.tsv', sep=\"\\t\")"
   ],
   "metadata": {
    "collapsed": false,
    "pycharm": {
     "name": "#%%\n"
    }
   }
  },
  {
   "cell_type": "code",
   "execution_count": null,
   "outputs": [],
   "source": [
    "#associations = blockplot.load_associations(path = outputpath + '/X_Y.tsv')\n",
    "associations = blockplot.load_associations(\n",
    "    '/Users/rah/Dropbox/Ali-Docs/Research_docs/Projects/VastBiome/analysis/btest_bgc_mgx_replaceNA_FALSE_cov_25_measure_rpkg_mbx_pair_spearman_new/X_Y.tsv')"
   ],
   "metadata": {
    "collapsed": false,
    "pycharm": {
     "name": "#%%\n"
    }
   }
  },
  {
   "cell_type": "code",
   "execution_count": null,
   "outputs": [],
   "source": [
    "outputpath"
   ],
   "metadata": {
    "collapsed": false,
    "pycharm": {
     "name": "#%%\n"
    }
   }
  },
  {
   "cell_type": "code",
   "execution_count": null,
   "outputs": [],
   "source": [
    "associations"
   ],
   "metadata": {
    "collapsed": false,
    "pycharm": {
     "name": "#%%\n"
    }
   }
  },
  {
   "cell_type": "code",
   "execution_count": null,
   "outputs": [],
   "source": [
    "#simtable = blockplot.load_order_table(outputpath + '/simtable.tsv', associations)\n",
    "simtable = blockplot.load_order_table(\n",
    "    '/Users/rah/Dropbox/Ali-Docs/Research_docs/Projects/VastBiome/analysis/btest_bgc_mgx_replaceNA_FALSE_cov_25_measure_rpkg_mbx_pair_spearman_new//simtable.tsv',\n",
    "    associations)"
   ],
   "metadata": {
    "collapsed": false,
    "pycharm": {
     "name": "#%%\n"
    }
   }
  },
  {
   "cell_type": "code",
   "execution_count": null,
   "outputs": [],
   "source": [
    "X_Y"
   ],
   "metadata": {
    "collapsed": false,
    "pycharm": {
     "name": "#%%\n"
    }
   }
  },
  {
   "cell_type": "code",
   "execution_count": null,
   "outputs": [],
   "source": [
    "blockplot.plot(\n",
    "    simtable,\n",
    "    associations,\n",
    "    cmap=\"RdBu_r\",\n",
    "    mask=False,\n",
    "    axlabels=[\"\", \"\"],\n",
    "    outfile=\"/Users/rah/Documents/omicsEye/btest/demo/btest_output/blockplot.pdf\",\n",
    "    similarity=\"Spearman\"\n",
    ")"
   ],
   "metadata": {
    "collapsed": false,
    "pycharm": {
     "name": "#%%\n"
    }
   }
  },
  {
   "cell_type": "code",
   "execution_count": null,
   "outputs": [],
   "source": [
    "import matplotlib.pyplot as plt\n",
    "import matplotlib\n",
    "% matplotlib inline"
   ],
   "metadata": {
    "collapsed": false,
    "pycharm": {
     "name": "#%%\n"
    }
   }
  },
  {
   "cell_type": "code",
   "execution_count": null,
   "outputs": [],
   "source": [
    "X_Y_3.head()"
   ],
   "metadata": {
    "collapsed": false,
    "pycharm": {
     "name": "#%%\n"
    }
   }
  },
  {
   "cell_type": "code",
   "execution_count": null,
   "outputs": [],
   "source": [
    "n = 2\n",
    "row = X_Y_3.iloc[n, :]\n",
    "var1 = row.loc['Feature_1']\n",
    "var2 = row.loc['Feature_2']\n",
    "print(var1)\n",
    "comp_type = row.loc['Type']\n",
    "var1_ind = int(var1[1:])\n",
    "var2_ind = int(var2[1:])\n",
    "print(comp_type)"
   ],
   "metadata": {
    "collapsed": false,
    "pycharm": {
     "name": "#%%\n"
    }
   }
  },
  {
   "cell_type": "code",
   "execution_count": null,
   "outputs": [],
   "source": [
    "text_dict = {}\n",
    "text_ann = ''\n",
    "for key in ['Correlation', 'complete_obs', 'P_adjusted']:\n",
    "    text_dict[key] = row.loc[key]\n",
    "    text_ann = text_ann + key + ': ' + str(round(row.loc[key], 3)) + '\\n'"
   ],
   "metadata": {
    "collapsed": false,
    "pycharm": {
     "name": "#%%\n"
    }
   }
  },
  {
   "cell_type": "code",
   "execution_count": null,
   "outputs": [],
   "source": [
    "if comp_type == 'X_X':\n",
    "    var1_val = dataX[var1_ind]\n",
    "    var2_val = dataX[var2_ind]\n",
    "elif comp_type == 'X_Y':\n",
    "    var1_val = dataX[var1_ind]\n",
    "    var2_val = dataY[var2_ind]\n",
    "else:\n",
    "    var1_val = dataY[var1_ind]\n",
    "    var2_val = dataY[var2_ind]"
   ],
   "metadata": {
    "collapsed": false,
    "pycharm": {
     "name": "#%%\n"
    }
   }
  },
  {
   "cell_type": "code",
   "execution_count": null,
   "outputs": [],
   "source": [
    "fig, ax = plt.subplots(1, 1, figsize=(3.2, 3.2), dpi=300)\n",
    "plt.scatter(x=var1_val, y=var2_val,\n",
    "            edgecolors='#000',\n",
    "            linewidths=.5,\n",
    "            c='#123435', alpha=.5,\n",
    "            marker=\"o\")\n",
    "plt.xlabel(var1)\n",
    "plt.ylabel(var2)\n",
    "if text_dict['Correlation'] > 0:\n",
    "    plt.text(0.02, .7, text_ann, fontstyle='italic',\n",
    "             transform=ax.transAxes, fontsize=8)\n",
    "else:\n",
    "    plt.text(0.8, .7, text_ann, transform=ax.transAxes)\n",
    "ax.spines['right'].set_visible(False)\n",
    "ax.spines['top'].set_visible(False)\n",
    "plt.savefig(str(var1 + '_' + var2 + '.pdf'), bbox_inches='tight')\n",
    "plt.show()"
   ],
   "metadata": {
    "collapsed": false,
    "pycharm": {
     "name": "#%%\n"
    }
   }
  },
  {
   "cell_type": "code",
   "execution_count": null,
   "outputs": [],
   "source": [
    "def b_scatter(dataX, dataY, b_test, n_ind, min_var=0, report_dir='.'):\n",
    "    assert type(dataX) == type(dataY), 'Type of dataX and dataY should be the same.'\n",
    "    if isinstance(dataX, str):\n",
    "        dataX, dataY, _, _ = utils.readData(dataX, dataY, min_var=min_var)\n",
    "    if isinstance(b_test, str):\n",
    "        b_test = pd.read_csv(btest)\n",
    "\n",
    "    for n in n_ind:\n",
    "        row = b_test.iloc[n, :]\n",
    "        var1 = row.loc['Feature_1']\n",
    "        var2 = row.loc['Feature_2']\n",
    "\n",
    "        comp_type = row.loc['Type']\n",
    "        var1_ind = int(var1[1:])\n",
    "        var2_ind = int(var2[1:])\n",
    "\n",
    "        text_dict = {}\n",
    "        text_ann = ''\n",
    "        for key in ['Correlation', 'complete_obs', 'P_adjusted']:\n",
    "            text_dict[key] = row.loc[key]\n",
    "            text_ann = text_ann + key + ': ' + str(round(row.loc[key], 3)) + '\\n'\n",
    "\n",
    "        if comp_type == 'X_X':\n",
    "            var1_val = dataX[var1_ind]\n",
    "            var2_val = dataX[var2_ind]\n",
    "        elif comp_type == 'X_Y':\n",
    "            var1_val = dataX[var1_ind]\n",
    "            var2_val = dataY[var2_ind]\n",
    "        else:\n",
    "            var1_val = dataY[var1_ind]\n",
    "            var2_val = dataY[var2_ind]\n",
    "\n",
    "        fig, ax = plt.subplots(1, 1, figsize=(3.2, 3.2), dpi=300)\n",
    "        plt.scatter(x=var1_val, y=var2_val,\n",
    "                    edgecolors='#000',\n",
    "                    linewidths=.5,\n",
    "                    c='#123435', alpha=.5,\n",
    "                    marker=\"o\")\n",
    "        plt.xlabel(var1)\n",
    "        plt.ylabel(var2)\n",
    "        if text_dict['Correlation'] > 0:\n",
    "            plt.text(0.02, .7, text_ann, fontstyle='italic',\n",
    "                     transform=ax.transAxes, fontsize=8)\n",
    "        else:\n",
    "            plt.text(0.8, .7, text_ann, transform=ax.transAxes)\n",
    "        ax.spines['right'].set_visible(False)\n",
    "        ax.spines['top'].set_visible(False)\n",
    "        plt.savefig(str(report_dir + '/' + var1 + '_' + var2 + '.pdf'), bbox_inches='tight')\n",
    "        plt.show()\n",
    "    return 'Done'"
   ],
   "metadata": {
    "collapsed": false,
    "pycharm": {
     "name": "#%%\n"
    }
   }
  },
  {
   "cell_type": "code",
   "execution_count": null,
   "outputs": [],
   "source": [
    "b_scatter(dataX=dataX, dataY=dataY, b_test=X_Y_3, n_ind=[1, 24, 67])"
   ],
   "metadata": {
    "collapsed": false,
    "pycharm": {
     "name": "#%%\n"
    }
   }
  },
  {
   "cell_type": "code",
   "execution_count": null,
   "outputs": [],
   "source": [
    "b_scatter(dataX='../demo/X_dataset.txt', dataY='../demo/Y_dataset.txt', b_test=X_Y_3, n_ind=[32])"
   ],
   "metadata": {
    "collapsed": false,
    "pycharm": {
     "name": "#%%\n"
    }
   }
  },
  {
   "cell_type": "code",
   "execution_count": null,
   "outputs": [],
   "source": [
    "X_Y_3.to_csv('../notebooks/b_test_res.csv', index=False)"
   ],
   "metadata": {
    "collapsed": false,
    "pycharm": {
     "name": "#%%\n"
    }
   }
  },
  {
   "cell_type": "code",
   "execution_count": null,
   "outputs": [],
   "source": [
    "dataX, dataY, featuresX, featuresY = utils.readData('../demo/donotaddtogithub/lipids.txt',\n",
    "                                                    '../demo/donotaddtogithub/microbe.txt', min_var=min_var)"
   ],
   "metadata": {
    "collapsed": false,
    "pycharm": {
     "name": "#%%\n"
    }
   }
  },
  {
   "cell_type": "code",
   "execution_count": null,
   "outputs": [],
   "source": [
    "% % time\n",
    "within_X = utils.btest_corr(dataX, featuresX, method=method, fdr=fdr, Type='withinX')\n",
    "within_Y = utils.btest_corr(dataY, featuresY, method=method, fdr=fdr, Type='withinY')\n",
    "dataAll = np.concatenate((dataX, dataY), axis=0)\n",
    "X_Y = utils.btest_corr(dataAll, featuresX, featuresY, method=method, fdr=fdr, Type='X_Y')"
   ],
   "metadata": {
    "collapsed": false,
    "pycharm": {
     "name": "#%%\n"
    }
   }
  },
  {
   "cell_type": "code",
   "execution_count": null,
   "outputs": [],
   "source": [
    "X_Y.head()"
   ],
   "metadata": {
    "collapsed": false,
    "pycharm": {
     "name": "#%%\n"
    }
   }
  },
  {
   "cell_type": "markdown",
   "source": [
    "# amino microbe test"
   ],
   "metadata": {
    "collapsed": false,
    "pycharm": {
     "name": "#%% md\n"
    }
   }
  },
  {
   "cell_type": "code",
   "execution_count": null,
   "outputs": [],
   "source": [
    "method = 'spearman'\n",
    "min_var = 0.0\n",
    "fdr = 0.05"
   ],
   "metadata": {
    "collapsed": false,
    "pycharm": {
     "name": "#%%\n"
    }
   }
  },
  {
   "cell_type": "code",
   "execution_count": null,
   "outputs": [],
   "source": [
    "dataX, dataY, featuresX, featuresY = utils.readData('/Users/mbagh/Downloads/amino.txt',\n",
    "                                                    '/Users/mbagh/Downloads/microbe.txt', min_var=min_var)"
   ],
   "metadata": {
    "collapsed": false,
    "pycharm": {
     "name": "#%%\n"
    }
   }
  },
  {
   "cell_type": "code",
   "execution_count": null,
   "outputs": [],
   "source": [
    "% % time\n",
    "within_X = utils.btest_corr(dataX, featuresX, method=method, fdr=fdr, Type='withinX')\n",
    "within_Y = utils.btest_corr(dataY, featuresY, method=method, fdr=fdr, Type='withinY')\n",
    "dataAll = np.concatenate((dataX, dataY), axis=0)\n",
    "X_Y = utils.btest_corr(dataAll, featuresX, featuresY, method=method, fdr=fdr, Type='X_Y')"
   ],
   "metadata": {
    "collapsed": false,
    "pycharm": {
     "name": "#%%\n"
    }
   }
  },
  {
   "cell_type": "code",
   "execution_count": null,
   "outputs": [],
   "source": [
    "X_Y.head()"
   ],
   "metadata": {
    "collapsed": false,
    "pycharm": {
     "name": "#%%\n"
    }
   }
  },
  {
   "cell_type": "code",
   "execution_count": null,
   "outputs": [],
   "source": [
    "within_X"
   ],
   "metadata": {
    "collapsed": false,
    "pycharm": {
     "name": "#%%\n"
    }
   }
  },
  {
   "cell_type": "code",
   "execution_count": null,
   "outputs": [],
   "source": [
    "X_Y['Type'].value_counts()"
   ],
   "metadata": {
    "collapsed": false,
    "pycharm": {
     "name": "#%%\n"
    }
   }
  },
  {
   "cell_type": "code",
   "execution_count": null,
   "outputs": [],
   "source": [
    "x = dataX[featuresX.index('N-acetylhistidine')]\n",
    "y = dataX[featuresX.index('metformin')]"
   ],
   "metadata": {
    "collapsed": false,
    "pycharm": {
     "name": "#%%\n"
    }
   }
  },
  {
   "cell_type": "code",
   "execution_count": null,
   "outputs": [],
   "source": [
    "x"
   ],
   "metadata": {
    "collapsed": false,
    "pycharm": {
     "name": "#%%\n"
    }
   }
  },
  {
   "cell_type": "code",
   "execution_count": null,
   "outputs": [],
   "source": [
    "y"
   ],
   "metadata": {
    "collapsed": false,
    "pycharm": {
     "name": "#%%\n"
    }
   }
  },
  {
   "cell_type": "code",
   "execution_count": null,
   "outputs": [],
   "source": [
    "outputpath"
   ],
   "metadata": {
    "collapsed": false,
    "pycharm": {
     "name": "#%%\n"
    }
   }
  },
  {
   "cell_type": "code",
   "execution_count": null,
   "outputs": [],
   "source": [],
   "metadata": {
    "collapsed": false,
    "pycharm": {
     "name": "#%%\n"
    }
   }
  },
  {
   "cell_type": "code",
   "execution_count": null,
   "outputs": [],
   "source": [
    "associations"
   ],
   "metadata": {
    "collapsed": false,
    "pycharm": {
     "name": "#%%\n"
    }
   }
  },
  {
   "cell_type": "code",
   "execution_count": null,
   "outputs": [],
   "source": [
    "#simtable = blockplot.load_order_table(outputpath + '/simtable.tsv', associations)\n",
    "simtable = blockplot.load_order_table(\n",
    "    '/Users/rah/Dropbox/Ali-Docs/Research_docs/Projects/VastBiome/analysis/btest_bgc_mgx_replaceNA_FALSE_cov_25_measure_rpkg_mbx_pair_spearman_new//simtable.tsv',\n",
    "    associations)"
   ],
   "metadata": {
    "collapsed": false,
    "pycharm": {
     "name": "#%%\n"
    }
   }
  },
  {
   "cell_type": "code",
   "execution_count": null,
   "outputs": [],
   "source": [
    "X_Y"
   ],
   "metadata": {
    "collapsed": false,
    "pycharm": {
     "name": "#%%\n"
    }
   }
  },
  {
   "cell_type": "code",
   "execution_count": null,
   "outputs": [],
   "source": [
    "blockplot.plot(\n",
    "    simtable,\n",
    "    associations,\n",
    "    cmap=\"RdBu_r\",\n",
    "    mask=False,\n",
    "    axlabels=[\"\", \"\"],\n",
    "    outfile=\"/Users/rah/Documents/omicsEye/btest/demo/btest_output/blockplot.pdf\",\n",
    "    similarity=\"Spearman\"\n",
    ")"
   ],
   "metadata": {
    "collapsed": false,
    "pycharm": {
     "name": "#%%\n"
    }
   }
  },
  {
   "cell_type": "code",
   "execution_count": null,
   "outputs": [],
   "source": [
    "import matplotlib.pyplot as plt\n",
    "import matplotlib\n",
    "% matplotlib inline"
   ],
   "metadata": {
    "collapsed": false,
    "pycharm": {
     "name": "#%%\n"
    }
   }
  },
  {
   "cell_type": "code",
   "execution_count": null,
   "outputs": [],
   "source": [
    "X_Y_3.head()"
   ],
   "metadata": {
    "collapsed": false,
    "pycharm": {
     "name": "#%%\n"
    }
   }
  },
  {
   "cell_type": "code",
   "execution_count": null,
   "outputs": [],
   "source": [
    "n = 2\n",
    "row = X_Y_3.iloc[n, :]\n",
    "var1 = row.loc['Feature_1']\n",
    "var2 = row.loc['Feature_2']\n",
    "print(var1)\n",
    "comp_type = row.loc['Type']\n",
    "var1_ind = int(var1[1:])\n",
    "var2_ind = int(var2[1:])\n",
    "print(comp_type)"
   ],
   "metadata": {
    "collapsed": false,
    "pycharm": {
     "name": "#%%\n"
    }
   }
  },
  {
   "cell_type": "code",
   "execution_count": null,
   "outputs": [],
   "source": [
    "text_dict = {}\n",
    "text_ann = ''\n",
    "for key in ['Correlation', 'complete_obs', 'P_adjusted']:\n",
    "    text_dict[key] = row.loc[key]\n",
    "    text_ann = text_ann + key + ': ' + str(round(row.loc[key], 3)) + '\\n'"
   ],
   "metadata": {
    "collapsed": false,
    "pycharm": {
     "name": "#%%\n"
    }
   }
  },
  {
   "cell_type": "code",
   "execution_count": null,
   "outputs": [],
   "source": [
    "if comp_type == 'X_X':\n",
    "    var1_val = dataX[var1_ind]\n",
    "    var2_val = dataX[var2_ind]\n",
    "elif comp_type == 'X_Y':\n",
    "    var1_val = dataX[var1_ind]\n",
    "    var2_val = dataY[var2_ind]\n",
    "else:\n",
    "    var1_val = dataY[var1_ind]\n",
    "    var2_val = dataY[var2_ind]"
   ],
   "metadata": {
    "collapsed": false,
    "pycharm": {
     "name": "#%%\n"
    }
   }
  },
  {
   "cell_type": "code",
   "execution_count": null,
   "outputs": [],
   "source": [
    "fig, ax = plt.subplots(1, 1, figsize=(3.2, 3.2), dpi=300)\n",
    "plt.scatter(x=var1_val, y=var2_val,\n",
    "            edgecolors='#000',\n",
    "            linewidths=.5,\n",
    "            c='#123435', alpha=.5,\n",
    "            marker=\"o\")\n",
    "plt.xlabel(var1)\n",
    "plt.ylabel(var2)\n",
    "if text_dict['Correlation'] > 0:\n",
    "    plt.text(0.02, .7, text_ann, fontstyle='italic',\n",
    "             transform=ax.transAxes, fontsize=8)\n",
    "else:\n",
    "    plt.text(0.8, .7, text_ann, transform=ax.transAxes)\n",
    "ax.spines['right'].set_visible(False)\n",
    "ax.spines['top'].set_visible(False)\n",
    "plt.savefig(str(var1 + '_' + var2 + '.pdf'), bbox_inches='tight')\n",
    "plt.show()"
   ],
   "metadata": {
    "collapsed": false,
    "pycharm": {
     "name": "#%%\n"
    }
   }
  },
  {
   "cell_type": "code",
   "execution_count": null,
   "outputs": [],
   "source": [
    "def b_scatter(dataX, dataY, b_test, n_ind, min_var=0, report_dir='.'):\n",
    "    assert type(dataX) == type(dataY), 'Type of dataX and dataY should be the same.'\n",
    "    if isinstance(dataX, str):\n",
    "        dataX, dataY, _, _ = utils.readData(dataX, dataY, min_var=min_var)\n",
    "    if isinstance(b_test, str):\n",
    "        b_test = pd.read_csv(btest)\n",
    "\n",
    "    for n in n_ind:\n",
    "        row = b_test.iloc[n, :]\n",
    "        var1 = row.loc['Feature_1']\n",
    "        var2 = row.loc['Feature_2']\n",
    "\n",
    "        comp_type = row.loc['Type']\n",
    "        var1_ind = int(var1[1:])\n",
    "        var2_ind = int(var2[1:])\n",
    "\n",
    "        text_dict = {}\n",
    "        text_ann = ''\n",
    "        for key in ['Correlation', 'complete_obs', 'P_adjusted']:\n",
    "            text_dict[key] = row.loc[key]\n",
    "            text_ann = text_ann + key + ': ' + str(round(row.loc[key], 3)) + '\\n'\n",
    "\n",
    "        if comp_type == 'X_X':\n",
    "            var1_val = dataX[var1_ind]\n",
    "            var2_val = dataX[var2_ind]\n",
    "        elif comp_type == 'X_Y':\n",
    "            var1_val = dataX[var1_ind]\n",
    "            var2_val = dataY[var2_ind]\n",
    "        else:\n",
    "            var1_val = dataY[var1_ind]\n",
    "            var2_val = dataY[var2_ind]\n",
    "\n",
    "        fig, ax = plt.subplots(1, 1, figsize=(3.2, 3.2), dpi=300)\n",
    "        plt.scatter(x=var1_val, y=var2_val,\n",
    "                    edgecolors='#000',\n",
    "                    linewidths=.5,\n",
    "                    c='#123435', alpha=.5,\n",
    "                    marker=\"o\")\n",
    "        plt.xlabel(var1)\n",
    "        plt.ylabel(var2)\n",
    "        if text_dict['Correlation'] > 0:\n",
    "            plt.text(0.02, .7, text_ann, fontstyle='italic',\n",
    "                     transform=ax.transAxes, fontsize=8)\n",
    "        else:\n",
    "            plt.text(0.8, .7, text_ann, transform=ax.transAxes)\n",
    "        ax.spines['right'].set_visible(False)\n",
    "        ax.spines['top'].set_visible(False)\n",
    "        plt.savefig(str(report_dir + '/' + var1 + '_' + var2 + '.pdf'), bbox_inches='tight')\n",
    "        plt.show()\n",
    "    return 'Done'"
   ],
   "metadata": {
    "collapsed": false,
    "pycharm": {
     "name": "#%%\n"
    }
   }
  },
  {
   "cell_type": "code",
   "execution_count": null,
   "outputs": [],
   "source": [
    "b_scatter(dataX=dataX, dataY=dataY, b_test=X_Y_3, n_ind=[1, 24, 67])"
   ],
   "metadata": {
    "collapsed": false,
    "pycharm": {
     "name": "#%%\n"
    }
   }
  },
  {
   "cell_type": "code",
   "execution_count": null,
   "outputs": [],
   "source": [
    "b_scatter(dataX='../demo/X_dataset.txt', dataY='../demo/Y_dataset.txt', b_test=X_Y_3, n_ind=[32])"
   ],
   "metadata": {
    "collapsed": false,
    "pycharm": {
     "name": "#%%\n"
    }
   }
  },
  {
   "cell_type": "code",
   "execution_count": null,
   "outputs": [],
   "source": [
    "X_Y_3.to_csv('../notebooks/b_test_res.csv', index=False)"
   ],
   "metadata": {
    "collapsed": false,
    "pycharm": {
     "name": "#%%\n"
    }
   }
  },
  {
   "cell_type": "code",
   "execution_count": null,
   "outputs": [],
   "source": [
    "dataX, dataY, featuresX, featuresY = utils.readData('../demo/donotaddtogithub/lipids.txt',\n",
    "                                                    '../demo/donotaddtogithub/microbe.txt', min_var=min_var)"
   ],
   "metadata": {
    "collapsed": false,
    "pycharm": {
     "name": "#%%\n"
    }
   }
  },
  {
   "cell_type": "code",
   "execution_count": null,
   "outputs": [],
   "source": [
    "% % time\n",
    "within_X = utils.btest_corr(dataX, featuresX, method=method, fdr=fdr, Type='withinX')\n",
    "within_Y = utils.btest_corr(dataY, featuresY, method=method, fdr=fdr, Type='withinY')\n",
    "dataAll = np.concatenate((dataX, dataY), axis=0)\n",
    "X_Y = utils.btest_corr(dataAll, featuresX, featuresY, method=method, fdr=fdr, Type='X_Y')"
   ],
   "metadata": {
    "collapsed": false,
    "pycharm": {
     "name": "#%%\n"
    }
   }
  },
  {
   "cell_type": "code",
   "execution_count": null,
   "outputs": [],
   "source": [
    "X_Y.head()"
   ],
   "metadata": {
    "collapsed": false,
    "pycharm": {
     "name": "#%%\n"
    }
   }
  },
  {
   "cell_type": "markdown",
   "source": [
    "# amino microbe test"
   ],
   "metadata": {
    "collapsed": false,
    "pycharm": {
     "name": "#%% md\n"
    }
   }
  },
  {
   "cell_type": "code",
   "execution_count": null,
   "outputs": [],
   "source": [
    "method = 'spearman'\n",
    "min_var = 0.0\n",
    "fdr = 0.05"
   ],
   "metadata": {
    "collapsed": false,
    "pycharm": {
     "name": "#%%\n"
    }
   }
  },
  {
   "cell_type": "code",
   "execution_count": null,
   "outputs": [],
   "source": [
    "dataX , dataY, featuresX, featuresY  = utils.readData('~/Downloads/amino.txt',\n",
    "                                                      '~/Downloads/microbe.txt', min_var=min_var)"
   ],
   "metadata": {
    "collapsed": false,
    "pycharm": {
     "name": "#%%\n"
    }
   }
  },
  {
   "cell_type": "code",
   "execution_count": null,
   "outputs": [],
   "source": [
    "% % time\n",
    "within_X = utils.btest_corr(dataX, featuresX, method=method, fdr=fdr, Type='withinX')\n",
    "within_Y = utils.btest_corr(dataY, featuresY, method=method, fdr=fdr, Type='withinY')\n",
    "dataAll = np.concatenate((dataX, dataY), axis=0)\n",
    "X_Y = utils.btest_corr(dataAll, featuresX, featuresY, method=method, fdr=fdr, Type='X_Y')"
   ],
   "metadata": {
    "collapsed": false,
    "pycharm": {
     "name": "#%%\n"
    }
   }
  },
  {
   "cell_type": "code",
   "execution_count": null,
   "outputs": [],
   "source": [
    "X_Y.head()"
   ],
   "metadata": {
    "collapsed": false,
    "pycharm": {
     "name": "#%%\n"
    }
   }
  },
  {
   "cell_type": "code",
   "execution_count": null,
   "outputs": [],
   "source": [
    "within_X"
   ],
   "metadata": {
    "collapsed": false,
    "pycharm": {
     "name": "#%%\n"
    }
   }
  },
  {
   "cell_type": "code",
   "execution_count": null,
   "outputs": [],
   "source": [
    "X_Y['Type'].value_counts()"
   ],
   "metadata": {
    "collapsed": false,
    "pycharm": {
     "name": "#%%\n"
    }
   }
  },
  {
   "cell_type": "code",
   "execution_count": null,
   "outputs": [],
   "source": [
    "X_Y"
   ],
   "metadata": {
    "collapsed": false,
    "pycharm": {
     "name": "#%%\n"
    }
   }
  },
  {
   "cell_type": "code",
   "execution_count": null,
   "outputs": [],
   "source": [
    "x = dataX[featuresX.index('N-acetylhistidine')]\n",
    "y = dataX[featuresX.index('metformin')]"
   ],
   "metadata": {
    "collapsed": false,
    "pycharm": {
     "name": "#%%\n"
    }
   }
  },
  {
   "cell_type": "code",
   "execution_count": null,
   "outputs": [],
   "source": [
    "x"
   ],
   "metadata": {
    "collapsed": false,
    "pycharm": {
     "name": "#%%\n"
    }
   }
  },
  {
   "cell_type": "code",
   "execution_count": null,
   "outputs": [],
   "source": [
    "y"
   ],
   "metadata": {
    "collapsed": false,
    "pycharm": {
     "name": "#%%\n"
    }
   }
  },
  {
   "cell_type": "code",
   "execution_count": null,
   "outputs": [],
   "source": [
    "X_X, Y_Y, X_Y = btest.btest(X_path='~/Downloads/amino.txt',\n",
    "                      Y_path='~/Downloads/microbe.txt',\n",
    "                      outputpath='btest_amino_microbe',\n",
    "                      method='spearman',\n",
    "                      fdr=0.1,\n",
    "                      min_var=0.0,\n",
    "                      plot=True\n",
    "                      )"
   ],
   "metadata": {
    "collapsed": false,
    "pycharm": {
     "name": "#%%\n"
    }
   }
  },
  {
   "cell_type": "code",
   "execution_count": null,
   "outputs": [],
   "source": [
    "utils.write_results(X_Y, 'X_Y', '~/Downloads/btest_amino_microbe')"
   ],
   "metadata": {
    "collapsed": false,
    "pycharm": {
     "name": "#%%\n"
    }
   }
  },
  {
   "cell_type": "code",
   "execution_count": null,
   "outputs": [],
   "source": [
    "btest.check_requirements('/Users/rah/Documents/Downloads/btest_amino_microbe')"
   ],
   "metadata": {
    "collapsed": false,
    "pycharm": {
     "name": "#%%\n"
    }
   }
  },
  {
   "cell_type": "code",
   "execution_count": null,
   "outputs": [],
   "source": [],
   "metadata": {
    "collapsed": false,
    "pycharm": {
     "name": "#%%\n"
    }
   }
  },
  {
   "cell_type": "code",
   "execution_count": null,
   "outputs": [],
   "source": [],
   "metadata": {
    "collapsed": false,
    "pycharm": {
     "name": "#%%\n"
    }
   }
  },
  {
   "cell_type": "code",
   "execution_count": null,
   "outputs": [],
   "source": [
    "associations"
   ],
   "metadata": {
    "collapsed": false,
    "pycharm": {
     "name": "#%%\n"
    }
   }
  },
  {
   "cell_type": "code",
   "execution_count": null,
   "outputs": [],
   "source": [
    "#simtable = blockplot.load_order_table(outputpath + '/simtable.tsv', associations)\n",
    "simtable = blockplot.load_order_table(\n",
    "    '/Users/rah/Dropbox/Ali-Docs/Research_docs/Projects/VastBiome/analysis/btest_bgc_mgx_replaceNA_FALSE_cov_25_measure_rpkg_mbx_pair_spearman_new//simtable.tsv',\n",
    "    associations)"
   ],
   "metadata": {
    "collapsed": false,
    "pycharm": {
     "name": "#%%\n"
    }
   }
  },
  {
   "cell_type": "code",
   "execution_count": null,
   "outputs": [],
   "source": [
    "X_Y"
   ],
   "metadata": {
    "collapsed": false,
    "pycharm": {
     "name": "#%%\n"
    }
   }
  },
  {
   "cell_type": "code",
   "execution_count": null,
   "outputs": [],
   "source": [
    "blockplot.plot(\n",
    "    simtable,\n",
    "    associations,\n",
    "    cmap=\"RdBu_r\",\n",
    "    mask=False,\n",
    "    axlabels=[\"\", \"\"],\n",
    "    outfile=\"/Users/rah/Documents/omicsEye/btest/demo/btest_output/blockplot.pdf\",\n",
    "    similarity=\"Spearman\"\n",
    ")"
   ],
   "metadata": {
    "collapsed": false,
    "pycharm": {
     "name": "#%%\n"
    }
   }
  },
  {
   "cell_type": "code",
   "execution_count": null,
   "outputs": [],
   "source": [
    "import matplotlib.pyplot as plt\n",
    "import matplotlib\n",
    "% matplotlib inline"
   ],
   "metadata": {
    "collapsed": false,
    "pycharm": {
     "name": "#%%\n"
    }
   }
  },
  {
   "cell_type": "code",
   "execution_count": null,
   "outputs": [],
   "source": [
    "X_Y_3.head()"
   ],
   "metadata": {
    "collapsed": false,
    "pycharm": {
     "name": "#%%\n"
    }
   }
  },
  {
   "cell_type": "code",
   "execution_count": null,
   "outputs": [],
   "source": [
    "n = 2\n",
    "row = X_Y_3.iloc[n, :]\n",
    "var1 = row.loc['Feature_1']\n",
    "var2 = row.loc['Feature_2']\n",
    "print(var1)\n",
    "comp_type = row.loc['Type']\n",
    "var1_ind = int(var1[1:])\n",
    "var2_ind = int(var2[1:])\n",
    "print(comp_type)"
   ],
   "metadata": {
    "collapsed": false,
    "pycharm": {
     "name": "#%%\n"
    }
   }
  },
  {
   "cell_type": "code",
   "execution_count": null,
   "outputs": [],
   "source": [
    "text_dict = {}\n",
    "text_ann = ''\n",
    "for key in ['Correlation', 'complete_obs', 'P_adjusted']:\n",
    "    text_dict[key] = row.loc[key]\n",
    "    text_ann = text_ann + key + ': ' + str(round(row.loc[key], 3)) + '\\n'"
   ],
   "metadata": {
    "collapsed": false,
    "pycharm": {
     "name": "#%%\n"
    }
   }
  },
  {
   "cell_type": "code",
   "execution_count": null,
   "outputs": [],
   "source": [
    "if comp_type == 'X_X':\n",
    "    var1_val = dataX[var1_ind]\n",
    "    var2_val = dataX[var2_ind]\n",
    "elif comp_type == 'X_Y':\n",
    "    var1_val = dataX[var1_ind]\n",
    "    var2_val = dataY[var2_ind]\n",
    "else:\n",
    "    var1_val = dataY[var1_ind]\n",
    "    var2_val = dataY[var2_ind]"
   ],
   "metadata": {
    "collapsed": false,
    "pycharm": {
     "name": "#%%\n"
    }
   }
  },
  {
   "cell_type": "code",
   "execution_count": null,
   "outputs": [],
   "source": [
    "fig, ax = plt.subplots(1, 1, figsize=(3.2, 3.2), dpi=300)\n",
    "plt.scatter(x=var1_val, y=var2_val,\n",
    "            edgecolors='#000',\n",
    "            linewidths=.5,\n",
    "            c='#123435', alpha=.5,\n",
    "            marker=\"o\")\n",
    "plt.xlabel(var1)\n",
    "plt.ylabel(var2)\n",
    "if text_dict['Correlation'] > 0:\n",
    "    plt.text(0.02, .7, text_ann, fontstyle='italic',\n",
    "             transform=ax.transAxes, fontsize=8)\n",
    "else:\n",
    "    plt.text(0.8, .7, text_ann, transform=ax.transAxes)\n",
    "ax.spines['right'].set_visible(False)\n",
    "ax.spines['top'].set_visible(False)\n",
    "plt.savefig(str(var1 + '_' + var2 + '.pdf'), bbox_inches='tight')\n",
    "plt.show()"
   ],
   "metadata": {
    "collapsed": false,
    "pycharm": {
     "name": "#%%\n"
    }
   }
  },
  {
   "cell_type": "code",
   "execution_count": null,
   "outputs": [],
   "source": [
    "def b_scatter(dataX, dataY, b_test, n_ind, min_var=0, report_dir='.'):\n",
    "    assert type(dataX) == type(dataY), 'Type of dataX and dataY should be the same.'\n",
    "    if isinstance(dataX, str):\n",
    "        dataX, dataY, _, _ = utils.readData(dataX, dataY, min_var=min_var)\n",
    "    if isinstance(b_test, str):\n",
    "        b_test = pd.read_csv(btest)\n",
    "\n",
    "    for n in n_ind:\n",
    "        row = b_test.iloc[n, :]\n",
    "        var1 = row.loc['Feature_1']\n",
    "        var2 = row.loc['Feature_2']\n",
    "\n",
    "        comp_type = row.loc['Type']\n",
    "        var1_ind = int(var1[1:])\n",
    "        var2_ind = int(var2[1:])\n",
    "\n",
    "        text_dict = {}\n",
    "        text_ann = ''\n",
    "        for key in ['Correlation', 'complete_obs', 'P_adjusted']:\n",
    "            text_dict[key] = row.loc[key]\n",
    "            text_ann = text_ann + key + ': ' + str(round(row.loc[key], 3)) + '\\n'\n",
    "\n",
    "        if comp_type == 'X_X':\n",
    "            var1_val = dataX[var1_ind]\n",
    "            var2_val = dataX[var2_ind]\n",
    "        elif comp_type == 'X_Y':\n",
    "            var1_val = dataX[var1_ind]\n",
    "            var2_val = dataY[var2_ind]\n",
    "        else:\n",
    "            var1_val = dataY[var1_ind]\n",
    "            var2_val = dataY[var2_ind]\n",
    "\n",
    "        fig, ax = plt.subplots(1, 1, figsize=(3.2, 3.2), dpi=300)\n",
    "        plt.scatter(x=var1_val, y=var2_val,\n",
    "                    edgecolors='#000',\n",
    "                    linewidths=.5,\n",
    "                    c='#123435', alpha=.5,\n",
    "                    marker=\"o\")\n",
    "        plt.xlabel(var1)\n",
    "        plt.ylabel(var2)\n",
    "        if text_dict['Correlation'] > 0:\n",
    "            plt.text(0.02, .7, text_ann, fontstyle='italic',\n",
    "                     transform=ax.transAxes, fontsize=8)\n",
    "        else:\n",
    "            plt.text(0.8, .7, text_ann, transform=ax.transAxes)\n",
    "        ax.spines['right'].set_visible(False)\n",
    "        ax.spines['top'].set_visible(False)\n",
    "        plt.savefig(str(report_dir + '/' + var1 + '_' + var2 + '.pdf'), bbox_inches='tight')\n",
    "        plt.show()\n",
    "    return 'Done'"
   ],
   "metadata": {
    "collapsed": false,
    "pycharm": {
     "name": "#%%\n"
    }
   }
  },
  {
   "cell_type": "code",
   "execution_count": null,
   "outputs": [],
   "source": [
    "b_scatter(dataX=dataX, dataY=dataY, b_test=X_Y_3, n_ind=[1, 24, 67])"
   ],
   "metadata": {
    "collapsed": false,
    "pycharm": {
     "name": "#%%\n"
    }
   }
  },
  {
   "cell_type": "code",
   "execution_count": null,
   "outputs": [],
   "source": [
    "b_scatter(dataX='../demo/X_dataset.txt', dataY='../demo/Y_dataset.txt', b_test=X_Y_3, n_ind=[32])"
   ],
   "metadata": {
    "collapsed": false,
    "pycharm": {
     "name": "#%%\n"
    }
   }
  },
  {
   "cell_type": "code",
   "execution_count": null,
   "outputs": [],
   "source": [
    "X_Y_3.to_csv('../notebooks/b_test_res.csv', index=False)"
   ],
   "metadata": {
    "collapsed": false,
    "pycharm": {
     "name": "#%%\n"
    }
   }
  },
  {
   "cell_type": "code",
   "execution_count": null,
   "outputs": [],
   "source": [
    "dataX, dataY, featuresX, featuresY = utils.readData('../demo/donotaddtogithub/lipids.txt',\n",
    "                                                    '../demo/donotaddtogithub/microbe.txt', min_var=min_var)"
   ],
   "metadata": {
    "collapsed": false,
    "pycharm": {
     "name": "#%%\n"
    }
   }
  },
  {
   "cell_type": "code",
   "execution_count": null,
   "outputs": [],
   "source": [
    "% % time\n",
    "within_X = utils.btest_corr(dataX, featuresX, method=method, fdr=fdr, Type='withinX')\n",
    "within_Y = utils.btest_corr(dataY, featuresY, method=method, fdr=fdr, Type='withinY')\n",
    "dataAll = np.concatenate((dataX, dataY), axis=0)\n",
    "X_Y = utils.btest_corr(dataAll, featuresX, featuresY, method=method, fdr=fdr, Type='X_Y')"
   ],
   "metadata": {
    "collapsed": false,
    "pycharm": {
     "name": "#%%\n"
    }
   }
  },
  {
   "cell_type": "code",
   "execution_count": null,
   "outputs": [],
   "source": [
    "X_Y.head()"
   ],
   "metadata": {
    "collapsed": false,
    "pycharm": {
     "name": "#%%\n"
    }
   }
  },
  {
   "cell_type": "markdown",
   "source": [
    "# amino microbe test"
   ],
   "metadata": {
    "collapsed": false,
    "pycharm": {
     "name": "#%% md\n"
    }
   }
  },
  {
   "cell_type": "code",
   "execution_count": null,
   "outputs": [],
   "source": [
    "method = 'spearman'\n",
    "min_var = 0.0\n",
    "fdr = 0.05"
   ],
   "metadata": {
    "collapsed": false,
    "pycharm": {
     "name": "#%%\n"
    }
   }
  },
  {
   "cell_type": "code",
   "execution_count": null,
   "outputs": [],
   "source": [
    "dataX , dataY, featuresX, featuresY  = utils.readData('~/Downloads/amino.txt',\n",
    "                                                      '~/Downloads/microbe.txt', min_var=min_var)"
   ],
   "metadata": {
    "collapsed": false,
    "pycharm": {
     "name": "#%%\n"
    }
   }
  },
  {
   "cell_type": "code",
   "execution_count": null,
   "outputs": [],
   "source": [
    "% % time\n",
    "within_X = utils.btest_corr(dataX, featuresX, method=method, fdr=fdr, Type='withinX')\n",
    "within_Y = utils.btest_corr(dataY, featuresY, method=method, fdr=fdr, Type='withinY')\n",
    "dataAll = np.concatenate((dataX, dataY), axis=0)\n",
    "X_Y = utils.btest_corr(dataAll, featuresX, featuresY, method=method, fdr=fdr, Type='X_Y')"
   ],
   "metadata": {
    "collapsed": false,
    "pycharm": {
     "name": "#%%\n"
    }
   }
  },
  {
   "cell_type": "code",
   "execution_count": null,
   "outputs": [],
   "source": [
    "X_Y.head()"
   ],
   "metadata": {
    "collapsed": false,
    "pycharm": {
     "name": "#%%\n"
    }
   }
  },
  {
   "cell_type": "code",
   "execution_count": null,
   "outputs": [],
   "source": [
    "within_X"
   ],
   "metadata": {
    "collapsed": false,
    "pycharm": {
     "name": "#%%\n"
    }
   }
  },
  {
   "cell_type": "code",
   "execution_count": null,
   "outputs": [],
   "source": [
    "X_Y['Type'].value_counts()"
   ],
   "metadata": {
    "collapsed": false,
    "pycharm": {
     "name": "#%%\n"
    }
   }
  },
  {
   "cell_type": "code",
   "execution_count": null,
   "outputs": [],
   "source": [
    "X_Y"
   ],
   "metadata": {
    "collapsed": false,
    "pycharm": {
     "name": "#%%\n"
    }
   }
  },
  {
   "cell_type": "code",
   "execution_count": null,
   "outputs": [],
   "source": [
    "x = dataX[featuresX.index('N-acetylhistidine')]\n",
    "y = dataX[featuresX.index('metformin')]"
   ],
   "metadata": {
    "collapsed": false,
    "pycharm": {
     "name": "#%%\n"
    }
   }
  },
  {
   "cell_type": "code",
   "execution_count": null,
   "outputs": [],
   "source": [
    "x"
   ],
   "metadata": {
    "collapsed": false,
    "pycharm": {
     "name": "#%%\n"
    }
   }
  },
  {
   "cell_type": "code",
   "execution_count": null,
   "outputs": [],
   "source": [
    "y"
   ],
   "metadata": {
    "collapsed": false,
    "pycharm": {
     "name": "#%%\n"
    }
   }
  },
  {
   "cell_type": "code",
   "execution_count": null,
   "outputs": [],
   "source": [
    "X_X, Y_Y, X_Y = btest.btest(X_path='~/Downloads/amino.txt',\n",
    "                      Y_path='~/Downloads/microbe.txt',\n",
    "                      outputpath='btest_amino_microbe',\n",
    "                      method='spearman',\n",
    "                      fdr=0.1,\n",
    "                      min_var=0.0,\n",
    "                      plot=True\n",
    "                      )"
   ],
   "metadata": {
    "collapsed": false,
    "pycharm": {
     "name": "#%%\n"
    }
   }
  },
  {
   "cell_type": "code",
   "execution_count": null,
   "outputs": [],
   "source": [
    "utils.write_results(X_Y, 'X_Y', '~/Downloads/btest_amino_microbe')"
   ],
   "metadata": {
    "collapsed": false,
    "pycharm": {
     "name": "#%%\n"
    }
   }
  },
  {
   "cell_type": "code",
   "execution_count": null,
   "outputs": [],
   "source": [
    "btest.check_requirements('/Users/rah/Documents/Downloads/btest_amino_microbe')"
   ],
   "metadata": {
    "collapsed": false,
    "pycharm": {
     "name": "#%%\n"
    }
   }
  },
  {
   "cell_type": "code",
   "execution_count": null,
   "outputs": [],
   "source": [],
   "metadata": {
    "collapsed": false,
    "pycharm": {
     "name": "#%%\n"
    }
   }
  },
  {
   "cell_type": "code",
   "execution_count": null,
   "outputs": [],
   "source": [],
   "metadata": {
    "collapsed": false,
    "pycharm": {
     "name": "#%%\n"
    }
   }
  },
  {
   "cell_type": "code",
   "execution_count": null,
   "outputs": [],
   "source": [
    "associations"
   ],
   "metadata": {
    "collapsed": false,
    "pycharm": {
     "name": "#%%\n"
    }
   }
  },
  {
   "cell_type": "code",
   "execution_count": null,
   "outputs": [],
   "source": [
    "#simtable = blockplot.load_order_table(outputpath + '/simtable.tsv', associations)\n",
    "simtable = blockplot.load_order_table('/Users/rah/Dropbox/Ali-Docs/Research_docs/Projects/VastBiome/analysis/btest_bgc_mgx_replaceNA_FALSE_cov_25_measure_rpkg_mbx_pair_spearman_new//simtable.tsv', associations)"
   ],
   "metadata": {
    "collapsed": false,
    "pycharm": {
     "name": "#%%\n"
    }
   }
  },
  {
   "cell_type": "code",
   "execution_count": null,
   "outputs": [],
   "source": [
    "X_Y"
   ],
   "metadata": {
    "collapsed": false,
    "pycharm": {
     "name": "#%%\n"
    }
   }
  },
  {
   "cell_type": "code",
   "execution_count": null,
   "outputs": [],
   "source": [
    "blockplot.plot(\n",
    "    simtable,\n",
    "    associations,\n",
    "    cmap=\"RdBu_r\",\n",
    "    mask=False,\n",
    "    axlabels=[\"\", \"\"],\n",
    "    outfile=\"/Users/rah/Documents/omicsEye/btest/demo/btest_output/blockplot.pdf\",\n",
    "    similarity=\"Spearman\"\n",
    ")"
   ],
   "metadata": {
    "collapsed": false,
    "pycharm": {
     "name": "#%%\n"
    }
   }
  },
  {
   "cell_type": "code",
   "execution_count": null,
   "outputs": [],
   "source": [
    "import matplotlib.pyplot as plt\n",
    "import matplotlib\n",
    "% matplotlib inline"
   ],
   "metadata": {
    "collapsed": false,
    "pycharm": {
     "name": "#%%\n"
    }
   }
  },
  {
   "cell_type": "code",
   "execution_count": null,
   "outputs": [],
   "source": [
    "X_Y_3.head()"
   ],
   "metadata": {
    "collapsed": false,
    "pycharm": {
     "name": "#%%\n"
    }
   }
  },
  {
   "cell_type": "code",
   "execution_count": null,
   "outputs": [],
   "source": [
    "n = 2\n",
    "row = X_Y_3.iloc[n, :]\n",
    "var1 = row.loc['Feature_1']\n",
    "var2 = row.loc['Feature_2']\n",
    "print(var1)\n",
    "comp_type = row.loc['Type']\n",
    "var1_ind = int(var1[1:])\n",
    "var2_ind = int(var2[1:])\n",
    "print(comp_type)"
   ],
   "metadata": {
    "collapsed": false,
    "pycharm": {
     "name": "#%%\n"
    }
   }
  },
  {
   "cell_type": "code",
   "execution_count": null,
   "outputs": [],
   "source": [
    "text_dict = {}\n",
    "text_ann = ''\n",
    "for key in ['Correlation', 'complete_obs', 'P_adjusted']:\n",
    "    text_dict[key] = row.loc[key]\n",
    "    text_ann = text_ann + key + ': ' + str(round(row.loc[key], 3)) + '\\n'"
   ],
   "metadata": {
    "collapsed": false,
    "pycharm": {
     "name": "#%%\n"
    }
   }
  },
  {
   "cell_type": "code",
   "execution_count": null,
   "outputs": [],
   "source": [
    "if comp_type == 'X_X':\n",
    "    var1_val = dataX[var1_ind]\n",
    "    var2_val = dataX[var2_ind]\n",
    "elif comp_type == 'X_Y':\n",
    "    var1_val = dataX[var1_ind]\n",
    "    var2_val = dataY[var2_ind]\n",
    "else:\n",
    "    var1_val = dataY[var1_ind]\n",
    "    var2_val = dataY[var2_ind]"
   ],
   "metadata": {
    "collapsed": false,
    "pycharm": {
     "name": "#%%\n"
    }
   }
  },
  {
   "cell_type": "code",
   "execution_count": null,
   "outputs": [],
   "source": [
    "fig, ax = plt.subplots(1, 1, figsize=(3.2, 3.2), dpi=300)\n",
    "plt.scatter(x=var1_val, y=var2_val,\n",
    "            edgecolors='#000',\n",
    "            linewidths=.5,\n",
    "            c='#123435', alpha=.5,\n",
    "            marker=\"o\")\n",
    "plt.xlabel(var1)\n",
    "plt.ylabel(var2)\n",
    "if text_dict['Correlation'] > 0:\n",
    "    plt.text(0.02, .7, text_ann, fontstyle='italic',\n",
    "             transform=ax.transAxes, fontsize=8)\n",
    "else:\n",
    "    plt.text(0.8, .7, text_ann, transform=ax.transAxes)\n",
    "ax.spines['right'].set_visible(False)\n",
    "ax.spines['top'].set_visible(False)\n",
    "plt.savefig(str(var1 + '_' + var2 + '.pdf'), bbox_inches='tight')\n",
    "plt.show()"
   ],
   "metadata": {
    "collapsed": false,
    "pycharm": {
     "name": "#%%\n"
    }
   }
  },
  {
   "cell_type": "code",
   "execution_count": null,
   "outputs": [],
   "source": [
    "def b_scatter(dataX, dataY, b_test, n_ind, min_var=0, report_dir='.'):\n",
    "    assert type(dataX) == type(dataY), 'Type of dataX and dataY should be the same.'\n",
    "    if isinstance(dataX, str):\n",
    "        dataX, dataY, _, _ = utils.readData(dataX, dataY, min_var=min_var)\n",
    "    if isinstance(b_test, str):\n",
    "        b_test = pd.read_csv(btest)\n",
    "\n",
    "    for n in n_ind:\n",
    "        row = b_test.iloc[n, :]\n",
    "        var1 = row.loc['Feature_1']\n",
    "        var2 = row.loc['Feature_2']\n",
    "\n",
    "        comp_type = row.loc['Type']\n",
    "        var1_ind = int(var1[1:])\n",
    "        var2_ind = int(var2[1:])\n",
    "\n",
    "        text_dict = {}\n",
    "        text_ann = ''\n",
    "        for key in ['Correlation', 'complete_obs', 'P_adjusted']:\n",
    "            text_dict[key] = row.loc[key]\n",
    "            text_ann = text_ann + key + ': ' + str(round(row.loc[key], 3)) + '\\n'\n",
    "\n",
    "        if comp_type == 'X_X':\n",
    "            var1_val = dataX[var1_ind]\n",
    "            var2_val = dataX[var2_ind]\n",
    "        elif comp_type == 'X_Y':\n",
    "            var1_val = dataX[var1_ind]\n",
    "            var2_val = dataY[var2_ind]\n",
    "        else:\n",
    "            var1_val = dataY[var1_ind]\n",
    "            var2_val = dataY[var2_ind]\n",
    "\n",
    "        fig, ax = plt.subplots(1, 1, figsize=(3.2, 3.2), dpi=300)\n",
    "        plt.scatter(x=var1_val, y=var2_val,\n",
    "                    edgecolors='#000',\n",
    "                    linewidths=.5,\n",
    "                    c='#123435', alpha=.5,\n",
    "                    marker=\"o\")\n",
    "        plt.xlabel(var1)\n",
    "        plt.ylabel(var2)\n",
    "        if text_dict['Correlation'] > 0:\n",
    "            plt.text(0.02, .7, text_ann, fontstyle='italic',\n",
    "                     transform=ax.transAxes, fontsize=8)\n",
    "        else:\n",
    "            plt.text(0.8, .7, text_ann, transform=ax.transAxes)\n",
    "        ax.spines['right'].set_visible(False)\n",
    "        ax.spines['top'].set_visible(False)\n",
    "        plt.savefig(str(report_dir + '/' + var1 + '_' + var2 + '.pdf'), bbox_inches='tight')\n",
    "        plt.show()\n",
    "    return 'Done'"
   ],
   "metadata": {
    "collapsed": false,
    "pycharm": {
     "name": "#%%\n"
    }
   }
  },
  {
   "cell_type": "code",
   "execution_count": null,
   "outputs": [],
   "source": [
    "b_scatter(dataX=dataX, dataY=dataY, b_test=X_Y_3, n_ind=[1, 24, 67])"
   ],
   "metadata": {
    "collapsed": false,
    "pycharm": {
     "name": "#%%\n"
    }
   }
  },
  {
   "cell_type": "code",
   "execution_count": null,
   "outputs": [],
   "source": [
    "b_scatter(dataX='../demo/X_dataset.txt', dataY='../demo/Y_dataset.txt', b_test=X_Y_3, n_ind=[32])"
   ],
   "metadata": {
    "collapsed": false,
    "pycharm": {
     "name": "#%%\n"
    }
   }
  },
  {
   "cell_type": "code",
   "execution_count": null,
   "outputs": [],
   "source": [
    "X_Y_3.to_csv('../notebooks/b_test_res.csv', index=False)"
   ],
   "metadata": {
    "collapsed": false,
    "pycharm": {
     "name": "#%%\n"
    }
   }
  },
  {
   "cell_type": "code",
   "execution_count": null,
   "outputs": [],
   "source": [
    "dataX, dataY, featuresX, featuresY = utils.readData('../demo/donotaddtogithub/lipids.txt',\n",
    "                                                    '../demo/donotaddtogithub/microbe.txt', min_var=min_var)"
   ],
   "metadata": {
    "collapsed": false,
    "pycharm": {
     "name": "#%%\n"
    }
   }
  },
  {
   "cell_type": "code",
   "execution_count": null,
   "outputs": [],
   "source": [
    "% % time\n",
    "within_X = utils.btest_corr(dataX, featuresX, method=method, fdr=fdr, Type='withinX')\n",
    "within_Y = utils.btest_corr(dataY, featuresY, method=method, fdr=fdr, Type='withinY')\n",
    "dataAll = np.concatenate((dataX, dataY), axis=0)\n",
    "X_Y = utils.btest_corr(dataAll, featuresX, featuresY, method=method, fdr=fdr, Type='X_Y')"
   ],
   "metadata": {
    "collapsed": false,
    "pycharm": {
     "name": "#%%\n"
    }
   }
  },
  {
   "cell_type": "code",
   "execution_count": null,
   "outputs": [],
   "source": [
    "X_Y.head()"
   ],
   "metadata": {
    "collapsed": false,
    "pycharm": {
     "name": "#%%\n"
    }
   }
  },
  {
   "cell_type": "markdown",
   "source": [
    "# amino microbe test"
   ],
   "metadata": {
    "collapsed": false,
    "pycharm": {
     "name": "#%% md\n"
    }
   }
  },
  {
   "cell_type": "code",
   "execution_count": 2,
   "outputs": [],
   "source": [
    "method = 'spearman'\n",
    "min_var = 0.0\n",
    "fdr = 0.05"
   ],
   "metadata": {
    "collapsed": false,
    "pycharm": {
     "name": "#%%\n"
    }
   }
  },
  {
   "cell_type": "code",
   "execution_count": 3,
   "outputs": [
    {
     "name": "stdout",
     "output_type": "stream",
     "text": [
      "--- 38 samples/columns with all missing values have been removed from the first dataset \n",
      "--- 1 features with variation equal or less than 0.000 have been removed from the first dataset \n",
      "--- 19 features with variation equal or less than 0.000 have been removed from the second dataset \n",
      "Dataset X dimension  after cleaning:  (249, 49)\n",
      "Dataset Y dimension  after cleaning:  (107, 49)\n"
     ]
    }
   ],
   "source": [
    "dataX , dataY, featuresX, featuresY  = utils.readData('~/Downloads/amino.txt',\n",
    "                                                      '~/Downloads/microbe.txt', min_var=min_var)"
   ],
   "metadata": {
    "collapsed": false,
    "pycharm": {
     "name": "#%%\n"
    }
   }
  },
  {
   "cell_type": "code",
   "execution_count": 4,
   "outputs": [
    {
     "name": "stdout",
     "output_type": "stream",
     "text": [
      "CPU times: user 1.64 s, sys: 51.8 ms, total: 1.69 s\n",
      "Wall time: 1.89 s\n"
     ]
    }
   ],
   "source": [
    "% % time\n",
    "within_X = utils.btest_corr(dataX, featuresX, method=method, fdr=fdr, Type='withinX')\n",
    "within_Y = utils.btest_corr(dataY, featuresY, method=method, fdr=fdr, Type='withinY')\n",
    "dataAll = np.concatenate((dataX, dataY), axis=0)\n",
    "X_Y = utils.btest_corr(dataAll, featuresX, featuresY, method=method, fdr=fdr, Type='X_Y')"
   ],
   "metadata": {
    "collapsed": false,
    "pycharm": {
     "name": "#%%\n"
    }
   }
  },
  {
   "cell_type": "code",
   "execution_count": 5,
   "outputs": [
    {
     "data": {
      "text/plain": "             Feature_1       Feature_2  Correlation  complete_obs  \\\n31810  hydroxycotinine       metformin          1.0          44.0   \n60283   Alloprevotella     Peptococcus          1.0          49.0   \n60292   Alloprevotella  Eisenbergiella          1.0          49.0   \n60295   Alloprevotella     Coprobacter          1.0          49.0   \n60306   Alloprevotella     Leuconostoc          1.0          49.0   \n\n       t_statistic  pval  P_adjusted  bh_fdr_threshold Type  \n31810          inf   0.0         0.0          0.001144  X_X  \n60283          inf   0.0         0.0          0.001144  Y_Y  \n60292          inf   0.0         0.0          0.001144  Y_Y  \n60295          inf   0.0         0.0          0.001144  Y_Y  \n60306          inf   0.0         0.0          0.001144  Y_Y  ",
      "text/html": "<div>\n<style scoped>\n    .dataframe tbody tr th:only-of-type {\n        vertical-align: middle;\n    }\n\n    .dataframe tbody tr th {\n        vertical-align: top;\n    }\n\n    .dataframe thead th {\n        text-align: right;\n    }\n</style>\n<table border=\"1\" class=\"dataframe\">\n  <thead>\n    <tr style=\"text-align: right;\">\n      <th></th>\n      <th>Feature_1</th>\n      <th>Feature_2</th>\n      <th>Correlation</th>\n      <th>complete_obs</th>\n      <th>t_statistic</th>\n      <th>pval</th>\n      <th>P_adjusted</th>\n      <th>bh_fdr_threshold</th>\n      <th>Type</th>\n    </tr>\n  </thead>\n  <tbody>\n    <tr>\n      <th>31810</th>\n      <td>hydroxycotinine</td>\n      <td>metformin</td>\n      <td>1.0</td>\n      <td>44.0</td>\n      <td>inf</td>\n      <td>0.0</td>\n      <td>0.0</td>\n      <td>0.001144</td>\n      <td>X_X</td>\n    </tr>\n    <tr>\n      <th>60283</th>\n      <td>Alloprevotella</td>\n      <td>Peptococcus</td>\n      <td>1.0</td>\n      <td>49.0</td>\n      <td>inf</td>\n      <td>0.0</td>\n      <td>0.0</td>\n      <td>0.001144</td>\n      <td>Y_Y</td>\n    </tr>\n    <tr>\n      <th>60292</th>\n      <td>Alloprevotella</td>\n      <td>Eisenbergiella</td>\n      <td>1.0</td>\n      <td>49.0</td>\n      <td>inf</td>\n      <td>0.0</td>\n      <td>0.0</td>\n      <td>0.001144</td>\n      <td>Y_Y</td>\n    </tr>\n    <tr>\n      <th>60295</th>\n      <td>Alloprevotella</td>\n      <td>Coprobacter</td>\n      <td>1.0</td>\n      <td>49.0</td>\n      <td>inf</td>\n      <td>0.0</td>\n      <td>0.0</td>\n      <td>0.001144</td>\n      <td>Y_Y</td>\n    </tr>\n    <tr>\n      <th>60306</th>\n      <td>Alloprevotella</td>\n      <td>Leuconostoc</td>\n      <td>1.0</td>\n      <td>49.0</td>\n      <td>inf</td>\n      <td>0.0</td>\n      <td>0.0</td>\n      <td>0.001144</td>\n      <td>Y_Y</td>\n    </tr>\n  </tbody>\n</table>\n</div>"
     },
     "execution_count": 5,
     "metadata": {},
     "output_type": "execute_result"
    }
   ],
   "source": [
    "X_Y.head()"
   ],
   "metadata": {
    "collapsed": false,
    "pycharm": {
     "name": "#%%\n"
    }
   }
  },
  {
   "cell_type": "code",
   "execution_count": 6,
   "outputs": [
    {
     "data": {
      "text/plain": "               Feature_1              Feature_2  Correlation  complete_obs  \\\n28797          LPC(18:2)              LPC(20:5)     0.966429          49.0   \n16396         citrulline      N-acetylhistidine     0.963647          49.0   \n28664          LPC(16:0)              LPC(18:3)     0.961531          49.0   \n13486       C8 carnitine          C10 carnitine     0.935102          49.0   \n14766    C14:1 carnitine        C14:2 carnitine     0.906939          49.0   \n...                  ...                    ...          ...           ...   \n24278  N-acetylhistamine              LPE(22:6)     0.000000           9.0   \n24283  N-acetylhistamine               PC(36:2)     0.000000           9.0   \n28222       urobilinogen  PE(P-34:2)/PE(O-34:3)     0.000000          32.0   \n20591    hydroxycotinine              metformin     1.000000           2.0   \n22245          metformin      N-acetylhistidine    -0.257143           0.0   \n\n       t_statistic  pval  P_adjusted  bh_fdr_threshold     Type  \n28797    25.786636   0.0    0.000000          0.002279  withinX  \n16396    24.726649   0.0    0.000000          0.002279  withinX  \n28664    23.996995   0.0    0.000000          0.002279  withinX  \n13486    18.090080   0.0    0.000000          0.002279  withinX  \n14766    14.759585   0.0    0.000000          0.002279  withinX  \n...            ...   ...         ...               ...      ...  \n24278     0.000000   1.0    1.000130          0.002279  withinX  \n24283     0.000000   1.0    1.000097          0.002279  withinX  \n28222     0.000000   1.0    1.000065          0.002279  withinX  \n20591          NaN   NaN         NaN          0.002279  withinX  \n22245          NaN   NaN         NaN          0.002279  withinX  \n\n[30875 rows x 9 columns]",
      "text/html": "<div>\n<style scoped>\n    .dataframe tbody tr th:only-of-type {\n        vertical-align: middle;\n    }\n\n    .dataframe tbody tr th {\n        vertical-align: top;\n    }\n\n    .dataframe thead th {\n        text-align: right;\n    }\n</style>\n<table border=\"1\" class=\"dataframe\">\n  <thead>\n    <tr style=\"text-align: right;\">\n      <th></th>\n      <th>Feature_1</th>\n      <th>Feature_2</th>\n      <th>Correlation</th>\n      <th>complete_obs</th>\n      <th>t_statistic</th>\n      <th>pval</th>\n      <th>P_adjusted</th>\n      <th>bh_fdr_threshold</th>\n      <th>Type</th>\n    </tr>\n  </thead>\n  <tbody>\n    <tr>\n      <th>28797</th>\n      <td>LPC(18:2)</td>\n      <td>LPC(20:5)</td>\n      <td>0.966429</td>\n      <td>49.0</td>\n      <td>25.786636</td>\n      <td>0.0</td>\n      <td>0.000000</td>\n      <td>0.002279</td>\n      <td>withinX</td>\n    </tr>\n    <tr>\n      <th>16396</th>\n      <td>citrulline</td>\n      <td>N-acetylhistidine</td>\n      <td>0.963647</td>\n      <td>49.0</td>\n      <td>24.726649</td>\n      <td>0.0</td>\n      <td>0.000000</td>\n      <td>0.002279</td>\n      <td>withinX</td>\n    </tr>\n    <tr>\n      <th>28664</th>\n      <td>LPC(16:0)</td>\n      <td>LPC(18:3)</td>\n      <td>0.961531</td>\n      <td>49.0</td>\n      <td>23.996995</td>\n      <td>0.0</td>\n      <td>0.000000</td>\n      <td>0.002279</td>\n      <td>withinX</td>\n    </tr>\n    <tr>\n      <th>13486</th>\n      <td>C8 carnitine</td>\n      <td>C10 carnitine</td>\n      <td>0.935102</td>\n      <td>49.0</td>\n      <td>18.090080</td>\n      <td>0.0</td>\n      <td>0.000000</td>\n      <td>0.002279</td>\n      <td>withinX</td>\n    </tr>\n    <tr>\n      <th>14766</th>\n      <td>C14:1 carnitine</td>\n      <td>C14:2 carnitine</td>\n      <td>0.906939</td>\n      <td>49.0</td>\n      <td>14.759585</td>\n      <td>0.0</td>\n      <td>0.000000</td>\n      <td>0.002279</td>\n      <td>withinX</td>\n    </tr>\n    <tr>\n      <th>...</th>\n      <td>...</td>\n      <td>...</td>\n      <td>...</td>\n      <td>...</td>\n      <td>...</td>\n      <td>...</td>\n      <td>...</td>\n      <td>...</td>\n      <td>...</td>\n    </tr>\n    <tr>\n      <th>24278</th>\n      <td>N-acetylhistamine</td>\n      <td>LPE(22:6)</td>\n      <td>0.000000</td>\n      <td>9.0</td>\n      <td>0.000000</td>\n      <td>1.0</td>\n      <td>1.000130</td>\n      <td>0.002279</td>\n      <td>withinX</td>\n    </tr>\n    <tr>\n      <th>24283</th>\n      <td>N-acetylhistamine</td>\n      <td>PC(36:2)</td>\n      <td>0.000000</td>\n      <td>9.0</td>\n      <td>0.000000</td>\n      <td>1.0</td>\n      <td>1.000097</td>\n      <td>0.002279</td>\n      <td>withinX</td>\n    </tr>\n    <tr>\n      <th>28222</th>\n      <td>urobilinogen</td>\n      <td>PE(P-34:2)/PE(O-34:3)</td>\n      <td>0.000000</td>\n      <td>32.0</td>\n      <td>0.000000</td>\n      <td>1.0</td>\n      <td>1.000065</td>\n      <td>0.002279</td>\n      <td>withinX</td>\n    </tr>\n    <tr>\n      <th>20591</th>\n      <td>hydroxycotinine</td>\n      <td>metformin</td>\n      <td>1.000000</td>\n      <td>2.0</td>\n      <td>NaN</td>\n      <td>NaN</td>\n      <td>NaN</td>\n      <td>0.002279</td>\n      <td>withinX</td>\n    </tr>\n    <tr>\n      <th>22245</th>\n      <td>metformin</td>\n      <td>N-acetylhistidine</td>\n      <td>-0.257143</td>\n      <td>0.0</td>\n      <td>NaN</td>\n      <td>NaN</td>\n      <td>NaN</td>\n      <td>0.002279</td>\n      <td>withinX</td>\n    </tr>\n  </tbody>\n</table>\n<p>30875 rows × 9 columns</p>\n</div>"
     },
     "execution_count": 6,
     "metadata": {},
     "output_type": "execute_result"
    }
   ],
   "source": [
    "within_X"
   ],
   "metadata": {
    "collapsed": false,
    "pycharm": {
     "name": "#%%\n"
    }
   }
  },
  {
   "cell_type": "code",
   "execution_count": 7,
   "outputs": [
    {
     "data": {
      "text/plain": "X_X    30875\nX_Y    26462\nY_Y     5671\nName: Type, dtype: int64"
     },
     "execution_count": 7,
     "metadata": {},
     "output_type": "execute_result"
    }
   ],
   "source": [
    "X_Y['Type'].value_counts()"
   ],
   "metadata": {
    "collapsed": false,
    "pycharm": {
     "name": "#%%\n"
    }
   }
  },
  {
   "cell_type": "code",
   "execution_count": null,
   "outputs": [],
   "source": [
    "X_Y"
   ],
   "metadata": {
    "collapsed": false,
    "pycharm": {
     "name": "#%%\n"
    }
   }
  },
  {
   "cell_type": "code",
   "execution_count": null,
   "outputs": [],
   "source": [
    "x = dataX[featuresX.index('N-acetylhistidine')]\n",
    "y = dataX[featuresX.index('metformin')]"
   ],
   "metadata": {
    "collapsed": false,
    "pycharm": {
     "name": "#%%\n"
    }
   }
  },
  {
   "cell_type": "code",
   "execution_count": 9,
   "outputs": [
    {
     "data": {
      "text/plain": "array([10356., 12295.,  6243., 13405.,  7913., 10787.,  4081.,  9798.,\n        9799., 15357.,  6878.,  7521., 12655., 13510.,  9753., 10143.,\n        5492.,  5426.,  9746.,  9982.,  9090.,  6976., 12341., 12384.,\n        6902., 12657.,  7110.,  9754., 16369.,  7400.,  8926.,  7868.,\n       15438.,  6225.,  8878.,  7400.,  5853.,  7334.,  6964.,  1433.,\n        7945.,  9520.,  7799.,  7113.,  9346., 12441., 11433., 10677.,\n        6142.])"
     },
     "execution_count": 9,
     "metadata": {},
     "output_type": "execute_result"
    }
   ],
   "source": [
    "x"
   ],
   "metadata": {
    "collapsed": false,
    "pycharm": {
     "name": "#%%\n"
    }
   }
  },
  {
   "cell_type": "code",
   "execution_count": 4,
   "outputs": [],
   "source": [
    "from btest import viz"
   ],
   "metadata": {
    "collapsed": false,
    "pycharm": {
     "name": "#%%\n"
    }
   }
  },
  {
   "cell_type": "code",
   "execution_count": 8,
   "outputs": [
    {
     "name": "stdout",
     "output_type": "stream",
     "text": [
      "--- 38 samples/columns with all missing values have been removed from the first dataset \n",
      "--- 1 features with variation equal or less than 0.000 have been removed from the first dataset \n",
      "--- 19 features with variation equal or less than 0.000 have been removed from the second dataset \n",
      "Dataset X dimension  after cleaning:  (249, 49)\n",
      "Dataset Y dimension  after cleaning:  (107, 49)\n"
     ]
    },
    {
     "data": {
      "text/plain": "'Done'"
     },
     "execution_count": 8,
     "metadata": {},
     "output_type": "execute_result"
    },
    {
     "data": {
      "text/plain": "<Figure size 720x720 with 1 Axes>",
      "image/png": "[encoded data removed]"
     },
     "metadata": {
      "needs_background": "light"
     },
     "output_type": "display_data"
    },
    {
     "data": {
      "text/plain": "<Figure size 720x720 with 1 Axes>",
      "image/png": "[encoded data removed]"
     },
     "metadata": {
      "needs_background": "light"
     },
     "output_type": "display_data"
    },
    {
     "data": {
      "text/plain": "<Figure size 720x720 with 1 Axes>",
      "image/png": "[encoded data removed]"
     },
     "metadata": {
      "needs_background": "light"
     },
     "output_type": "display_data"
    }
   ],
   "source": [
    "viz.b_scatter(dataX='~/Downloads/amino.txt', dataY='~/Downloads/microbe.txt', b_test='~/Downloads/btest_amino_microbe/X_Y.tsv', output_dir='.', n_ind=[1,2,24])"
   ],
   "metadata": {
    "collapsed": false,
    "pycharm": {
     "name": "#%%\n"
    }
   }
  },
  {
   "cell_type": "code",
   "execution_count": 20,
   "outputs": [
    {
     "data": {
      "text/plain": "array([[3.8430e+03, 5.6290e+03, 4.4570e+03, ..., 5.6900e+02, 2.4830e+03,\n        8.2700e+02],\n       [0.0000e+00, 0.0000e+00, 0.0000e+00, ..., 0.0000e+00, 3.9600e+02,\n        0.0000e+00],\n       [5.3680e+03, 6.7570e+03, 2.6950e+03, ..., 1.0807e+04, 2.2330e+03,\n        4.1980e+03],\n       ...,\n       [0.0000e+00, 0.0000e+00, 0.0000e+00, ..., 0.0000e+00, 9.0000e+00,\n        0.0000e+00],\n       [0.0000e+00, 0.0000e+00, 0.0000e+00, ..., 0.0000e+00, 0.0000e+00,\n        0.0000e+00],\n       [0.0000e+00, 0.0000e+00, 0.0000e+00, ..., 0.0000e+00, 0.0000e+00,\n        0.0000e+00]])"
     },
     "execution_count": 20,
     "metadata": {},
     "output_type": "execute_result"
    }
   ],
   "source": [
    "dataX"
   ],
   "metadata": {
    "collapsed": false,
    "pycharm": {
     "name": "#%%\n"
    }
   }
  },
  {
   "cell_type": "code",
   "execution_count": null,
   "outputs": [],
   "source": [],
   "metadata": {
    "collapsed": false,
    "pycharm": {
     "name": "#%%\n"
    }
   }
  },
  {
   "cell_type": "code",
   "execution_count": 4,
   "metadata": {
    "pycharm": {
     "name": "#%%\n"
    }
   },
   "outputs": [
    {
     "name": "stdout",
     "output_type": "stream",
     "text": [
      "Output files will be written to: /Users/rah/Documents/omicsEye/btest/notebooks/btest_amino_microbe\n",
      "--- 38 samples/columns with all missing values have been removed from the first dataset \n",
      "--- 1 features with variation equal or less than 0.000 have been removed from the first dataset \n",
      "--- 19 features with variation equal or less than 0.000 have been removed from the second dataset \n",
      "Dataset X dimension  after cleaning:  (249, 49)\n",
      "Dataset Y dimension  after cleaning:  (107, 49)\n",
      "--- 0:00:03.575048 h:m:s similarity caluclation between two datasets features time ---\n",
      "btest task completed successfully!!!\n"
     ]
    }
   ],
   "source": [
    "X_X, Y_Y, X_Y = btest.btest(X_path='~/Downloads/amino.txt',\n",
    "                      Y_path='~/Downloads/microbe.txt',\n",
    "                      outputpath='btest_amino_microbe',\n",
    "                      method='spearman',\n",
    "                      fdr=0.1,\n",
    "                      min_var=0.0,\n",
    "                      plot=True\n",
    "                      )"
   ]
  },
  {
   "cell_type": "code",
   "execution_count": 21,
   "outputs": [],
   "source": [
    "utils.write_results(X_Y, 'X_Y', '~/Downloads/btest_amino_microbe')"
   ],
   "metadata": {
    "collapsed": false,
    "pycharm": {
     "name": "#%%\n"
    }
   }
  },
  {
   "cell_type": "code",
   "execution_count": 5,
   "outputs": [
    {
     "name": "stdout",
     "output_type": "stream",
     "text": [
      "Creating output directory: /Users/rah/Documents/Downloads/btest_amino_microbe\n",
      "Traceback (most recent call last):\n",
      "  File \"/Users/rah/Documents/omicsEye/btest/btest/btest.py\", line 80, in check_requirements\n",
      "    os.mkdir(output_dir)\n",
      "FileNotFoundError: [Errno 2] No such file or directory: '/Users/rah/Documents/Downloads/btest_amino_microbe'\n",
      "\n",
      "During handling of the above exception, another exception occurred:\n",
      "\n",
      "Traceback (most recent call last):\n",
      "  File \"/Library/anaconda3/lib/python3.9/site-packages/IPython/core/interactiveshell.py\", line 3444, in run_code\n",
      "    exec(code_obj, self.user_global_ns, self.user_ns)\n",
      "  File \"/var/folders/ry/39y8fffn25q2jpw0b96hq5fh0000gn/T/ipykernel_30060/733227623.py\", line 1, in <module>\n",
      "    btest.check_requirements('/Users/rah/Documents/Downloads/btest_amino_microbe')\n",
      "  File \"/Users/rah/Documents/omicsEye/btest/btest/btest.py\", line 82, in check_requirements\n",
      "    sys.exit(\"CRITICAL ERROR: Unable to create output directory.\")\n",
      "SystemExit: CRITICAL ERROR: Unable to create output directory.\n",
      "\n",
      "During handling of the above exception, another exception occurred:\n",
      "\n",
      "Traceback (most recent call last):\n",
      "  File \"/Library/anaconda3/lib/python3.9/site-packages/IPython/core/ultratb.py\", line 1101, in get_records\n",
      "    return _fixed_getinnerframes(etb, number_of_lines_of_context, tb_offset)\n",
      "  File \"/Library/anaconda3/lib/python3.9/site-packages/IPython/core/ultratb.py\", line 248, in wrapped\n",
      "    return f(*args, **kwargs)\n",
      "  File \"/Library/anaconda3/lib/python3.9/site-packages/IPython/core/ultratb.py\", line 281, in _fixed_getinnerframes\n",
      "    records = fix_frame_records_filenames(inspect.getinnerframes(etb, context))\n",
      "  File \"/Library/anaconda3/lib/python3.9/inspect.py\", line 1541, in getinnerframes\n",
      "    frameinfo = (tb.tb_frame,) + getframeinfo(tb, context)\n",
      "AttributeError: 'tuple' object has no attribute 'tb_frame'\n"
     ]
    },
    {
     "ename": "TypeError",
     "evalue": "object of type 'NoneType' has no len()",
     "output_type": "error",
     "traceback": [
      "\u001B[0;31m---------------------------------------------------------------------------\u001B[0m",
      "\u001B[0;31mFileNotFoundError\u001B[0m                         Traceback (most recent call last)",
      "\u001B[0;32m~/Documents/omicsEye/btest/btest/btest.py\u001B[0m in \u001B[0;36mcheck_requirements\u001B[0;34m(output_dir)\u001B[0m\n\u001B[1;32m     79\u001B[0m             \u001B[0mprint\u001B[0m\u001B[0;34m(\u001B[0m\u001B[0;34m\"Creating output directory: \"\u001B[0m \u001B[0;34m+\u001B[0m \u001B[0moutput_dir\u001B[0m\u001B[0;34m)\u001B[0m\u001B[0;34m\u001B[0m\u001B[0;34m\u001B[0m\u001B[0m\n\u001B[0;32m---> 80\u001B[0;31m             \u001B[0mos\u001B[0m\u001B[0;34m.\u001B[0m\u001B[0mmkdir\u001B[0m\u001B[0;34m(\u001B[0m\u001B[0moutput_dir\u001B[0m\u001B[0;34m)\u001B[0m\u001B[0;34m\u001B[0m\u001B[0;34m\u001B[0m\u001B[0m\n\u001B[0m\u001B[1;32m     81\u001B[0m         \u001B[0;32mexcept\u001B[0m \u001B[0mEnvironmentError\u001B[0m\u001B[0;34m:\u001B[0m\u001B[0;34m\u001B[0m\u001B[0;34m\u001B[0m\u001B[0m\n",
      "\u001B[0;31mFileNotFoundError\u001B[0m: [Errno 2] No such file or directory: '/Users/rah/Documents/Downloads/btest_amino_microbe'",
      "\nDuring handling of the above exception, another exception occurred:\n",
      "\u001B[0;31mSystemExit\u001B[0m                                Traceback (most recent call last)",
      "    \u001B[0;31m[... skipping hidden 1 frame]\u001B[0m\n",
      "\u001B[0;32m/var/folders/ry/39y8fffn25q2jpw0b96hq5fh0000gn/T/ipykernel_30060/733227623.py\u001B[0m in \u001B[0;36m<module>\u001B[0;34m\u001B[0m\n\u001B[0;32m----> 1\u001B[0;31m \u001B[0mbtest\u001B[0m\u001B[0;34m.\u001B[0m\u001B[0mcheck_requirements\u001B[0m\u001B[0;34m(\u001B[0m\u001B[0;34m'/Users/rah/Documents/Downloads/btest_amino_microbe'\u001B[0m\u001B[0;34m)\u001B[0m\u001B[0;34m\u001B[0m\u001B[0;34m\u001B[0m\u001B[0m\n\u001B[0m",
      "\u001B[0;32m~/Documents/omicsEye/btest/btest/btest.py\u001B[0m in \u001B[0;36mcheck_requirements\u001B[0;34m(output_dir)\u001B[0m\n\u001B[1;32m     81\u001B[0m         \u001B[0;32mexcept\u001B[0m \u001B[0mEnvironmentError\u001B[0m\u001B[0;34m:\u001B[0m\u001B[0;34m\u001B[0m\u001B[0;34m\u001B[0m\u001B[0m\n\u001B[0;32m---> 82\u001B[0;31m             \u001B[0msys\u001B[0m\u001B[0;34m.\u001B[0m\u001B[0mexit\u001B[0m\u001B[0;34m(\u001B[0m\u001B[0;34m\"CRITICAL ERROR: Unable to create output directory.\"\u001B[0m\u001B[0;34m)\u001B[0m\u001B[0;34m\u001B[0m\u001B[0;34m\u001B[0m\u001B[0m\n\u001B[0m\u001B[1;32m     83\u001B[0m     '''else:\n",
      "\u001B[0;31mSystemExit\u001B[0m: CRITICAL ERROR: Unable to create output directory.",
      "\nDuring handling of the above exception, another exception occurred:\n",
      "\u001B[0;31mTypeError\u001B[0m                                 Traceback (most recent call last)",
      "    \u001B[0;31m[... skipping hidden 1 frame]\u001B[0m\n",
      "\u001B[0;32m/Library/anaconda3/lib/python3.9/site-packages/IPython/core/interactiveshell.py\u001B[0m in \u001B[0;36mshowtraceback\u001B[0;34m(self, exc_tuple, filename, tb_offset, exception_only, running_compiled_code)\u001B[0m\n\u001B[1;32m   2055\u001B[0m                     stb = ['An exception has occurred, use %tb to see '\n\u001B[1;32m   2056\u001B[0m                            'the full traceback.\\n']\n\u001B[0;32m-> 2057\u001B[0;31m                     stb.extend(self.InteractiveTB.get_exception_only(etype,\n\u001B[0m\u001B[1;32m   2058\u001B[0m                                                                      value))\n\u001B[1;32m   2059\u001B[0m                 \u001B[0;32melse\u001B[0m\u001B[0;34m:\u001B[0m\u001B[0;34m\u001B[0m\u001B[0;34m\u001B[0m\u001B[0m\n",
      "\u001B[0;32m/Library/anaconda3/lib/python3.9/site-packages/IPython/core/ultratb.py\u001B[0m in \u001B[0;36mget_exception_only\u001B[0;34m(self, etype, value)\u001B[0m\n\u001B[1;32m    752\u001B[0m         \u001B[0mvalue\u001B[0m \u001B[0;34m:\u001B[0m \u001B[0mexception\u001B[0m \u001B[0mvalue\u001B[0m\u001B[0;34m\u001B[0m\u001B[0;34m\u001B[0m\u001B[0m\n\u001B[1;32m    753\u001B[0m         \"\"\"\n\u001B[0;32m--> 754\u001B[0;31m         \u001B[0;32mreturn\u001B[0m \u001B[0mListTB\u001B[0m\u001B[0;34m.\u001B[0m\u001B[0mstructured_traceback\u001B[0m\u001B[0;34m(\u001B[0m\u001B[0mself\u001B[0m\u001B[0;34m,\u001B[0m \u001B[0metype\u001B[0m\u001B[0;34m,\u001B[0m \u001B[0mvalue\u001B[0m\u001B[0;34m)\u001B[0m\u001B[0;34m\u001B[0m\u001B[0;34m\u001B[0m\u001B[0m\n\u001B[0m\u001B[1;32m    755\u001B[0m \u001B[0;34m\u001B[0m\u001B[0m\n\u001B[1;32m    756\u001B[0m     \u001B[0;32mdef\u001B[0m \u001B[0mshow_exception_only\u001B[0m\u001B[0;34m(\u001B[0m\u001B[0mself\u001B[0m\u001B[0;34m,\u001B[0m \u001B[0metype\u001B[0m\u001B[0;34m,\u001B[0m \u001B[0mevalue\u001B[0m\u001B[0;34m)\u001B[0m\u001B[0;34m:\u001B[0m\u001B[0;34m\u001B[0m\u001B[0;34m\u001B[0m\u001B[0m\n",
      "\u001B[0;32m/Library/anaconda3/lib/python3.9/site-packages/IPython/core/ultratb.py\u001B[0m in \u001B[0;36mstructured_traceback\u001B[0;34m(self, etype, evalue, etb, tb_offset, context)\u001B[0m\n\u001B[1;32m    627\u001B[0m             \u001B[0mchained_exceptions_tb_offset\u001B[0m \u001B[0;34m=\u001B[0m \u001B[0;36m0\u001B[0m\u001B[0;34m\u001B[0m\u001B[0;34m\u001B[0m\u001B[0m\n\u001B[1;32m    628\u001B[0m             out_list = (\n\u001B[0;32m--> 629\u001B[0;31m                 self.structured_traceback(\n\u001B[0m\u001B[1;32m    630\u001B[0m                     \u001B[0metype\u001B[0m\u001B[0;34m,\u001B[0m \u001B[0mevalue\u001B[0m\u001B[0;34m,\u001B[0m \u001B[0;34m(\u001B[0m\u001B[0metb\u001B[0m\u001B[0;34m,\u001B[0m \u001B[0mchained_exc_ids\u001B[0m\u001B[0;34m)\u001B[0m\u001B[0;34m,\u001B[0m\u001B[0;34m\u001B[0m\u001B[0;34m\u001B[0m\u001B[0m\n\u001B[1;32m    631\u001B[0m                     chained_exceptions_tb_offset, context)\n",
      "\u001B[0;32m/Library/anaconda3/lib/python3.9/site-packages/IPython/core/ultratb.py\u001B[0m in \u001B[0;36mstructured_traceback\u001B[0;34m(self, etype, value, tb, tb_offset, number_of_lines_of_context)\u001B[0m\n\u001B[1;32m   1365\u001B[0m         \u001B[0;32melse\u001B[0m\u001B[0;34m:\u001B[0m\u001B[0;34m\u001B[0m\u001B[0;34m\u001B[0m\u001B[0m\n\u001B[1;32m   1366\u001B[0m             \u001B[0mself\u001B[0m\u001B[0;34m.\u001B[0m\u001B[0mtb\u001B[0m \u001B[0;34m=\u001B[0m \u001B[0mtb\u001B[0m\u001B[0;34m\u001B[0m\u001B[0;34m\u001B[0m\u001B[0m\n\u001B[0;32m-> 1367\u001B[0;31m         return FormattedTB.structured_traceback(\n\u001B[0m\u001B[1;32m   1368\u001B[0m             self, etype, value, tb, tb_offset, number_of_lines_of_context)\n\u001B[1;32m   1369\u001B[0m \u001B[0;34m\u001B[0m\u001B[0m\n",
      "\u001B[0;32m/Library/anaconda3/lib/python3.9/site-packages/IPython/core/ultratb.py\u001B[0m in \u001B[0;36mstructured_traceback\u001B[0;34m(self, etype, value, tb, tb_offset, number_of_lines_of_context)\u001B[0m\n\u001B[1;32m   1265\u001B[0m         \u001B[0;32mif\u001B[0m \u001B[0mmode\u001B[0m \u001B[0;32min\u001B[0m \u001B[0mself\u001B[0m\u001B[0;34m.\u001B[0m\u001B[0mverbose_modes\u001B[0m\u001B[0;34m:\u001B[0m\u001B[0;34m\u001B[0m\u001B[0;34m\u001B[0m\u001B[0m\n\u001B[1;32m   1266\u001B[0m             \u001B[0;31m# Verbose modes need a full traceback\u001B[0m\u001B[0;34m\u001B[0m\u001B[0;34m\u001B[0m\u001B[0m\n\u001B[0;32m-> 1267\u001B[0;31m             return VerboseTB.structured_traceback(\n\u001B[0m\u001B[1;32m   1268\u001B[0m                 \u001B[0mself\u001B[0m\u001B[0;34m,\u001B[0m \u001B[0metype\u001B[0m\u001B[0;34m,\u001B[0m \u001B[0mvalue\u001B[0m\u001B[0;34m,\u001B[0m \u001B[0mtb\u001B[0m\u001B[0;34m,\u001B[0m \u001B[0mtb_offset\u001B[0m\u001B[0;34m,\u001B[0m \u001B[0mnumber_of_lines_of_context\u001B[0m\u001B[0;34m\u001B[0m\u001B[0;34m\u001B[0m\u001B[0m\n\u001B[1;32m   1269\u001B[0m             )\n",
      "\u001B[0;32m/Library/anaconda3/lib/python3.9/site-packages/IPython/core/ultratb.py\u001B[0m in \u001B[0;36mstructured_traceback\u001B[0;34m(self, etype, evalue, etb, tb_offset, number_of_lines_of_context)\u001B[0m\n\u001B[1;32m   1122\u001B[0m         \u001B[0;34m\"\"\"Return a nice text document describing the traceback.\"\"\"\u001B[0m\u001B[0;34m\u001B[0m\u001B[0;34m\u001B[0m\u001B[0m\n\u001B[1;32m   1123\u001B[0m \u001B[0;34m\u001B[0m\u001B[0m\n\u001B[0;32m-> 1124\u001B[0;31m         formatted_exception = self.format_exception_as_a_whole(etype, evalue, etb, number_of_lines_of_context,\n\u001B[0m\u001B[1;32m   1125\u001B[0m                                                                tb_offset)\n\u001B[1;32m   1126\u001B[0m \u001B[0;34m\u001B[0m\u001B[0m\n",
      "\u001B[0;32m/Library/anaconda3/lib/python3.9/site-packages/IPython/core/ultratb.py\u001B[0m in \u001B[0;36mformat_exception_as_a_whole\u001B[0;34m(self, etype, evalue, etb, number_of_lines_of_context, tb_offset)\u001B[0m\n\u001B[1;32m   1080\u001B[0m \u001B[0;34m\u001B[0m\u001B[0m\n\u001B[1;32m   1081\u001B[0m \u001B[0;34m\u001B[0m\u001B[0m\n\u001B[0;32m-> 1082\u001B[0;31m         \u001B[0mlast_unique\u001B[0m\u001B[0;34m,\u001B[0m \u001B[0mrecursion_repeat\u001B[0m \u001B[0;34m=\u001B[0m \u001B[0mfind_recursion\u001B[0m\u001B[0;34m(\u001B[0m\u001B[0morig_etype\u001B[0m\u001B[0;34m,\u001B[0m \u001B[0mevalue\u001B[0m\u001B[0;34m,\u001B[0m \u001B[0mrecords\u001B[0m\u001B[0;34m)\u001B[0m\u001B[0;34m\u001B[0m\u001B[0;34m\u001B[0m\u001B[0m\n\u001B[0m\u001B[1;32m   1083\u001B[0m \u001B[0;34m\u001B[0m\u001B[0m\n\u001B[1;32m   1084\u001B[0m         \u001B[0mframes\u001B[0m \u001B[0;34m=\u001B[0m \u001B[0mself\u001B[0m\u001B[0;34m.\u001B[0m\u001B[0mformat_records\u001B[0m\u001B[0;34m(\u001B[0m\u001B[0mrecords\u001B[0m\u001B[0;34m,\u001B[0m \u001B[0mlast_unique\u001B[0m\u001B[0;34m,\u001B[0m \u001B[0mrecursion_repeat\u001B[0m\u001B[0;34m)\u001B[0m\u001B[0;34m\u001B[0m\u001B[0;34m\u001B[0m\u001B[0m\n",
      "\u001B[0;32m/Library/anaconda3/lib/python3.9/site-packages/IPython/core/ultratb.py\u001B[0m in \u001B[0;36mfind_recursion\u001B[0;34m(etype, value, records)\u001B[0m\n\u001B[1;32m    380\u001B[0m     \u001B[0;31m# first frame (from in to out) that looks different.\u001B[0m\u001B[0;34m\u001B[0m\u001B[0;34m\u001B[0m\u001B[0m\n\u001B[1;32m    381\u001B[0m     \u001B[0;32mif\u001B[0m \u001B[0;32mnot\u001B[0m \u001B[0mis_recursion_error\u001B[0m\u001B[0;34m(\u001B[0m\u001B[0metype\u001B[0m\u001B[0;34m,\u001B[0m \u001B[0mvalue\u001B[0m\u001B[0;34m,\u001B[0m \u001B[0mrecords\u001B[0m\u001B[0;34m)\u001B[0m\u001B[0;34m:\u001B[0m\u001B[0;34m\u001B[0m\u001B[0;34m\u001B[0m\u001B[0m\n\u001B[0;32m--> 382\u001B[0;31m         \u001B[0;32mreturn\u001B[0m \u001B[0mlen\u001B[0m\u001B[0;34m(\u001B[0m\u001B[0mrecords\u001B[0m\u001B[0;34m)\u001B[0m\u001B[0;34m,\u001B[0m \u001B[0;36m0\u001B[0m\u001B[0;34m\u001B[0m\u001B[0;34m\u001B[0m\u001B[0m\n\u001B[0m\u001B[1;32m    383\u001B[0m \u001B[0;34m\u001B[0m\u001B[0m\n\u001B[1;32m    384\u001B[0m     \u001B[0;31m# Select filename, lineno, func_name to track frames with\u001B[0m\u001B[0;34m\u001B[0m\u001B[0;34m\u001B[0m\u001B[0m\n",
      "\u001B[0;31mTypeError\u001B[0m: object of type 'NoneType' has no len()"
     ]
    }
   ],
   "source": [
    "btest.check_requirements('/Users/rah/Documents/Downloads/btest_amino_microbe')"
   ],
   "metadata": {
    "collapsed": false,
    "pycharm": {
     "name": "#%%\n"
    }
   }
  },
  {
   "cell_type": "code",
   "execution_count": null,
   "outputs": [],
   "source": [],
   "metadata": {
    "collapsed": false,
    "pycharm": {
     "name": "#%%\n"
    }
   }
  },
  {
   "cell_type": "code",
   "execution_count": null,
   "outputs": [],
   "source": [],
   "metadata": {
    "collapsed": false,
    "pycharm": {
     "name": "#%%\n"
    }
   }
  },
  {
   "cell_type": "code",
   "execution_count": null,
   "metadata": {
    "pycharm": {
     "name": "#%%\n"
    }
   },
   "outputs": [],
   "source": [
    "associations"
   ]
  },
  {
   "cell_type": "code",
   "execution_count": null,
   "metadata": {
    "pycharm": {
     "name": "#%%\n"
    }
   },
   "outputs": [],
   "source": [
    "#simtable = blockplot.load_order_table(outputpath + '/simtable.tsv', associations)\n",
    "simtable = blockplot.load_order_table('/Users/rah/Dropbox/Ali-Docs/Research_docs/Projects/VastBiome/analysis/btest_bgc_mgx_replaceNA_FALSE_cov_25_measure_rpkg_mbx_pair_spearman_new//simtable.tsv', associations)"
   ]
  },
  {
   "cell_type": "code",
   "execution_count": null,
   "metadata": {
    "pycharm": {
     "name": "#%%\n"
    }
   },
   "outputs": [],
   "source": [
    "X_Y"
   ]
  },
  {
   "cell_type": "code",
   "execution_count": null,
   "metadata": {
    "pycharm": {
     "name": "#%%\n"
    }
   },
   "outputs": [],
   "source": [
    "blockplot.plot(\n",
    "    simtable,\n",
    "    associations,\n",
    "    cmap=\"RdBu_r\",\n",
    "    mask=False,\n",
    "    axlabels=[\"\",\"\"],\n",
    "    outfile=\"/Users/rah/Documents/omicsEye/btest/demo/btest_output/blockplot.pdf\",\n",
    "    similarity=\"Spearman\"\n",
    ")"
   ]
  },
  {
   "cell_type": "code",
   "execution_count": 21,
   "metadata": {
    "pycharm": {
     "name": "#%%\n"
    }
   },
   "outputs": [],
   "source": [
    "import matplotlib.pyplot as plt\n",
    "import matplotlib\n",
    "%matplotlib inline"
   ]
  },
  {
   "cell_type": "code",
   "execution_count": 22,
   "metadata": {
    "pycharm": {
     "name": "#%%\n"
    }
   },
   "outputs": [
    {
     "data": {
      "text/html": [
       "<div>\n",
       "<style scoped>\n",
       "    .dataframe tbody tr th:only-of-type {\n",
       "        vertical-align: middle;\n",
       "    }\n",
       "\n",
       "    .dataframe tbody tr th {\n",
       "        vertical-align: top;\n",
       "    }\n",
       "\n",
       "    .dataframe thead th {\n",
       "        text-align: right;\n",
       "    }\n",
       "</style>\n",
       "<table border=\"1\" class=\"dataframe\">\n",
       "  <thead>\n",
       "    <tr style=\"text-align: right;\">\n",
       "      <th></th>\n",
       "      <th>Feature_1</th>\n",
       "      <th>Feature_2</th>\n",
       "      <th>Correlation</th>\n",
       "      <th>complete_obs</th>\n",
       "      <th>t_statistic</th>\n",
       "      <th>pval</th>\n",
       "      <th>P_adjusted</th>\n",
       "      <th>bh_fdr_threshold</th>\n",
       "      <th>Type</th>\n",
       "    </tr>\n",
       "  </thead>\n",
       "  <tbody>\n",
       "    <tr>\n",
       "      <th>19872</th>\n",
       "      <td>Y92</td>\n",
       "      <td>Y93</td>\n",
       "      <td>0.978539</td>\n",
       "      <td>50.0</td>\n",
       "      <td>32.900503</td>\n",
       "      <td>0.0</td>\n",
       "      <td>0.0</td>\n",
       "      <td>0.016883</td>\n",
       "      <td>Y_Y</td>\n",
       "    </tr>\n",
       "    <tr>\n",
       "      <th>4500</th>\n",
       "      <td>X24</td>\n",
       "      <td>X25</td>\n",
       "      <td>0.971709</td>\n",
       "      <td>49.0</td>\n",
       "      <td>28.206115</td>\n",
       "      <td>0.0</td>\n",
       "      <td>0.0</td>\n",
       "      <td>0.016883</td>\n",
       "      <td>X_X</td>\n",
       "    </tr>\n",
       "    <tr>\n",
       "      <th>15170</th>\n",
       "      <td>Y2</td>\n",
       "      <td>Y26</td>\n",
       "      <td>0.969082</td>\n",
       "      <td>50.0</td>\n",
       "      <td>27.211086</td>\n",
       "      <td>0.0</td>\n",
       "      <td>0.0</td>\n",
       "      <td>0.016883</td>\n",
       "      <td>Y_Y</td>\n",
       "    </tr>\n",
       "    <tr>\n",
       "      <th>7216</th>\n",
       "      <td>X40</td>\n",
       "      <td>X77</td>\n",
       "      <td>0.968504</td>\n",
       "      <td>50.0</td>\n",
       "      <td>26.947950</td>\n",
       "      <td>0.0</td>\n",
       "      <td>0.0</td>\n",
       "      <td>0.016883</td>\n",
       "      <td>X_X</td>\n",
       "    </tr>\n",
       "    <tr>\n",
       "      <th>420</th>\n",
       "      <td>X2</td>\n",
       "      <td>X26</td>\n",
       "      <td>0.966043</td>\n",
       "      <td>50.0</td>\n",
       "      <td>25.903472</td>\n",
       "      <td>0.0</td>\n",
       "      <td>0.0</td>\n",
       "      <td>0.016883</td>\n",
       "      <td>X_X</td>\n",
       "    </tr>\n",
       "  </tbody>\n",
       "</table>\n",
       "</div>"
      ],
      "text/plain": [
       "      Feature_1 Feature_2  Correlation  complete_obs  t_statistic  pval  \\\n",
       "19872       Y92       Y93     0.978539          50.0    32.900503   0.0   \n",
       "4500        X24       X25     0.971709          49.0    28.206115   0.0   \n",
       "15170        Y2       Y26     0.969082          50.0    27.211086   0.0   \n",
       "7216        X40       X77     0.968504          50.0    26.947950   0.0   \n",
       "420          X2       X26     0.966043          50.0    25.903472   0.0   \n",
       "\n",
       "       P_adjusted  bh_fdr_threshold Type  \n",
       "19872         0.0          0.016883  Y_Y  \n",
       "4500          0.0          0.016883  X_X  \n",
       "15170         0.0          0.016883  Y_Y  \n",
       "7216          0.0          0.016883  X_X  \n",
       "420           0.0          0.016883  X_X  "
      ]
     },
     "execution_count": 22,
     "metadata": {},
     "output_type": "execute_result"
    }
   ],
   "source": [
    "X_Y_3.head()"
   ]
  },
  {
   "cell_type": "code",
   "execution_count": 80,
   "metadata": {
    "pycharm": {
     "name": "#%%\n"
    }
   },
   "outputs": [
    {
     "name": "stdout",
     "output_type": "stream",
     "text": [
      "Y2\n",
      "Y_Y\n"
     ]
    }
   ],
   "source": [
    "n = 2\n",
    "row = X_Y_3.iloc[n, :]\n",
    "var1 = row.loc['Feature_1']\n",
    "var2 = row.loc['Feature_2']\n",
    "print(var1)\n",
    "comp_type = row.loc['Type']\n",
    "var1_ind = int(var1[1:])\n",
    "var2_ind = int(var2[1:])\n",
    "print(comp_type)"
   ]
  },
  {
   "cell_type": "code",
   "execution_count": 81,
   "metadata": {
    "pycharm": {
     "name": "#%%\n"
    }
   },
   "outputs": [],
   "source": [
    "text_dict = {}\n",
    "text_ann = ''\n",
    "for key in ['Correlation', 'complete_obs', 'P_adjusted']:\n",
    "    text_dict[key] = row.loc[key]\n",
    "    text_ann = text_ann + key + ': '+ str(round(row.loc[key], 3)) + '\\n'"
   ]
  },
  {
   "cell_type": "code",
   "execution_count": 82,
   "metadata": {
    "pycharm": {
     "name": "#%%\n"
    }
   },
   "outputs": [],
   "source": [
    "if comp_type == 'X_X':\n",
    "    var1_val = dataX[var1_ind]\n",
    "    var2_val = dataX[var2_ind]\n",
    "elif comp_type == 'X_Y':\n",
    "    var1_val = dataX[var1_ind]\n",
    "    var2_val = dataY[var2_ind]\n",
    "else:\n",
    "    var1_val = dataY[var1_ind]\n",
    "    var2_val = dataY[var2_ind]"
   ]
  },
  {
   "cell_type": "code",
   "execution_count": 84,
   "metadata": {
    "pycharm": {
     "name": "#%%\n"
    }
   },
   "outputs": [
    {
     "data": {
      "image/png": "[encoded data removed]",
      "text/plain": [
       "<Figure size 960x960 with 1 Axes>"
      ]
     },
     "metadata": {},
     "output_type": "display_data"
    }
   ],
   "source": [
    "fig, ax = plt.subplots(1,1, figsize=(3.2,3.2), dpi = 300)\n",
    "plt.scatter(x = var1_val, y=var2_val,\n",
    "            edgecolors='#000',\n",
    "            linewidths = .5,\n",
    "            c = '#123435', alpha=.5, \n",
    "           marker=\"o\")\n",
    "plt.xlabel(var1)\n",
    "plt.ylabel(var2)\n",
    "if text_dict['Correlation'] > 0:\n",
    "    plt.text(0.02,.7, text_ann,fontstyle = 'italic',\n",
    "             transform=ax.transAxes, fontsize = 8)\n",
    "else:\n",
    "    plt.text(0.8,.7, text_ann, transform=ax.transAxes)\n",
    "ax.spines['right'].set_visible(False)\n",
    "ax.spines['top'].set_visible(False)\n",
    "plt.savefig(str(var1 + '_' + var2 + '.pdf'), bbox_inches='tight')\n",
    "plt.show()"
   ]
  },
  {
   "cell_type": "code",
   "execution_count": 99,
   "metadata": {
    "pycharm": {
     "name": "#%%\n"
    }
   },
   "outputs": [],
   "source": [
    "def b_scatter(dataX, dataY, b_test, n_ind, min_var = 0, report_dir = '.'):\n",
    "    assert type(dataX) == type(dataY), 'Type of dataX and dataY should be the same.'\n",
    "    if isinstance(dataX, str):\n",
    "        dataX, dataY, _, _ = utils.readData(dataX, dataY, min_var=min_var)\n",
    "    if isinstance(b_test, str):\n",
    "        b_test = pd.read_csv(btest)\n",
    "    \n",
    "    for n in n_ind:\n",
    "        row = b_test.iloc[n, :]\n",
    "        var1 = row.loc['Feature_1']\n",
    "        var2 = row.loc['Feature_2']\n",
    "\n",
    "        comp_type = row.loc['Type']\n",
    "        var1_ind = int(var1[1:])\n",
    "        var2_ind = int(var2[1:])\n",
    "\n",
    "        text_dict = {}\n",
    "        text_ann = ''\n",
    "        for key in ['Correlation', 'complete_obs', 'P_adjusted']:\n",
    "            text_dict[key] = row.loc[key]\n",
    "            text_ann = text_ann + key + ': '+ str(round(row.loc[key], 3)) + '\\n'\n",
    "\n",
    "        if comp_type == 'X_X':\n",
    "            var1_val = dataX[var1_ind]\n",
    "            var2_val = dataX[var2_ind]\n",
    "        elif comp_type == 'X_Y':\n",
    "            var1_val = dataX[var1_ind]\n",
    "            var2_val = dataY[var2_ind]\n",
    "        else:\n",
    "            var1_val = dataY[var1_ind]\n",
    "            var2_val = dataY[var2_ind]\n",
    "\n",
    "        fig, ax = plt.subplots(1,1, figsize=(3.2,3.2), dpi = 300)\n",
    "        plt.scatter(x = var1_val, y=var2_val,\n",
    "                    edgecolors='#000',\n",
    "                    linewidths = .5,\n",
    "                    c = '#123435', alpha=.5, \n",
    "                   marker=\"o\")\n",
    "        plt.xlabel(var1)\n",
    "        plt.ylabel(var2)\n",
    "        if text_dict['Correlation'] > 0:\n",
    "            plt.text(0.02,.7, text_ann,fontstyle = 'italic',\n",
    "                     transform=ax.transAxes, fontsize = 8)\n",
    "        else:\n",
    "            plt.text(0.8,.7, text_ann, transform=ax.transAxes)\n",
    "        ax.spines['right'].set_visible(False)\n",
    "        ax.spines['top'].set_visible(False)\n",
    "        plt.savefig(str(report_dir + '/' + var1 + '_' + var2 + '.pdf'), bbox_inches='tight')\n",
    "        plt.show()\n",
    "    return 'Done'"
   ]
  },
  {
   "cell_type": "code",
   "execution_count": 100,
   "metadata": {
    "pycharm": {
     "name": "#%%\n"
    }
   },
   "outputs": [
    {
     "data": {
      "image/png": "[encoded data removed]",
      "text/plain": [
       "<Figure size 960x960 with 1 Axes>"
      ]
     },
     "metadata": {},
     "output_type": "display_data"
    },
    {
     "data": {
      "image/png": "[encoded data removed]",
      "text/plain": [
       "<Figure size 960x960 with 1 Axes>"
      ]
     },
     "metadata": {},
     "output_type": "display_data"
    },
    {
     "data": {
      "image/png": "[encoded data removed]",
      "text/plain": [
       "<Figure size 960x960 with 1 Axes>"
      ]
     },
     "metadata": {},
     "output_type": "display_data"
    },
    {
     "data": {
      "text/plain": [
       "'Done'"
      ]
     },
     "execution_count": 100,
     "metadata": {},
     "output_type": "execute_result"
    }
   ],
   "source": [
    "b_scatter(dataX=dataX, dataY=dataY, b_test=X_Y_3, n_ind=[1,24,67])"
   ]
  },
  {
   "cell_type": "code",
   "execution_count": 102,
   "metadata": {
    "pycharm": {
     "name": "#%%\n"
    }
   },
   "outputs": [
    {
     "name": "stdout",
     "output_type": "stream",
     "text": [
      "Dataset X dimension  after cleaning:  (100, 50)\n",
      "Dataset Y dimension  after cleaning:  (100, 50)\n"
     ]
    },
    {
     "data": {
      "image/png": "[encoded data removed]",
      "text/plain": [
       "<Figure size 960x960 with 1 Axes>"
      ]
     },
     "metadata": {},
     "output_type": "display_data"
    },
    {
     "data": {
      "text/plain": [
       "'Done'"
      ]
     },
     "execution_count": 102,
     "metadata": {},
     "output_type": "execute_result"
    }
   ],
   "source": [
    "b_scatter(dataX='../demo/X_dataset.txt', dataY='../demo/Y_dataset.txt',b_test=X_Y_3, n_ind=[32])"
   ]
  },
  {
   "cell_type": "code",
   "execution_count": 103,
   "metadata": {
    "pycharm": {
     "name": "#%%\n"
    }
   },
   "outputs": [],
   "source": [
    "X_Y_3.to_csv('../notebooks/b_test_res.csv', index=False)"
   ]
  },
  {
   "cell_type": "code",
   "execution_count": 7,
   "metadata": {
    "pycharm": {
     "name": "#%%\n"
    }
   },
   "outputs": [
    {
     "name": "stdout",
     "output_type": "stream",
     "text": [
      "--- 38 samples/columns with all missing values have been removed from the first dataset \n",
      "--- 19 features with variation equal or less than 0.000 have been removed from the second dataset \n",
      "Dataset X dimension  after cleaning:  (287, 49)\n",
      "Dataset Y dimension  after cleaning:  (107, 49)\n"
     ]
    }
   ],
   "source": [
    "dataX , dataY, featuresX, featuresY  = utils.readData('../demo/donotaddtogithub/lipids.txt',\n",
    "                                                      '../demo/donotaddtogithub/microbe.txt', min_var=min_var)"
   ]
  },
  {
   "cell_type": "code",
   "execution_count": 8,
   "metadata": {
    "pycharm": {
     "name": "#%%\n"
    }
   },
   "outputs": [
    {
     "name": "stdout",
     "output_type": "stream",
     "text": [
      "CPU times: user 16.1 s, sys: 33.1 ms, total: 16.1 s\n",
      "Wall time: 16.1 s\n"
     ]
    }
   ],
   "source": [
    "%%time\n",
    "within_X = utils.btest_corr(dataX, featuresX, method=method, fdr=fdr, Type='withinX')\n",
    "within_Y  = utils.btest_corr(dataY, featuresY, method=method, fdr=fdr, Type='withinY')\n",
    "dataAll = np.concatenate((dataX, dataY), axis=0)\n",
    "X_Y = utils.btest_corr(dataAll, featuresX, featuresY, method=method, fdr=fdr, Type='X_Y')"
   ]
  },
  {
   "cell_type": "code",
   "execution_count": 9,
   "metadata": {
    "scrolled": true,
    "pycharm": {
     "name": "#%%\n"
    }
   },
   "outputs": [
    {
     "data": {
      "text/html": [
       "<div>\n",
       "<style scoped>\n",
       "    .dataframe tbody tr th:only-of-type {\n",
       "        vertical-align: middle;\n",
       "    }\n",
       "\n",
       "    .dataframe tbody tr th {\n",
       "        vertical-align: top;\n",
       "    }\n",
       "\n",
       "    .dataframe thead th {\n",
       "        text-align: right;\n",
       "    }\n",
       "</style>\n",
       "<table border=\"1\" class=\"dataframe\">\n",
       "  <thead>\n",
       "    <tr style=\"text-align: right;\">\n",
       "      <th></th>\n",
       "      <th>Feature_1</th>\n",
       "      <th>Feature_2</th>\n",
       "      <th>pval</th>\n",
       "      <th>Correlation</th>\n",
       "      <th>Not_NAs</th>\n",
       "      <th>P_adusted</th>\n",
       "      <th>bh_fdr_threshold</th>\n",
       "      <th>Type</th>\n",
       "    </tr>\n",
       "  </thead>\n",
       "  <tbody>\n",
       "    <tr>\n",
       "      <th>22297</th>\n",
       "      <td>CE(16:1)_NH4</td>\n",
       "      <td>Holdemanella</td>\n",
       "      <td>0.000106</td>\n",
       "      <td>-0.525381</td>\n",
       "      <td>49</td>\n",
       "      <td>3.228319</td>\n",
       "      <td>0.508516</td>\n",
       "      <td>X_Y</td>\n",
       "    </tr>\n",
       "    <tr>\n",
       "      <th>6176</th>\n",
       "      <td>PC(P-36:4)/PC(O-36:5)_A</td>\n",
       "      <td>NaN</td>\n",
       "      <td>0.000179</td>\n",
       "      <td>-0.510441</td>\n",
       "      <td>49</td>\n",
       "      <td>2.721414</td>\n",
       "      <td>0.508516</td>\n",
       "      <td>X_Y</td>\n",
       "    </tr>\n",
       "    <tr>\n",
       "      <th>25353</th>\n",
       "      <td>TG(45:3)_NH4</td>\n",
       "      <td>[Eubacterium] hallii group</td>\n",
       "      <td>0.000250</td>\n",
       "      <td>0.510024</td>\n",
       "      <td>47</td>\n",
       "      <td>2.536336</td>\n",
       "      <td>0.508516</td>\n",
       "      <td>X_Y</td>\n",
       "    </tr>\n",
       "    <tr>\n",
       "      <th>11767</th>\n",
       "      <td>SM(d18:1/22:0)_Lipids</td>\n",
       "      <td>Prevotella</td>\n",
       "      <td>0.000256</td>\n",
       "      <td>-0.499727</td>\n",
       "      <td>49</td>\n",
       "      <td>1.950272</td>\n",
       "      <td>0.508516</td>\n",
       "      <td>X_Y</td>\n",
       "    </tr>\n",
       "    <tr>\n",
       "      <th>7249</th>\n",
       "      <td>PE(32:0)</td>\n",
       "      <td>Intestinibacter</td>\n",
       "      <td>0.000285</td>\n",
       "      <td>0.496554</td>\n",
       "      <td>49</td>\n",
       "      <td>1.731819</td>\n",
       "      <td>0.508516</td>\n",
       "      <td>X_Y</td>\n",
       "    </tr>\n",
       "  </tbody>\n",
       "</table>\n",
       "</div>"
      ],
      "text/plain": [
       "                     Feature_1                   Feature_2      pval  \\\n",
       "22297             CE(16:1)_NH4                Holdemanella  0.000106   \n",
       "6176   PC(P-36:4)/PC(O-36:5)_A                         NaN  0.000179   \n",
       "25353             TG(45:3)_NH4  [Eubacterium] hallii group  0.000250   \n",
       "11767    SM(d18:1/22:0)_Lipids                  Prevotella  0.000256   \n",
       "7249                  PE(32:0)             Intestinibacter  0.000285   \n",
       "\n",
       "       Correlation  Not_NAs  P_adusted  bh_fdr_threshold Type  \n",
       "22297    -0.525381       49   3.228319          0.508516  X_Y  \n",
       "6176     -0.510441       49   2.721414          0.508516  X_Y  \n",
       "25353     0.510024       47   2.536336          0.508516  X_Y  \n",
       "11767    -0.499727       49   1.950272          0.508516  X_Y  \n",
       "7249      0.496554       49   1.731819          0.508516  X_Y  "
      ]
     },
     "execution_count": 9,
     "metadata": {},
     "output_type": "execute_result"
    }
   ],
   "source": [
    "X_Y.head()"
   ]
  },
  {
   "cell_type": "markdown",
   "metadata": {
    "pycharm": {
     "name": "#%% md\n"
    }
   },
   "source": [
    "# amino microbe test"
   ]
  },
  {
   "cell_type": "code",
   "execution_count": 2,
   "metadata": {
    "pycharm": {
     "name": "#%%\n"
    }
   },
   "outputs": [],
   "source": [
    "method = 'spearman'\n",
    "min_var = 0.0\n",
    "fdr =0.05"
   ]
  },
  {
   "cell_type": "code",
   "execution_count": 3,
   "metadata": {
    "pycharm": {
     "name": "#%%\n"
    }
   },
   "outputs": [
    {
     "name": "stdout",
     "output_type": "stream",
     "text": [
      "--- 38 samples/columns with all missing values have been removed from the first dataset \n",
      "--- 1 features with variation equal or less than 0.000 have been removed from the first dataset \n",
      "--- 19 features with variation equal or less than 0.000 have been removed from the second dataset \n",
      "Dataset X dimension  after cleaning:  (249, 49)\n",
      "Dataset Y dimension  after cleaning:  (107, 49)\n"
     ]
    }
   ],
   "source": [
    "dataX , dataY, featuresX, featuresY  = utils.readData('/Users/mbagh/Downloads/amino.txt', \n",
    "                                                      '/Users/mbagh/Downloads/microbe.txt', min_var=min_var)"
   ]
  },
  {
   "cell_type": "code",
   "execution_count": 4,
   "metadata": {
    "pycharm": {
     "name": "#%%\n"
    }
   },
   "outputs": [
    {
     "name": "stderr",
     "output_type": "stream",
     "text": [
      "/Users/mbagh/Documents/RahLab/btest/venv/lib/python3.9/site-packages/btest-1.1.2-py3.9.egg/btest/utils.py:299: FutureWarning: In a future version, `df.iloc[:, i] = newvals` will attempt to set the values inplace instead of always setting a new array. To retain the old behavior, use either `df[df.columns[i]] = newvals` or, if columns are non-unique, `df.isetitem(i, newvals)`\n",
      "  df_f.loc[:, 't_statistic'] = (df_f.loc[:, 'Correlation']*\n",
      "/Users/mbagh/Documents/RahLab/btest/venv/lib/python3.9/site-packages/btest-1.1.2-py3.9.egg/btest/utils.py:303: FutureWarning: In a future version, `df.iloc[:, i] = newvals` will attempt to set the values inplace instead of always setting a new array. To retain the old behavior, use either `df[df.columns[i]] = newvals` or, if columns are non-unique, `df.isetitem(i, newvals)`\n",
      "  df_f.loc[:, 'pval'] = 2 * (1 - t.cdf(abs(df_f.loc[:, 't_statistic']),\n",
      "/Users/mbagh/Documents/RahLab/btest/venv/lib/python3.9/site-packages/btest-1.1.2-py3.9.egg/btest/utils.py:310: FutureWarning: In a future version, `df.iloc[:, i] = newvals` will attempt to set the values inplace instead of always setting a new array. To retain the old behavior, use either `df[df.columns[i]] = newvals` or, if columns are non-unique, `df.isetitem(i, newvals)`\n",
      "  df_f.loc[:, 'P_adjusted'] = p_adust\n",
      "/Users/mbagh/Documents/RahLab/btest/venv/lib/python3.9/site-packages/btest-1.1.2-py3.9.egg/btest/utils.py:311: FutureWarning: In a future version, `df.iloc[:, i] = newvals` will attempt to set the values inplace instead of always setting a new array. To retain the old behavior, use either `df[df.columns[i]] = newvals` or, if columns are non-unique, `df.isetitem(i, newvals)`\n",
      "  df_f.loc[:, 'bh_fdr_threshold'] = p_threshold\n",
      "/Users/mbagh/Documents/RahLab/btest/venv/lib/python3.9/site-packages/btest-1.1.2-py3.9.egg/btest/utils.py:299: FutureWarning: In a future version, `df.iloc[:, i] = newvals` will attempt to set the values inplace instead of always setting a new array. To retain the old behavior, use either `df[df.columns[i]] = newvals` or, if columns are non-unique, `df.isetitem(i, newvals)`\n",
      "  df_f.loc[:, 't_statistic'] = (df_f.loc[:, 'Correlation']*\n",
      "/Users/mbagh/Documents/RahLab/btest/venv/lib/python3.9/site-packages/btest-1.1.2-py3.9.egg/btest/utils.py:303: FutureWarning: In a future version, `df.iloc[:, i] = newvals` will attempt to set the values inplace instead of always setting a new array. To retain the old behavior, use either `df[df.columns[i]] = newvals` or, if columns are non-unique, `df.isetitem(i, newvals)`\n",
      "  df_f.loc[:, 'pval'] = 2 * (1 - t.cdf(abs(df_f.loc[:, 't_statistic']),\n",
      "/Users/mbagh/Documents/RahLab/btest/venv/lib/python3.9/site-packages/btest-1.1.2-py3.9.egg/btest/utils.py:310: FutureWarning: In a future version, `df.iloc[:, i] = newvals` will attempt to set the values inplace instead of always setting a new array. To retain the old behavior, use either `df[df.columns[i]] = newvals` or, if columns are non-unique, `df.isetitem(i, newvals)`\n",
      "  df_f.loc[:, 'P_adjusted'] = p_adust\n",
      "/Users/mbagh/Documents/RahLab/btest/venv/lib/python3.9/site-packages/btest-1.1.2-py3.9.egg/btest/utils.py:311: FutureWarning: In a future version, `df.iloc[:, i] = newvals` will attempt to set the values inplace instead of always setting a new array. To retain the old behavior, use either `df[df.columns[i]] = newvals` or, if columns are non-unique, `df.isetitem(i, newvals)`\n",
      "  df_f.loc[:, 'bh_fdr_threshold'] = p_threshold\n"
     ]
    },
    {
     "name": "stdout",
     "output_type": "stream",
     "text": [
      "CPU times: user 868 ms, sys: 20.7 ms, total: 889 ms\n",
      "Wall time: 897 ms\n"
     ]
    },
    {
     "name": "stderr",
     "output_type": "stream",
     "text": [
      "/Users/mbagh/Documents/RahLab/btest/venv/lib/python3.9/site-packages/btest-1.1.2-py3.9.egg/btest/utils.py:299: FutureWarning: In a future version, `df.iloc[:, i] = newvals` will attempt to set the values inplace instead of always setting a new array. To retain the old behavior, use either `df[df.columns[i]] = newvals` or, if columns are non-unique, `df.isetitem(i, newvals)`\n",
      "  df_f.loc[:, 't_statistic'] = (df_f.loc[:, 'Correlation']*\n",
      "/Users/mbagh/Documents/RahLab/btest/venv/lib/python3.9/site-packages/btest-1.1.2-py3.9.egg/btest/utils.py:303: FutureWarning: In a future version, `df.iloc[:, i] = newvals` will attempt to set the values inplace instead of always setting a new array. To retain the old behavior, use either `df[df.columns[i]] = newvals` or, if columns are non-unique, `df.isetitem(i, newvals)`\n",
      "  df_f.loc[:, 'pval'] = 2 * (1 - t.cdf(abs(df_f.loc[:, 't_statistic']),\n",
      "/Users/mbagh/Documents/RahLab/btest/venv/lib/python3.9/site-packages/btest-1.1.2-py3.9.egg/btest/utils.py:310: FutureWarning: In a future version, `df.iloc[:, i] = newvals` will attempt to set the values inplace instead of always setting a new array. To retain the old behavior, use either `df[df.columns[i]] = newvals` or, if columns are non-unique, `df.isetitem(i, newvals)`\n",
      "  df_f.loc[:, 'P_adjusted'] = p_adust\n",
      "/Users/mbagh/Documents/RahLab/btest/venv/lib/python3.9/site-packages/btest-1.1.2-py3.9.egg/btest/utils.py:311: FutureWarning: In a future version, `df.iloc[:, i] = newvals` will attempt to set the values inplace instead of always setting a new array. To retain the old behavior, use either `df[df.columns[i]] = newvals` or, if columns are non-unique, `df.isetitem(i, newvals)`\n",
      "  df_f.loc[:, 'bh_fdr_threshold'] = p_threshold\n"
     ]
    }
   ],
   "source": [
    "%%time\n",
    "within_X = utils.btest_corr(dataX, featuresX, method=method, fdr=fdr, Type='withinX')\n",
    "within_Y  = utils.btest_corr(dataY, featuresY, method=method, fdr=fdr, Type='withinY')\n",
    "dataAll = np.concatenate((dataX, dataY), axis=0)\n",
    "X_Y = utils.btest_corr(dataAll, featuresX, featuresY, method=method, fdr=fdr, Type='X_Y')"
   ]
  },
  {
   "cell_type": "code",
   "execution_count": 5,
   "metadata": {
    "pycharm": {
     "name": "#%%\n"
    }
   },
   "outputs": [
    {
     "data": {
      "text/html": [
       "<div>\n",
       "<style scoped>\n",
       "    .dataframe tbody tr th:only-of-type {\n",
       "        vertical-align: middle;\n",
       "    }\n",
       "\n",
       "    .dataframe tbody tr th {\n",
       "        vertical-align: top;\n",
       "    }\n",
       "\n",
       "    .dataframe thead th {\n",
       "        text-align: right;\n",
       "    }\n",
       "</style>\n",
       "<table border=\"1\" class=\"dataframe\">\n",
       "  <thead>\n",
       "    <tr style=\"text-align: right;\">\n",
       "      <th></th>\n",
       "      <th>Feature_1</th>\n",
       "      <th>Feature_2</th>\n",
       "      <th>Correlation</th>\n",
       "      <th>complete_obs</th>\n",
       "      <th>t_statistic</th>\n",
       "      <th>pval</th>\n",
       "      <th>P_adjusted</th>\n",
       "      <th>bh_fdr_threshold</th>\n",
       "      <th>Type</th>\n",
       "    </tr>\n",
       "  </thead>\n",
       "  <tbody>\n",
       "    <tr>\n",
       "      <th>31810</th>\n",
       "      <td>hydroxycotinine</td>\n",
       "      <td>metformin</td>\n",
       "      <td>1.0</td>\n",
       "      <td>44.0</td>\n",
       "      <td>inf</td>\n",
       "      <td>0.0</td>\n",
       "      <td>0.0</td>\n",
       "      <td>0.001144</td>\n",
       "      <td>X_X</td>\n",
       "    </tr>\n",
       "    <tr>\n",
       "      <th>60283</th>\n",
       "      <td>Alloprevotella</td>\n",
       "      <td>Peptococcus</td>\n",
       "      <td>1.0</td>\n",
       "      <td>49.0</td>\n",
       "      <td>inf</td>\n",
       "      <td>0.0</td>\n",
       "      <td>0.0</td>\n",
       "      <td>0.001144</td>\n",
       "      <td>Y_Y</td>\n",
       "    </tr>\n",
       "    <tr>\n",
       "      <th>60292</th>\n",
       "      <td>Alloprevotella</td>\n",
       "      <td>Eisenbergiella</td>\n",
       "      <td>1.0</td>\n",
       "      <td>49.0</td>\n",
       "      <td>inf</td>\n",
       "      <td>0.0</td>\n",
       "      <td>0.0</td>\n",
       "      <td>0.001144</td>\n",
       "      <td>Y_Y</td>\n",
       "    </tr>\n",
       "    <tr>\n",
       "      <th>60295</th>\n",
       "      <td>Alloprevotella</td>\n",
       "      <td>Coprobacter</td>\n",
       "      <td>1.0</td>\n",
       "      <td>49.0</td>\n",
       "      <td>inf</td>\n",
       "      <td>0.0</td>\n",
       "      <td>0.0</td>\n",
       "      <td>0.001144</td>\n",
       "      <td>Y_Y</td>\n",
       "    </tr>\n",
       "    <tr>\n",
       "      <th>60306</th>\n",
       "      <td>Alloprevotella</td>\n",
       "      <td>Leuconostoc</td>\n",
       "      <td>1.0</td>\n",
       "      <td>49.0</td>\n",
       "      <td>inf</td>\n",
       "      <td>0.0</td>\n",
       "      <td>0.0</td>\n",
       "      <td>0.001144</td>\n",
       "      <td>Y_Y</td>\n",
       "    </tr>\n",
       "  </tbody>\n",
       "</table>\n",
       "</div>"
      ],
      "text/plain": [
       "             Feature_1       Feature_2  Correlation  complete_obs  \\\n",
       "31810  hydroxycotinine       metformin          1.0          44.0   \n",
       "60283   Alloprevotella     Peptococcus          1.0          49.0   \n",
       "60292   Alloprevotella  Eisenbergiella          1.0          49.0   \n",
       "60295   Alloprevotella     Coprobacter          1.0          49.0   \n",
       "60306   Alloprevotella     Leuconostoc          1.0          49.0   \n",
       "\n",
       "       t_statistic  pval  P_adjusted  bh_fdr_threshold Type  \n",
       "31810          inf   0.0         0.0          0.001144  X_X  \n",
       "60283          inf   0.0         0.0          0.001144  Y_Y  \n",
       "60292          inf   0.0         0.0          0.001144  Y_Y  \n",
       "60295          inf   0.0         0.0          0.001144  Y_Y  \n",
       "60306          inf   0.0         0.0          0.001144  Y_Y  "
      ]
     },
     "execution_count": 5,
     "metadata": {},
     "output_type": "execute_result"
    }
   ],
   "source": [
    "X_Y.head()"
   ]
  },
  {
   "cell_type": "code",
   "execution_count": 18,
   "metadata": {
    "pycharm": {
     "name": "#%%\n"
    }
   },
   "outputs": [
    {
     "data": {
      "text/html": [
       "<div>\n",
       "<style scoped>\n",
       "    .dataframe tbody tr th:only-of-type {\n",
       "        vertical-align: middle;\n",
       "    }\n",
       "\n",
       "    .dataframe tbody tr th {\n",
       "        vertical-align: top;\n",
       "    }\n",
       "\n",
       "    .dataframe thead th {\n",
       "        text-align: right;\n",
       "    }\n",
       "</style>\n",
       "<table border=\"1\" class=\"dataframe\">\n",
       "  <thead>\n",
       "    <tr style=\"text-align: right;\">\n",
       "      <th></th>\n",
       "      <th>Feature_1</th>\n",
       "      <th>Feature_2</th>\n",
       "      <th>Correlation</th>\n",
       "      <th>complete_obs</th>\n",
       "      <th>t_statistic</th>\n",
       "      <th>pval</th>\n",
       "      <th>P_adjusted</th>\n",
       "      <th>bh_fdr_threshold</th>\n",
       "      <th>Type</th>\n",
       "    </tr>\n",
       "  </thead>\n",
       "  <tbody>\n",
       "    <tr>\n",
       "      <th>28797</th>\n",
       "      <td>LPC(18:2)</td>\n",
       "      <td>LPC(20:5)</td>\n",
       "      <td>0.966429</td>\n",
       "      <td>49.0</td>\n",
       "      <td>25.786636</td>\n",
       "      <td>0.0</td>\n",
       "      <td>0.000000</td>\n",
       "      <td>0.002279</td>\n",
       "      <td>withinX</td>\n",
       "    </tr>\n",
       "    <tr>\n",
       "      <th>16396</th>\n",
       "      <td>citrulline</td>\n",
       "      <td>N-acetylhistidine</td>\n",
       "      <td>0.963647</td>\n",
       "      <td>49.0</td>\n",
       "      <td>24.726649</td>\n",
       "      <td>0.0</td>\n",
       "      <td>0.000000</td>\n",
       "      <td>0.002279</td>\n",
       "      <td>withinX</td>\n",
       "    </tr>\n",
       "    <tr>\n",
       "      <th>28664</th>\n",
       "      <td>LPC(16:0)</td>\n",
       "      <td>LPC(18:3)</td>\n",
       "      <td>0.961531</td>\n",
       "      <td>49.0</td>\n",
       "      <td>23.996995</td>\n",
       "      <td>0.0</td>\n",
       "      <td>0.000000</td>\n",
       "      <td>0.002279</td>\n",
       "      <td>withinX</td>\n",
       "    </tr>\n",
       "    <tr>\n",
       "      <th>13486</th>\n",
       "      <td>C8 carnitine</td>\n",
       "      <td>C10 carnitine</td>\n",
       "      <td>0.935102</td>\n",
       "      <td>49.0</td>\n",
       "      <td>18.090080</td>\n",
       "      <td>0.0</td>\n",
       "      <td>0.000000</td>\n",
       "      <td>0.002279</td>\n",
       "      <td>withinX</td>\n",
       "    </tr>\n",
       "    <tr>\n",
       "      <th>14766</th>\n",
       "      <td>C14:1 carnitine</td>\n",
       "      <td>C14:2 carnitine</td>\n",
       "      <td>0.906939</td>\n",
       "      <td>49.0</td>\n",
       "      <td>14.759585</td>\n",
       "      <td>0.0</td>\n",
       "      <td>0.000000</td>\n",
       "      <td>0.002279</td>\n",
       "      <td>withinX</td>\n",
       "    </tr>\n",
       "    <tr>\n",
       "      <th>...</th>\n",
       "      <td>...</td>\n",
       "      <td>...</td>\n",
       "      <td>...</td>\n",
       "      <td>...</td>\n",
       "      <td>...</td>\n",
       "      <td>...</td>\n",
       "      <td>...</td>\n",
       "      <td>...</td>\n",
       "      <td>...</td>\n",
       "    </tr>\n",
       "    <tr>\n",
       "      <th>24278</th>\n",
       "      <td>N-acetylhistamine</td>\n",
       "      <td>LPE(22:6)</td>\n",
       "      <td>0.000000</td>\n",
       "      <td>9.0</td>\n",
       "      <td>0.000000</td>\n",
       "      <td>1.0</td>\n",
       "      <td>1.000130</td>\n",
       "      <td>0.002279</td>\n",
       "      <td>withinX</td>\n",
       "    </tr>\n",
       "    <tr>\n",
       "      <th>24283</th>\n",
       "      <td>N-acetylhistamine</td>\n",
       "      <td>PC(36:2)</td>\n",
       "      <td>0.000000</td>\n",
       "      <td>9.0</td>\n",
       "      <td>0.000000</td>\n",
       "      <td>1.0</td>\n",
       "      <td>1.000097</td>\n",
       "      <td>0.002279</td>\n",
       "      <td>withinX</td>\n",
       "    </tr>\n",
       "    <tr>\n",
       "      <th>28222</th>\n",
       "      <td>urobilinogen</td>\n",
       "      <td>PE(P-34:2)/PE(O-34:3)</td>\n",
       "      <td>0.000000</td>\n",
       "      <td>32.0</td>\n",
       "      <td>0.000000</td>\n",
       "      <td>1.0</td>\n",
       "      <td>1.000065</td>\n",
       "      <td>0.002279</td>\n",
       "      <td>withinX</td>\n",
       "    </tr>\n",
       "    <tr>\n",
       "      <th>20591</th>\n",
       "      <td>hydroxycotinine</td>\n",
       "      <td>metformin</td>\n",
       "      <td>1.000000</td>\n",
       "      <td>2.0</td>\n",
       "      <td>NaN</td>\n",
       "      <td>NaN</td>\n",
       "      <td>NaN</td>\n",
       "      <td>0.002279</td>\n",
       "      <td>withinX</td>\n",
       "    </tr>\n",
       "    <tr>\n",
       "      <th>22245</th>\n",
       "      <td>metformin</td>\n",
       "      <td>N-acetylhistidine</td>\n",
       "      <td>-0.257143</td>\n",
       "      <td>0.0</td>\n",
       "      <td>NaN</td>\n",
       "      <td>NaN</td>\n",
       "      <td>NaN</td>\n",
       "      <td>0.002279</td>\n",
       "      <td>withinX</td>\n",
       "    </tr>\n",
       "  </tbody>\n",
       "</table>\n",
       "<p>30875 rows × 9 columns</p>\n",
       "</div>"
      ],
      "text/plain": [
       "               Feature_1              Feature_2  Correlation  complete_obs  \\\n",
       "28797          LPC(18:2)              LPC(20:5)     0.966429          49.0   \n",
       "16396         citrulline      N-acetylhistidine     0.963647          49.0   \n",
       "28664          LPC(16:0)              LPC(18:3)     0.961531          49.0   \n",
       "13486       C8 carnitine          C10 carnitine     0.935102          49.0   \n",
       "14766    C14:1 carnitine        C14:2 carnitine     0.906939          49.0   \n",
       "...                  ...                    ...          ...           ...   \n",
       "24278  N-acetylhistamine              LPE(22:6)     0.000000           9.0   \n",
       "24283  N-acetylhistamine               PC(36:2)     0.000000           9.0   \n",
       "28222       urobilinogen  PE(P-34:2)/PE(O-34:3)     0.000000          32.0   \n",
       "20591    hydroxycotinine              metformin     1.000000           2.0   \n",
       "22245          metformin      N-acetylhistidine    -0.257143           0.0   \n",
       "\n",
       "       t_statistic  pval  P_adjusted  bh_fdr_threshold     Type  \n",
       "28797    25.786636   0.0    0.000000          0.002279  withinX  \n",
       "16396    24.726649   0.0    0.000000          0.002279  withinX  \n",
       "28664    23.996995   0.0    0.000000          0.002279  withinX  \n",
       "13486    18.090080   0.0    0.000000          0.002279  withinX  \n",
       "14766    14.759585   0.0    0.000000          0.002279  withinX  \n",
       "...            ...   ...         ...               ...      ...  \n",
       "24278     0.000000   1.0    1.000130          0.002279  withinX  \n",
       "24283     0.000000   1.0    1.000097          0.002279  withinX  \n",
       "28222     0.000000   1.0    1.000065          0.002279  withinX  \n",
       "20591          NaN   NaN         NaN          0.002279  withinX  \n",
       "22245          NaN   NaN         NaN          0.002279  withinX  \n",
       "\n",
       "[30875 rows x 9 columns]"
      ]
     },
     "execution_count": 18,
     "metadata": {},
     "output_type": "execute_result"
    }
   ],
   "source": [
    "within_X"
   ]
  },
  {
   "cell_type": "code",
   "execution_count": 7,
   "metadata": {
    "pycharm": {
     "name": "#%%\n"
    }
   },
   "outputs": [
    {
     "data": {
      "text/plain": [
       "X_X    30875\n",
       "X_Y    26462\n",
       "Y_Y     5671\n",
       "Name: Type, dtype: int64"
      ]
     },
     "execution_count": 7,
     "metadata": {},
     "output_type": "execute_result"
    }
   ],
   "source": [
    "X_Y['Type'].value_counts()"
   ]
  },
  {
   "cell_type": "code",
   "execution_count": 22,
   "metadata": {
    "pycharm": {
     "name": "#%%\n"
    }
   },
   "outputs": [],
   "source": [
    "x = dataX[featuresX.index('N-acetylhistidine')]\n",
    "y = dataX[featuresX.index('metformin')]"
   ]
  },
  {
   "cell_type": "code",
   "execution_count": 23,
   "metadata": {
    "pycharm": {
     "name": "#%%\n"
    }
   },
   "outputs": [
    {
     "data": {
      "text/plain": [
       "array([10356., 12295.,  6243., 13405.,  7913., 10787.,  4081.,  9798.,\n",
       "        9799., 15357.,  6878.,  7521., 12655., 13510.,  9753., 10143.,\n",
       "        5492.,  5426.,  9746.,  9982.,  9090.,  6976., 12341., 12384.,\n",
       "        6902., 12657.,  7110.,  9754., 16369.,  7400.,  8926.,  7868.,\n",
       "       15438.,  6225.,  8878.,  7400.,  5853.,  7334.,  6964.,  1433.,\n",
       "        7945.,  9520.,  7799.,  7113.,  9346., 12441., 11433., 10677.,\n",
       "        6142.])"
      ]
     },
     "execution_count": 23,
     "metadata": {},
     "output_type": "execute_result"
    }
   ],
   "source": [
    "x"
   ]
  },
  {
   "cell_type": "code",
   "execution_count": 24,
   "metadata": {
    "pycharm": {
     "name": "#%%\n"
    }
   },
   "outputs": [
    {
     "data": {
      "text/plain": [
       "array([     nan,      nan,   44554.,      nan,      nan,      nan,\n",
       "        418764.,      nan,      nan,      nan,  563505.,      nan,\n",
       "        559989.,      nan,      nan,      nan,      nan,      nan,\n",
       "            nan,      nan,      nan,      nan,      nan,      nan,\n",
       "            nan,      nan,      nan,      nan,      nan,      nan,\n",
       "            nan,      nan,      nan,      nan,      nan,      nan,\n",
       "            nan,      nan,      nan, 1457680.,      nan,      nan,\n",
       "            nan,      nan,  337870.,      nan,      nan,      nan,\n",
       "            nan])"
      ]
     },
     "execution_count": 24,
     "metadata": {},
     "output_type": "execute_result"
    }
   ],
   "source": [
    "y"
   ]
  },
  {
   "cell_type": "code",
   "execution_count": null,
   "metadata": {
    "pycharm": {
     "name": "#%%\n"
    }
   },
   "outputs": [],
   "source": []
  }
 ],
 "metadata": {
  "accelerator": "TPU",
  "colab": {
   "collapsed_sections": [
    "yfILUg1HmAkM"
   ],
   "machine_shape": "hm",
   "name": "15-Ensemble-Evaluation.ipynb",
   "provenance": []
  },
  "kernelspec": {
   "display_name": "Python 3 (ipykernel)",
   "language": "python",
   "name": "python3"
  },
  "language_info": {
   "codemirror_mode": {
    "name": "ipython",
    "version": 3
   },
   "file_extension": ".py",
   "mimetype": "text/x-python",
   "name": "python",
   "nbconvert_exporter": "python",
   "pygments_lexer": "ipython3",
   "version": "3.9.6"
  }
 },
 "nbformat": 4,
 "nbformat_minor": 1
}