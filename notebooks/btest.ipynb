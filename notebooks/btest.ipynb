{
 "cells": [
  {
   "cell_type": "markdown",
   "metadata": {
    "colab_type": "text",
    "id": "AmPqBsydh5J-",
    "pycharm": {
     "name": "#%% md\n"
    }
   },
   "source": [
    "# *btest* initial steps\n",
    "\n",
    "step-by-step"
   ]
  },
  {
   "cell_type": "code",
   "execution_count": 1,
   "outputs": [],
   "source": [
    "import argparse\n",
    "import csv\n",
    "import itertools\n",
    "import logging\n",
    "import os\n",
    "import sys\n",
    "import shutil\n",
    "import time\n",
    "import math\n",
    "import random\n",
    "from scipy.stats import pearsonr\n",
    "import numpy as np\n",
    "import pandas as pd\n",
    "import math\n",
    "from scipy.stats import spearmanr\n"
   ],
   "metadata": {
    "collapsed": false,
    "pycharm": {
     "name": "#%%\n"
    }
   }
  },
  {
   "cell_type": "code",
   "execution_count": 2,
   "outputs": [],
   "source": [
    "dataX = pd.read_table('~/Documents/omicsEye/btest/demo/X_dataset.txt', index_col=0, header=0)"
   ],
   "metadata": {
    "collapsed": false,
    "pycharm": {
     "name": "#%%\n"
    }
   }
  },
  {
   "cell_type": "code",
   "execution_count": 3,
   "outputs": [
    {
     "data": {
      "text/plain": "      S0   S1  S2  S3  S4  S5  S6  S7  S8  S9  ...  S40  S41  S42  S43  S44  \\\nX0   5.0  6.0   5   3   3   5   2   2   7   1  ...    2    5    7    2    5   \nX1   5.0  NaN   4   3   3   5   2   2   6   2  ...    4    5    6    3    5   \nX2   5.0  5.0   5   3   3   5   2   2   6   1  ...    4    6    7    2    5   \nX3   5.0  6.0   4   3   4   5   2   1   6   2  ...    3    5    6    2    5   \nX4   5.0  NaN   5   3   4   5   3   1   6   2  ...    3    5    7    2    5   \n..   ...  ...  ..  ..  ..  ..  ..  ..  ..  ..  ...  ...  ...  ...  ...  ...   \nX95  5.0  3.0   4   6   5   5   4   1   1   6  ...    7    2    3    3    4   \nX96  5.0  4.0   4   6   5   3   3   1   1   6  ...    7    2    3    2    4   \nX97  6.0  4.0   3   5   5   4   5   1   1   6  ...    7    3    3    3    3   \nX98  6.0  4.0   3   6   5   4   4   1   1   6  ...    7    2    3    2    3   \nX99  6.0  3.0   4   5   5   5   3   1   1   6  ...    7    2    3    3    4   \n\n     S45  S46  S47  S48  S49  \nX0     3    1    1    4    3  \nX1     2    1    1    4    3  \nX2     3    1    2    4    4  \nX3     4    1    1    4    3  \nX4     2    1    1    4    3  \n..   ...  ...  ...  ...  ...  \nX95    6    3    6    6    1  \nX96    6    4    5    6    1  \nX97    6    4    5    6    2  \nX98    5    3    5    6    1  \nX99    6    3    6    6    1  \n\n[100 rows x 50 columns]",
      "text/html": "<div>\n<style scoped>\n    .dataframe tbody tr th:only-of-type {\n        vertical-align: middle;\n    }\n\n    .dataframe tbody tr th {\n        vertical-align: top;\n    }\n\n    .dataframe thead th {\n        text-align: right;\n    }\n</style>\n<table border=\"1\" class=\"dataframe\">\n  <thead>\n    <tr style=\"text-align: right;\">\n      <th></th>\n      <th>S0</th>\n      <th>S1</th>\n      <th>S2</th>\n      <th>S3</th>\n      <th>S4</th>\n      <th>S5</th>\n      <th>S6</th>\n      <th>S7</th>\n      <th>S8</th>\n      <th>S9</th>\n      <th>...</th>\n      <th>S40</th>\n      <th>S41</th>\n      <th>S42</th>\n      <th>S43</th>\n      <th>S44</th>\n      <th>S45</th>\n      <th>S46</th>\n      <th>S47</th>\n      <th>S48</th>\n      <th>S49</th>\n    </tr>\n  </thead>\n  <tbody>\n    <tr>\n      <th>X0</th>\n      <td>5.0</td>\n      <td>6.0</td>\n      <td>5</td>\n      <td>3</td>\n      <td>3</td>\n      <td>5</td>\n      <td>2</td>\n      <td>2</td>\n      <td>7</td>\n      <td>1</td>\n      <td>...</td>\n      <td>2</td>\n      <td>5</td>\n      <td>7</td>\n      <td>2</td>\n      <td>5</td>\n      <td>3</td>\n      <td>1</td>\n      <td>1</td>\n      <td>4</td>\n      <td>3</td>\n    </tr>\n    <tr>\n      <th>X1</th>\n      <td>5.0</td>\n      <td>NaN</td>\n      <td>4</td>\n      <td>3</td>\n      <td>3</td>\n      <td>5</td>\n      <td>2</td>\n      <td>2</td>\n      <td>6</td>\n      <td>2</td>\n      <td>...</td>\n      <td>4</td>\n      <td>5</td>\n      <td>6</td>\n      <td>3</td>\n      <td>5</td>\n      <td>2</td>\n      <td>1</td>\n      <td>1</td>\n      <td>4</td>\n      <td>3</td>\n    </tr>\n    <tr>\n      <th>X2</th>\n      <td>5.0</td>\n      <td>5.0</td>\n      <td>5</td>\n      <td>3</td>\n      <td>3</td>\n      <td>5</td>\n      <td>2</td>\n      <td>2</td>\n      <td>6</td>\n      <td>1</td>\n      <td>...</td>\n      <td>4</td>\n      <td>6</td>\n      <td>7</td>\n      <td>2</td>\n      <td>5</td>\n      <td>3</td>\n      <td>1</td>\n      <td>2</td>\n      <td>4</td>\n      <td>4</td>\n    </tr>\n    <tr>\n      <th>X3</th>\n      <td>5.0</td>\n      <td>6.0</td>\n      <td>4</td>\n      <td>3</td>\n      <td>4</td>\n      <td>5</td>\n      <td>2</td>\n      <td>1</td>\n      <td>6</td>\n      <td>2</td>\n      <td>...</td>\n      <td>3</td>\n      <td>5</td>\n      <td>6</td>\n      <td>2</td>\n      <td>5</td>\n      <td>4</td>\n      <td>1</td>\n      <td>1</td>\n      <td>4</td>\n      <td>3</td>\n    </tr>\n    <tr>\n      <th>X4</th>\n      <td>5.0</td>\n      <td>NaN</td>\n      <td>5</td>\n      <td>3</td>\n      <td>4</td>\n      <td>5</td>\n      <td>3</td>\n      <td>1</td>\n      <td>6</td>\n      <td>2</td>\n      <td>...</td>\n      <td>3</td>\n      <td>5</td>\n      <td>7</td>\n      <td>2</td>\n      <td>5</td>\n      <td>2</td>\n      <td>1</td>\n      <td>1</td>\n      <td>4</td>\n      <td>3</td>\n    </tr>\n    <tr>\n      <th>...</th>\n      <td>...</td>\n      <td>...</td>\n      <td>...</td>\n      <td>...</td>\n      <td>...</td>\n      <td>...</td>\n      <td>...</td>\n      <td>...</td>\n      <td>...</td>\n      <td>...</td>\n      <td>...</td>\n      <td>...</td>\n      <td>...</td>\n      <td>...</td>\n      <td>...</td>\n      <td>...</td>\n      <td>...</td>\n      <td>...</td>\n      <td>...</td>\n      <td>...</td>\n      <td>...</td>\n    </tr>\n    <tr>\n      <th>X95</th>\n      <td>5.0</td>\n      <td>3.0</td>\n      <td>4</td>\n      <td>6</td>\n      <td>5</td>\n      <td>5</td>\n      <td>4</td>\n      <td>1</td>\n      <td>1</td>\n      <td>6</td>\n      <td>...</td>\n      <td>7</td>\n      <td>2</td>\n      <td>3</td>\n      <td>3</td>\n      <td>4</td>\n      <td>6</td>\n      <td>3</td>\n      <td>6</td>\n      <td>6</td>\n      <td>1</td>\n    </tr>\n    <tr>\n      <th>X96</th>\n      <td>5.0</td>\n      <td>4.0</td>\n      <td>4</td>\n      <td>6</td>\n      <td>5</td>\n      <td>3</td>\n      <td>3</td>\n      <td>1</td>\n      <td>1</td>\n      <td>6</td>\n      <td>...</td>\n      <td>7</td>\n      <td>2</td>\n      <td>3</td>\n      <td>2</td>\n      <td>4</td>\n      <td>6</td>\n      <td>4</td>\n      <td>5</td>\n      <td>6</td>\n      <td>1</td>\n    </tr>\n    <tr>\n      <th>X97</th>\n      <td>6.0</td>\n      <td>4.0</td>\n      <td>3</td>\n      <td>5</td>\n      <td>5</td>\n      <td>4</td>\n      <td>5</td>\n      <td>1</td>\n      <td>1</td>\n      <td>6</td>\n      <td>...</td>\n      <td>7</td>\n      <td>3</td>\n      <td>3</td>\n      <td>3</td>\n      <td>3</td>\n      <td>6</td>\n      <td>4</td>\n      <td>5</td>\n      <td>6</td>\n      <td>2</td>\n    </tr>\n    <tr>\n      <th>X98</th>\n      <td>6.0</td>\n      <td>4.0</td>\n      <td>3</td>\n      <td>6</td>\n      <td>5</td>\n      <td>4</td>\n      <td>4</td>\n      <td>1</td>\n      <td>1</td>\n      <td>6</td>\n      <td>...</td>\n      <td>7</td>\n      <td>2</td>\n      <td>3</td>\n      <td>2</td>\n      <td>3</td>\n      <td>5</td>\n      <td>3</td>\n      <td>5</td>\n      <td>6</td>\n      <td>1</td>\n    </tr>\n    <tr>\n      <th>X99</th>\n      <td>6.0</td>\n      <td>3.0</td>\n      <td>4</td>\n      <td>5</td>\n      <td>5</td>\n      <td>5</td>\n      <td>3</td>\n      <td>1</td>\n      <td>1</td>\n      <td>6</td>\n      <td>...</td>\n      <td>7</td>\n      <td>2</td>\n      <td>3</td>\n      <td>3</td>\n      <td>4</td>\n      <td>6</td>\n      <td>3</td>\n      <td>6</td>\n      <td>6</td>\n      <td>1</td>\n    </tr>\n  </tbody>\n</table>\n<p>100 rows × 50 columns</p>\n</div>"
     },
     "execution_count": 3,
     "metadata": {},
     "output_type": "execute_result"
    }
   ],
   "source": [
    "dataX"
   ],
   "metadata": {
    "collapsed": false,
    "pycharm": {
     "name": "#%%\n"
    }
   }
  },
  {
   "cell_type": "code",
   "execution_count": 4,
   "outputs": [],
   "source": [
    "dataY = pd.read_table('~/Documents/omicsEye/btest/demo/Y_dataset.txt', index_col=0, header=0)"
   ],
   "metadata": {
    "collapsed": false,
    "pycharm": {
     "name": "#%%\n"
    }
   }
  },
  {
   "cell_type": "code",
   "execution_count": 5,
   "outputs": [],
   "source": [
    "ind = dataY.columns.intersection(dataX.columns)"
   ],
   "metadata": {
    "collapsed": false,
    "pycharm": {
     "name": "#%%\n"
    }
   }
  },
  {
   "cell_type": "code",
   "execution_count": 6,
   "outputs": [
    {
     "data": {
      "text/plain": "Index(['S0', 'S1', 'S2', 'S3', 'S4', 'S5', 'S6', 'S7', 'S8', 'S9', 'S10',\n       'S11', 'S12', 'S13', 'S14', 'S15', 'S16', 'S17', 'S18', 'S19', 'S20',\n       'S21', 'S22', 'S23', 'S24', 'S25', 'S26', 'S27', 'S28', 'S29', 'S30',\n       'S31', 'S32', 'S33', 'S34', 'S35', 'S36', 'S37', 'S38', 'S39', 'S40',\n       'S41', 'S42', 'S43', 'S44', 'S45', 'S46', 'S47', 'S48', 'S49'],\n      dtype='object')"
     },
     "execution_count": 6,
     "metadata": {},
     "output_type": "execute_result"
    }
   ],
   "source": [
    "ind"
   ],
   "metadata": {
    "collapsed": false,
    "pycharm": {
     "name": "#%%\n"
    }
   }
  },
  {
   "cell_type": "code",
   "execution_count": 7,
   "outputs": [],
   "source": [
    "dataX = dataX.loc[:, ind]\n",
    "dataY = dataY.loc[:, ind]"
   ],
   "metadata": {
    "collapsed": false,
    "pycharm": {
     "name": "#%%\n"
    }
   }
  },
  {
   "cell_type": "code",
   "execution_count": 8,
   "outputs": [
    {
     "data": {
      "text/plain": "      S0   S1  S2  S3  S4  S5  S6  S7  S8  S9  ...  S40  S41  S42  S43  S44  \\\nX0   5.0  6.0   5   3   3   5   2   2   7   1  ...    2    5    7    2    5   \nX1   5.0  NaN   4   3   3   5   2   2   6   2  ...    4    5    6    3    5   \nX2   5.0  5.0   5   3   3   5   2   2   6   1  ...    4    6    7    2    5   \nX3   5.0  6.0   4   3   4   5   2   1   6   2  ...    3    5    6    2    5   \nX4   5.0  NaN   5   3   4   5   3   1   6   2  ...    3    5    7    2    5   \n..   ...  ...  ..  ..  ..  ..  ..  ..  ..  ..  ...  ...  ...  ...  ...  ...   \nX95  5.0  3.0   4   6   5   5   4   1   1   6  ...    7    2    3    3    4   \nX96  5.0  4.0   4   6   5   3   3   1   1   6  ...    7    2    3    2    4   \nX97  6.0  4.0   3   5   5   4   5   1   1   6  ...    7    3    3    3    3   \nX98  6.0  4.0   3   6   5   4   4   1   1   6  ...    7    2    3    2    3   \nX99  6.0  3.0   4   5   5   5   3   1   1   6  ...    7    2    3    3    4   \n\n     S45  S46  S47  S48  S49  \nX0     3    1    1    4    3  \nX1     2    1    1    4    3  \nX2     3    1    2    4    4  \nX3     4    1    1    4    3  \nX4     2    1    1    4    3  \n..   ...  ...  ...  ...  ...  \nX95    6    3    6    6    1  \nX96    6    4    5    6    1  \nX97    6    4    5    6    2  \nX98    5    3    5    6    1  \nX99    6    3    6    6    1  \n\n[100 rows x 50 columns]",
      "text/html": "<div>\n<style scoped>\n    .dataframe tbody tr th:only-of-type {\n        vertical-align: middle;\n    }\n\n    .dataframe tbody tr th {\n        vertical-align: top;\n    }\n\n    .dataframe thead th {\n        text-align: right;\n    }\n</style>\n<table border=\"1\" class=\"dataframe\">\n  <thead>\n    <tr style=\"text-align: right;\">\n      <th></th>\n      <th>S0</th>\n      <th>S1</th>\n      <th>S2</th>\n      <th>S3</th>\n      <th>S4</th>\n      <th>S5</th>\n      <th>S6</th>\n      <th>S7</th>\n      <th>S8</th>\n      <th>S9</th>\n      <th>...</th>\n      <th>S40</th>\n      <th>S41</th>\n      <th>S42</th>\n      <th>S43</th>\n      <th>S44</th>\n      <th>S45</th>\n      <th>S46</th>\n      <th>S47</th>\n      <th>S48</th>\n      <th>S49</th>\n    </tr>\n  </thead>\n  <tbody>\n    <tr>\n      <th>X0</th>\n      <td>5.0</td>\n      <td>6.0</td>\n      <td>5</td>\n      <td>3</td>\n      <td>3</td>\n      <td>5</td>\n      <td>2</td>\n      <td>2</td>\n      <td>7</td>\n      <td>1</td>\n      <td>...</td>\n      <td>2</td>\n      <td>5</td>\n      <td>7</td>\n      <td>2</td>\n      <td>5</td>\n      <td>3</td>\n      <td>1</td>\n      <td>1</td>\n      <td>4</td>\n      <td>3</td>\n    </tr>\n    <tr>\n      <th>X1</th>\n      <td>5.0</td>\n      <td>NaN</td>\n      <td>4</td>\n      <td>3</td>\n      <td>3</td>\n      <td>5</td>\n      <td>2</td>\n      <td>2</td>\n      <td>6</td>\n      <td>2</td>\n      <td>...</td>\n      <td>4</td>\n      <td>5</td>\n      <td>6</td>\n      <td>3</td>\n      <td>5</td>\n      <td>2</td>\n      <td>1</td>\n      <td>1</td>\n      <td>4</td>\n      <td>3</td>\n    </tr>\n    <tr>\n      <th>X2</th>\n      <td>5.0</td>\n      <td>5.0</td>\n      <td>5</td>\n      <td>3</td>\n      <td>3</td>\n      <td>5</td>\n      <td>2</td>\n      <td>2</td>\n      <td>6</td>\n      <td>1</td>\n      <td>...</td>\n      <td>4</td>\n      <td>6</td>\n      <td>7</td>\n      <td>2</td>\n      <td>5</td>\n      <td>3</td>\n      <td>1</td>\n      <td>2</td>\n      <td>4</td>\n      <td>4</td>\n    </tr>\n    <tr>\n      <th>X3</th>\n      <td>5.0</td>\n      <td>6.0</td>\n      <td>4</td>\n      <td>3</td>\n      <td>4</td>\n      <td>5</td>\n      <td>2</td>\n      <td>1</td>\n      <td>6</td>\n      <td>2</td>\n      <td>...</td>\n      <td>3</td>\n      <td>5</td>\n      <td>6</td>\n      <td>2</td>\n      <td>5</td>\n      <td>4</td>\n      <td>1</td>\n      <td>1</td>\n      <td>4</td>\n      <td>3</td>\n    </tr>\n    <tr>\n      <th>X4</th>\n      <td>5.0</td>\n      <td>NaN</td>\n      <td>5</td>\n      <td>3</td>\n      <td>4</td>\n      <td>5</td>\n      <td>3</td>\n      <td>1</td>\n      <td>6</td>\n      <td>2</td>\n      <td>...</td>\n      <td>3</td>\n      <td>5</td>\n      <td>7</td>\n      <td>2</td>\n      <td>5</td>\n      <td>2</td>\n      <td>1</td>\n      <td>1</td>\n      <td>4</td>\n      <td>3</td>\n    </tr>\n    <tr>\n      <th>...</th>\n      <td>...</td>\n      <td>...</td>\n      <td>...</td>\n      <td>...</td>\n      <td>...</td>\n      <td>...</td>\n      <td>...</td>\n      <td>...</td>\n      <td>...</td>\n      <td>...</td>\n      <td>...</td>\n      <td>...</td>\n      <td>...</td>\n      <td>...</td>\n      <td>...</td>\n      <td>...</td>\n      <td>...</td>\n      <td>...</td>\n      <td>...</td>\n      <td>...</td>\n      <td>...</td>\n    </tr>\n    <tr>\n      <th>X95</th>\n      <td>5.0</td>\n      <td>3.0</td>\n      <td>4</td>\n      <td>6</td>\n      <td>5</td>\n      <td>5</td>\n      <td>4</td>\n      <td>1</td>\n      <td>1</td>\n      <td>6</td>\n      <td>...</td>\n      <td>7</td>\n      <td>2</td>\n      <td>3</td>\n      <td>3</td>\n      <td>4</td>\n      <td>6</td>\n      <td>3</td>\n      <td>6</td>\n      <td>6</td>\n      <td>1</td>\n    </tr>\n    <tr>\n      <th>X96</th>\n      <td>5.0</td>\n      <td>4.0</td>\n      <td>4</td>\n      <td>6</td>\n      <td>5</td>\n      <td>3</td>\n      <td>3</td>\n      <td>1</td>\n      <td>1</td>\n      <td>6</td>\n      <td>...</td>\n      <td>7</td>\n      <td>2</td>\n      <td>3</td>\n      <td>2</td>\n      <td>4</td>\n      <td>6</td>\n      <td>4</td>\n      <td>5</td>\n      <td>6</td>\n      <td>1</td>\n    </tr>\n    <tr>\n      <th>X97</th>\n      <td>6.0</td>\n      <td>4.0</td>\n      <td>3</td>\n      <td>5</td>\n      <td>5</td>\n      <td>4</td>\n      <td>5</td>\n      <td>1</td>\n      <td>1</td>\n      <td>6</td>\n      <td>...</td>\n      <td>7</td>\n      <td>3</td>\n      <td>3</td>\n      <td>3</td>\n      <td>3</td>\n      <td>6</td>\n      <td>4</td>\n      <td>5</td>\n      <td>6</td>\n      <td>2</td>\n    </tr>\n    <tr>\n      <th>X98</th>\n      <td>6.0</td>\n      <td>4.0</td>\n      <td>3</td>\n      <td>6</td>\n      <td>5</td>\n      <td>4</td>\n      <td>4</td>\n      <td>1</td>\n      <td>1</td>\n      <td>6</td>\n      <td>...</td>\n      <td>7</td>\n      <td>2</td>\n      <td>3</td>\n      <td>2</td>\n      <td>3</td>\n      <td>5</td>\n      <td>3</td>\n      <td>5</td>\n      <td>6</td>\n      <td>1</td>\n    </tr>\n    <tr>\n      <th>X99</th>\n      <td>6.0</td>\n      <td>3.0</td>\n      <td>4</td>\n      <td>5</td>\n      <td>5</td>\n      <td>5</td>\n      <td>3</td>\n      <td>1</td>\n      <td>1</td>\n      <td>6</td>\n      <td>...</td>\n      <td>7</td>\n      <td>2</td>\n      <td>3</td>\n      <td>3</td>\n      <td>4</td>\n      <td>6</td>\n      <td>3</td>\n      <td>6</td>\n      <td>6</td>\n      <td>1</td>\n    </tr>\n  </tbody>\n</table>\n<p>100 rows × 50 columns</p>\n</div>"
     },
     "execution_count": 8,
     "metadata": {},
     "output_type": "execute_result"
    }
   ],
   "source": [
    "dataX"
   ],
   "metadata": {
    "collapsed": false,
    "pycharm": {
     "name": "#%%\n"
    }
   }
  },
  {
   "cell_type": "code",
   "execution_count": 9,
   "outputs": [
    {
     "data": {
      "text/plain": "      S0   S1  S2  S3  S4  S5  S6  S7  S8  S9  ...  S40  S41  S42  S43  S44  \\\nX0   5.0  6.0   5   3   3   5   2   2   7   1  ...    2    5    7    2    5   \nX1   5.0  NaN   4   3   3   5   2   2   6   2  ...    4    5    6    3    5   \nX2   5.0  5.0   5   3   3   5   2   2   6   1  ...    4    6    7    2    5   \nX3   5.0  6.0   4   3   4   5   2   1   6   2  ...    3    5    6    2    5   \nX4   5.0  NaN   5   3   4   5   3   1   6   2  ...    3    5    7    2    5   \n..   ...  ...  ..  ..  ..  ..  ..  ..  ..  ..  ...  ...  ...  ...  ...  ...   \nY95  4.0  1.0   1   4   3   3   2   6   6   6  ...    7    4    1    1    2   \nY96  4.0  1.0   1   5   3   3   2   6   6   6  ...    7    2    2    1    1   \nY97  4.0  1.0   1   5   2   3   1   6   6   6  ...    7    3    2    1    2   \nY98  4.0  1.0   1   5   3   3   1   6   6   6  ...    7    2    1    1    2   \nY99  4.0  1.0   1   4   3   4   1   6   6   6  ...    7    2    2    1    2   \n\n     S45  S46  S47  S48  S49  \nX0     3    1    1    4    3  \nX1     2    1    1    4    3  \nX2     3    1    2    4    4  \nX3     4    1    1    4    3  \nX4     2    1    1    4    3  \n..   ...  ...  ...  ...  ...  \nY95    6    1    4    5    6  \nY96    6    2    4    6    5  \nY97    6    1    4    5    6  \nY98    6    2    4    5    6  \nY99    6    2    4    6    5  \n\n[200 rows x 50 columns]",
      "text/html": "<div>\n<style scoped>\n    .dataframe tbody tr th:only-of-type {\n        vertical-align: middle;\n    }\n\n    .dataframe tbody tr th {\n        vertical-align: top;\n    }\n\n    .dataframe thead th {\n        text-align: right;\n    }\n</style>\n<table border=\"1\" class=\"dataframe\">\n  <thead>\n    <tr style=\"text-align: right;\">\n      <th></th>\n      <th>S0</th>\n      <th>S1</th>\n      <th>S2</th>\n      <th>S3</th>\n      <th>S4</th>\n      <th>S5</th>\n      <th>S6</th>\n      <th>S7</th>\n      <th>S8</th>\n      <th>S9</th>\n      <th>...</th>\n      <th>S40</th>\n      <th>S41</th>\n      <th>S42</th>\n      <th>S43</th>\n      <th>S44</th>\n      <th>S45</th>\n      <th>S46</th>\n      <th>S47</th>\n      <th>S48</th>\n      <th>S49</th>\n    </tr>\n  </thead>\n  <tbody>\n    <tr>\n      <th>X0</th>\n      <td>5.0</td>\n      <td>6.0</td>\n      <td>5</td>\n      <td>3</td>\n      <td>3</td>\n      <td>5</td>\n      <td>2</td>\n      <td>2</td>\n      <td>7</td>\n      <td>1</td>\n      <td>...</td>\n      <td>2</td>\n      <td>5</td>\n      <td>7</td>\n      <td>2</td>\n      <td>5</td>\n      <td>3</td>\n      <td>1</td>\n      <td>1</td>\n      <td>4</td>\n      <td>3</td>\n    </tr>\n    <tr>\n      <th>X1</th>\n      <td>5.0</td>\n      <td>NaN</td>\n      <td>4</td>\n      <td>3</td>\n      <td>3</td>\n      <td>5</td>\n      <td>2</td>\n      <td>2</td>\n      <td>6</td>\n      <td>2</td>\n      <td>...</td>\n      <td>4</td>\n      <td>5</td>\n      <td>6</td>\n      <td>3</td>\n      <td>5</td>\n      <td>2</td>\n      <td>1</td>\n      <td>1</td>\n      <td>4</td>\n      <td>3</td>\n    </tr>\n    <tr>\n      <th>X2</th>\n      <td>5.0</td>\n      <td>5.0</td>\n      <td>5</td>\n      <td>3</td>\n      <td>3</td>\n      <td>5</td>\n      <td>2</td>\n      <td>2</td>\n      <td>6</td>\n      <td>1</td>\n      <td>...</td>\n      <td>4</td>\n      <td>6</td>\n      <td>7</td>\n      <td>2</td>\n      <td>5</td>\n      <td>3</td>\n      <td>1</td>\n      <td>2</td>\n      <td>4</td>\n      <td>4</td>\n    </tr>\n    <tr>\n      <th>X3</th>\n      <td>5.0</td>\n      <td>6.0</td>\n      <td>4</td>\n      <td>3</td>\n      <td>4</td>\n      <td>5</td>\n      <td>2</td>\n      <td>1</td>\n      <td>6</td>\n      <td>2</td>\n      <td>...</td>\n      <td>3</td>\n      <td>5</td>\n      <td>6</td>\n      <td>2</td>\n      <td>5</td>\n      <td>4</td>\n      <td>1</td>\n      <td>1</td>\n      <td>4</td>\n      <td>3</td>\n    </tr>\n    <tr>\n      <th>X4</th>\n      <td>5.0</td>\n      <td>NaN</td>\n      <td>5</td>\n      <td>3</td>\n      <td>4</td>\n      <td>5</td>\n      <td>3</td>\n      <td>1</td>\n      <td>6</td>\n      <td>2</td>\n      <td>...</td>\n      <td>3</td>\n      <td>5</td>\n      <td>7</td>\n      <td>2</td>\n      <td>5</td>\n      <td>2</td>\n      <td>1</td>\n      <td>1</td>\n      <td>4</td>\n      <td>3</td>\n    </tr>\n    <tr>\n      <th>...</th>\n      <td>...</td>\n      <td>...</td>\n      <td>...</td>\n      <td>...</td>\n      <td>...</td>\n      <td>...</td>\n      <td>...</td>\n      <td>...</td>\n      <td>...</td>\n      <td>...</td>\n      <td>...</td>\n      <td>...</td>\n      <td>...</td>\n      <td>...</td>\n      <td>...</td>\n      <td>...</td>\n      <td>...</td>\n      <td>...</td>\n      <td>...</td>\n      <td>...</td>\n      <td>...</td>\n    </tr>\n    <tr>\n      <th>Y95</th>\n      <td>4.0</td>\n      <td>1.0</td>\n      <td>1</td>\n      <td>4</td>\n      <td>3</td>\n      <td>3</td>\n      <td>2</td>\n      <td>6</td>\n      <td>6</td>\n      <td>6</td>\n      <td>...</td>\n      <td>7</td>\n      <td>4</td>\n      <td>1</td>\n      <td>1</td>\n      <td>2</td>\n      <td>6</td>\n      <td>1</td>\n      <td>4</td>\n      <td>5</td>\n      <td>6</td>\n    </tr>\n    <tr>\n      <th>Y96</th>\n      <td>4.0</td>\n      <td>1.0</td>\n      <td>1</td>\n      <td>5</td>\n      <td>3</td>\n      <td>3</td>\n      <td>2</td>\n      <td>6</td>\n      <td>6</td>\n      <td>6</td>\n      <td>...</td>\n      <td>7</td>\n      <td>2</td>\n      <td>2</td>\n      <td>1</td>\n      <td>1</td>\n      <td>6</td>\n      <td>2</td>\n      <td>4</td>\n      <td>6</td>\n      <td>5</td>\n    </tr>\n    <tr>\n      <th>Y97</th>\n      <td>4.0</td>\n      <td>1.0</td>\n      <td>1</td>\n      <td>5</td>\n      <td>2</td>\n      <td>3</td>\n      <td>1</td>\n      <td>6</td>\n      <td>6</td>\n      <td>6</td>\n      <td>...</td>\n      <td>7</td>\n      <td>3</td>\n      <td>2</td>\n      <td>1</td>\n      <td>2</td>\n      <td>6</td>\n      <td>1</td>\n      <td>4</td>\n      <td>5</td>\n      <td>6</td>\n    </tr>\n    <tr>\n      <th>Y98</th>\n      <td>4.0</td>\n      <td>1.0</td>\n      <td>1</td>\n      <td>5</td>\n      <td>3</td>\n      <td>3</td>\n      <td>1</td>\n      <td>6</td>\n      <td>6</td>\n      <td>6</td>\n      <td>...</td>\n      <td>7</td>\n      <td>2</td>\n      <td>1</td>\n      <td>1</td>\n      <td>2</td>\n      <td>6</td>\n      <td>2</td>\n      <td>4</td>\n      <td>5</td>\n      <td>6</td>\n    </tr>\n    <tr>\n      <th>Y99</th>\n      <td>4.0</td>\n      <td>1.0</td>\n      <td>1</td>\n      <td>4</td>\n      <td>3</td>\n      <td>4</td>\n      <td>1</td>\n      <td>6</td>\n      <td>6</td>\n      <td>6</td>\n      <td>...</td>\n      <td>7</td>\n      <td>2</td>\n      <td>2</td>\n      <td>1</td>\n      <td>2</td>\n      <td>6</td>\n      <td>2</td>\n      <td>4</td>\n      <td>6</td>\n      <td>5</td>\n    </tr>\n  </tbody>\n</table>\n<p>200 rows × 50 columns</p>\n</div>"
     },
     "execution_count": 9,
     "metadata": {},
     "output_type": "execute_result"
    }
   ],
   "source": [
    "df = pd.concat([dataX, dataY])\n",
    "df"
   ],
   "metadata": {
    "collapsed": false,
    "pycharm": {
     "name": "#%%\n"
    }
   }
  },
  {
   "cell_type": "code",
   "execution_count": 10,
   "outputs": [],
   "source": [
    "def btest_corr(df, method='spearman'):\n",
    "    results = pd.DataFrame()\n",
    "    Feature_1 = []\n",
    "    Feature_2 = []\n",
    "    corrs = []\n",
    "    p_values = []\n",
    "    not_nas = []\n",
    "    for i in df.columns:\n",
    "        for j in df.columns:\n",
    "            if i != j:\n",
    "                try:\n",
    "                    not_na = sum(df[[i, j]].count(axis=1)==2)\n",
    "                    corr = spearmanr(df[i], df[j], nan_policy=\"omit\")\n",
    "                    #corr = stats.kendalltau(ac, bc)\n",
    "                except ValueError:\n",
    "                    corr = ('nan', 'nan')\n",
    "                    not_na = 'nan'\n",
    "                Feature_1.append(i)\n",
    "                Feature_2.append(j)\n",
    "                corrs.append(corr[0])\n",
    "                p_values.append(corr[1])\n",
    "                not_nas.append(not_na)\n",
    "\n",
    "    results['Feature_1'] = Feature_1\n",
    "    results['Feature_2'] = Feature_2\n",
    "    results['pval'] = p_values\n",
    "    results['Correlation'] = corrs\n",
    "    results['Not_NAs'] = not_nas\n",
    "    return results"
   ],
   "metadata": {
    "collapsed": false,
    "pycharm": {
     "name": "#%%\n"
    }
   }
  },
  {
   "cell_type": "code",
   "execution_count": 11,
   "outputs": [],
   "source": [
    "df = pd.concat([dataX, dataY])\n",
    "df = df.T\n",
    "start_time = time.time()\n",
    "#rho = df.corr(method='spearman')\n",
    "#pval = df.corr(method=lambda x, y: pearsonr(x, y)[1]) - np.eye(*rho.shape)\n",
    "#rho = df.corr(method='spearman') # rho = df.corr(method=lambda x, y: spearmanr(x, y, nan_policy= 'omit')[1])#\n",
    "#pval = df.corr(method=lambda x, y: spearmanr(x, y, nan_policy='omit')[1]) - np.eye(*rho.shape)\n",
    "\n",
    "results = btest_corr(df)\n",
    "rho_excution_time = time.time() - start_time"
   ],
   "metadata": {
    "collapsed": false,
    "pycharm": {
     "name": "#%%\n"
    }
   }
  },
  {
   "cell_type": "code",
   "execution_count": 12,
   "outputs": [
    {
     "data": {
      "text/plain": "60.726067781448364"
     },
     "execution_count": 12,
     "metadata": {},
     "output_type": "execute_result"
    }
   ],
   "source": [
    "rho_excution_time"
   ],
   "metadata": {
    "collapsed": false,
    "pycharm": {
     "name": "#%%\n"
    }
   }
  },
  {
   "cell_type": "code",
   "execution_count": 13,
   "outputs": [],
   "source": [
    "start_time = time.time()\n",
    "rho = df.corr(method='spearman')\n",
    "only_rho_excution_time = time.time() - start_time"
   ],
   "metadata": {
    "collapsed": false,
    "pycharm": {
     "name": "#%%\n"
    }
   }
  },
  {
   "cell_type": "code",
   "execution_count": 14,
   "outputs": [
    {
     "data": {
      "text/plain": "0.17910504341125488"
     },
     "execution_count": 14,
     "metadata": {},
     "output_type": "execute_result"
    }
   ],
   "source": [
    "only_rho_excution_time"
   ],
   "metadata": {
    "collapsed": false,
    "pycharm": {
     "name": "#%%\n"
    }
   }
  },
  {
   "cell_type": "code",
   "execution_count": 15,
   "outputs": [
    {
     "data": {
      "text/plain": "      Feature_1 Feature_2          pval  Correlation  Not_NAs\n0            X0        X1  1.511519e-19     0.909559       49\n1            X0        X2  6.554862e-20     0.909350       50\n2            X0        X3  8.315076e-23     0.932087       50\n3            X0        X4  2.588865e-22     0.931758       49\n4            X0        X5  3.526796e-23     0.934547       50\n...         ...       ...           ...          ...      ...\n39795       Y99       Y94  5.169296e-19     0.900798       50\n39796       Y99       Y95  4.532957e-21     0.919284       50\n39797       Y99       Y96  5.526886e-24     0.939555       50\n39798       Y99       Y97  5.556863e-23     0.933255       50\n39799       Y99       Y98  4.070674e-24     0.940343       50\n\n[39800 rows x 5 columns]",
      "text/html": "<div>\n<style scoped>\n    .dataframe tbody tr th:only-of-type {\n        vertical-align: middle;\n    }\n\n    .dataframe tbody tr th {\n        vertical-align: top;\n    }\n\n    .dataframe thead th {\n        text-align: right;\n    }\n</style>\n<table border=\"1\" class=\"dataframe\">\n  <thead>\n    <tr style=\"text-align: right;\">\n      <th></th>\n      <th>Feature_1</th>\n      <th>Feature_2</th>\n      <th>pval</th>\n      <th>Correlation</th>\n      <th>Not_NAs</th>\n    </tr>\n  </thead>\n  <tbody>\n    <tr>\n      <th>0</th>\n      <td>X0</td>\n      <td>X1</td>\n      <td>1.511519e-19</td>\n      <td>0.909559</td>\n      <td>49</td>\n    </tr>\n    <tr>\n      <th>1</th>\n      <td>X0</td>\n      <td>X2</td>\n      <td>6.554862e-20</td>\n      <td>0.909350</td>\n      <td>50</td>\n    </tr>\n    <tr>\n      <th>2</th>\n      <td>X0</td>\n      <td>X3</td>\n      <td>8.315076e-23</td>\n      <td>0.932087</td>\n      <td>50</td>\n    </tr>\n    <tr>\n      <th>3</th>\n      <td>X0</td>\n      <td>X4</td>\n      <td>2.588865e-22</td>\n      <td>0.931758</td>\n      <td>49</td>\n    </tr>\n    <tr>\n      <th>4</th>\n      <td>X0</td>\n      <td>X5</td>\n      <td>3.526796e-23</td>\n      <td>0.934547</td>\n      <td>50</td>\n    </tr>\n    <tr>\n      <th>...</th>\n      <td>...</td>\n      <td>...</td>\n      <td>...</td>\n      <td>...</td>\n      <td>...</td>\n    </tr>\n    <tr>\n      <th>39795</th>\n      <td>Y99</td>\n      <td>Y94</td>\n      <td>5.169296e-19</td>\n      <td>0.900798</td>\n      <td>50</td>\n    </tr>\n    <tr>\n      <th>39796</th>\n      <td>Y99</td>\n      <td>Y95</td>\n      <td>4.532957e-21</td>\n      <td>0.919284</td>\n      <td>50</td>\n    </tr>\n    <tr>\n      <th>39797</th>\n      <td>Y99</td>\n      <td>Y96</td>\n      <td>5.526886e-24</td>\n      <td>0.939555</td>\n      <td>50</td>\n    </tr>\n    <tr>\n      <th>39798</th>\n      <td>Y99</td>\n      <td>Y97</td>\n      <td>5.556863e-23</td>\n      <td>0.933255</td>\n      <td>50</td>\n    </tr>\n    <tr>\n      <th>39799</th>\n      <td>Y99</td>\n      <td>Y98</td>\n      <td>4.070674e-24</td>\n      <td>0.940343</td>\n      <td>50</td>\n    </tr>\n  </tbody>\n</table>\n<p>39800 rows × 5 columns</p>\n</div>"
     },
     "execution_count": 15,
     "metadata": {},
     "output_type": "execute_result"
    }
   ],
   "source": [
    "results"
   ],
   "metadata": {
    "collapsed": false,
    "pycharm": {
     "name": "#%%\n"
    }
   }
  },
  {
   "cell_type": "code",
   "execution_count": 16,
   "outputs": [],
   "source": [
    "# rho_long_format = rho.stack().reset_index().rename(columns={'level_0':'Feature_1','level_1':'Feature_2', 0:'Correlation'})"
   ],
   "metadata": {
    "collapsed": false,
    "pycharm": {
     "name": "#%%\n"
    }
   }
  },
  {
   "cell_type": "code",
   "execution_count": 17,
   "outputs": [],
   "source": [
    "#pval_long_format = pval.stack().reset_index().rename(columns={'level_0':'Feature_1','level_1':'Feature_2', 0:'P_value'})\n",
    "#pval_long_format"
   ],
   "metadata": {
    "collapsed": false,
    "pycharm": {
     "name": "#%%\n"
    }
   }
  },
  {
   "cell_type": "code",
   "execution_count": 18,
   "outputs": [],
   "source": [
    "#result = pd.concat([pval_long_format, rho_long_format[\"Correlation\"]], axis=1)"
   ],
   "metadata": {
    "collapsed": false,
    "pycharm": {
     "name": "#%%\n"
    }
   }
  },
  {
   "cell_type": "code",
   "execution_count": 19,
   "outputs": [],
   "source": [
    "within_X = results[results[\"Feature_1\"].isin(dataX.index) ]\n",
    "within_X = within_X[within_X[\"Feature_2\"].isin(dataX.index) ]\n",
    "within_X = within_X[within_X[\"Feature_1\"] != within_X[\"Feature_2\"]]"
   ],
   "metadata": {
    "collapsed": false,
    "pycharm": {
     "name": "#%%\n"
    }
   }
  },
  {
   "cell_type": "code",
   "execution_count": 20,
   "outputs": [
    {
     "data": {
      "text/plain": "      Feature_1 Feature_2          pval  Correlation  Not_NAs\n0            X0        X1  1.511519e-19     0.909559       49\n1            X0        X2  6.554862e-20     0.909350       50\n2            X0        X3  8.315076e-23     0.932087       50\n3            X0        X4  2.588865e-22     0.931758       49\n4            X0        X5  3.526796e-23     0.934547       50\n...         ...       ...           ...          ...      ...\n19795       X99       X94  1.325589e-22     0.930709       50\n19796       X99       X95  1.238855e-24     0.943307       50\n19797       X99       X96  6.324625e-21     0.918110       50\n19798       X99       X97  6.324625e-21     0.918110       50\n19799       X99       X98  1.696742e-19     0.905512       50\n\n[9900 rows x 5 columns]",
      "text/html": "<div>\n<style scoped>\n    .dataframe tbody tr th:only-of-type {\n        vertical-align: middle;\n    }\n\n    .dataframe tbody tr th {\n        vertical-align: top;\n    }\n\n    .dataframe thead th {\n        text-align: right;\n    }\n</style>\n<table border=\"1\" class=\"dataframe\">\n  <thead>\n    <tr style=\"text-align: right;\">\n      <th></th>\n      <th>Feature_1</th>\n      <th>Feature_2</th>\n      <th>pval</th>\n      <th>Correlation</th>\n      <th>Not_NAs</th>\n    </tr>\n  </thead>\n  <tbody>\n    <tr>\n      <th>0</th>\n      <td>X0</td>\n      <td>X1</td>\n      <td>1.511519e-19</td>\n      <td>0.909559</td>\n      <td>49</td>\n    </tr>\n    <tr>\n      <th>1</th>\n      <td>X0</td>\n      <td>X2</td>\n      <td>6.554862e-20</td>\n      <td>0.909350</td>\n      <td>50</td>\n    </tr>\n    <tr>\n      <th>2</th>\n      <td>X0</td>\n      <td>X3</td>\n      <td>8.315076e-23</td>\n      <td>0.932087</td>\n      <td>50</td>\n    </tr>\n    <tr>\n      <th>3</th>\n      <td>X0</td>\n      <td>X4</td>\n      <td>2.588865e-22</td>\n      <td>0.931758</td>\n      <td>49</td>\n    </tr>\n    <tr>\n      <th>4</th>\n      <td>X0</td>\n      <td>X5</td>\n      <td>3.526796e-23</td>\n      <td>0.934547</td>\n      <td>50</td>\n    </tr>\n    <tr>\n      <th>...</th>\n      <td>...</td>\n      <td>...</td>\n      <td>...</td>\n      <td>...</td>\n      <td>...</td>\n    </tr>\n    <tr>\n      <th>19795</th>\n      <td>X99</td>\n      <td>X94</td>\n      <td>1.325589e-22</td>\n      <td>0.930709</td>\n      <td>50</td>\n    </tr>\n    <tr>\n      <th>19796</th>\n      <td>X99</td>\n      <td>X95</td>\n      <td>1.238855e-24</td>\n      <td>0.943307</td>\n      <td>50</td>\n    </tr>\n    <tr>\n      <th>19797</th>\n      <td>X99</td>\n      <td>X96</td>\n      <td>6.324625e-21</td>\n      <td>0.918110</td>\n      <td>50</td>\n    </tr>\n    <tr>\n      <th>19798</th>\n      <td>X99</td>\n      <td>X97</td>\n      <td>6.324625e-21</td>\n      <td>0.918110</td>\n      <td>50</td>\n    </tr>\n    <tr>\n      <th>19799</th>\n      <td>X99</td>\n      <td>X98</td>\n      <td>1.696742e-19</td>\n      <td>0.905512</td>\n      <td>50</td>\n    </tr>\n  </tbody>\n</table>\n<p>9900 rows × 5 columns</p>\n</div>"
     },
     "execution_count": 20,
     "metadata": {},
     "output_type": "execute_result"
    }
   ],
   "source": [
    "within_X"
   ],
   "metadata": {
    "collapsed": false,
    "pycharm": {
     "name": "#%%\n"
    }
   }
  },
  {
   "cell_type": "code",
   "execution_count": 21,
   "outputs": [],
   "source": [
    "within_Y = results[results[\"Feature_1\"].isin(dataY.index)]\n",
    "within_Y = within_Y[within_Y[\"Feature_2\"].isin(dataY.index)]\n",
    "within_Y = within_Y[within_Y[\"Feature_1\"] != within_Y[\"Feature_2\"]]"
   ],
   "metadata": {
    "collapsed": false,
    "pycharm": {
     "name": "#%%\n"
    }
   }
  },
  {
   "cell_type": "code",
   "execution_count": 22,
   "outputs": [],
   "source": [
    "X_Y = results[results[\"Feature_1\"].isin(dataX.index) ]\n",
    "X_Y = X_Y[X_Y[\"Feature_2\"].isin(dataY.index) ]"
   ],
   "metadata": {
    "collapsed": false,
    "pycharm": {
     "name": "#%%\n"
    }
   }
  },
  {
   "cell_type": "code",
   "execution_count": 23,
   "outputs": [],
   "source": [
    "rho_X_Y = pd.pivot(X_Y, index=\"Feature_1\", columns = \"Feature_2\",values = 'Correlation') #Reshape from long to wide\n",
    "rho_X = pd.pivot(within_X, index=\"Feature_1\", columns = \"Feature_2\",values = 'Correlation') #Reshape from long to wide\n",
    "rho_Y = pd.pivot(within_Y, index=\"Feature_1\", columns = \"Feature_2\",values = 'Correlation') #Reshape from long to wide"
   ],
   "metadata": {
    "collapsed": false,
    "pycharm": {
     "name": "#%%\n"
    }
   }
  },
  {
   "cell_type": "code",
   "execution_count": 24,
   "outputs": [
    {
     "data": {
      "text/plain": "Feature_2        Y0        Y1       Y10       Y11       Y12       Y13  \\\nFeature_1                                                               \nX0        -0.064777 -0.028155 -0.032880  0.028549 -0.008071 -0.045866   \nX1        -0.166641 -0.132381 -0.074402  0.001543 -0.091251 -0.115725   \nX10       -0.093670 -0.071618 -0.065859 -0.001920 -0.071850 -0.086811   \nX11       -0.140136 -0.079888 -0.078559 -0.010189 -0.053740 -0.104134   \nX12       -0.089048 -0.067877 -0.021654  0.049724 -0.054123 -0.058359   \n...             ...       ...       ...       ...       ...       ...   \nX95       -0.082004 -0.055867 -0.035145 -0.088551 -0.134843  0.049409   \nX96        0.004627  0.018557  0.032979 -0.033816 -0.034055  0.112402   \nX97       -0.010730 -0.033422  0.025103 -0.060199 -0.080512  0.097441   \nX98        0.015259  0.048484  0.060543 -0.003889 -0.017520  0.135236   \nX99        0.017622  0.019344  0.019984 -0.007039 -0.027756  0.118701   \n\nFeature_2       Y14       Y15       Y16       Y17  ...       Y90       Y91  \\\nFeature_1                                          ...                       \nX0        -0.010041  0.013192  0.002166  0.034849  ...  0.005956 -0.081299   \nX1        -0.077985 -0.059914 -0.071081 -0.019379  ...  0.127439  0.014537   \nX10       -0.020427  0.004922 -0.028303 -0.002313  ...  0.104007  0.000591   \nX11       -0.060986 -0.038000 -0.068862  0.015407  ...  0.022642 -0.068701   \nX12       -0.035259  0.002249 -0.028186  0.035913  ...  0.007453 -0.107201   \n...             ...       ...       ...       ...  ...       ...       ...   \nX95       -0.119659 -0.095245 -0.055621 -0.171097  ...  0.240992  0.174803   \nX96       -0.051536  0.010681  0.031404 -0.096673  ...  0.208703  0.162205   \nX97       -0.084613 -0.035785 -0.007580 -0.142351  ...  0.214609  0.118110   \nX98       -0.015308  0.026432  0.035735 -0.079740  ...  0.222485  0.155906   \nX99       -0.031453  0.003987  0.019590 -0.095885  ...  0.208703  0.155906   \n\nFeature_2       Y92       Y93       Y94       Y95       Y96       Y97  \\\nFeature_1                                                               \nX0        -0.072638 -0.075015 -0.124385 -0.060199 -0.068701 -0.081299   \nX1         0.040030  0.042889 -0.020316  0.069628 -0.008864  0.035455   \nX10        0.004528  0.008712 -0.042331  0.028155 -0.024606 -0.009646   \nX11       -0.056102 -0.057836 -0.101792 -0.042479 -0.068701 -0.077362   \nX12       -0.089578 -0.096815 -0.148073 -0.073749 -0.113476 -0.104534   \n...             ...       ...       ...       ...       ...       ...   \nX95        0.262992  0.215397  0.207915  0.164206  0.237795  0.181102   \nX96        0.237795  0.185470  0.201614  0.109077  0.218898  0.155906   \nX97        0.218898  0.183894  0.189407  0.151998  0.187402  0.137008   \nX98        0.231496  0.173656  0.195314  0.114589  0.212598  0.149606   \nX99        0.218898  0.165781  0.164599  0.132703  0.206299  0.143307   \n\nFeature_2       Y98       Y99  \nFeature_1                      \nX0        -0.072638 -0.101004  \nX1         0.033337  0.002354  \nX10        0.010827 -0.020033  \nX11       -0.062402 -0.102185  \nX12       -0.108037 -0.137505  \n...             ...       ...  \nX95        0.225197  0.154361  \nX96        0.231496  0.140973  \nX97        0.193701  0.109470  \nX98        0.200000  0.128372  \nX99        0.200000  0.153967  \n\n[100 rows x 100 columns]",
      "text/html": "<div>\n<style scoped>\n    .dataframe tbody tr th:only-of-type {\n        vertical-align: middle;\n    }\n\n    .dataframe tbody tr th {\n        vertical-align: top;\n    }\n\n    .dataframe thead th {\n        text-align: right;\n    }\n</style>\n<table border=\"1\" class=\"dataframe\">\n  <thead>\n    <tr style=\"text-align: right;\">\n      <th>Feature_2</th>\n      <th>Y0</th>\n      <th>Y1</th>\n      <th>Y10</th>\n      <th>Y11</th>\n      <th>Y12</th>\n      <th>Y13</th>\n      <th>Y14</th>\n      <th>Y15</th>\n      <th>Y16</th>\n      <th>Y17</th>\n      <th>...</th>\n      <th>Y90</th>\n      <th>Y91</th>\n      <th>Y92</th>\n      <th>Y93</th>\n      <th>Y94</th>\n      <th>Y95</th>\n      <th>Y96</th>\n      <th>Y97</th>\n      <th>Y98</th>\n      <th>Y99</th>\n    </tr>\n    <tr>\n      <th>Feature_1</th>\n      <th></th>\n      <th></th>\n      <th></th>\n      <th></th>\n      <th></th>\n      <th></th>\n      <th></th>\n      <th></th>\n      <th></th>\n      <th></th>\n      <th></th>\n      <th></th>\n      <th></th>\n      <th></th>\n      <th></th>\n      <th></th>\n      <th></th>\n      <th></th>\n      <th></th>\n      <th></th>\n      <th></th>\n    </tr>\n  </thead>\n  <tbody>\n    <tr>\n      <th>X0</th>\n      <td>-0.064777</td>\n      <td>-0.028155</td>\n      <td>-0.032880</td>\n      <td>0.028549</td>\n      <td>-0.008071</td>\n      <td>-0.045866</td>\n      <td>-0.010041</td>\n      <td>0.013192</td>\n      <td>0.002166</td>\n      <td>0.034849</td>\n      <td>...</td>\n      <td>0.005956</td>\n      <td>-0.081299</td>\n      <td>-0.072638</td>\n      <td>-0.075015</td>\n      <td>-0.124385</td>\n      <td>-0.060199</td>\n      <td>-0.068701</td>\n      <td>-0.081299</td>\n      <td>-0.072638</td>\n      <td>-0.101004</td>\n    </tr>\n    <tr>\n      <th>X1</th>\n      <td>-0.166641</td>\n      <td>-0.132381</td>\n      <td>-0.074402</td>\n      <td>0.001543</td>\n      <td>-0.091251</td>\n      <td>-0.115725</td>\n      <td>-0.077985</td>\n      <td>-0.059914</td>\n      <td>-0.071081</td>\n      <td>-0.019379</td>\n      <td>...</td>\n      <td>0.127439</td>\n      <td>0.014537</td>\n      <td>0.040030</td>\n      <td>0.042889</td>\n      <td>-0.020316</td>\n      <td>0.069628</td>\n      <td>-0.008864</td>\n      <td>0.035455</td>\n      <td>0.033337</td>\n      <td>0.002354</td>\n    </tr>\n    <tr>\n      <th>X10</th>\n      <td>-0.093670</td>\n      <td>-0.071618</td>\n      <td>-0.065859</td>\n      <td>-0.001920</td>\n      <td>-0.071850</td>\n      <td>-0.086811</td>\n      <td>-0.020427</td>\n      <td>0.004922</td>\n      <td>-0.028303</td>\n      <td>-0.002313</td>\n      <td>...</td>\n      <td>0.104007</td>\n      <td>0.000591</td>\n      <td>0.004528</td>\n      <td>0.008712</td>\n      <td>-0.042331</td>\n      <td>0.028155</td>\n      <td>-0.024606</td>\n      <td>-0.009646</td>\n      <td>0.010827</td>\n      <td>-0.020033</td>\n    </tr>\n    <tr>\n      <th>X11</th>\n      <td>-0.140136</td>\n      <td>-0.079888</td>\n      <td>-0.078559</td>\n      <td>-0.010189</td>\n      <td>-0.053740</td>\n      <td>-0.104134</td>\n      <td>-0.060986</td>\n      <td>-0.038000</td>\n      <td>-0.068862</td>\n      <td>0.015407</td>\n      <td>...</td>\n      <td>0.022642</td>\n      <td>-0.068701</td>\n      <td>-0.056102</td>\n      <td>-0.057836</td>\n      <td>-0.101792</td>\n      <td>-0.042479</td>\n      <td>-0.068701</td>\n      <td>-0.077362</td>\n      <td>-0.062402</td>\n      <td>-0.102185</td>\n    </tr>\n    <tr>\n      <th>X12</th>\n      <td>-0.089048</td>\n      <td>-0.067877</td>\n      <td>-0.021654</td>\n      <td>0.049724</td>\n      <td>-0.054123</td>\n      <td>-0.058359</td>\n      <td>-0.035259</td>\n      <td>0.002249</td>\n      <td>-0.028186</td>\n      <td>0.035913</td>\n      <td>...</td>\n      <td>0.007453</td>\n      <td>-0.107201</td>\n      <td>-0.089578</td>\n      <td>-0.096815</td>\n      <td>-0.148073</td>\n      <td>-0.073749</td>\n      <td>-0.113476</td>\n      <td>-0.104534</td>\n      <td>-0.108037</td>\n      <td>-0.137505</td>\n    </tr>\n    <tr>\n      <th>...</th>\n      <td>...</td>\n      <td>...</td>\n      <td>...</td>\n      <td>...</td>\n      <td>...</td>\n      <td>...</td>\n      <td>...</td>\n      <td>...</td>\n      <td>...</td>\n      <td>...</td>\n      <td>...</td>\n      <td>...</td>\n      <td>...</td>\n      <td>...</td>\n      <td>...</td>\n      <td>...</td>\n      <td>...</td>\n      <td>...</td>\n      <td>...</td>\n      <td>...</td>\n      <td>...</td>\n    </tr>\n    <tr>\n      <th>X95</th>\n      <td>-0.082004</td>\n      <td>-0.055867</td>\n      <td>-0.035145</td>\n      <td>-0.088551</td>\n      <td>-0.134843</td>\n      <td>0.049409</td>\n      <td>-0.119659</td>\n      <td>-0.095245</td>\n      <td>-0.055621</td>\n      <td>-0.171097</td>\n      <td>...</td>\n      <td>0.240992</td>\n      <td>0.174803</td>\n      <td>0.262992</td>\n      <td>0.215397</td>\n      <td>0.207915</td>\n      <td>0.164206</td>\n      <td>0.237795</td>\n      <td>0.181102</td>\n      <td>0.225197</td>\n      <td>0.154361</td>\n    </tr>\n    <tr>\n      <th>X96</th>\n      <td>0.004627</td>\n      <td>0.018557</td>\n      <td>0.032979</td>\n      <td>-0.033816</td>\n      <td>-0.034055</td>\n      <td>0.112402</td>\n      <td>-0.051536</td>\n      <td>0.010681</td>\n      <td>0.031404</td>\n      <td>-0.096673</td>\n      <td>...</td>\n      <td>0.208703</td>\n      <td>0.162205</td>\n      <td>0.237795</td>\n      <td>0.185470</td>\n      <td>0.201614</td>\n      <td>0.109077</td>\n      <td>0.218898</td>\n      <td>0.155906</td>\n      <td>0.231496</td>\n      <td>0.140973</td>\n    </tr>\n    <tr>\n      <th>X97</th>\n      <td>-0.010730</td>\n      <td>-0.033422</td>\n      <td>0.025103</td>\n      <td>-0.060199</td>\n      <td>-0.080512</td>\n      <td>0.097441</td>\n      <td>-0.084613</td>\n      <td>-0.035785</td>\n      <td>-0.007580</td>\n      <td>-0.142351</td>\n      <td>...</td>\n      <td>0.214609</td>\n      <td>0.118110</td>\n      <td>0.218898</td>\n      <td>0.183894</td>\n      <td>0.189407</td>\n      <td>0.151998</td>\n      <td>0.187402</td>\n      <td>0.137008</td>\n      <td>0.193701</td>\n      <td>0.109470</td>\n    </tr>\n    <tr>\n      <th>X98</th>\n      <td>0.015259</td>\n      <td>0.048484</td>\n      <td>0.060543</td>\n      <td>-0.003889</td>\n      <td>-0.017520</td>\n      <td>0.135236</td>\n      <td>-0.015308</td>\n      <td>0.026432</td>\n      <td>0.035735</td>\n      <td>-0.079740</td>\n      <td>...</td>\n      <td>0.222485</td>\n      <td>0.155906</td>\n      <td>0.231496</td>\n      <td>0.173656</td>\n      <td>0.195314</td>\n      <td>0.114589</td>\n      <td>0.212598</td>\n      <td>0.149606</td>\n      <td>0.200000</td>\n      <td>0.128372</td>\n    </tr>\n    <tr>\n      <th>X99</th>\n      <td>0.017622</td>\n      <td>0.019344</td>\n      <td>0.019984</td>\n      <td>-0.007039</td>\n      <td>-0.027756</td>\n      <td>0.118701</td>\n      <td>-0.031453</td>\n      <td>0.003987</td>\n      <td>0.019590</td>\n      <td>-0.095885</td>\n      <td>...</td>\n      <td>0.208703</td>\n      <td>0.155906</td>\n      <td>0.218898</td>\n      <td>0.165781</td>\n      <td>0.164599</td>\n      <td>0.132703</td>\n      <td>0.206299</td>\n      <td>0.143307</td>\n      <td>0.200000</td>\n      <td>0.153967</td>\n    </tr>\n  </tbody>\n</table>\n<p>100 rows × 100 columns</p>\n</div>"
     },
     "execution_count": 24,
     "metadata": {},
     "output_type": "execute_result"
    }
   ],
   "source": [
    "rho_X_Y"
   ],
   "metadata": {
    "collapsed": false,
    "pycharm": {
     "name": "#%%\n"
    }
   }
  },
  {
   "cell_type": "code",
   "execution_count": 25,
   "outputs": [],
   "source": [
    "def fdr(p_vals):\n",
    "    from scipy.stats import rankdata\n",
    "    ranked_p_values = rankdata(p_vals, method='ordinal')\n",
    "    fdr = p_vals * len(p_vals) * 1.0 / (ranked_p_values * 1.0)\n",
    "    fdr[fdr > 1.0] = 1.0\n",
    "    return fdr"
   ],
   "metadata": {
    "collapsed": false,
    "pycharm": {
     "name": "#%%\n"
    }
   }
  },
  {
   "cell_type": "code",
   "execution_count": 26,
   "outputs": [],
   "source": [
    "def bh(p, q):\n",
    "    from scipy.stats import rankdata\n",
    "    pRank = rankdata(p, method='ordinal')\n",
    "    m = len(p)\n",
    "    p_adust = p *  len(p) * 1.0 / (pRank * 1.0)\n",
    "    max_i = 0\n",
    "    p_threshold = p[0]\n",
    "    for i in range(len(p)):\n",
    "        if p_adust[i] <= q and max_i <= pRank[i]:\n",
    "            max_i = pRank[i]\n",
    "            p_threshold = p[i]\n",
    "    return p_adust, p_threshold"
   ],
   "metadata": {
    "collapsed": false,
    "pycharm": {
     "name": "#%%\n"
    }
   }
  },
  {
   "cell_type": "code",
   "execution_count": 27,
   "outputs": [
    {
     "data": {
      "text/plain": "99       0.654930\n100      0.846105\n101      0.835488\n102      0.719011\n103      0.931868\n           ...   \n19895    0.358257\n19896    0.150612\n19897    0.320788\n19898    0.163753\n19899    0.285720\nName: pval, Length: 10000, dtype: float64"
     },
     "execution_count": 27,
     "metadata": {},
     "output_type": "execute_result"
    }
   ],
   "source": [
    "X_Y.pval"
   ],
   "metadata": {
    "collapsed": false,
    "pycharm": {
     "name": "#%%\n"
    }
   }
  },
  {
   "cell_type": "code",
   "execution_count": 28,
   "outputs": [
    {
     "data": {
      "text/plain": "array([1., 1., 1., ..., 1., 1., 1.])"
     },
     "execution_count": 28,
     "metadata": {},
     "output_type": "execute_result"
    }
   ],
   "source": [
    "fdr(X_Y[\"pval\"].values)"
   ],
   "metadata": {
    "collapsed": false,
    "pycharm": {
     "name": "#%%\n"
    }
   }
  },
  {
   "cell_type": "code",
   "execution_count": 29,
   "outputs": [],
   "source": [
    "X_Y_p_adust, X_Y_p_threshold = bh(X_Y[\"pval\"].values, .1)\n",
    "within_X_p_adust, within_X_p_threshold = bh(within_X[\"pval\"].values, .1)\n",
    "within_Y_p_adust, within_Y_p_threshold = bh(within_Y[\"pval\"].values, .1)\n"
   ],
   "metadata": {
    "collapsed": false,
    "pycharm": {
     "name": "#%%\n"
    }
   }
  },
  {
   "cell_type": "code",
   "execution_count": 30,
   "outputs": [
    {
     "data": {
      "text/plain": "0.6549299181254638"
     },
     "execution_count": 30,
     "metadata": {},
     "output_type": "execute_result"
    }
   ],
   "source": [
    "X_Y_p_threshold\n"
   ],
   "metadata": {
    "collapsed": false,
    "pycharm": {
     "name": "#%%\n"
    }
   }
  },
  {
   "cell_type": "code",
   "execution_count": 31,
   "outputs": [
    {
     "data": {
      "text/plain": "array([0.65492992, 0.8461055 , 0.83548775, ..., 0.32078763, 0.16375308,\n       0.28571983])"
     },
     "execution_count": 31,
     "metadata": {},
     "output_type": "execute_result"
    }
   ],
   "source": [
    "X_Y[\"pval\"].values"
   ],
   "metadata": {
    "collapsed": false,
    "pycharm": {
     "name": "#%%\n"
    }
   }
  },
  {
   "cell_type": "code",
   "execution_count": 32,
   "outputs": [
    {
     "data": {
      "text/plain": "9.957213702277227e-16"
     },
     "execution_count": 32,
     "metadata": {},
     "output_type": "execute_result"
    }
   ],
   "source": [
    "within_X_p_threshold"
   ],
   "metadata": {
    "collapsed": false,
    "pycharm": {
     "name": "#%%\n"
    }
   }
  },
  {
   "cell_type": "code",
   "execution_count": 33,
   "outputs": [
    {
     "data": {
      "text/plain": "0.03441006979659323"
     },
     "execution_count": 33,
     "metadata": {},
     "output_type": "execute_result"
    }
   ],
   "source": [
    "within_Y_p_threshold"
   ],
   "metadata": {
    "collapsed": false,
    "pycharm": {
     "name": "#%%\n"
    }
   }
  },
  {
   "cell_type": "code",
   "execution_count": 34,
   "outputs": [
    {
     "data": {
      "text/plain": "array([1.31644205, 1.09443215, 1.10382845, ..., 2.1244214 , 3.28162487,\n       2.27302965])"
     },
     "execution_count": 34,
     "metadata": {},
     "output_type": "execute_result"
    }
   ],
   "source": [
    "X_Y_p_adust\n"
   ],
   "metadata": {
    "collapsed": false,
    "pycharm": {
     "name": "#%%\n"
    }
   }
  },
  {
   "cell_type": "code",
   "execution_count": 35,
   "outputs": [
    {
     "data": {
      "text/plain": "array([4.82555140e-19, 2.20800044e-19, 6.60138385e-22, ...,\n       2.48763552e-20, 2.48664757e-20, 5.33261910e-19])"
     },
     "execution_count": 35,
     "metadata": {},
     "output_type": "execute_result"
    }
   ],
   "source": [
    "within_X_p_adust"
   ],
   "metadata": {
    "collapsed": false,
    "pycharm": {
     "name": "#%%\n"
    }
   }
  },
  {
   "cell_type": "code",
   "execution_count": 36,
   "outputs": [
    {
     "data": {
      "text/plain": "array([1.54841612e-18, 1.34644386e-21, 1.35141440e-24, ...,\n       1.45521736e-22, 9.65139400e-22, 1.19229812e-22])"
     },
     "execution_count": 36,
     "metadata": {},
     "output_type": "execute_result"
    }
   ],
   "source": [
    "within_Y_p_adust"
   ],
   "metadata": {
    "collapsed": false,
    "pycharm": {
     "name": "#%%\n"
    }
   }
  },
  {
   "cell_type": "code",
   "execution_count": 37,
   "outputs": [],
   "source": [
    "X_Y[\"P_adusted\"] = X_Y_p_adust\n",
    "within_X[\"P_adusted\"] = within_X_p_adust\n",
    "within_Y[\"P_adusted\"] = within_Y_p_adust"
   ],
   "metadata": {
    "collapsed": false,
    "pycharm": {
     "name": "#%%\n"
    }
   }
  },
  {
   "cell_type": "code",
   "execution_count": 38,
   "outputs": [
    {
     "data": {
      "text/plain": "      Feature_1 Feature_2          pval  Correlation  Not_NAs     P_adusted\n20000        Y0        Y1  2.876300e-19     0.903308       50  1.548416e-18\n20001        Y0        Y2  8.391473e-23     0.932060       50  1.346444e-21\n20002        Y0        Y3  1.296812e-26     0.953337       50  1.351414e-24\n20003        Y0        Y4  9.458936e-22     0.924577       50  1.055732e-20\n20004        Y0        Y5  1.211416e-18     0.897027       50  5.788136e-18\n...         ...       ...           ...          ...      ...           ...\n39795       Y99       Y94  5.169296e-19     0.900798       50  2.662645e-18\n39796       Y99       Y95  4.532957e-21     0.919284       50  3.902285e-20\n39797       Y99       Y96  5.526886e-24     0.939555       50  1.455217e-22\n39798       Y99       Y97  5.556863e-23     0.933255       50  9.651394e-22\n39799       Y99       Y98  4.070674e-24     0.940343       50  1.192298e-22\n\n[9900 rows x 6 columns]",
      "text/html": "<div>\n<style scoped>\n    .dataframe tbody tr th:only-of-type {\n        vertical-align: middle;\n    }\n\n    .dataframe tbody tr th {\n        vertical-align: top;\n    }\n\n    .dataframe thead th {\n        text-align: right;\n    }\n</style>\n<table border=\"1\" class=\"dataframe\">\n  <thead>\n    <tr style=\"text-align: right;\">\n      <th></th>\n      <th>Feature_1</th>\n      <th>Feature_2</th>\n      <th>pval</th>\n      <th>Correlation</th>\n      <th>Not_NAs</th>\n      <th>P_adusted</th>\n    </tr>\n  </thead>\n  <tbody>\n    <tr>\n      <th>20000</th>\n      <td>Y0</td>\n      <td>Y1</td>\n      <td>2.876300e-19</td>\n      <td>0.903308</td>\n      <td>50</td>\n      <td>1.548416e-18</td>\n    </tr>\n    <tr>\n      <th>20001</th>\n      <td>Y0</td>\n      <td>Y2</td>\n      <td>8.391473e-23</td>\n      <td>0.932060</td>\n      <td>50</td>\n      <td>1.346444e-21</td>\n    </tr>\n    <tr>\n      <th>20002</th>\n      <td>Y0</td>\n      <td>Y3</td>\n      <td>1.296812e-26</td>\n      <td>0.953337</td>\n      <td>50</td>\n      <td>1.351414e-24</td>\n    </tr>\n    <tr>\n      <th>20003</th>\n      <td>Y0</td>\n      <td>Y4</td>\n      <td>9.458936e-22</td>\n      <td>0.924577</td>\n      <td>50</td>\n      <td>1.055732e-20</td>\n    </tr>\n    <tr>\n      <th>20004</th>\n      <td>Y0</td>\n      <td>Y5</td>\n      <td>1.211416e-18</td>\n      <td>0.897027</td>\n      <td>50</td>\n      <td>5.788136e-18</td>\n    </tr>\n    <tr>\n      <th>...</th>\n      <td>...</td>\n      <td>...</td>\n      <td>...</td>\n      <td>...</td>\n      <td>...</td>\n      <td>...</td>\n    </tr>\n    <tr>\n      <th>39795</th>\n      <td>Y99</td>\n      <td>Y94</td>\n      <td>5.169296e-19</td>\n      <td>0.900798</td>\n      <td>50</td>\n      <td>2.662645e-18</td>\n    </tr>\n    <tr>\n      <th>39796</th>\n      <td>Y99</td>\n      <td>Y95</td>\n      <td>4.532957e-21</td>\n      <td>0.919284</td>\n      <td>50</td>\n      <td>3.902285e-20</td>\n    </tr>\n    <tr>\n      <th>39797</th>\n      <td>Y99</td>\n      <td>Y96</td>\n      <td>5.526886e-24</td>\n      <td>0.939555</td>\n      <td>50</td>\n      <td>1.455217e-22</td>\n    </tr>\n    <tr>\n      <th>39798</th>\n      <td>Y99</td>\n      <td>Y97</td>\n      <td>5.556863e-23</td>\n      <td>0.933255</td>\n      <td>50</td>\n      <td>9.651394e-22</td>\n    </tr>\n    <tr>\n      <th>39799</th>\n      <td>Y99</td>\n      <td>Y98</td>\n      <td>4.070674e-24</td>\n      <td>0.940343</td>\n      <td>50</td>\n      <td>1.192298e-22</td>\n    </tr>\n  </tbody>\n</table>\n<p>9900 rows × 6 columns</p>\n</div>"
     },
     "execution_count": 38,
     "metadata": {},
     "output_type": "execute_result"
    }
   ],
   "source": [
    "X_Y\n",
    "within_X\n",
    "within_Y"
   ],
   "metadata": {
    "collapsed": false,
    "pycharm": {
     "name": "#%%\n"
    }
   }
  },
  {
   "cell_type": "code",
   "execution_count": 39,
   "outputs": [],
   "source": [
    "X_Y[\"bh_fdr_threshold\"] = X_Y_p_threshold\n",
    "within_X[\"bh_fdr_threshold\"] = within_X_p_threshold\n",
    "within_Y[\"bh_fdr_threshold\"] = within_Y_p_threshold\n",
    "\n"
   ],
   "metadata": {
    "collapsed": false,
    "pycharm": {
     "name": "#%%\n"
    }
   }
  },
  {
   "cell_type": "code",
   "execution_count": 40,
   "outputs": [],
   "source": [
    "X_Y = X_Y.sort_values(['pval', 'Correlation'],\n",
    "                     ascending = [True, False])\n",
    "within_X = within_X.sort_values(['pval', 'Correlation'],\n",
    "                      ascending = [True, False])\n",
    "within_Y = within_Y.sort_values(['pval', 'Correlation'],\n",
    "                                ascending = [True, False])"
   ],
   "metadata": {
    "collapsed": false,
    "pycharm": {
     "name": "#%%\n"
    }
   }
  },
  {
   "cell_type": "code",
   "execution_count": 41,
   "outputs": [
    {
     "data": {
      "text/plain": "      Feature_1 Feature_2      pval  Correlation  Not_NAs   P_adusted  \\\n364          X1       Y66  0.021416     0.327972       49  214.155016   \n373          X1       Y75  0.033062     0.305052       49  165.311602   \n5546        X27       Y74  0.036443     0.296654       50  121.477314   \n372          X1       Y74  0.040235     0.294122       49  100.588520   \n3125        X15       Y41  0.042550     0.287992       50   85.100808   \n...         ...       ...       ...          ...      ...         ...   \n15469       X77       Y47  0.999459    -0.000098       50    0.999859   \n4570        X22       Y93  0.999729     0.000049       50    1.000029   \n10654       X53        Y8  0.999729     0.000049       50    0.999929   \n17446       X87       Y34  0.999729     0.000049       50    0.999829   \n18210       X91        Y2  0.999729     0.000049       50    0.999729   \n\n       bh_fdr_threshold  \n364             0.65493  \n373             0.65493  \n5546            0.65493  \n372             0.65493  \n3125            0.65493  \n...                 ...  \n15469           0.65493  \n4570            0.65493  \n10654           0.65493  \n17446           0.65493  \n18210           0.65493  \n\n[10000 rows x 7 columns]",
      "text/html": "<div>\n<style scoped>\n    .dataframe tbody tr th:only-of-type {\n        vertical-align: middle;\n    }\n\n    .dataframe tbody tr th {\n        vertical-align: top;\n    }\n\n    .dataframe thead th {\n        text-align: right;\n    }\n</style>\n<table border=\"1\" class=\"dataframe\">\n  <thead>\n    <tr style=\"text-align: right;\">\n      <th></th>\n      <th>Feature_1</th>\n      <th>Feature_2</th>\n      <th>pval</th>\n      <th>Correlation</th>\n      <th>Not_NAs</th>\n      <th>P_adusted</th>\n      <th>bh_fdr_threshold</th>\n    </tr>\n  </thead>\n  <tbody>\n    <tr>\n      <th>364</th>\n      <td>X1</td>\n      <td>Y66</td>\n      <td>0.021416</td>\n      <td>0.327972</td>\n      <td>49</td>\n      <td>214.155016</td>\n      <td>0.65493</td>\n    </tr>\n    <tr>\n      <th>373</th>\n      <td>X1</td>\n      <td>Y75</td>\n      <td>0.033062</td>\n      <td>0.305052</td>\n      <td>49</td>\n      <td>165.311602</td>\n      <td>0.65493</td>\n    </tr>\n    <tr>\n      <th>5546</th>\n      <td>X27</td>\n      <td>Y74</td>\n      <td>0.036443</td>\n      <td>0.296654</td>\n      <td>50</td>\n      <td>121.477314</td>\n      <td>0.65493</td>\n    </tr>\n    <tr>\n      <th>372</th>\n      <td>X1</td>\n      <td>Y74</td>\n      <td>0.040235</td>\n      <td>0.294122</td>\n      <td>49</td>\n      <td>100.588520</td>\n      <td>0.65493</td>\n    </tr>\n    <tr>\n      <th>3125</th>\n      <td>X15</td>\n      <td>Y41</td>\n      <td>0.042550</td>\n      <td>0.287992</td>\n      <td>50</td>\n      <td>85.100808</td>\n      <td>0.65493</td>\n    </tr>\n    <tr>\n      <th>...</th>\n      <td>...</td>\n      <td>...</td>\n      <td>...</td>\n      <td>...</td>\n      <td>...</td>\n      <td>...</td>\n      <td>...</td>\n    </tr>\n    <tr>\n      <th>15469</th>\n      <td>X77</td>\n      <td>Y47</td>\n      <td>0.999459</td>\n      <td>-0.000098</td>\n      <td>50</td>\n      <td>0.999859</td>\n      <td>0.65493</td>\n    </tr>\n    <tr>\n      <th>4570</th>\n      <td>X22</td>\n      <td>Y93</td>\n      <td>0.999729</td>\n      <td>0.000049</td>\n      <td>50</td>\n      <td>1.000029</td>\n      <td>0.65493</td>\n    </tr>\n    <tr>\n      <th>10654</th>\n      <td>X53</td>\n      <td>Y8</td>\n      <td>0.999729</td>\n      <td>0.000049</td>\n      <td>50</td>\n      <td>0.999929</td>\n      <td>0.65493</td>\n    </tr>\n    <tr>\n      <th>17446</th>\n      <td>X87</td>\n      <td>Y34</td>\n      <td>0.999729</td>\n      <td>0.000049</td>\n      <td>50</td>\n      <td>0.999829</td>\n      <td>0.65493</td>\n    </tr>\n    <tr>\n      <th>18210</th>\n      <td>X91</td>\n      <td>Y2</td>\n      <td>0.999729</td>\n      <td>0.000049</td>\n      <td>50</td>\n      <td>0.999729</td>\n      <td>0.65493</td>\n    </tr>\n  </tbody>\n</table>\n<p>10000 rows × 7 columns</p>\n</div>"
     },
     "execution_count": 41,
     "metadata": {},
     "output_type": "execute_result"
    }
   ],
   "source": [
    "X_Y"
   ],
   "metadata": {
    "collapsed": false,
    "pycharm": {
     "name": "#%%\n"
    }
   }
  },
  {
   "cell_type": "code",
   "execution_count": 42,
   "outputs": [],
   "source": [
    "outputpath = \"/Users/rah/Documents/omicsEye/btest/demo/btest_output\"\n",
    "os.makedirs(outputpath, exist_ok=True)\n",
    "X_Y.to_csv(outputpath + '/X_Y.tsv', sep=\"\\t\")\n",
    "#rho_X = rho.iloc[0:500, 0:500]\n",
    "#rho_X.to_csv(outputpath + '/simtable_X.tsv', sep=\"\\t\")\n",
    "rho_X_Y.to_csv(outputpath + '/simtable.tsv', sep=\"\\t\")\n",
    "within_X.to_csv(outputpath + '/within_X.tsv', sep=\"\\t\")\n",
    "within_Y.to_csv(outputpath + '/within_Y.tsv', sep=\"\\t\")"
   ],
   "metadata": {
    "collapsed": false,
    "pycharm": {
     "name": "#%%\n"
    }
   }
  },
  {
   "cell_type": "code",
   "execution_count": 43,
   "outputs": [],
   "source": [
    "# import matbtestlib.pyplot as plt\n",
    "import matplotlib\n",
    "\n",
    "# matplotlib.style.use('ggplot')\n",
    "matplotlib.use(\"Agg\")\n",
    "import matplotlib.pyplot as plt\n",
    "# import matplotlib as matplotlib\n",
    "# matplotlib.use( \"Agg\" )\n",
    "# plt.style.use('ggplot')\n",
    "import matplotlib.patches as patches\n",
    "import matplotlib.patheffects as path_effects\n",
    "import numpy as np\n",
    "from matplotlib import font_manager\n",
    "import warnings\n",
    "\n",
    "with warnings.catch_warnings():\n",
    "    warnings.simplefilter(\"error\")\n",
    "    try:\n",
    "        font_file = font_manager.findfont(font_manager.FontProperties(family='Arial'))\n",
    "        matplotlib.rcParams[\"font.family\"] = \"Arial\"\n",
    "    except UserWarning:\n",
    "        pass\n",
    "# ---------------------------------------------------------------\n",
    "# constants / config\n",
    "# ---------------------------------------------------------------\n",
    "\n",
    "c_unit_h = 0.3\n",
    "c_unit_w = 0.3\n",
    "c_min_height = 1 * c_unit_h + 3\n",
    "c_min_width = 1 * c_unit_w + 5\n",
    "c_label_scale = 8\n",
    "c_label_shift = -0.005\n",
    "c_line_width = 1.5\n",
    "c_char_pad = 0.1\n",
    "c_label_aspect = 0.7\n",
    "c_small_text = 12\n",
    "c_large_text = 16\n",
    "c_giant_text = 20\n",
    "c_outline_width = 3\n",
    "c_grid_color = \"0.9\"\n",
    "c_cbarspan = 1\n",
    "c_simstep = 0.2\n",
    "paper_dpi = 350\n",
    "\n",
    "matplotlib.rcParams['xtick.major.pad'] = '.1'  # '10'\n",
    "matplotlib.rcParams['ytick.major.pad'] = '.1'  # '10'\n",
    "def reorder(array, order):\n",
    "    return [array[i] for i in order]\n",
    "def mask_table(simtable, associations):\n",
    "    allowed = {}\n",
    "    for number, row_items, col_items, sig, _, _ in associations:\n",
    "        for r in row_items:\n",
    "            for c in col_items:\n",
    "                ri = simtable.rowmap[r]\n",
    "                ci = simtable.colmap[c]\n",
    "                allowed[(ri, ci)] = 1\n",
    "    for ri in range(simtable.nrows):\n",
    "        for ci in range(simtable.ncols):\n",
    "            if (ri, ci) not in allowed:\n",
    "                simtable.data[ri][ci] = np.nan\n",
    "    simtable.data = np.ma.masked_where(np.isnan(simtable.data), simtable.data)\n",
    "\n",
    "class Table:\n",
    "    \"\"\" \"\"\"\n",
    "\n",
    "    def __init__(self, path):\n",
    "        self.colheads = None\n",
    "        self.rowheads = []\n",
    "        self.data = []\n",
    "        with open(path) as fh:\n",
    "            for row in csv.reader(fh, dialect=\"excel-tab\"):\n",
    "                rowhead, values = row[0], row[1:]\n",
    "                if self.colheads is None:\n",
    "                    self.colheads = values\n",
    "                else:\n",
    "                    self.rowheads.append(rowhead)\n",
    "                    self.data.append(list(map(float, values)))\n",
    "        self.data = np.array(self.data)\n",
    "        self.update()\n",
    "\n",
    "    def update(self):\n",
    "        self.nrows, self.ncols = self.data.shape\n",
    "        self.rowmap = {}\n",
    "        self.colmap = {}\n",
    "        for i, h in zip(range(self.nrows), self.rowheads):\n",
    "            self.rowmap[h] = i\n",
    "        for i, h in zip(range(self.ncols), self.colheads):\n",
    "            self.colmap[h] = i\n",
    "        print(self.nrows, len(self.rowheads), len(self.rowmap))\n",
    "        assert self.nrows == len(self.rowheads) == len(self.rowmap), \"row dim failure\"\n",
    "        assert self.ncols == len(self.colheads) == len(self.colmap), \"col dim failure\"\n",
    "\n"
   ],
   "metadata": {
    "collapsed": false,
    "pycharm": {
     "name": "#%%\n"
    }
   }
  },
  {
   "cell_type": "code",
   "execution_count": 44,
   "outputs": [],
   "source": [
    "def load_order_table(p_table, associations, p_tree = None):\n",
    "    allowed_rowheads = {k for items in associations for k in items[1]}\n",
    "    allowed_colheads = {k for items in associations for k in items[2]}\n",
    "    simtable = Table(p_table)\n",
    "    row_order, col_order = simtable.rowheads, simtable.colheads # get_order(p_tree)\n",
    "\n",
    "    # reorder the rows\n",
    "    row_order = [simtable.rowmap[k] for k in row_order if k in simtable.rowmap and k in allowed_rowheads]\n",
    "    simtable.rowheads = reorder(simtable.rowheads, row_order)\n",
    "    simtable.data = simtable.data[row_order, :]\n",
    "    simtable.update()\n",
    "    # reorder the cols\n",
    "    col_order = [simtable.colmap[k] for k in col_order if k in simtable.colmap and k in allowed_colheads]\n",
    "    simtable.colheads = reorder(simtable.colheads, col_order)\n",
    "    simtable.data = simtable.data[:, col_order]\n",
    "    simtable.update()\n",
    "    return simtable"
   ],
   "metadata": {
    "collapsed": false,
    "pycharm": {
     "name": "#%%\n"
    }
   }
  },
  {
   "cell_type": "code",
   "execution_count": 45,
   "outputs": [],
   "source": [
    "def load_associations(path, largest=None, strongest=100, orderby='similarity'):\n",
    "    pairs = []\n",
    "    dic_order = {'pvalue': 3, 'similarity': 4, 'qvalue': 6, }\n",
    "    with open(path) as fh:\n",
    "        for row in csv.reader(fh, dialect=\"excel-tab\"):\n",
    "            if row[0] !='':\n",
    "                pairs.append([row[0], row[1].split(\";\"), row[2].split(\";\"), row[3], row[4], row[6]])\n",
    "    if largest is not None and strongest is not None:\n",
    "        sys.exit(\"Can only specify one of LARGEST and STRONGEST\")\n",
    "    elif largest is not None:\n",
    "        pairs = sorted(pairs, key=lambda row: len(row[1]) * len(row[2]), reverse=True)\n",
    "        pairs = pairs[0:min(len(pairs), largest)]\n",
    "    elif strongest is not None:\n",
    "        # not reversed, smaller p = stronger assoc\n",
    "        pairs = sorted(pairs, key=lambda row: abs(float(row[dic_order[orderby]])), reverse=True)\n",
    "        pairs = pairs[0:min(len(pairs), strongest)]\n",
    "    return pairs"
   ],
   "metadata": {
    "collapsed": false,
    "pycharm": {
     "name": "#%%\n"
    }
   }
  },
  {
   "cell_type": "code",
   "execution_count": 46,
   "outputs": [],
   "source": [
    "associations = load_associations(path = outputpath + '/X_Y.tsv')"
   ],
   "metadata": {
    "collapsed": false,
    "pycharm": {
     "name": "#%%\n"
    }
   }
  },
  {
   "cell_type": "code",
   "execution_count": 47,
   "outputs": [
    {
     "data": {
      "text/plain": "'/Users/rah/Documents/omicsEye/btest/demo/btest_output'"
     },
     "execution_count": 47,
     "metadata": {},
     "output_type": "execute_result"
    }
   ],
   "source": [
    "outputpath"
   ],
   "metadata": {
    "collapsed": false,
    "pycharm": {
     "name": "#%%\n"
    }
   }
  },
  {
   "cell_type": "code",
   "execution_count": 48,
   "outputs": [
    {
     "data": {
      "text/plain": "[['364',\n  ['X1'],\n  ['Y66'],\n  '0.02141550157442774',\n  '0.32797218145478496',\n  '214.15501574427742'],\n ['373',\n  ['X1'],\n  ['Y75'],\n  '0.033062320494592866',\n  '0.3050515086544998',\n  '165.31160247296432'],\n ['5546',\n  ['X27'],\n  ['Y74'],\n  '0.036443194179371946',\n  '0.29665354330708665',\n  '121.47731393123983'],\n ['372',\n  ['X1'],\n  ['Y74'],\n  '0.04023540815912691',\n  '0.294122261151493',\n  '100.58852039781728'],\n ['3125',\n  ['X15'],\n  ['Y41'],\n  '0.042550403987361936',\n  '0.28799212598425195',\n  '85.10080797472388'],\n ['3146',\n  ['X15'],\n  ['Y62'],\n  '0.042550403987361936',\n  '0.28799212598425195',\n  '70.91733997893657'],\n ['3150',\n  ['X15'],\n  ['Y66'],\n  '0.04377287255220005',\n  '0.28638245624131736',\n  '62.53267507457149'],\n ['5547',\n  ['X27'],\n  ['Y75'],\n  '0.045591011480972846',\n  '0.2840551181102362',\n  '56.988764351216055'],\n ['360',\n  ['X1'],\n  ['Y62'],\n  '0.0503542686720587',\n  '0.2811535846885949',\n  '45.77660788368973'],\n ['5538',\n  ['X27'],\n  ['Y66'],\n  '0.048837969047051434',\n  '0.2800807621724007',\n  '54.26441005227937'],\n ['4344',\n  ['X21'],\n  ['Y66'],\n  '0.04983872907905812',\n  '0.2788991945344788',\n  '49.83872907905812'],\n ['339',\n  ['X1'],\n  ['Y41'],\n  '0.052486761728789466',\n  '0.2786958113266747',\n  '37.490544091992476'],\n ['3158',\n  ['X15'],\n  ['Y74'],\n  '0.0508228544586897',\n  '0.277755905511811',\n  '42.35237871557475'],\n ['5513',\n  ['X27'],\n  ['Y41'],\n  '0.0508228544586897',\n  '0.277755905511811',\n  '39.0945034297613'],\n ['5136',\n  ['X25'],\n  ['Y62'],\n  '0.05533869783262412',\n  '0.2755320817863306',\n  '36.89246522174941'],\n ['7329',\n  ['X36'],\n  ['Y66'],\n  '0.05633742208480043',\n  '0.2716620927522072',\n  '35.210888803000266'],\n ['3159',\n  ['X15'],\n  ['Y75'],\n  '0.05653137997008717',\n  '0.2714566929133858',\n  '33.25375292358069'],\n ['3357',\n  ['X16'],\n  ['Y74'],\n  '0.05653137997008717',\n  '0.2714566929133858',\n  '31.406322205603985'],\n ['16310',\n  ['X81'],\n  ['Y92'],\n  '0.05860902732599511',\n  '0.2692913385826771',\n  '30.846856487365848'],\n ['17305',\n  ['X86'],\n  ['Y92'],\n  '0.05860902732599511',\n  '0.2692913385826771',\n  '29.304513662997557'],\n ['18300',\n  ['X91'],\n  ['Y92'],\n  '0.05860902732599511',\n  '0.2692913385826771',\n  '27.909060631426243'],\n ['7337',\n  ['X36'],\n  ['Y74'],\n  '0.05870490528504488',\n  '0.26919291338582674',\n  '26.684047856838582'],\n ['1554',\n  ['X7'],\n  ['Y62'],\n  '0.05880090931111398',\n  '0.26909448818897636',\n  '25.5656127439626'],\n ['4539',\n  ['X22'],\n  ['Y62'],\n  '0.05880090931111398',\n  '0.26909448818897636',\n  '24.500378879630826'],\n ['1558',\n  ['X7'],\n  ['Y66'],\n  '0.06000464138095432',\n  '0.26787122991387446',\n  '24.001856552381728'],\n ['3946',\n  ['X19'],\n  ['Y66'],\n  '0.06000464138095432',\n  '0.26787122991387446',\n  '23.078708223443968'],\n ['5339',\n  ['X26'],\n  ['Y66'],\n  '0.06000464138095432',\n  '0.26787122991387446',\n  '22.223941252205304'],\n ['5737',\n  ['X28'],\n  ['Y66'],\n  '0.06000464138095432',\n  '0.26787122991387446',\n  '21.43022906462654'],\n ['4319',\n  ['X21'],\n  ['Y41'],\n  '0.06035421058070553',\n  '0.26751968503937007',\n  '20.811796751967425'],\n ['17900',\n  ['X89'],\n  ['Y90'],\n  '0.06208748783534324',\n  '0.26580035955239295',\n  '20.69582927844775'],\n ['3161',\n  ['X15'],\n  ['Y77'],\n  '0.062745736947937',\n  '0.2651574803149606',\n  '20.240560305786133'],\n ['3942',\n  ['X19'],\n  ['Y62'],\n  '0.062745736947937',\n  '0.2651574803149606',\n  '19.608042796230315'],\n ['5347',\n  ['X26'],\n  ['Y74'],\n  '0.062745736947937',\n  '0.2651574803149606',\n  '19.013859681193033'],\n ['5534',\n  ['X27'],\n  ['Y62'],\n  '0.062745736947937',\n  '0.2651574803149606',\n  '18.45462851409912'],\n ['366',\n  ['X1'],\n  ['Y68'],\n  '0.06586001021671602',\n  '0.2648904460597187',\n  '14.63555782593689'],\n ['2350',\n  ['X11'],\n  ['Y62'],\n  '0.06438181108176685',\n  '0.2635826771653543',\n  '18.394803166219102'],\n ['16907',\n  ['X84'],\n  ['Y92'],\n  '0.06500405859153362',\n  '0.2629921259842519',\n  '18.05668294209267'],\n ['17106',\n  ['X85'],\n  ['Y92'],\n  '0.06500405859153362',\n  '0.2629921259842519',\n  '17.568664484198273'],\n ['17902',\n  ['X89'],\n  ['Y92'],\n  '0.06500405859153362',\n  '0.2629921259842519',\n  '17.106331208298318'],\n ['18306',\n  ['X91'],\n  ['Y98'],\n  '0.06500405859153362',\n  '0.2629921259842519',\n  '16.667707331162465'],\n ['18897',\n  ['X94'],\n  ['Y92'],\n  '0.06500405859153362',\n  '0.2629921259842519',\n  '16.2510146478834'],\n ['18903',\n  ['X94'],\n  ['Y98'],\n  '0.06500405859153362',\n  '0.2629921259842519',\n  '15.854648436959417'],\n ['19096',\n  ['X95'],\n  ['Y92'],\n  '0.06500405859153362',\n  '0.2629921259842519',\n  '15.477156807508003'],\n ['3324',\n  ['X16'],\n  ['Y41'],\n  '0.06521253859802476',\n  '0.26279527559055116',\n  '15.16570665070343'],\n ['15876',\n  ['X79'],\n  ['Y56'],\n  '0.06557604651719223',\n  '0.26245324391358504',\n  '14.903646935725506'],\n ['5532',\n  ['X27'],\n  ['Y60'],\n  '0.06657825547320405',\n  '0.2615180204262711',\n  '14.473533798522618'],\n ['356',\n  ['X1'],\n  ['Y58'],\n  '0.06950899135870736',\n  '0.2615175443183601',\n  '12.412319885483457'],\n ['5530',\n  ['X27'],\n  ['Y58'],\n  '0.06689966403305957',\n  '0.2612204724409449',\n  '14.233971070863738'],\n ['5549',\n  ['X27'],\n  ['Y77'],\n  '0.06689966403305957',\n  '0.2612204724409449',\n  '13.93743000688741'],\n ['11923',\n  ['X59'],\n  ['Y83'],\n  '0.0673268356401875',\n  '-0.2608267716535433',\n  '13.740170538813777'],\n ['17104',\n  ['X85'],\n  ['Y90'],\n  '0.06834793120353967',\n  '0.2598936848956731',\n  '13.669586240707934'],\n ['16905',\n  ['X84'],\n  ['Y90'],\n  '0.06878253250644986',\n  '0.25949990658522515',\n  '13.486771079696052'],\n ['18298',\n  ['X91'],\n  ['Y90'],\n  '0.06921932969228575',\n  '0.25910612827477714',\n  '13.311409556208798'],\n ['4916',\n  ['X24'],\n  ['Y41'],\n  '0.06949539748413289',\n  '0.2588582677165354',\n  '13.112339147949601'],\n ['4937',\n  ['X24'],\n  ['Y62'],\n  '0.06949539748413289',\n  '0.2588582677165354',\n  '12.869518052617202'],\n ['5543',\n  ['X27'],\n  ['Y71'],\n  '0.06949539748413289',\n  '0.2588582677165354',\n  '12.635526815296888'],\n ['15873',\n  ['X79'],\n  ['Y53'],\n  '0.07065417353598132',\n  '0.25782634876582117',\n  '12.395469041400231'],\n ['15887',\n  ['X79'],\n  ['Y67'],\n  '0.07110038415471931',\n  '0.25743257045537316',\n  '12.258686923227469'],\n ['3743',\n  ['X18'],\n  ['Y62'],\n  '0.07126992647827432',\n  '0.25728346456692913',\n  '12.079648555639714'],\n ['16316',\n  ['X81'],\n  ['Y98'],\n  '0.07194457274671139',\n  '0.2566929133858268',\n  '11.990762124451898'],\n ['16708',\n  ['X83'],\n  ['Y92'],\n  '0.07194457274671139',\n  '0.2566929133858268',\n  '11.794192253559244'],\n ['18101',\n  ['X90'],\n  ['Y92'],\n  '0.07194457274671139',\n  '0.2566929133858268',\n  '11.603963346243772'],\n ['7325',\n  ['X36'],\n  ['Y62'],\n  '0.07205750459830805',\n  '0.25659448818897634',\n  '11.43769914258858'],\n ['3349',\n  ['X16'],\n  ['Y66'],\n  '0.07313476978037256',\n  '0.25566169765534835',\n  '11.427307778183213'],\n ['5514',\n  ['X27'],\n  ['Y42'],\n  '0.07336509184931006',\n  '0.2554636789031332',\n  '11.286937207586163'],\n ['4353',\n  ['X21'],\n  ['Y75'],\n  '0.07399893997478706',\n  '0.2549212598425197',\n  '11.211960602240463'],\n ['2748',\n  ['X13'],\n  ['Y62'],\n  '0.07820348682450125',\n  '0.25401349160696546',\n  '10.026088054423237'],\n ['18895',\n  ['X94'],\n  ['Y90'],\n  '0.07510081903237778',\n  '0.25398701023895326',\n  '11.209077467519073'],\n ['563',\n  ['X2'],\n  ['Y66'],\n  '0.07545094591607177',\n  '0.25369241825881184',\n  '11.09572734059879'],\n ['15711',\n  ['X78'],\n  ['Y90'],\n  '0.07556912019474944',\n  '0.2535932319285053',\n  '10.952046405036151'],\n ['18099',\n  ['X90'],\n  ['Y90'],\n  '0.07603972601519168',\n  '0.2531994536180573',\n  '10.86281800217024'],\n ['18497',\n  ['X92'],\n  ['Y90'],\n  '0.07603972601519168',\n  '0.2531994536180573',\n  '10.709820565519955'],\n ['5539',\n  ['X27'],\n  ['Y67'],\n  '0.0767499718222892',\n  '0.2526087861523853',\n  '10.659718308651277'],\n ['571',\n  ['X2'],\n  ['Y74'],\n  '0.07681000890461309',\n  '0.2525590551181102',\n  '10.521919028029192'],\n ['3152',\n  ['X15'],\n  ['Y68'],\n  '0.07681000890461309',\n  '0.2525590551181102',\n  '10.379730933055823'],\n ['3556',\n  ['X17'],\n  ['Y74'],\n  '0.07681000890461309',\n  '0.2525590551181102',\n  '10.24133452061508'],\n ['4352',\n  ['X21'],\n  ['Y74'],\n  '0.07681000890461309',\n  '0.2525590551181102',\n  '10.106580119028038'],\n ['3124',\n  ['X15'],\n  ['Y40'],\n  '0.07740562096366194',\n  '0.25206734097551936',\n  '10.052678047228822'],\n ['358',\n  ['X1'],\n  ['Y60'],\n  '0.0825125962580557',\n  '0.25053612138879194',\n  '9.707364265653611'],\n ['18304',\n  ['X91'],\n  ['Y96'],\n  '0.07946024104606851',\n  '0.2503937007874016',\n  '10.058258360261837'],\n ['5314',\n  ['X26'],\n  ['Y41'],\n  '0.07970469694232273',\n  '0.25019685039370076',\n  '9.96308711779034'],\n ['5335',\n  ['X26'],\n  ['Y62'],\n  '0.07970469694232273',\n  '0.25019685039370076',\n  '9.840086042262064'],\n ['4543',\n  ['X22'],\n  ['Y66'],\n  '0.0807505368644499',\n  '0.2493600035864316',\n  '9.847626446884133'],\n ['3523',\n  ['X17'],\n  ['Y41'],\n  '0.08168171487544854',\n  '0.24862204724409445',\n  '9.841170466921511'],\n ['6732',\n  ['X33'],\n  ['Y66'],\n  '0.08224552486287864',\n  '0.2481784359485097',\n  '9.791133912247457'],\n ['15869',\n  ['X79'],\n  ['Y49'],\n  '0.08268456472147612',\n  '0.24783464566929134',\n  '9.614484269939084'],\n ['3548',\n  ['X17'],\n  ['Y66'],\n  '0.0832541962945141',\n  '0.2473907241898951',\n  '9.569447849944149'],\n ['3151',\n  ['X15'],\n  ['Y67'],\n  '0.08331690363646338',\n  '0.24734200125014344',\n  '9.467829958689022'],\n ['371',\n  ['X1'],\n  ['Y73'],\n  '0.08669685289967004',\n  '0.24729327388856126',\n  '9.030922177048962'],\n ['1753',\n  ['X8'],\n  ['Y62'],\n  '0.08356996203511732',\n  '0.24714566929133855',\n  '9.389883374732284'],\n ['17894',\n  ['X89'],\n  ['Y84'],\n  '0.08388875478706083',\n  '0.24689900065088946',\n  '9.32097275411787'],\n ['3921',\n  ['X19'],\n  ['Y41'],\n  '0.08471923406884507',\n  '0.246259842519685',\n  '9.309805941631327'],\n ['4551',\n  ['X22'],\n  ['Y74'],\n  '0.08471923406884507',\n  '0.246259842519685',\n  '9.208612398787508'],\n ['16308',\n  ['X81'],\n  ['Y90'],\n  '0.08542873840755222',\n  '0.24571766571954548',\n  '9.185885850274431'],\n ['16312',\n  ['X81'],\n  ['Y94'],\n  '0.08646762679827115',\n  '0.2449301090986495',\n  '9.19868370194374'],\n ['15889',\n  ['X79'],\n  ['Y69'],\n  '0.0865981794620969',\n  '0.24483166452103752',\n  '9.115597838115464'],\n ['343',\n  ['X1'],\n  ['Y45'],\n  '0.09015353349264983',\n  '0.24470532866182085',\n  '7.640129957004223'],\n ['3544',\n  ['X17'],\n  ['Y62'],\n  '0.08679291263700464',\n  '0.24468503937007874',\n  '8.94772295226852'],\n ['4340',\n  ['X21'],\n  ['Y62'],\n  '0.08679291263700464',\n  '0.24468503937007874',\n  '8.85641965683721'],\n ['4941',\n  ['X24'],\n  ['Y66'],\n  '0.08686113347769195',\n  '0.24463373303474406',\n  '8.77385186643353']]"
     },
     "execution_count": 48,
     "metadata": {},
     "output_type": "execute_result"
    }
   ],
   "source": [
    "associations"
   ],
   "metadata": {
    "collapsed": false,
    "pycharm": {
     "name": "#%%\n"
    }
   }
  },
  {
   "cell_type": "code",
   "execution_count": 49,
   "outputs": [],
   "source": [
    "def plot(simtable, associations, cmap, mask, axlabels, outfile, similarity):\n",
    "    # reverse roworder of simtable to match plotting\n",
    "    order = range(simtable.nrows)[::-1]\n",
    "    simtable.rowheads = reorder(simtable.rowheads, order)\n",
    "    simtable.data = simtable.data[order, :]\n",
    "    simtable.update()\n",
    "    # scale of the data\n",
    "    tmin = -1 # if we want to use the min in the study #np.min(simtable.data,)\n",
    "    tmax = 1 # if we want to use the max in the study np.max(simtable.data)\n",
    "    crit = 0\n",
    "    while crit < max(abs(tmin), tmax):\n",
    "        crit += c_simstep\n",
    "    vmin = 0 if tmin >= 0 else -crit\n",
    "    vmax = crit\n",
    "    # masking\n",
    "    if mask:\n",
    "        mask_table(simtable, associations)\n",
    "    # begin plotting\n",
    "    fig = plt.figure()\n",
    "    width = max(c_unit_w * simtable.ncols, c_min_width)\n",
    "    width += c_char_pad * max(list(map(len, simtable.rowheads)))\n",
    "    height = max(c_unit_h * simtable.nrows, c_min_height)\n",
    "    height += c_char_pad * max(list(map(len, simtable.colheads)))\n",
    "    fig.set_size_inches(width, height)\n",
    "    span = simtable.ncols\n",
    "    cbarspan = c_cbarspan\n",
    "    ax = plt.subplot2grid((1, span), (0, cbarspan), rowspan=1, colspan=span - cbarspan)\n",
    "    ax_cbar = plt.subplot2grid((2, span), (0, 0), rowspan=2, colspan=cbarspan)\n",
    "    ax.yaxis.tick_right()\n",
    "    ax.yaxis.set_label_position(\"right\")\n",
    "    ax.set_yticks([0.5 + i for i in range(simtable.nrows)])\n",
    "    ax.set_xticks([0.5 + i for i in range(simtable.ncols)])\n",
    "    ax.set_yticklabels(simtable.rowheads, size=c_large_text)\n",
    "    ax.set_xticklabels(simtable.colheads, rotation=90, rotation_mode=\"anchor\", ha=\"right\", va=\"center\",\n",
    "                       size=c_large_text)\n",
    "    ax.xaxis.set_ticks_position('none')\n",
    "    ax.yaxis.set_ticks_position('none')\n",
    "    ax.set_ylim(0, len(simtable.rowheads))\n",
    "    ax.set_xlim(0, len(simtable.colheads))\n",
    "    ax.set_ylabel(axlabels[0], size=c_giant_text, fontweight='bold')\n",
    "    ax.set_xlabel(axlabels[1], size=c_giant_text, fontweight='bold')\n",
    "    # if masking, draw a light grid to help with orientation\n",
    "    if mask:\n",
    "        kwargs = {\"zorder\": 0, \"color\": c_grid_color}\n",
    "        xmin, xmax = ax.get_xlim()\n",
    "        ymin, ymax = ax.get_ylim()\n",
    "        for y in ax.get_yticks():\n",
    "            ax.add_line(plt.Line2D([xmin, xmax], [y, y], **kwargs))\n",
    "        for x in ax.get_xticks():\n",
    "            ax.add_line(plt.Line2D([x, x], [ymin, ymax], **kwargs))\n",
    "    # main heatmap\n",
    "    heatmap = ax.pcolormesh(simtable.data, cmap=cmap, vmin=vmin, vmax=vmax)\n",
    "    # craziness for getting cbar on the left with left-facing ticks\n",
    "    norm = matplotlib.colors.Normalize(vmin=vmin, vmax=vmax)\n",
    "    cbar = matplotlib.colorbar.ColorbarBase(\n",
    "        ax_cbar,\n",
    "        norm=norm,\n",
    "        cmap=plt.get_cmap(cmap),\n",
    "        orientation=\"vertical\",\n",
    "    )\n",
    "    cbar.set_ticks([])\n",
    "    twin_ax = plt.twinx(ax=cbar.ax)\n",
    "    twin_ax.yaxis.set_label_position(\"left\")\n",
    "    twin_ax.yaxis.tick_left()\n",
    "    [tick.set_size(c_large_text) for tick in twin_ax.get_yticklabels()]\n",
    "    twin_ax.set_ylim(vmin, vmax)\n",
    "    if similarity != \"Pairwise Similarity\":\n",
    "        similarity = \"Pairwise \" + similarity\n",
    "    twin_ax.set_ylabel(similarity, size=c_giant_text)  # , fontsize=c_large_text )\n",
    "    ticks = [vmin]\n",
    "    while ticks[-1] < vmax:\n",
    "        ticks.append(ticks[-1] + c_simstep)\n",
    "    twin_ax.set_yticks(ticks)\n",
    "    #\n",
    "    # number is used as rank of the association based on the order\n",
    "    number = 0\n",
    "    # add associations\n",
    "    for sim_rank, row_items, col_items, sig, _, _ in associations:\n",
    "        number += 1\n",
    "        row_items = row_items[::-1]\n",
    "        y1 = simtable.rowmap[row_items[0]]\n",
    "        y2 = simtable.rowmap[row_items[-1]]\n",
    "        x1 = simtable.colmap[col_items[0]]\n",
    "        x2 = simtable.colmap[col_items[-1]]\n",
    "        delx = abs(x2 - x1) + 1\n",
    "        dely = abs(y2 - y1) + 1\n",
    "        # box\n",
    "        ax.add_patch(\n",
    "            patches.Rectangle(\n",
    "                (x1, y1),\n",
    "                x2 - x1 + 1,\n",
    "                y2 - y1 + 1,\n",
    "                facecolor=\"none\",\n",
    "                edgecolor=\"black\",\n",
    "                linewidth=c_line_width,\n",
    "                clip_on=False,\n",
    "            )\n",
    "        )\n",
    "        # label\n",
    "        text = str(number)\n",
    "        size = c_label_scale * min(delx, dely)\n",
    "        size /= 1 if len(text) == 1 else c_label_aspect * len(text)\n",
    "        size = int(size)\n",
    "        text = ax.text(  # np.mean( [x1, x2] )+0.5+c_label_shift*size,\n",
    "            np.mean([x1, x2]) + .75 + c_label_shift * size if (\n",
    "                    len(row_items) % 2 != 0 and len(row_items) > 1 and len(col_items) > 1) else \\\n",
    "                np.mean([x1, x2]) + .5 + c_label_shift * size if len(row_items) == 1 else np.mean(\n",
    "                [x1, x2]) + 0.5 + c_label_shift * size,\n",
    "            np.mean([y1, y2]) + 0.5 + c_label_shift * size,\n",
    "            text,\n",
    "            size=size,\n",
    "            color=\"white\",\n",
    "            ha=\"center\",\n",
    "            va=\"center\",\n",
    "            weight=\"bold\",\n",
    "        )\n",
    "        text.set_path_effects([\n",
    "            path_effects.Stroke(linewidth=c_outline_width, foreground='black'),\n",
    "            path_effects.Normal(),\n",
    "        ])\n",
    "    # craziness for hiding the border\n",
    "    plt.setp([child for child in ax.get_children() if isinstance(child, matplotlib.spines.Spine)], visible=False)\n",
    "    # warnings.filterwarnings(\"ignore\")\n",
    "    try:\n",
    "        plt.tight_layout()\n",
    "    except:\n",
    "        pass\n",
    "    plt.savefig(outfile, dpi=paper_dpi, bbox_inches='tight')"
   ],
   "metadata": {
    "collapsed": false,
    "pycharm": {
     "name": "#%%\n"
    }
   }
  },
  {
   "cell_type": "code",
   "execution_count": 50,
   "outputs": [
    {
     "name": "stdout",
     "output_type": "stream",
     "text": [
      "100 100 100\n",
      "34 34 34\n",
      "34 34 34\n"
     ]
    }
   ],
   "source": [
    "simtable = load_order_table(outputpath + '/simtable.tsv', associations)"
   ],
   "metadata": {
    "collapsed": false,
    "pycharm": {
     "name": "#%%\n"
    }
   }
  },
  {
   "cell_type": "code",
   "execution_count": 51,
   "outputs": [
    {
     "data": {
      "text/plain": "'/Users/rah/Documents/omicsEye/btest/demo/btest_output'"
     },
     "execution_count": 51,
     "metadata": {},
     "output_type": "execute_result"
    }
   ],
   "source": [
    "outputpath"
   ],
   "metadata": {
    "collapsed": false,
    "pycharm": {
     "name": "#%%\n"
    }
   }
  },
  {
   "cell_type": "code",
   "execution_count": 52,
   "outputs": [
    {
     "data": {
      "text/plain": "      Feature_1 Feature_2      pval  Correlation  Not_NAs   P_adusted  \\\n364          X1       Y66  0.021416     0.327972       49  214.155016   \n373          X1       Y75  0.033062     0.305052       49  165.311602   \n5546        X27       Y74  0.036443     0.296654       50  121.477314   \n372          X1       Y74  0.040235     0.294122       49  100.588520   \n3125        X15       Y41  0.042550     0.287992       50   85.100808   \n...         ...       ...       ...          ...      ...         ...   \n15469       X77       Y47  0.999459    -0.000098       50    0.999859   \n4570        X22       Y93  0.999729     0.000049       50    1.000029   \n10654       X53        Y8  0.999729     0.000049       50    0.999929   \n17446       X87       Y34  0.999729     0.000049       50    0.999829   \n18210       X91        Y2  0.999729     0.000049       50    0.999729   \n\n       bh_fdr_threshold  \n364             0.65493  \n373             0.65493  \n5546            0.65493  \n372             0.65493  \n3125            0.65493  \n...                 ...  \n15469           0.65493  \n4570            0.65493  \n10654           0.65493  \n17446           0.65493  \n18210           0.65493  \n\n[10000 rows x 7 columns]",
      "text/html": "<div>\n<style scoped>\n    .dataframe tbody tr th:only-of-type {\n        vertical-align: middle;\n    }\n\n    .dataframe tbody tr th {\n        vertical-align: top;\n    }\n\n    .dataframe thead th {\n        text-align: right;\n    }\n</style>\n<table border=\"1\" class=\"dataframe\">\n  <thead>\n    <tr style=\"text-align: right;\">\n      <th></th>\n      <th>Feature_1</th>\n      <th>Feature_2</th>\n      <th>pval</th>\n      <th>Correlation</th>\n      <th>Not_NAs</th>\n      <th>P_adusted</th>\n      <th>bh_fdr_threshold</th>\n    </tr>\n  </thead>\n  <tbody>\n    <tr>\n      <th>364</th>\n      <td>X1</td>\n      <td>Y66</td>\n      <td>0.021416</td>\n      <td>0.327972</td>\n      <td>49</td>\n      <td>214.155016</td>\n      <td>0.65493</td>\n    </tr>\n    <tr>\n      <th>373</th>\n      <td>X1</td>\n      <td>Y75</td>\n      <td>0.033062</td>\n      <td>0.305052</td>\n      <td>49</td>\n      <td>165.311602</td>\n      <td>0.65493</td>\n    </tr>\n    <tr>\n      <th>5546</th>\n      <td>X27</td>\n      <td>Y74</td>\n      <td>0.036443</td>\n      <td>0.296654</td>\n      <td>50</td>\n      <td>121.477314</td>\n      <td>0.65493</td>\n    </tr>\n    <tr>\n      <th>372</th>\n      <td>X1</td>\n      <td>Y74</td>\n      <td>0.040235</td>\n      <td>0.294122</td>\n      <td>49</td>\n      <td>100.588520</td>\n      <td>0.65493</td>\n    </tr>\n    <tr>\n      <th>3125</th>\n      <td>X15</td>\n      <td>Y41</td>\n      <td>0.042550</td>\n      <td>0.287992</td>\n      <td>50</td>\n      <td>85.100808</td>\n      <td>0.65493</td>\n    </tr>\n    <tr>\n      <th>...</th>\n      <td>...</td>\n      <td>...</td>\n      <td>...</td>\n      <td>...</td>\n      <td>...</td>\n      <td>...</td>\n      <td>...</td>\n    </tr>\n    <tr>\n      <th>15469</th>\n      <td>X77</td>\n      <td>Y47</td>\n      <td>0.999459</td>\n      <td>-0.000098</td>\n      <td>50</td>\n      <td>0.999859</td>\n      <td>0.65493</td>\n    </tr>\n    <tr>\n      <th>4570</th>\n      <td>X22</td>\n      <td>Y93</td>\n      <td>0.999729</td>\n      <td>0.000049</td>\n      <td>50</td>\n      <td>1.000029</td>\n      <td>0.65493</td>\n    </tr>\n    <tr>\n      <th>10654</th>\n      <td>X53</td>\n      <td>Y8</td>\n      <td>0.999729</td>\n      <td>0.000049</td>\n      <td>50</td>\n      <td>0.999929</td>\n      <td>0.65493</td>\n    </tr>\n    <tr>\n      <th>17446</th>\n      <td>X87</td>\n      <td>Y34</td>\n      <td>0.999729</td>\n      <td>0.000049</td>\n      <td>50</td>\n      <td>0.999829</td>\n      <td>0.65493</td>\n    </tr>\n    <tr>\n      <th>18210</th>\n      <td>X91</td>\n      <td>Y2</td>\n      <td>0.999729</td>\n      <td>0.000049</td>\n      <td>50</td>\n      <td>0.999729</td>\n      <td>0.65493</td>\n    </tr>\n  </tbody>\n</table>\n<p>10000 rows × 7 columns</p>\n</div>"
     },
     "execution_count": 52,
     "metadata": {},
     "output_type": "execute_result"
    }
   ],
   "source": [
    "X_Y"
   ],
   "metadata": {
    "collapsed": false,
    "pycharm": {
     "name": "#%%\n"
    }
   }
  },
  {
   "cell_type": "code",
   "execution_count": 53,
   "outputs": [],
   "source": [
    "outputpath = \"/Users/rah/Documents/omicsEye/btest/demo/btest_output\"\n",
    "os.makedirs(outputpath, exist_ok=True)\n",
    "X_Y.to_csv(outputpath + '/X_Y.tsv', sep=\"\\t\")\n",
    "#rho_X = rho.iloc[0:500, 0:500]\n",
    "#rho_X.to_csv(outputpath + '/simtable_X.tsv', sep=\"\\t\")\n",
    "rho_X_Y.to_csv(outputpath + '/simtable.tsv', sep=\"\\t\")\n",
    "within_X.to_csv(outputpath + '/within_X.tsv', sep=\"\\t\")\n",
    "within_Y.to_csv(outputpath + '/within_Y.tsv', sep=\"\\t\")"
   ],
   "metadata": {
    "collapsed": false,
    "pycharm": {
     "name": "#%%\n"
    }
   }
  },
  {
   "cell_type": "code",
   "execution_count": 54,
   "outputs": [],
   "source": [
    "# import matbtestlib.pyplot as plt\n",
    "import matplotlib\n",
    "\n",
    "# matplotlib.style.use('ggplot')\n",
    "matplotlib.use(\"Agg\")\n",
    "import matplotlib.pyplot as plt\n",
    "# import matplotlib as matplotlib\n",
    "# matplotlib.use( \"Agg\" )\n",
    "# plt.style.use('ggplot')\n",
    "import matplotlib.patches as patches\n",
    "import matplotlib.patheffects as path_effects\n",
    "import numpy as np\n",
    "from matplotlib import font_manager\n",
    "import warnings\n",
    "\n",
    "with warnings.catch_warnings():\n",
    "    warnings.simplefilter(\"error\")\n",
    "    try:\n",
    "        font_file = font_manager.findfont(font_manager.FontProperties(family='Arial'))\n",
    "        matplotlib.rcParams[\"font.family\"] = \"Arial\"\n",
    "    except UserWarning:\n",
    "        pass\n",
    "# ---------------------------------------------------------------\n",
    "# constants / config\n",
    "# ---------------------------------------------------------------\n",
    "\n",
    "c_unit_h = 0.3\n",
    "c_unit_w = 0.3\n",
    "c_min_height = 1 * c_unit_h + 3\n",
    "c_min_width = 1 * c_unit_w + 5\n",
    "c_label_scale = 8\n",
    "c_label_shift = -0.005\n",
    "c_line_width = 1.5\n",
    "c_char_pad = 0.1\n",
    "c_label_aspect = 0.7\n",
    "c_small_text = 12\n",
    "c_large_text = 16\n",
    "c_giant_text = 20\n",
    "c_outline_width = 3\n",
    "c_grid_color = \"0.9\"\n",
    "c_cbarspan = 1\n",
    "c_simstep = 0.2\n",
    "paper_dpi = 350\n",
    "\n",
    "matplotlib.rcParams['xtick.major.pad'] = '.1'  # '10'\n",
    "matplotlib.rcParams['ytick.major.pad'] = '.1'  # '10'\n",
    "def reorder(array, order):\n",
    "    return [array[i] for i in order]\n",
    "def mask_table(simtable, associations):\n",
    "    allowed = {}\n",
    "    for number, row_items, col_items, sig, _, _ in associations:\n",
    "        for r in row_items:\n",
    "            for c in col_items:\n",
    "                ri = simtable.rowmap[r]\n",
    "                ci = simtable.colmap[c]\n",
    "                allowed[(ri, ci)] = 1\n",
    "    for ri in range(simtable.nrows):\n",
    "        for ci in range(simtable.ncols):\n",
    "            if (ri, ci) not in allowed:\n",
    "                simtable.data[ri][ci] = np.nan\n",
    "    simtable.data = np.ma.masked_where(np.isnan(simtable.data), simtable.data)\n",
    "\n",
    "class Table:\n",
    "    \"\"\" \"\"\"\n",
    "\n",
    "    def __init__(self, path):\n",
    "        self.colheads = None\n",
    "        self.rowheads = []\n",
    "        self.data = []\n",
    "        with open(path) as fh:\n",
    "            for row in csv.reader(fh, dialect=\"excel-tab\"):\n",
    "                rowhead, values = row[0], row[1:]\n",
    "                if self.colheads is None:\n",
    "                    self.colheads = values\n",
    "                else:\n",
    "                    self.rowheads.append(rowhead)\n",
    "                    self.data.append(list(map(float, values)))\n",
    "        self.data = np.array(self.data)\n",
    "        self.update()\n",
    "\n",
    "    def update(self):\n",
    "        self.nrows, self.ncols = self.data.shape\n",
    "        self.rowmap = {}\n",
    "        self.colmap = {}\n",
    "        for i, h in zip(range(self.nrows), self.rowheads):\n",
    "            self.rowmap[h] = i\n",
    "        for i, h in zip(range(self.ncols), self.colheads):\n",
    "            self.colmap[h] = i\n",
    "        print(self.nrows, len(self.rowheads), len(self.rowmap))\n",
    "        assert self.nrows == len(self.rowheads) == len(self.rowmap), \"row dim failure\"\n",
    "        assert self.ncols == len(self.colheads) == len(self.colmap), \"col dim failure\"\n",
    "\n"
   ],
   "metadata": {
    "collapsed": false,
    "pycharm": {
     "name": "#%%\n"
    }
   }
  },
  {
   "cell_type": "code",
   "execution_count": 55,
   "outputs": [],
   "source": [
    "def load_order_table(p_table, associations, p_tree = None):\n",
    "    allowed_rowheads = {k for items in associations for k in items[1]}\n",
    "    allowed_colheads = {k for items in associations for k in items[2]}\n",
    "    simtable = Table(p_table)\n",
    "    row_order, col_order = simtable.rowheads, simtable.colheads # get_order(p_tree)\n",
    "\n",
    "    # reorder the rows\n",
    "    row_order = [simtable.rowmap[k] for k in row_order if k in simtable.rowmap and k in allowed_rowheads]\n",
    "    simtable.rowheads = reorder(simtable.rowheads, row_order)\n",
    "    simtable.data = simtable.data[row_order, :]\n",
    "    simtable.update()\n",
    "    # reorder the cols\n",
    "    col_order = [simtable.colmap[k] for k in col_order if k in simtable.colmap and k in allowed_colheads]\n",
    "    simtable.colheads = reorder(simtable.colheads, col_order)\n",
    "    simtable.data = simtable.data[:, col_order]\n",
    "    simtable.update()\n",
    "    return simtable"
   ],
   "metadata": {
    "collapsed": false,
    "pycharm": {
     "name": "#%%\n"
    }
   }
  },
  {
   "cell_type": "code",
   "execution_count": 56,
   "outputs": [],
   "source": [
    "def load_associations(path, largest=None, strongest=100, orderby='similarity'):\n",
    "    pairs = []\n",
    "    dic_order = {'pvalue': 3, 'similarity': 4, 'qvalue': 6, }\n",
    "    with open(path) as fh:\n",
    "        for row in csv.reader(fh, dialect=\"excel-tab\"):\n",
    "            if row[0] !='':\n",
    "                pairs.append([row[0], row[1].split(\";\"), row[2].split(\";\"), row[3], row[4], row[6]])\n",
    "    if largest is not None and strongest is not None:\n",
    "        sys.exit(\"Can only specify one of LARGEST and STRONGEST\")\n",
    "    elif largest is not None:\n",
    "        pairs = sorted(pairs, key=lambda row: len(row[1]) * len(row[2]), reverse=True)\n",
    "        pairs = pairs[0:min(len(pairs), largest)]\n",
    "    elif strongest is not None:\n",
    "        # not reversed, smaller p = stronger assoc\n",
    "        pairs = sorted(pairs, key=lambda row: abs(float(row[dic_order[orderby]])), reverse=True)\n",
    "        pairs = pairs[0:min(len(pairs), strongest)]\n",
    "    return pairs"
   ],
   "metadata": {
    "collapsed": false,
    "pycharm": {
     "name": "#%%\n"
    }
   }
  },
  {
   "cell_type": "code",
   "execution_count": 57,
   "outputs": [],
   "source": [
    "associations = load_associations(path = outputpath + '/X_Y.tsv')"
   ],
   "metadata": {
    "collapsed": false,
    "pycharm": {
     "name": "#%%\n"
    }
   }
  },
  {
   "cell_type": "code",
   "execution_count": 58,
   "outputs": [
    {
     "data": {
      "text/plain": "'/Users/rah/Documents/omicsEye/btest/demo/btest_output'"
     },
     "execution_count": 58,
     "metadata": {},
     "output_type": "execute_result"
    }
   ],
   "source": [
    "outputpath"
   ],
   "metadata": {
    "collapsed": false,
    "pycharm": {
     "name": "#%%\n"
    }
   }
  },
  {
   "cell_type": "code",
   "execution_count": 59,
   "outputs": [
    {
     "data": {
      "text/plain": "[['364',\n  ['X1'],\n  ['Y66'],\n  '0.02141550157442774',\n  '0.32797218145478496',\n  '214.15501574427742'],\n ['373',\n  ['X1'],\n  ['Y75'],\n  '0.033062320494592866',\n  '0.3050515086544998',\n  '165.31160247296432'],\n ['5546',\n  ['X27'],\n  ['Y74'],\n  '0.036443194179371946',\n  '0.29665354330708665',\n  '121.47731393123983'],\n ['372',\n  ['X1'],\n  ['Y74'],\n  '0.04023540815912691',\n  '0.294122261151493',\n  '100.58852039781728'],\n ['3125',\n  ['X15'],\n  ['Y41'],\n  '0.042550403987361936',\n  '0.28799212598425195',\n  '85.10080797472388'],\n ['3146',\n  ['X15'],\n  ['Y62'],\n  '0.042550403987361936',\n  '0.28799212598425195',\n  '70.91733997893657'],\n ['3150',\n  ['X15'],\n  ['Y66'],\n  '0.04377287255220005',\n  '0.28638245624131736',\n  '62.53267507457149'],\n ['5547',\n  ['X27'],\n  ['Y75'],\n  '0.045591011480972846',\n  '0.2840551181102362',\n  '56.988764351216055'],\n ['360',\n  ['X1'],\n  ['Y62'],\n  '0.0503542686720587',\n  '0.2811535846885949',\n  '45.77660788368973'],\n ['5538',\n  ['X27'],\n  ['Y66'],\n  '0.048837969047051434',\n  '0.2800807621724007',\n  '54.26441005227937'],\n ['4344',\n  ['X21'],\n  ['Y66'],\n  '0.04983872907905812',\n  '0.2788991945344788',\n  '49.83872907905812'],\n ['339',\n  ['X1'],\n  ['Y41'],\n  '0.052486761728789466',\n  '0.2786958113266747',\n  '37.490544091992476'],\n ['3158',\n  ['X15'],\n  ['Y74'],\n  '0.0508228544586897',\n  '0.277755905511811',\n  '42.35237871557475'],\n ['5513',\n  ['X27'],\n  ['Y41'],\n  '0.0508228544586897',\n  '0.277755905511811',\n  '39.0945034297613'],\n ['5136',\n  ['X25'],\n  ['Y62'],\n  '0.05533869783262412',\n  '0.2755320817863306',\n  '36.89246522174941'],\n ['7329',\n  ['X36'],\n  ['Y66'],\n  '0.05633742208480043',\n  '0.2716620927522072',\n  '35.210888803000266'],\n ['3159',\n  ['X15'],\n  ['Y75'],\n  '0.05653137997008717',\n  '0.2714566929133858',\n  '33.25375292358069'],\n ['3357',\n  ['X16'],\n  ['Y74'],\n  '0.05653137997008717',\n  '0.2714566929133858',\n  '31.406322205603985'],\n ['16310',\n  ['X81'],\n  ['Y92'],\n  '0.05860902732599511',\n  '0.2692913385826771',\n  '30.846856487365848'],\n ['17305',\n  ['X86'],\n  ['Y92'],\n  '0.05860902732599511',\n  '0.2692913385826771',\n  '29.304513662997557'],\n ['18300',\n  ['X91'],\n  ['Y92'],\n  '0.05860902732599511',\n  '0.2692913385826771',\n  '27.909060631426243'],\n ['7337',\n  ['X36'],\n  ['Y74'],\n  '0.05870490528504488',\n  '0.26919291338582674',\n  '26.684047856838582'],\n ['1554',\n  ['X7'],\n  ['Y62'],\n  '0.05880090931111398',\n  '0.26909448818897636',\n  '25.5656127439626'],\n ['4539',\n  ['X22'],\n  ['Y62'],\n  '0.05880090931111398',\n  '0.26909448818897636',\n  '24.500378879630826'],\n ['1558',\n  ['X7'],\n  ['Y66'],\n  '0.06000464138095432',\n  '0.26787122991387446',\n  '24.001856552381728'],\n ['3946',\n  ['X19'],\n  ['Y66'],\n  '0.06000464138095432',\n  '0.26787122991387446',\n  '23.078708223443968'],\n ['5339',\n  ['X26'],\n  ['Y66'],\n  '0.06000464138095432',\n  '0.26787122991387446',\n  '22.223941252205304'],\n ['5737',\n  ['X28'],\n  ['Y66'],\n  '0.06000464138095432',\n  '0.26787122991387446',\n  '21.43022906462654'],\n ['4319',\n  ['X21'],\n  ['Y41'],\n  '0.06035421058070553',\n  '0.26751968503937007',\n  '20.811796751967425'],\n ['17900',\n  ['X89'],\n  ['Y90'],\n  '0.06208748783534324',\n  '0.26580035955239295',\n  '20.69582927844775'],\n ['3161',\n  ['X15'],\n  ['Y77'],\n  '0.062745736947937',\n  '0.2651574803149606',\n  '20.240560305786133'],\n ['3942',\n  ['X19'],\n  ['Y62'],\n  '0.062745736947937',\n  '0.2651574803149606',\n  '19.608042796230315'],\n ['5347',\n  ['X26'],\n  ['Y74'],\n  '0.062745736947937',\n  '0.2651574803149606',\n  '19.013859681193033'],\n ['5534',\n  ['X27'],\n  ['Y62'],\n  '0.062745736947937',\n  '0.2651574803149606',\n  '18.45462851409912'],\n ['366',\n  ['X1'],\n  ['Y68'],\n  '0.06586001021671602',\n  '0.2648904460597187',\n  '14.63555782593689'],\n ['2350',\n  ['X11'],\n  ['Y62'],\n  '0.06438181108176685',\n  '0.2635826771653543',\n  '18.394803166219102'],\n ['16907',\n  ['X84'],\n  ['Y92'],\n  '0.06500405859153362',\n  '0.2629921259842519',\n  '18.05668294209267'],\n ['17106',\n  ['X85'],\n  ['Y92'],\n  '0.06500405859153362',\n  '0.2629921259842519',\n  '17.568664484198273'],\n ['17902',\n  ['X89'],\n  ['Y92'],\n  '0.06500405859153362',\n  '0.2629921259842519',\n  '17.106331208298318'],\n ['18306',\n  ['X91'],\n  ['Y98'],\n  '0.06500405859153362',\n  '0.2629921259842519',\n  '16.667707331162465'],\n ['18897',\n  ['X94'],\n  ['Y92'],\n  '0.06500405859153362',\n  '0.2629921259842519',\n  '16.2510146478834'],\n ['18903',\n  ['X94'],\n  ['Y98'],\n  '0.06500405859153362',\n  '0.2629921259842519',\n  '15.854648436959417'],\n ['19096',\n  ['X95'],\n  ['Y92'],\n  '0.06500405859153362',\n  '0.2629921259842519',\n  '15.477156807508003'],\n ['3324',\n  ['X16'],\n  ['Y41'],\n  '0.06521253859802476',\n  '0.26279527559055116',\n  '15.16570665070343'],\n ['15876',\n  ['X79'],\n  ['Y56'],\n  '0.06557604651719223',\n  '0.26245324391358504',\n  '14.903646935725506'],\n ['5532',\n  ['X27'],\n  ['Y60'],\n  '0.06657825547320405',\n  '0.2615180204262711',\n  '14.473533798522618'],\n ['356',\n  ['X1'],\n  ['Y58'],\n  '0.06950899135870736',\n  '0.2615175443183601',\n  '12.412319885483457'],\n ['5530',\n  ['X27'],\n  ['Y58'],\n  '0.06689966403305957',\n  '0.2612204724409449',\n  '14.233971070863738'],\n ['5549',\n  ['X27'],\n  ['Y77'],\n  '0.06689966403305957',\n  '0.2612204724409449',\n  '13.93743000688741'],\n ['11923',\n  ['X59'],\n  ['Y83'],\n  '0.0673268356401875',\n  '-0.2608267716535433',\n  '13.740170538813777'],\n ['17104',\n  ['X85'],\n  ['Y90'],\n  '0.06834793120353967',\n  '0.2598936848956731',\n  '13.669586240707934'],\n ['16905',\n  ['X84'],\n  ['Y90'],\n  '0.06878253250644986',\n  '0.25949990658522515',\n  '13.486771079696052'],\n ['18298',\n  ['X91'],\n  ['Y90'],\n  '0.06921932969228575',\n  '0.25910612827477714',\n  '13.311409556208798'],\n ['4916',\n  ['X24'],\n  ['Y41'],\n  '0.06949539748413289',\n  '0.2588582677165354',\n  '13.112339147949601'],\n ['4937',\n  ['X24'],\n  ['Y62'],\n  '0.06949539748413289',\n  '0.2588582677165354',\n  '12.869518052617202'],\n ['5543',\n  ['X27'],\n  ['Y71'],\n  '0.06949539748413289',\n  '0.2588582677165354',\n  '12.635526815296888'],\n ['15873',\n  ['X79'],\n  ['Y53'],\n  '0.07065417353598132',\n  '0.25782634876582117',\n  '12.395469041400231'],\n ['15887',\n  ['X79'],\n  ['Y67'],\n  '0.07110038415471931',\n  '0.25743257045537316',\n  '12.258686923227469'],\n ['3743',\n  ['X18'],\n  ['Y62'],\n  '0.07126992647827432',\n  '0.25728346456692913',\n  '12.079648555639714'],\n ['16316',\n  ['X81'],\n  ['Y98'],\n  '0.07194457274671139',\n  '0.2566929133858268',\n  '11.990762124451898'],\n ['16708',\n  ['X83'],\n  ['Y92'],\n  '0.07194457274671139',\n  '0.2566929133858268',\n  '11.794192253559244'],\n ['18101',\n  ['X90'],\n  ['Y92'],\n  '0.07194457274671139',\n  '0.2566929133858268',\n  '11.603963346243772'],\n ['7325',\n  ['X36'],\n  ['Y62'],\n  '0.07205750459830805',\n  '0.25659448818897634',\n  '11.43769914258858'],\n ['3349',\n  ['X16'],\n  ['Y66'],\n  '0.07313476978037256',\n  '0.25566169765534835',\n  '11.427307778183213'],\n ['5514',\n  ['X27'],\n  ['Y42'],\n  '0.07336509184931006',\n  '0.2554636789031332',\n  '11.286937207586163'],\n ['4353',\n  ['X21'],\n  ['Y75'],\n  '0.07399893997478706',\n  '0.2549212598425197',\n  '11.211960602240463'],\n ['2748',\n  ['X13'],\n  ['Y62'],\n  '0.07820348682450125',\n  '0.25401349160696546',\n  '10.026088054423237'],\n ['18895',\n  ['X94'],\n  ['Y90'],\n  '0.07510081903237778',\n  '0.25398701023895326',\n  '11.209077467519073'],\n ['563',\n  ['X2'],\n  ['Y66'],\n  '0.07545094591607177',\n  '0.25369241825881184',\n  '11.09572734059879'],\n ['15711',\n  ['X78'],\n  ['Y90'],\n  '0.07556912019474944',\n  '0.2535932319285053',\n  '10.952046405036151'],\n ['18099',\n  ['X90'],\n  ['Y90'],\n  '0.07603972601519168',\n  '0.2531994536180573',\n  '10.86281800217024'],\n ['18497',\n  ['X92'],\n  ['Y90'],\n  '0.07603972601519168',\n  '0.2531994536180573',\n  '10.709820565519955'],\n ['5539',\n  ['X27'],\n  ['Y67'],\n  '0.0767499718222892',\n  '0.2526087861523853',\n  '10.659718308651277'],\n ['571',\n  ['X2'],\n  ['Y74'],\n  '0.07681000890461309',\n  '0.2525590551181102',\n  '10.521919028029192'],\n ['3152',\n  ['X15'],\n  ['Y68'],\n  '0.07681000890461309',\n  '0.2525590551181102',\n  '10.379730933055823'],\n ['3556',\n  ['X17'],\n  ['Y74'],\n  '0.07681000890461309',\n  '0.2525590551181102',\n  '10.24133452061508'],\n ['4352',\n  ['X21'],\n  ['Y74'],\n  '0.07681000890461309',\n  '0.2525590551181102',\n  '10.106580119028038'],\n ['3124',\n  ['X15'],\n  ['Y40'],\n  '0.07740562096366194',\n  '0.25206734097551936',\n  '10.052678047228822'],\n ['358',\n  ['X1'],\n  ['Y60'],\n  '0.0825125962580557',\n  '0.25053612138879194',\n  '9.707364265653611'],\n ['18304',\n  ['X91'],\n  ['Y96'],\n  '0.07946024104606851',\n  '0.2503937007874016',\n  '10.058258360261837'],\n ['5314',\n  ['X26'],\n  ['Y41'],\n  '0.07970469694232273',\n  '0.25019685039370076',\n  '9.96308711779034'],\n ['5335',\n  ['X26'],\n  ['Y62'],\n  '0.07970469694232273',\n  '0.25019685039370076',\n  '9.840086042262064'],\n ['4543',\n  ['X22'],\n  ['Y66'],\n  '0.0807505368644499',\n  '0.2493600035864316',\n  '9.847626446884133'],\n ['3523',\n  ['X17'],\n  ['Y41'],\n  '0.08168171487544854',\n  '0.24862204724409445',\n  '9.841170466921511'],\n ['6732',\n  ['X33'],\n  ['Y66'],\n  '0.08224552486287864',\n  '0.2481784359485097',\n  '9.791133912247457'],\n ['15869',\n  ['X79'],\n  ['Y49'],\n  '0.08268456472147612',\n  '0.24783464566929134',\n  '9.614484269939084'],\n ['3548',\n  ['X17'],\n  ['Y66'],\n  '0.0832541962945141',\n  '0.2473907241898951',\n  '9.569447849944149'],\n ['3151',\n  ['X15'],\n  ['Y67'],\n  '0.08331690363646338',\n  '0.24734200125014344',\n  '9.467829958689022'],\n ['371',\n  ['X1'],\n  ['Y73'],\n  '0.08669685289967004',\n  '0.24729327388856126',\n  '9.030922177048962'],\n ['1753',\n  ['X8'],\n  ['Y62'],\n  '0.08356996203511732',\n  '0.24714566929133855',\n  '9.389883374732284'],\n ['17894',\n  ['X89'],\n  ['Y84'],\n  '0.08388875478706083',\n  '0.24689900065088946',\n  '9.32097275411787'],\n ['3921',\n  ['X19'],\n  ['Y41'],\n  '0.08471923406884507',\n  '0.246259842519685',\n  '9.309805941631327'],\n ['4551',\n  ['X22'],\n  ['Y74'],\n  '0.08471923406884507',\n  '0.246259842519685',\n  '9.208612398787508'],\n ['16308',\n  ['X81'],\n  ['Y90'],\n  '0.08542873840755222',\n  '0.24571766571954548',\n  '9.185885850274431'],\n ['16312',\n  ['X81'],\n  ['Y94'],\n  '0.08646762679827115',\n  '0.2449301090986495',\n  '9.19868370194374'],\n ['15889',\n  ['X79'],\n  ['Y69'],\n  '0.0865981794620969',\n  '0.24483166452103752',\n  '9.115597838115464'],\n ['343',\n  ['X1'],\n  ['Y45'],\n  '0.09015353349264983',\n  '0.24470532866182085',\n  '7.640129957004223'],\n ['3544',\n  ['X17'],\n  ['Y62'],\n  '0.08679291263700464',\n  '0.24468503937007874',\n  '8.94772295226852'],\n ['4340',\n  ['X21'],\n  ['Y62'],\n  '0.08679291263700464',\n  '0.24468503937007874',\n  '8.85641965683721'],\n ['4941',\n  ['X24'],\n  ['Y66'],\n  '0.08686113347769195',\n  '0.24463373303474406',\n  '8.77385186643353']]"
     },
     "execution_count": 59,
     "metadata": {},
     "output_type": "execute_result"
    }
   ],
   "source": [
    "associations"
   ],
   "metadata": {
    "collapsed": false,
    "pycharm": {
     "name": "#%%\n"
    }
   }
  },
  {
   "cell_type": "code",
   "execution_count": 60,
   "outputs": [],
   "source": [
    "def plot(simtable, associations, cmap, mask, axlabels, outfile, similarity):\n",
    "    # reverse roworder of simtable to match plotting\n",
    "    order = range(simtable.nrows)[::-1]\n",
    "    simtable.rowheads = reorder(simtable.rowheads, order)\n",
    "    simtable.data = simtable.data[order, :]\n",
    "    simtable.update()\n",
    "    # scale of the data\n",
    "    tmin = -1 # if we want to use the min in the study #np.min(simtable.data,)\n",
    "    tmax = 1 # if we want to use the max in the study np.max(simtable.data)\n",
    "    crit = 0\n",
    "    while crit < max(abs(tmin), tmax):\n",
    "        crit += c_simstep\n",
    "    vmin = 0 if tmin >= 0 else -crit\n",
    "    vmax = crit\n",
    "    # masking\n",
    "    if mask:\n",
    "        mask_table(simtable, associations)\n",
    "    # begin plotting\n",
    "    fig = plt.figure()\n",
    "    width = max(c_unit_w * simtable.ncols, c_min_width)\n",
    "    width += c_char_pad * max(list(map(len, simtable.rowheads)))\n",
    "    height = max(c_unit_h * simtable.nrows, c_min_height)\n",
    "    height += c_char_pad * max(list(map(len, simtable.colheads)))\n",
    "    fig.set_size_inches(width, height)\n",
    "    span = simtable.ncols\n",
    "    cbarspan = c_cbarspan\n",
    "    ax = plt.subplot2grid((1, span), (0, cbarspan), rowspan=1, colspan=span - cbarspan)\n",
    "    ax_cbar = plt.subplot2grid((2, span), (0, 0), rowspan=2, colspan=cbarspan)\n",
    "    ax.yaxis.tick_right()\n",
    "    ax.yaxis.set_label_position(\"right\")\n",
    "    ax.set_yticks([0.5 + i for i in range(simtable.nrows)])\n",
    "    ax.set_xticks([0.5 + i for i in range(simtable.ncols)])\n",
    "    ax.set_yticklabels(simtable.rowheads, size=c_large_text)\n",
    "    ax.set_xticklabels(simtable.colheads, rotation=90, rotation_mode=\"anchor\", ha=\"right\", va=\"center\",\n",
    "                       size=c_large_text)\n",
    "    ax.xaxis.set_ticks_position('none')\n",
    "    ax.yaxis.set_ticks_position('none')\n",
    "    ax.set_ylim(0, len(simtable.rowheads))\n",
    "    ax.set_xlim(0, len(simtable.colheads))\n",
    "    ax.set_ylabel(axlabels[0], size=c_giant_text, fontweight='bold')\n",
    "    ax.set_xlabel(axlabels[1], size=c_giant_text, fontweight='bold')\n",
    "    # if masking, draw a light grid to help with orientation\n",
    "    if mask:\n",
    "        kwargs = {\"zorder\": 0, \"color\": c_grid_color}\n",
    "        xmin, xmax = ax.get_xlim()\n",
    "        ymin, ymax = ax.get_ylim()\n",
    "        for y in ax.get_yticks():\n",
    "            ax.add_line(plt.Line2D([xmin, xmax], [y, y], **kwargs))\n",
    "        for x in ax.get_xticks():\n",
    "            ax.add_line(plt.Line2D([x, x], [ymin, ymax], **kwargs))\n",
    "    # main heatmap\n",
    "    heatmap = ax.pcolormesh(simtable.data, cmap=cmap, vmin=vmin, vmax=vmax)\n",
    "    # craziness for getting cbar on the left with left-facing ticks\n",
    "    norm = matplotlib.colors.Normalize(vmin=vmin, vmax=vmax)\n",
    "    cbar = matplotlib.colorbar.ColorbarBase(\n",
    "        ax_cbar,\n",
    "        norm=norm,\n",
    "        cmap=plt.get_cmap(cmap),\n",
    "        orientation=\"vertical\",\n",
    "    )\n",
    "    cbar.set_ticks([])\n",
    "    twin_ax = plt.twinx(ax=cbar.ax)\n",
    "    twin_ax.yaxis.set_label_position(\"left\")\n",
    "    twin_ax.yaxis.tick_left()\n",
    "    [tick.set_size(c_large_text) for tick in twin_ax.get_yticklabels()]\n",
    "    twin_ax.set_ylim(vmin, vmax)\n",
    "    if similarity != \"Pairwise Similarity\":\n",
    "        similarity = \"Pairwise \" + similarity\n",
    "    twin_ax.set_ylabel(similarity, size=c_giant_text)  # , fontsize=c_large_text )\n",
    "    ticks = [vmin]\n",
    "    while ticks[-1] < vmax:\n",
    "        ticks.append(ticks[-1] + c_simstep)\n",
    "    twin_ax.set_yticks(ticks)\n",
    "    #\n",
    "    # number is used as rank of the association based on the order\n",
    "    number = 0\n",
    "    # add associations\n",
    "    for sim_rank, row_items, col_items, sig, _, _ in associations:\n",
    "        number += 1\n",
    "        row_items = row_items[::-1]\n",
    "        y1 = simtable.rowmap[row_items[0]]\n",
    "        y2 = simtable.rowmap[row_items[-1]]\n",
    "        x1 = simtable.colmap[col_items[0]]\n",
    "        x2 = simtable.colmap[col_items[-1]]\n",
    "        delx = abs(x2 - x1) + 1\n",
    "        dely = abs(y2 - y1) + 1\n",
    "        # box\n",
    "        ax.add_patch(\n",
    "            patches.Rectangle(\n",
    "                (x1, y1),\n",
    "                x2 - x1 + 1,\n",
    "                y2 - y1 + 1,\n",
    "                facecolor=\"none\",\n",
    "                edgecolor=\"black\",\n",
    "                linewidth=c_line_width,\n",
    "                clip_on=False,\n",
    "            )\n",
    "        )\n",
    "        # label\n",
    "        text = str(number)\n",
    "        size = c_label_scale * min(delx, dely)\n",
    "        size /= 1 if len(text) == 1 else c_label_aspect * len(text)\n",
    "        size = int(size)\n",
    "        text = ax.text(  # np.mean( [x1, x2] )+0.5+c_label_shift*size,\n",
    "            np.mean([x1, x2]) + .75 + c_label_shift * size if (\n",
    "                    len(row_items) % 2 != 0 and len(row_items) > 1 and len(col_items) > 1) else \\\n",
    "                np.mean([x1, x2]) + .5 + c_label_shift * size if len(row_items) == 1 else np.mean(\n",
    "                [x1, x2]) + 0.5 + c_label_shift * size,\n",
    "            np.mean([y1, y2]) + 0.5 + c_label_shift * size,\n",
    "            text,\n",
    "            size=size,\n",
    "            color=\"white\",\n",
    "            ha=\"center\",\n",
    "            va=\"center\",\n",
    "            weight=\"bold\",\n",
    "        )\n",
    "        text.set_path_effects([\n",
    "            path_effects.Stroke(linewidth=c_outline_width, foreground='black'),\n",
    "            path_effects.Normal(),\n",
    "        ])\n",
    "    # craziness for hiding the border\n",
    "    plt.setp([child for child in ax.get_children() if isinstance(child, matplotlib.spines.Spine)], visible=False)\n",
    "    # warnings.filterwarnings(\"ignore\")\n",
    "    try:\n",
    "        plt.tight_layout()\n",
    "    except:\n",
    "        pass\n",
    "    plt.savefig(outfile, dpi=paper_dpi, bbox_inches='tight')"
   ],
   "metadata": {
    "collapsed": false,
    "pycharm": {
     "name": "#%%\n"
    }
   }
  },
  {
   "cell_type": "code",
   "execution_count": 61,
   "outputs": [
    {
     "name": "stdout",
     "output_type": "stream",
     "text": [
      "100 100 100\n",
      "34 34 34\n",
      "34 34 34\n"
     ]
    }
   ],
   "source": [
    "simtable = load_order_table(outputpath + '/simtable.tsv', associations)"
   ],
   "metadata": {
    "collapsed": false,
    "pycharm": {
     "name": "#%%\n"
    }
   }
  },
  {
   "cell_type": "code",
   "execution_count": 62,
   "outputs": [
    {
     "data": {
      "text/plain": "'/Users/rah/Documents/omicsEye/btest/demo/btest_output'"
     },
     "execution_count": 62,
     "metadata": {},
     "output_type": "execute_result"
    }
   ],
   "source": [
    "outputpath"
   ],
   "metadata": {
    "collapsed": false,
    "pycharm": {
     "name": "#%%\n"
    }
   }
  },
  {
   "cell_type": "code",
   "execution_count": 63,
   "outputs": [
    {
     "data": {
      "text/plain": "<__main__.Table at 0x7f9510b6a400>"
     },
     "execution_count": 63,
     "metadata": {},
     "output_type": "execute_result"
    }
   ],
   "source": [
    "simtable\n"
   ],
   "metadata": {
    "collapsed": false,
    "pycharm": {
     "name": "#%%\n"
    }
   }
  },
  {
   "cell_type": "code",
   "execution_count": 64,
   "outputs": [
    {
     "name": "stdout",
     "output_type": "stream",
     "text": [
      "34 34 34\n"
     ]
    }
   ],
   "source": [
    "plot(\n",
    "    simtable,\n",
    "    associations,\n",
    "    cmap=\"RdBu_r\",\n",
    "    mask=False,\n",
    "    axlabels=[\"\",\"\"],\n",
    "    outfile=\"/Users/rah/Documents/omicsEye/btest/demo/btest_output/blockplot.pdf\",\n",
    "    similarity=\"Spearman\"\n",
    ")"
   ],
   "metadata": {
    "collapsed": false,
    "pycharm": {
     "name": "#%%\n"
    }
   }
  },
  {
   "cell_type": "code",
   "execution_count": null,
   "outputs": [],
   "source": [],
   "metadata": {
    "collapsed": false,
    "pycharm": {
     "name": "#%%\n"
    }
   }
  }
 ],
 "metadata": {
  "accelerator": "TPU",
  "colab": {
   "collapsed_sections": [
    "yfILUg1HmAkM"
   ],
   "machine_shape": "hm",
   "name": "15-Ensemble-Evaluation.ipynb",
   "provenance": []
  },
  "kernelspec": {
   "display_name": "Python 3",
   "language": "python",
   "name": "python3"
  },
  "language_info": {
   "codemirror_mode": {
    "name": "ipython",
    "version": 3
   },
   "file_extension": ".py",
   "mimetype": "text/x-python",
   "name": "python",
   "nbconvert_exporter": "python",
   "pygments_lexer": "ipython3",
   "version": "3.7.6"
  }
 },
 "nbformat": 4,
 "nbformat_minor": 1
}