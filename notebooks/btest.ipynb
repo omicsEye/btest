{
 "cells": [
  {
   "cell_type": "markdown",
   "metadata": {
    "colab_type": "text",
    "id": "AmPqBsydh5J-",
    "pycharm": {
     "name": "#%% md\n"
    }
   },
   "source": [
    "# *btest* initial steps\n",
    "\n",
    "step-by-step"
   ]
  },
  {
   "cell_type": "code",
   "execution_count": 1,
   "outputs": [],
   "source": [
    "import argparse\n",
    "import csv\n",
    "import itertools\n",
    "import logging\n",
    "import os\n",
    "import sys\n",
    "import shutil\n",
    "import time\n",
    "import math\n",
    "import random\n",
    "from scipy.stats import pearsonr\n",
    "import numpy as np\n",
    "import pandas as pd\n",
    "import math\n",
    "from scipy.stats import spearmanr\n",
    "from btest import config\n",
    "from btest import utils\n",
    "from btest import blockplot\n",
    "from scipy.stats import t"
   ],
   "metadata": {
    "collapsed": false,
    "pycharm": {
     "name": "#%%\n"
    }
   }
  },
  {
   "cell_type": "code",
   "execution_count": 2,
   "outputs": [],
   "source": [
    "method = 'spearman'\n",
    "min_var = 0.0\n",
    "fdr =0.1"
   ],
   "metadata": {
    "collapsed": false,
    "pycharm": {
     "name": "#%%\n"
    }
   }
  },
  {
   "cell_type": "code",
   "execution_count": 3,
   "outputs": [],
   "source": [
    "dataX , dataY, featuresX, featuresY  = utils.readData('../demo/X_dataset.txt', '../demo/Y_dataset.txt', min_var=min_var)"
   ],
   "metadata": {
    "collapsed": false,
    "pycharm": {
     "name": "#%%\n"
    }
   }
  },
  {
   "cell_type": "code",
   "execution_count": 39,
   "outputs": [
    {
     "name": "stdout",
     "output_type": "stream",
     "text": [
      "CPU times: user 10.2 s, sys: 35.5 ms, total: 10.3 s\n",
      "Wall time: 10.4 s\n"
     ]
    }
   ],
   "source": [
    "%%time\n",
    "within_X = utils.btest_corr(dataX, featuresX, method=method, fdr=fdr, Type='withinX')\n",
    "within_Y  = utils.btest_corr(dataY, featuresY, method=method, fdr=fdr, Type='withinY')\n",
    "dataAll = np.concatenate((dataX, dataY), axis=0)\n",
    "X_Y = utils.btest_corr(dataAll, featuresX, featuresY, method=method, fdr=fdr, Type='X_Y')"
   ],
   "metadata": {
    "collapsed": false,
    "pycharm": {
     "name": "#%%\n"
    }
   }
  },
  {
   "cell_type": "code",
   "execution_count": 5,
   "outputs": [
    {
     "name": "stdout",
     "output_type": "stream",
     "text": [
      "CPU times: user 2 s, sys: 14.6 ms, total: 2.01 s\n",
      "Wall time: 2.07 s\n"
     ]
    }
   ],
   "source": [
    "%%time\n",
    "from btest import utils\n",
    "from btest.utils import bh\n",
    "within_X = utils.btest_corr_2(dataX, featuresX, method=method, fdr=fdr, Type='withinX')\n",
    "within_Y  = utils.btest_corr_2(dataY, featuresY, method=method, fdr=fdr, Type='withinY')\n",
    "dataAll = np.concatenate((dataX, dataY), axis=0)\n",
    "X_Y = utils.btest_corr_2(dataAll, featuresX, featuresY, method=method, fdr=fdr, Type='X_Y')"
   ],
   "metadata": {
    "collapsed": false,
    "pycharm": {
     "name": "#%%\n"
    }
   }
  },
  {
   "cell_type": "code",
   "execution_count": 76,
   "outputs": [],
   "source": [
    "dataAll = dataX\n",
    "features = featuresX\n",
    "features_y = None\n",
    "Type = 'withinX'\n",
    "iRow = list(range(0, len(features)))\n",
    "if Type == 'X_Y':\n",
    "    iCol = list(range(len(features), len(features)+len(features_y)-1))\n",
    "    features_y = features + features_y\n",
    "else:\n",
    "    features_y = features\n",
    "    iCol = list(range(len(features)))\n",
    "tests = []\n",
    "\n",
    "# creating the complete dataset\n",
    "dataAll2 = pd.DataFrame(dataAll.T, columns=features_y)\n",
    "cr = dataAll2.corr(method=method)\n",
    "\n",
    "# calculating t-statistics, based on the correlations\n",
    "t_stat = (cr*(dataAll2.shape[0]-2)**.5)/(1-cr**2)**.5\n",
    "\n",
    "# calculating p-values based on the t-statistics\n",
    "pv = 2 * (1 - t.cdf(abs(t_stat), df=dataAll2.shape[0]-2))\n",
    "#rho_long_format = cr.stack().reset_index().rename(columns={'level_0':'Feature_1','level_1':'Feature_2', 0:'Correlation'})\n",
    "#pval_long_format = pv.stack().reset_index().rename(columns={'level_0':'Feature_1','level_1':'Feature_2', 0:'pval'})\n",
    "#results = pd.concat([pval_long_format, rho_long_format[\"Correlation\"]], axis=1)\n"
   ],
   "metadata": {
    "collapsed": false,
    "pycharm": {
     "name": "#%%\n"
    }
   }
  },
  {
   "cell_type": "code",
   "execution_count": 78,
   "outputs": [],
   "source": [
    "cr = cr.to_numpy()\n",
    "#pv = pv.to_numpy()"
   ],
   "metadata": {
    "collapsed": false,
    "pycharm": {
     "name": "#%%\n"
    }
   }
  },
  {
   "cell_type": "code",
   "execution_count": 79,
   "outputs": [],
   "source": [
    "for i in iRow:\n",
    "    for j in iCol:\n",
    "        if i<=j:\n",
    "            #print(i, j)\n",
    "            #print(dataAll[i])\n",
    "            X = dataAll[i]\n",
    "            Y = dataAll[j]\n",
    "            nas = np.logical_or(X != X, Y != Y)\n",
    "            not_na = sum(~nas)\n",
    "            #X = Y[~nas]\n",
    "            #Y = Y[~nas]\n",
    "            #new_X, new_Y = remove_pairs_with_a_missing(X, Y)\n",
    "            correlation = cr[i, j]\n",
    "            pval =  pv[i, j]\n",
    "            tests.append([features[i], features_y[j], pval, correlation, not_na])\n",
    "results = pd.DataFrame(tests, columns=['Feature_1','Feature_2','pval', 'Correlation', 'Not_NAs'])\n",
    "\n",
    "p_adust, p_threshold = bh(results[\"pval\"].values, fdr)\n",
    "\n",
    "results[\"P_adusted\"] = p_adust\n",
    "results[\"bh_fdr_threshold\"] = p_threshold\n",
    "results['Type'] = Type\n",
    "results = results.sort_values(['pval', 'Correlation'],\n",
    "                              ascending=[True, False])"
   ],
   "metadata": {
    "collapsed": false,
    "pycharm": {
     "name": "#%%\n"
    }
   }
  },
  {
   "cell_type": "code",
   "execution_count": 14,
   "outputs": [],
   "source": [
    "# feature names for the complete dataset\n",
    "featuresAll = featuresX.copy()\n",
    "featuresAll.extend(featuresY)"
   ],
   "metadata": {
    "collapsed": false,
    "pycharm": {
     "name": "#%%\n"
    }
   }
  },
  {
   "cell_type": "code",
   "execution_count": 61,
   "outputs": [
    {
     "data": {
      "text/plain": "     Feature_1 Feature_2      pval  Correlation  Not_NAs  P_adusted  \\\n0           X0        X0  0.000000     1.000000       50   0.000000   \n100         X1        X1  0.000000     1.000000       49   0.000000   \n199         X2        X2  0.000000     1.000000       50   0.000000   \n297         X3        X3  0.000000     1.000000       50   0.000000   \n394         X4        X4  0.000000     1.000000       49   0.000000   \n...        ...       ...       ...          ...      ...        ...   \n3137       X38       X78  0.998917    -0.000197       50   0.999709   \n3149       X38       X90  0.998917    -0.000197       50   0.999511   \n3206       X39       X86  0.998917    -0.000197       50   0.999313   \n4435       X65       X80  0.998917    -0.000197       50   0.999115   \n458         X4       X68  0.999856    -0.000026       49   0.999856   \n\n      bh_fdr_threshold     Type  \n0         1.110223e-15  withinX  \n100       1.110223e-15  withinX  \n199       1.110223e-15  withinX  \n297       1.110223e-15  withinX  \n394       1.110223e-15  withinX  \n...                ...      ...  \n3137      1.110223e-15  withinX  \n3149      1.110223e-15  withinX  \n3206      1.110223e-15  withinX  \n4435      1.110223e-15  withinX  \n458       1.110223e-15  withinX  \n\n[5050 rows x 8 columns]",
      "text/html": "<div>\n<style scoped>\n    .dataframe tbody tr th:only-of-type {\n        vertical-align: middle;\n    }\n\n    .dataframe tbody tr th {\n        vertical-align: top;\n    }\n\n    .dataframe thead th {\n        text-align: right;\n    }\n</style>\n<table border=\"1\" class=\"dataframe\">\n  <thead>\n    <tr style=\"text-align: right;\">\n      <th></th>\n      <th>Feature_1</th>\n      <th>Feature_2</th>\n      <th>pval</th>\n      <th>Correlation</th>\n      <th>Not_NAs</th>\n      <th>P_adusted</th>\n      <th>bh_fdr_threshold</th>\n      <th>Type</th>\n    </tr>\n  </thead>\n  <tbody>\n    <tr>\n      <th>0</th>\n      <td>X0</td>\n      <td>X0</td>\n      <td>0.000000</td>\n      <td>1.000000</td>\n      <td>50</td>\n      <td>0.000000</td>\n      <td>1.110223e-15</td>\n      <td>withinX</td>\n    </tr>\n    <tr>\n      <th>100</th>\n      <td>X1</td>\n      <td>X1</td>\n      <td>0.000000</td>\n      <td>1.000000</td>\n      <td>49</td>\n      <td>0.000000</td>\n      <td>1.110223e-15</td>\n      <td>withinX</td>\n    </tr>\n    <tr>\n      <th>199</th>\n      <td>X2</td>\n      <td>X2</td>\n      <td>0.000000</td>\n      <td>1.000000</td>\n      <td>50</td>\n      <td>0.000000</td>\n      <td>1.110223e-15</td>\n      <td>withinX</td>\n    </tr>\n    <tr>\n      <th>297</th>\n      <td>X3</td>\n      <td>X3</td>\n      <td>0.000000</td>\n      <td>1.000000</td>\n      <td>50</td>\n      <td>0.000000</td>\n      <td>1.110223e-15</td>\n      <td>withinX</td>\n    </tr>\n    <tr>\n      <th>394</th>\n      <td>X4</td>\n      <td>X4</td>\n      <td>0.000000</td>\n      <td>1.000000</td>\n      <td>49</td>\n      <td>0.000000</td>\n      <td>1.110223e-15</td>\n      <td>withinX</td>\n    </tr>\n    <tr>\n      <th>...</th>\n      <td>...</td>\n      <td>...</td>\n      <td>...</td>\n      <td>...</td>\n      <td>...</td>\n      <td>...</td>\n      <td>...</td>\n      <td>...</td>\n    </tr>\n    <tr>\n      <th>3137</th>\n      <td>X38</td>\n      <td>X78</td>\n      <td>0.998917</td>\n      <td>-0.000197</td>\n      <td>50</td>\n      <td>0.999709</td>\n      <td>1.110223e-15</td>\n      <td>withinX</td>\n    </tr>\n    <tr>\n      <th>3149</th>\n      <td>X38</td>\n      <td>X90</td>\n      <td>0.998917</td>\n      <td>-0.000197</td>\n      <td>50</td>\n      <td>0.999511</td>\n      <td>1.110223e-15</td>\n      <td>withinX</td>\n    </tr>\n    <tr>\n      <th>3206</th>\n      <td>X39</td>\n      <td>X86</td>\n      <td>0.998917</td>\n      <td>-0.000197</td>\n      <td>50</td>\n      <td>0.999313</td>\n      <td>1.110223e-15</td>\n      <td>withinX</td>\n    </tr>\n    <tr>\n      <th>4435</th>\n      <td>X65</td>\n      <td>X80</td>\n      <td>0.998917</td>\n      <td>-0.000197</td>\n      <td>50</td>\n      <td>0.999115</td>\n      <td>1.110223e-15</td>\n      <td>withinX</td>\n    </tr>\n    <tr>\n      <th>458</th>\n      <td>X4</td>\n      <td>X68</td>\n      <td>0.999856</td>\n      <td>-0.000026</td>\n      <td>49</td>\n      <td>0.999856</td>\n      <td>1.110223e-15</td>\n      <td>withinX</td>\n    </tr>\n  </tbody>\n</table>\n<p>5050 rows × 8 columns</p>\n</div>"
     },
     "execution_count": 61,
     "metadata": {},
     "output_type": "execute_result"
    }
   ],
   "source": [
    "results"
   ],
   "metadata": {
    "collapsed": false,
    "pycharm": {
     "name": "#%%\n"
    }
   }
  },
  {
   "cell_type": "code",
   "execution_count": 15,
   "outputs": [],
   "source": [
    "# creating the complete dataset\n",
    "dataAll_df = pd.DataFrame(dataAll.T, columns=featuresAll)"
   ],
   "metadata": {
    "collapsed": false,
    "pycharm": {
     "name": "#%%\n"
    }
   }
  },
  {
   "cell_type": "code",
   "execution_count": 16,
   "outputs": [
    {
     "name": "stdout",
     "output_type": "stream",
     "text": [
      "CPU times: user 13.1 ms, sys: 2.85 ms, total: 16 ms\n",
      "Wall time: 17.6 ms\n"
     ]
    }
   ],
   "source": [
    "%%time\n",
    "# correlation\n",
    "cr = dataAll_df.corr(method='pearson')\n",
    "\n",
    "# calculaing t-statistics, based on the correlations\n",
    "t_stat = (cr*(dataAll_df.shape[0]-2)**.5)/(1-cr**2)**.5\n",
    "\n",
    "# calculating p-values based on the t-statistics\n",
    "pv = 2 * (1 - t.cdf(abs(t_stat), df=dataAll_df.shape[0]-2))"
   ],
   "metadata": {
    "collapsed": false,
    "pycharm": {
     "name": "#%%\n"
    }
   }
  },
  {
   "cell_type": "code",
   "execution_count": 17,
   "metadata": {
    "pycharm": {
     "name": "#%%\n"
    }
   },
   "outputs": [
    {
     "data": {
      "text/plain": "           X0        X1        X2        X3        X4        X5        X6  \\\nX0   1.000000  0.904965  0.908268  0.926614  0.930308  0.932730  0.896831   \nX1   0.904965  1.000000  0.940657  0.936643  0.911301  0.904965  0.910148   \nX2   0.908268  0.940657  1.000000  0.926614  0.928135  0.914384  0.921874   \nX3   0.926614  0.936643  0.926614  1.000000  0.936643  0.920499  0.921874   \nX4   0.930308  0.911301  0.928135  0.936643  1.000000  0.923972  0.948656   \n..        ...       ...       ...       ...       ...       ...       ...   \nY95 -0.065445  0.071999  0.025115  0.013041 -0.084938 -0.029221 -0.023085   \nY96 -0.070205 -0.000779 -0.039628 -0.033513 -0.108976 -0.045744 -0.064431   \nY97 -0.082436  0.037408 -0.009051 -0.027397 -0.128070 -0.064090 -0.051977   \nY98 -0.076321  0.037408 -0.002935 -0.015166 -0.108976 -0.051859 -0.058204   \nY99 -0.103537  0.003003 -0.042054 -0.048202 -0.118559 -0.072795 -0.067336   \n\n           X7        X8        X9  ...       Y90       Y91       Y92  \\\nX0   0.926614  0.957192  0.908268  ...  0.000972 -0.082436 -0.076321   \nX1   0.936643  0.930308  0.930308  ...  0.129303  0.018314  0.043772   \nX2   0.938845  0.926614  0.932730  ...  0.073855 -0.009051  0.003180   \nX3   0.963307  0.944961  0.932730  ...  0.061708 -0.021282 -0.009051   \nX4   0.930308  0.911301  0.949315  ... -0.028619 -0.102612 -0.115341   \n..        ...       ...       ...  ...       ...       ...       ...   \nY95 -0.017146 -0.005071 -0.041295  ...  0.934062  0.924677  0.924677   \nY96 -0.064090 -0.039628 -0.082436  ...  0.918090  0.951076  0.951076   \nY97 -0.045744 -0.021282 -0.057975  ...  0.924164  0.963307  0.957192   \nY98 -0.033513 -0.015166 -0.057975  ...  0.912017  0.944961  0.963307   \nY99 -0.085092 -0.060499 -0.078944  ...  0.908481  0.947816  0.941667   \n\n          Y93       Y94       Y95       Y96       Y97       Y98       Y99  \nX0  -0.077985 -0.125818 -0.065445 -0.070205 -0.082436 -0.076321 -0.103537  \nX1   0.047183 -0.015886  0.071999 -0.000779  0.037408  0.037408  0.003003  \nX2   0.013119 -0.059407  0.025115 -0.039628 -0.009051 -0.002935 -0.042054  \nX3  -0.005102 -0.059407  0.013041 -0.033513 -0.027397 -0.015166 -0.048202  \nX4  -0.117056 -0.172823 -0.084938 -0.108976 -0.128070 -0.108976 -0.118559  \n..        ...       ...       ...       ...       ...       ...       ...  \nY95  0.952050  0.904637  1.000000  0.912602  0.924677  0.918639  0.921260  \nY96  0.942385  0.924677  0.912602  1.000000  0.938845  0.938845  0.941667  \nY97  0.966679  0.942788  0.924677  0.938845  1.000000  0.938845  0.935519  \nY98  0.954532  0.936751  0.918639  0.938845  0.938845  1.000000  0.941667  \nY99  0.926800  0.903051  0.921260  0.941667  0.935519  0.941667  1.000000  \n\n[200 rows x 200 columns]",
      "text/html": "<div>\n<style scoped>\n    .dataframe tbody tr th:only-of-type {\n        vertical-align: middle;\n    }\n\n    .dataframe tbody tr th {\n        vertical-align: top;\n    }\n\n    .dataframe thead th {\n        text-align: right;\n    }\n</style>\n<table border=\"1\" class=\"dataframe\">\n  <thead>\n    <tr style=\"text-align: right;\">\n      <th></th>\n      <th>X0</th>\n      <th>X1</th>\n      <th>X2</th>\n      <th>X3</th>\n      <th>X4</th>\n      <th>X5</th>\n      <th>X6</th>\n      <th>X7</th>\n      <th>X8</th>\n      <th>X9</th>\n      <th>...</th>\n      <th>Y90</th>\n      <th>Y91</th>\n      <th>Y92</th>\n      <th>Y93</th>\n      <th>Y94</th>\n      <th>Y95</th>\n      <th>Y96</th>\n      <th>Y97</th>\n      <th>Y98</th>\n      <th>Y99</th>\n    </tr>\n  </thead>\n  <tbody>\n    <tr>\n      <th>X0</th>\n      <td>1.000000</td>\n      <td>0.904965</td>\n      <td>0.908268</td>\n      <td>0.926614</td>\n      <td>0.930308</td>\n      <td>0.932730</td>\n      <td>0.896831</td>\n      <td>0.926614</td>\n      <td>0.957192</td>\n      <td>0.908268</td>\n      <td>...</td>\n      <td>0.000972</td>\n      <td>-0.082436</td>\n      <td>-0.076321</td>\n      <td>-0.077985</td>\n      <td>-0.125818</td>\n      <td>-0.065445</td>\n      <td>-0.070205</td>\n      <td>-0.082436</td>\n      <td>-0.076321</td>\n      <td>-0.103537</td>\n    </tr>\n    <tr>\n      <th>X1</th>\n      <td>0.904965</td>\n      <td>1.000000</td>\n      <td>0.940657</td>\n      <td>0.936643</td>\n      <td>0.911301</td>\n      <td>0.904965</td>\n      <td>0.910148</td>\n      <td>0.936643</td>\n      <td>0.930308</td>\n      <td>0.930308</td>\n      <td>...</td>\n      <td>0.129303</td>\n      <td>0.018314</td>\n      <td>0.043772</td>\n      <td>0.047183</td>\n      <td>-0.015886</td>\n      <td>0.071999</td>\n      <td>-0.000779</td>\n      <td>0.037408</td>\n      <td>0.037408</td>\n      <td>0.003003</td>\n    </tr>\n    <tr>\n      <th>X2</th>\n      <td>0.908268</td>\n      <td>0.940657</td>\n      <td>1.000000</td>\n      <td>0.926614</td>\n      <td>0.928135</td>\n      <td>0.914384</td>\n      <td>0.921874</td>\n      <td>0.938845</td>\n      <td>0.926614</td>\n      <td>0.932730</td>\n      <td>...</td>\n      <td>0.073855</td>\n      <td>-0.009051</td>\n      <td>0.003180</td>\n      <td>0.013119</td>\n      <td>-0.059407</td>\n      <td>0.025115</td>\n      <td>-0.039628</td>\n      <td>-0.009051</td>\n      <td>-0.002935</td>\n      <td>-0.042054</td>\n    </tr>\n    <tr>\n      <th>X3</th>\n      <td>0.926614</td>\n      <td>0.936643</td>\n      <td>0.926614</td>\n      <td>1.000000</td>\n      <td>0.936643</td>\n      <td>0.920499</td>\n      <td>0.921874</td>\n      <td>0.963307</td>\n      <td>0.944961</td>\n      <td>0.932730</td>\n      <td>...</td>\n      <td>0.061708</td>\n      <td>-0.021282</td>\n      <td>-0.009051</td>\n      <td>-0.005102</td>\n      <td>-0.059407</td>\n      <td>0.013041</td>\n      <td>-0.033513</td>\n      <td>-0.027397</td>\n      <td>-0.015166</td>\n      <td>-0.048202</td>\n    </tr>\n    <tr>\n      <th>X4</th>\n      <td>0.930308</td>\n      <td>0.911301</td>\n      <td>0.928135</td>\n      <td>0.936643</td>\n      <td>1.000000</td>\n      <td>0.923972</td>\n      <td>0.948656</td>\n      <td>0.930308</td>\n      <td>0.911301</td>\n      <td>0.949315</td>\n      <td>...</td>\n      <td>-0.028619</td>\n      <td>-0.102612</td>\n      <td>-0.115341</td>\n      <td>-0.117056</td>\n      <td>-0.172823</td>\n      <td>-0.084938</td>\n      <td>-0.108976</td>\n      <td>-0.128070</td>\n      <td>-0.108976</td>\n      <td>-0.118559</td>\n    </tr>\n    <tr>\n      <th>...</th>\n      <td>...</td>\n      <td>...</td>\n      <td>...</td>\n      <td>...</td>\n      <td>...</td>\n      <td>...</td>\n      <td>...</td>\n      <td>...</td>\n      <td>...</td>\n      <td>...</td>\n      <td>...</td>\n      <td>...</td>\n      <td>...</td>\n      <td>...</td>\n      <td>...</td>\n      <td>...</td>\n      <td>...</td>\n      <td>...</td>\n      <td>...</td>\n      <td>...</td>\n      <td>...</td>\n    </tr>\n    <tr>\n      <th>Y95</th>\n      <td>-0.065445</td>\n      <td>0.071999</td>\n      <td>0.025115</td>\n      <td>0.013041</td>\n      <td>-0.084938</td>\n      <td>-0.029221</td>\n      <td>-0.023085</td>\n      <td>-0.017146</td>\n      <td>-0.005071</td>\n      <td>-0.041295</td>\n      <td>...</td>\n      <td>0.934062</td>\n      <td>0.924677</td>\n      <td>0.924677</td>\n      <td>0.952050</td>\n      <td>0.904637</td>\n      <td>1.000000</td>\n      <td>0.912602</td>\n      <td>0.924677</td>\n      <td>0.918639</td>\n      <td>0.921260</td>\n    </tr>\n    <tr>\n      <th>Y96</th>\n      <td>-0.070205</td>\n      <td>-0.000779</td>\n      <td>-0.039628</td>\n      <td>-0.033513</td>\n      <td>-0.108976</td>\n      <td>-0.045744</td>\n      <td>-0.064431</td>\n      <td>-0.064090</td>\n      <td>-0.039628</td>\n      <td>-0.082436</td>\n      <td>...</td>\n      <td>0.918090</td>\n      <td>0.951076</td>\n      <td>0.951076</td>\n      <td>0.942385</td>\n      <td>0.924677</td>\n      <td>0.912602</td>\n      <td>1.000000</td>\n      <td>0.938845</td>\n      <td>0.938845</td>\n      <td>0.941667</td>\n    </tr>\n    <tr>\n      <th>Y97</th>\n      <td>-0.082436</td>\n      <td>0.037408</td>\n      <td>-0.009051</td>\n      <td>-0.027397</td>\n      <td>-0.128070</td>\n      <td>-0.064090</td>\n      <td>-0.051977</td>\n      <td>-0.045744</td>\n      <td>-0.021282</td>\n      <td>-0.057975</td>\n      <td>...</td>\n      <td>0.924164</td>\n      <td>0.963307</td>\n      <td>0.957192</td>\n      <td>0.966679</td>\n      <td>0.942788</td>\n      <td>0.924677</td>\n      <td>0.938845</td>\n      <td>1.000000</td>\n      <td>0.938845</td>\n      <td>0.935519</td>\n    </tr>\n    <tr>\n      <th>Y98</th>\n      <td>-0.076321</td>\n      <td>0.037408</td>\n      <td>-0.002935</td>\n      <td>-0.015166</td>\n      <td>-0.108976</td>\n      <td>-0.051859</td>\n      <td>-0.058204</td>\n      <td>-0.033513</td>\n      <td>-0.015166</td>\n      <td>-0.057975</td>\n      <td>...</td>\n      <td>0.912017</td>\n      <td>0.944961</td>\n      <td>0.963307</td>\n      <td>0.954532</td>\n      <td>0.936751</td>\n      <td>0.918639</td>\n      <td>0.938845</td>\n      <td>0.938845</td>\n      <td>1.000000</td>\n      <td>0.941667</td>\n    </tr>\n    <tr>\n      <th>Y99</th>\n      <td>-0.103537</td>\n      <td>0.003003</td>\n      <td>-0.042054</td>\n      <td>-0.048202</td>\n      <td>-0.118559</td>\n      <td>-0.072795</td>\n      <td>-0.067336</td>\n      <td>-0.085092</td>\n      <td>-0.060499</td>\n      <td>-0.078944</td>\n      <td>...</td>\n      <td>0.908481</td>\n      <td>0.947816</td>\n      <td>0.941667</td>\n      <td>0.926800</td>\n      <td>0.903051</td>\n      <td>0.921260</td>\n      <td>0.941667</td>\n      <td>0.935519</td>\n      <td>0.941667</td>\n      <td>1.000000</td>\n    </tr>\n  </tbody>\n</table>\n<p>200 rows × 200 columns</p>\n</div>"
     },
     "execution_count": 17,
     "metadata": {},
     "output_type": "execute_result"
    }
   ],
   "source": [
    "cr"
   ]
  },
  {
   "cell_type": "code",
   "execution_count": 27,
   "metadata": {
    "pycharm": {
     "name": "#%%\n"
    }
   },
   "outputs": [
    {
     "name": "stdout",
     "output_type": "stream",
     "text": [
      "CPU times: user 19.3 ms, sys: 2.56 ms, total: 21.9 ms\n",
      "Wall time: 23.1 ms\n"
     ]
    }
   ],
   "source": [
    "%%time\n",
    "# correlation\n",
    "cr = dataAll_df.corr(method='pearson')\n",
    "\n",
    "# calculaing t-statistics, based on the correlations\n",
    "t_stat = (cr*(dataAll_df.shape[0]-2)**.5)/(1-cr**2)**.5\n",
    "\n",
    "# calculating p-values based on the t-statistics\n",
    "pv = 2 * (1 - t.cdf(abs(t_stat), df=dataAll_df.shape[0]-2))"
   ]
  },
  {
   "cell_type": "code",
   "execution_count": 10,
   "metadata": {
    "pycharm": {
     "name": "#%%\n"
    }
   },
   "outputs": [
    {
     "data": {
      "text/html": [
       "<div>\n",
       "<style scoped>\n",
       "    .dataframe tbody tr th:only-of-type {\n",
       "        vertical-align: middle;\n",
       "    }\n",
       "\n",
       "    .dataframe tbody tr th {\n",
       "        vertical-align: top;\n",
       "    }\n",
       "\n",
       "    .dataframe thead th {\n",
       "        text-align: right;\n",
       "    }\n",
       "</style>\n",
       "<table border=\"1\" class=\"dataframe\">\n",
       "  <thead>\n",
       "    <tr style=\"text-align: right;\">\n",
       "      <th></th>\n",
       "      <th>Feature_1</th>\n",
       "      <th>Feature_2</th>\n",
       "      <th>pval</th>\n",
       "      <th>Correlation</th>\n",
       "      <th>Not_NAs</th>\n",
       "      <th>P_adusted</th>\n",
       "      <th>bh_fdr_threshold</th>\n",
       "      <th>Type</th>\n",
       "    </tr>\n",
       "  </thead>\n",
       "  <tbody>\n",
       "    <tr>\n",
       "      <th>165</th>\n",
       "      <td>X1</td>\n",
       "      <td>Y66</td>\n",
       "      <td>0.021416</td>\n",
       "      <td>0.327972</td>\n",
       "      <td>49</td>\n",
       "      <td>212.013466</td>\n",
       "      <td>0.65493</td>\n",
       "      <td>X_Y</td>\n",
       "    </tr>\n",
       "    <tr>\n",
       "      <th>174</th>\n",
       "      <td>X1</td>\n",
       "      <td>Y75</td>\n",
       "      <td>0.033062</td>\n",
       "      <td>0.305052</td>\n",
       "      <td>49</td>\n",
       "      <td>163.658486</td>\n",
       "      <td>0.65493</td>\n",
       "      <td>X_Y</td>\n",
       "    </tr>\n",
       "    <tr>\n",
       "      <th>2747</th>\n",
       "      <td>X27</td>\n",
       "      <td>Y74</td>\n",
       "      <td>0.036443</td>\n",
       "      <td>0.296654</td>\n",
       "      <td>50</td>\n",
       "      <td>120.262541</td>\n",
       "      <td>0.65493</td>\n",
       "      <td>X_Y</td>\n",
       "    </tr>\n",
       "    <tr>\n",
       "      <th>173</th>\n",
       "      <td>X1</td>\n",
       "      <td>Y74</td>\n",
       "      <td>0.040235</td>\n",
       "      <td>0.294122</td>\n",
       "      <td>49</td>\n",
       "      <td>99.582635</td>\n",
       "      <td>0.65493</td>\n",
       "      <td>X_Y</td>\n",
       "    </tr>\n",
       "    <tr>\n",
       "      <th>1526</th>\n",
       "      <td>X15</td>\n",
       "      <td>Y41</td>\n",
       "      <td>0.042550</td>\n",
       "      <td>0.287992</td>\n",
       "      <td>50</td>\n",
       "      <td>84.249800</td>\n",
       "      <td>0.65493</td>\n",
       "      <td>X_Y</td>\n",
       "    </tr>\n",
       "    <tr>\n",
       "      <th>...</th>\n",
       "      <td>...</td>\n",
       "      <td>...</td>\n",
       "      <td>...</td>\n",
       "      <td>...</td>\n",
       "      <td>...</td>\n",
       "      <td>...</td>\n",
       "      <td>...</td>\n",
       "      <td>...</td>\n",
       "    </tr>\n",
       "    <tr>\n",
       "      <th>7670</th>\n",
       "      <td>X77</td>\n",
       "      <td>Y47</td>\n",
       "      <td>0.999459</td>\n",
       "      <td>-0.000098</td>\n",
       "      <td>50</td>\n",
       "      <td>0.999863</td>\n",
       "      <td>0.65493</td>\n",
       "      <td>X_Y</td>\n",
       "    </tr>\n",
       "    <tr>\n",
       "      <th>2271</th>\n",
       "      <td>X22</td>\n",
       "      <td>Y93</td>\n",
       "      <td>0.999729</td>\n",
       "      <td>0.000049</td>\n",
       "      <td>50</td>\n",
       "      <td>1.000032</td>\n",
       "      <td>0.65493</td>\n",
       "      <td>X_Y</td>\n",
       "    </tr>\n",
       "    <tr>\n",
       "      <th>5255</th>\n",
       "      <td>X53</td>\n",
       "      <td>Y8</td>\n",
       "      <td>0.999729</td>\n",
       "      <td>0.000049</td>\n",
       "      <td>50</td>\n",
       "      <td>0.999931</td>\n",
       "      <td>0.65493</td>\n",
       "      <td>X_Y</td>\n",
       "    </tr>\n",
       "    <tr>\n",
       "      <th>8647</th>\n",
       "      <td>X87</td>\n",
       "      <td>Y34</td>\n",
       "      <td>0.999729</td>\n",
       "      <td>0.000049</td>\n",
       "      <td>50</td>\n",
       "      <td>0.999830</td>\n",
       "      <td>0.65493</td>\n",
       "      <td>X_Y</td>\n",
       "    </tr>\n",
       "    <tr>\n",
       "      <th>9011</th>\n",
       "      <td>X91</td>\n",
       "      <td>Y2</td>\n",
       "      <td>0.999729</td>\n",
       "      <td>0.000049</td>\n",
       "      <td>50</td>\n",
       "      <td>0.999729</td>\n",
       "      <td>0.65493</td>\n",
       "      <td>X_Y</td>\n",
       "    </tr>\n",
       "  </tbody>\n",
       "</table>\n",
       "<p>9900 rows × 8 columns</p>\n",
       "</div>"
      ],
      "text/plain": [
       "     Feature_1 Feature_2      pval  Correlation  Not_NAs   P_adusted  \\\n",
       "165         X1       Y66  0.021416     0.327972       49  212.013466   \n",
       "174         X1       Y75  0.033062     0.305052       49  163.658486   \n",
       "2747       X27       Y74  0.036443     0.296654       50  120.262541   \n",
       "173         X1       Y74  0.040235     0.294122       49   99.582635   \n",
       "1526       X15       Y41  0.042550     0.287992       50   84.249800   \n",
       "...        ...       ...       ...          ...      ...         ...   \n",
       "7670       X77       Y47  0.999459    -0.000098       50    0.999863   \n",
       "2271       X22       Y93  0.999729     0.000049       50    1.000032   \n",
       "5255       X53        Y8  0.999729     0.000049       50    0.999931   \n",
       "8647       X87       Y34  0.999729     0.000049       50    0.999830   \n",
       "9011       X91        Y2  0.999729     0.000049       50    0.999729   \n",
       "\n",
       "      bh_fdr_threshold Type  \n",
       "165            0.65493  X_Y  \n",
       "174            0.65493  X_Y  \n",
       "2747           0.65493  X_Y  \n",
       "173            0.65493  X_Y  \n",
       "1526           0.65493  X_Y  \n",
       "...                ...  ...  \n",
       "7670           0.65493  X_Y  \n",
       "2271           0.65493  X_Y  \n",
       "5255           0.65493  X_Y  \n",
       "8647           0.65493  X_Y  \n",
       "9011           0.65493  X_Y  \n",
       "\n",
       "[9900 rows x 8 columns]"
      ]
     },
     "execution_count": 10,
     "metadata": {},
     "output_type": "execute_result"
    }
   ],
   "source": [
    "X_Y"
   ]
  },
  {
   "cell_type": "code",
   "execution_count": 11,
   "metadata": {
    "pycharm": {
     "name": "#%%\n"
    }
   },
   "outputs": [
    {
     "data": {
      "text/html": [
       "<div>\n",
       "<style scoped>\n",
       "    .dataframe tbody tr th:only-of-type {\n",
       "        vertical-align: middle;\n",
       "    }\n",
       "\n",
       "    .dataframe tbody tr th {\n",
       "        vertical-align: top;\n",
       "    }\n",
       "\n",
       "    .dataframe thead th {\n",
       "        text-align: right;\n",
       "    }\n",
       "</style>\n",
       "<table border=\"1\" class=\"dataframe\">\n",
       "  <thead>\n",
       "    <tr style=\"text-align: right;\">\n",
       "      <th></th>\n",
       "      <th>Feature_1</th>\n",
       "      <th>Feature_2</th>\n",
       "      <th>pval</th>\n",
       "      <th>Correlation</th>\n",
       "      <th>Not_NAs</th>\n",
       "      <th>P_adusted</th>\n",
       "      <th>bh_fdr_threshold</th>\n",
       "      <th>Type</th>\n",
       "    </tr>\n",
       "  </thead>\n",
       "  <tbody>\n",
       "    <tr>\n",
       "      <th>100</th>\n",
       "      <td>X1</td>\n",
       "      <td>X1</td>\n",
       "      <td>0.000000</td>\n",
       "      <td>1.000000</td>\n",
       "      <td>49</td>\n",
       "      <td>0.000000</td>\n",
       "      <td>9.957214e-16</td>\n",
       "      <td>withinX</td>\n",
       "    </tr>\n",
       "    <tr>\n",
       "      <th>394</th>\n",
       "      <td>X4</td>\n",
       "      <td>X4</td>\n",
       "      <td>0.000000</td>\n",
       "      <td>1.000000</td>\n",
       "      <td>49</td>\n",
       "      <td>0.000000</td>\n",
       "      <td>9.957214e-16</td>\n",
       "      <td>withinX</td>\n",
       "    </tr>\n",
       "    <tr>\n",
       "      <th>585</th>\n",
       "      <td>X6</td>\n",
       "      <td>X6</td>\n",
       "      <td>0.000000</td>\n",
       "      <td>1.000000</td>\n",
       "      <td>49</td>\n",
       "      <td>0.000000</td>\n",
       "      <td>9.957214e-16</td>\n",
       "      <td>withinX</td>\n",
       "    </tr>\n",
       "    <tr>\n",
       "      <th>1134</th>\n",
       "      <td>X12</td>\n",
       "      <td>X12</td>\n",
       "      <td>0.000000</td>\n",
       "      <td>1.000000</td>\n",
       "      <td>49</td>\n",
       "      <td>0.000000</td>\n",
       "      <td>9.957214e-16</td>\n",
       "      <td>withinX</td>\n",
       "    </tr>\n",
       "    <tr>\n",
       "      <th>1222</th>\n",
       "      <td>X13</td>\n",
       "      <td>X13</td>\n",
       "      <td>0.000000</td>\n",
       "      <td>1.000000</td>\n",
       "      <td>49</td>\n",
       "      <td>0.000000</td>\n",
       "      <td>9.957214e-16</td>\n",
       "      <td>withinX</td>\n",
       "    </tr>\n",
       "    <tr>\n",
       "      <th>...</th>\n",
       "      <td>...</td>\n",
       "      <td>...</td>\n",
       "      <td>...</td>\n",
       "      <td>...</td>\n",
       "      <td>...</td>\n",
       "      <td>...</td>\n",
       "      <td>...</td>\n",
       "      <td>...</td>\n",
       "    </tr>\n",
       "    <tr>\n",
       "      <th>3137</th>\n",
       "      <td>X38</td>\n",
       "      <td>X78</td>\n",
       "      <td>0.998917</td>\n",
       "      <td>-0.000197</td>\n",
       "      <td>50</td>\n",
       "      <td>0.999709</td>\n",
       "      <td>9.957214e-16</td>\n",
       "      <td>withinX</td>\n",
       "    </tr>\n",
       "    <tr>\n",
       "      <th>3149</th>\n",
       "      <td>X38</td>\n",
       "      <td>X90</td>\n",
       "      <td>0.998917</td>\n",
       "      <td>-0.000197</td>\n",
       "      <td>50</td>\n",
       "      <td>0.999511</td>\n",
       "      <td>9.957214e-16</td>\n",
       "      <td>withinX</td>\n",
       "    </tr>\n",
       "    <tr>\n",
       "      <th>3206</th>\n",
       "      <td>X39</td>\n",
       "      <td>X86</td>\n",
       "      <td>0.998917</td>\n",
       "      <td>-0.000197</td>\n",
       "      <td>50</td>\n",
       "      <td>0.999313</td>\n",
       "      <td>9.957214e-16</td>\n",
       "      <td>withinX</td>\n",
       "    </tr>\n",
       "    <tr>\n",
       "      <th>4435</th>\n",
       "      <td>X65</td>\n",
       "      <td>X80</td>\n",
       "      <td>0.998917</td>\n",
       "      <td>-0.000197</td>\n",
       "      <td>50</td>\n",
       "      <td>0.999115</td>\n",
       "      <td>9.957214e-16</td>\n",
       "      <td>withinX</td>\n",
       "    </tr>\n",
       "    <tr>\n",
       "      <th>458</th>\n",
       "      <td>X4</td>\n",
       "      <td>X68</td>\n",
       "      <td>0.999858</td>\n",
       "      <td>-0.000026</td>\n",
       "      <td>49</td>\n",
       "      <td>0.999858</td>\n",
       "      <td>9.957214e-16</td>\n",
       "      <td>withinX</td>\n",
       "    </tr>\n",
       "  </tbody>\n",
       "</table>\n",
       "<p>5050 rows × 8 columns</p>\n",
       "</div>"
      ],
      "text/plain": [
       "     Feature_1 Feature_2      pval  Correlation  Not_NAs  P_adusted  \\\n",
       "100         X1        X1  0.000000     1.000000       49   0.000000   \n",
       "394         X4        X4  0.000000     1.000000       49   0.000000   \n",
       "585         X6        X6  0.000000     1.000000       49   0.000000   \n",
       "1134       X12       X12  0.000000     1.000000       49   0.000000   \n",
       "1222       X13       X13  0.000000     1.000000       49   0.000000   \n",
       "...        ...       ...       ...          ...      ...        ...   \n",
       "3137       X38       X78  0.998917    -0.000197       50   0.999709   \n",
       "3149       X38       X90  0.998917    -0.000197       50   0.999511   \n",
       "3206       X39       X86  0.998917    -0.000197       50   0.999313   \n",
       "4435       X65       X80  0.998917    -0.000197       50   0.999115   \n",
       "458         X4       X68  0.999858    -0.000026       49   0.999858   \n",
       "\n",
       "      bh_fdr_threshold     Type  \n",
       "100       9.957214e-16  withinX  \n",
       "394       9.957214e-16  withinX  \n",
       "585       9.957214e-16  withinX  \n",
       "1134      9.957214e-16  withinX  \n",
       "1222      9.957214e-16  withinX  \n",
       "...                ...      ...  \n",
       "3137      9.957214e-16  withinX  \n",
       "3149      9.957214e-16  withinX  \n",
       "3206      9.957214e-16  withinX  \n",
       "4435      9.957214e-16  withinX  \n",
       "458       9.957214e-16  withinX  \n",
       "\n",
       "[5050 rows x 8 columns]"
      ]
     },
     "execution_count": 11,
     "metadata": {},
     "output_type": "execute_result"
    }
   ],
   "source": [
    "within_X"
   ]
  },
  {
   "cell_type": "code",
   "execution_count": 12,
   "metadata": {
    "pycharm": {
     "name": "#%%\n"
    }
   },
   "outputs": [
    {
     "data": {
      "text/html": [
       "<div>\n",
       "<style scoped>\n",
       "    .dataframe tbody tr th:only-of-type {\n",
       "        vertical-align: middle;\n",
       "    }\n",
       "\n",
       "    .dataframe tbody tr th {\n",
       "        vertical-align: top;\n",
       "    }\n",
       "\n",
       "    .dataframe thead th {\n",
       "        text-align: right;\n",
       "    }\n",
       "</style>\n",
       "<table border=\"1\" class=\"dataframe\">\n",
       "  <thead>\n",
       "    <tr style=\"text-align: right;\">\n",
       "      <th></th>\n",
       "      <th>Feature_1</th>\n",
       "      <th>Feature_2</th>\n",
       "      <th>pval</th>\n",
       "      <th>Correlation</th>\n",
       "      <th>Not_NAs</th>\n",
       "      <th>P_adusted</th>\n",
       "      <th>bh_fdr_threshold</th>\n",
       "      <th>Type</th>\n",
       "    </tr>\n",
       "  </thead>\n",
       "  <tbody>\n",
       "    <tr>\n",
       "      <th>0</th>\n",
       "      <td>Y0</td>\n",
       "      <td>Y0</td>\n",
       "      <td>0.000000</td>\n",
       "      <td>1.000000</td>\n",
       "      <td>50</td>\n",
       "      <td>0.000000</td>\n",
       "      <td>0.035926</td>\n",
       "      <td>withinY</td>\n",
       "    </tr>\n",
       "    <tr>\n",
       "      <th>100</th>\n",
       "      <td>Y1</td>\n",
       "      <td>Y1</td>\n",
       "      <td>0.000000</td>\n",
       "      <td>1.000000</td>\n",
       "      <td>50</td>\n",
       "      <td>0.000000</td>\n",
       "      <td>0.035926</td>\n",
       "      <td>withinY</td>\n",
       "    </tr>\n",
       "    <tr>\n",
       "      <th>199</th>\n",
       "      <td>Y2</td>\n",
       "      <td>Y2</td>\n",
       "      <td>0.000000</td>\n",
       "      <td>1.000000</td>\n",
       "      <td>50</td>\n",
       "      <td>0.000000</td>\n",
       "      <td>0.035926</td>\n",
       "      <td>withinY</td>\n",
       "    </tr>\n",
       "    <tr>\n",
       "      <th>394</th>\n",
       "      <td>Y4</td>\n",
       "      <td>Y4</td>\n",
       "      <td>0.000000</td>\n",
       "      <td>1.000000</td>\n",
       "      <td>50</td>\n",
       "      <td>0.000000</td>\n",
       "      <td>0.035926</td>\n",
       "      <td>withinY</td>\n",
       "    </tr>\n",
       "    <tr>\n",
       "      <th>585</th>\n",
       "      <td>Y6</td>\n",
       "      <td>Y6</td>\n",
       "      <td>0.000000</td>\n",
       "      <td>1.000000</td>\n",
       "      <td>50</td>\n",
       "      <td>0.000000</td>\n",
       "      <td>0.035926</td>\n",
       "      <td>withinY</td>\n",
       "    </tr>\n",
       "    <tr>\n",
       "      <th>...</th>\n",
       "      <td>...</td>\n",
       "      <td>...</td>\n",
       "      <td>...</td>\n",
       "      <td>...</td>\n",
       "      <td>...</td>\n",
       "      <td>...</td>\n",
       "      <td>...</td>\n",
       "      <td>...</td>\n",
       "    </tr>\n",
       "    <tr>\n",
       "      <th>4002</th>\n",
       "      <td>Y54</td>\n",
       "      <td>Y87</td>\n",
       "      <td>0.993502</td>\n",
       "      <td>-0.001182</td>\n",
       "      <td>50</td>\n",
       "      <td>0.994290</td>\n",
       "      <td>0.035926</td>\n",
       "      <td>withinY</td>\n",
       "    </tr>\n",
       "    <tr>\n",
       "      <th>2553</th>\n",
       "      <td>Y29</td>\n",
       "      <td>Y88</td>\n",
       "      <td>0.994587</td>\n",
       "      <td>-0.000984</td>\n",
       "      <td>50</td>\n",
       "      <td>0.995179</td>\n",
       "      <td>0.035926</td>\n",
       "      <td>withinY</td>\n",
       "    </tr>\n",
       "    <tr>\n",
       "      <th>487</th>\n",
       "      <td>Y4</td>\n",
       "      <td>Y97</td>\n",
       "      <td>0.995128</td>\n",
       "      <td>-0.000886</td>\n",
       "      <td>50</td>\n",
       "      <td>0.995522</td>\n",
       "      <td>0.035926</td>\n",
       "      <td>withinY</td>\n",
       "    </tr>\n",
       "    <tr>\n",
       "      <th>2836</th>\n",
       "      <td>Y33</td>\n",
       "      <td>Y97</td>\n",
       "      <td>0.995128</td>\n",
       "      <td>-0.000886</td>\n",
       "      <td>50</td>\n",
       "      <td>0.995325</td>\n",
       "      <td>0.035926</td>\n",
       "      <td>withinY</td>\n",
       "    </tr>\n",
       "    <tr>\n",
       "      <th>2871</th>\n",
       "      <td>Y34</td>\n",
       "      <td>Y66</td>\n",
       "      <td>0.996615</td>\n",
       "      <td>-0.000616</td>\n",
       "      <td>50</td>\n",
       "      <td>0.996615</td>\n",
       "      <td>0.035926</td>\n",
       "      <td>withinY</td>\n",
       "    </tr>\n",
       "  </tbody>\n",
       "</table>\n",
       "<p>5050 rows × 8 columns</p>\n",
       "</div>"
      ],
      "text/plain": [
       "     Feature_1 Feature_2      pval  Correlation  Not_NAs  P_adusted  \\\n",
       "0           Y0        Y0  0.000000     1.000000       50   0.000000   \n",
       "100         Y1        Y1  0.000000     1.000000       50   0.000000   \n",
       "199         Y2        Y2  0.000000     1.000000       50   0.000000   \n",
       "394         Y4        Y4  0.000000     1.000000       50   0.000000   \n",
       "585         Y6        Y6  0.000000     1.000000       50   0.000000   \n",
       "...        ...       ...       ...          ...      ...        ...   \n",
       "4002       Y54       Y87  0.993502    -0.001182       50   0.994290   \n",
       "2553       Y29       Y88  0.994587    -0.000984       50   0.995179   \n",
       "487         Y4       Y97  0.995128    -0.000886       50   0.995522   \n",
       "2836       Y33       Y97  0.995128    -0.000886       50   0.995325   \n",
       "2871       Y34       Y66  0.996615    -0.000616       50   0.996615   \n",
       "\n",
       "      bh_fdr_threshold     Type  \n",
       "0             0.035926  withinY  \n",
       "100           0.035926  withinY  \n",
       "199           0.035926  withinY  \n",
       "394           0.035926  withinY  \n",
       "585           0.035926  withinY  \n",
       "...                ...      ...  \n",
       "4002          0.035926  withinY  \n",
       "2553          0.035926  withinY  \n",
       "487           0.035926  withinY  \n",
       "2836          0.035926  withinY  \n",
       "2871          0.035926  withinY  \n",
       "\n",
       "[5050 rows x 8 columns]"
      ]
     },
     "execution_count": 12,
     "metadata": {},
     "output_type": "execute_result"
    }
   ],
   "source": [
    "within_Y"
   ]
  },
  {
   "cell_type": "code",
   "execution_count": 9,
   "metadata": {
    "pycharm": {
     "name": "#%%\n"
    }
   },
   "outputs": [
    {
     "data": {
      "text/plain": [
       "165     0.021416\n",
       "174     0.033062\n",
       "2747    0.036443\n",
       "173     0.040235\n",
       "1526    0.042550\n",
       "          ...   \n",
       "7670    0.999459\n",
       "2271    0.999729\n",
       "5255    0.999729\n",
       "8647    0.999729\n",
       "9011    0.999729\n",
       "Name: pval, Length: 9900, dtype: float64"
      ]
     },
     "execution_count": 9,
     "metadata": {},
     "output_type": "execute_result"
    }
   ],
   "source": [
    "X_Y.pval"
   ]
  },
  {
   "cell_type": "code",
   "execution_count": 41,
   "metadata": {
    "pycharm": {
     "name": "#%%\n"
    }
   },
   "outputs": [],
   "source": [
    "outputpath = \"/Users/rah/Documents/omicsEye/btest/demo/btest_output\"\n",
    "os.makedirs(outputpath, exist_ok=True)\n",
    "X_Y.to_csv(outputpath + '/X_Y.tsv', sep=\"\\t\")\n",
    "#rho_X = rho.iloc[0:500, 0:500]\n",
    "#rho_X.to_csv(outputpath + '/simtable_X.tsv', sep=\"\\t\")\n",
    "#rho_X_Y.to_csv(outputpath + '/simtable.tsv', sep=\"\\t\")\n",
    "within_X.to_csv(outputpath + '/within_X.tsv', sep=\"\\t\")\n",
    "within_Y.to_csv(outputpath + '/within_Y.tsv', sep=\"\\t\")"
   ]
  },
  {
   "cell_type": "code",
   "execution_count": 2,
   "metadata": {
    "pycharm": {
     "name": "#%%\n"
    }
   },
   "outputs": [],
   "source": [
    "#associations = blockplot.load_associations(path = outputpath + '/X_Y.tsv')\n",
    "associations = blockplot.load_associations('/Users/rah/Dropbox/Ali-Docs/Research_docs/Projects/VastBiome/analysis/btest_bgc_mgx_replaceNA_FALSE_cov_25_measure_rpkg_mbx_pair_spearman_new/X_Y.tsv')"
   ]
  },
  {
   "cell_type": "code",
   "execution_count": 3,
   "metadata": {
    "pycharm": {
     "name": "#%%\n"
    }
   },
   "outputs": [
    {
     "ename": "NameError",
     "evalue": "name 'outputpath' is not defined",
     "output_type": "error",
     "traceback": [
      "\u001B[0;31m---------------------------------------------------------------------------\u001B[0m",
      "\u001B[0;31mNameError\u001B[0m                                 Traceback (most recent call last)",
      "\u001B[0;32m/var/folders/ry/39y8fffn25q2jpw0b96hq5fh0000gn/T/ipykernel_57853/1473219631.py\u001B[0m in \u001B[0;36m<module>\u001B[0;34m\u001B[0m\n\u001B[0;32m----> 1\u001B[0;31m \u001B[0moutputpath\u001B[0m\u001B[0;34m\u001B[0m\u001B[0;34m\u001B[0m\u001B[0m\n\u001B[0m",
      "\u001B[0;31mNameError\u001B[0m: name 'outputpath' is not defined"
     ]
    }
   ],
   "source": [
    "outputpath"
   ]
  },
  {
   "cell_type": "code",
   "execution_count": 4,
   "metadata": {
    "pycharm": {
     "name": "#%%\n"
    }
   },
   "outputs": [
    {
     "data": {
      "text/plain": [
       "[['616', ['GCF00020'], ['cystine'], '0.0', '1.0', '0.0'],\n",
       " ['623', ['GCF00020'], ['dihydroorotate'], '0.0', '1.0', '0.0'],\n",
       " ['673',\n",
       "  ['GCF00020'],\n",
       "  ['hydrochlorothiazide_C18-neg_v2'],\n",
       "  '0.0',\n",
       "  '1.0',\n",
       "  '0.0'],\n",
       " ['3031', ['GCF00023'], ['C34:2 DAG'], '0.0', '1.0', '0.0'],\n",
       " ['3091', ['GCF00023'], ['C52:7 TAG'], '0.0', '1.0', '0.0'],\n",
       " ['3327', ['GCF00023'], ['tartarate'], '0.0', '1.0', '0.0'],\n",
       " ['5361', ['GCF00099'], ['2-aminoheptanoic acid'], '0.0', '1.0', '0.0'],\n",
       " ['5366', ['GCF00099'], ['2-hydroxyglutarate'], '0.0', '1.0', '0.0'],\n",
       " ['5388', ['GCF00099'], ['4-pyridoxate'], '0.0', '1.0', '0.0'],\n",
       " ['5414', ['GCF00099'], ['alanylalanine'], '0.0', '1.0', '0.0'],\n",
       " ['5420', ['GCF00099'], ['alpha-ketoglutarate'], '0.0', '1.0', '0.0'],\n",
       " ['5429', ['GCF00099'], ['arginine_HILIC-pos_v3'], '0.0', '1.0', '0.0'],\n",
       " ['5450', ['GCF00099'], ['C14 carnitine'], '0.0', '1.0', '0.0'],\n",
       " ['5455', ['GCF00099'], ['C14:1 carnitine'], '0.0', '1.0', '0.0'],\n",
       " ['5461', ['GCF00099'], ['C16:0 LPC_C8-pos_v2'], '0.0', '1.0', '0.0'],\n",
       " ['5462', ['GCF00099'], ['C16:0 LPC_HILIC-pos_v3'], '0.0', '1.0', '0.0'],\n",
       " ['5464', ['GCF00099'], ['C16:0 LPE_HILIC-pos_v3'], '0.0', '1.0', '0.0'],\n",
       " ['5466', ['GCF00099'], ['C16:0 SM_HILIC-pos_v3'], '0.0', '1.0', '0.0'],\n",
       " ['5477', ['GCF00099'], ['C18:0 LPC_HILIC-pos_v3'], '0.0', '1.0', '0.0'],\n",
       " ['5479', ['GCF00099'], ['C18:0 LPE-A'], '0.0', '1.0', '0.0'],\n",
       " ['5480', ['GCF00099'], ['C18:0 LPE-B'], '0.0', '1.0', '0.0'],\n",
       " ['5488', ['GCF00099'], ['C18:1 LPE'], '0.0', '1.0', '0.0'],\n",
       " ['5495', ['GCF00099'], ['C18:2 LPE'], '0.0', '1.0', '0.0'],\n",
       " ['5504', ['GCF00099'], ['C20:3 CE'], '0.0', '1.0', '0.0'],\n",
       " ['5505', ['GCF00099'], ['C20:3 LPC'], '0.0', '1.0', '0.0'],\n",
       " ['5513', ['GCF00099'], ['C22:0 LPE'], '0.0', '1.0', '0.0'],\n",
       " ['5532', ['GCF00099'], ['C32:0 PE'], '0.0', '1.0', '0.0'],\n",
       " ['5567', ['GCF00099'], ['C38:5 DAG'], '0.0', '1.0', '0.0'],\n",
       " ['5581', ['GCF00099'], ['C48:2 TAG'], '0.0', '1.0', '0.0'],\n",
       " ['5593', ['GCF00099'], ['C51:2 TAG'], '0.0', '1.0', '0.0'],\n",
       " ['5628', ['GCF00099'], ['carnitine'], '0.0', '1.0', '0.0'],\n",
       " ['5636', ['GCF00099'], ['choline'], '0.0', '1.0', '0.0'],\n",
       " ['5640', ['GCF00099'], ['citrulline_HILIC-pos_v3'], '0.0', '1.0', '0.0'],\n",
       " ['5672', ['GCF00099'], ['fructose/glucose/galactose'], '0.0', '1.0', '0.0'],\n",
       " ['5684', ['GCF00099'], ['glycine'], '0.0', '1.0', '0.0'],\n",
       " ['5686', ['GCF00099'], ['glycocholate_C18-neg_v2'], '0.0', '1.0', '0.0'],\n",
       " ['5737', ['GCF00099'], ['malonate'], '0.0', '1.0', '0.0'],\n",
       " ['5745', ['GCF00099'], ['metronidazole'], '0.0', '1.0', '0.0'],\n",
       " ['5753', ['GCF00099'], ['N-acetylhistidine'], '0.0', '1.0', '0.0'],\n",
       " ['5761',\n",
       "  ['GCF00099'],\n",
       "  ['N1-methyl-2-pyridone-5-carboxamide'],\n",
       "  '0.0',\n",
       "  '1.0',\n",
       "  '0.0'],\n",
       " ['5769', ['GCF00099'], ['niacinamide'], '0.0', '1.0', '0.0'],\n",
       " ['5778', ['GCF00099'], ['ornithine'], '0.0', '1.0', '0.0'],\n",
       " ['5780', ['GCF00099'], ['oxalate'], '0.0', '1.0', '0.0'],\n",
       " ['5783', ['GCF00099'], ['p-hydroxyphenylacetate'], '0.0', '1.0', '0.0'],\n",
       " ['5806', ['GCF00099'], ['propionate'], '0.0', '1.0', '0.0'],\n",
       " ['5815', ['GCF00099'], ['S-adenosylmethionine'], '0.0', '1.0', '0.0'],\n",
       " ['5819', ['GCF00099'], ['salicylate_C18-neg_v2'], '0.0', '1.0', '0.0'],\n",
       " ['5820', ['GCF00099'], ['salicylate_HILIC-neg_v3'], '0.0', '1.0', '0.0'],\n",
       " ['5836', ['GCF00099'], ['succinate'], '0.0', '1.0', '0.0'],\n",
       " ['5854', ['GCF00099'], ['trimethylamine-N-oxide'], '0.0', '1.0', '0.0'],\n",
       " ['8171', ['GCF00117'], ['epiandrosterone'], '0.0', '1.0', '0.0'],\n",
       " ['8351', ['GCF00117'], ['theophylline'], '0.0', '1.0', '0.0'],\n",
       " ['10395', ['GCF00161'], ['acesulfame_HILIC-neg_v3'], '0.0', '1.0', '0.0'],\n",
       " ['10613', ['GCF00161'], ['C58:10 TAG'], '0.0', '1.0', '0.0'],\n",
       " ['11543', ['GCF00162'], ['indoxyl sulfate'], '0.0', '1.0', '0.0'],\n",
       " ['12826', ['GCF00181'], ['1-3-7-trimethylurate'], '0.0', '1.0', '0.0'],\n",
       " ['12830', ['GCF00181'], ['1-methylnicotinamide'], '0.0', '1.0', '0.0'],\n",
       " ['12832', ['GCF00181'], ['10-heptadecenoate'], '0.0', '1.0', '0.0'],\n",
       " ['12833', ['GCF00181'], ['10-nonadecenoate'], '0.0', '1.0', '0.0'],\n",
       " ['12840', ['GCF00181'], ['2-aminoheptanoic acid'], '0.0', '1.0', '0.0'],\n",
       " ['12844',\n",
       "  ['GCF00181'],\n",
       "  ['2-hydroxy-3-methylpentanoate'],\n",
       "  '0.0',\n",
       "  '1.0',\n",
       "  '0.0'],\n",
       " ['12849', ['GCF00181'], [\"2'-O-methyladenosine\"], '0.0', '1.0', '0.0'],\n",
       " ['12851', ['GCF00181'], ['3-hydroxydecanoate'], '0.0', '1.0', '0.0'],\n",
       " ['12866', ['GCF00181'], ['4-nitrophenol'], '0.0', '1.0', '0.0'],\n",
       " ['12867', ['GCF00181'], ['4-pyridoxate'], '0.0', '1.0', '0.0'],\n",
       " ['12880', ['GCF00181'], ['acetaminophen'], '0.0', '1.0', '0.0'],\n",
       " ['12884', ['GCF00181'], ['acetytyrosine'], '0.0', '1.0', '0.0'],\n",
       " ['12899', ['GCF00181'], ['alpha-ketoglutarate'], '0.0', '1.0', '0.0'],\n",
       " ['12902', ['GCF00181'], ['alpha-muricholate'], '0.0', '1.0', '0.0'],\n",
       " ['12907', ['GCF00181'], ['arginine_HILIC-neg_v2'], '0.0', '1.0', '0.0'],\n",
       " ['12913', ['GCF00181'], ['atenolol'], '0.0', '1.0', '0.0'],\n",
       " ['12930', ['GCF00181'], ['C14:0 CE'], '0.0', '1.0', '0.0'],\n",
       " ['12951', ['GCF00181'], ['C16:1 MAG'], '0.0', '1.0', '0.0'],\n",
       " ['12960', ['GCF00181'], ['C18:0 MAG'], '0.0', '1.0', '0.0'],\n",
       " ['12966', ['GCF00181'], ['C18:1 LPC plasmalogen'], '0.0', '1.0', '0.0'],\n",
       " ['12980', ['GCF00181'], ['C20:0 LPE'], '0.0', '1.0', '0.0'],\n",
       " ['12981', ['GCF00181'], ['C20:0 SM'], '0.0', '1.0', '0.0'],\n",
       " ['12991', ['GCF00181'], ['C22:0 Ceramide (d18:1)'], '0.0', '1.0', '0.0'],\n",
       " ['13001', ['GCF00181'], ['C24:0 Ceramide (d18:1)'], '0.0', '1.0', '0.0'],\n",
       " ['13007', ['GCF00181'], ['C30:0 DAG'], '0.0', '1.0', '0.0'],\n",
       " ['13009', ['GCF00181'], ['C32:0 DAG'], '0.0', '1.0', '0.0'],\n",
       " ['13012', ['GCF00181'], ['C32:1 DAG'], '0.0', '1.0', '0.0'],\n",
       " ['13014', ['GCF00181'], ['C32:2 DAG'], '0.0', '1.0', '0.0'],\n",
       " ['13027', ['GCF00181'], ['C36:0 DAG'], '0.0', '1.0', '0.0'],\n",
       " ['13041', ['GCF00181'], ['C36:5 PC plasmalogen'], '0.0', '1.0', '0.0'],\n",
       " ['13049', ['GCF00181'], ['C42:0 TAG'], '0.0', '1.0', '0.0'],\n",
       " ['13053', ['GCF00181'], ['C45:0 TAG'], '0.0', '1.0', '0.0'],\n",
       " ['13054', ['GCF00181'], ['C46:0 TAG'], '0.0', '1.0', '0.0'],\n",
       " ['13055', ['GCF00181'], ['C46:1 TAG'], '0.0', '1.0', '0.0'],\n",
       " ['13105', ['GCF00181'], ['caprylate'], '0.0', '1.0', '0.0'],\n",
       " ['13116', ['GCF00181'], ['cinnamoylglycine'], '0.0', '1.0', '0.0'],\n",
       " ['13118', ['GCF00181'], ['citrulline_HILIC-neg_v2'], '0.0', '1.0', '0.0'],\n",
       " ['13130', ['GCF00181'], ['deoxycholate'], '0.0', '1.0', '0.0'],\n",
       " ['13138', ['GCF00181'], ['dodecanedioate'], '0.0', '1.0', '0.0'],\n",
       " ['13143', ['GCF00181'], ['eicosanedioate'], '0.0', '1.0', '0.0'],\n",
       " ['13173', ['GCF00181'], ['heptadecanoate'], '0.0', '1.0', '0.0'],\n",
       " ['13177', ['GCF00181'], ['histamine'], '0.0', '1.0', '0.0'],\n",
       " ['13192', ['GCF00181'], ['hypoxanthine_HILIC-pos_v3'], '0.0', '1.0', '0.0'],\n",
       " ['13193', ['GCF00181'], ['imidazole propionate'], '0.0', '1.0', '0.0'],\n",
       " ['13194', ['GCF00181'], ['imidazoleacetic acid'], '0.0', '1.0', '0.0']]"
      ]
     },
     "execution_count": 4,
     "metadata": {},
     "output_type": "execute_result"
    }
   ],
   "source": [
    "associations"
   ]
  },
  {
   "cell_type": "code",
   "execution_count": 5,
   "metadata": {
    "pycharm": {
     "name": "#%%\n"
    }
   },
   "outputs": [],
   "source": [
    "#simtable = blockplot.load_order_table(outputpath + '/simtable.tsv', associations)\n",
    "simtable = blockplot.load_order_table('/Users/rah/Dropbox/Ali-Docs/Research_docs/Projects/VastBiome/analysis/btest_bgc_mgx_replaceNA_FALSE_cov_25_measure_rpkg_mbx_pair_spearman_new//simtable.tsv', associations)"
   ]
  },
  {
   "cell_type": "code",
   "execution_count": 46,
   "metadata": {
    "pycharm": {
     "name": "#%%\n"
    }
   },
   "outputs": [
    {
     "data": {
      "text/html": [
       "<div>\n",
       "<style scoped>\n",
       "    .dataframe tbody tr th:only-of-type {\n",
       "        vertical-align: middle;\n",
       "    }\n",
       "\n",
       "    .dataframe tbody tr th {\n",
       "        vertical-align: top;\n",
       "    }\n",
       "\n",
       "    .dataframe thead th {\n",
       "        text-align: right;\n",
       "    }\n",
       "</style>\n",
       "<table border=\"1\" class=\"dataframe\">\n",
       "  <thead>\n",
       "    <tr style=\"text-align: right;\">\n",
       "      <th></th>\n",
       "      <th>Feature_1</th>\n",
       "      <th>Feature_2</th>\n",
       "      <th>pval</th>\n",
       "      <th>Correlation</th>\n",
       "      <th>Not_NAs</th>\n",
       "      <th>P_adusted</th>\n",
       "      <th>bh_fdr_threshold</th>\n",
       "    </tr>\n",
       "  </thead>\n",
       "  <tbody>\n",
       "    <tr>\n",
       "      <th>365</th>\n",
       "      <td>X1</td>\n",
       "      <td>Y66</td>\n",
       "      <td>0.021416</td>\n",
       "      <td>0.327972</td>\n",
       "      <td>49</td>\n",
       "      <td>214.155016</td>\n",
       "      <td>0.65493</td>\n",
       "    </tr>\n",
       "    <tr>\n",
       "      <th>374</th>\n",
       "      <td>X1</td>\n",
       "      <td>Y75</td>\n",
       "      <td>0.033062</td>\n",
       "      <td>0.305052</td>\n",
       "      <td>49</td>\n",
       "      <td>165.311602</td>\n",
       "      <td>0.65493</td>\n",
       "    </tr>\n",
       "    <tr>\n",
       "      <th>5196</th>\n",
       "      <td>X27</td>\n",
       "      <td>Y74</td>\n",
       "      <td>0.036443</td>\n",
       "      <td>0.296654</td>\n",
       "      <td>50</td>\n",
       "      <td>121.477314</td>\n",
       "      <td>0.65493</td>\n",
       "    </tr>\n",
       "    <tr>\n",
       "      <th>373</th>\n",
       "      <td>X1</td>\n",
       "      <td>Y74</td>\n",
       "      <td>0.040235</td>\n",
       "      <td>0.294122</td>\n",
       "      <td>49</td>\n",
       "      <td>100.588520</td>\n",
       "      <td>0.65493</td>\n",
       "    </tr>\n",
       "    <tr>\n",
       "      <th>3021</th>\n",
       "      <td>X15</td>\n",
       "      <td>Y41</td>\n",
       "      <td>0.042550</td>\n",
       "      <td>0.287992</td>\n",
       "      <td>50</td>\n",
       "      <td>85.100808</td>\n",
       "      <td>0.65493</td>\n",
       "    </tr>\n",
       "    <tr>\n",
       "      <th>...</th>\n",
       "      <td>...</td>\n",
       "      <td>...</td>\n",
       "      <td>...</td>\n",
       "      <td>...</td>\n",
       "      <td>...</td>\n",
       "      <td>...</td>\n",
       "      <td>...</td>\n",
       "    </tr>\n",
       "    <tr>\n",
       "      <th>12544</th>\n",
       "      <td>X77</td>\n",
       "      <td>Y47</td>\n",
       "      <td>0.999459</td>\n",
       "      <td>-0.000098</td>\n",
       "      <td>50</td>\n",
       "      <td>0.999859</td>\n",
       "      <td>0.65493</td>\n",
       "    </tr>\n",
       "    <tr>\n",
       "      <th>4340</th>\n",
       "      <td>X22</td>\n",
       "      <td>Y93</td>\n",
       "      <td>0.999729</td>\n",
       "      <td>0.000049</td>\n",
       "      <td>50</td>\n",
       "      <td>1.000029</td>\n",
       "      <td>0.65493</td>\n",
       "    </tr>\n",
       "    <tr>\n",
       "      <th>9277</th>\n",
       "      <td>X53</td>\n",
       "      <td>Y8</td>\n",
       "      <td>0.999729</td>\n",
       "      <td>0.000049</td>\n",
       "      <td>50</td>\n",
       "      <td>0.999929</td>\n",
       "      <td>0.65493</td>\n",
       "    </tr>\n",
       "    <tr>\n",
       "      <th>13706</th>\n",
       "      <td>X87</td>\n",
       "      <td>Y34</td>\n",
       "      <td>0.999729</td>\n",
       "      <td>0.000049</td>\n",
       "      <td>50</td>\n",
       "      <td>0.999829</td>\n",
       "      <td>0.65493</td>\n",
       "    </tr>\n",
       "    <tr>\n",
       "      <th>14116</th>\n",
       "      <td>X91</td>\n",
       "      <td>Y2</td>\n",
       "      <td>0.999729</td>\n",
       "      <td>0.000049</td>\n",
       "      <td>50</td>\n",
       "      <td>0.999729</td>\n",
       "      <td>0.65493</td>\n",
       "    </tr>\n",
       "  </tbody>\n",
       "</table>\n",
       "<p>10000 rows × 7 columns</p>\n",
       "</div>"
      ],
      "text/plain": [
       "      Feature_1 Feature_2      pval  Correlation  Not_NAs   P_adusted  \\\n",
       "365          X1       Y66  0.021416     0.327972       49  214.155016   \n",
       "374          X1       Y75  0.033062     0.305052       49  165.311602   \n",
       "5196        X27       Y74  0.036443     0.296654       50  121.477314   \n",
       "373          X1       Y74  0.040235     0.294122       49  100.588520   \n",
       "3021        X15       Y41  0.042550     0.287992       50   85.100808   \n",
       "...         ...       ...       ...          ...      ...         ...   \n",
       "12544       X77       Y47  0.999459    -0.000098       50    0.999859   \n",
       "4340        X22       Y93  0.999729     0.000049       50    1.000029   \n",
       "9277        X53        Y8  0.999729     0.000049       50    0.999929   \n",
       "13706       X87       Y34  0.999729     0.000049       50    0.999829   \n",
       "14116       X91        Y2  0.999729     0.000049       50    0.999729   \n",
       "\n",
       "       bh_fdr_threshold  \n",
       "365             0.65493  \n",
       "374             0.65493  \n",
       "5196            0.65493  \n",
       "373             0.65493  \n",
       "3021            0.65493  \n",
       "...                 ...  \n",
       "12544           0.65493  \n",
       "4340            0.65493  \n",
       "9277            0.65493  \n",
       "13706           0.65493  \n",
       "14116           0.65493  \n",
       "\n",
       "[10000 rows x 7 columns]"
      ]
     },
     "execution_count": 46,
     "metadata": {},
     "output_type": "execute_result"
    }
   ],
   "source": [
    "X_Y"
   ]
  },
  {
   "cell_type": "code",
   "execution_count": 47,
   "metadata": {
    "pycharm": {
     "name": "#%%\n"
    }
   },
   "outputs": [],
   "source": [
    "blockplot.plot(\n",
    "    simtable,\n",
    "    associations,\n",
    "    cmap=\"RdBu_r\",\n",
    "    mask=False,\n",
    "    axlabels=[\"\",\"\"],\n",
    "    outfile=\"/Users/rah/Documents/omicsEye/btest/demo/btest_output/blockplot.pdf\",\n",
    "    similarity=\"Spearman\"\n",
    ")"
   ]
  },
  {
   "cell_type": "code",
   "execution_count": null,
   "metadata": {
    "pycharm": {
     "name": "#%%\n"
    }
   },
   "outputs": [],
   "source": []
  }
 ],
 "metadata": {
  "accelerator": "TPU",
  "colab": {
   "collapsed_sections": [
    "yfILUg1HmAkM"
   ],
   "machine_shape": "hm",
   "name": "15-Ensemble-Evaluation.ipynb",
   "provenance": []
  },
  "kernelspec": {
   "display_name": "Python 3 (ipykernel)",
   "language": "python",
   "name": "python3"
  },
  "language_info": {
   "codemirror_mode": {
    "name": "ipython",
    "version": 3
   },
   "file_extension": ".py",
   "mimetype": "text/x-python",
   "name": "python",
   "nbconvert_exporter": "python",
   "pygments_lexer": "ipython3",
   "version": "3.8.13"
  }
 },
 "nbformat": 4,
 "nbformat_minor": 1
}