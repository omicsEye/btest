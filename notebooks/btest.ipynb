{
 "cells": [
  {
   "cell_type": "markdown",
   "metadata": {
    "colab_type": "text",
    "id": "AmPqBsydh5J-",
    "pycharm": {
     "name": "#%% md\n"
    }
   },
   "source": [
    "# *btest* initial steps\n",
    "\n",
    "step-by-step"
   ]
  },
  {
   "cell_type": "code",
   "execution_count": 1,
   "metadata": {
    "pycharm": {
     "name": "#%%\n"
    }
   },
   "outputs": [],
   "source": [
    "import os\n",
    "import time\n",
    "import numpy as np\n",
    "import pandas as pd\n",
    "from btest import utils\n",
    "from btest import blockplot\n",
    "from scipy.stats import t"
   ]
  },
  {
   "cell_type": "code",
   "execution_count": 2,
   "metadata": {
    "pycharm": {
     "name": "#%%\n"
    }
   },
   "outputs": [],
   "source": [
    "method = 'spearman'\n",
    "min_var = 0.0\n",
    "fdr =0.1"
   ]
  },
  {
   "cell_type": "code",
   "execution_count": 3,
   "metadata": {
    "pycharm": {
     "name": "#%%\n"
    }
   },
   "outputs": [
    {
     "name": "stdout",
     "output_type": "stream",
     "text": [
      "Dataset X dimension  after cleaning:  (100, 50)\n",
      "Dataset Y dimension  after cleaning:  (100, 50)\n"
     ]
    }
   ],
   "source": [
    "dataX , dataY, featuresX, featuresY  = utils.readData('../demo/X_dataset.txt', '../demo/Y_dataset.txt', min_var=min_var)"
   ]
  },
  {
   "cell_type": "code",
   "execution_count": 4,
   "metadata": {
    "pycharm": {
     "name": "#%%\n"
    }
   },
   "outputs": [
    {
     "name": "stdout",
     "output_type": "stream",
     "text": [
      "CPU times: user 4.65 s, sys: 11.3 ms, total: 4.66 s\n",
      "Wall time: 4.66 s\n"
     ]
    }
   ],
   "source": [
    "%%time\n",
    "within_X = utils.btest_corr(dataX, featuresX, method=method, fdr=fdr, Type='withinX')\n",
    "within_Y  = utils.btest_corr(dataY, featuresY, method=method, fdr=fdr, Type='withinY')\n",
    "dataAll = np.concatenate((dataX, dataY), axis=0)\n",
    "X_Y = utils.btest_corr(dataAll, featuresX, featuresY, method=method, fdr=fdr, Type='X_Y')"
   ]
  },
  {
   "cell_type": "code",
   "execution_count": 5,
   "metadata": {
    "pycharm": {
     "name": "#%%\n"
    }
   },
   "outputs": [
    {
     "data": {
      "text/html": [
       "<div>\n",
       "<style scoped>\n",
       "    .dataframe tbody tr th:only-of-type {\n",
       "        vertical-align: middle;\n",
       "    }\n",
       "\n",
       "    .dataframe tbody tr th {\n",
       "        vertical-align: top;\n",
       "    }\n",
       "\n",
       "    .dataframe thead th {\n",
       "        text-align: right;\n",
       "    }\n",
       "</style>\n",
       "<table border=\"1\" class=\"dataframe\">\n",
       "  <thead>\n",
       "    <tr style=\"text-align: right;\">\n",
       "      <th></th>\n",
       "      <th>Feature_1</th>\n",
       "      <th>Feature_2</th>\n",
       "      <th>pval</th>\n",
       "      <th>Correlation</th>\n",
       "      <th>Not_NAs</th>\n",
       "      <th>P_adusted</th>\n",
       "      <th>bh_fdr_threshold</th>\n",
       "      <th>Type</th>\n",
       "    </tr>\n",
       "  </thead>\n",
       "  <tbody>\n",
       "    <tr>\n",
       "      <th>165</th>\n",
       "      <td>X1</td>\n",
       "      <td>Y66</td>\n",
       "      <td>0.021416</td>\n",
       "      <td>0.327972</td>\n",
       "      <td>49</td>\n",
       "      <td>212.013466</td>\n",
       "      <td>0.65493</td>\n",
       "      <td>X_Y</td>\n",
       "    </tr>\n",
       "    <tr>\n",
       "      <th>174</th>\n",
       "      <td>X1</td>\n",
       "      <td>Y75</td>\n",
       "      <td>0.033062</td>\n",
       "      <td>0.305052</td>\n",
       "      <td>49</td>\n",
       "      <td>163.658486</td>\n",
       "      <td>0.65493</td>\n",
       "      <td>X_Y</td>\n",
       "    </tr>\n",
       "    <tr>\n",
       "      <th>2747</th>\n",
       "      <td>X27</td>\n",
       "      <td>Y74</td>\n",
       "      <td>0.036443</td>\n",
       "      <td>0.296654</td>\n",
       "      <td>50</td>\n",
       "      <td>120.262541</td>\n",
       "      <td>0.65493</td>\n",
       "      <td>X_Y</td>\n",
       "    </tr>\n",
       "    <tr>\n",
       "      <th>173</th>\n",
       "      <td>X1</td>\n",
       "      <td>Y74</td>\n",
       "      <td>0.040235</td>\n",
       "      <td>0.294122</td>\n",
       "      <td>49</td>\n",
       "      <td>99.582635</td>\n",
       "      <td>0.65493</td>\n",
       "      <td>X_Y</td>\n",
       "    </tr>\n",
       "    <tr>\n",
       "      <th>1526</th>\n",
       "      <td>X15</td>\n",
       "      <td>Y41</td>\n",
       "      <td>0.042550</td>\n",
       "      <td>0.287992</td>\n",
       "      <td>50</td>\n",
       "      <td>84.249800</td>\n",
       "      <td>0.65493</td>\n",
       "      <td>X_Y</td>\n",
       "    </tr>\n",
       "  </tbody>\n",
       "</table>\n",
       "</div>"
      ],
      "text/plain": [
       "     Feature_1 Feature_2      pval  Correlation  Not_NAs   P_adusted  \\\n",
       "165         X1       Y66  0.021416     0.327972       49  212.013466   \n",
       "174         X1       Y75  0.033062     0.305052       49  163.658486   \n",
       "2747       X27       Y74  0.036443     0.296654       50  120.262541   \n",
       "173         X1       Y74  0.040235     0.294122       49   99.582635   \n",
       "1526       X15       Y41  0.042550     0.287992       50   84.249800   \n",
       "\n",
       "      bh_fdr_threshold Type  \n",
       "165            0.65493  X_Y  \n",
       "174            0.65493  X_Y  \n",
       "2747           0.65493  X_Y  \n",
       "173            0.65493  X_Y  \n",
       "1526           0.65493  X_Y  "
      ]
     },
     "execution_count": 5,
     "metadata": {},
     "output_type": "execute_result"
    }
   ],
   "source": [
    "X_Y.head()"
   ]
  },
  {
   "cell_type": "code",
   "execution_count": 15,
   "metadata": {},
   "outputs": [
    {
     "data": {
      "text/plain": [
       "49"
      ]
     },
     "execution_count": 15,
     "metadata": {},
     "output_type": "execute_result"
    }
   ],
   "source": [
    "nas = np.isnan(dataAll[0]+dataAll[1])\n",
    "not_na = sum(~nas)\n",
    "not_na"
   ]
  },
  {
   "cell_type": "code",
   "execution_count": 6,
   "metadata": {
    "pycharm": {
     "name": "#%%\n"
    }
   },
   "outputs": [
    {
     "data": {
      "text/html": [
       "<div>\n",
       "<style scoped>\n",
       "    .dataframe tbody tr th:only-of-type {\n",
       "        vertical-align: middle;\n",
       "    }\n",
       "\n",
       "    .dataframe tbody tr th {\n",
       "        vertical-align: top;\n",
       "    }\n",
       "\n",
       "    .dataframe thead th {\n",
       "        text-align: right;\n",
       "    }\n",
       "</style>\n",
       "<table border=\"1\" class=\"dataframe\">\n",
       "  <thead>\n",
       "    <tr style=\"text-align: right;\">\n",
       "      <th></th>\n",
       "      <th>Feature_1</th>\n",
       "      <th>Feature_2</th>\n",
       "      <th>pval</th>\n",
       "      <th>Correlation</th>\n",
       "      <th>Not_NAs</th>\n",
       "      <th>P_adusted</th>\n",
       "      <th>bh_fdr_threshold</th>\n",
       "      <th>Type</th>\n",
       "    </tr>\n",
       "  </thead>\n",
       "  <tbody>\n",
       "    <tr>\n",
       "      <th>66</th>\n",
       "      <td>X0</td>\n",
       "      <td>Y66</td>\n",
       "      <td>0.119186</td>\n",
       "      <td>0.223218</td>\n",
       "      <td>50</td>\n",
       "      <td>5.021027</td>\n",
       "      <td>0.65493</td>\n",
       "      <td>X_Y</td>\n",
       "    </tr>\n",
       "  </tbody>\n",
       "</table>\n",
       "</div>"
      ],
      "text/plain": [
       "   Feature_1 Feature_2      pval  Correlation  Not_NAs  P_adusted  \\\n",
       "66        X0       Y66  0.119186     0.223218       50   5.021027   \n",
       "\n",
       "    bh_fdr_threshold Type  \n",
       "66           0.65493  X_Y  "
      ]
     },
     "execution_count": 6,
     "metadata": {},
     "output_type": "execute_result"
    }
   ],
   "source": [
    "X_Y[(X_Y['Feature_1']=='X0')&(X_Y['Feature_2']=='Y66')]"
   ]
  },
  {
   "cell_type": "code",
   "execution_count": 34,
   "metadata": {
    "pycharm": {
     "name": "#%%\n"
    }
   },
   "outputs": [
    {
     "name": "stdout",
     "output_type": "stream",
     "text": [
      "CPU times: user 143 ms, sys: 6.87 ms, total: 150 ms\n",
      "Wall time: 153 ms\n"
     ]
    },
    {
     "name": "stderr",
     "output_type": "stream",
     "text": [
      "/Users/mbagh/opt/anaconda3/envs/btest_env/lib/python3.8/site-packages/btest/utils.py:299: FutureWarning: In a future version, `df.iloc[:, i] = newvals` will attempt to set the values inplace instead of always setting a new array. To retain the old behavior, use either `df[df.columns[i]] = newvals` or, if columns are non-unique, `df.isetitem(i, newvals)`\n",
      "  df_f.loc[:, 't_statistic'] = (df_f.loc[:, 'Correlation']*\n",
      "/Users/mbagh/opt/anaconda3/envs/btest_env/lib/python3.8/site-packages/btest/utils.py:303: FutureWarning: In a future version, `df.iloc[:, i] = newvals` will attempt to set the values inplace instead of always setting a new array. To retain the old behavior, use either `df[df.columns[i]] = newvals` or, if columns are non-unique, `df.isetitem(i, newvals)`\n",
      "  df_f.loc[:, 'pval'] = 2 * (1 - t.cdf(abs(df_f.loc[:, 't_statistic']),\n",
      "/Users/mbagh/opt/anaconda3/envs/btest_env/lib/python3.8/site-packages/btest/utils.py:310: FutureWarning: In a future version, `df.iloc[:, i] = newvals` will attempt to set the values inplace instead of always setting a new array. To retain the old behavior, use either `df[df.columns[i]] = newvals` or, if columns are non-unique, `df.isetitem(i, newvals)`\n",
      "  df_f.loc[:, 'P_adjusted'] = p_adust\n",
      "/Users/mbagh/opt/anaconda3/envs/btest_env/lib/python3.8/site-packages/btest/utils.py:311: FutureWarning: In a future version, `df.iloc[:, i] = newvals` will attempt to set the values inplace instead of always setting a new array. To retain the old behavior, use either `df[df.columns[i]] = newvals` or, if columns are non-unique, `df.isetitem(i, newvals)`\n",
      "  df_f.loc[:, 'bh_fdr_threshold'] = p_threshold\n"
     ]
    }
   ],
   "source": [
    "%%time\n",
    "X_Y_3 = utils.btest_corr_3(dataAll, featuresX, featuresY, method=method, fdr=fdr, Type='X_Y')"
   ]
  },
  {
   "cell_type": "code",
   "execution_count": 35,
   "metadata": {
    "pycharm": {
     "name": "#%%\n"
    },
    "scrolled": true
   },
   "outputs": [
    {
     "data": {
      "text/html": [
       "<div>\n",
       "<style scoped>\n",
       "    .dataframe tbody tr th:only-of-type {\n",
       "        vertical-align: middle;\n",
       "    }\n",
       "\n",
       "    .dataframe tbody tr th {\n",
       "        vertical-align: top;\n",
       "    }\n",
       "\n",
       "    .dataframe thead th {\n",
       "        text-align: right;\n",
       "    }\n",
       "</style>\n",
       "<table border=\"1\" class=\"dataframe\">\n",
       "  <thead>\n",
       "    <tr style=\"text-align: right;\">\n",
       "      <th></th>\n",
       "      <th>Feature_1</th>\n",
       "      <th>Feature_2</th>\n",
       "      <th>Correlation</th>\n",
       "      <th>complete_obs</th>\n",
       "      <th>t_statistic</th>\n",
       "      <th>pval</th>\n",
       "      <th>P_adjusted</th>\n",
       "      <th>bh_fdr_threshold</th>\n",
       "      <th>Type</th>\n",
       "    </tr>\n",
       "  </thead>\n",
       "  <tbody>\n",
       "    <tr>\n",
       "      <th>19872</th>\n",
       "      <td>Y92</td>\n",
       "      <td>Y93</td>\n",
       "      <td>0.978539</td>\n",
       "      <td>50.0</td>\n",
       "      <td>32.900503</td>\n",
       "      <td>0.0</td>\n",
       "      <td>0.0</td>\n",
       "      <td>0.016883</td>\n",
       "      <td>Y_Y</td>\n",
       "    </tr>\n",
       "    <tr>\n",
       "      <th>4500</th>\n",
       "      <td>X24</td>\n",
       "      <td>X25</td>\n",
       "      <td>0.971709</td>\n",
       "      <td>49.0</td>\n",
       "      <td>28.206115</td>\n",
       "      <td>0.0</td>\n",
       "      <td>0.0</td>\n",
       "      <td>0.016883</td>\n",
       "      <td>X_X</td>\n",
       "    </tr>\n",
       "    <tr>\n",
       "      <th>15170</th>\n",
       "      <td>Y2</td>\n",
       "      <td>Y26</td>\n",
       "      <td>0.969082</td>\n",
       "      <td>50.0</td>\n",
       "      <td>27.211086</td>\n",
       "      <td>0.0</td>\n",
       "      <td>0.0</td>\n",
       "      <td>0.016883</td>\n",
       "      <td>Y_Y</td>\n",
       "    </tr>\n",
       "    <tr>\n",
       "      <th>7216</th>\n",
       "      <td>X40</td>\n",
       "      <td>X77</td>\n",
       "      <td>0.968504</td>\n",
       "      <td>50.0</td>\n",
       "      <td>26.947950</td>\n",
       "      <td>0.0</td>\n",
       "      <td>0.0</td>\n",
       "      <td>0.016883</td>\n",
       "      <td>X_X</td>\n",
       "    </tr>\n",
       "    <tr>\n",
       "      <th>420</th>\n",
       "      <td>X2</td>\n",
       "      <td>X26</td>\n",
       "      <td>0.966043</td>\n",
       "      <td>50.0</td>\n",
       "      <td>25.903472</td>\n",
       "      <td>0.0</td>\n",
       "      <td>0.0</td>\n",
       "      <td>0.016883</td>\n",
       "      <td>X_X</td>\n",
       "    </tr>\n",
       "  </tbody>\n",
       "</table>\n",
       "</div>"
      ],
      "text/plain": [
       "      Feature_1 Feature_2  Correlation  complete_obs  t_statistic  pval  \\\n",
       "19872       Y92       Y93     0.978539          50.0    32.900503   0.0   \n",
       "4500        X24       X25     0.971709          49.0    28.206115   0.0   \n",
       "15170        Y2       Y26     0.969082          50.0    27.211086   0.0   \n",
       "7216        X40       X77     0.968504          50.0    26.947950   0.0   \n",
       "420          X2       X26     0.966043          50.0    25.903472   0.0   \n",
       "\n",
       "       P_adjusted  bh_fdr_threshold Type  \n",
       "19872         0.0          0.016883  Y_Y  \n",
       "4500          0.0          0.016883  X_X  \n",
       "15170         0.0          0.016883  Y_Y  \n",
       "7216          0.0          0.016883  X_X  \n",
       "420           0.0          0.016883  X_X  "
      ]
     },
     "execution_count": 35,
     "metadata": {},
     "output_type": "execute_result"
    }
   ],
   "source": [
    "X_Y_3.head()"
   ]
  },
  {
   "cell_type": "code",
   "execution_count": 43,
   "metadata": {},
   "outputs": [],
   "source": [
    "err = []\n",
    "for i in range(X_Y.shape[0]):\n",
    "    var1 , var2 = X_Y.iloc[i, [0,1]]\n",
    "    a = X_Y.loc[(X_Y.loc[:,'Feature_1']==var1) & (X_Y.loc[:,'Feature_2']==var2), 'Not_NAs'].values[0]\n",
    "    b = X_Y_3.loc[(X_Y_3.loc[:,'Feature_1']==var1) & (X_Y_3.loc[:,'Feature_2']==var2), 'complete_obs'].values[0]\n",
    "    if a != b:\n",
    "        err.append([var1, var2])"
   ]
  },
  {
   "cell_type": "code",
   "execution_count": 44,
   "metadata": {},
   "outputs": [
    {
     "data": {
      "text/plain": [
       "[]"
      ]
     },
     "execution_count": 44,
     "metadata": {},
     "output_type": "execute_result"
    }
   ],
   "source": [
    "err"
   ]
  },
  {
   "cell_type": "code",
   "execution_count": 9,
   "metadata": {
    "pycharm": {
     "name": "#%%\n"
    }
   },
   "outputs": [
    {
     "data": {
      "text/html": [
       "<div>\n",
       "<style scoped>\n",
       "    .dataframe tbody tr th:only-of-type {\n",
       "        vertical-align: middle;\n",
       "    }\n",
       "\n",
       "    .dataframe tbody tr th {\n",
       "        vertical-align: top;\n",
       "    }\n",
       "\n",
       "    .dataframe thead th {\n",
       "        text-align: right;\n",
       "    }\n",
       "</style>\n",
       "<table border=\"1\" class=\"dataframe\">\n",
       "  <thead>\n",
       "    <tr style=\"text-align: right;\">\n",
       "      <th></th>\n",
       "      <th>Feature_1</th>\n",
       "      <th>Feature_2</th>\n",
       "      <th>Correlation</th>\n",
       "      <th>complete_obs</th>\n",
       "      <th>t_statistic</th>\n",
       "      <th>pval</th>\n",
       "      <th>P_adjusted</th>\n",
       "      <th>bh_fdr_threshold</th>\n",
       "      <th>Type</th>\n",
       "    </tr>\n",
       "  </thead>\n",
       "  <tbody>\n",
       "    <tr>\n",
       "      <th>165</th>\n",
       "      <td>X0</td>\n",
       "      <td>Y66</td>\n",
       "      <td>0.223218</td>\n",
       "      <td>50.0</td>\n",
       "      <td>1.586529</td>\n",
       "      <td>0.119186</td>\n",
       "      <td>0.588975</td>\n",
       "      <td>0.016883</td>\n",
       "      <td>X_Y</td>\n",
       "    </tr>\n",
       "  </tbody>\n",
       "</table>\n",
       "</div>"
      ],
      "text/plain": [
       "    Feature_1 Feature_2  Correlation  complete_obs  t_statistic      pval  \\\n",
       "165        X0       Y66     0.223218          50.0     1.586529  0.119186   \n",
       "\n",
       "     P_adjusted  bh_fdr_threshold Type  \n",
       "165    0.588975          0.016883  X_Y  "
      ]
     },
     "execution_count": 9,
     "metadata": {},
     "output_type": "execute_result"
    }
   ],
   "source": [
    "X_Y_3[(X_Y_3['Feature_1']=='X0')&(X_Y_3['Feature_2']=='Y66')]"
   ]
  },
  {
   "cell_type": "code",
   "execution_count": 10,
   "metadata": {
    "pycharm": {
     "name": "#%%\n"
    }
   },
   "outputs": [
    {
     "data": {
      "text/plain": [
       "X_Y    10000\n",
       "Y_Y     4950\n",
       "X_X     4950\n",
       "Name: Type, dtype: int64"
      ]
     },
     "execution_count": 10,
     "metadata": {},
     "output_type": "execute_result"
    }
   ],
   "source": [
    "X_Y_3.loc[:,'Type'].value_counts()"
   ]
  },
  {
   "cell_type": "code",
   "execution_count": 11,
   "metadata": {
    "pycharm": {
     "name": "#%%\n"
    }
   },
   "outputs": [
    {
     "data": {
      "text/html": [
       "<div>\n",
       "<style scoped>\n",
       "    .dataframe tbody tr th:only-of-type {\n",
       "        vertical-align: middle;\n",
       "    }\n",
       "\n",
       "    .dataframe tbody tr th {\n",
       "        vertical-align: top;\n",
       "    }\n",
       "\n",
       "    .dataframe thead th {\n",
       "        text-align: right;\n",
       "    }\n",
       "</style>\n",
       "<table border=\"1\" class=\"dataframe\">\n",
       "  <thead>\n",
       "    <tr style=\"text-align: right;\">\n",
       "      <th></th>\n",
       "      <th>Feature_1</th>\n",
       "      <th>Feature_2</th>\n",
       "      <th>pval</th>\n",
       "      <th>Correlation</th>\n",
       "      <th>Not_NAs</th>\n",
       "      <th>P_adusted</th>\n",
       "      <th>bh_fdr_threshold</th>\n",
       "      <th>Type</th>\n",
       "    </tr>\n",
       "  </thead>\n",
       "  <tbody>\n",
       "    <tr>\n",
       "      <th>66</th>\n",
       "      <td>X0</td>\n",
       "      <td>Y66</td>\n",
       "      <td>0.119186</td>\n",
       "      <td>0.223218</td>\n",
       "      <td>50</td>\n",
       "      <td>5.021027</td>\n",
       "      <td>0.65493</td>\n",
       "      <td>X_Y</td>\n",
       "    </tr>\n",
       "  </tbody>\n",
       "</table>\n",
       "</div>"
      ],
      "text/plain": [
       "   Feature_1 Feature_2      pval  Correlation  Not_NAs  P_adusted  \\\n",
       "66        X0       Y66  0.119186     0.223218       50   5.021027   \n",
       "\n",
       "    bh_fdr_threshold Type  \n",
       "66           0.65493  X_Y  "
      ]
     },
     "execution_count": 11,
     "metadata": {},
     "output_type": "execute_result"
    }
   ],
   "source": [
    "X_Y[(X_Y['Feature_1']=='X0')&(X_Y['Feature_2']=='Y66')]"
   ]
  },
  {
   "cell_type": "code",
   "execution_count": 13,
   "metadata": {
    "pycharm": {
     "name": "#%%\n"
    }
   },
   "outputs": [],
   "source": [
    "X_Y_32 = X_Y_3[X_Y_3[\"Type\"] == \"X_Y\"]"
   ]
  },
  {
   "cell_type": "code",
   "execution_count": 14,
   "metadata": {
    "pycharm": {
     "name": "#%%\n"
    }
   },
   "outputs": [
    {
     "data": {
      "text/html": [
       "<div>\n",
       "<style scoped>\n",
       "    .dataframe tbody tr th:only-of-type {\n",
       "        vertical-align: middle;\n",
       "    }\n",
       "\n",
       "    .dataframe tbody tr th {\n",
       "        vertical-align: top;\n",
       "    }\n",
       "\n",
       "    .dataframe thead th {\n",
       "        text-align: right;\n",
       "    }\n",
       "</style>\n",
       "<table border=\"1\" class=\"dataframe\">\n",
       "  <thead>\n",
       "    <tr style=\"text-align: right;\">\n",
       "      <th></th>\n",
       "      <th>Feature_1</th>\n",
       "      <th>Feature_2</th>\n",
       "      <th>Correlation</th>\n",
       "      <th>complete_obs</th>\n",
       "      <th>t_statistic</th>\n",
       "      <th>pval</th>\n",
       "      <th>P_adjusted</th>\n",
       "      <th>bh_fdr_threshold</th>\n",
       "      <th>Type</th>\n",
       "    </tr>\n",
       "  </thead>\n",
       "  <tbody>\n",
       "    <tr>\n",
       "      <th>363</th>\n",
       "      <td>X1</td>\n",
       "      <td>Y66</td>\n",
       "      <td>0.327972</td>\n",
       "      <td>49.0</td>\n",
       "      <td>2.380114</td>\n",
       "      <td>0.021416</td>\n",
       "      <td>0.124030</td>\n",
       "      <td>0.016883</td>\n",
       "      <td>X_Y</td>\n",
       "    </tr>\n",
       "    <tr>\n",
       "      <th>372</th>\n",
       "      <td>X1</td>\n",
       "      <td>Y75</td>\n",
       "      <td>0.305052</td>\n",
       "      <td>49.0</td>\n",
       "      <td>2.195998</td>\n",
       "      <td>0.033062</td>\n",
       "      <td>0.190266</td>\n",
       "      <td>0.016883</td>\n",
       "      <td>X_Y</td>\n",
       "    </tr>\n",
       "    <tr>\n",
       "      <th>5168</th>\n",
       "      <td>X27</td>\n",
       "      <td>Y74</td>\n",
       "      <td>0.296654</td>\n",
       "      <td>50.0</td>\n",
       "      <td>2.152155</td>\n",
       "      <td>0.036443</td>\n",
       "      <td>0.209480</td>\n",
       "      <td>0.016883</td>\n",
       "      <td>X_Y</td>\n",
       "    </tr>\n",
       "    <tr>\n",
       "      <th>371</th>\n",
       "      <td>X1</td>\n",
       "      <td>Y74</td>\n",
       "      <td>0.294122</td>\n",
       "      <td>49.0</td>\n",
       "      <td>2.109718</td>\n",
       "      <td>0.040235</td>\n",
       "      <td>0.230745</td>\n",
       "      <td>0.016883</td>\n",
       "      <td>X_Y</td>\n",
       "    </tr>\n",
       "    <tr>\n",
       "      <th>3005</th>\n",
       "      <td>X15</td>\n",
       "      <td>Y41</td>\n",
       "      <td>0.287992</td>\n",
       "      <td>50.0</td>\n",
       "      <td>2.083542</td>\n",
       "      <td>0.042550</td>\n",
       "      <td>0.243530</td>\n",
       "      <td>0.016883</td>\n",
       "      <td>X_Y</td>\n",
       "    </tr>\n",
       "    <tr>\n",
       "      <th>...</th>\n",
       "      <td>...</td>\n",
       "      <td>...</td>\n",
       "      <td>...</td>\n",
       "      <td>...</td>\n",
       "      <td>...</td>\n",
       "      <td>...</td>\n",
       "      <td>...</td>\n",
       "      <td>...</td>\n",
       "      <td>...</td>\n",
       "    </tr>\n",
       "    <tr>\n",
       "      <th>12466</th>\n",
       "      <td>X77</td>\n",
       "      <td>Y47</td>\n",
       "      <td>-0.000098</td>\n",
       "      <td>50.0</td>\n",
       "      <td>-0.000682</td>\n",
       "      <td>0.999459</td>\n",
       "      <td>0.999710</td>\n",
       "      <td>0.016883</td>\n",
       "      <td>X_Y</td>\n",
       "    </tr>\n",
       "    <tr>\n",
       "      <th>4317</th>\n",
       "      <td>X22</td>\n",
       "      <td>Y93</td>\n",
       "      <td>0.000049</td>\n",
       "      <td>50.0</td>\n",
       "      <td>0.000341</td>\n",
       "      <td>0.999729</td>\n",
       "      <td>0.999930</td>\n",
       "      <td>0.016883</td>\n",
       "      <td>X_Y</td>\n",
       "    </tr>\n",
       "    <tr>\n",
       "      <th>9223</th>\n",
       "      <td>X53</td>\n",
       "      <td>Y8</td>\n",
       "      <td>0.000049</td>\n",
       "      <td>50.0</td>\n",
       "      <td>0.000341</td>\n",
       "      <td>0.999729</td>\n",
       "      <td>0.999880</td>\n",
       "      <td>0.016883</td>\n",
       "      <td>X_Y</td>\n",
       "    </tr>\n",
       "    <tr>\n",
       "      <th>13618</th>\n",
       "      <td>X87</td>\n",
       "      <td>Y34</td>\n",
       "      <td>0.000049</td>\n",
       "      <td>50.0</td>\n",
       "      <td>0.000341</td>\n",
       "      <td>0.999729</td>\n",
       "      <td>0.999830</td>\n",
       "      <td>0.016883</td>\n",
       "      <td>X_Y</td>\n",
       "    </tr>\n",
       "    <tr>\n",
       "      <th>14024</th>\n",
       "      <td>X91</td>\n",
       "      <td>Y2</td>\n",
       "      <td>0.000049</td>\n",
       "      <td>50.0</td>\n",
       "      <td>0.000341</td>\n",
       "      <td>0.999729</td>\n",
       "      <td>0.999780</td>\n",
       "      <td>0.016883</td>\n",
       "      <td>X_Y</td>\n",
       "    </tr>\n",
       "  </tbody>\n",
       "</table>\n",
       "<p>10000 rows × 9 columns</p>\n",
       "</div>"
      ],
      "text/plain": [
       "      Feature_1 Feature_2  Correlation  complete_obs  t_statistic      pval  \\\n",
       "363          X1       Y66     0.327972          49.0     2.380114  0.021416   \n",
       "372          X1       Y75     0.305052          49.0     2.195998  0.033062   \n",
       "5168        X27       Y74     0.296654          50.0     2.152155  0.036443   \n",
       "371          X1       Y74     0.294122          49.0     2.109718  0.040235   \n",
       "3005        X15       Y41     0.287992          50.0     2.083542  0.042550   \n",
       "...         ...       ...          ...           ...          ...       ...   \n",
       "12466       X77       Y47    -0.000098          50.0    -0.000682  0.999459   \n",
       "4317        X22       Y93     0.000049          50.0     0.000341  0.999729   \n",
       "9223        X53        Y8     0.000049          50.0     0.000341  0.999729   \n",
       "13618       X87       Y34     0.000049          50.0     0.000341  0.999729   \n",
       "14024       X91        Y2     0.000049          50.0     0.000341  0.999729   \n",
       "\n",
       "       P_adjusted  bh_fdr_threshold Type  \n",
       "363      0.124030          0.016883  X_Y  \n",
       "372      0.190266          0.016883  X_Y  \n",
       "5168     0.209480          0.016883  X_Y  \n",
       "371      0.230745          0.016883  X_Y  \n",
       "3005     0.243530          0.016883  X_Y  \n",
       "...           ...               ...  ...  \n",
       "12466    0.999710          0.016883  X_Y  \n",
       "4317     0.999930          0.016883  X_Y  \n",
       "9223     0.999880          0.016883  X_Y  \n",
       "13618    0.999830          0.016883  X_Y  \n",
       "14024    0.999780          0.016883  X_Y  \n",
       "\n",
       "[10000 rows x 9 columns]"
      ]
     },
     "execution_count": 14,
     "metadata": {},
     "output_type": "execute_result"
    }
   ],
   "source": [
    "X_Y_32"
   ]
  },
  {
   "cell_type": "code",
   "execution_count": 15,
   "metadata": {
    "pycharm": {
     "name": "#%%\n"
    }
   },
   "outputs": [],
   "source": [
    "simtable = pd.pivot(X_Y_32, index=\"Feature_1\", columns=\"Feature_2\", values='Correlation') #Reshape from long to wide"
   ]
  },
  {
   "cell_type": "code",
   "execution_count": 16,
   "metadata": {
    "pycharm": {
     "name": "#%%\n"
    }
   },
   "outputs": [
    {
     "data": {
      "text/html": [
       "<div>\n",
       "<style scoped>\n",
       "    .dataframe tbody tr th:only-of-type {\n",
       "        vertical-align: middle;\n",
       "    }\n",
       "\n",
       "    .dataframe tbody tr th {\n",
       "        vertical-align: top;\n",
       "    }\n",
       "\n",
       "    .dataframe thead th {\n",
       "        text-align: right;\n",
       "    }\n",
       "</style>\n",
       "<table border=\"1\" class=\"dataframe\">\n",
       "  <thead>\n",
       "    <tr style=\"text-align: right;\">\n",
       "      <th>Feature_2</th>\n",
       "      <th>Y0</th>\n",
       "      <th>Y1</th>\n",
       "      <th>Y10</th>\n",
       "      <th>Y11</th>\n",
       "      <th>Y12</th>\n",
       "      <th>Y13</th>\n",
       "      <th>Y14</th>\n",
       "      <th>Y15</th>\n",
       "      <th>Y16</th>\n",
       "      <th>Y17</th>\n",
       "      <th>...</th>\n",
       "      <th>Y90</th>\n",
       "      <th>Y91</th>\n",
       "      <th>Y92</th>\n",
       "      <th>Y93</th>\n",
       "      <th>Y94</th>\n",
       "      <th>Y95</th>\n",
       "      <th>Y96</th>\n",
       "      <th>Y97</th>\n",
       "      <th>Y98</th>\n",
       "      <th>Y99</th>\n",
       "    </tr>\n",
       "    <tr>\n",
       "      <th>Feature_1</th>\n",
       "      <th></th>\n",
       "      <th></th>\n",
       "      <th></th>\n",
       "      <th></th>\n",
       "      <th></th>\n",
       "      <th></th>\n",
       "      <th></th>\n",
       "      <th></th>\n",
       "      <th></th>\n",
       "      <th></th>\n",
       "      <th></th>\n",
       "      <th></th>\n",
       "      <th></th>\n",
       "      <th></th>\n",
       "      <th></th>\n",
       "      <th></th>\n",
       "      <th></th>\n",
       "      <th></th>\n",
       "      <th></th>\n",
       "      <th></th>\n",
       "      <th></th>\n",
       "    </tr>\n",
       "  </thead>\n",
       "  <tbody>\n",
       "    <tr>\n",
       "      <th>X0</th>\n",
       "      <td>-0.064777</td>\n",
       "      <td>-0.028155</td>\n",
       "      <td>-0.032880</td>\n",
       "      <td>0.028549</td>\n",
       "      <td>-0.008071</td>\n",
       "      <td>-0.045866</td>\n",
       "      <td>-0.010041</td>\n",
       "      <td>0.013192</td>\n",
       "      <td>0.002166</td>\n",
       "      <td>0.034849</td>\n",
       "      <td>...</td>\n",
       "      <td>0.005956</td>\n",
       "      <td>-0.081299</td>\n",
       "      <td>-0.072638</td>\n",
       "      <td>-0.075015</td>\n",
       "      <td>-0.124385</td>\n",
       "      <td>-0.060199</td>\n",
       "      <td>-0.068701</td>\n",
       "      <td>-0.081299</td>\n",
       "      <td>-0.072638</td>\n",
       "      <td>-0.101004</td>\n",
       "    </tr>\n",
       "    <tr>\n",
       "      <th>X1</th>\n",
       "      <td>-0.166641</td>\n",
       "      <td>-0.132381</td>\n",
       "      <td>-0.074402</td>\n",
       "      <td>0.001543</td>\n",
       "      <td>-0.091251</td>\n",
       "      <td>-0.115725</td>\n",
       "      <td>-0.077985</td>\n",
       "      <td>-0.059914</td>\n",
       "      <td>-0.071081</td>\n",
       "      <td>-0.019379</td>\n",
       "      <td>...</td>\n",
       "      <td>0.127439</td>\n",
       "      <td>0.014537</td>\n",
       "      <td>0.040030</td>\n",
       "      <td>0.042889</td>\n",
       "      <td>-0.020316</td>\n",
       "      <td>0.069628</td>\n",
       "      <td>-0.008864</td>\n",
       "      <td>0.035455</td>\n",
       "      <td>0.033337</td>\n",
       "      <td>0.002354</td>\n",
       "    </tr>\n",
       "    <tr>\n",
       "      <th>X10</th>\n",
       "      <td>-0.093670</td>\n",
       "      <td>-0.071618</td>\n",
       "      <td>-0.065859</td>\n",
       "      <td>-0.001920</td>\n",
       "      <td>-0.071850</td>\n",
       "      <td>-0.086811</td>\n",
       "      <td>-0.020427</td>\n",
       "      <td>0.004922</td>\n",
       "      <td>-0.028303</td>\n",
       "      <td>-0.002313</td>\n",
       "      <td>...</td>\n",
       "      <td>0.104007</td>\n",
       "      <td>0.000591</td>\n",
       "      <td>0.004528</td>\n",
       "      <td>0.008712</td>\n",
       "      <td>-0.042331</td>\n",
       "      <td>0.028155</td>\n",
       "      <td>-0.024606</td>\n",
       "      <td>-0.009646</td>\n",
       "      <td>0.010827</td>\n",
       "      <td>-0.020033</td>\n",
       "    </tr>\n",
       "    <tr>\n",
       "      <th>X11</th>\n",
       "      <td>-0.140136</td>\n",
       "      <td>-0.079888</td>\n",
       "      <td>-0.078559</td>\n",
       "      <td>-0.010189</td>\n",
       "      <td>-0.053740</td>\n",
       "      <td>-0.104134</td>\n",
       "      <td>-0.060986</td>\n",
       "      <td>-0.038000</td>\n",
       "      <td>-0.068862</td>\n",
       "      <td>0.015407</td>\n",
       "      <td>...</td>\n",
       "      <td>0.022642</td>\n",
       "      <td>-0.068701</td>\n",
       "      <td>-0.056102</td>\n",
       "      <td>-0.057836</td>\n",
       "      <td>-0.101792</td>\n",
       "      <td>-0.042479</td>\n",
       "      <td>-0.068701</td>\n",
       "      <td>-0.077362</td>\n",
       "      <td>-0.062402</td>\n",
       "      <td>-0.102185</td>\n",
       "    </tr>\n",
       "    <tr>\n",
       "      <th>X12</th>\n",
       "      <td>-0.089048</td>\n",
       "      <td>-0.067877</td>\n",
       "      <td>-0.021654</td>\n",
       "      <td>0.049724</td>\n",
       "      <td>-0.054123</td>\n",
       "      <td>-0.058359</td>\n",
       "      <td>-0.035259</td>\n",
       "      <td>0.002249</td>\n",
       "      <td>-0.028186</td>\n",
       "      <td>0.035913</td>\n",
       "      <td>...</td>\n",
       "      <td>0.007453</td>\n",
       "      <td>-0.107201</td>\n",
       "      <td>-0.089578</td>\n",
       "      <td>-0.096815</td>\n",
       "      <td>-0.148073</td>\n",
       "      <td>-0.073749</td>\n",
       "      <td>-0.113476</td>\n",
       "      <td>-0.104534</td>\n",
       "      <td>-0.108037</td>\n",
       "      <td>-0.137505</td>\n",
       "    </tr>\n",
       "    <tr>\n",
       "      <th>...</th>\n",
       "      <td>...</td>\n",
       "      <td>...</td>\n",
       "      <td>...</td>\n",
       "      <td>...</td>\n",
       "      <td>...</td>\n",
       "      <td>...</td>\n",
       "      <td>...</td>\n",
       "      <td>...</td>\n",
       "      <td>...</td>\n",
       "      <td>...</td>\n",
       "      <td>...</td>\n",
       "      <td>...</td>\n",
       "      <td>...</td>\n",
       "      <td>...</td>\n",
       "      <td>...</td>\n",
       "      <td>...</td>\n",
       "      <td>...</td>\n",
       "      <td>...</td>\n",
       "      <td>...</td>\n",
       "      <td>...</td>\n",
       "      <td>...</td>\n",
       "    </tr>\n",
       "    <tr>\n",
       "      <th>X95</th>\n",
       "      <td>-0.082004</td>\n",
       "      <td>-0.055867</td>\n",
       "      <td>-0.035145</td>\n",
       "      <td>-0.088551</td>\n",
       "      <td>-0.134843</td>\n",
       "      <td>0.049409</td>\n",
       "      <td>-0.119659</td>\n",
       "      <td>-0.095245</td>\n",
       "      <td>-0.055621</td>\n",
       "      <td>-0.171097</td>\n",
       "      <td>...</td>\n",
       "      <td>0.240992</td>\n",
       "      <td>0.174803</td>\n",
       "      <td>0.262992</td>\n",
       "      <td>0.215397</td>\n",
       "      <td>0.207915</td>\n",
       "      <td>0.164206</td>\n",
       "      <td>0.237795</td>\n",
       "      <td>0.181102</td>\n",
       "      <td>0.225197</td>\n",
       "      <td>0.154361</td>\n",
       "    </tr>\n",
       "    <tr>\n",
       "      <th>X96</th>\n",
       "      <td>0.004627</td>\n",
       "      <td>0.018557</td>\n",
       "      <td>0.032979</td>\n",
       "      <td>-0.033816</td>\n",
       "      <td>-0.034055</td>\n",
       "      <td>0.112402</td>\n",
       "      <td>-0.051536</td>\n",
       "      <td>0.010681</td>\n",
       "      <td>0.031404</td>\n",
       "      <td>-0.096673</td>\n",
       "      <td>...</td>\n",
       "      <td>0.208703</td>\n",
       "      <td>0.162205</td>\n",
       "      <td>0.237795</td>\n",
       "      <td>0.185470</td>\n",
       "      <td>0.201614</td>\n",
       "      <td>0.109077</td>\n",
       "      <td>0.218898</td>\n",
       "      <td>0.155906</td>\n",
       "      <td>0.231496</td>\n",
       "      <td>0.140973</td>\n",
       "    </tr>\n",
       "    <tr>\n",
       "      <th>X97</th>\n",
       "      <td>-0.010730</td>\n",
       "      <td>-0.033422</td>\n",
       "      <td>0.025103</td>\n",
       "      <td>-0.060199</td>\n",
       "      <td>-0.080512</td>\n",
       "      <td>0.097441</td>\n",
       "      <td>-0.084613</td>\n",
       "      <td>-0.035785</td>\n",
       "      <td>-0.007580</td>\n",
       "      <td>-0.142351</td>\n",
       "      <td>...</td>\n",
       "      <td>0.214609</td>\n",
       "      <td>0.118110</td>\n",
       "      <td>0.218898</td>\n",
       "      <td>0.183894</td>\n",
       "      <td>0.189407</td>\n",
       "      <td>0.151998</td>\n",
       "      <td>0.187402</td>\n",
       "      <td>0.137008</td>\n",
       "      <td>0.193701</td>\n",
       "      <td>0.109470</td>\n",
       "    </tr>\n",
       "    <tr>\n",
       "      <th>X98</th>\n",
       "      <td>0.015259</td>\n",
       "      <td>0.048484</td>\n",
       "      <td>0.060543</td>\n",
       "      <td>-0.003889</td>\n",
       "      <td>-0.017520</td>\n",
       "      <td>0.135236</td>\n",
       "      <td>-0.015308</td>\n",
       "      <td>0.026432</td>\n",
       "      <td>0.035735</td>\n",
       "      <td>-0.079740</td>\n",
       "      <td>...</td>\n",
       "      <td>0.222485</td>\n",
       "      <td>0.155906</td>\n",
       "      <td>0.231496</td>\n",
       "      <td>0.173656</td>\n",
       "      <td>0.195314</td>\n",
       "      <td>0.114589</td>\n",
       "      <td>0.212598</td>\n",
       "      <td>0.149606</td>\n",
       "      <td>0.200000</td>\n",
       "      <td>0.128372</td>\n",
       "    </tr>\n",
       "    <tr>\n",
       "      <th>X99</th>\n",
       "      <td>0.017622</td>\n",
       "      <td>0.019344</td>\n",
       "      <td>0.019984</td>\n",
       "      <td>-0.007039</td>\n",
       "      <td>-0.027756</td>\n",
       "      <td>0.118701</td>\n",
       "      <td>-0.031453</td>\n",
       "      <td>0.003987</td>\n",
       "      <td>0.019590</td>\n",
       "      <td>-0.095885</td>\n",
       "      <td>...</td>\n",
       "      <td>0.208703</td>\n",
       "      <td>0.155906</td>\n",
       "      <td>0.218898</td>\n",
       "      <td>0.165781</td>\n",
       "      <td>0.164599</td>\n",
       "      <td>0.132703</td>\n",
       "      <td>0.206299</td>\n",
       "      <td>0.143307</td>\n",
       "      <td>0.200000</td>\n",
       "      <td>0.153967</td>\n",
       "    </tr>\n",
       "  </tbody>\n",
       "</table>\n",
       "<p>100 rows × 100 columns</p>\n",
       "</div>"
      ],
      "text/plain": [
       "Feature_2        Y0        Y1       Y10       Y11       Y12       Y13  \\\n",
       "Feature_1                                                               \n",
       "X0        -0.064777 -0.028155 -0.032880  0.028549 -0.008071 -0.045866   \n",
       "X1        -0.166641 -0.132381 -0.074402  0.001543 -0.091251 -0.115725   \n",
       "X10       -0.093670 -0.071618 -0.065859 -0.001920 -0.071850 -0.086811   \n",
       "X11       -0.140136 -0.079888 -0.078559 -0.010189 -0.053740 -0.104134   \n",
       "X12       -0.089048 -0.067877 -0.021654  0.049724 -0.054123 -0.058359   \n",
       "...             ...       ...       ...       ...       ...       ...   \n",
       "X95       -0.082004 -0.055867 -0.035145 -0.088551 -0.134843  0.049409   \n",
       "X96        0.004627  0.018557  0.032979 -0.033816 -0.034055  0.112402   \n",
       "X97       -0.010730 -0.033422  0.025103 -0.060199 -0.080512  0.097441   \n",
       "X98        0.015259  0.048484  0.060543 -0.003889 -0.017520  0.135236   \n",
       "X99        0.017622  0.019344  0.019984 -0.007039 -0.027756  0.118701   \n",
       "\n",
       "Feature_2       Y14       Y15       Y16       Y17  ...       Y90       Y91  \\\n",
       "Feature_1                                          ...                       \n",
       "X0        -0.010041  0.013192  0.002166  0.034849  ...  0.005956 -0.081299   \n",
       "X1        -0.077985 -0.059914 -0.071081 -0.019379  ...  0.127439  0.014537   \n",
       "X10       -0.020427  0.004922 -0.028303 -0.002313  ...  0.104007  0.000591   \n",
       "X11       -0.060986 -0.038000 -0.068862  0.015407  ...  0.022642 -0.068701   \n",
       "X12       -0.035259  0.002249 -0.028186  0.035913  ...  0.007453 -0.107201   \n",
       "...             ...       ...       ...       ...  ...       ...       ...   \n",
       "X95       -0.119659 -0.095245 -0.055621 -0.171097  ...  0.240992  0.174803   \n",
       "X96       -0.051536  0.010681  0.031404 -0.096673  ...  0.208703  0.162205   \n",
       "X97       -0.084613 -0.035785 -0.007580 -0.142351  ...  0.214609  0.118110   \n",
       "X98       -0.015308  0.026432  0.035735 -0.079740  ...  0.222485  0.155906   \n",
       "X99       -0.031453  0.003987  0.019590 -0.095885  ...  0.208703  0.155906   \n",
       "\n",
       "Feature_2       Y92       Y93       Y94       Y95       Y96       Y97  \\\n",
       "Feature_1                                                               \n",
       "X0        -0.072638 -0.075015 -0.124385 -0.060199 -0.068701 -0.081299   \n",
       "X1         0.040030  0.042889 -0.020316  0.069628 -0.008864  0.035455   \n",
       "X10        0.004528  0.008712 -0.042331  0.028155 -0.024606 -0.009646   \n",
       "X11       -0.056102 -0.057836 -0.101792 -0.042479 -0.068701 -0.077362   \n",
       "X12       -0.089578 -0.096815 -0.148073 -0.073749 -0.113476 -0.104534   \n",
       "...             ...       ...       ...       ...       ...       ...   \n",
       "X95        0.262992  0.215397  0.207915  0.164206  0.237795  0.181102   \n",
       "X96        0.237795  0.185470  0.201614  0.109077  0.218898  0.155906   \n",
       "X97        0.218898  0.183894  0.189407  0.151998  0.187402  0.137008   \n",
       "X98        0.231496  0.173656  0.195314  0.114589  0.212598  0.149606   \n",
       "X99        0.218898  0.165781  0.164599  0.132703  0.206299  0.143307   \n",
       "\n",
       "Feature_2       Y98       Y99  \n",
       "Feature_1                      \n",
       "X0        -0.072638 -0.101004  \n",
       "X1         0.033337  0.002354  \n",
       "X10        0.010827 -0.020033  \n",
       "X11       -0.062402 -0.102185  \n",
       "X12       -0.108037 -0.137505  \n",
       "...             ...       ...  \n",
       "X95        0.225197  0.154361  \n",
       "X96        0.231496  0.140973  \n",
       "X97        0.193701  0.109470  \n",
       "X98        0.200000  0.128372  \n",
       "X99        0.200000  0.153967  \n",
       "\n",
       "[100 rows x 100 columns]"
      ]
     },
     "execution_count": 16,
     "metadata": {},
     "output_type": "execute_result"
    }
   ],
   "source": [
    "simtable"
   ]
  },
  {
   "cell_type": "code",
   "execution_count": 12,
   "metadata": {
    "pycharm": {
     "name": "#%%\n"
    }
   },
   "outputs": [
    {
     "name": "stdout",
     "output_type": "stream",
     "text": [
      "8.130073547363281e-05\n"
     ]
    }
   ],
   "source": [
    "t1 = time.time()\n",
    "for i in range(1000):\n",
    "    i\n",
    "t2 = time.time()\n",
    "print(t2-t1)"
   ]
  },
  {
   "cell_type": "code",
   "execution_count": 13,
   "metadata": {
    "pycharm": {
     "name": "#%%\n"
    }
   },
   "outputs": [],
   "source": [
    "nrow = 5000\n",
    "ncol = 100\n",
    "aa = np.array(np.random.random(size=nrow*ncol), dtype=np.float32)\n",
    "aa[np.random.randint(0, nrow*ncol, size = int(nrow*ncol/20))]=np.nan\n",
    "aa = aa.reshape((nrow,ncol))\n",
    "feature_names = ['P'+str(i) for i in range(nrow)]"
   ]
  },
  {
   "cell_type": "code",
   "execution_count": 14,
   "metadata": {
    "pycharm": {
     "name": "#%%\n"
    }
   },
   "outputs": [
    {
     "ename": "KeyboardInterrupt",
     "evalue": "",
     "output_type": "error",
     "traceback": [
      "\u001b[0;31m---------------------------------------------------------------------------\u001b[0m",
      "\u001b[0;31mKeyboardInterrupt\u001b[0m                         Traceback (most recent call last)",
      "\u001b[0;32m<timed exec>\u001b[0m in \u001b[0;36m<module>\u001b[0;34m\u001b[0m\n",
      "\u001b[0;32m~/Documents/omicsEye/btest/btest/utils.py\u001b[0m in \u001b[0;36mbtest_corr_3\u001b[0;34m(dataAll, features, features_y, method, fdr, Type)\u001b[0m\n\u001b[1;32m    272\u001b[0m \u001b[0;34m\u001b[0m\u001b[0m\n\u001b[1;32m    273\u001b[0m     \u001b[0mt_cr\u001b[0m \u001b[0;34m=\u001b[0m \u001b[0mtime\u001b[0m\u001b[0;34m.\u001b[0m\u001b[0mtime\u001b[0m\u001b[0;34m(\u001b[0m\u001b[0;34m)\u001b[0m\u001b[0;34m\u001b[0m\u001b[0;34m\u001b[0m\u001b[0m\n\u001b[0;32m--> 274\u001b[0;31m     \u001b[0mcr\u001b[0m \u001b[0;34m=\u001b[0m \u001b[0mdataAll2\u001b[0m\u001b[0;34m.\u001b[0m\u001b[0mcorr\u001b[0m\u001b[0;34m(\u001b[0m\u001b[0mmethod\u001b[0m\u001b[0;34m=\u001b[0m\u001b[0mmethod\u001b[0m\u001b[0;34m)\u001b[0m\u001b[0;34m\u001b[0m\u001b[0;34m\u001b[0m\u001b[0m\n\u001b[0m\u001b[1;32m    275\u001b[0m     \u001b[0mprint\u001b[0m\u001b[0;34m(\u001b[0m\u001b[0;34m\"correlation time: \"\u001b[0m\u001b[0;34m,\u001b[0m \u001b[0mtime\u001b[0m\u001b[0;34m.\u001b[0m\u001b[0mtime\u001b[0m\u001b[0;34m(\u001b[0m\u001b[0;34m)\u001b[0m\u001b[0;34m-\u001b[0m\u001b[0mt_cr\u001b[0m\u001b[0;34m)\u001b[0m\u001b[0;34m\u001b[0m\u001b[0;34m\u001b[0m\u001b[0m\n\u001b[1;32m    276\u001b[0m \u001b[0;34m\u001b[0m\u001b[0m\n",
      "\u001b[0;32m/Library/anaconda3/lib/python3.9/site-packages/pandas/core/frame.py\u001b[0m in \u001b[0;36mcorr\u001b[0;34m(self, method, min_periods)\u001b[0m\n\u001b[1;32m   9379\u001b[0m             \u001b[0mcorrel\u001b[0m \u001b[0;34m=\u001b[0m \u001b[0mlibalgos\u001b[0m\u001b[0;34m.\u001b[0m\u001b[0mnancorr\u001b[0m\u001b[0;34m(\u001b[0m\u001b[0mmat\u001b[0m\u001b[0;34m,\u001b[0m \u001b[0mminp\u001b[0m\u001b[0;34m=\u001b[0m\u001b[0mmin_periods\u001b[0m\u001b[0;34m)\u001b[0m\u001b[0;34m\u001b[0m\u001b[0;34m\u001b[0m\u001b[0m\n\u001b[1;32m   9380\u001b[0m         \u001b[0;32melif\u001b[0m \u001b[0mmethod\u001b[0m \u001b[0;34m==\u001b[0m \u001b[0;34m\"spearman\"\u001b[0m\u001b[0;34m:\u001b[0m\u001b[0;34m\u001b[0m\u001b[0;34m\u001b[0m\u001b[0m\n\u001b[0;32m-> 9381\u001b[0;31m             \u001b[0mcorrel\u001b[0m \u001b[0;34m=\u001b[0m \u001b[0mlibalgos\u001b[0m\u001b[0;34m.\u001b[0m\u001b[0mnancorr_spearman\u001b[0m\u001b[0;34m(\u001b[0m\u001b[0mmat\u001b[0m\u001b[0;34m,\u001b[0m \u001b[0mminp\u001b[0m\u001b[0;34m=\u001b[0m\u001b[0mmin_periods\u001b[0m\u001b[0;34m)\u001b[0m\u001b[0;34m\u001b[0m\u001b[0;34m\u001b[0m\u001b[0m\n\u001b[0m\u001b[1;32m   9382\u001b[0m         \u001b[0;32melif\u001b[0m \u001b[0mmethod\u001b[0m \u001b[0;34m==\u001b[0m \u001b[0;34m\"kendall\"\u001b[0m \u001b[0;32mor\u001b[0m \u001b[0mcallable\u001b[0m\u001b[0;34m(\u001b[0m\u001b[0mmethod\u001b[0m\u001b[0;34m)\u001b[0m\u001b[0;34m:\u001b[0m\u001b[0;34m\u001b[0m\u001b[0;34m\u001b[0m\u001b[0m\n\u001b[1;32m   9383\u001b[0m             \u001b[0;32mif\u001b[0m \u001b[0mmin_periods\u001b[0m \u001b[0;32mis\u001b[0m \u001b[0;32mNone\u001b[0m\u001b[0;34m:\u001b[0m\u001b[0;34m\u001b[0m\u001b[0;34m\u001b[0m\u001b[0m\n",
      "\u001b[0;32m/Library/anaconda3/lib/python3.9/site-packages/pandas/_libs/algos.pyx\u001b[0m in \u001b[0;36mpandas._libs.algos.nancorr_spearman\u001b[0;34m()\u001b[0m\n",
      "\u001b[0;32m/Library/anaconda3/lib/python3.9/site-packages/pandas/_libs/algos.pyx\u001b[0m in \u001b[0;36mpandas._libs.algos.rank_1d\u001b[0;34m()\u001b[0m\n",
      "\u001b[0;32m<__array_function__ internals>\u001b[0m in \u001b[0;36mputmask\u001b[0;34m(*args, **kwargs)\u001b[0m\n",
      "\u001b[0;31mKeyboardInterrupt\u001b[0m: "
     ]
    }
   ],
   "source": [
    "%%time\n",
    "#test\n",
    "test_withinX = utils.btest_corr_3(aa, features=feature_names, method=method, fdr=fdr, Type='withinX')"
   ]
  },
  {
   "cell_type": "code",
   "execution_count": 15,
   "metadata": {
    "pycharm": {
     "name": "#%%\n"
    }
   },
   "outputs": [
    {
     "name": "stdout",
     "output_type": "stream",
     "text": [
      "correlation time:  3.98840594291687\n",
      "obs count time:  1.3174548149108887\n",
      "long transform time:  4.27480411529541\n",
      "p-value time:  5.411080837249756\n",
      "bh time:  4.489036798477173\n",
      "names time:  0.045684814453125\n"
     ]
    },
    {
     "ename": "KeyboardInterrupt",
     "evalue": "",
     "output_type": "error",
     "traceback": [
      "\u001b[0;31m---------------------------------------------------------------------------\u001b[0m",
      "\u001b[0;31mKeyboardInterrupt\u001b[0m                         Traceback (most recent call last)",
      "\u001b[0;32m<timed exec>\u001b[0m in \u001b[0;36m<module>\u001b[0;34m\u001b[0m\n",
      "\u001b[0;32m~/Documents/omicsEye/btest/btest/utils.py\u001b[0m in \u001b[0;36mbtest_corr_3\u001b[0;34m(dataAll, features, features_y, method, fdr, Type)\u001b[0m\n\u001b[1;32m    334\u001b[0m \u001b[0;34m\u001b[0m\u001b[0m\n\u001b[1;32m    335\u001b[0m     \u001b[0mt_sort\u001b[0m \u001b[0;34m=\u001b[0m \u001b[0mtime\u001b[0m\u001b[0;34m.\u001b[0m\u001b[0mtime\u001b[0m\u001b[0;34m(\u001b[0m\u001b[0;34m)\u001b[0m\u001b[0;34m\u001b[0m\u001b[0;34m\u001b[0m\u001b[0m\n\u001b[0;32m--> 336\u001b[0;31m     df_f = df_f.sort_values(['pval', 'Correlation'],\n\u001b[0m\u001b[1;32m    337\u001b[0m                             ascending=[True, False])\n\u001b[1;32m    338\u001b[0m     \u001b[0mprint\u001b[0m\u001b[0;34m(\u001b[0m\u001b[0;34m\"sort time: \"\u001b[0m\u001b[0;34m,\u001b[0m \u001b[0mtime\u001b[0m\u001b[0;34m.\u001b[0m\u001b[0mtime\u001b[0m\u001b[0;34m(\u001b[0m\u001b[0;34m)\u001b[0m\u001b[0;34m-\u001b[0m\u001b[0mt_sort\u001b[0m\u001b[0;34m)\u001b[0m\u001b[0;34m\u001b[0m\u001b[0;34m\u001b[0m\u001b[0m\n",
      "\u001b[0;32m/Library/anaconda3/lib/python3.9/site-packages/pandas/util/_decorators.py\u001b[0m in \u001b[0;36mwrapper\u001b[0;34m(*args, **kwargs)\u001b[0m\n\u001b[1;32m    309\u001b[0m                     \u001b[0mstacklevel\u001b[0m\u001b[0;34m=\u001b[0m\u001b[0mstacklevel\u001b[0m\u001b[0;34m,\u001b[0m\u001b[0;34m\u001b[0m\u001b[0;34m\u001b[0m\u001b[0m\n\u001b[1;32m    310\u001b[0m                 )\n\u001b[0;32m--> 311\u001b[0;31m             \u001b[0;32mreturn\u001b[0m \u001b[0mfunc\u001b[0m\u001b[0;34m(\u001b[0m\u001b[0;34m*\u001b[0m\u001b[0margs\u001b[0m\u001b[0;34m,\u001b[0m \u001b[0;34m**\u001b[0m\u001b[0mkwargs\u001b[0m\u001b[0;34m)\u001b[0m\u001b[0;34m\u001b[0m\u001b[0;34m\u001b[0m\u001b[0m\n\u001b[0m\u001b[1;32m    312\u001b[0m \u001b[0;34m\u001b[0m\u001b[0m\n\u001b[1;32m    313\u001b[0m         \u001b[0;32mreturn\u001b[0m \u001b[0mwrapper\u001b[0m\u001b[0;34m\u001b[0m\u001b[0;34m\u001b[0m\u001b[0m\n",
      "\u001b[0;32m/Library/anaconda3/lib/python3.9/site-packages/pandas/core/frame.py\u001b[0m in \u001b[0;36msort_values\u001b[0;34m(self, by, axis, ascending, inplace, kind, na_position, ignore_index, key)\u001b[0m\n\u001b[1;32m   6251\u001b[0m                 ]\n\u001b[1;32m   6252\u001b[0m \u001b[0;34m\u001b[0m\u001b[0m\n\u001b[0;32m-> 6253\u001b[0;31m             indexer = lexsort_indexer(\n\u001b[0m\u001b[1;32m   6254\u001b[0m                 \u001b[0mkeys\u001b[0m\u001b[0;34m,\u001b[0m \u001b[0morders\u001b[0m\u001b[0;34m=\u001b[0m\u001b[0mascending\u001b[0m\u001b[0;34m,\u001b[0m \u001b[0mna_position\u001b[0m\u001b[0;34m=\u001b[0m\u001b[0mna_position\u001b[0m\u001b[0;34m,\u001b[0m \u001b[0mkey\u001b[0m\u001b[0;34m=\u001b[0m\u001b[0mkey\u001b[0m\u001b[0;34m\u001b[0m\u001b[0;34m\u001b[0m\u001b[0m\n\u001b[1;32m   6255\u001b[0m             )\n",
      "\u001b[0;32m/Library/anaconda3/lib/python3.9/site-packages/pandas/core/sorting.py\u001b[0m in \u001b[0;36mlexsort_indexer\u001b[0;34m(keys, orders, na_position, key)\u001b[0m\n\u001b[1;32m    338\u001b[0m         \u001b[0mlabels\u001b[0m\u001b[0;34m.\u001b[0m\u001b[0mappend\u001b[0m\u001b[0;34m(\u001b[0m\u001b[0mcodes\u001b[0m\u001b[0;34m)\u001b[0m\u001b[0;34m\u001b[0m\u001b[0;34m\u001b[0m\u001b[0m\n\u001b[1;32m    339\u001b[0m \u001b[0;34m\u001b[0m\u001b[0m\n\u001b[0;32m--> 340\u001b[0;31m     \u001b[0;32mreturn\u001b[0m \u001b[0mindexer_from_factorized\u001b[0m\u001b[0;34m(\u001b[0m\u001b[0mlabels\u001b[0m\u001b[0;34m,\u001b[0m \u001b[0mtuple\u001b[0m\u001b[0;34m(\u001b[0m\u001b[0mshape\u001b[0m\u001b[0;34m)\u001b[0m\u001b[0;34m)\u001b[0m\u001b[0;34m\u001b[0m\u001b[0;34m\u001b[0m\u001b[0m\n\u001b[0m\u001b[1;32m    341\u001b[0m \u001b[0;34m\u001b[0m\u001b[0m\n\u001b[1;32m    342\u001b[0m \u001b[0;34m\u001b[0m\u001b[0m\n",
      "\u001b[0;32m/Library/anaconda3/lib/python3.9/site-packages/pandas/core/sorting.py\u001b[0m in \u001b[0;36mindexer_from_factorized\u001b[0;34m(labels, shape, compress)\u001b[0m\n\u001b[1;32m    263\u001b[0m \u001b[0;32mdef\u001b[0m \u001b[0mindexer_from_factorized\u001b[0m\u001b[0;34m(\u001b[0m\u001b[0mlabels\u001b[0m\u001b[0;34m,\u001b[0m \u001b[0mshape\u001b[0m\u001b[0;34m:\u001b[0m \u001b[0mShape\u001b[0m\u001b[0;34m,\u001b[0m \u001b[0mcompress\u001b[0m\u001b[0;34m:\u001b[0m \u001b[0mbool\u001b[0m \u001b[0;34m=\u001b[0m \u001b[0;32mTrue\u001b[0m\u001b[0;34m)\u001b[0m \u001b[0;34m->\u001b[0m \u001b[0mnp\u001b[0m\u001b[0;34m.\u001b[0m\u001b[0mndarray\u001b[0m\u001b[0;34m:\u001b[0m\u001b[0;34m\u001b[0m\u001b[0;34m\u001b[0m\u001b[0m\n\u001b[1;32m    264\u001b[0m     \u001b[0;31m# returned ndarray is np.intp\u001b[0m\u001b[0;34m\u001b[0m\u001b[0;34m\u001b[0m\u001b[0m\n\u001b[0;32m--> 265\u001b[0;31m     \u001b[0mids\u001b[0m \u001b[0;34m=\u001b[0m \u001b[0mget_group_index\u001b[0m\u001b[0;34m(\u001b[0m\u001b[0mlabels\u001b[0m\u001b[0;34m,\u001b[0m \u001b[0mshape\u001b[0m\u001b[0;34m,\u001b[0m \u001b[0msort\u001b[0m\u001b[0;34m=\u001b[0m\u001b[0;32mTrue\u001b[0m\u001b[0;34m,\u001b[0m \u001b[0mxnull\u001b[0m\u001b[0;34m=\u001b[0m\u001b[0;32mFalse\u001b[0m\u001b[0;34m)\u001b[0m\u001b[0;34m\u001b[0m\u001b[0;34m\u001b[0m\u001b[0m\n\u001b[0m\u001b[1;32m    266\u001b[0m \u001b[0;34m\u001b[0m\u001b[0m\n\u001b[1;32m    267\u001b[0m     \u001b[0;32mif\u001b[0m \u001b[0;32mnot\u001b[0m \u001b[0mcompress\u001b[0m\u001b[0;34m:\u001b[0m\u001b[0;34m\u001b[0m\u001b[0;34m\u001b[0m\u001b[0m\n",
      "\u001b[0;32m/Library/anaconda3/lib/python3.9/site-packages/pandas/core/sorting.py\u001b[0m in \u001b[0;36mget_group_index\u001b[0;34m(labels, shape, sort, xnull)\u001b[0m\n\u001b[1;32m    141\u001b[0m         \u001b[0;32mreturn\u001b[0m \u001b[0;34m(\u001b[0m\u001b[0mlab\u001b[0m \u001b[0;34m+\u001b[0m \u001b[0;36m1\u001b[0m\u001b[0;34m,\u001b[0m \u001b[0msize\u001b[0m \u001b[0;34m+\u001b[0m \u001b[0;36m1\u001b[0m\u001b[0;34m)\u001b[0m \u001b[0;32mif\u001b[0m \u001b[0;34m(\u001b[0m\u001b[0mlab\u001b[0m \u001b[0;34m==\u001b[0m \u001b[0;34m-\u001b[0m\u001b[0;36m1\u001b[0m\u001b[0;34m)\u001b[0m\u001b[0;34m.\u001b[0m\u001b[0many\u001b[0m\u001b[0;34m(\u001b[0m\u001b[0;34m)\u001b[0m \u001b[0;32melse\u001b[0m \u001b[0;34m(\u001b[0m\u001b[0mlab\u001b[0m\u001b[0;34m,\u001b[0m \u001b[0msize\u001b[0m\u001b[0;34m)\u001b[0m\u001b[0;34m\u001b[0m\u001b[0;34m\u001b[0m\u001b[0m\n\u001b[1;32m    142\u001b[0m \u001b[0;34m\u001b[0m\u001b[0m\n\u001b[0;32m--> 143\u001b[0;31m     \u001b[0mlabels\u001b[0m \u001b[0;34m=\u001b[0m \u001b[0;34m[\u001b[0m\u001b[0mensure_int64\u001b[0m\u001b[0;34m(\u001b[0m\u001b[0mx\u001b[0m\u001b[0;34m)\u001b[0m \u001b[0;32mfor\u001b[0m \u001b[0mx\u001b[0m \u001b[0;32min\u001b[0m \u001b[0mlabels\u001b[0m\u001b[0;34m]\u001b[0m\u001b[0;34m\u001b[0m\u001b[0;34m\u001b[0m\u001b[0m\n\u001b[0m\u001b[1;32m    144\u001b[0m     \u001b[0mlshape\u001b[0m \u001b[0;34m=\u001b[0m \u001b[0mlist\u001b[0m\u001b[0;34m(\u001b[0m\u001b[0mshape\u001b[0m\u001b[0;34m)\u001b[0m\u001b[0;34m\u001b[0m\u001b[0;34m\u001b[0m\u001b[0m\n\u001b[1;32m    145\u001b[0m     \u001b[0;32mif\u001b[0m \u001b[0;32mnot\u001b[0m \u001b[0mxnull\u001b[0m\u001b[0;34m:\u001b[0m\u001b[0;34m\u001b[0m\u001b[0;34m\u001b[0m\u001b[0m\n",
      "\u001b[0;32m/Library/anaconda3/lib/python3.9/site-packages/pandas/core/sorting.py\u001b[0m in \u001b[0;36m<listcomp>\u001b[0;34m(.0)\u001b[0m\n\u001b[1;32m    141\u001b[0m         \u001b[0;32mreturn\u001b[0m \u001b[0;34m(\u001b[0m\u001b[0mlab\u001b[0m \u001b[0;34m+\u001b[0m \u001b[0;36m1\u001b[0m\u001b[0;34m,\u001b[0m \u001b[0msize\u001b[0m \u001b[0;34m+\u001b[0m \u001b[0;36m1\u001b[0m\u001b[0;34m)\u001b[0m \u001b[0;32mif\u001b[0m \u001b[0;34m(\u001b[0m\u001b[0mlab\u001b[0m \u001b[0;34m==\u001b[0m \u001b[0;34m-\u001b[0m\u001b[0;36m1\u001b[0m\u001b[0;34m)\u001b[0m\u001b[0;34m.\u001b[0m\u001b[0many\u001b[0m\u001b[0;34m(\u001b[0m\u001b[0;34m)\u001b[0m \u001b[0;32melse\u001b[0m \u001b[0;34m(\u001b[0m\u001b[0mlab\u001b[0m\u001b[0;34m,\u001b[0m \u001b[0msize\u001b[0m\u001b[0;34m)\u001b[0m\u001b[0;34m\u001b[0m\u001b[0;34m\u001b[0m\u001b[0m\n\u001b[1;32m    142\u001b[0m \u001b[0;34m\u001b[0m\u001b[0m\n\u001b[0;32m--> 143\u001b[0;31m     \u001b[0mlabels\u001b[0m \u001b[0;34m=\u001b[0m \u001b[0;34m[\u001b[0m\u001b[0mensure_int64\u001b[0m\u001b[0;34m(\u001b[0m\u001b[0mx\u001b[0m\u001b[0;34m)\u001b[0m \u001b[0;32mfor\u001b[0m \u001b[0mx\u001b[0m \u001b[0;32min\u001b[0m \u001b[0mlabels\u001b[0m\u001b[0;34m]\u001b[0m\u001b[0;34m\u001b[0m\u001b[0;34m\u001b[0m\u001b[0m\n\u001b[0m\u001b[1;32m    144\u001b[0m     \u001b[0mlshape\u001b[0m \u001b[0;34m=\u001b[0m \u001b[0mlist\u001b[0m\u001b[0;34m(\u001b[0m\u001b[0mshape\u001b[0m\u001b[0;34m)\u001b[0m\u001b[0;34m\u001b[0m\u001b[0;34m\u001b[0m\u001b[0m\n\u001b[1;32m    145\u001b[0m     \u001b[0;32mif\u001b[0m \u001b[0;32mnot\u001b[0m \u001b[0mxnull\u001b[0m\u001b[0;34m:\u001b[0m\u001b[0;34m\u001b[0m\u001b[0;34m\u001b[0m\u001b[0m\n",
      "\u001b[0;31mKeyboardInterrupt\u001b[0m: "
     ]
    }
   ],
   "source": [
    "%%time\n",
    "test_withinX = utils.btest_corr_3(aa, features=feature_names, method='pearson', fdr=fdr, Type='withinX')"
   ]
  },
  {
   "cell_type": "code",
   "execution_count": 16,
   "metadata": {
    "pycharm": {
     "name": "#%%\n"
    }
   },
   "outputs": [
    {
     "data": {
      "text/html": [
       "<div>\n",
       "<style scoped>\n",
       "    .dataframe tbody tr th:only-of-type {\n",
       "        vertical-align: middle;\n",
       "    }\n",
       "\n",
       "    .dataframe tbody tr th {\n",
       "        vertical-align: top;\n",
       "    }\n",
       "\n",
       "    .dataframe thead th {\n",
       "        text-align: right;\n",
       "    }\n",
       "</style>\n",
       "<table border=\"1\" class=\"dataframe\">\n",
       "  <thead>\n",
       "    <tr style=\"text-align: right;\">\n",
       "      <th></th>\n",
       "      <th>Feature_1</th>\n",
       "      <th>Feature_2</th>\n",
       "      <th>Correlation</th>\n",
       "      <th>complete_obs</th>\n",
       "      <th>t_statistic</th>\n",
       "      <th>pval</th>\n",
       "      <th>P_adjusted</th>\n",
       "      <th>bh_fdr_threshold</th>\n",
       "      <th>Type</th>\n",
       "    </tr>\n",
       "  </thead>\n",
       "  <tbody>\n",
       "    <tr>\n",
       "      <th>4305936</th>\n",
       "      <td>P951</td>\n",
       "      <td>P4564</td>\n",
       "      <td>0.539350</td>\n",
       "      <td>88.0</td>\n",
       "      <td>5.939717</td>\n",
       "      <td>5.898084e-08</td>\n",
       "      <td>0.737113</td>\n",
       "      <td>0.994688</td>\n",
       "      <td>withinX</td>\n",
       "    </tr>\n",
       "    <tr>\n",
       "      <th>9689339</th>\n",
       "      <td>P2629</td>\n",
       "      <td>P4104</td>\n",
       "      <td>-0.528004</td>\n",
       "      <td>87.0</td>\n",
       "      <td>-5.732120</td>\n",
       "      <td>1.475354e-07</td>\n",
       "      <td>0.921912</td>\n",
       "      <td>0.994688</td>\n",
       "      <td>withinX</td>\n",
       "    </tr>\n",
       "    <tr>\n",
       "      <th>8107581</th>\n",
       "      <td>P2036</td>\n",
       "      <td>P3284</td>\n",
       "      <td>-0.515333</td>\n",
       "      <td>91.0</td>\n",
       "      <td>-5.672923</td>\n",
       "      <td>1.723654e-07</td>\n",
       "      <td>0.718045</td>\n",
       "      <td>0.994688</td>\n",
       "      <td>withinX</td>\n",
       "    </tr>\n",
       "    <tr>\n",
       "      <th>2579194</th>\n",
       "      <td>P545</td>\n",
       "      <td>P3525</td>\n",
       "      <td>0.521917</td>\n",
       "      <td>86.0</td>\n",
       "      <td>5.607817</td>\n",
       "      <td>2.557842e-07</td>\n",
       "      <td>0.799166</td>\n",
       "      <td>0.994688</td>\n",
       "      <td>withinX</td>\n",
       "    </tr>\n",
       "    <tr>\n",
       "      <th>8059819</th>\n",
       "      <td>P2020</td>\n",
       "      <td>P3050</td>\n",
       "      <td>0.507380</td>\n",
       "      <td>91.0</td>\n",
       "      <td>5.554705</td>\n",
       "      <td>2.854661e-07</td>\n",
       "      <td>0.713523</td>\n",
       "      <td>0.994688</td>\n",
       "      <td>withinX</td>\n",
       "    </tr>\n",
       "  </tbody>\n",
       "</table>\n",
       "</div>"
      ],
      "text/plain": [
       "        Feature_1 Feature_2  Correlation  complete_obs  t_statistic  \\\n",
       "4305936      P951     P4564     0.539350          88.0     5.939717   \n",
       "9689339     P2629     P4104    -0.528004          87.0    -5.732120   \n",
       "8107581     P2036     P3284    -0.515333          91.0    -5.672923   \n",
       "2579194      P545     P3525     0.521917          86.0     5.607817   \n",
       "8059819     P2020     P3050     0.507380          91.0     5.554705   \n",
       "\n",
       "                 pval  P_adjusted  bh_fdr_threshold     Type  \n",
       "4305936  5.898084e-08    0.737113          0.994688  withinX  \n",
       "9689339  1.475354e-07    0.921912          0.994688  withinX  \n",
       "8107581  1.723654e-07    0.718045          0.994688  withinX  \n",
       "2579194  2.557842e-07    0.799166          0.994688  withinX  \n",
       "8059819  2.854661e-07    0.713523          0.994688  withinX  "
      ]
     },
     "execution_count": 16,
     "metadata": {},
     "output_type": "execute_result"
    }
   ],
   "source": [
    "test_withinX.head()"
   ]
  },
  {
   "cell_type": "code",
   "execution_count": 17,
   "metadata": {
    "pycharm": {
     "name": "#%%\n"
    }
   },
   "outputs": [],
   "source": [
    "df_test = pd.DataFrame(aa.T)"
   ]
  },
  {
   "cell_type": "code",
   "execution_count": 18,
   "metadata": {
    "pycharm": {
     "name": "#%%\n"
    }
   },
   "outputs": [
    {
     "name": "stdout",
     "output_type": "stream",
     "text": [
      "CPU times: user 15min 18s, sys: 8.09 s, total: 15min 26s\n",
      "Wall time: 15min 46s\n"
     ]
    }
   ],
   "source": [
    "%%time\n",
    "cr_test = df_test.corr(method = 'spearman')"
   ]
  },
  {
   "cell_type": "code",
   "execution_count": null,
   "metadata": {
    "pycharm": {
     "name": "#%%\n"
    }
   },
   "outputs": [],
   "source": [
    "X_Y[(X_Y['Feature_1']=='X0')&(X_Y['Feature_2']=='Y66')]"
   ]
  },
  {
   "cell_type": "code",
   "execution_count": null,
   "metadata": {
    "pycharm": {
     "name": "#%%\n"
    }
   },
   "outputs": [],
   "source": [
    "%%time\n",
    "X_Y_3 = utils.btest_corr_3(dataAll, featuresX, featuresY, method=method, fdr=fdr, Type='X_Y')"
   ]
  },
  {
   "cell_type": "code",
   "execution_count": null,
   "metadata": {
    "pycharm": {
     "name": "#%%\n"
    }
   },
   "outputs": [],
   "source": [
    "for i in iRow:\n",
    "    for j in iCol:\n",
    "        if i<=j:\n",
    "            #print(i, j)\n",
    "            #print(dataAll[i])\n",
    "            X = dataAll[i]\n",
    "            Y = dataAll[j]\n",
    "            nas = np.logical_or(X != X, Y != Y)\n",
    "            not_na = sum(~nas)\n",
    "            #X = Y[~nas]\n",
    "            #Y = Y[~nas]\n",
    "            #new_X, new_Y = remove_pairs_with_a_missing(X, Y)\n",
    "            correlation = cr[i, j]\n",
    "            pval =  pv[i, j]\n",
    "            tests.append([features[i], features_y[j], pval, correlation, not_na])\n",
    "results = pd.DataFrame(tests, columns=['Feature_1','Feature_2','pval', 'Correlation', 'Not_NAs'])\n",
    "\n",
    "p_adust, p_threshold = utils.bh(results[\"pval\"].values, fdr)\n",
    "\n",
    "results[\"P_adusted\"] = p_adust\n",
    "results[\"bh_fdr_threshold\"] = p_threshold\n",
    "results['Type'] = Type\n",
    "results = results.sort_values(['pval', 'Correlation'],\n",
    "                              ascending=[True, False])"
   ]
  },
  {
   "cell_type": "code",
   "execution_count": null,
   "metadata": {
    "pycharm": {
     "name": "#%%\n"
    }
   },
   "outputs": [],
   "source": [
    "X_Y_3[(X_Y_3['Feature_1']=='X0')&(X_Y_3['Feature_2']=='Y66')]"
   ]
  },
  {
   "cell_type": "code",
   "execution_count": null,
   "metadata": {
    "pycharm": {
     "name": "#%%\n"
    }
   },
   "outputs": [],
   "source": [
    "X_Y_3.loc[:,'Type'].value_counts()"
   ]
  },
  {
   "cell_type": "code",
   "execution_count": null,
   "metadata": {
    "pycharm": {
     "name": "#%%\n"
    }
   },
   "outputs": [],
   "source": [
    "# creating the complete dataset\n",
    "#dataAll_df = pd.DataFrame(dataAll.T, columns=featuresAll)"
   ]
  },
  {
   "cell_type": "code",
   "execution_count": null,
   "metadata": {
    "pycharm": {
     "name": "#%%\n"
    }
   },
   "outputs": [],
   "source": [
    "X_Y_3.loc[:,'Type'] = X_Y_3.Feature_1.str[-1]+X_Y_3.Feature_2.str[-2:]"
   ]
  },
  {
   "cell_type": "code",
   "execution_count": null,
   "metadata": {
    "pycharm": {
     "name": "#%%\n"
    }
   },
   "outputs": [],
   "source": [
    "X_Y_3.head()"
   ]
  },
  {
   "cell_type": "code",
   "execution_count": null,
   "metadata": {
    "pycharm": {
     "name": "#%%\n"
    }
   },
   "outputs": [],
   "source": [
    "dataAll = dataX\n",
    "features = featuresX\n",
    "features_y = None\n",
    "Type = 'withinX'\n",
    "iRow = list(range(0, len(features)))\n",
    "if Type == 'X_Y':\n",
    "    iCol = list(range(len(features), len(features)+len(features_y)-1))\n",
    "    features_y = features + features_y\n",
    "else:\n",
    "    features_y = features\n",
    "    iCol = list(range(len(features)))\n",
    "tests = []\n",
    "\n",
    "# creating the complete dataset\n",
    "dataAll2 = pd.DataFrame(dataAll.T, columns=features_y)\n",
    "cr = dataAll2.corr(method=method)\n",
    "\n",
    "# calculating t-statistics, based on the correlations\n",
    "t_stat = (cr*(dataAll2.shape[0]-2)**.5)/(1-cr**2)**.5\n",
    "\n",
    "# calculating p-values based on the t-statistics\n",
    "pv = 2 * (1 - t.cdf(abs(t_stat), df=dataAll2.shape[0]-2))\n",
    "#rho_long_format = cr.stack().reset_index().rename(columns={'level_0':'Feature_1','level_1':'Feature_2', 0:'Correlation'})\n",
    "#pval_long_format = pv.stack().reset_index().rename(columns={'level_0':'Feature_1','level_1':'Feature_2', 0:'pval'})\n",
    "#results = pd.concat([pval_long_format, rho_long_format[\"Correlation\"]], axis=1)\n"
   ]
  },
  {
   "cell_type": "code",
   "execution_count": null,
   "metadata": {
    "pycharm": {
     "name": "#%%\n"
    }
   },
   "outputs": [],
   "source": [
    "cr = cr.to_numpy()\n",
    "#pv = pv.to_numpy()"
   ]
  },
  {
   "cell_type": "code",
   "execution_count": null,
   "metadata": {
    "pycharm": {
     "name": "#%%\n"
    }
   },
   "outputs": [],
   "source": [
    "for i in iRow:\n",
    "    for j in iCol:\n",
    "        if i<=j:\n",
    "            #print(i, j)\n",
    "            #print(dataAll[i])\n",
    "            X = dataAll[i]\n",
    "            Y = dataAll[j]\n",
    "            nas = np.logical_or(X != X, Y != Y)\n",
    "            not_na = sum(~nas)\n",
    "            #X = Y[~nas]\n",
    "            #Y = Y[~nas]\n",
    "            #new_X, new_Y = remove_pairs_with_a_missing(X, Y)\n",
    "            correlation = cr[i, j]\n",
    "            pval =  pv[i, j]\n",
    "            tests.append([features[i], features_y[j], pval, correlation, not_na])\n",
    "results = pd.DataFrame(tests, columns=['Feature_1','Feature_2','pval', 'Correlation', 'Not_NAs'])\n",
    "\n",
    "p_adust, p_threshold = bh(results[\"pval\"].values, fdr)\n",
    "\n",
    "results[\"P_adusted\"] = p_adust\n",
    "results[\"bh_fdr_threshold\"] = p_threshold\n",
    "results['Type'] = Type\n",
    "results = results.sort_values(['pval', 'Correlation'],\n",
    "                              ascending=[True, False])"
   ]
  },
  {
   "cell_type": "code",
   "execution_count": null,
   "metadata": {
    "pycharm": {
     "name": "#%%\n"
    }
   },
   "outputs": [],
   "source": [
    "# feature names for the complete dataset\n",
    "featuresAll = featuresX.copy()\n",
    "featuresAll.extend(featuresY)"
   ]
  },
  {
   "cell_type": "code",
   "execution_count": null,
   "metadata": {
    "pycharm": {
     "name": "#%%\n"
    }
   },
   "outputs": [],
   "source": [
    "results"
   ]
  },
  {
   "cell_type": "code",
   "execution_count": null,
   "metadata": {
    "pycharm": {
     "name": "#%%\n"
    }
   },
   "outputs": [],
   "source": [
    "# creating the complete dataset\n",
    "dataAll_df = pd.DataFrame(dataAll.T, columns=featuresAll)"
   ]
  },
  {
   "cell_type": "code",
   "execution_count": null,
   "metadata": {
    "pycharm": {
     "name": "#%%\n"
    }
   },
   "outputs": [],
   "source": [
    "%%time\n",
    "# correlation\n",
    "cr = dataAll_df.corr(method='pearson')\n",
    "\n",
    "# calculaing t-statistics, based on the correlations\n",
    "t_stat = (cr*(dataAll_df.shape[0]-2)**.5)/(1-cr**2)**.5\n",
    "\n",
    "# calculating p-values based on the t-statistics\n",
    "pv = 2 * (1 - t.cdf(abs(t_stat), df=dataAll_df.shape[0]-2))"
   ]
  },
  {
   "cell_type": "code",
   "execution_count": null,
   "metadata": {
    "pycharm": {
     "name": "#%%\n"
    }
   },
   "outputs": [],
   "source": [
    "cr"
   ]
  },
  {
   "cell_type": "code",
   "execution_count": null,
   "metadata": {
    "pycharm": {
     "name": "#%%\n"
    }
   },
   "outputs": [],
   "source": [
    "%%time\n",
    "# correlation\n",
    "cr = dataAll_df.corr(method='pearson')\n",
    "\n",
    "# calculaing t-statistics, based on the correlations\n",
    "t_stat = (cr*(dataAll_df.shape[0]-2)**.5)/(1-cr**2)**.5\n",
    "\n",
    "# calculating p-values based on the t-statistics\n",
    "pv = 2 * (1 - t.cdf(abs(t_stat), df=dataAll_df.shape[0]-2))"
   ]
  },
  {
   "cell_type": "code",
   "execution_count": null,
   "metadata": {
    "pycharm": {
     "name": "#%%\n"
    }
   },
   "outputs": [],
   "source": [
    "X_Y"
   ]
  },
  {
   "cell_type": "code",
   "execution_count": null,
   "metadata": {
    "pycharm": {
     "name": "#%%\n"
    }
   },
   "outputs": [],
   "source": [
    "within_X"
   ]
  },
  {
   "cell_type": "code",
   "execution_count": null,
   "metadata": {
    "pycharm": {
     "name": "#%%\n"
    }
   },
   "outputs": [],
   "source": [
    "within_Y"
   ]
  },
  {
   "cell_type": "code",
   "execution_count": null,
   "metadata": {
    "pycharm": {
     "name": "#%%\n"
    }
   },
   "outputs": [],
   "source": [
    "X_Y.pval"
   ]
  },
  {
   "cell_type": "code",
   "execution_count": null,
   "metadata": {
    "pycharm": {
     "name": "#%%\n"
    }
   },
   "outputs": [],
   "source": [
    "outputpath = \"/Users/rah/Documents/omicsEye/btest/demo/btest_output\"\n",
    "os.makedirs(outputpath, exist_ok=True)\n",
    "X_Y.to_csv(outputpath + '/X_Y.tsv', sep=\"\\t\")\n",
    "#rho_X = rho.iloc[0:500, 0:500]\n",
    "#rho_X.to_csv(outputpath + '/simtable_X.tsv', sep=\"\\t\")\n",
    "#rho_X_Y.to_csv(outputpath + '/simtable.tsv', sep=\"\\t\")\n",
    "within_X.to_csv(outputpath + '/within_X.tsv', sep=\"\\t\")\n",
    "within_Y.to_csv(outputpath + '/within_Y.tsv', sep=\"\\t\")"
   ]
  },
  {
   "cell_type": "code",
   "execution_count": null,
   "metadata": {
    "pycharm": {
     "name": "#%%\n"
    }
   },
   "outputs": [],
   "source": [
    "#associations = blockplot.load_associations(path = outputpath + '/X_Y.tsv')\n",
    "associations = blockplot.load_associations('/Users/rah/Dropbox/Ali-Docs/Research_docs/Projects/VastBiome/analysis/btest_bgc_mgx_replaceNA_FALSE_cov_25_measure_rpkg_mbx_pair_spearman_new/X_Y.tsv')"
   ]
  },
  {
   "cell_type": "code",
   "execution_count": null,
   "metadata": {
    "pycharm": {
     "name": "#%%\n"
    }
   },
   "outputs": [],
   "source": [
    "outputpath"
   ]
  },
  {
   "cell_type": "code",
   "execution_count": null,
   "metadata": {
    "pycharm": {
     "name": "#%%\n"
    }
   },
   "outputs": [],
   "source": [
    "associations"
   ]
  },
  {
   "cell_type": "code",
   "execution_count": null,
   "metadata": {
    "pycharm": {
     "name": "#%%\n"
    }
   },
   "outputs": [],
   "source": [
    "#simtable = blockplot.load_order_table(outputpath + '/simtable.tsv', associations)\n",
    "simtable = blockplot.load_order_table('/Users/rah/Dropbox/Ali-Docs/Research_docs/Projects/VastBiome/analysis/btest_bgc_mgx_replaceNA_FALSE_cov_25_measure_rpkg_mbx_pair_spearman_new//simtable.tsv', associations)"
   ]
  },
  {
   "cell_type": "code",
   "execution_count": null,
   "metadata": {
    "pycharm": {
     "name": "#%%\n"
    }
   },
   "outputs": [],
   "source": [
    "X_Y"
   ]
  },
  {
   "cell_type": "code",
   "execution_count": null,
   "metadata": {
    "pycharm": {
     "name": "#%%\n"
    }
   },
   "outputs": [],
   "source": [
    "blockplot.plot(\n",
    "    simtable,\n",
    "    associations,\n",
    "    cmap=\"RdBu_r\",\n",
    "    mask=False,\n",
    "    axlabels=[\"\",\"\"],\n",
    "    outfile=\"/Users/rah/Documents/omicsEye/btest/demo/btest_output/blockplot.pdf\",\n",
    "    similarity=\"Spearman\"\n",
    ")"
   ]
  },
  {
   "cell_type": "code",
   "execution_count": null,
   "metadata": {
    "pycharm": {
     "name": "#%%\n"
    }
   },
   "outputs": [],
   "source": []
  }
 ],
 "metadata": {
  "accelerator": "TPU",
  "colab": {
   "collapsed_sections": [
    "yfILUg1HmAkM"
   ],
   "machine_shape": "hm",
   "name": "15-Ensemble-Evaluation.ipynb",
   "provenance": []
  },
  "kernelspec": {
   "display_name": "Python 3 (ipykernel)",
   "language": "python",
   "name": "python3"
  },
  "language_info": {
   "codemirror_mode": {
    "name": "ipython",
    "version": 3
   },
   "file_extension": ".py",
   "mimetype": "text/x-python",
   "name": "python",
   "nbconvert_exporter": "python",
   "pygments_lexer": "ipython3",
   "version": "3.8.13"
  }
 },
 "nbformat": 4,
 "nbformat_minor": 1
}
