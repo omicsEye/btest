{
 "cells": [
  {
   "cell_type": "markdown",
   "metadata": {
    "colab_type": "text",
    "id": "AmPqBsydh5J-"
   },
   "source": [
    "# *btest* initial steps\n",
    "\n",
    "step-by-step"
   ]
  },
  {
   "cell_type": "code",
   "execution_count": 1,
   "metadata": {},
   "outputs": [],
   "source": [
    "import argparse\n",
    "import csv\n",
    "import itertools\n",
    "import logging\n",
    "import os\n",
    "import sys\n",
    "import shutil\n",
    "import time\n",
    "import math\n",
    "import random\n",
    "from scipy.stats import pearsonr\n",
    "import numpy as np\n",
    "import pandas as pd\n",
    "import math\n",
    "from scipy.stats import spearmanr\n",
    "from btest import config\n",
    "from btest import utils\n",
    "from btest import blockplot\n",
    "from scipy.stats import t"
   ]
  },
  {
   "cell_type": "code",
   "execution_count": 2,
   "metadata": {},
   "outputs": [],
   "source": [
    "method = 'spearman'\n",
    "min_var = 0.0\n",
    "fdr =0.1"
   ]
  },
  {
   "cell_type": "code",
   "execution_count": 3,
   "metadata": {},
   "outputs": [
    {
     "name": "stdout",
     "output_type": "stream",
     "text": [
      "Dataset X dimension  after cleaning:  (100, 50)\n",
      "Dataset Y dimension  after cleaning:  (100, 50)\n"
     ]
    }
   ],
   "source": [
    "dataX , dataY, featuresX, featuresY  = utils.readData('../demo/X_dataset.txt', '../demo/Y_dataset.txt', min_var=min_var)"
   ]
  },
  {
   "cell_type": "code",
   "execution_count": 4,
   "metadata": {},
   "outputs": [
    {
     "name": "stdout",
     "output_type": "stream",
     "text": [
      "CPU times: user 7.61 s, sys: 63.3 ms, total: 7.67 s\n",
      "Wall time: 7.89 s\n"
     ]
    }
   ],
   "source": [
    "%%time\n",
    "within_X = utils.btest_corr(dataX, featuresX, method=method, fdr=fdr, Type='withinX')\n",
    "within_Y  = utils.btest_corr(dataY, featuresY, method=method, fdr=fdr, Type='withinY')\n",
    "dataAll = np.concatenate((dataX, dataY), axis=0)\n",
    "X_Y = utils.btest_corr(dataAll, featuresX, featuresY, method=method, fdr=fdr, Type='X_Y')"
   ]
  },
  {
   "cell_type": "code",
   "execution_count": 5,
   "outputs": [
    {
     "data": {
      "text/plain": "     Feature_1 Feature_2      pval  Correlation  Not_NAs   P_adusted  \\\n165         X1       Y66  0.021416     0.327972       49  212.013466   \n174         X1       Y75  0.033062     0.305052       49  163.658486   \n2747       X27       Y74  0.036443     0.296654       50  120.262541   \n173         X1       Y74  0.040235     0.294122       49   99.582635   \n1526       X15       Y41  0.042550     0.287992       50   84.249800   \n\n      bh_fdr_threshold Type  \n165            0.65493  X_Y  \n174            0.65493  X_Y  \n2747           0.65493  X_Y  \n173            0.65493  X_Y  \n1526           0.65493  X_Y  ",
      "text/html": "<div>\n<style scoped>\n    .dataframe tbody tr th:only-of-type {\n        vertical-align: middle;\n    }\n\n    .dataframe tbody tr th {\n        vertical-align: top;\n    }\n\n    .dataframe thead th {\n        text-align: right;\n    }\n</style>\n<table border=\"1\" class=\"dataframe\">\n  <thead>\n    <tr style=\"text-align: right;\">\n      <th></th>\n      <th>Feature_1</th>\n      <th>Feature_2</th>\n      <th>pval</th>\n      <th>Correlation</th>\n      <th>Not_NAs</th>\n      <th>P_adusted</th>\n      <th>bh_fdr_threshold</th>\n      <th>Type</th>\n    </tr>\n  </thead>\n  <tbody>\n    <tr>\n      <th>165</th>\n      <td>X1</td>\n      <td>Y66</td>\n      <td>0.021416</td>\n      <td>0.327972</td>\n      <td>49</td>\n      <td>212.013466</td>\n      <td>0.65493</td>\n      <td>X_Y</td>\n    </tr>\n    <tr>\n      <th>174</th>\n      <td>X1</td>\n      <td>Y75</td>\n      <td>0.033062</td>\n      <td>0.305052</td>\n      <td>49</td>\n      <td>163.658486</td>\n      <td>0.65493</td>\n      <td>X_Y</td>\n    </tr>\n    <tr>\n      <th>2747</th>\n      <td>X27</td>\n      <td>Y74</td>\n      <td>0.036443</td>\n      <td>0.296654</td>\n      <td>50</td>\n      <td>120.262541</td>\n      <td>0.65493</td>\n      <td>X_Y</td>\n    </tr>\n    <tr>\n      <th>173</th>\n      <td>X1</td>\n      <td>Y74</td>\n      <td>0.040235</td>\n      <td>0.294122</td>\n      <td>49</td>\n      <td>99.582635</td>\n      <td>0.65493</td>\n      <td>X_Y</td>\n    </tr>\n    <tr>\n      <th>1526</th>\n      <td>X15</td>\n      <td>Y41</td>\n      <td>0.042550</td>\n      <td>0.287992</td>\n      <td>50</td>\n      <td>84.249800</td>\n      <td>0.65493</td>\n      <td>X_Y</td>\n    </tr>\n  </tbody>\n</table>\n</div>"
     },
     "execution_count": 5,
     "metadata": {},
     "output_type": "execute_result"
    }
   ],
   "source": [
    "X_Y.head()"
   ],
   "metadata": {
    "collapsed": false
   }
  },
  {
   "cell_type": "code",
   "execution_count": 6,
   "outputs": [
    {
     "data": {
      "text/plain": "   Feature_1 Feature_2      pval  Correlation  Not_NAs  P_adusted  \\\n66        X0       Y66  0.119186     0.223218       50   5.021027   \n\n    bh_fdr_threshold Type  \n66           0.65493  X_Y  ",
      "text/html": "<div>\n<style scoped>\n    .dataframe tbody tr th:only-of-type {\n        vertical-align: middle;\n    }\n\n    .dataframe tbody tr th {\n        vertical-align: top;\n    }\n\n    .dataframe thead th {\n        text-align: right;\n    }\n</style>\n<table border=\"1\" class=\"dataframe\">\n  <thead>\n    <tr style=\"text-align: right;\">\n      <th></th>\n      <th>Feature_1</th>\n      <th>Feature_2</th>\n      <th>pval</th>\n      <th>Correlation</th>\n      <th>Not_NAs</th>\n      <th>P_adusted</th>\n      <th>bh_fdr_threshold</th>\n      <th>Type</th>\n    </tr>\n  </thead>\n  <tbody>\n    <tr>\n      <th>66</th>\n      <td>X0</td>\n      <td>Y66</td>\n      <td>0.119186</td>\n      <td>0.223218</td>\n      <td>50</td>\n      <td>5.021027</td>\n      <td>0.65493</td>\n      <td>X_Y</td>\n    </tr>\n  </tbody>\n</table>\n</div>"
     },
     "execution_count": 6,
     "metadata": {},
     "output_type": "execute_result"
    }
   ],
   "source": [
    "X_Y[(X_Y['Feature_1']=='X0')&(X_Y['Feature_2']=='Y66')]"
   ],
   "metadata": {
    "collapsed": false
   }
  },
  {
   "cell_type": "code",
   "execution_count": 7,
   "metadata": {},
   "outputs": [
    {
     "name": "stdout",
     "output_type": "stream",
     "text": [
      "correlation time:  0.05562281608581543\n",
      "obs count time:  0.0037539005279541016\n",
      "long transform time:  0.013448953628540039\n",
      "p-value time:  0.004818916320800781\n",
      "bh time:  0.0056650638580322266\n",
      "names time:  0.02114105224609375\n",
      "sort time:  0.005999088287353516\n",
      "CPU times: user 108 ms, sys: 4 ms, total: 112 ms\n",
      "Wall time: 113 ms\n"
     ]
    }
   ],
   "source": [
    "%%time\n",
    "X_Y_3 = utils.btest_corr_3(dataAll, featuresX, featuresY, method=method, fdr=fdr, Type='X_Y')"
   ]
  },
  {
   "cell_type": "code",
   "execution_count": null,
   "outputs": [],
   "source": [
    "X_Y_3.head()"
   ],
   "metadata": {
    "collapsed": false
   }
  },
  {
   "cell_type": "code",
   "execution_count": null,
   "outputs": [],
   "source": [
    "X_Y_3[(X_Y_3['Feature_1']=='X0')&(X_Y_3['Feature_2']=='Y66')]"
   ],
   "metadata": {
    "collapsed": false
   }
  },
  {
   "cell_type": "code",
   "execution_count": null,
   "outputs": [],
   "source": [
    "X_Y_3.loc[:,'Type'].value_counts()"
   ],
   "metadata": {
    "collapsed": false
   }
  },
  {
   "cell_type": "code",
   "execution_count": null,
   "outputs": [],
   "source": [
    "X_Y[(X_Y['Feature_1']=='X0')&(X_Y['Feature_2']=='Y66')]"
   ],
   "metadata": {
    "collapsed": false
   }
  },
  {
   "cell_type": "code",
   "execution_count": null,
   "outputs": [],
   "source": [
    "t1 = time.time()\n",
    "for i in range(1000):\n",
    "    i\n",
    "t2 = time.time()\n",
    "print(t2-t1)"
   ],
   "metadata": {
    "collapsed": false
   }
  },
  {
   "cell_type": "code",
   "execution_count": 13,
   "outputs": [],
   "source": [
    "nrow = 5000\n",
    "ncol = 100\n",
    "aa = np.array(np.random.random(size=nrow*ncol), dtype=np.float32)\n",
    "aa[np.random.randint(0, nrow*ncol, size = int(nrow*ncol/20))]=np.nan\n",
    "aa = aa.reshape((nrow,ncol))\n",
    "feature_names = ['P'+str(i) for i in range(nrow)]"
   ],
   "metadata": {
    "collapsed": false
   }
  },
  {
   "cell_type": "code",
   "execution_count": 14,
   "outputs": [
    {
     "name": "stdout",
     "output_type": "stream",
     "text": [
      "correlation time:  478.3922049999237\n",
      "obs count time:  1.197300910949707\n",
      "long transform time:  2.3605260848999023\n",
      "p-value time:  2.89923095703125\n",
      "bh time:  4.529063940048218\n",
      "names time:  0.05546426773071289\n",
      "sort time:  5.369394063949585\n",
      "CPU times: user 8min 12s, sys: 3.27 s, total: 8min 15s\n",
      "Wall time: 8min 15s\n"
     ]
    }
   ],
   "source": [
    "%%time\n",
    "test_withinX = utils.btest_corr_3(aa, features=feature_names, method=method, fdr=fdr, Type='withinX')"
   ],
   "metadata": {
    "collapsed": false
   }
  },
  {
   "cell_type": "code",
   "execution_count": 15,
   "outputs": [
    {
     "name": "stdout",
     "output_type": "stream",
     "text": [
      "correlation time:  3.5690929889678955\n",
      "obs count time:  1.1708710193634033\n",
      "long transform time:  2.392249822616577\n",
      "p-value time:  2.8019051551818848\n",
      "bh time:  4.636229991912842\n",
      "names time:  0.03536796569824219\n",
      "sort time:  20.614816904067993\n",
      "CPU times: user 33.7 s, sys: 3.51 s, total: 37.2 s\n",
      "Wall time: 35.8 s\n"
     ]
    }
   ],
   "source": [
    "%%time\n",
    "test_withinX = utils.btest_corr_3(aa, features=feature_names, method='pearson', fdr=fdr, Type='withinX')"
   ],
   "metadata": {
    "collapsed": false
   }
  },
  {
   "cell_type": "code",
   "execution_count": 16,
   "outputs": [
    {
     "data": {
      "text/plain": "         Feature_1 Feature_2  Correlation  complete_obs  t_statistic  \\\n9012470      P2359     P3450    -0.562520          87.0    -6.272721   \n10149744     P2832     P4105    -0.534854          91.0    -5.971757   \n8195124      P2066     P2402     0.532171          92.0     5.963147   \n1114307       P228      P642     0.528063          91.0     5.866354   \n5770945      P1331     P3723     0.518548          93.0     5.785201   \n\n                  pval  P_adjusted  bh_fdr_threshold     Type  \n9012470   1.425335e-08    0.178131          0.876291  withinX  \n10149744  4.723838e-08    0.295181          0.876291  withinX  \n8195124   4.776023e-08    0.198961          0.876291  withinX  \n1114307   7.479566e-08    0.233690          0.876291  withinX  \n5770945   1.013234e-07    0.253258          0.876291  withinX  ",
      "text/html": "<div>\n<style scoped>\n    .dataframe tbody tr th:only-of-type {\n        vertical-align: middle;\n    }\n\n    .dataframe tbody tr th {\n        vertical-align: top;\n    }\n\n    .dataframe thead th {\n        text-align: right;\n    }\n</style>\n<table border=\"1\" class=\"dataframe\">\n  <thead>\n    <tr style=\"text-align: right;\">\n      <th></th>\n      <th>Feature_1</th>\n      <th>Feature_2</th>\n      <th>Correlation</th>\n      <th>complete_obs</th>\n      <th>t_statistic</th>\n      <th>pval</th>\n      <th>P_adjusted</th>\n      <th>bh_fdr_threshold</th>\n      <th>Type</th>\n    </tr>\n  </thead>\n  <tbody>\n    <tr>\n      <th>9012470</th>\n      <td>P2359</td>\n      <td>P3450</td>\n      <td>-0.562520</td>\n      <td>87.0</td>\n      <td>-6.272721</td>\n      <td>1.425335e-08</td>\n      <td>0.178131</td>\n      <td>0.876291</td>\n      <td>withinX</td>\n    </tr>\n    <tr>\n      <th>10149744</th>\n      <td>P2832</td>\n      <td>P4105</td>\n      <td>-0.534854</td>\n      <td>91.0</td>\n      <td>-5.971757</td>\n      <td>4.723838e-08</td>\n      <td>0.295181</td>\n      <td>0.876291</td>\n      <td>withinX</td>\n    </tr>\n    <tr>\n      <th>8195124</th>\n      <td>P2066</td>\n      <td>P2402</td>\n      <td>0.532171</td>\n      <td>92.0</td>\n      <td>5.963147</td>\n      <td>4.776023e-08</td>\n      <td>0.198961</td>\n      <td>0.876291</td>\n      <td>withinX</td>\n    </tr>\n    <tr>\n      <th>1114307</th>\n      <td>P228</td>\n      <td>P642</td>\n      <td>0.528063</td>\n      <td>91.0</td>\n      <td>5.866354</td>\n      <td>7.479566e-08</td>\n      <td>0.233690</td>\n      <td>0.876291</td>\n      <td>withinX</td>\n    </tr>\n    <tr>\n      <th>5770945</th>\n      <td>P1331</td>\n      <td>P3723</td>\n      <td>0.518548</td>\n      <td>93.0</td>\n      <td>5.785201</td>\n      <td>1.013234e-07</td>\n      <td>0.253258</td>\n      <td>0.876291</td>\n      <td>withinX</td>\n    </tr>\n  </tbody>\n</table>\n</div>"
     },
     "execution_count": 16,
     "metadata": {},
     "output_type": "execute_result"
    }
   ],
   "source": [
    "test_withinX.head()"
   ],
   "metadata": {
    "collapsed": false
   }
  },
  {
   "cell_type": "code",
   "execution_count": 10,
   "outputs": [],
   "source": [
    "df_test = pd.DataFrame(aa.T)"
   ],
   "metadata": {
    "collapsed": false
   }
  },
  {
   "cell_type": "code",
   "execution_count": 12,
   "outputs": [
    {
     "name": "stdout",
     "output_type": "stream",
     "text": [
      "CPU times: user 19 s, sys: 40.1 ms, total: 19.1 s\n",
      "Wall time: 19.2 s\n"
     ]
    }
   ],
   "source": [
    "%%time\n",
    "cr_test = df_test.corr(method = 'spearman')"
   ],
   "metadata": {
    "collapsed": false
   }
  },
  {
   "cell_type": "code",
   "execution_count": null,
   "metadata": {},
   "outputs": [],
   "source": [
    "dataAll = dataX\n",
    "features = featuresX\n",
    "features_y = None\n",
    "Type = 'withinX'\n",
    "iRow = list(range(0, len(features)))\n",
    "if Type == 'X_Y':\n",
    "    iCol = list(range(len(features), len(features)+len(features_y)-1))\n",
    "    features_y = features + features_y\n",
    "else:\n",
    "    features_y = features\n",
    "    iCol = list(range(len(features)))\n",
    "tests = []\n",
    "\n",
    "# creating the complete dataset\n",
    "dataAll2 = pd.DataFrame(dataAll.T, columns=features_y)\n",
    "cr = dataAll2.corr(method=method)\n",
    "\n",
    "# calculating t-statistics, based on the correlations\n",
    "t_stat = (cr*(dataAll2.shape[0]-2)**.5)/(1-cr**2)**.5\n",
    "\n",
    "# calculating p-values based on the t-statistics\n",
    "pv = 2 * (1 - t.cdf(abs(t_stat), df=dataAll2.shape[0]-2))\n",
    "#rho_long_format = cr.stack().reset_index().rename(columns={'level_0':'Feature_1','level_1':'Feature_2', 0:'Correlation'})\n",
    "#pval_long_format = pv.stack().reset_index().rename(columns={'level_0':'Feature_1','level_1':'Feature_2', 0:'pval'})\n",
    "#results = pd.concat([pval_long_format, rho_long_format[\"Correlation\"]], axis=1)\n"
   ]
  },
  {
   "cell_type": "code",
   "execution_count": null,
   "metadata": {},
   "outputs": [],
   "source": [
    "cr = cr.to_numpy()\n",
    "#pv = pv.to_numpy()"
   ]
  },
  {
   "cell_type": "code",
   "execution_count": null,
   "metadata": {},
   "outputs": [],
   "source": [
    "for i in iRow:\n",
    "    for j in iCol:\n",
    "        if i<=j:\n",
    "            #print(i, j)\n",
    "            #print(dataAll[i])\n",
    "            X = dataAll[i]\n",
    "            Y = dataAll[j]\n",
    "            nas = np.logical_or(X != X, Y != Y)\n",
    "            not_na = sum(~nas)\n",
    "            #X = Y[~nas]\n",
    "            #Y = Y[~nas]\n",
    "            #new_X, new_Y = remove_pairs_with_a_missing(X, Y)\n",
    "            correlation = cr[i, j]\n",
    "            pval =  pv[i, j]\n",
    "            tests.append([features[i], features_y[j], pval, correlation, not_na])\n",
    "results = pd.DataFrame(tests, columns=['Feature_1','Feature_2','pval', 'Correlation', 'Not_NAs'])\n",
    "\n",
    "p_adust, p_threshold = bh(results[\"pval\"].values, fdr)\n",
    "\n",
    "results[\"P_adusted\"] = p_adust\n",
    "results[\"bh_fdr_threshold\"] = p_threshold\n",
    "results['Type'] = Type\n",
    "results = results.sort_values(['pval', 'Correlation'],\n",
    "                              ascending=[True, False])"
   ]
  },
  {
   "cell_type": "code",
   "execution_count": null,
   "metadata": {},
   "outputs": [],
   "source": [
    "# feature names for the complete dataset\n",
    "featuresAll = featuresX.copy()\n",
    "featuresAll.extend(featuresY)"
   ]
  },
  {
   "cell_type": "code",
   "execution_count": null,
   "metadata": {},
   "outputs": [],
   "source": [
    "results"
   ]
  },
  {
   "cell_type": "code",
   "execution_count": null,
   "metadata": {},
   "outputs": [],
   "source": [
    "# creating the complete dataset\n",
    "dataAll_df = pd.DataFrame(dataAll.T, columns=featuresAll)"
   ]
  },
  {
   "cell_type": "code",
   "execution_count": null,
   "metadata": {},
   "outputs": [],
   "source": [
    "%%time\n",
    "# correlation\n",
    "cr = dataAll_df.corr(method='pearson')\n",
    "\n",
    "# calculaing t-statistics, based on the correlations\n",
    "t_stat = (cr*(dataAll_df.shape[0]-2)**.5)/(1-cr**2)**.5\n",
    "\n",
    "# calculating p-values based on the t-statistics\n",
    "pv = 2 * (1 - t.cdf(abs(t_stat), df=dataAll_df.shape[0]-2))"
   ]
  },
  {
   "cell_type": "code",
   "execution_count": null,
   "metadata": {},
   "outputs": [],
   "source": [
    "cr"
   ]
  },
  {
   "cell_type": "code",
   "execution_count": null,
   "metadata": {},
   "outputs": [],
   "source": [
    "%%time\n",
    "# correlation\n",
    "cr = dataAll_df.corr(method='pearson')\n",
    "\n",
    "# calculaing t-statistics, based on the correlations\n",
    "t_stat = (cr*(dataAll_df.shape[0]-2)**.5)/(1-cr**2)**.5\n",
    "\n",
    "# calculating p-values based on the t-statistics\n",
    "pv = 2 * (1 - t.cdf(abs(t_stat), df=dataAll_df.shape[0]-2))"
   ]
  },
  {
   "cell_type": "code",
   "execution_count": null,
   "metadata": {},
   "outputs": [],
   "source": [
    "X_Y"
   ]
  },
  {
   "cell_type": "code",
   "execution_count": null,
   "metadata": {},
   "outputs": [],
   "source": [
    "within_X"
   ]
  },
  {
   "cell_type": "code",
   "execution_count": null,
   "metadata": {},
   "outputs": [],
   "source": [
    "within_Y"
   ]
  },
  {
   "cell_type": "code",
   "execution_count": null,
   "metadata": {},
   "outputs": [],
   "source": [
    "X_Y.pval"
   ]
  },
  {
   "cell_type": "code",
   "execution_count": null,
   "metadata": {},
   "outputs": [],
   "source": [
    "outputpath = \"/Users/rah/Documents/omicsEye/btest/demo/btest_output\"\n",
    "os.makedirs(outputpath, exist_ok=True)\n",
    "X_Y.to_csv(outputpath + '/X_Y.tsv', sep=\"\\t\")\n",
    "#rho_X = rho.iloc[0:500, 0:500]\n",
    "#rho_X.to_csv(outputpath + '/simtable_X.tsv', sep=\"\\t\")\n",
    "#rho_X_Y.to_csv(outputpath + '/simtable.tsv', sep=\"\\t\")\n",
    "within_X.to_csv(outputpath + '/within_X.tsv', sep=\"\\t\")\n",
    "within_Y.to_csv(outputpath + '/within_Y.tsv', sep=\"\\t\")"
   ]
  },
  {
   "cell_type": "code",
   "execution_count": null,
   "metadata": {},
   "outputs": [],
   "source": [
    "#associations = blockplot.load_associations(path = outputpath + '/X_Y.tsv')\n",
    "associations = blockplot.load_associations('/Users/rah/Dropbox/Ali-Docs/Research_docs/Projects/VastBiome/analysis/btest_bgc_mgx_replaceNA_FALSE_cov_25_measure_rpkg_mbx_pair_spearman_new/X_Y.tsv')"
   ]
  },
  {
   "cell_type": "code",
   "execution_count": null,
   "metadata": {},
   "outputs": [],
   "source": [
    "outputpath"
   ]
  },
  {
   "cell_type": "code",
   "execution_count": null,
   "metadata": {},
   "outputs": [],
   "source": [
    "associations"
   ]
  },
  {
   "cell_type": "code",
   "execution_count": null,
   "metadata": {},
   "outputs": [],
   "source": [
    "#simtable = blockplot.load_order_table(outputpath + '/simtable.tsv', associations)\n",
    "simtable = blockplot.load_order_table('/Users/rah/Dropbox/Ali-Docs/Research_docs/Projects/VastBiome/analysis/btest_bgc_mgx_replaceNA_FALSE_cov_25_measure_rpkg_mbx_pair_spearman_new//simtable.tsv', associations)"
   ]
  },
  {
   "cell_type": "code",
   "execution_count": null,
   "metadata": {},
   "outputs": [],
   "source": [
    "X_Y"
   ]
  },
  {
   "cell_type": "code",
   "execution_count": null,
   "metadata": {},
   "outputs": [],
   "source": [
    "blockplot.plot(\n",
    "    simtable,\n",
    "    associations,\n",
    "    cmap=\"RdBu_r\",\n",
    "    mask=False,\n",
    "    axlabels=[\"\",\"\"],\n",
    "    outfile=\"/Users/rah/Documents/omicsEye/btest/demo/btest_output/blockplot.pdf\",\n",
    "    similarity=\"Spearman\"\n",
    ")"
   ]
  },
  {
   "cell_type": "code",
   "execution_count": null,
   "metadata": {},
   "outputs": [],
   "source": []
  }
 ],
 "metadata": {
  "accelerator": "TPU",
  "colab": {
   "collapsed_sections": [
    "yfILUg1HmAkM"
   ],
   "machine_shape": "hm",
   "name": "15-Ensemble-Evaluation.ipynb",
   "provenance": []
  },
  "kernelspec": {
   "display_name": "Python 3 (ipykernel)",
   "language": "python",
   "name": "python3"
  },
  "language_info": {
   "codemirror_mode": {
    "name": "ipython",
    "version": 3
   },
   "file_extension": ".py",
   "mimetype": "text/x-python",
   "name": "python",
   "nbconvert_exporter": "python",
   "pygments_lexer": "ipython3",
   "version": "3.8.13"
  }
 },
 "nbformat": 4,
 "nbformat_minor": 1
}
